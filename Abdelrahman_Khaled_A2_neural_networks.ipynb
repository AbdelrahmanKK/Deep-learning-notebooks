{
  "cells": [
    {
      "cell_type": "markdown",
      "metadata": {
        "id": "view-in-github",
        "colab_type": "text"
      },
      "source": [
        "<a href=\"https://colab.research.google.com/github/AbdelrahmanKK/Deep-learning-notebooks/blob/main/Abdelrahman_Khaled_A2_neural_networks.ipynb\" target=\"_parent\"><img src=\"https://colab.research.google.com/assets/colab-badge.svg\" alt=\"Open In Colab\"/></a>"
      ]
    },
    {
      "cell_type": "markdown",
      "id": "d2fed8c8-3b58-464a-b89d-df85d934f740",
      "metadata": {
        "id": "d2fed8c8-3b58-464a-b89d-df85d934f740"
      },
      "source": [
        "---\n",
        "# Cairo University Faculty of Engineering\n",
        "## Deep Learning \n",
        "## Assignment 2\n",
        "\n",
        "---"
      ]
    },
    {
      "cell_type": "markdown",
      "id": "9f09594d-0c42-4205-a0af-77097e41f555",
      "metadata": {
        "id": "9f09594d-0c42-4205-a0af-77097e41f555"
      },
      "source": [
        "Please write your full name here\n",
        "- **Name** : Abdelrahman Khaled ismaiel\n"
      ]
    },
    {
      "cell_type": "code",
      "execution_count": 131,
      "id": "02dc8d6e-7d9a-48c0-a84d-fdd3c63c9c78",
      "metadata": {
        "id": "02dc8d6e-7d9a-48c0-a84d-fdd3c63c9c78"
      },
      "outputs": [],
      "source": [
        "#@title\n",
        "%matplotlib inline\n",
        "import numpy as np\n",
        "import matplotlib.pyplot as plt\n",
        "import random\n",
        "import tensorflow as tf\n",
        "\n",
        "from tensorflow.keras.models import Sequential\n",
        "from tensorflow.keras.layers import Dense\n",
        "import tensorflowd2l as d2l ## i've changed the name of the file because it had made a conflict with tensorflow\n",
        "import pandas as pd\n",
        "import math\n",
        "\n",
        "from sklearn.datasets import make_blobs  #To generate artificial data\n",
        "from keras.optimizers import SGD\n",
        "from keras.utils import to_categorical\n",
        "from sklearn.model_selection import cross_val_score, GridSearchCV, KFold, RandomizedSearchCV, train_test_split"
      ]
    },
    {
      "cell_type": "markdown",
      "id": "6055f2a1-24c2-46eb-92a8-b9f387f3dcc2",
      "metadata": {
        "id": "6055f2a1-24c2-46eb-92a8-b9f387f3dcc2",
        "tags": []
      },
      "source": [
        "# Part 1 Computational Graphs\n"
      ]
    },
    {
      "cell_type": "markdown",
      "id": "5ea98a23-c5be-4a87-8a53-588fbdcadf1e",
      "metadata": {
        "id": "5ea98a23-c5be-4a87-8a53-588fbdcadf1e"
      },
      "source": [
        "## Example\n",
        "Suppose that we have a function of the form: $f(x,y) = \\sigma(x) + (x-y)^2$"
      ]
    },
    {
      "cell_type": "markdown",
      "id": "ead972fc-bc4a-4f70-bd22-473a84326027",
      "metadata": {
        "id": "ead972fc-bc4a-4f70-bd22-473a84326027"
      },
      "source": [
        "**SHOW YOUR WORK**"
      ]
    },
    {
      "cell_type": "markdown",
      "id": "4d072290-86f5-4f6c-8e64-0c2b6ee79114",
      "metadata": {
        "id": "4d072290-86f5-4f6c-8e64-0c2b6ee79114"
      },
      "source": [
        "0. **Draw its computational graph with a minimum of 4 operations inside it. Name your intermediate variables and upload a picture of your graph**"
      ]
    },
    {
      "cell_type": "markdown",
      "id": "1dc590ee-33e8-458a-ba81-fd2e6ca01b79",
      "metadata": {
        "id": "1dc590ee-33e8-458a-ba81-fd2e6ca01b79"
      },
      "source": [
        "- Your Answer:\n",
        "    - ![Answer](./images/ANSWER.png)"
      ]
    },
    {
      "cell_type": "markdown",
      "id": "e95e6d93-ec11-40d6-a639-40fad6e1ad3c",
      "metadata": {
        "id": "e95e6d93-ec11-40d6-a639-40fad6e1ad3c"
      },
      "source": [
        "1. **Compute the forward path for this function. Use intermediate variables you identified in your graph**\n",
        "\n",
        "- f --> final output\n",
        "- Upload a a picture of your graph"
      ]
    },
    {
      "cell_type": "markdown",
      "id": "0f9df23d-f8f6-4408-a2cf-943987324775",
      "metadata": {
        "id": "0f9df23d-f8f6-4408-a2cf-943987324775"
      },
      "source": [
        "- Your Answer:\n",
        "    - ![Answer](./images/ANSWER.png)"
      ]
    },
    {
      "cell_type": "markdown",
      "id": "902480a7-16e1-415e-bdea-24fe845774fe",
      "metadata": {
        "id": "902480a7-16e1-415e-bdea-24fe845774fe"
      },
      "source": [
        "\n",
        "2. **Compute the backward path for this function to get:**\n",
        "$$\n",
        "\\nabla f(x,y) = [ \\frac{\\partial f}{\\partial y}, \\frac{\\partial f}{\\partial x} ]\n",
        "$$\n",
        "\n",
        "- Upload a a picture of your graph\n",
        "- **Use intermediate variables**\n",
        "- **Write df/dy and df/dx**\n",
        "- *Hint: Gradients add up at forks. This follows the multivariable chain rule in Calculus, which states that if a variable branches out to different parts, then the gradients that flow back to it will add.*"
      ]
    },
    {
      "cell_type": "markdown",
      "id": "c83b8b27-0cb2-4c2e-9eea-351fc216d952",
      "metadata": {
        "id": "c83b8b27-0cb2-4c2e-9eea-351fc216d952"
      },
      "source": [
        "- Your Answer:\n",
        "    - ![Answer](./images/ANSWER.png)"
      ]
    },
    {
      "cell_type": "markdown",
      "id": "83847245",
      "metadata": {
        "id": "83847245"
      },
      "source": [
        "#Answer\n",
        "\n",
        "for x=2 , y=1 \n",
        "\n",
        "df/dy = grad(f,x3) * grad(x3,x2) * grad(x2,y) = 1 * 2 * -1 = -2\n",
        "\n",
        "df/dx= grad(f,x1) * grad(x2,x) = 1 * ,105 = ,105"
      ]
    },
    {
      "cell_type": "markdown",
      "id": "4f383a40-2b6d-4bb3-bb45-4b6602896480",
      "metadata": {
        "tags": [],
        "id": "4f383a40-2b6d-4bb3-bb45-4b6602896480"
      },
      "source": [
        "# Part 2: Regression"
      ]
    },
    {
      "cell_type": "markdown",
      "id": "0ddb4513-a883-475c-acb4-7daf8a1434a7",
      "metadata": {
        "jp-MarkdownHeadingCollapsed": true,
        "origin_pos": 0,
        "tags": [],
        "id": "0ddb4513-a883-475c-acb4-7daf8a1434a7"
      },
      "source": [
        "In this part, (**we will implement the entire linear regression method from scratch,\n",
        "including the data pipeline, the model,\n",
        "the loss function, and the minibatch stochastic gradient descent optimizer.**)\n",
        "You will rely only on tensors and auto differentiation.\n"
      ]
    },
    {
      "cell_type": "markdown",
      "id": "9885bf7b-0575-456d-a16c-997636bb6b3b",
      "metadata": {
        "id": "9885bf7b-0575-456d-a16c-997636bb6b3b"
      },
      "source": [
        "we will use $n$ to denote\n",
        "the number of examples in our dataset.\n",
        "We index the data examples by $i$, denoting each input\n",
        "as $\\mathbf{x}^{(i)} = [x_1^{(i)}, x_2^{(i)}]^\\top$\n",
        "and the corresponding label as $y^{(i)}$.\n",
        "\n",
        "\n",
        "**Linear Model**\n",
        "\n",
        "When our inputs consist of $d$ features,\n",
        "we express our prediction $\\hat{y}$ (in general the \"hat\" symbol denotes estimates) as\n",
        "\n",
        "$$\\hat{y} = w_1  x_1 + ... + w_d  x_d + b.$$\n",
        "\n",
        "\n",
        "We will often find it convenient\n",
        "to refer to features of our entire dataset of $n$ examples\n",
        "via the *design matrix* $\\mathbf{X} \\in \\mathbb{R}^{n \\times d}$.\n",
        "Here, $\\mathbf{X}$ contains one row for every example\n",
        "and one column for every feature.\n",
        "\n",
        "For a collection of features $\\mathbf{X}$,\n",
        "the predictions $\\hat{\\mathbf{y}} \\in \\mathbb{R}^n$\n",
        "can be expressed via the matrix-vector product:\n",
        "\n",
        "$${\\hat{\\mathbf{y}}} = \\mathbf{X} \\mathbf{w} + b,$$\n",
        "\n",
        "\n",
        "**Loss Function**\n",
        "\n",
        "When our prediction for an example $i$ is $\\hat{y}^{(i)}$\n",
        "and the corresponding true label is $y^{(i)}$,\n",
        "the squared error is given by:\n",
        "\n",
        "$$l^{(i)}(\\mathbf{w}, b) = \\frac{1}{2} \\left(\\hat{y}^{(i)} - y^{(i)}\\right)^2.$$\n",
        "\n",
        "To measure the quality of a model on the entire dataset of $n$ examples,\n",
        "we simply average (or equivalently, sum)\n",
        "the losses on the training set.\n",
        "\n",
        "$$L(\\mathbf{w}, b) =\\frac{1}{n}\\sum_{i=1}^n l^{(i)}(\\mathbf{w}, b) =\\frac{1}{n} \\sum_{i=1}^n \\frac{1}{2}\\left(\\mathbf{w}^\\top \\mathbf{x}^{(i)} + b - y^{(i)}\\right)^2.$$\n",
        "\n",
        "When training the model, we want to find parameters ($\\mathbf{w}^*, b^*$)\n",
        "that minimize the total loss across all training examples:\n",
        "\n",
        "$$\\mathbf{w}^*, b^* = \\operatorname*{argmin}_{\\mathbf{w}, b}\\  L(\\mathbf{w}, b).$$\n"
      ]
    },
    {
      "cell_type": "markdown",
      "id": "eddedadc-6641-4c7a-8134-79549b655a62",
      "metadata": {
        "id": "eddedadc-6641-4c7a-8134-79549b655a62"
      },
      "source": [
        "**Minibatch Stochastic Gradient Descent**\n",
        "\n",
        "We can express the update mathematically as follows\n",
        "($\\partial$ denotes the partial derivative):\n",
        "\n",
        "$$(\\mathbf{w},b) \\leftarrow (\\mathbf{w},b) - \\frac{\\eta}{|\\mathcal{B}|} \\sum_{i \\in \\mathcal{B}} \\partial_{(\\mathbf{w},b)} l^{(i)}(\\mathbf{w},b).$$\n"
      ]
    },
    {
      "cell_type": "markdown",
      "id": "b5b67706-78b0-428a-b984-03e8a44f2daf",
      "metadata": {
        "id": "b5b67706-78b0-428a-b984-03e8a44f2daf"
      },
      "source": [
        "## Synthetic Data, Simple Model\n",
        "### Generating the Dataset\n",
        "\n",
        "To keep things simple, we will [**construct an artificial dataset\n",
        "according to a linear model with additive noise.**]\n",
        "\n",
        "In the following code snippet, we generate a dataset\n",
        "containing 1000 examples, each consisting of 2 features\n",
        "sampled from a standard normal distribution.\n",
        "Thus our synthetic dataset will be a matrix\n",
        "$\\mathbf{X}\\in \\mathbb{R}^{1000 \\times 2}$.\n",
        "\n",
        "(**The true parameters generating our dataset will be\n",
        "$\\mathbf{w} = [2, -3.4]^\\top$ and $b = 4.2$,\n",
        "and**) our synthetic labels will be assigned according\n",
        "to the following linear model with the noise term $\\epsilon$:\n",
        "\n",
        "(**$$\\mathbf{y}= \\mathbf{X} \\mathbf{w} + b + \\mathbf\\epsilon.$$**)"
      ]
    },
    {
      "cell_type": "code",
      "execution_count": 132,
      "id": "6c56cf52-1cbe-4f80-9551-9988b28fe967",
      "metadata": {
        "origin_pos": 6,
        "tab": [
          "tensorflow"
        ],
        "id": "6c56cf52-1cbe-4f80-9551-9988b28fe967"
      },
      "outputs": [],
      "source": [
        "def synthetic_data(w, b, num_examples):  #@save\n",
        "    \"\"\"Generate y = Xw + b + noise.\"\"\"\n",
        "    X = tf.zeros((num_examples, w.shape[0]))\n",
        "    X += tf.random.normal(shape=X.shape)\n",
        "    y = tf.matmul(X, tf.reshape(w, (-1, 1))) + b\n",
        "    y += tf.random.normal(shape=y.shape, stddev=0.01)\n",
        "    y = tf.reshape(y, (-1, 1))\n",
        "    return X, y"
      ]
    },
    {
      "cell_type": "code",
      "execution_count": 133,
      "id": "6f7fc2ce-cdd3-45f0-b632-f5b7fbd38155",
      "metadata": {
        "origin_pos": 7,
        "tab": [
          "tensorflow"
        ],
        "id": "6f7fc2ce-cdd3-45f0-b632-f5b7fbd38155"
      },
      "outputs": [],
      "source": [
        "#@title\n",
        "tf.random.set_seed(5)\n",
        "true_w = tf.constant([2, -3.4])\n",
        "true_b = 4.2\n",
        "features, labels = synthetic_data(true_w, true_b, 1000)"
      ]
    },
    {
      "cell_type": "code",
      "execution_count": 134,
      "id": "a088e27d-495b-461f-b483-5eaaa97d1dc8",
      "metadata": {
        "origin_pos": 9,
        "tab": [
          "tensorflow"
        ],
        "colab": {
          "base_uri": "https://localhost:8080/"
        },
        "id": "a088e27d-495b-461f-b483-5eaaa97d1dc8",
        "outputId": "518c0965-f3c2-4e42-d04e-86d1ec49777a"
      },
      "outputs": [
        {
          "output_type": "stream",
          "name": "stdout",
          "text": [
            "features: tf.Tensor([-0.18030666 -0.95028627], shape=(2,), dtype=float32) \n",
            "label: tf.Tensor([7.0726256], shape=(1,), dtype=float32)\n"
          ]
        }
      ],
      "source": [
        "#@title\n",
        "print('features:', features[0],'\\nlabel:', labels[0])"
      ]
    },
    {
      "cell_type": "markdown",
      "id": "af9a27cb-fcac-4856-99cb-724fa649c9a9",
      "metadata": {
        "origin_pos": 10,
        "id": "af9a27cb-fcac-4856-99cb-724fa649c9a9"
      },
      "source": [
        "By generating a scatter plot using the second feature `features[:, 1]` and `labels`,\n",
        "we can clearly observe the linear correlation between the two.\n"
      ]
    },
    {
      "cell_type": "code",
      "execution_count": 135,
      "id": "8cbcb65e-1376-4879-8a6c-5dc2dbc4c945",
      "metadata": {
        "origin_pos": 11,
        "tab": [
          "tensorflow"
        ],
        "colab": {
          "base_uri": "https://localhost:8080/",
          "height": 243
        },
        "id": "8cbcb65e-1376-4879-8a6c-5dc2dbc4c945",
        "outputId": "eeda0f00-b6fa-4e9a-ab4e-96dc7789cf87"
      },
      "outputs": [
        {
          "output_type": "display_data",
          "data": {
            "text/plain": [
              "<Figure size 252x180 with 1 Axes>"
            ],
            "image/svg+xml": "<?xml version=\"1.0\" encoding=\"utf-8\" standalone=\"no\"?>\n<!DOCTYPE svg PUBLIC \"-//W3C//DTD SVG 1.1//EN\"\n  \"http://www.w3.org/Graphics/SVG/1.1/DTD/svg11.dtd\">\n<!-- Created with matplotlib (https://matplotlib.org/) -->\n<svg height=\"166.978125pt\" version=\"1.1\" viewBox=\"0 0 238.052177 166.978125\" width=\"238.052177pt\" xmlns=\"http://www.w3.org/2000/svg\" xmlns:xlink=\"http://www.w3.org/1999/xlink\">\n <defs>\n  <style type=\"text/css\">\n*{stroke-linecap:butt;stroke-linejoin:round;}\n  </style>\n </defs>\n <g id=\"figure_1\">\n  <g id=\"patch_1\">\n   <path d=\"M 0 166.978125 \nL 238.052177 166.978125 \nL 238.052177 0 \nL 0 0 \nz\n\" style=\"fill:none;\"/>\n  </g>\n  <g id=\"axes_1\">\n   <g id=\"patch_2\">\n    <path d=\"M 35.304688 143.1 \nL 230.604688 143.1 \nL 230.604688 7.2 \nL 35.304688 7.2 \nz\n\" style=\"fill:#ffffff;\"/>\n   </g>\n   <g id=\"PathCollection_1\">\n    <defs>\n     <path d=\"M 0 0.5 \nC 0.132602 0.5 0.25979 0.447317 0.353553 0.353553 \nC 0.447317 0.25979 0.5 0.132602 0.5 0 \nC 0.5 -0.132602 0.447317 -0.25979 0.353553 -0.353553 \nC 0.25979 -0.447317 0.132602 -0.5 0 -0.5 \nC -0.132602 -0.5 -0.25979 -0.447317 -0.353553 -0.353553 \nC -0.447317 -0.25979 -0.5 -0.132602 -0.5 0 \nC -0.5 0.132602 -0.447317 0.25979 -0.353553 0.353553 \nC -0.25979 0.447317 -0.132602 0.5 0 0.5 \nz\n\" id=\"m2fdf8b6fb5\" style=\"stroke:#1f77b4;\"/>\n    </defs>\n    <g clip-path=\"url(#p493f5c5285)\">\n     <use style=\"fill:#1f77b4;stroke:#1f77b4;\" x=\"103.457998\" xlink:href=\"#m2fdf8b6fb5\" y=\"54.25546\"/>\n     <use style=\"fill:#1f77b4;stroke:#1f77b4;\" x=\"108.670767\" xlink:href=\"#m2fdf8b6fb5\" y=\"56.259884\"/>\n     <use style=\"fill:#1f77b4;stroke:#1f77b4;\" x=\"111.781997\" xlink:href=\"#m2fdf8b6fb5\" y=\"45.245211\"/>\n     <use style=\"fill:#1f77b4;stroke:#1f77b4;\" x=\"125.069465\" xlink:href=\"#m2fdf8b6fb5\" y=\"58.339966\"/>\n     <use style=\"fill:#1f77b4;stroke:#1f77b4;\" x=\"146.435551\" xlink:href=\"#m2fdf8b6fb5\" y=\"56.934176\"/>\n     <use style=\"fill:#1f77b4;stroke:#1f77b4;\" x=\"151.896613\" xlink:href=\"#m2fdf8b6fb5\" y=\"71.752691\"/>\n     <use style=\"fill:#1f77b4;stroke:#1f77b4;\" x=\"112.874621\" xlink:href=\"#m2fdf8b6fb5\" y=\"44.02145\"/>\n     <use style=\"fill:#1f77b4;stroke:#1f77b4;\" x=\"95.917463\" xlink:href=\"#m2fdf8b6fb5\" y=\"38.996296\"/>\n     <use style=\"fill:#1f77b4;stroke:#1f77b4;\" x=\"158.937374\" xlink:href=\"#m2fdf8b6fb5\" y=\"96.769017\"/>\n     <use style=\"fill:#1f77b4;stroke:#1f77b4;\" x=\"127.958998\" xlink:href=\"#m2fdf8b6fb5\" y=\"74.949805\"/>\n     <use style=\"fill:#1f77b4;stroke:#1f77b4;\" x=\"151.369462\" xlink:href=\"#m2fdf8b6fb5\" y=\"81.395746\"/>\n     <use style=\"fill:#1f77b4;stroke:#1f77b4;\" x=\"128.177048\" xlink:href=\"#m2fdf8b6fb5\" y=\"72.001112\"/>\n     <use style=\"fill:#1f77b4;stroke:#1f77b4;\" x=\"146.364905\" xlink:href=\"#m2fdf8b6fb5\" y=\"79.058719\"/>\n     <use style=\"fill:#1f77b4;stroke:#1f77b4;\" x=\"92.673456\" xlink:href=\"#m2fdf8b6fb5\" y=\"41.106705\"/>\n     <use style=\"fill:#1f77b4;stroke:#1f77b4;\" x=\"155.867169\" xlink:href=\"#m2fdf8b6fb5\" y=\"91.075923\"/>\n     <use style=\"fill:#1f77b4;stroke:#1f77b4;\" x=\"145.977952\" xlink:href=\"#m2fdf8b6fb5\" y=\"88.822793\"/>\n     <use style=\"fill:#1f77b4;stroke:#1f77b4;\" x=\"106.333316\" xlink:href=\"#m2fdf8b6fb5\" y=\"60.911169\"/>\n     <use style=\"fill:#1f77b4;stroke:#1f77b4;\" x=\"103.876424\" xlink:href=\"#m2fdf8b6fb5\" y=\"57.624645\"/>\n     <use style=\"fill:#1f77b4;stroke:#1f77b4;\" x=\"126.286385\" xlink:href=\"#m2fdf8b6fb5\" y=\"67.412715\"/>\n     <use style=\"fill:#1f77b4;stroke:#1f77b4;\" x=\"91.705393\" xlink:href=\"#m2fdf8b6fb5\" y=\"25.643258\"/>\n     <use style=\"fill:#1f77b4;stroke:#1f77b4;\" x=\"156.641159\" xlink:href=\"#m2fdf8b6fb5\" y=\"95.778747\"/>\n     <use style=\"fill:#1f77b4;stroke:#1f77b4;\" x=\"135.453667\" xlink:href=\"#m2fdf8b6fb5\" y=\"74.463674\"/>\n     <use style=\"fill:#1f77b4;stroke:#1f77b4;\" x=\"87.925611\" xlink:href=\"#m2fdf8b6fb5\" y=\"55.988466\"/>\n     <use style=\"fill:#1f77b4;stroke:#1f77b4;\" x=\"123.319297\" xlink:href=\"#m2fdf8b6fb5\" y=\"70.838346\"/>\n     <use style=\"fill:#1f77b4;stroke:#1f77b4;\" x=\"152.298419\" xlink:href=\"#m2fdf8b6fb5\" y=\"82.39078\"/>\n     <use style=\"fill:#1f77b4;stroke:#1f77b4;\" x=\"56.039132\" xlink:href=\"#m2fdf8b6fb5\" y=\"41.130935\"/>\n     <use style=\"fill:#1f77b4;stroke:#1f77b4;\" x=\"77.254375\" xlink:href=\"#m2fdf8b6fb5\" y=\"48.874821\"/>\n     <use style=\"fill:#1f77b4;stroke:#1f77b4;\" x=\"115.959125\" xlink:href=\"#m2fdf8b6fb5\" y=\"56.331462\"/>\n     <use style=\"fill:#1f77b4;stroke:#1f77b4;\" x=\"118.579993\" xlink:href=\"#m2fdf8b6fb5\" y=\"52.893916\"/>\n     <use style=\"fill:#1f77b4;stroke:#1f77b4;\" x=\"95.528495\" xlink:href=\"#m2fdf8b6fb5\" y=\"48.376409\"/>\n     <use style=\"fill:#1f77b4;stroke:#1f77b4;\" x=\"139.928005\" xlink:href=\"#m2fdf8b6fb5\" y=\"66.884337\"/>\n     <use style=\"fill:#1f77b4;stroke:#1f77b4;\" x=\"131.855654\" xlink:href=\"#m2fdf8b6fb5\" y=\"75.978776\"/>\n     <use style=\"fill:#1f77b4;stroke:#1f77b4;\" x=\"117.556774\" xlink:href=\"#m2fdf8b6fb5\" y=\"54.985524\"/>\n     <use style=\"fill:#1f77b4;stroke:#1f77b4;\" x=\"82.137229\" xlink:href=\"#m2fdf8b6fb5\" y=\"46.295853\"/>\n     <use style=\"fill:#1f77b4;stroke:#1f77b4;\" x=\"76.942554\" xlink:href=\"#m2fdf8b6fb5\" y=\"50.174051\"/>\n     <use style=\"fill:#1f77b4;stroke:#1f77b4;\" x=\"119.931521\" xlink:href=\"#m2fdf8b6fb5\" y=\"59.463312\"/>\n     <use style=\"fill:#1f77b4;stroke:#1f77b4;\" x=\"138.100046\" xlink:href=\"#m2fdf8b6fb5\" y=\"82.765538\"/>\n     <use style=\"fill:#1f77b4;stroke:#1f77b4;\" x=\"97.561526\" xlink:href=\"#m2fdf8b6fb5\" y=\"54.337719\"/>\n     <use style=\"fill:#1f77b4;stroke:#1f77b4;\" x=\"98.663332\" xlink:href=\"#m2fdf8b6fb5\" y=\"53.067017\"/>\n     <use style=\"fill:#1f77b4;stroke:#1f77b4;\" x=\"135.796982\" xlink:href=\"#m2fdf8b6fb5\" y=\"68.7113\"/>\n     <use style=\"fill:#1f77b4;stroke:#1f77b4;\" x=\"118.901099\" xlink:href=\"#m2fdf8b6fb5\" y=\"58.894017\"/>\n     <use style=\"fill:#1f77b4;stroke:#1f77b4;\" x=\"111.17525\" xlink:href=\"#m2fdf8b6fb5\" y=\"66.205976\"/>\n     <use style=\"fill:#1f77b4;stroke:#1f77b4;\" x=\"167.08919\" xlink:href=\"#m2fdf8b6fb5\" y=\"100.831176\"/>\n     <use style=\"fill:#1f77b4;stroke:#1f77b4;\" x=\"118.534425\" xlink:href=\"#m2fdf8b6fb5\" y=\"70.172117\"/>\n     <use style=\"fill:#1f77b4;stroke:#1f77b4;\" x=\"154.806286\" xlink:href=\"#m2fdf8b6fb5\" y=\"87.419923\"/>\n     <use style=\"fill:#1f77b4;stroke:#1f77b4;\" x=\"97.024826\" xlink:href=\"#m2fdf8b6fb5\" y=\"54.818929\"/>\n     <use style=\"fill:#1f77b4;stroke:#1f77b4;\" x=\"112.266053\" xlink:href=\"#m2fdf8b6fb5\" y=\"44.603172\"/>\n     <use style=\"fill:#1f77b4;stroke:#1f77b4;\" x=\"185.882073\" xlink:href=\"#m2fdf8b6fb5\" y=\"94.361965\"/>\n     <use style=\"fill:#1f77b4;stroke:#1f77b4;\" x=\"135.537521\" xlink:href=\"#m2fdf8b6fb5\" y=\"72.822223\"/>\n     <use style=\"fill:#1f77b4;stroke:#1f77b4;\" x=\"130.307219\" xlink:href=\"#m2fdf8b6fb5\" y=\"67.607529\"/>\n     <use style=\"fill:#1f77b4;stroke:#1f77b4;\" x=\"142.879279\" xlink:href=\"#m2fdf8b6fb5\" y=\"78.971449\"/>\n     <use style=\"fill:#1f77b4;stroke:#1f77b4;\" x=\"106.841473\" xlink:href=\"#m2fdf8b6fb5\" y=\"43.833765\"/>\n     <use style=\"fill:#1f77b4;stroke:#1f77b4;\" x=\"146.939027\" xlink:href=\"#m2fdf8b6fb5\" y=\"98.135533\"/>\n     <use style=\"fill:#1f77b4;stroke:#1f77b4;\" x=\"127.69702\" xlink:href=\"#m2fdf8b6fb5\" y=\"64.632581\"/>\n     <use style=\"fill:#1f77b4;stroke:#1f77b4;\" x=\"126.46014\" xlink:href=\"#m2fdf8b6fb5\" y=\"59.652817\"/>\n     <use style=\"fill:#1f77b4;stroke:#1f77b4;\" x=\"89.282025\" xlink:href=\"#m2fdf8b6fb5\" y=\"50.559589\"/>\n     <use style=\"fill:#1f77b4;stroke:#1f77b4;\" x=\"98.919047\" xlink:href=\"#m2fdf8b6fb5\" y=\"43.429453\"/>\n     <use style=\"fill:#1f77b4;stroke:#1f77b4;\" x=\"80.348002\" xlink:href=\"#m2fdf8b6fb5\" y=\"32.354977\"/>\n     <use style=\"fill:#1f77b4;stroke:#1f77b4;\" x=\"97.28183\" xlink:href=\"#m2fdf8b6fb5\" y=\"43.363308\"/>\n     <use style=\"fill:#1f77b4;stroke:#1f77b4;\" x=\"169.747279\" xlink:href=\"#m2fdf8b6fb5\" y=\"90.668193\"/>\n     <use style=\"fill:#1f77b4;stroke:#1f77b4;\" x=\"145.170897\" xlink:href=\"#m2fdf8b6fb5\" y=\"101.721947\"/>\n     <use style=\"fill:#1f77b4;stroke:#1f77b4;\" x=\"86.38961\" xlink:href=\"#m2fdf8b6fb5\" y=\"41.752333\"/>\n     <use style=\"fill:#1f77b4;stroke:#1f77b4;\" x=\"141.576291\" xlink:href=\"#m2fdf8b6fb5\" y=\"80.532836\"/>\n     <use style=\"fill:#1f77b4;stroke:#1f77b4;\" x=\"143.972472\" xlink:href=\"#m2fdf8b6fb5\" y=\"70.508637\"/>\n     <use style=\"fill:#1f77b4;stroke:#1f77b4;\" x=\"115.886402\" xlink:href=\"#m2fdf8b6fb5\" y=\"70.176511\"/>\n     <use style=\"fill:#1f77b4;stroke:#1f77b4;\" x=\"140.367046\" xlink:href=\"#m2fdf8b6fb5\" y=\"64.844843\"/>\n     <use style=\"fill:#1f77b4;stroke:#1f77b4;\" x=\"113.925066\" xlink:href=\"#m2fdf8b6fb5\" y=\"59.696034\"/>\n     <use style=\"fill:#1f77b4;stroke:#1f77b4;\" x=\"115.484048\" xlink:href=\"#m2fdf8b6fb5\" y=\"55.176895\"/>\n     <use style=\"fill:#1f77b4;stroke:#1f77b4;\" x=\"115.661426\" xlink:href=\"#m2fdf8b6fb5\" y=\"56.281664\"/>\n     <use style=\"fill:#1f77b4;stroke:#1f77b4;\" x=\"134.86865\" xlink:href=\"#m2fdf8b6fb5\" y=\"77.773032\"/>\n     <use style=\"fill:#1f77b4;stroke:#1f77b4;\" x=\"108.304567\" xlink:href=\"#m2fdf8b6fb5\" y=\"46.620384\"/>\n     <use style=\"fill:#1f77b4;stroke:#1f77b4;\" x=\"148.043819\" xlink:href=\"#m2fdf8b6fb5\" y=\"80.42492\"/>\n     <use style=\"fill:#1f77b4;stroke:#1f77b4;\" x=\"106.298361\" xlink:href=\"#m2fdf8b6fb5\" y=\"45.72394\"/>\n     <use style=\"fill:#1f77b4;stroke:#1f77b4;\" x=\"152.053346\" xlink:href=\"#m2fdf8b6fb5\" y=\"86.792041\"/>\n     <use style=\"fill:#1f77b4;stroke:#1f77b4;\" x=\"90.842738\" xlink:href=\"#m2fdf8b6fb5\" y=\"62.346326\"/>\n     <use style=\"fill:#1f77b4;stroke:#1f77b4;\" x=\"153.612615\" xlink:href=\"#m2fdf8b6fb5\" y=\"84.26271\"/>\n     <use style=\"fill:#1f77b4;stroke:#1f77b4;\" x=\"70.547949\" xlink:href=\"#m2fdf8b6fb5\" y=\"34.858114\"/>\n     <use style=\"fill:#1f77b4;stroke:#1f77b4;\" x=\"139.638087\" xlink:href=\"#m2fdf8b6fb5\" y=\"83.021947\"/>\n     <use style=\"fill:#1f77b4;stroke:#1f77b4;\" x=\"151.888097\" xlink:href=\"#m2fdf8b6fb5\" y=\"90.22388\"/>\n     <use style=\"fill:#1f77b4;stroke:#1f77b4;\" x=\"187.438745\" xlink:href=\"#m2fdf8b6fb5\" y=\"108.651784\"/>\n     <use style=\"fill:#1f77b4;stroke:#1f77b4;\" x=\"57.637938\" xlink:href=\"#m2fdf8b6fb5\" y=\"40.955526\"/>\n     <use style=\"fill:#1f77b4;stroke:#1f77b4;\" x=\"103.116872\" xlink:href=\"#m2fdf8b6fb5\" y=\"67.626883\"/>\n     <use style=\"fill:#1f77b4;stroke:#1f77b4;\" x=\"130.279441\" xlink:href=\"#m2fdf8b6fb5\" y=\"65.787228\"/>\n     <use style=\"fill:#1f77b4;stroke:#1f77b4;\" x=\"120.984324\" xlink:href=\"#m2fdf8b6fb5\" y=\"75.878974\"/>\n     <use style=\"fill:#1f77b4;stroke:#1f77b4;\" x=\"134.07826\" xlink:href=\"#m2fdf8b6fb5\" y=\"74.585476\"/>\n     <use style=\"fill:#1f77b4;stroke:#1f77b4;\" x=\"160.544697\" xlink:href=\"#m2fdf8b6fb5\" y=\"88.164357\"/>\n     <use style=\"fill:#1f77b4;stroke:#1f77b4;\" x=\"202.173554\" xlink:href=\"#m2fdf8b6fb5\" y=\"110.754701\"/>\n     <use style=\"fill:#1f77b4;stroke:#1f77b4;\" x=\"140.983354\" xlink:href=\"#m2fdf8b6fb5\" y=\"86.093214\"/>\n     <use style=\"fill:#1f77b4;stroke:#1f77b4;\" x=\"164.539587\" xlink:href=\"#m2fdf8b6fb5\" y=\"98.022045\"/>\n     <use style=\"fill:#1f77b4;stroke:#1f77b4;\" x=\"133.038829\" xlink:href=\"#m2fdf8b6fb5\" y=\"80.280425\"/>\n     <use style=\"fill:#1f77b4;stroke:#1f77b4;\" x=\"120.588925\" xlink:href=\"#m2fdf8b6fb5\" y=\"65.250999\"/>\n     <use style=\"fill:#1f77b4;stroke:#1f77b4;\" x=\"142.455653\" xlink:href=\"#m2fdf8b6fb5\" y=\"88.773612\"/>\n     <use style=\"fill:#1f77b4;stroke:#1f77b4;\" x=\"98.045357\" xlink:href=\"#m2fdf8b6fb5\" y=\"59.41372\"/>\n     <use style=\"fill:#1f77b4;stroke:#1f77b4;\" x=\"138.434207\" xlink:href=\"#m2fdf8b6fb5\" y=\"79.931346\"/>\n     <use style=\"fill:#1f77b4;stroke:#1f77b4;\" x=\"120.007364\" xlink:href=\"#m2fdf8b6fb5\" y=\"46.251402\"/>\n     <use style=\"fill:#1f77b4;stroke:#1f77b4;\" x=\"141.38134\" xlink:href=\"#m2fdf8b6fb5\" y=\"59.318833\"/>\n     <use style=\"fill:#1f77b4;stroke:#1f77b4;\" x=\"109.526332\" xlink:href=\"#m2fdf8b6fb5\" y=\"48.806555\"/>\n     <use style=\"fill:#1f77b4;stroke:#1f77b4;\" x=\"140.161384\" xlink:href=\"#m2fdf8b6fb5\" y=\"66.380575\"/>\n     <use style=\"fill:#1f77b4;stroke:#1f77b4;\" x=\"163.600302\" xlink:href=\"#m2fdf8b6fb5\" y=\"84.90051\"/>\n     <use style=\"fill:#1f77b4;stroke:#1f77b4;\" x=\"171.451122\" xlink:href=\"#m2fdf8b6fb5\" y=\"106.943595\"/>\n     <use style=\"fill:#1f77b4;stroke:#1f77b4;\" x=\"121.035127\" xlink:href=\"#m2fdf8b6fb5\" y=\"54.303529\"/>\n     <use style=\"fill:#1f77b4;stroke:#1f77b4;\" x=\"123.819011\" xlink:href=\"#m2fdf8b6fb5\" y=\"74.349835\"/>\n     <use style=\"fill:#1f77b4;stroke:#1f77b4;\" x=\"109.31171\" xlink:href=\"#m2fdf8b6fb5\" y=\"53.385788\"/>\n     <use style=\"fill:#1f77b4;stroke:#1f77b4;\" x=\"130.954709\" xlink:href=\"#m2fdf8b6fb5\" y=\"71.649328\"/>\n     <use style=\"fill:#1f77b4;stroke:#1f77b4;\" x=\"106.138441\" xlink:href=\"#m2fdf8b6fb5\" y=\"57.057106\"/>\n     <use style=\"fill:#1f77b4;stroke:#1f77b4;\" x=\"134.980025\" xlink:href=\"#m2fdf8b6fb5\" y=\"79.202761\"/>\n     <use style=\"fill:#1f77b4;stroke:#1f77b4;\" x=\"112.232385\" xlink:href=\"#m2fdf8b6fb5\" y=\"48.124745\"/>\n     <use style=\"fill:#1f77b4;stroke:#1f77b4;\" x=\"140.847078\" xlink:href=\"#m2fdf8b6fb5\" y=\"76.876773\"/>\n     <use style=\"fill:#1f77b4;stroke:#1f77b4;\" x=\"139.928478\" xlink:href=\"#m2fdf8b6fb5\" y=\"79.206403\"/>\n     <use style=\"fill:#1f77b4;stroke:#1f77b4;\" x=\"88.408963\" xlink:href=\"#m2fdf8b6fb5\" y=\"64.151209\"/>\n     <use style=\"fill:#1f77b4;stroke:#1f77b4;\" x=\"147.156238\" xlink:href=\"#m2fdf8b6fb5\" y=\"61.600071\"/>\n     <use style=\"fill:#1f77b4;stroke:#1f77b4;\" x=\"133.12324\" xlink:href=\"#m2fdf8b6fb5\" y=\"69.98141\"/>\n     <use style=\"fill:#1f77b4;stroke:#1f77b4;\" x=\"105.631613\" xlink:href=\"#m2fdf8b6fb5\" y=\"33.281793\"/>\n     <use style=\"fill:#1f77b4;stroke:#1f77b4;\" x=\"121.221183\" xlink:href=\"#m2fdf8b6fb5\" y=\"72.084656\"/>\n     <use style=\"fill:#1f77b4;stroke:#1f77b4;\" x=\"129.919445\" xlink:href=\"#m2fdf8b6fb5\" y=\"61.058935\"/>\n     <use style=\"fill:#1f77b4;stroke:#1f77b4;\" x=\"116.760736\" xlink:href=\"#m2fdf8b6fb5\" y=\"66.41526\"/>\n     <use style=\"fill:#1f77b4;stroke:#1f77b4;\" x=\"152.878055\" xlink:href=\"#m2fdf8b6fb5\" y=\"87.318937\"/>\n     <use style=\"fill:#1f77b4;stroke:#1f77b4;\" x=\"120.825672\" xlink:href=\"#m2fdf8b6fb5\" y=\"63.113081\"/>\n     <use style=\"fill:#1f77b4;stroke:#1f77b4;\" x=\"120.373679\" xlink:href=\"#m2fdf8b6fb5\" y=\"55.462634\"/>\n     <use style=\"fill:#1f77b4;stroke:#1f77b4;\" x=\"123.321788\" xlink:href=\"#m2fdf8b6fb5\" y=\"54.081045\"/>\n     <use style=\"fill:#1f77b4;stroke:#1f77b4;\" x=\"141.160842\" xlink:href=\"#m2fdf8b6fb5\" y=\"67.411926\"/>\n     <use style=\"fill:#1f77b4;stroke:#1f77b4;\" x=\"139.073482\" xlink:href=\"#m2fdf8b6fb5\" y=\"66.602735\"/>\n     <use style=\"fill:#1f77b4;stroke:#1f77b4;\" x=\"101.056929\" xlink:href=\"#m2fdf8b6fb5\" y=\"54.086568\"/>\n     <use style=\"fill:#1f77b4;stroke:#1f77b4;\" x=\"88.88289\" xlink:href=\"#m2fdf8b6fb5\" y=\"53.795424\"/>\n     <use style=\"fill:#1f77b4;stroke:#1f77b4;\" x=\"111.153094\" xlink:href=\"#m2fdf8b6fb5\" y=\"57.417322\"/>\n     <use style=\"fill:#1f77b4;stroke:#1f77b4;\" x=\"146.022688\" xlink:href=\"#m2fdf8b6fb5\" y=\"83.373886\"/>\n     <use style=\"fill:#1f77b4;stroke:#1f77b4;\" x=\"93.9165\" xlink:href=\"#m2fdf8b6fb5\" y=\"39.65608\"/>\n     <use style=\"fill:#1f77b4;stroke:#1f77b4;\" x=\"91.207384\" xlink:href=\"#m2fdf8b6fb5\" y=\"29.873352\"/>\n     <use style=\"fill:#1f77b4;stroke:#1f77b4;\" x=\"123.327204\" xlink:href=\"#m2fdf8b6fb5\" y=\"63.472593\"/>\n     <use style=\"fill:#1f77b4;stroke:#1f77b4;\" x=\"127.667829\" xlink:href=\"#m2fdf8b6fb5\" y=\"51.868334\"/>\n     <use style=\"fill:#1f77b4;stroke:#1f77b4;\" x=\"130.581048\" xlink:href=\"#m2fdf8b6fb5\" y=\"59.000818\"/>\n     <use style=\"fill:#1f77b4;stroke:#1f77b4;\" x=\"157.181084\" xlink:href=\"#m2fdf8b6fb5\" y=\"69.813895\"/>\n     <use style=\"fill:#1f77b4;stroke:#1f77b4;\" x=\"139.78096\" xlink:href=\"#m2fdf8b6fb5\" y=\"83.419075\"/>\n     <use style=\"fill:#1f77b4;stroke:#1f77b4;\" x=\"119.127318\" xlink:href=\"#m2fdf8b6fb5\" y=\"67.364092\"/>\n     <use style=\"fill:#1f77b4;stroke:#1f77b4;\" x=\"123.805889\" xlink:href=\"#m2fdf8b6fb5\" y=\"65.931909\"/>\n     <use style=\"fill:#1f77b4;stroke:#1f77b4;\" x=\"128.469546\" xlink:href=\"#m2fdf8b6fb5\" y=\"78.610403\"/>\n     <use style=\"fill:#1f77b4;stroke:#1f77b4;\" x=\"147.915287\" xlink:href=\"#m2fdf8b6fb5\" y=\"91.309052\"/>\n     <use style=\"fill:#1f77b4;stroke:#1f77b4;\" x=\"83.285323\" xlink:href=\"#m2fdf8b6fb5\" y=\"28.448438\"/>\n     <use style=\"fill:#1f77b4;stroke:#1f77b4;\" x=\"137.424991\" xlink:href=\"#m2fdf8b6fb5\" y=\"80.61372\"/>\n     <use style=\"fill:#1f77b4;stroke:#1f77b4;\" x=\"95.00687\" xlink:href=\"#m2fdf8b6fb5\" y=\"50.177881\"/>\n     <use style=\"fill:#1f77b4;stroke:#1f77b4;\" x=\"102.142875\" xlink:href=\"#m2fdf8b6fb5\" y=\"51.68097\"/>\n     <use style=\"fill:#1f77b4;stroke:#1f77b4;\" x=\"117.716561\" xlink:href=\"#m2fdf8b6fb5\" y=\"64.084665\"/>\n     <use style=\"fill:#1f77b4;stroke:#1f77b4;\" x=\"119.436212\" xlink:href=\"#m2fdf8b6fb5\" y=\"52.747206\"/>\n     <use style=\"fill:#1f77b4;stroke:#1f77b4;\" x=\"118.1939\" xlink:href=\"#m2fdf8b6fb5\" y=\"62.535929\"/>\n     <use style=\"fill:#1f77b4;stroke:#1f77b4;\" x=\"148.834344\" xlink:href=\"#m2fdf8b6fb5\" y=\"71.514503\"/>\n     <use style=\"fill:#1f77b4;stroke:#1f77b4;\" x=\"136.918916\" xlink:href=\"#m2fdf8b6fb5\" y=\"76.999174\"/>\n     <use style=\"fill:#1f77b4;stroke:#1f77b4;\" x=\"162.895511\" xlink:href=\"#m2fdf8b6fb5\" y=\"101.668217\"/>\n     <use style=\"fill:#1f77b4;stroke:#1f77b4;\" x=\"153.753728\" xlink:href=\"#m2fdf8b6fb5\" y=\"90.41147\"/>\n     <use style=\"fill:#1f77b4;stroke:#1f77b4;\" x=\"158.107338\" xlink:href=\"#m2fdf8b6fb5\" y=\"95.834201\"/>\n     <use style=\"fill:#1f77b4;stroke:#1f77b4;\" x=\"143.638719\" xlink:href=\"#m2fdf8b6fb5\" y=\"82.813933\"/>\n     <use style=\"fill:#1f77b4;stroke:#1f77b4;\" x=\"138.157858\" xlink:href=\"#m2fdf8b6fb5\" y=\"60.214809\"/>\n     <use style=\"fill:#1f77b4;stroke:#1f77b4;\" x=\"125.583847\" xlink:href=\"#m2fdf8b6fb5\" y=\"61.426519\"/>\n     <use style=\"fill:#1f77b4;stroke:#1f77b4;\" x=\"60.18366\" xlink:href=\"#m2fdf8b6fb5\" y=\"22.61011\"/>\n     <use style=\"fill:#1f77b4;stroke:#1f77b4;\" x=\"124.26619\" xlink:href=\"#m2fdf8b6fb5\" y=\"70.534359\"/>\n     <use style=\"fill:#1f77b4;stroke:#1f77b4;\" x=\"138.781503\" xlink:href=\"#m2fdf8b6fb5\" y=\"76.589825\"/>\n     <use style=\"fill:#1f77b4;stroke:#1f77b4;\" x=\"148.088258\" xlink:href=\"#m2fdf8b6fb5\" y=\"93.873118\"/>\n     <use style=\"fill:#1f77b4;stroke:#1f77b4;\" x=\"142.512775\" xlink:href=\"#m2fdf8b6fb5\" y=\"66.618296\"/>\n     <use style=\"fill:#1f77b4;stroke:#1f77b4;\" x=\"146.776915\" xlink:href=\"#m2fdf8b6fb5\" y=\"85.05917\"/>\n     <use style=\"fill:#1f77b4;stroke:#1f77b4;\" x=\"114.539376\" xlink:href=\"#m2fdf8b6fb5\" y=\"54.169436\"/>\n     <use style=\"fill:#1f77b4;stroke:#1f77b4;\" x=\"144.409949\" xlink:href=\"#m2fdf8b6fb5\" y=\"93.806537\"/>\n     <use style=\"fill:#1f77b4;stroke:#1f77b4;\" x=\"53.788565\" xlink:href=\"#m2fdf8b6fb5\" y=\"26.593429\"/>\n     <use style=\"fill:#1f77b4;stroke:#1f77b4;\" x=\"144.044516\" xlink:href=\"#m2fdf8b6fb5\" y=\"75.550871\"/>\n     <use style=\"fill:#1f77b4;stroke:#1f77b4;\" x=\"75.426119\" xlink:href=\"#m2fdf8b6fb5\" y=\"33.895867\"/>\n     <use style=\"fill:#1f77b4;stroke:#1f77b4;\" x=\"152.555677\" xlink:href=\"#m2fdf8b6fb5\" y=\"100.313839\"/>\n     <use style=\"fill:#1f77b4;stroke:#1f77b4;\" x=\"111.603271\" xlink:href=\"#m2fdf8b6fb5\" y=\"78.100766\"/>\n     <use style=\"fill:#1f77b4;stroke:#1f77b4;\" x=\"145.671432\" xlink:href=\"#m2fdf8b6fb5\" y=\"87.191455\"/>\n     <use style=\"fill:#1f77b4;stroke:#1f77b4;\" x=\"144.59552\" xlink:href=\"#m2fdf8b6fb5\" y=\"88.027\"/>\n     <use style=\"fill:#1f77b4;stroke:#1f77b4;\" x=\"163.706155\" xlink:href=\"#m2fdf8b6fb5\" y=\"77.600753\"/>\n     <use style=\"fill:#1f77b4;stroke:#1f77b4;\" x=\"123.583462\" xlink:href=\"#m2fdf8b6fb5\" y=\"60.281526\"/>\n     <use style=\"fill:#1f77b4;stroke:#1f77b4;\" x=\"124.516948\" xlink:href=\"#m2fdf8b6fb5\" y=\"82.318791\"/>\n     <use style=\"fill:#1f77b4;stroke:#1f77b4;\" x=\"136.614304\" xlink:href=\"#m2fdf8b6fb5\" y=\"78.470837\"/>\n     <use style=\"fill:#1f77b4;stroke:#1f77b4;\" x=\"134.520757\" xlink:href=\"#m2fdf8b6fb5\" y=\"76.52363\"/>\n     <use style=\"fill:#1f77b4;stroke:#1f77b4;\" x=\"158.178284\" xlink:href=\"#m2fdf8b6fb5\" y=\"87.105258\"/>\n     <use style=\"fill:#1f77b4;stroke:#1f77b4;\" x=\"127.619991\" xlink:href=\"#m2fdf8b6fb5\" y=\"66.499681\"/>\n     <use style=\"fill:#1f77b4;stroke:#1f77b4;\" x=\"124.58247\" xlink:href=\"#m2fdf8b6fb5\" y=\"96.747695\"/>\n     <use style=\"fill:#1f77b4;stroke:#1f77b4;\" x=\"128.683704\" xlink:href=\"#m2fdf8b6fb5\" y=\"71.692743\"/>\n     <use style=\"fill:#1f77b4;stroke:#1f77b4;\" x=\"120.373083\" xlink:href=\"#m2fdf8b6fb5\" y=\"65.882585\"/>\n     <use style=\"fill:#1f77b4;stroke:#1f77b4;\" x=\"133.368699\" xlink:href=\"#m2fdf8b6fb5\" y=\"57.068156\"/>\n     <use style=\"fill:#1f77b4;stroke:#1f77b4;\" x=\"88.604639\" xlink:href=\"#m2fdf8b6fb5\" y=\"43.130958\"/>\n     <use style=\"fill:#1f77b4;stroke:#1f77b4;\" x=\"134.005458\" xlink:href=\"#m2fdf8b6fb5\" y=\"63.10277\"/>\n     <use style=\"fill:#1f77b4;stroke:#1f77b4;\" x=\"74.426864\" xlink:href=\"#m2fdf8b6fb5\" y=\"33.395745\"/>\n     <use style=\"fill:#1f77b4;stroke:#1f77b4;\" x=\"130.734505\" xlink:href=\"#m2fdf8b6fb5\" y=\"65.37466\"/>\n     <use style=\"fill:#1f77b4;stroke:#1f77b4;\" x=\"151.942739\" xlink:href=\"#m2fdf8b6fb5\" y=\"68.333167\"/>\n     <use style=\"fill:#1f77b4;stroke:#1f77b4;\" x=\"125.392251\" xlink:href=\"#m2fdf8b6fb5\" y=\"41.909919\"/>\n     <use style=\"fill:#1f77b4;stroke:#1f77b4;\" x=\"134.032758\" xlink:href=\"#m2fdf8b6fb5\" y=\"74.56334\"/>\n     <use style=\"fill:#1f77b4;stroke:#1f77b4;\" x=\"134.76276\" xlink:href=\"#m2fdf8b6fb5\" y=\"68.074113\"/>\n     <use style=\"fill:#1f77b4;stroke:#1f77b4;\" x=\"154.163293\" xlink:href=\"#m2fdf8b6fb5\" y=\"92.580232\"/>\n     <use style=\"fill:#1f77b4;stroke:#1f77b4;\" x=\"129.54981\" xlink:href=\"#m2fdf8b6fb5\" y=\"77.986456\"/>\n     <use style=\"fill:#1f77b4;stroke:#1f77b4;\" x=\"109.454688\" xlink:href=\"#m2fdf8b6fb5\" y=\"53.649519\"/>\n     <use style=\"fill:#1f77b4;stroke:#1f77b4;\" x=\"142.301617\" xlink:href=\"#m2fdf8b6fb5\" y=\"72.020757\"/>\n     <use style=\"fill:#1f77b4;stroke:#1f77b4;\" x=\"121.267077\" xlink:href=\"#m2fdf8b6fb5\" y=\"62.290759\"/>\n     <use style=\"fill:#1f77b4;stroke:#1f77b4;\" x=\"143.201839\" xlink:href=\"#m2fdf8b6fb5\" y=\"77.383381\"/>\n     <use style=\"fill:#1f77b4;stroke:#1f77b4;\" x=\"90.422838\" xlink:href=\"#m2fdf8b6fb5\" y=\"49.521434\"/>\n     <use style=\"fill:#1f77b4;stroke:#1f77b4;\" x=\"127.921821\" xlink:href=\"#m2fdf8b6fb5\" y=\"91.168605\"/>\n     <use style=\"fill:#1f77b4;stroke:#1f77b4;\" x=\"114.361114\" xlink:href=\"#m2fdf8b6fb5\" y=\"70.783311\"/>\n     <use style=\"fill:#1f77b4;stroke:#1f77b4;\" x=\"117.257173\" xlink:href=\"#m2fdf8b6fb5\" y=\"76.712379\"/>\n     <use style=\"fill:#1f77b4;stroke:#1f77b4;\" x=\"173.022643\" xlink:href=\"#m2fdf8b6fb5\" y=\"117.407694\"/>\n     <use style=\"fill:#1f77b4;stroke:#1f77b4;\" x=\"146.939478\" xlink:href=\"#m2fdf8b6fb5\" y=\"73.289953\"/>\n     <use style=\"fill:#1f77b4;stroke:#1f77b4;\" x=\"174.229203\" xlink:href=\"#m2fdf8b6fb5\" y=\"117.918502\"/>\n     <use style=\"fill:#1f77b4;stroke:#1f77b4;\" x=\"106.721523\" xlink:href=\"#m2fdf8b6fb5\" y=\"53.996171\"/>\n     <use style=\"fill:#1f77b4;stroke:#1f77b4;\" x=\"125.981747\" xlink:href=\"#m2fdf8b6fb5\" y=\"70.107207\"/>\n     <use style=\"fill:#1f77b4;stroke:#1f77b4;\" x=\"121.479054\" xlink:href=\"#m2fdf8b6fb5\" y=\"51.676866\"/>\n     <use style=\"fill:#1f77b4;stroke:#1f77b4;\" x=\"131.623789\" xlink:href=\"#m2fdf8b6fb5\" y=\"72.034668\"/>\n     <use style=\"fill:#1f77b4;stroke:#1f77b4;\" x=\"141.697221\" xlink:href=\"#m2fdf8b6fb5\" y=\"82.31292\"/>\n     <use style=\"fill:#1f77b4;stroke:#1f77b4;\" x=\"111.022883\" xlink:href=\"#m2fdf8b6fb5\" y=\"51.064226\"/>\n     <use style=\"fill:#1f77b4;stroke:#1f77b4;\" x=\"107.996616\" xlink:href=\"#m2fdf8b6fb5\" y=\"35.874051\"/>\n     <use style=\"fill:#1f77b4;stroke:#1f77b4;\" x=\"134.893315\" xlink:href=\"#m2fdf8b6fb5\" y=\"86.530631\"/>\n     <use style=\"fill:#1f77b4;stroke:#1f77b4;\" x=\"116.638995\" xlink:href=\"#m2fdf8b6fb5\" y=\"66.160932\"/>\n     <use style=\"fill:#1f77b4;stroke:#1f77b4;\" x=\"140.690914\" xlink:href=\"#m2fdf8b6fb5\" y=\"70.299222\"/>\n     <use style=\"fill:#1f77b4;stroke:#1f77b4;\" x=\"135.77465\" xlink:href=\"#m2fdf8b6fb5\" y=\"73.113629\"/>\n     <use style=\"fill:#1f77b4;stroke:#1f77b4;\" x=\"127.021191\" xlink:href=\"#m2fdf8b6fb5\" y=\"51.16197\"/>\n     <use style=\"fill:#1f77b4;stroke:#1f77b4;\" x=\"141.862747\" xlink:href=\"#m2fdf8b6fb5\" y=\"73.755574\"/>\n     <use style=\"fill:#1f77b4;stroke:#1f77b4;\" x=\"145.561526\" xlink:href=\"#m2fdf8b6fb5\" y=\"91.178656\"/>\n     <use style=\"fill:#1f77b4;stroke:#1f77b4;\" x=\"133.221518\" xlink:href=\"#m2fdf8b6fb5\" y=\"68.157355\"/>\n     <use style=\"fill:#1f77b4;stroke:#1f77b4;\" x=\"87.731421\" xlink:href=\"#m2fdf8b6fb5\" y=\"49.498235\"/>\n     <use style=\"fill:#1f77b4;stroke:#1f77b4;\" x=\"124.38895\" xlink:href=\"#m2fdf8b6fb5\" y=\"56.93421\"/>\n     <use style=\"fill:#1f77b4;stroke:#1f77b4;\" x=\"159.982778\" xlink:href=\"#m2fdf8b6fb5\" y=\"81.34391\"/>\n     <use style=\"fill:#1f77b4;stroke:#1f77b4;\" x=\"188.484908\" xlink:href=\"#m2fdf8b6fb5\" y=\"97.289343\"/>\n     <use style=\"fill:#1f77b4;stroke:#1f77b4;\" x=\"106.929685\" xlink:href=\"#m2fdf8b6fb5\" y=\"38.616224\"/>\n     <use style=\"fill:#1f77b4;stroke:#1f77b4;\" x=\"141.300778\" xlink:href=\"#m2fdf8b6fb5\" y=\"75.41991\"/>\n     <use style=\"fill:#1f77b4;stroke:#1f77b4;\" x=\"154.39119\" xlink:href=\"#m2fdf8b6fb5\" y=\"80.580653\"/>\n     <use style=\"fill:#1f77b4;stroke:#1f77b4;\" x=\"81.220331\" xlink:href=\"#m2fdf8b6fb5\" y=\"37.999518\"/>\n     <use style=\"fill:#1f77b4;stroke:#1f77b4;\" x=\"128.442515\" xlink:href=\"#m2fdf8b6fb5\" y=\"54.056366\"/>\n     <use style=\"fill:#1f77b4;stroke:#1f77b4;\" x=\"125.415276\" xlink:href=\"#m2fdf8b6fb5\" y=\"73.863496\"/>\n     <use style=\"fill:#1f77b4;stroke:#1f77b4;\" x=\"164.590297\" xlink:href=\"#m2fdf8b6fb5\" y=\"88.787053\"/>\n     <use style=\"fill:#1f77b4;stroke:#1f77b4;\" x=\"151.23419\" xlink:href=\"#m2fdf8b6fb5\" y=\"82.845228\"/>\n     <use style=\"fill:#1f77b4;stroke:#1f77b4;\" x=\"131.12124\" xlink:href=\"#m2fdf8b6fb5\" y=\"67.196819\"/>\n     <use style=\"fill:#1f77b4;stroke:#1f77b4;\" x=\"159.534725\" xlink:href=\"#m2fdf8b6fb5\" y=\"95.613384\"/>\n     <use style=\"fill:#1f77b4;stroke:#1f77b4;\" x=\"136.950445\" xlink:href=\"#m2fdf8b6fb5\" y=\"88.736696\"/>\n     <use style=\"fill:#1f77b4;stroke:#1f77b4;\" x=\"127.161759\" xlink:href=\"#m2fdf8b6fb5\" y=\"81.721512\"/>\n     <use style=\"fill:#1f77b4;stroke:#1f77b4;\" x=\"85.918591\" xlink:href=\"#m2fdf8b6fb5\" y=\"45.30135\"/>\n     <use style=\"fill:#1f77b4;stroke:#1f77b4;\" x=\"122.089942\" xlink:href=\"#m2fdf8b6fb5\" y=\"69.636355\"/>\n     <use style=\"fill:#1f77b4;stroke:#1f77b4;\" x=\"134.210121\" xlink:href=\"#m2fdf8b6fb5\" y=\"74.298346\"/>\n     <use style=\"fill:#1f77b4;stroke:#1f77b4;\" x=\"142.197612\" xlink:href=\"#m2fdf8b6fb5\" y=\"70.29162\"/>\n     <use style=\"fill:#1f77b4;stroke:#1f77b4;\" x=\"89.378967\" xlink:href=\"#m2fdf8b6fb5\" y=\"29.394372\"/>\n     <use style=\"fill:#1f77b4;stroke:#1f77b4;\" x=\"146.981523\" xlink:href=\"#m2fdf8b6fb5\" y=\"96.848341\"/>\n     <use style=\"fill:#1f77b4;stroke:#1f77b4;\" x=\"118.371076\" xlink:href=\"#m2fdf8b6fb5\" y=\"77.689236\"/>\n     <use style=\"fill:#1f77b4;stroke:#1f77b4;\" x=\"144.724977\" xlink:href=\"#m2fdf8b6fb5\" y=\"76.312122\"/>\n     <use style=\"fill:#1f77b4;stroke:#1f77b4;\" x=\"123.344145\" xlink:href=\"#m2fdf8b6fb5\" y=\"55.022113\"/>\n     <use style=\"fill:#1f77b4;stroke:#1f77b4;\" x=\"116.292861\" xlink:href=\"#m2fdf8b6fb5\" y=\"68.184093\"/>\n     <use style=\"fill:#1f77b4;stroke:#1f77b4;\" x=\"95.794395\" xlink:href=\"#m2fdf8b6fb5\" y=\"40.095379\"/>\n     <use style=\"fill:#1f77b4;stroke:#1f77b4;\" x=\"103.236212\" xlink:href=\"#m2fdf8b6fb5\" y=\"51.983298\"/>\n     <use style=\"fill:#1f77b4;stroke:#1f77b4;\" x=\"116.714566\" xlink:href=\"#m2fdf8b6fb5\" y=\"58.928517\"/>\n     <use style=\"fill:#1f77b4;stroke:#1f77b4;\" x=\"154.420217\" xlink:href=\"#m2fdf8b6fb5\" y=\"109.170515\"/>\n     <use style=\"fill:#1f77b4;stroke:#1f77b4;\" x=\"137.209349\" xlink:href=\"#m2fdf8b6fb5\" y=\"79.493915\"/>\n     <use style=\"fill:#1f77b4;stroke:#1f77b4;\" x=\"86.685889\" xlink:href=\"#m2fdf8b6fb5\" y=\"54.322095\"/>\n     <use style=\"fill:#1f77b4;stroke:#1f77b4;\" x=\"117.053846\" xlink:href=\"#m2fdf8b6fb5\" y=\"68.586756\"/>\n     <use style=\"fill:#1f77b4;stroke:#1f77b4;\" x=\"132.613709\" xlink:href=\"#m2fdf8b6fb5\" y=\"72.406417\"/>\n     <use style=\"fill:#1f77b4;stroke:#1f77b4;\" x=\"141.990859\" xlink:href=\"#m2fdf8b6fb5\" y=\"94.41658\"/>\n     <use style=\"fill:#1f77b4;stroke:#1f77b4;\" x=\"192.273811\" xlink:href=\"#m2fdf8b6fb5\" y=\"114.656138\"/>\n     <use style=\"fill:#1f77b4;stroke:#1f77b4;\" x=\"164.169984\" xlink:href=\"#m2fdf8b6fb5\" y=\"82.320921\"/>\n     <use style=\"fill:#1f77b4;stroke:#1f77b4;\" x=\"130.75857\" xlink:href=\"#m2fdf8b6fb5\" y=\"75.224207\"/>\n     <use style=\"fill:#1f77b4;stroke:#1f77b4;\" x=\"119.98409\" xlink:href=\"#m2fdf8b6fb5\" y=\"44.540571\"/>\n     <use style=\"fill:#1f77b4;stroke:#1f77b4;\" x=\"132.300583\" xlink:href=\"#m2fdf8b6fb5\" y=\"57.981044\"/>\n     <use style=\"fill:#1f77b4;stroke:#1f77b4;\" x=\"83.034845\" xlink:href=\"#m2fdf8b6fb5\" y=\"34.85686\"/>\n     <use style=\"fill:#1f77b4;stroke:#1f77b4;\" x=\"176.04017\" xlink:href=\"#m2fdf8b6fb5\" y=\"106.306536\"/>\n     <use style=\"fill:#1f77b4;stroke:#1f77b4;\" x=\"154.725021\" xlink:href=\"#m2fdf8b6fb5\" y=\"71.138009\"/>\n     <use style=\"fill:#1f77b4;stroke:#1f77b4;\" x=\"184.690423\" xlink:href=\"#m2fdf8b6fb5\" y=\"125.729951\"/>\n     <use style=\"fill:#1f77b4;stroke:#1f77b4;\" x=\"133.802073\" xlink:href=\"#m2fdf8b6fb5\" y=\"79.599992\"/>\n     <use style=\"fill:#1f77b4;stroke:#1f77b4;\" x=\"158.60238\" xlink:href=\"#m2fdf8b6fb5\" y=\"99.419751\"/>\n     <use style=\"fill:#1f77b4;stroke:#1f77b4;\" x=\"156.2865\" xlink:href=\"#m2fdf8b6fb5\" y=\"87.438474\"/>\n     <use style=\"fill:#1f77b4;stroke:#1f77b4;\" x=\"136.167644\" xlink:href=\"#m2fdf8b6fb5\" y=\"84.189003\"/>\n     <use style=\"fill:#1f77b4;stroke:#1f77b4;\" x=\"99.10213\" xlink:href=\"#m2fdf8b6fb5\" y=\"45.879356\"/>\n     <use style=\"fill:#1f77b4;stroke:#1f77b4;\" x=\"169.70391\" xlink:href=\"#m2fdf8b6fb5\" y=\"93.441357\"/>\n     <use style=\"fill:#1f77b4;stroke:#1f77b4;\" x=\"114.259012\" xlink:href=\"#m2fdf8b6fb5\" y=\"55.443034\"/>\n     <use style=\"fill:#1f77b4;stroke:#1f77b4;\" x=\"165.580629\" xlink:href=\"#m2fdf8b6fb5\" y=\"102.334063\"/>\n     <use style=\"fill:#1f77b4;stroke:#1f77b4;\" x=\"142.495413\" xlink:href=\"#m2fdf8b6fb5\" y=\"85.153269\"/>\n     <use style=\"fill:#1f77b4;stroke:#1f77b4;\" x=\"135.81524\" xlink:href=\"#m2fdf8b6fb5\" y=\"78.624376\"/>\n     <use style=\"fill:#1f77b4;stroke:#1f77b4;\" x=\"105.482897\" xlink:href=\"#m2fdf8b6fb5\" y=\"69.583891\"/>\n     <use style=\"fill:#1f77b4;stroke:#1f77b4;\" x=\"118.94777\" xlink:href=\"#m2fdf8b6fb5\" y=\"52.591193\"/>\n     <use style=\"fill:#1f77b4;stroke:#1f77b4;\" x=\"120.020001\" xlink:href=\"#m2fdf8b6fb5\" y=\"60.093412\"/>\n     <use style=\"fill:#1f77b4;stroke:#1f77b4;\" x=\"134.138178\" xlink:href=\"#m2fdf8b6fb5\" y=\"87.837792\"/>\n     <use style=\"fill:#1f77b4;stroke:#1f77b4;\" x=\"145.178233\" xlink:href=\"#m2fdf8b6fb5\" y=\"59.521973\"/>\n     <use style=\"fill:#1f77b4;stroke:#1f77b4;\" x=\"101.052062\" xlink:href=\"#m2fdf8b6fb5\" y=\"48.507613\"/>\n     <use style=\"fill:#1f77b4;stroke:#1f77b4;\" x=\"117.750867\" xlink:href=\"#m2fdf8b6fb5\" y=\"72.074916\"/>\n     <use style=\"fill:#1f77b4;stroke:#1f77b4;\" x=\"118.560984\" xlink:href=\"#m2fdf8b6fb5\" y=\"79.710498\"/>\n     <use style=\"fill:#1f77b4;stroke:#1f77b4;\" x=\"100.650134\" xlink:href=\"#m2fdf8b6fb5\" y=\"36.475839\"/>\n     <use style=\"fill:#1f77b4;stroke:#1f77b4;\" x=\"95.889552\" xlink:href=\"#m2fdf8b6fb5\" y=\"38.30998\"/>\n     <use style=\"fill:#1f77b4;stroke:#1f77b4;\" x=\"109.912805\" xlink:href=\"#m2fdf8b6fb5\" y=\"24.79718\"/>\n     <use style=\"fill:#1f77b4;stroke:#1f77b4;\" x=\"127.202684\" xlink:href=\"#m2fdf8b6fb5\" y=\"50.738648\"/>\n     <use style=\"fill:#1f77b4;stroke:#1f77b4;\" x=\"82.297827\" xlink:href=\"#m2fdf8b6fb5\" y=\"36.409995\"/>\n     <use style=\"fill:#1f77b4;stroke:#1f77b4;\" x=\"119.229968\" xlink:href=\"#m2fdf8b6fb5\" y=\"69.177122\"/>\n     <use style=\"fill:#1f77b4;stroke:#1f77b4;\" x=\"117.129522\" xlink:href=\"#m2fdf8b6fb5\" y=\"76.89617\"/>\n     <use style=\"fill:#1f77b4;stroke:#1f77b4;\" x=\"134.597966\" xlink:href=\"#m2fdf8b6fb5\" y=\"72.669366\"/>\n     <use style=\"fill:#1f77b4;stroke:#1f77b4;\" x=\"138.107537\" xlink:href=\"#m2fdf8b6fb5\" y=\"71.338139\"/>\n     <use style=\"fill:#1f77b4;stroke:#1f77b4;\" x=\"115.892659\" xlink:href=\"#m2fdf8b6fb5\" y=\"63.838294\"/>\n     <use style=\"fill:#1f77b4;stroke:#1f77b4;\" x=\"152.472471\" xlink:href=\"#m2fdf8b6fb5\" y=\"72.570343\"/>\n     <use style=\"fill:#1f77b4;stroke:#1f77b4;\" x=\"108.298887\" xlink:href=\"#m2fdf8b6fb5\" y=\"54.714437\"/>\n     <use style=\"fill:#1f77b4;stroke:#1f77b4;\" x=\"156.96231\" xlink:href=\"#m2fdf8b6fb5\" y=\"80.339693\"/>\n     <use style=\"fill:#1f77b4;stroke:#1f77b4;\" x=\"142.329194\" xlink:href=\"#m2fdf8b6fb5\" y=\"91.856339\"/>\n     <use style=\"fill:#1f77b4;stroke:#1f77b4;\" x=\"164.605824\" xlink:href=\"#m2fdf8b6fb5\" y=\"93.151789\"/>\n     <use style=\"fill:#1f77b4;stroke:#1f77b4;\" x=\"158.291288\" xlink:href=\"#m2fdf8b6fb5\" y=\"78.351761\"/>\n     <use style=\"fill:#1f77b4;stroke:#1f77b4;\" x=\"141.734801\" xlink:href=\"#m2fdf8b6fb5\" y=\"89.398213\"/>\n     <use style=\"fill:#1f77b4;stroke:#1f77b4;\" x=\"92.375095\" xlink:href=\"#m2fdf8b6fb5\" y=\"51.188863\"/>\n     <use style=\"fill:#1f77b4;stroke:#1f77b4;\" x=\"62.732247\" xlink:href=\"#m2fdf8b6fb5\" y=\"36.185525\"/>\n     <use style=\"fill:#1f77b4;stroke:#1f77b4;\" x=\"142.684337\" xlink:href=\"#m2fdf8b6fb5\" y=\"74.459354\"/>\n     <use style=\"fill:#1f77b4;stroke:#1f77b4;\" x=\"112.338806\" xlink:href=\"#m2fdf8b6fb5\" y=\"73.039017\"/>\n     <use style=\"fill:#1f77b4;stroke:#1f77b4;\" x=\"134.616868\" xlink:href=\"#m2fdf8b6fb5\" y=\"61.684057\"/>\n     <use style=\"fill:#1f77b4;stroke:#1f77b4;\" x=\"164.771914\" xlink:href=\"#m2fdf8b6fb5\" y=\"84.87216\"/>\n     <use style=\"fill:#1f77b4;stroke:#1f77b4;\" x=\"128.523274\" xlink:href=\"#m2fdf8b6fb5\" y=\"81.932299\"/>\n     <use style=\"fill:#1f77b4;stroke:#1f77b4;\" x=\"128.558305\" xlink:href=\"#m2fdf8b6fb5\" y=\"84.451628\"/>\n     <use style=\"fill:#1f77b4;stroke:#1f77b4;\" x=\"135.872301\" xlink:href=\"#m2fdf8b6fb5\" y=\"78.929927\"/>\n     <use style=\"fill:#1f77b4;stroke:#1f77b4;\" x=\"120.963839\" xlink:href=\"#m2fdf8b6fb5\" y=\"55.995526\"/>\n     <use style=\"fill:#1f77b4;stroke:#1f77b4;\" x=\"173.232668\" xlink:href=\"#m2fdf8b6fb5\" y=\"97.398396\"/>\n     <use style=\"fill:#1f77b4;stroke:#1f77b4;\" x=\"141.997335\" xlink:href=\"#m2fdf8b6fb5\" y=\"86.044867\"/>\n     <use style=\"fill:#1f77b4;stroke:#1f77b4;\" x=\"151.431245\" xlink:href=\"#m2fdf8b6fb5\" y=\"82.269658\"/>\n     <use style=\"fill:#1f77b4;stroke:#1f77b4;\" x=\"159.360232\" xlink:href=\"#m2fdf8b6fb5\" y=\"79.34146\"/>\n     <use style=\"fill:#1f77b4;stroke:#1f77b4;\" x=\"141.361673\" xlink:href=\"#m2fdf8b6fb5\" y=\"77.136599\"/>\n     <use style=\"fill:#1f77b4;stroke:#1f77b4;\" x=\"92.201943\" xlink:href=\"#m2fdf8b6fb5\" y=\"39.262125\"/>\n     <use style=\"fill:#1f77b4;stroke:#1f77b4;\" x=\"128.961597\" xlink:href=\"#m2fdf8b6fb5\" y=\"64.693189\"/>\n     <use style=\"fill:#1f77b4;stroke:#1f77b4;\" x=\"117.554712\" xlink:href=\"#m2fdf8b6fb5\" y=\"61.020157\"/>\n     <use style=\"fill:#1f77b4;stroke:#1f77b4;\" x=\"123.205496\" xlink:href=\"#m2fdf8b6fb5\" y=\"64.287122\"/>\n     <use style=\"fill:#1f77b4;stroke:#1f77b4;\" x=\"154.369588\" xlink:href=\"#m2fdf8b6fb5\" y=\"89.47297\"/>\n     <use style=\"fill:#1f77b4;stroke:#1f77b4;\" x=\"117.139129\" xlink:href=\"#m2fdf8b6fb5\" y=\"62.834317\"/>\n     <use style=\"fill:#1f77b4;stroke:#1f77b4;\" x=\"109.924418\" xlink:href=\"#m2fdf8b6fb5\" y=\"45.029005\"/>\n     <use style=\"fill:#1f77b4;stroke:#1f77b4;\" x=\"161.241744\" xlink:href=\"#m2fdf8b6fb5\" y=\"100.76768\"/>\n     <use style=\"fill:#1f77b4;stroke:#1f77b4;\" x=\"141.869441\" xlink:href=\"#m2fdf8b6fb5\" y=\"84.853913\"/>\n     <use style=\"fill:#1f77b4;stroke:#1f77b4;\" x=\"121.708979\" xlink:href=\"#m2fdf8b6fb5\" y=\"56.934753\"/>\n     <use style=\"fill:#1f77b4;stroke:#1f77b4;\" x=\"172.6218\" xlink:href=\"#m2fdf8b6fb5\" y=\"85.223695\"/>\n     <use style=\"fill:#1f77b4;stroke:#1f77b4;\" x=\"165.174539\" xlink:href=\"#m2fdf8b6fb5\" y=\"87.802182\"/>\n     <use style=\"fill:#1f77b4;stroke:#1f77b4;\" x=\"129.53145\" xlink:href=\"#m2fdf8b6fb5\" y=\"65.265861\"/>\n     <use style=\"fill:#1f77b4;stroke:#1f77b4;\" x=\"176.66856\" xlink:href=\"#m2fdf8b6fb5\" y=\"97.029221\"/>\n     <use style=\"fill:#1f77b4;stroke:#1f77b4;\" x=\"101.347932\" xlink:href=\"#m2fdf8b6fb5\" y=\"51.788029\"/>\n     <use style=\"fill:#1f77b4;stroke:#1f77b4;\" x=\"150.736426\" xlink:href=\"#m2fdf8b6fb5\" y=\"84.517665\"/>\n     <use style=\"fill:#1f77b4;stroke:#1f77b4;\" x=\"91.979283\" xlink:href=\"#m2fdf8b6fb5\" y=\"51.523448\"/>\n     <use style=\"fill:#1f77b4;stroke:#1f77b4;\" x=\"104.621726\" xlink:href=\"#m2fdf8b6fb5\" y=\"56.576491\"/>\n     <use style=\"fill:#1f77b4;stroke:#1f77b4;\" x=\"129.210916\" xlink:href=\"#m2fdf8b6fb5\" y=\"82.564604\"/>\n     <use style=\"fill:#1f77b4;stroke:#1f77b4;\" x=\"129.928402\" xlink:href=\"#m2fdf8b6fb5\" y=\"55.326525\"/>\n     <use style=\"fill:#1f77b4;stroke:#1f77b4;\" x=\"109.23786\" xlink:href=\"#m2fdf8b6fb5\" y=\"61.706911\"/>\n     <use style=\"fill:#1f77b4;stroke:#1f77b4;\" x=\"114.633549\" xlink:href=\"#m2fdf8b6fb5\" y=\"60.092133\"/>\n     <use style=\"fill:#1f77b4;stroke:#1f77b4;\" x=\"126.258501\" xlink:href=\"#m2fdf8b6fb5\" y=\"57.062416\"/>\n     <use style=\"fill:#1f77b4;stroke:#1f77b4;\" x=\"112.818868\" xlink:href=\"#m2fdf8b6fb5\" y=\"64.159345\"/>\n     <use style=\"fill:#1f77b4;stroke:#1f77b4;\" x=\"153.224927\" xlink:href=\"#m2fdf8b6fb5\" y=\"62.271359\"/>\n     <use style=\"fill:#1f77b4;stroke:#1f77b4;\" x=\"129.984208\" xlink:href=\"#m2fdf8b6fb5\" y=\"64.06828\"/>\n     <use style=\"fill:#1f77b4;stroke:#1f77b4;\" x=\"143.708564\" xlink:href=\"#m2fdf8b6fb5\" y=\"72.182536\"/>\n     <use style=\"fill:#1f77b4;stroke:#1f77b4;\" x=\"83.843847\" xlink:href=\"#m2fdf8b6fb5\" y=\"36.871659\"/>\n     <use style=\"fill:#1f77b4;stroke:#1f77b4;\" x=\"153.713595\" xlink:href=\"#m2fdf8b6fb5\" y=\"97.500432\"/>\n     <use style=\"fill:#1f77b4;stroke:#1f77b4;\" x=\"173.647539\" xlink:href=\"#m2fdf8b6fb5\" y=\"115.430704\"/>\n     <use style=\"fill:#1f77b4;stroke:#1f77b4;\" x=\"113.676884\" xlink:href=\"#m2fdf8b6fb5\" y=\"55.912188\"/>\n     <use style=\"fill:#1f77b4;stroke:#1f77b4;\" x=\"101.444925\" xlink:href=\"#m2fdf8b6fb5\" y=\"47.699004\"/>\n     <use style=\"fill:#1f77b4;stroke:#1f77b4;\" x=\"117.734333\" xlink:href=\"#m2fdf8b6fb5\" y=\"41.344524\"/>\n     <use style=\"fill:#1f77b4;stroke:#1f77b4;\" x=\"127.876622\" xlink:href=\"#m2fdf8b6fb5\" y=\"60.463675\"/>\n     <use style=\"fill:#1f77b4;stroke:#1f77b4;\" x=\"111.828081\" xlink:href=\"#m2fdf8b6fb5\" y=\"73.674245\"/>\n     <use style=\"fill:#1f77b4;stroke:#1f77b4;\" x=\"139.641644\" xlink:href=\"#m2fdf8b6fb5\" y=\"71.605621\"/>\n     <use style=\"fill:#1f77b4;stroke:#1f77b4;\" x=\"221.678018\" xlink:href=\"#m2fdf8b6fb5\" y=\"136.922727\"/>\n     <use style=\"fill:#1f77b4;stroke:#1f77b4;\" x=\"132.497923\" xlink:href=\"#m2fdf8b6fb5\" y=\"67.304288\"/>\n     <use style=\"fill:#1f77b4;stroke:#1f77b4;\" x=\"120.600202\" xlink:href=\"#m2fdf8b6fb5\" y=\"65.988632\"/>\n     <use style=\"fill:#1f77b4;stroke:#1f77b4;\" x=\"113.384905\" xlink:href=\"#m2fdf8b6fb5\" y=\"72.926007\"/>\n     <use style=\"fill:#1f77b4;stroke:#1f77b4;\" x=\"123.252802\" xlink:href=\"#m2fdf8b6fb5\" y=\"56.309834\"/>\n     <use style=\"fill:#1f77b4;stroke:#1f77b4;\" x=\"122.033797\" xlink:href=\"#m2fdf8b6fb5\" y=\"70.632228\"/>\n     <use style=\"fill:#1f77b4;stroke:#1f77b4;\" x=\"111.631517\" xlink:href=\"#m2fdf8b6fb5\" y=\"59.518013\"/>\n     <use style=\"fill:#1f77b4;stroke:#1f77b4;\" x=\"156.707094\" xlink:href=\"#m2fdf8b6fb5\" y=\"84.703513\"/>\n     <use style=\"fill:#1f77b4;stroke:#1f77b4;\" x=\"150.003296\" xlink:href=\"#m2fdf8b6fb5\" y=\"72.952247\"/>\n     <use style=\"fill:#1f77b4;stroke:#1f77b4;\" x=\"157.477121\" xlink:href=\"#m2fdf8b6fb5\" y=\"92.371147\"/>\n     <use style=\"fill:#1f77b4;stroke:#1f77b4;\" x=\"78.014456\" xlink:href=\"#m2fdf8b6fb5\" y=\"23.214566\"/>\n     <use style=\"fill:#1f77b4;stroke:#1f77b4;\" x=\"114.456767\" xlink:href=\"#m2fdf8b6fb5\" y=\"47.286187\"/>\n     <use style=\"fill:#1f77b4;stroke:#1f77b4;\" x=\"110.756068\" xlink:href=\"#m2fdf8b6fb5\" y=\"52.235993\"/>\n     <use style=\"fill:#1f77b4;stroke:#1f77b4;\" x=\"115.780558\" xlink:href=\"#m2fdf8b6fb5\" y=\"65.212748\"/>\n     <use style=\"fill:#1f77b4;stroke:#1f77b4;\" x=\"142.908341\" xlink:href=\"#m2fdf8b6fb5\" y=\"93.568942\"/>\n     <use style=\"fill:#1f77b4;stroke:#1f77b4;\" x=\"91.293863\" xlink:href=\"#m2fdf8b6fb5\" y=\"56.017304\"/>\n     <use style=\"fill:#1f77b4;stroke:#1f77b4;\" x=\"118.950471\" xlink:href=\"#m2fdf8b6fb5\" y=\"69.174352\"/>\n     <use style=\"fill:#1f77b4;stroke:#1f77b4;\" x=\"94.85157\" xlink:href=\"#m2fdf8b6fb5\" y=\"46.530351\"/>\n     <use style=\"fill:#1f77b4;stroke:#1f77b4;\" x=\"132.687662\" xlink:href=\"#m2fdf8b6fb5\" y=\"69.506326\"/>\n     <use style=\"fill:#1f77b4;stroke:#1f77b4;\" x=\"102.383669\" xlink:href=\"#m2fdf8b6fb5\" y=\"47.367491\"/>\n     <use style=\"fill:#1f77b4;stroke:#1f77b4;\" x=\"100.15566\" xlink:href=\"#m2fdf8b6fb5\" y=\"50.91392\"/>\n     <use style=\"fill:#1f77b4;stroke:#1f77b4;\" x=\"149.430422\" xlink:href=\"#m2fdf8b6fb5\" y=\"83.624074\"/>\n     <use style=\"fill:#1f77b4;stroke:#1f77b4;\" x=\"155.210718\" xlink:href=\"#m2fdf8b6fb5\" y=\"69.507446\"/>\n     <use style=\"fill:#1f77b4;stroke:#1f77b4;\" x=\"141.492157\" xlink:href=\"#m2fdf8b6fb5\" y=\"92.836971\"/>\n     <use style=\"fill:#1f77b4;stroke:#1f77b4;\" x=\"125.836789\" xlink:href=\"#m2fdf8b6fb5\" y=\"68.487591\"/>\n     <use style=\"fill:#1f77b4;stroke:#1f77b4;\" x=\"162.838873\" xlink:href=\"#m2fdf8b6fb5\" y=\"91.24205\"/>\n     <use style=\"fill:#1f77b4;stroke:#1f77b4;\" x=\"110.582414\" xlink:href=\"#m2fdf8b6fb5\" y=\"47.275502\"/>\n     <use style=\"fill:#1f77b4;stroke:#1f77b4;\" x=\"154.78877\" xlink:href=\"#m2fdf8b6fb5\" y=\"90.371877\"/>\n     <use style=\"fill:#1f77b4;stroke:#1f77b4;\" x=\"101.985606\" xlink:href=\"#m2fdf8b6fb5\" y=\"60.675987\"/>\n     <use style=\"fill:#1f77b4;stroke:#1f77b4;\" x=\"161.249557\" xlink:href=\"#m2fdf8b6fb5\" y=\"95.616667\"/>\n     <use style=\"fill:#1f77b4;stroke:#1f77b4;\" x=\"127.790974\" xlink:href=\"#m2fdf8b6fb5\" y=\"61.173498\"/>\n     <use style=\"fill:#1f77b4;stroke:#1f77b4;\" x=\"107.75316\" xlink:href=\"#m2fdf8b6fb5\" y=\"55.755502\"/>\n     <use style=\"fill:#1f77b4;stroke:#1f77b4;\" x=\"83.075173\" xlink:href=\"#m2fdf8b6fb5\" y=\"55.464297\"/>\n     <use style=\"fill:#1f77b4;stroke:#1f77b4;\" x=\"112.459054\" xlink:href=\"#m2fdf8b6fb5\" y=\"56.854742\"/>\n     <use style=\"fill:#1f77b4;stroke:#1f77b4;\" x=\"55.882357\" xlink:href=\"#m2fdf8b6fb5\" y=\"23.800452\"/>\n     <use style=\"fill:#1f77b4;stroke:#1f77b4;\" x=\"106.72799\" xlink:href=\"#m2fdf8b6fb5\" y=\"58.081643\"/>\n     <use style=\"fill:#1f77b4;stroke:#1f77b4;\" x=\"110.264167\" xlink:href=\"#m2fdf8b6fb5\" y=\"46.730792\"/>\n     <use style=\"fill:#1f77b4;stroke:#1f77b4;\" x=\"167.469508\" xlink:href=\"#m2fdf8b6fb5\" y=\"88.771218\"/>\n     <use style=\"fill:#1f77b4;stroke:#1f77b4;\" x=\"117.117542\" xlink:href=\"#m2fdf8b6fb5\" y=\"67.677144\"/>\n     <use style=\"fill:#1f77b4;stroke:#1f77b4;\" x=\"130.501579\" xlink:href=\"#m2fdf8b6fb5\" y=\"64.552784\"/>\n     <use style=\"fill:#1f77b4;stroke:#1f77b4;\" x=\"174.109818\" xlink:href=\"#m2fdf8b6fb5\" y=\"110.556763\"/>\n     <use style=\"fill:#1f77b4;stroke:#1f77b4;\" x=\"125.985473\" xlink:href=\"#m2fdf8b6fb5\" y=\"85.5322\"/>\n     <use style=\"fill:#1f77b4;stroke:#1f77b4;\" x=\"141.880712\" xlink:href=\"#m2fdf8b6fb5\" y=\"72.099119\"/>\n     <use style=\"fill:#1f77b4;stroke:#1f77b4;\" x=\"158.859687\" xlink:href=\"#m2fdf8b6fb5\" y=\"92.157906\"/>\n     <use style=\"fill:#1f77b4;stroke:#1f77b4;\" x=\"134.367867\" xlink:href=\"#m2fdf8b6fb5\" y=\"71.694346\"/>\n     <use style=\"fill:#1f77b4;stroke:#1f77b4;\" x=\"133.961982\" xlink:href=\"#m2fdf8b6fb5\" y=\"77.51585\"/>\n     <use style=\"fill:#1f77b4;stroke:#1f77b4;\" x=\"171.746315\" xlink:href=\"#m2fdf8b6fb5\" y=\"86.27802\"/>\n     <use style=\"fill:#1f77b4;stroke:#1f77b4;\" x=\"121.404174\" xlink:href=\"#m2fdf8b6fb5\" y=\"47.208596\"/>\n     <use style=\"fill:#1f77b4;stroke:#1f77b4;\" x=\"168.144231\" xlink:href=\"#m2fdf8b6fb5\" y=\"95.181024\"/>\n     <use style=\"fill:#1f77b4;stroke:#1f77b4;\" x=\"143.965935\" xlink:href=\"#m2fdf8b6fb5\" y=\"70.893296\"/>\n     <use style=\"fill:#1f77b4;stroke:#1f77b4;\" x=\"88.788771\" xlink:href=\"#m2fdf8b6fb5\" y=\"61.406585\"/>\n     <use style=\"fill:#1f77b4;stroke:#1f77b4;\" x=\"156.538019\" xlink:href=\"#m2fdf8b6fb5\" y=\"91.144824\"/>\n     <use style=\"fill:#1f77b4;stroke:#1f77b4;\" x=\"136.948402\" xlink:href=\"#m2fdf8b6fb5\" y=\"71.826002\"/>\n     <use style=\"fill:#1f77b4;stroke:#1f77b4;\" x=\"81.519152\" xlink:href=\"#m2fdf8b6fb5\" y=\"32.380817\"/>\n     <use style=\"fill:#1f77b4;stroke:#1f77b4;\" x=\"161.166141\" xlink:href=\"#m2fdf8b6fb5\" y=\"95.03549\"/>\n     <use style=\"fill:#1f77b4;stroke:#1f77b4;\" x=\"136.502727\" xlink:href=\"#m2fdf8b6fb5\" y=\"49.940672\"/>\n     <use style=\"fill:#1f77b4;stroke:#1f77b4;\" x=\"114.546503\" xlink:href=\"#m2fdf8b6fb5\" y=\"77.495532\"/>\n     <use style=\"fill:#1f77b4;stroke:#1f77b4;\" x=\"146.032932\" xlink:href=\"#m2fdf8b6fb5\" y=\"88.180438\"/>\n     <use style=\"fill:#1f77b4;stroke:#1f77b4;\" x=\"159.659838\" xlink:href=\"#m2fdf8b6fb5\" y=\"95.022208\"/>\n     <use style=\"fill:#1f77b4;stroke:#1f77b4;\" x=\"76.654339\" xlink:href=\"#m2fdf8b6fb5\" y=\"47.561524\"/>\n     <use style=\"fill:#1f77b4;stroke:#1f77b4;\" x=\"153.836357\" xlink:href=\"#m2fdf8b6fb5\" y=\"101.716707\"/>\n     <use style=\"fill:#1f77b4;stroke:#1f77b4;\" x=\"109.18314\" xlink:href=\"#m2fdf8b6fb5\" y=\"49.627332\"/>\n     <use style=\"fill:#1f77b4;stroke:#1f77b4;\" x=\"90.962428\" xlink:href=\"#m2fdf8b6fb5\" y=\"44.627712\"/>\n     <use style=\"fill:#1f77b4;stroke:#1f77b4;\" x=\"164.595112\" xlink:href=\"#m2fdf8b6fb5\" y=\"97.680188\"/>\n     <use style=\"fill:#1f77b4;stroke:#1f77b4;\" x=\"139.092894\" xlink:href=\"#m2fdf8b6fb5\" y=\"79.242475\"/>\n     <use style=\"fill:#1f77b4;stroke:#1f77b4;\" x=\"119.456403\" xlink:href=\"#m2fdf8b6fb5\" y=\"64.725984\"/>\n     <use style=\"fill:#1f77b4;stroke:#1f77b4;\" x=\"125.326063\" xlink:href=\"#m2fdf8b6fb5\" y=\"65.078108\"/>\n     <use style=\"fill:#1f77b4;stroke:#1f77b4;\" x=\"95.156221\" xlink:href=\"#m2fdf8b6fb5\" y=\"55.228437\"/>\n     <use style=\"fill:#1f77b4;stroke:#1f77b4;\" x=\"122.647692\" xlink:href=\"#m2fdf8b6fb5\" y=\"67.626785\"/>\n     <use style=\"fill:#1f77b4;stroke:#1f77b4;\" x=\"114.114514\" xlink:href=\"#m2fdf8b6fb5\" y=\"64.621016\"/>\n     <use style=\"fill:#1f77b4;stroke:#1f77b4;\" x=\"148.66705\" xlink:href=\"#m2fdf8b6fb5\" y=\"93.970872\"/>\n     <use style=\"fill:#1f77b4;stroke:#1f77b4;\" x=\"117.407048\" xlink:href=\"#m2fdf8b6fb5\" y=\"74.651006\"/>\n     <use style=\"fill:#1f77b4;stroke:#1f77b4;\" x=\"163.029996\" xlink:href=\"#m2fdf8b6fb5\" y=\"77.67878\"/>\n     <use style=\"fill:#1f77b4;stroke:#1f77b4;\" x=\"111.397519\" xlink:href=\"#m2fdf8b6fb5\" y=\"43.829651\"/>\n     <use style=\"fill:#1f77b4;stroke:#1f77b4;\" x=\"130.012477\" xlink:href=\"#m2fdf8b6fb5\" y=\"83.148\"/>\n     <use style=\"fill:#1f77b4;stroke:#1f77b4;\" x=\"127.84147\" xlink:href=\"#m2fdf8b6fb5\" y=\"81.078299\"/>\n     <use style=\"fill:#1f77b4;stroke:#1f77b4;\" x=\"111.953145\" xlink:href=\"#m2fdf8b6fb5\" y=\"66.26113\"/>\n     <use style=\"fill:#1f77b4;stroke:#1f77b4;\" x=\"108.818202\" xlink:href=\"#m2fdf8b6fb5\" y=\"54.884893\"/>\n     <use style=\"fill:#1f77b4;stroke:#1f77b4;\" x=\"90.34915\" xlink:href=\"#m2fdf8b6fb5\" y=\"45.047397\"/>\n     <use style=\"fill:#1f77b4;stroke:#1f77b4;\" x=\"106.563138\" xlink:href=\"#m2fdf8b6fb5\" y=\"57.94273\"/>\n     <use style=\"fill:#1f77b4;stroke:#1f77b4;\" x=\"79.226012\" xlink:href=\"#m2fdf8b6fb5\" y=\"58.597991\"/>\n     <use style=\"fill:#1f77b4;stroke:#1f77b4;\" x=\"135.172916\" xlink:href=\"#m2fdf8b6fb5\" y=\"69.663258\"/>\n     <use style=\"fill:#1f77b4;stroke:#1f77b4;\" x=\"116.361229\" xlink:href=\"#m2fdf8b6fb5\" y=\"65.402732\"/>\n     <use style=\"fill:#1f77b4;stroke:#1f77b4;\" x=\"136.318119\" xlink:href=\"#m2fdf8b6fb5\" y=\"73.327122\"/>\n     <use style=\"fill:#1f77b4;stroke:#1f77b4;\" x=\"133.496813\" xlink:href=\"#m2fdf8b6fb5\" y=\"61.654243\"/>\n     <use style=\"fill:#1f77b4;stroke:#1f77b4;\" x=\"115.663804\" xlink:href=\"#m2fdf8b6fb5\" y=\"72.142438\"/>\n     <use style=\"fill:#1f77b4;stroke:#1f77b4;\" x=\"141.682673\" xlink:href=\"#m2fdf8b6fb5\" y=\"81.319608\"/>\n     <use style=\"fill:#1f77b4;stroke:#1f77b4;\" x=\"145.583564\" xlink:href=\"#m2fdf8b6fb5\" y=\"82.189897\"/>\n     <use style=\"fill:#1f77b4;stroke:#1f77b4;\" x=\"154.123232\" xlink:href=\"#m2fdf8b6fb5\" y=\"97.446296\"/>\n     <use style=\"fill:#1f77b4;stroke:#1f77b4;\" x=\"107.963595\" xlink:href=\"#m2fdf8b6fb5\" y=\"56.078535\"/>\n     <use style=\"fill:#1f77b4;stroke:#1f77b4;\" x=\"123.236385\" xlink:href=\"#m2fdf8b6fb5\" y=\"77.441967\"/>\n     <use style=\"fill:#1f77b4;stroke:#1f77b4;\" x=\"61.091964\" xlink:href=\"#m2fdf8b6fb5\" y=\"23.210644\"/>\n     <use style=\"fill:#1f77b4;stroke:#1f77b4;\" x=\"123.29818\" xlink:href=\"#m2fdf8b6fb5\" y=\"71.070163\"/>\n     <use style=\"fill:#1f77b4;stroke:#1f77b4;\" x=\"130.821384\" xlink:href=\"#m2fdf8b6fb5\" y=\"43.928399\"/>\n     <use style=\"fill:#1f77b4;stroke:#1f77b4;\" x=\"156.579558\" xlink:href=\"#m2fdf8b6fb5\" y=\"87.009775\"/>\n     <use style=\"fill:#1f77b4;stroke:#1f77b4;\" x=\"117.329971\" xlink:href=\"#m2fdf8b6fb5\" y=\"55.32541\"/>\n     <use style=\"fill:#1f77b4;stroke:#1f77b4;\" x=\"172.380374\" xlink:href=\"#m2fdf8b6fb5\" y=\"89.967474\"/>\n     <use style=\"fill:#1f77b4;stroke:#1f77b4;\" x=\"193.07177\" xlink:href=\"#m2fdf8b6fb5\" y=\"97.224473\"/>\n     <use style=\"fill:#1f77b4;stroke:#1f77b4;\" x=\"121.635425\" xlink:href=\"#m2fdf8b6fb5\" y=\"53.576142\"/>\n     <use style=\"fill:#1f77b4;stroke:#1f77b4;\" x=\"111.310345\" xlink:href=\"#m2fdf8b6fb5\" y=\"53.323461\"/>\n     <use style=\"fill:#1f77b4;stroke:#1f77b4;\" x=\"120.463004\" xlink:href=\"#m2fdf8b6fb5\" y=\"74.620816\"/>\n     <use style=\"fill:#1f77b4;stroke:#1f77b4;\" x=\"119.424455\" xlink:href=\"#m2fdf8b6fb5\" y=\"54.93834\"/>\n     <use style=\"fill:#1f77b4;stroke:#1f77b4;\" x=\"122.816718\" xlink:href=\"#m2fdf8b6fb5\" y=\"65.038578\"/>\n     <use style=\"fill:#1f77b4;stroke:#1f77b4;\" x=\"172.463781\" xlink:href=\"#m2fdf8b6fb5\" y=\"110.320881\"/>\n     <use style=\"fill:#1f77b4;stroke:#1f77b4;\" x=\"139.809493\" xlink:href=\"#m2fdf8b6fb5\" y=\"79.343948\"/>\n     <use style=\"fill:#1f77b4;stroke:#1f77b4;\" x=\"125.757075\" xlink:href=\"#m2fdf8b6fb5\" y=\"71.091327\"/>\n     <use style=\"fill:#1f77b4;stroke:#1f77b4;\" x=\"149.304372\" xlink:href=\"#m2fdf8b6fb5\" y=\"78.325284\"/>\n     <use style=\"fill:#1f77b4;stroke:#1f77b4;\" x=\"132.429601\" xlink:href=\"#m2fdf8b6fb5\" y=\"66.040208\"/>\n     <use style=\"fill:#1f77b4;stroke:#1f77b4;\" x=\"136.738523\" xlink:href=\"#m2fdf8b6fb5\" y=\"71.848614\"/>\n     <use style=\"fill:#1f77b4;stroke:#1f77b4;\" x=\"121.58864\" xlink:href=\"#m2fdf8b6fb5\" y=\"67.463316\"/>\n     <use style=\"fill:#1f77b4;stroke:#1f77b4;\" x=\"145.309734\" xlink:href=\"#m2fdf8b6fb5\" y=\"61.342871\"/>\n     <use style=\"fill:#1f77b4;stroke:#1f77b4;\" x=\"95.375662\" xlink:href=\"#m2fdf8b6fb5\" y=\"55.424279\"/>\n     <use style=\"fill:#1f77b4;stroke:#1f77b4;\" x=\"162.348027\" xlink:href=\"#m2fdf8b6fb5\" y=\"76.243569\"/>\n     <use style=\"fill:#1f77b4;stroke:#1f77b4;\" x=\"108.334153\" xlink:href=\"#m2fdf8b6fb5\" y=\"61.627607\"/>\n     <use style=\"fill:#1f77b4;stroke:#1f77b4;\" x=\"168.677836\" xlink:href=\"#m2fdf8b6fb5\" y=\"94.554006\"/>\n     <use style=\"fill:#1f77b4;stroke:#1f77b4;\" x=\"112.968114\" xlink:href=\"#m2fdf8b6fb5\" y=\"63.741056\"/>\n     <use style=\"fill:#1f77b4;stroke:#1f77b4;\" x=\"82.42469\" xlink:href=\"#m2fdf8b6fb5\" y=\"32.908976\"/>\n     <use style=\"fill:#1f77b4;stroke:#1f77b4;\" x=\"142.33276\" xlink:href=\"#m2fdf8b6fb5\" y=\"98.364558\"/>\n     <use style=\"fill:#1f77b4;stroke:#1f77b4;\" x=\"92.429182\" xlink:href=\"#m2fdf8b6fb5\" y=\"43.232574\"/>\n     <use style=\"fill:#1f77b4;stroke:#1f77b4;\" x=\"115.685935\" xlink:href=\"#m2fdf8b6fb5\" y=\"62.315714\"/>\n     <use style=\"fill:#1f77b4;stroke:#1f77b4;\" x=\"110.454308\" xlink:href=\"#m2fdf8b6fb5\" y=\"69.261132\"/>\n     <use style=\"fill:#1f77b4;stroke:#1f77b4;\" x=\"153.76175\" xlink:href=\"#m2fdf8b6fb5\" y=\"64.915632\"/>\n     <use style=\"fill:#1f77b4;stroke:#1f77b4;\" x=\"126.079253\" xlink:href=\"#m2fdf8b6fb5\" y=\"81.455976\"/>\n     <use style=\"fill:#1f77b4;stroke:#1f77b4;\" x=\"139.80353\" xlink:href=\"#m2fdf8b6fb5\" y=\"65.258234\"/>\n     <use style=\"fill:#1f77b4;stroke:#1f77b4;\" x=\"132.507885\" xlink:href=\"#m2fdf8b6fb5\" y=\"74.539095\"/>\n     <use style=\"fill:#1f77b4;stroke:#1f77b4;\" x=\"120.709413\" xlink:href=\"#m2fdf8b6fb5\" y=\"78.163109\"/>\n     <use style=\"fill:#1f77b4;stroke:#1f77b4;\" x=\"135.74953\" xlink:href=\"#m2fdf8b6fb5\" y=\"83.684967\"/>\n     <use style=\"fill:#1f77b4;stroke:#1f77b4;\" x=\"101.792865\" xlink:href=\"#m2fdf8b6fb5\" y=\"37.355422\"/>\n     <use style=\"fill:#1f77b4;stroke:#1f77b4;\" x=\"143.967419\" xlink:href=\"#m2fdf8b6fb5\" y=\"77.583223\"/>\n     <use style=\"fill:#1f77b4;stroke:#1f77b4;\" x=\"157.576638\" xlink:href=\"#m2fdf8b6fb5\" y=\"87.49175\"/>\n     <use style=\"fill:#1f77b4;stroke:#1f77b4;\" x=\"86.253717\" xlink:href=\"#m2fdf8b6fb5\" y=\"41.217684\"/>\n     <use style=\"fill:#1f77b4;stroke:#1f77b4;\" x=\"123.815199\" xlink:href=\"#m2fdf8b6fb5\" y=\"85.504897\"/>\n     <use style=\"fill:#1f77b4;stroke:#1f77b4;\" x=\"95.104491\" xlink:href=\"#m2fdf8b6fb5\" y=\"66.51253\"/>\n     <use style=\"fill:#1f77b4;stroke:#1f77b4;\" x=\"118.260764\" xlink:href=\"#m2fdf8b6fb5\" y=\"74.928661\"/>\n     <use style=\"fill:#1f77b4;stroke:#1f77b4;\" x=\"126.350177\" xlink:href=\"#m2fdf8b6fb5\" y=\"72.263691\"/>\n     <use style=\"fill:#1f77b4;stroke:#1f77b4;\" x=\"138.217929\" xlink:href=\"#m2fdf8b6fb5\" y=\"63.596519\"/>\n     <use style=\"fill:#1f77b4;stroke:#1f77b4;\" x=\"121.761078\" xlink:href=\"#m2fdf8b6fb5\" y=\"59.784416\"/>\n     <use style=\"fill:#1f77b4;stroke:#1f77b4;\" x=\"175.911306\" xlink:href=\"#m2fdf8b6fb5\" y=\"101.433592\"/>\n     <use style=\"fill:#1f77b4;stroke:#1f77b4;\" x=\"102.472324\" xlink:href=\"#m2fdf8b6fb5\" y=\"41.261961\"/>\n     <use style=\"fill:#1f77b4;stroke:#1f77b4;\" x=\"131.119572\" xlink:href=\"#m2fdf8b6fb5\" y=\"82.867505\"/>\n     <use style=\"fill:#1f77b4;stroke:#1f77b4;\" x=\"94.612112\" xlink:href=\"#m2fdf8b6fb5\" y=\"42.184212\"/>\n     <use style=\"fill:#1f77b4;stroke:#1f77b4;\" x=\"113.823687\" xlink:href=\"#m2fdf8b6fb5\" y=\"58.346134\"/>\n     <use style=\"fill:#1f77b4;stroke:#1f77b4;\" x=\"101.555662\" xlink:href=\"#m2fdf8b6fb5\" y=\"65.246085\"/>\n     <use style=\"fill:#1f77b4;stroke:#1f77b4;\" x=\"131.114098\" xlink:href=\"#m2fdf8b6fb5\" y=\"64.580786\"/>\n     <use style=\"fill:#1f77b4;stroke:#1f77b4;\" x=\"130.537148\" xlink:href=\"#m2fdf8b6fb5\" y=\"52.487169\"/>\n     <use style=\"fill:#1f77b4;stroke:#1f77b4;\" x=\"151.254957\" xlink:href=\"#m2fdf8b6fb5\" y=\"87.577933\"/>\n     <use style=\"fill:#1f77b4;stroke:#1f77b4;\" x=\"147.981955\" xlink:href=\"#m2fdf8b6fb5\" y=\"80.947702\"/>\n     <use style=\"fill:#1f77b4;stroke:#1f77b4;\" x=\"116.289995\" xlink:href=\"#m2fdf8b6fb5\" y=\"61.269338\"/>\n     <use style=\"fill:#1f77b4;stroke:#1f77b4;\" x=\"75.266466\" xlink:href=\"#m2fdf8b6fb5\" y=\"47.70646\"/>\n     <use style=\"fill:#1f77b4;stroke:#1f77b4;\" x=\"44.18196\" xlink:href=\"#m2fdf8b6fb5\" y=\"17.077241\"/>\n     <use style=\"fill:#1f77b4;stroke:#1f77b4;\" x=\"151.464388\" xlink:href=\"#m2fdf8b6fb5\" y=\"74.959747\"/>\n     <use style=\"fill:#1f77b4;stroke:#1f77b4;\" x=\"95.746802\" xlink:href=\"#m2fdf8b6fb5\" y=\"35.633254\"/>\n     <use style=\"fill:#1f77b4;stroke:#1f77b4;\" x=\"126.094403\" xlink:href=\"#m2fdf8b6fb5\" y=\"60.425481\"/>\n     <use style=\"fill:#1f77b4;stroke:#1f77b4;\" x=\"120.672575\" xlink:href=\"#m2fdf8b6fb5\" y=\"46.291078\"/>\n     <use style=\"fill:#1f77b4;stroke:#1f77b4;\" x=\"74.313479\" xlink:href=\"#m2fdf8b6fb5\" y=\"29.292223\"/>\n     <use style=\"fill:#1f77b4;stroke:#1f77b4;\" x=\"129.137626\" xlink:href=\"#m2fdf8b6fb5\" y=\"78.359412\"/>\n     <use style=\"fill:#1f77b4;stroke:#1f77b4;\" x=\"156.239969\" xlink:href=\"#m2fdf8b6fb5\" y=\"75.197481\"/>\n     <use style=\"fill:#1f77b4;stroke:#1f77b4;\" x=\"162.463225\" xlink:href=\"#m2fdf8b6fb5\" y=\"91.432418\"/>\n     <use style=\"fill:#1f77b4;stroke:#1f77b4;\" x=\"145.983683\" xlink:href=\"#m2fdf8b6fb5\" y=\"80.866427\"/>\n     <use style=\"fill:#1f77b4;stroke:#1f77b4;\" x=\"117.750691\" xlink:href=\"#m2fdf8b6fb5\" y=\"69.068008\"/>\n     <use style=\"fill:#1f77b4;stroke:#1f77b4;\" x=\"130.868663\" xlink:href=\"#m2fdf8b6fb5\" y=\"70.825544\"/>\n     <use style=\"fill:#1f77b4;stroke:#1f77b4;\" x=\"86.275065\" xlink:href=\"#m2fdf8b6fb5\" y=\"59.014005\"/>\n     <use style=\"fill:#1f77b4;stroke:#1f77b4;\" x=\"128.593297\" xlink:href=\"#m2fdf8b6fb5\" y=\"70.761693\"/>\n     <use style=\"fill:#1f77b4;stroke:#1f77b4;\" x=\"110.239186\" xlink:href=\"#m2fdf8b6fb5\" y=\"40.854161\"/>\n     <use style=\"fill:#1f77b4;stroke:#1f77b4;\" x=\"154.524556\" xlink:href=\"#m2fdf8b6fb5\" y=\"79.165731\"/>\n     <use style=\"fill:#1f77b4;stroke:#1f77b4;\" x=\"119.940158\" xlink:href=\"#m2fdf8b6fb5\" y=\"64.036917\"/>\n     <use style=\"fill:#1f77b4;stroke:#1f77b4;\" x=\"183.870779\" xlink:href=\"#m2fdf8b6fb5\" y=\"105.757477\"/>\n     <use style=\"fill:#1f77b4;stroke:#1f77b4;\" x=\"132.810411\" xlink:href=\"#m2fdf8b6fb5\" y=\"70.162542\"/>\n     <use style=\"fill:#1f77b4;stroke:#1f77b4;\" x=\"121.1023\" xlink:href=\"#m2fdf8b6fb5\" y=\"66.509866\"/>\n     <use style=\"fill:#1f77b4;stroke:#1f77b4;\" x=\"129.182713\" xlink:href=\"#m2fdf8b6fb5\" y=\"62.848393\"/>\n     <use style=\"fill:#1f77b4;stroke:#1f77b4;\" x=\"123.641473\" xlink:href=\"#m2fdf8b6fb5\" y=\"41.720875\"/>\n     <use style=\"fill:#1f77b4;stroke:#1f77b4;\" x=\"128.236876\" xlink:href=\"#m2fdf8b6fb5\" y=\"61.433759\"/>\n     <use style=\"fill:#1f77b4;stroke:#1f77b4;\" x=\"142.204959\" xlink:href=\"#m2fdf8b6fb5\" y=\"98.047064\"/>\n     <use style=\"fill:#1f77b4;stroke:#1f77b4;\" x=\"166.683768\" xlink:href=\"#m2fdf8b6fb5\" y=\"85.810999\"/>\n     <use style=\"fill:#1f77b4;stroke:#1f77b4;\" x=\"138.955114\" xlink:href=\"#m2fdf8b6fb5\" y=\"63.728777\"/>\n     <use style=\"fill:#1f77b4;stroke:#1f77b4;\" x=\"88.597965\" xlink:href=\"#m2fdf8b6fb5\" y=\"47.652355\"/>\n     <use style=\"fill:#1f77b4;stroke:#1f77b4;\" x=\"92.136109\" xlink:href=\"#m2fdf8b6fb5\" y=\"50.154219\"/>\n     <use style=\"fill:#1f77b4;stroke:#1f77b4;\" x=\"122.407309\" xlink:href=\"#m2fdf8b6fb5\" y=\"55.660111\"/>\n     <use style=\"fill:#1f77b4;stroke:#1f77b4;\" x=\"138.180194\" xlink:href=\"#m2fdf8b6fb5\" y=\"84.834904\"/>\n     <use style=\"fill:#1f77b4;stroke:#1f77b4;\" x=\"97.643255\" xlink:href=\"#m2fdf8b6fb5\" y=\"45.87553\"/>\n     <use style=\"fill:#1f77b4;stroke:#1f77b4;\" x=\"151.106913\" xlink:href=\"#m2fdf8b6fb5\" y=\"69.680316\"/>\n     <use style=\"fill:#1f77b4;stroke:#1f77b4;\" x=\"146.008027\" xlink:href=\"#m2fdf8b6fb5\" y=\"73.119447\"/>\n     <use style=\"fill:#1f77b4;stroke:#1f77b4;\" x=\"126.756376\" xlink:href=\"#m2fdf8b6fb5\" y=\"59.982634\"/>\n     <use style=\"fill:#1f77b4;stroke:#1f77b4;\" x=\"118.17677\" xlink:href=\"#m2fdf8b6fb5\" y=\"57.533944\"/>\n     <use style=\"fill:#1f77b4;stroke:#1f77b4;\" x=\"119.116873\" xlink:href=\"#m2fdf8b6fb5\" y=\"74.54963\"/>\n     <use style=\"fill:#1f77b4;stroke:#1f77b4;\" x=\"82.84587\" xlink:href=\"#m2fdf8b6fb5\" y=\"30.442624\"/>\n     <use style=\"fill:#1f77b4;stroke:#1f77b4;\" x=\"139.128312\" xlink:href=\"#m2fdf8b6fb5\" y=\"69.885852\"/>\n     <use style=\"fill:#1f77b4;stroke:#1f77b4;\" x=\"130.028038\" xlink:href=\"#m2fdf8b6fb5\" y=\"65.322639\"/>\n     <use style=\"fill:#1f77b4;stroke:#1f77b4;\" x=\"158.346354\" xlink:href=\"#m2fdf8b6fb5\" y=\"98.624058\"/>\n     <use style=\"fill:#1f77b4;stroke:#1f77b4;\" x=\"116.78685\" xlink:href=\"#m2fdf8b6fb5\" y=\"55.516229\"/>\n     <use style=\"fill:#1f77b4;stroke:#1f77b4;\" x=\"108.933092\" xlink:href=\"#m2fdf8b6fb5\" y=\"50.991414\"/>\n     <use style=\"fill:#1f77b4;stroke:#1f77b4;\" x=\"145.730757\" xlink:href=\"#m2fdf8b6fb5\" y=\"79.661176\"/>\n     <use style=\"fill:#1f77b4;stroke:#1f77b4;\" x=\"90.688209\" xlink:href=\"#m2fdf8b6fb5\" y=\"54.102938\"/>\n     <use style=\"fill:#1f77b4;stroke:#1f77b4;\" x=\"66.77703\" xlink:href=\"#m2fdf8b6fb5\" y=\"33.273388\"/>\n     <use style=\"fill:#1f77b4;stroke:#1f77b4;\" x=\"140.687462\" xlink:href=\"#m2fdf8b6fb5\" y=\"83.351879\"/>\n     <use style=\"fill:#1f77b4;stroke:#1f77b4;\" x=\"135.235492\" xlink:href=\"#m2fdf8b6fb5\" y=\"74.059547\"/>\n     <use style=\"fill:#1f77b4;stroke:#1f77b4;\" x=\"168.998646\" xlink:href=\"#m2fdf8b6fb5\" y=\"84.58095\"/>\n     <use style=\"fill:#1f77b4;stroke:#1f77b4;\" x=\"124.20749\" xlink:href=\"#m2fdf8b6fb5\" y=\"62.722739\"/>\n     <use style=\"fill:#1f77b4;stroke:#1f77b4;\" x=\"119.080494\" xlink:href=\"#m2fdf8b6fb5\" y=\"56.694144\"/>\n     <use style=\"fill:#1f77b4;stroke:#1f77b4;\" x=\"161.959179\" xlink:href=\"#m2fdf8b6fb5\" y=\"93.6558\"/>\n     <use style=\"fill:#1f77b4;stroke:#1f77b4;\" x=\"149.99031\" xlink:href=\"#m2fdf8b6fb5\" y=\"73.504281\"/>\n     <use style=\"fill:#1f77b4;stroke:#1f77b4;\" x=\"122.656338\" xlink:href=\"#m2fdf8b6fb5\" y=\"73.679794\"/>\n     <use style=\"fill:#1f77b4;stroke:#1f77b4;\" x=\"135.974545\" xlink:href=\"#m2fdf8b6fb5\" y=\"75.662573\"/>\n     <use style=\"fill:#1f77b4;stroke:#1f77b4;\" x=\"165.668881\" xlink:href=\"#m2fdf8b6fb5\" y=\"79.808092\"/>\n     <use style=\"fill:#1f77b4;stroke:#1f77b4;\" x=\"99.485531\" xlink:href=\"#m2fdf8b6fb5\" y=\"37.146431\"/>\n     <use style=\"fill:#1f77b4;stroke:#1f77b4;\" x=\"148.744683\" xlink:href=\"#m2fdf8b6fb5\" y=\"87.018472\"/>\n     <use style=\"fill:#1f77b4;stroke:#1f77b4;\" x=\"102.804177\" xlink:href=\"#m2fdf8b6fb5\" y=\"42.678789\"/>\n     <use style=\"fill:#1f77b4;stroke:#1f77b4;\" x=\"71.913053\" xlink:href=\"#m2fdf8b6fb5\" y=\"38.776875\"/>\n     <use style=\"fill:#1f77b4;stroke:#1f77b4;\" x=\"136.790366\" xlink:href=\"#m2fdf8b6fb5\" y=\"78.159907\"/>\n     <use style=\"fill:#1f77b4;stroke:#1f77b4;\" x=\"135.452312\" xlink:href=\"#m2fdf8b6fb5\" y=\"68.067309\"/>\n     <use style=\"fill:#1f77b4;stroke:#1f77b4;\" x=\"131.53787\" xlink:href=\"#m2fdf8b6fb5\" y=\"76.542629\"/>\n     <use style=\"fill:#1f77b4;stroke:#1f77b4;\" x=\"93.059029\" xlink:href=\"#m2fdf8b6fb5\" y=\"58.710682\"/>\n     <use style=\"fill:#1f77b4;stroke:#1f77b4;\" x=\"80.852161\" xlink:href=\"#m2fdf8b6fb5\" y=\"45.987197\"/>\n     <use style=\"fill:#1f77b4;stroke:#1f77b4;\" x=\"116.536103\" xlink:href=\"#m2fdf8b6fb5\" y=\"68.131675\"/>\n     <use style=\"fill:#1f77b4;stroke:#1f77b4;\" x=\"118.241634\" xlink:href=\"#m2fdf8b6fb5\" y=\"67.068323\"/>\n     <use style=\"fill:#1f77b4;stroke:#1f77b4;\" x=\"155.648954\" xlink:href=\"#m2fdf8b6fb5\" y=\"82.570319\"/>\n     <use style=\"fill:#1f77b4;stroke:#1f77b4;\" x=\"152.084562\" xlink:href=\"#m2fdf8b6fb5\" y=\"84.583215\"/>\n     <use style=\"fill:#1f77b4;stroke:#1f77b4;\" x=\"136.7732\" xlink:href=\"#m2fdf8b6fb5\" y=\"85.483363\"/>\n     <use style=\"fill:#1f77b4;stroke:#1f77b4;\" x=\"130.478644\" xlink:href=\"#m2fdf8b6fb5\" y=\"77.631217\"/>\n     <use style=\"fill:#1f77b4;stroke:#1f77b4;\" x=\"92.215957\" xlink:href=\"#m2fdf8b6fb5\" y=\"44.854882\"/>\n     <use style=\"fill:#1f77b4;stroke:#1f77b4;\" x=\"119.494164\" xlink:href=\"#m2fdf8b6fb5\" y=\"58.804849\"/>\n     <use style=\"fill:#1f77b4;stroke:#1f77b4;\" x=\"139.44874\" xlink:href=\"#m2fdf8b6fb5\" y=\"64.420021\"/>\n     <use style=\"fill:#1f77b4;stroke:#1f77b4;\" x=\"132.885029\" xlink:href=\"#m2fdf8b6fb5\" y=\"82.853285\"/>\n     <use style=\"fill:#1f77b4;stroke:#1f77b4;\" x=\"112.687843\" xlink:href=\"#m2fdf8b6fb5\" y=\"53.430084\"/>\n     <use style=\"fill:#1f77b4;stroke:#1f77b4;\" x=\"88.460343\" xlink:href=\"#m2fdf8b6fb5\" y=\"57.771936\"/>\n     <use style=\"fill:#1f77b4;stroke:#1f77b4;\" x=\"163.334037\" xlink:href=\"#m2fdf8b6fb5\" y=\"91.604751\"/>\n     <use style=\"fill:#1f77b4;stroke:#1f77b4;\" x=\"173.306521\" xlink:href=\"#m2fdf8b6fb5\" y=\"110.674756\"/>\n     <use style=\"fill:#1f77b4;stroke:#1f77b4;\" x=\"112.633352\" xlink:href=\"#m2fdf8b6fb5\" y=\"64.182248\"/>\n     <use style=\"fill:#1f77b4;stroke:#1f77b4;\" x=\"119.069763\" xlink:href=\"#m2fdf8b6fb5\" y=\"69.203952\"/>\n     <use style=\"fill:#1f77b4;stroke:#1f77b4;\" x=\"107.165774\" xlink:href=\"#m2fdf8b6fb5\" y=\"54.645604\"/>\n     <use style=\"fill:#1f77b4;stroke:#1f77b4;\" x=\"145.569333\" xlink:href=\"#m2fdf8b6fb5\" y=\"84.772145\"/>\n     <use style=\"fill:#1f77b4;stroke:#1f77b4;\" x=\"104.381432\" xlink:href=\"#m2fdf8b6fb5\" y=\"47.668727\"/>\n     <use style=\"fill:#1f77b4;stroke:#1f77b4;\" x=\"125.485897\" xlink:href=\"#m2fdf8b6fb5\" y=\"73.138703\"/>\n     <use style=\"fill:#1f77b4;stroke:#1f77b4;\" x=\"70.238413\" xlink:href=\"#m2fdf8b6fb5\" y=\"42.232777\"/>\n     <use style=\"fill:#1f77b4;stroke:#1f77b4;\" x=\"135.691679\" xlink:href=\"#m2fdf8b6fb5\" y=\"81.480474\"/>\n     <use style=\"fill:#1f77b4;stroke:#1f77b4;\" x=\"168.284719\" xlink:href=\"#m2fdf8b6fb5\" y=\"89.731618\"/>\n     <use style=\"fill:#1f77b4;stroke:#1f77b4;\" x=\"95.309126\" xlink:href=\"#m2fdf8b6fb5\" y=\"53.229864\"/>\n     <use style=\"fill:#1f77b4;stroke:#1f77b4;\" x=\"142.297682\" xlink:href=\"#m2fdf8b6fb5\" y=\"70.103356\"/>\n     <use style=\"fill:#1f77b4;stroke:#1f77b4;\" x=\"135.204935\" xlink:href=\"#m2fdf8b6fb5\" y=\"66.030453\"/>\n     <use style=\"fill:#1f77b4;stroke:#1f77b4;\" x=\"134.612148\" xlink:href=\"#m2fdf8b6fb5\" y=\"84.575472\"/>\n     <use style=\"fill:#1f77b4;stroke:#1f77b4;\" x=\"130.832131\" xlink:href=\"#m2fdf8b6fb5\" y=\"85.138178\"/>\n     <use style=\"fill:#1f77b4;stroke:#1f77b4;\" x=\"171.185551\" xlink:href=\"#m2fdf8b6fb5\" y=\"102.681594\"/>\n     <use style=\"fill:#1f77b4;stroke:#1f77b4;\" x=\"120.010423\" xlink:href=\"#m2fdf8b6fb5\" y=\"53.723955\"/>\n     <use style=\"fill:#1f77b4;stroke:#1f77b4;\" x=\"119.502916\" xlink:href=\"#m2fdf8b6fb5\" y=\"64.944564\"/>\n     <use style=\"fill:#1f77b4;stroke:#1f77b4;\" x=\"118.372212\" xlink:href=\"#m2fdf8b6fb5\" y=\"63.002769\"/>\n     <use style=\"fill:#1f77b4;stroke:#1f77b4;\" x=\"120.611089\" xlink:href=\"#m2fdf8b6fb5\" y=\"61.315574\"/>\n     <use style=\"fill:#1f77b4;stroke:#1f77b4;\" x=\"144.043014\" xlink:href=\"#m2fdf8b6fb5\" y=\"85.062672\"/>\n     <use style=\"fill:#1f77b4;stroke:#1f77b4;\" x=\"115.310999\" xlink:href=\"#m2fdf8b6fb5\" y=\"73.303924\"/>\n     <use style=\"fill:#1f77b4;stroke:#1f77b4;\" x=\"112.460928\" xlink:href=\"#m2fdf8b6fb5\" y=\"57.910483\"/>\n     <use style=\"fill:#1f77b4;stroke:#1f77b4;\" x=\"138.840572\" xlink:href=\"#m2fdf8b6fb5\" y=\"60.44471\"/>\n     <use style=\"fill:#1f77b4;stroke:#1f77b4;\" x=\"125.160123\" xlink:href=\"#m2fdf8b6fb5\" y=\"71.928785\"/>\n     <use style=\"fill:#1f77b4;stroke:#1f77b4;\" x=\"115.602935\" xlink:href=\"#m2fdf8b6fb5\" y=\"62.94043\"/>\n     <use style=\"fill:#1f77b4;stroke:#1f77b4;\" x=\"145.252288\" xlink:href=\"#m2fdf8b6fb5\" y=\"74.729061\"/>\n     <use style=\"fill:#1f77b4;stroke:#1f77b4;\" x=\"117.009152\" xlink:href=\"#m2fdf8b6fb5\" y=\"59.151968\"/>\n     <use style=\"fill:#1f77b4;stroke:#1f77b4;\" x=\"110.338623\" xlink:href=\"#m2fdf8b6fb5\" y=\"68.150991\"/>\n     <use style=\"fill:#1f77b4;stroke:#1f77b4;\" x=\"119.111278\" xlink:href=\"#m2fdf8b6fb5\" y=\"71.829489\"/>\n     <use style=\"fill:#1f77b4;stroke:#1f77b4;\" x=\"126.419642\" xlink:href=\"#m2fdf8b6fb5\" y=\"75.794825\"/>\n     <use style=\"fill:#1f77b4;stroke:#1f77b4;\" x=\"82.790906\" xlink:href=\"#m2fdf8b6fb5\" y=\"21.233392\"/>\n     <use style=\"fill:#1f77b4;stroke:#1f77b4;\" x=\"109.599163\" xlink:href=\"#m2fdf8b6fb5\" y=\"53.854457\"/>\n     <use style=\"fill:#1f77b4;stroke:#1f77b4;\" x=\"119.773027\" xlink:href=\"#m2fdf8b6fb5\" y=\"48.786763\"/>\n     <use style=\"fill:#1f77b4;stroke:#1f77b4;\" x=\"128.239115\" xlink:href=\"#m2fdf8b6fb5\" y=\"72.82153\"/>\n     <use style=\"fill:#1f77b4;stroke:#1f77b4;\" x=\"166.587795\" xlink:href=\"#m2fdf8b6fb5\" y=\"82.440835\"/>\n     <use style=\"fill:#1f77b4;stroke:#1f77b4;\" x=\"144.517819\" xlink:href=\"#m2fdf8b6fb5\" y=\"77.896304\"/>\n     <use style=\"fill:#1f77b4;stroke:#1f77b4;\" x=\"176.967654\" xlink:href=\"#m2fdf8b6fb5\" y=\"103.399127\"/>\n     <use style=\"fill:#1f77b4;stroke:#1f77b4;\" x=\"143.922747\" xlink:href=\"#m2fdf8b6fb5\" y=\"97.209351\"/>\n     <use style=\"fill:#1f77b4;stroke:#1f77b4;\" x=\"133.407721\" xlink:href=\"#m2fdf8b6fb5\" y=\"80.002366\"/>\n     <use style=\"fill:#1f77b4;stroke:#1f77b4;\" x=\"96.653072\" xlink:href=\"#m2fdf8b6fb5\" y=\"63.957287\"/>\n     <use style=\"fill:#1f77b4;stroke:#1f77b4;\" x=\"152.406697\" xlink:href=\"#m2fdf8b6fb5\" y=\"85.091273\"/>\n     <use style=\"fill:#1f77b4;stroke:#1f77b4;\" x=\"90.032279\" xlink:href=\"#m2fdf8b6fb5\" y=\"50.200428\"/>\n     <use style=\"fill:#1f77b4;stroke:#1f77b4;\" x=\"83.361347\" xlink:href=\"#m2fdf8b6fb5\" y=\"35.007619\"/>\n     <use style=\"fill:#1f77b4;stroke:#1f77b4;\" x=\"221.727415\" xlink:href=\"#m2fdf8b6fb5\" y=\"127.726697\"/>\n     <use style=\"fill:#1f77b4;stroke:#1f77b4;\" x=\"131.593745\" xlink:href=\"#m2fdf8b6fb5\" y=\"83.837503\"/>\n     <use style=\"fill:#1f77b4;stroke:#1f77b4;\" x=\"147.954786\" xlink:href=\"#m2fdf8b6fb5\" y=\"80.860169\"/>\n     <use style=\"fill:#1f77b4;stroke:#1f77b4;\" x=\"97.496641\" xlink:href=\"#m2fdf8b6fb5\" y=\"60.460676\"/>\n     <use style=\"fill:#1f77b4;stroke:#1f77b4;\" x=\"115.683514\" xlink:href=\"#m2fdf8b6fb5\" y=\"55.229755\"/>\n     <use style=\"fill:#1f77b4;stroke:#1f77b4;\" x=\"135.98356\" xlink:href=\"#m2fdf8b6fb5\" y=\"65.147356\"/>\n     <use style=\"fill:#1f77b4;stroke:#1f77b4;\" x=\"146.898295\" xlink:href=\"#m2fdf8b6fb5\" y=\"95.379835\"/>\n     <use style=\"fill:#1f77b4;stroke:#1f77b4;\" x=\"97.494057\" xlink:href=\"#m2fdf8b6fb5\" y=\"38.891935\"/>\n     <use style=\"fill:#1f77b4;stroke:#1f77b4;\" x=\"123.076584\" xlink:href=\"#m2fdf8b6fb5\" y=\"75.548086\"/>\n     <use style=\"fill:#1f77b4;stroke:#1f77b4;\" x=\"139.085055\" xlink:href=\"#m2fdf8b6fb5\" y=\"78.07075\"/>\n     <use style=\"fill:#1f77b4;stroke:#1f77b4;\" x=\"112.415792\" xlink:href=\"#m2fdf8b6fb5\" y=\"66.262722\"/>\n     <use style=\"fill:#1f77b4;stroke:#1f77b4;\" x=\"150.588776\" xlink:href=\"#m2fdf8b6fb5\" y=\"101.23507\"/>\n     <use style=\"fill:#1f77b4;stroke:#1f77b4;\" x=\"148.655585\" xlink:href=\"#m2fdf8b6fb5\" y=\"74.506131\"/>\n     <use style=\"fill:#1f77b4;stroke:#1f77b4;\" x=\"128.159198\" xlink:href=\"#m2fdf8b6fb5\" y=\"71.266631\"/>\n     <use style=\"fill:#1f77b4;stroke:#1f77b4;\" x=\"144.494094\" xlink:href=\"#m2fdf8b6fb5\" y=\"72.181835\"/>\n     <use style=\"fill:#1f77b4;stroke:#1f77b4;\" x=\"118.110772\" xlink:href=\"#m2fdf8b6fb5\" y=\"63.458251\"/>\n     <use style=\"fill:#1f77b4;stroke:#1f77b4;\" x=\"89.49601\" xlink:href=\"#m2fdf8b6fb5\" y=\"38.866273\"/>\n     <use style=\"fill:#1f77b4;stroke:#1f77b4;\" x=\"145.529253\" xlink:href=\"#m2fdf8b6fb5\" y=\"70.601897\"/>\n     <use style=\"fill:#1f77b4;stroke:#1f77b4;\" x=\"111.876792\" xlink:href=\"#m2fdf8b6fb5\" y=\"61.620701\"/>\n     <use style=\"fill:#1f77b4;stroke:#1f77b4;\" x=\"117.448426\" xlink:href=\"#m2fdf8b6fb5\" y=\"70.020161\"/>\n     <use style=\"fill:#1f77b4;stroke:#1f77b4;\" x=\"118.482357\" xlink:href=\"#m2fdf8b6fb5\" y=\"56.000398\"/>\n     <use style=\"fill:#1f77b4;stroke:#1f77b4;\" x=\"94.363345\" xlink:href=\"#m2fdf8b6fb5\" y=\"61.122868\"/>\n     <use style=\"fill:#1f77b4;stroke:#1f77b4;\" x=\"146.732792\" xlink:href=\"#m2fdf8b6fb5\" y=\"76.08881\"/>\n     <use style=\"fill:#1f77b4;stroke:#1f77b4;\" x=\"86.74927\" xlink:href=\"#m2fdf8b6fb5\" y=\"42.091941\"/>\n     <use style=\"fill:#1f77b4;stroke:#1f77b4;\" x=\"158.073633\" xlink:href=\"#m2fdf8b6fb5\" y=\"97.022607\"/>\n     <use style=\"fill:#1f77b4;stroke:#1f77b4;\" x=\"140.613705\" xlink:href=\"#m2fdf8b6fb5\" y=\"54.998255\"/>\n     <use style=\"fill:#1f77b4;stroke:#1f77b4;\" x=\"154.787343\" xlink:href=\"#m2fdf8b6fb5\" y=\"83.296693\"/>\n     <use style=\"fill:#1f77b4;stroke:#1f77b4;\" x=\"119.908381\" xlink:href=\"#m2fdf8b6fb5\" y=\"67.499765\"/>\n     <use style=\"fill:#1f77b4;stroke:#1f77b4;\" x=\"181.624352\" xlink:href=\"#m2fdf8b6fb5\" y=\"118.613478\"/>\n     <use style=\"fill:#1f77b4;stroke:#1f77b4;\" x=\"103.223132\" xlink:href=\"#m2fdf8b6fb5\" y=\"43.068069\"/>\n     <use style=\"fill:#1f77b4;stroke:#1f77b4;\" x=\"107.969685\" xlink:href=\"#m2fdf8b6fb5\" y=\"67.121612\"/>\n     <use style=\"fill:#1f77b4;stroke:#1f77b4;\" x=\"96.133392\" xlink:href=\"#m2fdf8b6fb5\" y=\"57.766536\"/>\n     <use style=\"fill:#1f77b4;stroke:#1f77b4;\" x=\"117.533108\" xlink:href=\"#m2fdf8b6fb5\" y=\"71.340065\"/>\n     <use style=\"fill:#1f77b4;stroke:#1f77b4;\" x=\"129.447455\" xlink:href=\"#m2fdf8b6fb5\" y=\"70.583022\"/>\n     <use style=\"fill:#1f77b4;stroke:#1f77b4;\" x=\"49.79556\" xlink:href=\"#m2fdf8b6fb5\" y=\"24.929684\"/>\n     <use style=\"fill:#1f77b4;stroke:#1f77b4;\" x=\"103.005101\" xlink:href=\"#m2fdf8b6fb5\" y=\"56.415076\"/>\n     <use style=\"fill:#1f77b4;stroke:#1f77b4;\" x=\"105.907727\" xlink:href=\"#m2fdf8b6fb5\" y=\"45.881308\"/>\n     <use style=\"fill:#1f77b4;stroke:#1f77b4;\" x=\"121.906274\" xlink:href=\"#m2fdf8b6fb5\" y=\"65.461945\"/>\n     <use style=\"fill:#1f77b4;stroke:#1f77b4;\" x=\"143.137104\" xlink:href=\"#m2fdf8b6fb5\" y=\"86.281665\"/>\n     <use style=\"fill:#1f77b4;stroke:#1f77b4;\" x=\"139.801776\" xlink:href=\"#m2fdf8b6fb5\" y=\"82.730525\"/>\n     <use style=\"fill:#1f77b4;stroke:#1f77b4;\" x=\"160.306178\" xlink:href=\"#m2fdf8b6fb5\" y=\"92.615835\"/>\n     <use style=\"fill:#1f77b4;stroke:#1f77b4;\" x=\"138.015593\" xlink:href=\"#m2fdf8b6fb5\" y=\"73.484105\"/>\n     <use style=\"fill:#1f77b4;stroke:#1f77b4;\" x=\"99.310605\" xlink:href=\"#m2fdf8b6fb5\" y=\"72.936348\"/>\n     <use style=\"fill:#1f77b4;stroke:#1f77b4;\" x=\"132.769776\" xlink:href=\"#m2fdf8b6fb5\" y=\"76.824778\"/>\n     <use style=\"fill:#1f77b4;stroke:#1f77b4;\" x=\"124.385901\" xlink:href=\"#m2fdf8b6fb5\" y=\"67.151376\"/>\n     <use style=\"fill:#1f77b4;stroke:#1f77b4;\" x=\"89.293005\" xlink:href=\"#m2fdf8b6fb5\" y=\"63.3399\"/>\n     <use style=\"fill:#1f77b4;stroke:#1f77b4;\" x=\"96.08882\" xlink:href=\"#m2fdf8b6fb5\" y=\"41.863886\"/>\n     <use style=\"fill:#1f77b4;stroke:#1f77b4;\" x=\"82.965653\" xlink:href=\"#m2fdf8b6fb5\" y=\"22.664516\"/>\n     <use style=\"fill:#1f77b4;stroke:#1f77b4;\" x=\"139.225051\" xlink:href=\"#m2fdf8b6fb5\" y=\"75.454638\"/>\n     <use style=\"fill:#1f77b4;stroke:#1f77b4;\" x=\"172.105326\" xlink:href=\"#m2fdf8b6fb5\" y=\"100.668951\"/>\n     <use style=\"fill:#1f77b4;stroke:#1f77b4;\" x=\"132.011218\" xlink:href=\"#m2fdf8b6fb5\" y=\"62.884226\"/>\n     <use style=\"fill:#1f77b4;stroke:#1f77b4;\" x=\"61.311662\" xlink:href=\"#m2fdf8b6fb5\" y=\"21.440983\"/>\n     <use style=\"fill:#1f77b4;stroke:#1f77b4;\" x=\"99.995239\" xlink:href=\"#m2fdf8b6fb5\" y=\"49.159772\"/>\n     <use style=\"fill:#1f77b4;stroke:#1f77b4;\" x=\"152.613094\" xlink:href=\"#m2fdf8b6fb5\" y=\"87.356983\"/>\n     <use style=\"fill:#1f77b4;stroke:#1f77b4;\" x=\"103.149732\" xlink:href=\"#m2fdf8b6fb5\" y=\"60.534754\"/>\n     <use style=\"fill:#1f77b4;stroke:#1f77b4;\" x=\"77.977233\" xlink:href=\"#m2fdf8b6fb5\" y=\"47.446514\"/>\n     <use style=\"fill:#1f77b4;stroke:#1f77b4;\" x=\"145.919119\" xlink:href=\"#m2fdf8b6fb5\" y=\"67.719394\"/>\n     <use style=\"fill:#1f77b4;stroke:#1f77b4;\" x=\"89.076636\" xlink:href=\"#m2fdf8b6fb5\" y=\"45.636457\"/>\n     <use style=\"fill:#1f77b4;stroke:#1f77b4;\" x=\"128.635471\" xlink:href=\"#m2fdf8b6fb5\" y=\"70.245412\"/>\n     <use style=\"fill:#1f77b4;stroke:#1f77b4;\" x=\"105.037971\" xlink:href=\"#m2fdf8b6fb5\" y=\"59.166552\"/>\n     <use style=\"fill:#1f77b4;stroke:#1f77b4;\" x=\"149.146151\" xlink:href=\"#m2fdf8b6fb5\" y=\"76.597199\"/>\n     <use style=\"fill:#1f77b4;stroke:#1f77b4;\" x=\"154.182583\" xlink:href=\"#m2fdf8b6fb5\" y=\"90.113629\"/>\n     <use style=\"fill:#1f77b4;stroke:#1f77b4;\" x=\"115.989394\" xlink:href=\"#m2fdf8b6fb5\" y=\"58.826224\"/>\n     <use style=\"fill:#1f77b4;stroke:#1f77b4;\" x=\"130.494136\" xlink:href=\"#m2fdf8b6fb5\" y=\"70.808\"/>\n     <use style=\"fill:#1f77b4;stroke:#1f77b4;\" x=\"112.148283\" xlink:href=\"#m2fdf8b6fb5\" y=\"47.492151\"/>\n     <use style=\"fill:#1f77b4;stroke:#1f77b4;\" x=\"121.159328\" xlink:href=\"#m2fdf8b6fb5\" y=\"70.37813\"/>\n     <use style=\"fill:#1f77b4;stroke:#1f77b4;\" x=\"136.519457\" xlink:href=\"#m2fdf8b6fb5\" y=\"74.254687\"/>\n     <use style=\"fill:#1f77b4;stroke:#1f77b4;\" x=\"112.255817\" xlink:href=\"#m2fdf8b6fb5\" y=\"65.703934\"/>\n     <use style=\"fill:#1f77b4;stroke:#1f77b4;\" x=\"131.818703\" xlink:href=\"#m2fdf8b6fb5\" y=\"73.586486\"/>\n     <use style=\"fill:#1f77b4;stroke:#1f77b4;\" x=\"94.738113\" xlink:href=\"#m2fdf8b6fb5\" y=\"47.979786\"/>\n     <use style=\"fill:#1f77b4;stroke:#1f77b4;\" x=\"154.220297\" xlink:href=\"#m2fdf8b6fb5\" y=\"67.905271\"/>\n     <use style=\"fill:#1f77b4;stroke:#1f77b4;\" x=\"135.043248\" xlink:href=\"#m2fdf8b6fb5\" y=\"88.733408\"/>\n     <use style=\"fill:#1f77b4;stroke:#1f77b4;\" x=\"104.929686\" xlink:href=\"#m2fdf8b6fb5\" y=\"61.530734\"/>\n     <use style=\"fill:#1f77b4;stroke:#1f77b4;\" x=\"145.028901\" xlink:href=\"#m2fdf8b6fb5\" y=\"76.429125\"/>\n     <use style=\"fill:#1f77b4;stroke:#1f77b4;\" x=\"173.790447\" xlink:href=\"#m2fdf8b6fb5\" y=\"102.857185\"/>\n     <use style=\"fill:#1f77b4;stroke:#1f77b4;\" x=\"135.471135\" xlink:href=\"#m2fdf8b6fb5\" y=\"68.695778\"/>\n     <use style=\"fill:#1f77b4;stroke:#1f77b4;\" x=\"147.312388\" xlink:href=\"#m2fdf8b6fb5\" y=\"79.48458\"/>\n     <use style=\"fill:#1f77b4;stroke:#1f77b4;\" x=\"148.098516\" xlink:href=\"#m2fdf8b6fb5\" y=\"82.707809\"/>\n     <use style=\"fill:#1f77b4;stroke:#1f77b4;\" x=\"143.586322\" xlink:href=\"#m2fdf8b6fb5\" y=\"86.910149\"/>\n     <use style=\"fill:#1f77b4;stroke:#1f77b4;\" x=\"155.928459\" xlink:href=\"#m2fdf8b6fb5\" y=\"68.938191\"/>\n     <use style=\"fill:#1f77b4;stroke:#1f77b4;\" x=\"106.726917\" xlink:href=\"#m2fdf8b6fb5\" y=\"53.225183\"/>\n     <use style=\"fill:#1f77b4;stroke:#1f77b4;\" x=\"157.426734\" xlink:href=\"#m2fdf8b6fb5\" y=\"87.415221\"/>\n     <use style=\"fill:#1f77b4;stroke:#1f77b4;\" x=\"139.720632\" xlink:href=\"#m2fdf8b6fb5\" y=\"86.309898\"/>\n     <use style=\"fill:#1f77b4;stroke:#1f77b4;\" x=\"97.149879\" xlink:href=\"#m2fdf8b6fb5\" y=\"42.922536\"/>\n     <use style=\"fill:#1f77b4;stroke:#1f77b4;\" x=\"92.436489\" xlink:href=\"#m2fdf8b6fb5\" y=\"42.829434\"/>\n     <use style=\"fill:#1f77b4;stroke:#1f77b4;\" x=\"122.057267\" xlink:href=\"#m2fdf8b6fb5\" y=\"76.420744\"/>\n     <use style=\"fill:#1f77b4;stroke:#1f77b4;\" x=\"127.95346\" xlink:href=\"#m2fdf8b6fb5\" y=\"75.879183\"/>\n     <use style=\"fill:#1f77b4;stroke:#1f77b4;\" x=\"80.493919\" xlink:href=\"#m2fdf8b6fb5\" y=\"25.669531\"/>\n     <use style=\"fill:#1f77b4;stroke:#1f77b4;\" x=\"132.905684\" xlink:href=\"#m2fdf8b6fb5\" y=\"61.627357\"/>\n     <use style=\"fill:#1f77b4;stroke:#1f77b4;\" x=\"134.983802\" xlink:href=\"#m2fdf8b6fb5\" y=\"77.181373\"/>\n     <use style=\"fill:#1f77b4;stroke:#1f77b4;\" x=\"110.321162\" xlink:href=\"#m2fdf8b6fb5\" y=\"48.732772\"/>\n     <use style=\"fill:#1f77b4;stroke:#1f77b4;\" x=\"118.169377\" xlink:href=\"#m2fdf8b6fb5\" y=\"57.419625\"/>\n     <use style=\"fill:#1f77b4;stroke:#1f77b4;\" x=\"92.428165\" xlink:href=\"#m2fdf8b6fb5\" y=\"40.626626\"/>\n     <use style=\"fill:#1f77b4;stroke:#1f77b4;\" x=\"165.620253\" xlink:href=\"#m2fdf8b6fb5\" y=\"92.358387\"/>\n     <use style=\"fill:#1f77b4;stroke:#1f77b4;\" x=\"133.486891\" xlink:href=\"#m2fdf8b6fb5\" y=\"68.836133\"/>\n     <use style=\"fill:#1f77b4;stroke:#1f77b4;\" x=\"156.654042\" xlink:href=\"#m2fdf8b6fb5\" y=\"89.154237\"/>\n     <use style=\"fill:#1f77b4;stroke:#1f77b4;\" x=\"113.872213\" xlink:href=\"#m2fdf8b6fb5\" y=\"39.227548\"/>\n     <use style=\"fill:#1f77b4;stroke:#1f77b4;\" x=\"134.297586\" xlink:href=\"#m2fdf8b6fb5\" y=\"54.222659\"/>\n     <use style=\"fill:#1f77b4;stroke:#1f77b4;\" x=\"139.697374\" xlink:href=\"#m2fdf8b6fb5\" y=\"70.240914\"/>\n     <use style=\"fill:#1f77b4;stroke:#1f77b4;\" x=\"112.284457\" xlink:href=\"#m2fdf8b6fb5\" y=\"56.403823\"/>\n     <use style=\"fill:#1f77b4;stroke:#1f77b4;\" x=\"137.067334\" xlink:href=\"#m2fdf8b6fb5\" y=\"73.800671\"/>\n     <use style=\"fill:#1f77b4;stroke:#1f77b4;\" x=\"105.031544\" xlink:href=\"#m2fdf8b6fb5\" y=\"53.231798\"/>\n     <use style=\"fill:#1f77b4;stroke:#1f77b4;\" x=\"154.186846\" xlink:href=\"#m2fdf8b6fb5\" y=\"94.084049\"/>\n     <use style=\"fill:#1f77b4;stroke:#1f77b4;\" x=\"138.581273\" xlink:href=\"#m2fdf8b6fb5\" y=\"71.521794\"/>\n     <use style=\"fill:#1f77b4;stroke:#1f77b4;\" x=\"170.953998\" xlink:href=\"#m2fdf8b6fb5\" y=\"94.764613\"/>\n     <use style=\"fill:#1f77b4;stroke:#1f77b4;\" x=\"143.878068\" xlink:href=\"#m2fdf8b6fb5\" y=\"80.199731\"/>\n     <use style=\"fill:#1f77b4;stroke:#1f77b4;\" x=\"145.008555\" xlink:href=\"#m2fdf8b6fb5\" y=\"68.131757\"/>\n     <use style=\"fill:#1f77b4;stroke:#1f77b4;\" x=\"96.556759\" xlink:href=\"#m2fdf8b6fb5\" y=\"65.246368\"/>\n     <use style=\"fill:#1f77b4;stroke:#1f77b4;\" x=\"172.717462\" xlink:href=\"#m2fdf8b6fb5\" y=\"99.184268\"/>\n     <use style=\"fill:#1f77b4;stroke:#1f77b4;\" x=\"159.280888\" xlink:href=\"#m2fdf8b6fb5\" y=\"91.767011\"/>\n     <use style=\"fill:#1f77b4;stroke:#1f77b4;\" x=\"109.04079\" xlink:href=\"#m2fdf8b6fb5\" y=\"58.634363\"/>\n     <use style=\"fill:#1f77b4;stroke:#1f77b4;\" x=\"109.433937\" xlink:href=\"#m2fdf8b6fb5\" y=\"66.547517\"/>\n     <use style=\"fill:#1f77b4;stroke:#1f77b4;\" x=\"128.484433\" xlink:href=\"#m2fdf8b6fb5\" y=\"62.338418\"/>\n     <use style=\"fill:#1f77b4;stroke:#1f77b4;\" x=\"165.987765\" xlink:href=\"#m2fdf8b6fb5\" y=\"100.59542\"/>\n     <use style=\"fill:#1f77b4;stroke:#1f77b4;\" x=\"111.185899\" xlink:href=\"#m2fdf8b6fb5\" y=\"77.813289\"/>\n     <use style=\"fill:#1f77b4;stroke:#1f77b4;\" x=\"153.976331\" xlink:href=\"#m2fdf8b6fb5\" y=\"98.798468\"/>\n     <use style=\"fill:#1f77b4;stroke:#1f77b4;\" x=\"113.719415\" xlink:href=\"#m2fdf8b6fb5\" y=\"46.206632\"/>\n     <use style=\"fill:#1f77b4;stroke:#1f77b4;\" x=\"132.346518\" xlink:href=\"#m2fdf8b6fb5\" y=\"81.276825\"/>\n     <use style=\"fill:#1f77b4;stroke:#1f77b4;\" x=\"151.436155\" xlink:href=\"#m2fdf8b6fb5\" y=\"89.083055\"/>\n     <use style=\"fill:#1f77b4;stroke:#1f77b4;\" x=\"101.793071\" xlink:href=\"#m2fdf8b6fb5\" y=\"42.029043\"/>\n     <use style=\"fill:#1f77b4;stroke:#1f77b4;\" x=\"114.967607\" xlink:href=\"#m2fdf8b6fb5\" y=\"62.548728\"/>\n     <use style=\"fill:#1f77b4;stroke:#1f77b4;\" x=\"127.280043\" xlink:href=\"#m2fdf8b6fb5\" y=\"75.742896\"/>\n     <use style=\"fill:#1f77b4;stroke:#1f77b4;\" x=\"148.46247\" xlink:href=\"#m2fdf8b6fb5\" y=\"101.538008\"/>\n     <use style=\"fill:#1f77b4;stroke:#1f77b4;\" x=\"132.436667\" xlink:href=\"#m2fdf8b6fb5\" y=\"68.387599\"/>\n     <use style=\"fill:#1f77b4;stroke:#1f77b4;\" x=\"201.2109\" xlink:href=\"#m2fdf8b6fb5\" y=\"104.385142\"/>\n     <use style=\"fill:#1f77b4;stroke:#1f77b4;\" x=\"110.970418\" xlink:href=\"#m2fdf8b6fb5\" y=\"62.683003\"/>\n     <use style=\"fill:#1f77b4;stroke:#1f77b4;\" x=\"121.743563\" xlink:href=\"#m2fdf8b6fb5\" y=\"79.880729\"/>\n     <use style=\"fill:#1f77b4;stroke:#1f77b4;\" x=\"131.808615\" xlink:href=\"#m2fdf8b6fb5\" y=\"71.634457\"/>\n     <use style=\"fill:#1f77b4;stroke:#1f77b4;\" x=\"153.913099\" xlink:href=\"#m2fdf8b6fb5\" y=\"76.162676\"/>\n     <use style=\"fill:#1f77b4;stroke:#1f77b4;\" x=\"102.147302\" xlink:href=\"#m2fdf8b6fb5\" y=\"66.342365\"/>\n     <use style=\"fill:#1f77b4;stroke:#1f77b4;\" x=\"167.545807\" xlink:href=\"#m2fdf8b6fb5\" y=\"79.050476\"/>\n     <use style=\"fill:#1f77b4;stroke:#1f77b4;\" x=\"109.253537\" xlink:href=\"#m2fdf8b6fb5\" y=\"52.962261\"/>\n     <use style=\"fill:#1f77b4;stroke:#1f77b4;\" x=\"114.05151\" xlink:href=\"#m2fdf8b6fb5\" y=\"62.202676\"/>\n     <use style=\"fill:#1f77b4;stroke:#1f77b4;\" x=\"161.412051\" xlink:href=\"#m2fdf8b6fb5\" y=\"79.36542\"/>\n     <use style=\"fill:#1f77b4;stroke:#1f77b4;\" x=\"136.180814\" xlink:href=\"#m2fdf8b6fb5\" y=\"79.973317\"/>\n     <use style=\"fill:#1f77b4;stroke:#1f77b4;\" x=\"113.973097\" xlink:href=\"#m2fdf8b6fb5\" y=\"62.814349\"/>\n     <use style=\"fill:#1f77b4;stroke:#1f77b4;\" x=\"117.022792\" xlink:href=\"#m2fdf8b6fb5\" y=\"58.281038\"/>\n     <use style=\"fill:#1f77b4;stroke:#1f77b4;\" x=\"119.714319\" xlink:href=\"#m2fdf8b6fb5\" y=\"62.747383\"/>\n     <use style=\"fill:#1f77b4;stroke:#1f77b4;\" x=\"107.951065\" xlink:href=\"#m2fdf8b6fb5\" y=\"44.470741\"/>\n     <use style=\"fill:#1f77b4;stroke:#1f77b4;\" x=\"125.404163\" xlink:href=\"#m2fdf8b6fb5\" y=\"75.7589\"/>\n     <use style=\"fill:#1f77b4;stroke:#1f77b4;\" x=\"147.249616\" xlink:href=\"#m2fdf8b6fb5\" y=\"77.43581\"/>\n     <use style=\"fill:#1f77b4;stroke:#1f77b4;\" x=\"163.364096\" xlink:href=\"#m2fdf8b6fb5\" y=\"88.786061\"/>\n     <use style=\"fill:#1f77b4;stroke:#1f77b4;\" x=\"123.033123\" xlink:href=\"#m2fdf8b6fb5\" y=\"61.584621\"/>\n     <use style=\"fill:#1f77b4;stroke:#1f77b4;\" x=\"74.89354\" xlink:href=\"#m2fdf8b6fb5\" y=\"37.446349\"/>\n     <use style=\"fill:#1f77b4;stroke:#1f77b4;\" x=\"120.590412\" xlink:href=\"#m2fdf8b6fb5\" y=\"64.332227\"/>\n     <use style=\"fill:#1f77b4;stroke:#1f77b4;\" x=\"143.792581\" xlink:href=\"#m2fdf8b6fb5\" y=\"77.30154\"/>\n     <use style=\"fill:#1f77b4;stroke:#1f77b4;\" x=\"123.781014\" xlink:href=\"#m2fdf8b6fb5\" y=\"46.612873\"/>\n     <use style=\"fill:#1f77b4;stroke:#1f77b4;\" x=\"117.834509\" xlink:href=\"#m2fdf8b6fb5\" y=\"51.184186\"/>\n     <use style=\"fill:#1f77b4;stroke:#1f77b4;\" x=\"129.654463\" xlink:href=\"#m2fdf8b6fb5\" y=\"72.257316\"/>\n     <use style=\"fill:#1f77b4;stroke:#1f77b4;\" x=\"165.329412\" xlink:href=\"#m2fdf8b6fb5\" y=\"91.737998\"/>\n     <use style=\"fill:#1f77b4;stroke:#1f77b4;\" x=\"147.814703\" xlink:href=\"#m2fdf8b6fb5\" y=\"79.096712\"/>\n     <use style=\"fill:#1f77b4;stroke:#1f77b4;\" x=\"116.00901\" xlink:href=\"#m2fdf8b6fb5\" y=\"83.806822\"/>\n     <use style=\"fill:#1f77b4;stroke:#1f77b4;\" x=\"130.315307\" xlink:href=\"#m2fdf8b6fb5\" y=\"84.358577\"/>\n     <use style=\"fill:#1f77b4;stroke:#1f77b4;\" x=\"152.308883\" xlink:href=\"#m2fdf8b6fb5\" y=\"94.577568\"/>\n     <use style=\"fill:#1f77b4;stroke:#1f77b4;\" x=\"120.265751\" xlink:href=\"#m2fdf8b6fb5\" y=\"53.216636\"/>\n     <use style=\"fill:#1f77b4;stroke:#1f77b4;\" x=\"143.65776\" xlink:href=\"#m2fdf8b6fb5\" y=\"66.283743\"/>\n     <use style=\"fill:#1f77b4;stroke:#1f77b4;\" x=\"139.036027\" xlink:href=\"#m2fdf8b6fb5\" y=\"69.141261\"/>\n     <use style=\"fill:#1f77b4;stroke:#1f77b4;\" x=\"106.899111\" xlink:href=\"#m2fdf8b6fb5\" y=\"61.36776\"/>\n     <use style=\"fill:#1f77b4;stroke:#1f77b4;\" x=\"122.4004\" xlink:href=\"#m2fdf8b6fb5\" y=\"59.904064\"/>\n     <use style=\"fill:#1f77b4;stroke:#1f77b4;\" x=\"161.914616\" xlink:href=\"#m2fdf8b6fb5\" y=\"76.700018\"/>\n     <use style=\"fill:#1f77b4;stroke:#1f77b4;\" x=\"107.04686\" xlink:href=\"#m2fdf8b6fb5\" y=\"60.302796\"/>\n     <use style=\"fill:#1f77b4;stroke:#1f77b4;\" x=\"170.103589\" xlink:href=\"#m2fdf8b6fb5\" y=\"88.581246\"/>\n     <use style=\"fill:#1f77b4;stroke:#1f77b4;\" x=\"102.809464\" xlink:href=\"#m2fdf8b6fb5\" y=\"51.079043\"/>\n     <use style=\"fill:#1f77b4;stroke:#1f77b4;\" x=\"140.854387\" xlink:href=\"#m2fdf8b6fb5\" y=\"74.963394\"/>\n     <use style=\"fill:#1f77b4;stroke:#1f77b4;\" x=\"138.592728\" xlink:href=\"#m2fdf8b6fb5\" y=\"73.585928\"/>\n     <use style=\"fill:#1f77b4;stroke:#1f77b4;\" x=\"149.105941\" xlink:href=\"#m2fdf8b6fb5\" y=\"74.370702\"/>\n     <use style=\"fill:#1f77b4;stroke:#1f77b4;\" x=\"108.180537\" xlink:href=\"#m2fdf8b6fb5\" y=\"60.63453\"/>\n     <use style=\"fill:#1f77b4;stroke:#1f77b4;\" x=\"85.84664\" xlink:href=\"#m2fdf8b6fb5\" y=\"41.99271\"/>\n     <use style=\"fill:#1f77b4;stroke:#1f77b4;\" x=\"121.563249\" xlink:href=\"#m2fdf8b6fb5\" y=\"54.119396\"/>\n     <use style=\"fill:#1f77b4;stroke:#1f77b4;\" x=\"131.954601\" xlink:href=\"#m2fdf8b6fb5\" y=\"73.092956\"/>\n     <use style=\"fill:#1f77b4;stroke:#1f77b4;\" x=\"139.982621\" xlink:href=\"#m2fdf8b6fb5\" y=\"69.480574\"/>\n     <use style=\"fill:#1f77b4;stroke:#1f77b4;\" x=\"133.822752\" xlink:href=\"#m2fdf8b6fb5\" y=\"87.374777\"/>\n     <use style=\"fill:#1f77b4;stroke:#1f77b4;\" x=\"128.410197\" xlink:href=\"#m2fdf8b6fb5\" y=\"62.779528\"/>\n     <use style=\"fill:#1f77b4;stroke:#1f77b4;\" x=\"100.636033\" xlink:href=\"#m2fdf8b6fb5\" y=\"64.281903\"/>\n     <use style=\"fill:#1f77b4;stroke:#1f77b4;\" x=\"122.219713\" xlink:href=\"#m2fdf8b6fb5\" y=\"65.239386\"/>\n     <use style=\"fill:#1f77b4;stroke:#1f77b4;\" x=\"108.03792\" xlink:href=\"#m2fdf8b6fb5\" y=\"50.809146\"/>\n     <use style=\"fill:#1f77b4;stroke:#1f77b4;\" x=\"143.04868\" xlink:href=\"#m2fdf8b6fb5\" y=\"87.224793\"/>\n     <use style=\"fill:#1f77b4;stroke:#1f77b4;\" x=\"159.897818\" xlink:href=\"#m2fdf8b6fb5\" y=\"90.460304\"/>\n     <use style=\"fill:#1f77b4;stroke:#1f77b4;\" x=\"86.093765\" xlink:href=\"#m2fdf8b6fb5\" y=\"48.046542\"/>\n     <use style=\"fill:#1f77b4;stroke:#1f77b4;\" x=\"115.426192\" xlink:href=\"#m2fdf8b6fb5\" y=\"64.955288\"/>\n     <use style=\"fill:#1f77b4;stroke:#1f77b4;\" x=\"145.849992\" xlink:href=\"#m2fdf8b6fb5\" y=\"93.864425\"/>\n     <use style=\"fill:#1f77b4;stroke:#1f77b4;\" x=\"117.486617\" xlink:href=\"#m2fdf8b6fb5\" y=\"51.639388\"/>\n     <use style=\"fill:#1f77b4;stroke:#1f77b4;\" x=\"135.620787\" xlink:href=\"#m2fdf8b6fb5\" y=\"74.360531\"/>\n     <use style=\"fill:#1f77b4;stroke:#1f77b4;\" x=\"105.504121\" xlink:href=\"#m2fdf8b6fb5\" y=\"55.978987\"/>\n     <use style=\"fill:#1f77b4;stroke:#1f77b4;\" x=\"140.175999\" xlink:href=\"#m2fdf8b6fb5\" y=\"71.056926\"/>\n     <use style=\"fill:#1f77b4;stroke:#1f77b4;\" x=\"98.498743\" xlink:href=\"#m2fdf8b6fb5\" y=\"43.052158\"/>\n     <use style=\"fill:#1f77b4;stroke:#1f77b4;\" x=\"135.630923\" xlink:href=\"#m2fdf8b6fb5\" y=\"71.707286\"/>\n     <use style=\"fill:#1f77b4;stroke:#1f77b4;\" x=\"164.785853\" xlink:href=\"#m2fdf8b6fb5\" y=\"86.466006\"/>\n     <use style=\"fill:#1f77b4;stroke:#1f77b4;\" x=\"129.524166\" xlink:href=\"#m2fdf8b6fb5\" y=\"47.769695\"/>\n     <use style=\"fill:#1f77b4;stroke:#1f77b4;\" x=\"160.519487\" xlink:href=\"#m2fdf8b6fb5\" y=\"113.806312\"/>\n     <use style=\"fill:#1f77b4;stroke:#1f77b4;\" x=\"109.962013\" xlink:href=\"#m2fdf8b6fb5\" y=\"49.613751\"/>\n     <use style=\"fill:#1f77b4;stroke:#1f77b4;\" x=\"105.586165\" xlink:href=\"#m2fdf8b6fb5\" y=\"38.218424\"/>\n     <use style=\"fill:#1f77b4;stroke:#1f77b4;\" x=\"121.670837\" xlink:href=\"#m2fdf8b6fb5\" y=\"52.536605\"/>\n     <use style=\"fill:#1f77b4;stroke:#1f77b4;\" x=\"158.214076\" xlink:href=\"#m2fdf8b6fb5\" y=\"98.11925\"/>\n     <use style=\"fill:#1f77b4;stroke:#1f77b4;\" x=\"146.379813\" xlink:href=\"#m2fdf8b6fb5\" y=\"72.895962\"/>\n     <use style=\"fill:#1f77b4;stroke:#1f77b4;\" x=\"112.201336\" xlink:href=\"#m2fdf8b6fb5\" y=\"53.737456\"/>\n     <use style=\"fill:#1f77b4;stroke:#1f77b4;\" x=\"140.125604\" xlink:href=\"#m2fdf8b6fb5\" y=\"70.847809\"/>\n     <use style=\"fill:#1f77b4;stroke:#1f77b4;\" x=\"183.749653\" xlink:href=\"#m2fdf8b6fb5\" y=\"86.445145\"/>\n     <use style=\"fill:#1f77b4;stroke:#1f77b4;\" x=\"137.032997\" xlink:href=\"#m2fdf8b6fb5\" y=\"80.108835\"/>\n     <use style=\"fill:#1f77b4;stroke:#1f77b4;\" x=\"152.013684\" xlink:href=\"#m2fdf8b6fb5\" y=\"75.414615\"/>\n     <use style=\"fill:#1f77b4;stroke:#1f77b4;\" x=\"115.457999\" xlink:href=\"#m2fdf8b6fb5\" y=\"56.48584\"/>\n     <use style=\"fill:#1f77b4;stroke:#1f77b4;\" x=\"110.463147\" xlink:href=\"#m2fdf8b6fb5\" y=\"56.846417\"/>\n     <use style=\"fill:#1f77b4;stroke:#1f77b4;\" x=\"104.288226\" xlink:href=\"#m2fdf8b6fb5\" y=\"40.136077\"/>\n     <use style=\"fill:#1f77b4;stroke:#1f77b4;\" x=\"140.633121\" xlink:href=\"#m2fdf8b6fb5\" y=\"77.489788\"/>\n     <use style=\"fill:#1f77b4;stroke:#1f77b4;\" x=\"99.38412\" xlink:href=\"#m2fdf8b6fb5\" y=\"56.067451\"/>\n     <use style=\"fill:#1f77b4;stroke:#1f77b4;\" x=\"148.332578\" xlink:href=\"#m2fdf8b6fb5\" y=\"80.482121\"/>\n     <use style=\"fill:#1f77b4;stroke:#1f77b4;\" x=\"71.501223\" xlink:href=\"#m2fdf8b6fb5\" y=\"17.325248\"/>\n     <use style=\"fill:#1f77b4;stroke:#1f77b4;\" x=\"109.523329\" xlink:href=\"#m2fdf8b6fb5\" y=\"62.183492\"/>\n     <use style=\"fill:#1f77b4;stroke:#1f77b4;\" x=\"125.009794\" xlink:href=\"#m2fdf8b6fb5\" y=\"66.444962\"/>\n     <use style=\"fill:#1f77b4;stroke:#1f77b4;\" x=\"143.456353\" xlink:href=\"#m2fdf8b6fb5\" y=\"87.687625\"/>\n     <use style=\"fill:#1f77b4;stroke:#1f77b4;\" x=\"133.75032\" xlink:href=\"#m2fdf8b6fb5\" y=\"79.267076\"/>\n     <use style=\"fill:#1f77b4;stroke:#1f77b4;\" x=\"122.35353\" xlink:href=\"#m2fdf8b6fb5\" y=\"68.551807\"/>\n     <use style=\"fill:#1f77b4;stroke:#1f77b4;\" x=\"160.007123\" xlink:href=\"#m2fdf8b6fb5\" y=\"92.274307\"/>\n     <use style=\"fill:#1f77b4;stroke:#1f77b4;\" x=\"113.533723\" xlink:href=\"#m2fdf8b6fb5\" y=\"66.934486\"/>\n     <use style=\"fill:#1f77b4;stroke:#1f77b4;\" x=\"113.598603\" xlink:href=\"#m2fdf8b6fb5\" y=\"57.905514\"/>\n     <use style=\"fill:#1f77b4;stroke:#1f77b4;\" x=\"159.188423\" xlink:href=\"#m2fdf8b6fb5\" y=\"92.720139\"/>\n     <use style=\"fill:#1f77b4;stroke:#1f77b4;\" x=\"163.554229\" xlink:href=\"#m2fdf8b6fb5\" y=\"93.681388\"/>\n     <use style=\"fill:#1f77b4;stroke:#1f77b4;\" x=\"123.429137\" xlink:href=\"#m2fdf8b6fb5\" y=\"66.960165\"/>\n     <use style=\"fill:#1f77b4;stroke:#1f77b4;\" x=\"140.364335\" xlink:href=\"#m2fdf8b6fb5\" y=\"68.850829\"/>\n     <use style=\"fill:#1f77b4;stroke:#1f77b4;\" x=\"138.311147\" xlink:href=\"#m2fdf8b6fb5\" y=\"68.577468\"/>\n     <use style=\"fill:#1f77b4;stroke:#1f77b4;\" x=\"142.181491\" xlink:href=\"#m2fdf8b6fb5\" y=\"75.12029\"/>\n     <use style=\"fill:#1f77b4;stroke:#1f77b4;\" x=\"105.969965\" xlink:href=\"#m2fdf8b6fb5\" y=\"59.687639\"/>\n     <use style=\"fill:#1f77b4;stroke:#1f77b4;\" x=\"123.018659\" xlink:href=\"#m2fdf8b6fb5\" y=\"47.27137\"/>\n     <use style=\"fill:#1f77b4;stroke:#1f77b4;\" x=\"116.367195\" xlink:href=\"#m2fdf8b6fb5\" y=\"74.208017\"/>\n     <use style=\"fill:#1f77b4;stroke:#1f77b4;\" x=\"97.1951\" xlink:href=\"#m2fdf8b6fb5\" y=\"32.610714\"/>\n     <use style=\"fill:#1f77b4;stroke:#1f77b4;\" x=\"102.149375\" xlink:href=\"#m2fdf8b6fb5\" y=\"54.529176\"/>\n     <use style=\"fill:#1f77b4;stroke:#1f77b4;\" x=\"138.818014\" xlink:href=\"#m2fdf8b6fb5\" y=\"68.296925\"/>\n     <use style=\"fill:#1f77b4;stroke:#1f77b4;\" x=\"115.237746\" xlink:href=\"#m2fdf8b6fb5\" y=\"64.833786\"/>\n     <use style=\"fill:#1f77b4;stroke:#1f77b4;\" x=\"136.035984\" xlink:href=\"#m2fdf8b6fb5\" y=\"85.991083\"/>\n     <use style=\"fill:#1f77b4;stroke:#1f77b4;\" x=\"94.336885\" xlink:href=\"#m2fdf8b6fb5\" y=\"44.147305\"/>\n     <use style=\"fill:#1f77b4;stroke:#1f77b4;\" x=\"138.438914\" xlink:href=\"#m2fdf8b6fb5\" y=\"61.753161\"/>\n     <use style=\"fill:#1f77b4;stroke:#1f77b4;\" x=\"146.285375\" xlink:href=\"#m2fdf8b6fb5\" y=\"98.774059\"/>\n     <use style=\"fill:#1f77b4;stroke:#1f77b4;\" x=\"139.935975\" xlink:href=\"#m2fdf8b6fb5\" y=\"66.34854\"/>\n     <use style=\"fill:#1f77b4;stroke:#1f77b4;\" x=\"140.628084\" xlink:href=\"#m2fdf8b6fb5\" y=\"68.914782\"/>\n     <use style=\"fill:#1f77b4;stroke:#1f77b4;\" x=\"130.893936\" xlink:href=\"#m2fdf8b6fb5\" y=\"69.705027\"/>\n     <use style=\"fill:#1f77b4;stroke:#1f77b4;\" x=\"104.383015\" xlink:href=\"#m2fdf8b6fb5\" y=\"56.531543\"/>\n     <use style=\"fill:#1f77b4;stroke:#1f77b4;\" x=\"113.152273\" xlink:href=\"#m2fdf8b6fb5\" y=\"71.029808\"/>\n     <use style=\"fill:#1f77b4;stroke:#1f77b4;\" x=\"108.184898\" xlink:href=\"#m2fdf8b6fb5\" y=\"46.694933\"/>\n     <use style=\"fill:#1f77b4;stroke:#1f77b4;\" x=\"149.671206\" xlink:href=\"#m2fdf8b6fb5\" y=\"72.836406\"/>\n     <use style=\"fill:#1f77b4;stroke:#1f77b4;\" x=\"124.242672\" xlink:href=\"#m2fdf8b6fb5\" y=\"66.166469\"/>\n     <use style=\"fill:#1f77b4;stroke:#1f77b4;\" x=\"97.700049\" xlink:href=\"#m2fdf8b6fb5\" y=\"46.266712\"/>\n     <use style=\"fill:#1f77b4;stroke:#1f77b4;\" x=\"138.640351\" xlink:href=\"#m2fdf8b6fb5\" y=\"91.314688\"/>\n     <use style=\"fill:#1f77b4;stroke:#1f77b4;\" x=\"142.038787\" xlink:href=\"#m2fdf8b6fb5\" y=\"70.559888\"/>\n     <use style=\"fill:#1f77b4;stroke:#1f77b4;\" x=\"133.336768\" xlink:href=\"#m2fdf8b6fb5\" y=\"70.829481\"/>\n     <use style=\"fill:#1f77b4;stroke:#1f77b4;\" x=\"130.629133\" xlink:href=\"#m2fdf8b6fb5\" y=\"71.957032\"/>\n     <use style=\"fill:#1f77b4;stroke:#1f77b4;\" x=\"79.088225\" xlink:href=\"#m2fdf8b6fb5\" y=\"31.59034\"/>\n     <use style=\"fill:#1f77b4;stroke:#1f77b4;\" x=\"164.16638\" xlink:href=\"#m2fdf8b6fb5\" y=\"87.52778\"/>\n     <use style=\"fill:#1f77b4;stroke:#1f77b4;\" x=\"129.684497\" xlink:href=\"#m2fdf8b6fb5\" y=\"64.583545\"/>\n     <use style=\"fill:#1f77b4;stroke:#1f77b4;\" x=\"147.024288\" xlink:href=\"#m2fdf8b6fb5\" y=\"84.231992\"/>\n     <use style=\"fill:#1f77b4;stroke:#1f77b4;\" x=\"153.815284\" xlink:href=\"#m2fdf8b6fb5\" y=\"97.59588\"/>\n     <use style=\"fill:#1f77b4;stroke:#1f77b4;\" x=\"107.620322\" xlink:href=\"#m2fdf8b6fb5\" y=\"63.249145\"/>\n     <use style=\"fill:#1f77b4;stroke:#1f77b4;\" x=\"128.001362\" xlink:href=\"#m2fdf8b6fb5\" y=\"68.374921\"/>\n     <use style=\"fill:#1f77b4;stroke:#1f77b4;\" x=\"126.740634\" xlink:href=\"#m2fdf8b6fb5\" y=\"86.408008\"/>\n     <use style=\"fill:#1f77b4;stroke:#1f77b4;\" x=\"122.855998\" xlink:href=\"#m2fdf8b6fb5\" y=\"71.022634\"/>\n     <use style=\"fill:#1f77b4;stroke:#1f77b4;\" x=\"103.120082\" xlink:href=\"#m2fdf8b6fb5\" y=\"47.162106\"/>\n     <use style=\"fill:#1f77b4;stroke:#1f77b4;\" x=\"104.74583\" xlink:href=\"#m2fdf8b6fb5\" y=\"65.10939\"/>\n     <use style=\"fill:#1f77b4;stroke:#1f77b4;\" x=\"96.705694\" xlink:href=\"#m2fdf8b6fb5\" y=\"52.508952\"/>\n     <use style=\"fill:#1f77b4;stroke:#1f77b4;\" x=\"137.405043\" xlink:href=\"#m2fdf8b6fb5\" y=\"86.153284\"/>\n     <use style=\"fill:#1f77b4;stroke:#1f77b4;\" x=\"169.261612\" xlink:href=\"#m2fdf8b6fb5\" y=\"107.526199\"/>\n     <use style=\"fill:#1f77b4;stroke:#1f77b4;\" x=\"134.763279\" xlink:href=\"#m2fdf8b6fb5\" y=\"77.108904\"/>\n     <use style=\"fill:#1f77b4;stroke:#1f77b4;\" x=\"157.86138\" xlink:href=\"#m2fdf8b6fb5\" y=\"82.600173\"/>\n     <use style=\"fill:#1f77b4;stroke:#1f77b4;\" x=\"113.800861\" xlink:href=\"#m2fdf8b6fb5\" y=\"79.557594\"/>\n     <use style=\"fill:#1f77b4;stroke:#1f77b4;\" x=\"113.113984\" xlink:href=\"#m2fdf8b6fb5\" y=\"58.668688\"/>\n     <use style=\"fill:#1f77b4;stroke:#1f77b4;\" x=\"153.747016\" xlink:href=\"#m2fdf8b6fb5\" y=\"98.548415\"/>\n     <use style=\"fill:#1f77b4;stroke:#1f77b4;\" x=\"95.676042\" xlink:href=\"#m2fdf8b6fb5\" y=\"48.943871\"/>\n     <use style=\"fill:#1f77b4;stroke:#1f77b4;\" x=\"137.400333\" xlink:href=\"#m2fdf8b6fb5\" y=\"73.855934\"/>\n     <use style=\"fill:#1f77b4;stroke:#1f77b4;\" x=\"120.359033\" xlink:href=\"#m2fdf8b6fb5\" y=\"67.268272\"/>\n     <use style=\"fill:#1f77b4;stroke:#1f77b4;\" x=\"118.00607\" xlink:href=\"#m2fdf8b6fb5\" y=\"69.71087\"/>\n     <use style=\"fill:#1f77b4;stroke:#1f77b4;\" x=\"104.569675\" xlink:href=\"#m2fdf8b6fb5\" y=\"59.370949\"/>\n     <use style=\"fill:#1f77b4;stroke:#1f77b4;\" x=\"127.932528\" xlink:href=\"#m2fdf8b6fb5\" y=\"66.608819\"/>\n     <use style=\"fill:#1f77b4;stroke:#1f77b4;\" x=\"103.322741\" xlink:href=\"#m2fdf8b6fb5\" y=\"47.610344\"/>\n     <use style=\"fill:#1f77b4;stroke:#1f77b4;\" x=\"144.433631\" xlink:href=\"#m2fdf8b6fb5\" y=\"93.644523\"/>\n     <use style=\"fill:#1f77b4;stroke:#1f77b4;\" x=\"146.982796\" xlink:href=\"#m2fdf8b6fb5\" y=\"83.327512\"/>\n     <use style=\"fill:#1f77b4;stroke:#1f77b4;\" x=\"104.5601\" xlink:href=\"#m2fdf8b6fb5\" y=\"66.686785\"/>\n     <use style=\"fill:#1f77b4;stroke:#1f77b4;\" x=\"135.987531\" xlink:href=\"#m2fdf8b6fb5\" y=\"72.576568\"/>\n     <use style=\"fill:#1f77b4;stroke:#1f77b4;\" x=\"148.765353\" xlink:href=\"#m2fdf8b6fb5\" y=\"95.923321\"/>\n     <use style=\"fill:#1f77b4;stroke:#1f77b4;\" x=\"140.202927\" xlink:href=\"#m2fdf8b6fb5\" y=\"64.539828\"/>\n     <use style=\"fill:#1f77b4;stroke:#1f77b4;\" x=\"141.751863\" xlink:href=\"#m2fdf8b6fb5\" y=\"80.634797\"/>\n     <use style=\"fill:#1f77b4;stroke:#1f77b4;\" x=\"144.097243\" xlink:href=\"#m2fdf8b6fb5\" y=\"90.274942\"/>\n     <use style=\"fill:#1f77b4;stroke:#1f77b4;\" x=\"161.377733\" xlink:href=\"#m2fdf8b6fb5\" y=\"86.949387\"/>\n     <use style=\"fill:#1f77b4;stroke:#1f77b4;\" x=\"111.76755\" xlink:href=\"#m2fdf8b6fb5\" y=\"63.489996\"/>\n     <use style=\"fill:#1f77b4;stroke:#1f77b4;\" x=\"132.31581\" xlink:href=\"#m2fdf8b6fb5\" y=\"63.022942\"/>\n     <use style=\"fill:#1f77b4;stroke:#1f77b4;\" x=\"91.944849\" xlink:href=\"#m2fdf8b6fb5\" y=\"65.679807\"/>\n     <use style=\"fill:#1f77b4;stroke:#1f77b4;\" x=\"150.79813\" xlink:href=\"#m2fdf8b6fb5\" y=\"87.772417\"/>\n     <use style=\"fill:#1f77b4;stroke:#1f77b4;\" x=\"115.05565\" xlink:href=\"#m2fdf8b6fb5\" y=\"54.872884\"/>\n     <use style=\"fill:#1f77b4;stroke:#1f77b4;\" x=\"145.980319\" xlink:href=\"#m2fdf8b6fb5\" y=\"85.09054\"/>\n     <use style=\"fill:#1f77b4;stroke:#1f77b4;\" x=\"138.678719\" xlink:href=\"#m2fdf8b6fb5\" y=\"72.4146\"/>\n     <use style=\"fill:#1f77b4;stroke:#1f77b4;\" x=\"122.552348\" xlink:href=\"#m2fdf8b6fb5\" y=\"48.904012\"/>\n     <use style=\"fill:#1f77b4;stroke:#1f77b4;\" x=\"167.278321\" xlink:href=\"#m2fdf8b6fb5\" y=\"80.567607\"/>\n     <use style=\"fill:#1f77b4;stroke:#1f77b4;\" x=\"142.357736\" xlink:href=\"#m2fdf8b6fb5\" y=\"74.780646\"/>\n     <use style=\"fill:#1f77b4;stroke:#1f77b4;\" x=\"71.950114\" xlink:href=\"#m2fdf8b6fb5\" y=\"13.377273\"/>\n     <use style=\"fill:#1f77b4;stroke:#1f77b4;\" x=\"145.449942\" xlink:href=\"#m2fdf8b6fb5\" y=\"66.654362\"/>\n     <use style=\"fill:#1f77b4;stroke:#1f77b4;\" x=\"117.292845\" xlink:href=\"#m2fdf8b6fb5\" y=\"69.820208\"/>\n     <use style=\"fill:#1f77b4;stroke:#1f77b4;\" x=\"134.680869\" xlink:href=\"#m2fdf8b6fb5\" y=\"71.429417\"/>\n     <use style=\"fill:#1f77b4;stroke:#1f77b4;\" x=\"155.012012\" xlink:href=\"#m2fdf8b6fb5\" y=\"83.895509\"/>\n     <use style=\"fill:#1f77b4;stroke:#1f77b4;\" x=\"119.691608\" xlink:href=\"#m2fdf8b6fb5\" y=\"75.114552\"/>\n     <use style=\"fill:#1f77b4;stroke:#1f77b4;\" x=\"142.375538\" xlink:href=\"#m2fdf8b6fb5\" y=\"91.61094\"/>\n     <use style=\"fill:#1f77b4;stroke:#1f77b4;\" x=\"174.936262\" xlink:href=\"#m2fdf8b6fb5\" y=\"100.251637\"/>\n     <use style=\"fill:#1f77b4;stroke:#1f77b4;\" x=\"59.028994\" xlink:href=\"#m2fdf8b6fb5\" y=\"16.142932\"/>\n     <use style=\"fill:#1f77b4;stroke:#1f77b4;\" x=\"118.304845\" xlink:href=\"#m2fdf8b6fb5\" y=\"61.377387\"/>\n     <use style=\"fill:#1f77b4;stroke:#1f77b4;\" x=\"114.146086\" xlink:href=\"#m2fdf8b6fb5\" y=\"49.12202\"/>\n     <use style=\"fill:#1f77b4;stroke:#1f77b4;\" x=\"117.278027\" xlink:href=\"#m2fdf8b6fb5\" y=\"65.421163\"/>\n     <use style=\"fill:#1f77b4;stroke:#1f77b4;\" x=\"147.151749\" xlink:href=\"#m2fdf8b6fb5\" y=\"91.196774\"/>\n     <use style=\"fill:#1f77b4;stroke:#1f77b4;\" x=\"97.21544\" xlink:href=\"#m2fdf8b6fb5\" y=\"53.809641\"/>\n     <use style=\"fill:#1f77b4;stroke:#1f77b4;\" x=\"143.015299\" xlink:href=\"#m2fdf8b6fb5\" y=\"68.82631\"/>\n     <use style=\"fill:#1f77b4;stroke:#1f77b4;\" x=\"153.636039\" xlink:href=\"#m2fdf8b6fb5\" y=\"97.673056\"/>\n     <use style=\"fill:#1f77b4;stroke:#1f77b4;\" x=\"121.284685\" xlink:href=\"#m2fdf8b6fb5\" y=\"67.950356\"/>\n     <use style=\"fill:#1f77b4;stroke:#1f77b4;\" x=\"119.338143\" xlink:href=\"#m2fdf8b6fb5\" y=\"74.980664\"/>\n     <use style=\"fill:#1f77b4;stroke:#1f77b4;\" x=\"141.863647\" xlink:href=\"#m2fdf8b6fb5\" y=\"66.720167\"/>\n     <use style=\"fill:#1f77b4;stroke:#1f77b4;\" x=\"121.608228\" xlink:href=\"#m2fdf8b6fb5\" y=\"67.278962\"/>\n     <use style=\"fill:#1f77b4;stroke:#1f77b4;\" x=\"96.942421\" xlink:href=\"#m2fdf8b6fb5\" y=\"53.272009\"/>\n     <use style=\"fill:#1f77b4;stroke:#1f77b4;\" x=\"107.96317\" xlink:href=\"#m2fdf8b6fb5\" y=\"35.902932\"/>\n     <use style=\"fill:#1f77b4;stroke:#1f77b4;\" x=\"89.442054\" xlink:href=\"#m2fdf8b6fb5\" y=\"37.519061\"/>\n     <use style=\"fill:#1f77b4;stroke:#1f77b4;\" x=\"100.243524\" xlink:href=\"#m2fdf8b6fb5\" y=\"67.815342\"/>\n     <use style=\"fill:#1f77b4;stroke:#1f77b4;\" x=\"137.285132\" xlink:href=\"#m2fdf8b6fb5\" y=\"76.769697\"/>\n     <use style=\"fill:#1f77b4;stroke:#1f77b4;\" x=\"84.459414\" xlink:href=\"#m2fdf8b6fb5\" y=\"34.73194\"/>\n     <use style=\"fill:#1f77b4;stroke:#1f77b4;\" x=\"137.85292\" xlink:href=\"#m2fdf8b6fb5\" y=\"83.737467\"/>\n     <use style=\"fill:#1f77b4;stroke:#1f77b4;\" x=\"114.976925\" xlink:href=\"#m2fdf8b6fb5\" y=\"70.467363\"/>\n     <use style=\"fill:#1f77b4;stroke:#1f77b4;\" x=\"123.706404\" xlink:href=\"#m2fdf8b6fb5\" y=\"75.156541\"/>\n     <use style=\"fill:#1f77b4;stroke:#1f77b4;\" x=\"118.719749\" xlink:href=\"#m2fdf8b6fb5\" y=\"59.548768\"/>\n     <use style=\"fill:#1f77b4;stroke:#1f77b4;\" x=\"134.282423\" xlink:href=\"#m2fdf8b6fb5\" y=\"87.64927\"/>\n     <use style=\"fill:#1f77b4;stroke:#1f77b4;\" x=\"90.586733\" xlink:href=\"#m2fdf8b6fb5\" y=\"43.948752\"/>\n     <use style=\"fill:#1f77b4;stroke:#1f77b4;\" x=\"130.026313\" xlink:href=\"#m2fdf8b6fb5\" y=\"76.238091\"/>\n     <use style=\"fill:#1f77b4;stroke:#1f77b4;\" x=\"138.765613\" xlink:href=\"#m2fdf8b6fb5\" y=\"62.130803\"/>\n     <use style=\"fill:#1f77b4;stroke:#1f77b4;\" x=\"124.003263\" xlink:href=\"#m2fdf8b6fb5\" y=\"54.30791\"/>\n     <use style=\"fill:#1f77b4;stroke:#1f77b4;\" x=\"92.093494\" xlink:href=\"#m2fdf8b6fb5\" y=\"39.755365\"/>\n     <use style=\"fill:#1f77b4;stroke:#1f77b4;\" x=\"164.776882\" xlink:href=\"#m2fdf8b6fb5\" y=\"78.434112\"/>\n     <use style=\"fill:#1f77b4;stroke:#1f77b4;\" x=\"158.127933\" xlink:href=\"#m2fdf8b6fb5\" y=\"72.971257\"/>\n     <use style=\"fill:#1f77b4;stroke:#1f77b4;\" x=\"128.131148\" xlink:href=\"#m2fdf8b6fb5\" y=\"59.54955\"/>\n     <use style=\"fill:#1f77b4;stroke:#1f77b4;\" x=\"131.45506\" xlink:href=\"#m2fdf8b6fb5\" y=\"76.440768\"/>\n     <use style=\"fill:#1f77b4;stroke:#1f77b4;\" x=\"110.725817\" xlink:href=\"#m2fdf8b6fb5\" y=\"61.461938\"/>\n     <use style=\"fill:#1f77b4;stroke:#1f77b4;\" x=\"138.194918\" xlink:href=\"#m2fdf8b6fb5\" y=\"72.382237\"/>\n     <use style=\"fill:#1f77b4;stroke:#1f77b4;\" x=\"116.068495\" xlink:href=\"#m2fdf8b6fb5\" y=\"61.763858\"/>\n     <use style=\"fill:#1f77b4;stroke:#1f77b4;\" x=\"105.087574\" xlink:href=\"#m2fdf8b6fb5\" y=\"52.534299\"/>\n     <use style=\"fill:#1f77b4;stroke:#1f77b4;\" x=\"157.46101\" xlink:href=\"#m2fdf8b6fb5\" y=\"75.810523\"/>\n     <use style=\"fill:#1f77b4;stroke:#1f77b4;\" x=\"129.95109\" xlink:href=\"#m2fdf8b6fb5\" y=\"63.720611\"/>\n     <use style=\"fill:#1f77b4;stroke:#1f77b4;\" x=\"105.733057\" xlink:href=\"#m2fdf8b6fb5\" y=\"54.569185\"/>\n     <use style=\"fill:#1f77b4;stroke:#1f77b4;\" x=\"147.932211\" xlink:href=\"#m2fdf8b6fb5\" y=\"78.697643\"/>\n     <use style=\"fill:#1f77b4;stroke:#1f77b4;\" x=\"101.438263\" xlink:href=\"#m2fdf8b6fb5\" y=\"49.093558\"/>\n     <use style=\"fill:#1f77b4;stroke:#1f77b4;\" x=\"112.855397\" xlink:href=\"#m2fdf8b6fb5\" y=\"59.922773\"/>\n     <use style=\"fill:#1f77b4;stroke:#1f77b4;\" x=\"102.667322\" xlink:href=\"#m2fdf8b6fb5\" y=\"42.866794\"/>\n     <use style=\"fill:#1f77b4;stroke:#1f77b4;\" x=\"136.462371\" xlink:href=\"#m2fdf8b6fb5\" y=\"76.760347\"/>\n     <use style=\"fill:#1f77b4;stroke:#1f77b4;\" x=\"141.804439\" xlink:href=\"#m2fdf8b6fb5\" y=\"84.597262\"/>\n     <use style=\"fill:#1f77b4;stroke:#1f77b4;\" x=\"123.143134\" xlink:href=\"#m2fdf8b6fb5\" y=\"78.879506\"/>\n     <use style=\"fill:#1f77b4;stroke:#1f77b4;\" x=\"99.710431\" xlink:href=\"#m2fdf8b6fb5\" y=\"53.915822\"/>\n     <use style=\"fill:#1f77b4;stroke:#1f77b4;\" x=\"159.618541\" xlink:href=\"#m2fdf8b6fb5\" y=\"87.25201\"/>\n     <use style=\"fill:#1f77b4;stroke:#1f77b4;\" x=\"153.674087\" xlink:href=\"#m2fdf8b6fb5\" y=\"85.753184\"/>\n     <use style=\"fill:#1f77b4;stroke:#1f77b4;\" x=\"133.055254\" xlink:href=\"#m2fdf8b6fb5\" y=\"69.605649\"/>\n     <use style=\"fill:#1f77b4;stroke:#1f77b4;\" x=\"124.402996\" xlink:href=\"#m2fdf8b6fb5\" y=\"60.187891\"/>\n     <use style=\"fill:#1f77b4;stroke:#1f77b4;\" x=\"118.630798\" xlink:href=\"#m2fdf8b6fb5\" y=\"55.983687\"/>\n     <use style=\"fill:#1f77b4;stroke:#1f77b4;\" x=\"124.936652\" xlink:href=\"#m2fdf8b6fb5\" y=\"71.157127\"/>\n     <use style=\"fill:#1f77b4;stroke:#1f77b4;\" x=\"174.77815\" xlink:href=\"#m2fdf8b6fb5\" y=\"99.959334\"/>\n     <use style=\"fill:#1f77b4;stroke:#1f77b4;\" x=\"97.698679\" xlink:href=\"#m2fdf8b6fb5\" y=\"64.337292\"/>\n     <use style=\"fill:#1f77b4;stroke:#1f77b4;\" x=\"139.867834\" xlink:href=\"#m2fdf8b6fb5\" y=\"81.054019\"/>\n     <use style=\"fill:#1f77b4;stroke:#1f77b4;\" x=\"124.851538\" xlink:href=\"#m2fdf8b6fb5\" y=\"45.830285\"/>\n     <use style=\"fill:#1f77b4;stroke:#1f77b4;\" x=\"134.349545\" xlink:href=\"#m2fdf8b6fb5\" y=\"62.925052\"/>\n     <use style=\"fill:#1f77b4;stroke:#1f77b4;\" x=\"115.193924\" xlink:href=\"#m2fdf8b6fb5\" y=\"65.465174\"/>\n     <use style=\"fill:#1f77b4;stroke:#1f77b4;\" x=\"157.122106\" xlink:href=\"#m2fdf8b6fb5\" y=\"81.468884\"/>\n     <use style=\"fill:#1f77b4;stroke:#1f77b4;\" x=\"102.743658\" xlink:href=\"#m2fdf8b6fb5\" y=\"55.604312\"/>\n     <use style=\"fill:#1f77b4;stroke:#1f77b4;\" x=\"147.202536\" xlink:href=\"#m2fdf8b6fb5\" y=\"78.120467\"/>\n     <use style=\"fill:#1f77b4;stroke:#1f77b4;\" x=\"125.18782\" xlink:href=\"#m2fdf8b6fb5\" y=\"56.987882\"/>\n     <use style=\"fill:#1f77b4;stroke:#1f77b4;\" x=\"103.602697\" xlink:href=\"#m2fdf8b6fb5\" y=\"52.59247\"/>\n     <use style=\"fill:#1f77b4;stroke:#1f77b4;\" x=\"140.637872\" xlink:href=\"#m2fdf8b6fb5\" y=\"80.252251\"/>\n     <use style=\"fill:#1f77b4;stroke:#1f77b4;\" x=\"171.875422\" xlink:href=\"#m2fdf8b6fb5\" y=\"100.118583\"/>\n     <use style=\"fill:#1f77b4;stroke:#1f77b4;\" x=\"96.634853\" xlink:href=\"#m2fdf8b6fb5\" y=\"51.456313\"/>\n     <use style=\"fill:#1f77b4;stroke:#1f77b4;\" x=\"156.973987\" xlink:href=\"#m2fdf8b6fb5\" y=\"86.354085\"/>\n     <use style=\"fill:#1f77b4;stroke:#1f77b4;\" x=\"160.394275\" xlink:href=\"#m2fdf8b6fb5\" y=\"106.529165\"/>\n     <use style=\"fill:#1f77b4;stroke:#1f77b4;\" x=\"107.67923\" xlink:href=\"#m2fdf8b6fb5\" y=\"55.033667\"/>\n     <use style=\"fill:#1f77b4;stroke:#1f77b4;\" x=\"143.651514\" xlink:href=\"#m2fdf8b6fb5\" y=\"55.917989\"/>\n     <use style=\"fill:#1f77b4;stroke:#1f77b4;\" x=\"109.305346\" xlink:href=\"#m2fdf8b6fb5\" y=\"64.331682\"/>\n     <use style=\"fill:#1f77b4;stroke:#1f77b4;\" x=\"147.326055\" xlink:href=\"#m2fdf8b6fb5\" y=\"72.606249\"/>\n     <use style=\"fill:#1f77b4;stroke:#1f77b4;\" x=\"127.980286\" xlink:href=\"#m2fdf8b6fb5\" y=\"54.727585\"/>\n     <use style=\"fill:#1f77b4;stroke:#1f77b4;\" x=\"104.733737\" xlink:href=\"#m2fdf8b6fb5\" y=\"63.128644\"/>\n     <use style=\"fill:#1f77b4;stroke:#1f77b4;\" x=\"105.459842\" xlink:href=\"#m2fdf8b6fb5\" y=\"57.886029\"/>\n     <use style=\"fill:#1f77b4;stroke:#1f77b4;\" x=\"151.606998\" xlink:href=\"#m2fdf8b6fb5\" y=\"79.530079\"/>\n     <use style=\"fill:#1f77b4;stroke:#1f77b4;\" x=\"91.631825\" xlink:href=\"#m2fdf8b6fb5\" y=\"42.167074\"/>\n     <use style=\"fill:#1f77b4;stroke:#1f77b4;\" x=\"69.773998\" xlink:href=\"#m2fdf8b6fb5\" y=\"30.801144\"/>\n     <use style=\"fill:#1f77b4;stroke:#1f77b4;\" x=\"138.80523\" xlink:href=\"#m2fdf8b6fb5\" y=\"69.083403\"/>\n     <use style=\"fill:#1f77b4;stroke:#1f77b4;\" x=\"151.163655\" xlink:href=\"#m2fdf8b6fb5\" y=\"88.751112\"/>\n     <use style=\"fill:#1f77b4;stroke:#1f77b4;\" x=\"117.156037\" xlink:href=\"#m2fdf8b6fb5\" y=\"69.595384\"/>\n     <use style=\"fill:#1f77b4;stroke:#1f77b4;\" x=\"175.323256\" xlink:href=\"#m2fdf8b6fb5\" y=\"92.231374\"/>\n     <use style=\"fill:#1f77b4;stroke:#1f77b4;\" x=\"184.64513\" xlink:href=\"#m2fdf8b6fb5\" y=\"106.299414\"/>\n     <use style=\"fill:#1f77b4;stroke:#1f77b4;\" x=\"120.596261\" xlink:href=\"#m2fdf8b6fb5\" y=\"52.72896\"/>\n     <use style=\"fill:#1f77b4;stroke:#1f77b4;\" x=\"110.423681\" xlink:href=\"#m2fdf8b6fb5\" y=\"58.880733\"/>\n     <use style=\"fill:#1f77b4;stroke:#1f77b4;\" x=\"126.013911\" xlink:href=\"#m2fdf8b6fb5\" y=\"47.170881\"/>\n     <use style=\"fill:#1f77b4;stroke:#1f77b4;\" x=\"115.475754\" xlink:href=\"#m2fdf8b6fb5\" y=\"55.556655\"/>\n    </g>\n   </g>\n   <g id=\"matplotlib.axis_1\">\n    <g id=\"xtick_1\">\n     <g id=\"line2d_1\">\n      <defs>\n       <path d=\"M 0 0 \nL 0 3.5 \n\" id=\"m5f5e34747c\" style=\"stroke:#000000;stroke-width:0.8;\"/>\n      </defs>\n      <g>\n       <use style=\"stroke:#000000;stroke-width:0.8;\" x=\"77.118508\" xlink:href=\"#m5f5e34747c\" y=\"143.1\"/>\n      </g>\n     </g>\n     <g id=\"text_1\">\n      <!-- −2 -->\n      <defs>\n       <path d=\"M 10.59375 35.5 \nL 73.1875 35.5 \nL 73.1875 27.203125 \nL 10.59375 27.203125 \nz\n\" id=\"DejaVuSans-8722\"/>\n       <path d=\"M 19.1875 8.296875 \nL 53.609375 8.296875 \nL 53.609375 0 \nL 7.328125 0 \nL 7.328125 8.296875 \nQ 12.9375 14.109375 22.625 23.890625 \nQ 32.328125 33.6875 34.8125 36.53125 \nQ 39.546875 41.84375 41.421875 45.53125 \nQ 43.3125 49.21875 43.3125 52.78125 \nQ 43.3125 58.59375 39.234375 62.25 \nQ 35.15625 65.921875 28.609375 65.921875 \nQ 23.96875 65.921875 18.8125 64.3125 \nQ 13.671875 62.703125 7.8125 59.421875 \nL 7.8125 69.390625 \nQ 13.765625 71.78125 18.9375 73 \nQ 24.125 74.21875 28.421875 74.21875 \nQ 39.75 74.21875 46.484375 68.546875 \nQ 53.21875 62.890625 53.21875 53.421875 \nQ 53.21875 48.921875 51.53125 44.890625 \nQ 49.859375 40.875 45.40625 35.40625 \nQ 44.1875 33.984375 37.640625 27.21875 \nQ 31.109375 20.453125 19.1875 8.296875 \nz\n\" id=\"DejaVuSans-50\"/>\n      </defs>\n      <g transform=\"translate(69.747415 157.698438)scale(0.1 -0.1)\">\n       <use xlink:href=\"#DejaVuSans-8722\"/>\n       <use x=\"83.789062\" xlink:href=\"#DejaVuSans-50\"/>\n      </g>\n     </g>\n    </g>\n    <g id=\"xtick_2\">\n     <g id=\"line2d_2\">\n      <g>\n       <use style=\"stroke:#000000;stroke-width:0.8;\" x=\"127.302648\" xlink:href=\"#m5f5e34747c\" y=\"143.1\"/>\n      </g>\n     </g>\n     <g id=\"text_2\">\n      <!-- 0 -->\n      <defs>\n       <path d=\"M 31.78125 66.40625 \nQ 24.171875 66.40625 20.328125 58.90625 \nQ 16.5 51.421875 16.5 36.375 \nQ 16.5 21.390625 20.328125 13.890625 \nQ 24.171875 6.390625 31.78125 6.390625 \nQ 39.453125 6.390625 43.28125 13.890625 \nQ 47.125 21.390625 47.125 36.375 \nQ 47.125 51.421875 43.28125 58.90625 \nQ 39.453125 66.40625 31.78125 66.40625 \nz\nM 31.78125 74.21875 \nQ 44.046875 74.21875 50.515625 64.515625 \nQ 56.984375 54.828125 56.984375 36.375 \nQ 56.984375 17.96875 50.515625 8.265625 \nQ 44.046875 -1.421875 31.78125 -1.421875 \nQ 19.53125 -1.421875 13.0625 8.265625 \nQ 6.59375 17.96875 6.59375 36.375 \nQ 6.59375 54.828125 13.0625 64.515625 \nQ 19.53125 74.21875 31.78125 74.21875 \nz\n\" id=\"DejaVuSans-48\"/>\n      </defs>\n      <g transform=\"translate(124.121398 157.698438)scale(0.1 -0.1)\">\n       <use xlink:href=\"#DejaVuSans-48\"/>\n      </g>\n     </g>\n    </g>\n    <g id=\"xtick_3\">\n     <g id=\"line2d_3\">\n      <g>\n       <use style=\"stroke:#000000;stroke-width:0.8;\" x=\"177.486787\" xlink:href=\"#m5f5e34747c\" y=\"143.1\"/>\n      </g>\n     </g>\n     <g id=\"text_3\">\n      <!-- 2 -->\n      <g transform=\"translate(174.305537 157.698438)scale(0.1 -0.1)\">\n       <use xlink:href=\"#DejaVuSans-50\"/>\n      </g>\n     </g>\n    </g>\n    <g id=\"xtick_4\">\n     <g id=\"line2d_4\">\n      <g>\n       <use style=\"stroke:#000000;stroke-width:0.8;\" x=\"227.670927\" xlink:href=\"#m5f5e34747c\" y=\"143.1\"/>\n      </g>\n     </g>\n     <g id=\"text_4\">\n      <!-- 4 -->\n      <defs>\n       <path d=\"M 37.796875 64.3125 \nL 12.890625 25.390625 \nL 37.796875 25.390625 \nz\nM 35.203125 72.90625 \nL 47.609375 72.90625 \nL 47.609375 25.390625 \nL 58.015625 25.390625 \nL 58.015625 17.1875 \nL 47.609375 17.1875 \nL 47.609375 0 \nL 37.796875 0 \nL 37.796875 17.1875 \nL 4.890625 17.1875 \nL 4.890625 26.703125 \nz\n\" id=\"DejaVuSans-52\"/>\n      </defs>\n      <g transform=\"translate(224.489677 157.698438)scale(0.1 -0.1)\">\n       <use xlink:href=\"#DejaVuSans-52\"/>\n      </g>\n     </g>\n    </g>\n   </g>\n   <g id=\"matplotlib.axis_2\">\n    <g id=\"ytick_1\">\n     <g id=\"line2d_5\">\n      <defs>\n       <path d=\"M 0 0 \nL -3.5 0 \n\" id=\"ma714806a61\" style=\"stroke:#000000;stroke-width:0.8;\"/>\n      </defs>\n      <g>\n       <use style=\"stroke:#000000;stroke-width:0.8;\" x=\"35.304688\" xlink:href=\"#ma714806a61\" y=\"135.896438\"/>\n      </g>\n     </g>\n     <g id=\"text_5\">\n      <!-- −10 -->\n      <defs>\n       <path d=\"M 12.40625 8.296875 \nL 28.515625 8.296875 \nL 28.515625 63.921875 \nL 10.984375 60.40625 \nL 10.984375 69.390625 \nL 28.421875 72.90625 \nL 38.28125 72.90625 \nL 38.28125 8.296875 \nL 54.390625 8.296875 \nL 54.390625 0 \nL 12.40625 0 \nz\n\" id=\"DejaVuSans-49\"/>\n      </defs>\n      <g transform=\"translate(7.2 139.695657)scale(0.1 -0.1)\">\n       <use xlink:href=\"#DejaVuSans-8722\"/>\n       <use x=\"83.789062\" xlink:href=\"#DejaVuSans-49\"/>\n       <use x=\"147.412109\" xlink:href=\"#DejaVuSans-48\"/>\n      </g>\n     </g>\n    </g>\n    <g id=\"ytick_2\">\n     <g id=\"line2d_6\">\n      <g>\n       <use style=\"stroke:#000000;stroke-width:0.8;\" x=\"35.304688\" xlink:href=\"#ma714806a61\" y=\"111.986531\"/>\n      </g>\n     </g>\n     <g id=\"text_6\">\n      <!-- −5 -->\n      <defs>\n       <path d=\"M 10.796875 72.90625 \nL 49.515625 72.90625 \nL 49.515625 64.59375 \nL 19.828125 64.59375 \nL 19.828125 46.734375 \nQ 21.96875 47.46875 24.109375 47.828125 \nQ 26.265625 48.1875 28.421875 48.1875 \nQ 40.625 48.1875 47.75 41.5 \nQ 54.890625 34.8125 54.890625 23.390625 \nQ 54.890625 11.625 47.5625 5.09375 \nQ 40.234375 -1.421875 26.90625 -1.421875 \nQ 22.3125 -1.421875 17.546875 -0.640625 \nQ 12.796875 0.140625 7.71875 1.703125 \nL 7.71875 11.625 \nQ 12.109375 9.234375 16.796875 8.0625 \nQ 21.484375 6.890625 26.703125 6.890625 \nQ 35.15625 6.890625 40.078125 11.328125 \nQ 45.015625 15.765625 45.015625 23.390625 \nQ 45.015625 31 40.078125 35.4375 \nQ 35.15625 39.890625 26.703125 39.890625 \nQ 22.75 39.890625 18.8125 39.015625 \nQ 14.890625 38.140625 10.796875 36.28125 \nz\n\" id=\"DejaVuSans-53\"/>\n      </defs>\n      <g transform=\"translate(13.5625 115.78575)scale(0.1 -0.1)\">\n       <use xlink:href=\"#DejaVuSans-8722\"/>\n       <use x=\"83.789062\" xlink:href=\"#DejaVuSans-53\"/>\n      </g>\n     </g>\n    </g>\n    <g id=\"ytick_3\">\n     <g id=\"line2d_7\">\n      <g>\n       <use style=\"stroke:#000000;stroke-width:0.8;\" x=\"35.304688\" xlink:href=\"#ma714806a61\" y=\"88.076624\"/>\n      </g>\n     </g>\n     <g id=\"text_7\">\n      <!-- 0 -->\n      <g transform=\"translate(21.942187 91.875843)scale(0.1 -0.1)\">\n       <use xlink:href=\"#DejaVuSans-48\"/>\n      </g>\n     </g>\n    </g>\n    <g id=\"ytick_4\">\n     <g id=\"line2d_8\">\n      <g>\n       <use style=\"stroke:#000000;stroke-width:0.8;\" x=\"35.304688\" xlink:href=\"#ma714806a61\" y=\"64.166717\"/>\n      </g>\n     </g>\n     <g id=\"text_8\">\n      <!-- 5 -->\n      <g transform=\"translate(21.942187 67.965936)scale(0.1 -0.1)\">\n       <use xlink:href=\"#DejaVuSans-53\"/>\n      </g>\n     </g>\n    </g>\n    <g id=\"ytick_5\">\n     <g id=\"line2d_9\">\n      <g>\n       <use style=\"stroke:#000000;stroke-width:0.8;\" x=\"35.304688\" xlink:href=\"#ma714806a61\" y=\"40.25681\"/>\n      </g>\n     </g>\n     <g id=\"text_9\">\n      <!-- 10 -->\n      <g transform=\"translate(15.579687 44.056029)scale(0.1 -0.1)\">\n       <use xlink:href=\"#DejaVuSans-49\"/>\n       <use x=\"63.623047\" xlink:href=\"#DejaVuSans-48\"/>\n      </g>\n     </g>\n    </g>\n    <g id=\"ytick_6\">\n     <g id=\"line2d_10\">\n      <g>\n       <use style=\"stroke:#000000;stroke-width:0.8;\" x=\"35.304688\" xlink:href=\"#ma714806a61\" y=\"16.346903\"/>\n      </g>\n     </g>\n     <g id=\"text_10\">\n      <!-- 15 -->\n      <g transform=\"translate(15.579687 20.146122)scale(0.1 -0.1)\">\n       <use xlink:href=\"#DejaVuSans-49\"/>\n       <use x=\"63.623047\" xlink:href=\"#DejaVuSans-53\"/>\n      </g>\n     </g>\n    </g>\n   </g>\n   <g id=\"patch_3\">\n    <path d=\"M 35.304688 143.1 \nL 35.304688 7.2 \n\" style=\"fill:none;stroke:#000000;stroke-linecap:square;stroke-linejoin:miter;stroke-width:0.8;\"/>\n   </g>\n   <g id=\"patch_4\">\n    <path d=\"M 230.604688 143.1 \nL 230.604688 7.2 \n\" style=\"fill:none;stroke:#000000;stroke-linecap:square;stroke-linejoin:miter;stroke-width:0.8;\"/>\n   </g>\n   <g id=\"patch_5\">\n    <path d=\"M 35.304688 143.1 \nL 230.604688 143.1 \n\" style=\"fill:none;stroke:#000000;stroke-linecap:square;stroke-linejoin:miter;stroke-width:0.8;\"/>\n   </g>\n   <g id=\"patch_6\">\n    <path d=\"M 35.304688 7.2 \nL 230.604688 7.2 \n\" style=\"fill:none;stroke:#000000;stroke-linecap:square;stroke-linejoin:miter;stroke-width:0.8;\"/>\n   </g>\n  </g>\n </g>\n <defs>\n  <clipPath id=\"p493f5c5285\">\n   <rect height=\"135.9\" width=\"195.3\" x=\"35.304688\" y=\"7.2\"/>\n  </clipPath>\n </defs>\n</svg>\n"
          },
          "metadata": {
            "needs_background": "light"
          }
        }
      ],
      "source": [
        "#@title\n",
        "d2l.set_figsize()\n",
        "# The semicolon is for displaying the plot only\n",
        "d2l.plt.scatter(features[:, (1)].numpy(), labels.numpy(), 1);"
      ]
    },
    {
      "cell_type": "markdown",
      "id": "36253bc0-ba53-410c-86bb-7a2eb11f9592",
      "metadata": {
        "origin_pos": 5,
        "tags": [],
        "id": "36253bc0-ba53-410c-86bb-7a2eb11f9592"
      },
      "source": [
        "### Reading the Dataset\n",
        "\n",
        "In the following code [**call upon the existing API in a framework to read data.**]\n",
        "We pass in `features` and `labels` as arguments and specify `batch_size`\n",
        "when instantiating a data iterator object.\n",
        "Besides, the boolean value `is_train`\n",
        "indicates whether or not\n",
        "we want the data iterator object to shuffle the data\n",
        "on each epoch (pass through the dataset).\n"
      ]
    },
    {
      "cell_type": "markdown",
      "id": "c28419fa-707f-4a30-8d28-f18ab5d73c31",
      "metadata": {
        "id": "c28419fa-707f-4a30-8d28-f18ab5d73c31"
      },
      "source": [
        "1. **Use the tf function from_tensor_slices to generate a tf dataset object with batch_size as input**\n",
        "2. **Use is_train flag to determine whether to shuffle the dataset or not**"
      ]
    },
    {
      "cell_type": "code",
      "execution_count": 136,
      "id": "53aaab37-4b35-4ff3-9d72-292d260838a9",
      "metadata": {
        "origin_pos": 8,
        "tab": [
          "tensorflow"
        ],
        "id": "53aaab37-4b35-4ff3-9d72-292d260838a9"
      },
      "outputs": [],
      "source": [
        "def load_array(data_arrays, batch_size, is_train=True):  #@save\n",
        "    \"\"\"Construct a TensorFlow data iterator.\"\"\"\n",
        "    #### YOUR CODE HERE ###\n",
        "    dataset = tf.data.Dataset.from_tensor_slices(data_arrays)\n",
        "    if(is_train):\n",
        "      dataset=dataset.shuffle(buffer_size=20 * batch_size)\n",
        "    dataset = dataset.batch(batch_size)\n",
        "    \n",
        "    return iter(dataset)"
      ]
    },
    {
      "cell_type": "code",
      "execution_count": 137,
      "id": "1421cf52-54d8-4341-816c-a5d095bfb8c3",
      "metadata": {
        "origin_pos": 9,
        "tab": [
          "tensorflow"
        ],
        "id": "1421cf52-54d8-4341-816c-a5d095bfb8c3"
      },
      "outputs": [],
      "source": [
        "#@title\n",
        "batch_size = 10\n",
        "data_iter = load_array((features, labels), batch_size)"
      ]
    },
    {
      "cell_type": "markdown",
      "id": "d6e0c589-effb-40ba-8149-3309692fed48",
      "metadata": {
        "origin_pos": 10,
        "id": "d6e0c589-effb-40ba-8149-3309692fed48"
      },
      "source": [
        "3. **Use `iter` to construct a Python iterator and use `next` to obtain the first item from the iterator.**\n"
      ]
    },
    {
      "cell_type": "code",
      "execution_count": 138,
      "id": "2144c8a5-c59c-4886-af3b-8f4353e8f7c6",
      "metadata": {
        "origin_pos": 11,
        "tab": [
          "tensorflow"
        ],
        "id": "2144c8a5-c59c-4886-af3b-8f4353e8f7c6",
        "colab": {
          "base_uri": "https://localhost:8080/"
        },
        "outputId": "f863721c-6f6f-4bae-fcba-426854478a9d"
      },
      "outputs": [
        {
          "output_type": "stream",
          "name": "stdout",
          "text": [
            "tf.Tensor(\n",
            "[[-0.28772068  0.98639524]\n",
            " [ 0.9700548   0.50316125]\n",
            " [ 1.1824257  -0.15865013]\n",
            " [ 0.19755259 -2.6749084 ]\n",
            " [ 0.05694819 -2.0674472 ]\n",
            " [-0.90990627  1.1692344 ]\n",
            " [-0.76687175  0.49730104]\n",
            " [ 2.4488697   0.762508  ]\n",
            " [ 0.38021109 -0.33482885]\n",
            " [-0.29204088  0.38323933]], shape=(10, 2), dtype=float32)\n",
            "tf.Tensor(\n",
            "[[5.8264165 ]\n",
            " [3.3442137 ]\n",
            " [4.9025793 ]\n",
            " [9.091096  ]\n",
            " [6.648909  ]\n",
            " [5.3922973 ]\n",
            " [7.1268477 ]\n",
            " [4.3212023 ]\n",
            " [0.15844633]\n",
            " [4.6411805 ]], shape=(10, 1), dtype=float32)\n"
          ]
        }
      ],
      "source": [
        "#@title\n",
        "### YOUR CODE HERE ###\n",
        "print(next(data_iter)[0]) #--x\n",
        "print(next(data_iter)[1])#--y\n"
      ]
    },
    {
      "cell_type": "markdown",
      "id": "24da4a06-3978-49c2-bcf4-cb4c1ae64f49",
      "metadata": {
        "origin_pos": 15,
        "id": "24da4a06-3978-49c2-bcf4-cb4c1ae64f49"
      },
      "source": [
        "4. **Explain what the output shape in the prvious tensors means:**\n"
      ]
    },
    {
      "cell_type": "markdown",
      "id": "c7eda004-0643-4132-b737-c1f2fc2049d9",
      "metadata": {
        "origin_pos": 16,
        "tab": [
          "tensorflow"
        ],
        "id": "c7eda004-0643-4132-b737-c1f2fc2049d9"
      },
      "source": [
        "#Answer\n",
        "\n",
        "it has the shape of : **10 (batch_size) X 2 (No.fearures)** for the first element of the tuble which is the features\n",
        "\n",
        "and \n",
        "\n",
        "\n",
        "\n",
        " **10 (batch_size) X 1** for the Y values"
      ]
    },
    {
      "cell_type": "markdown",
      "id": "5c83f595-3746-435e-a824-9b4011a5aa40",
      "metadata": {
        "id": "5c83f595-3746-435e-a824-9b4011a5aa40"
      },
      "source": [
        "5. **How many TOTAL batches can be generated by **ENTIRE** data_iter ?** --> batches in data"
      ]
    },
    {
      "cell_type": "markdown",
      "id": "88eb5391-71a5-45ef-8af3-8f6a33b7793c",
      "metadata": {
        "origin_pos": 16,
        "tab": [
          "tensorflow"
        ],
        "id": "88eb5391-71a5-45ef-8af3-8f6a33b7793c"
      },
      "source": [
        "since the batch_size = 10\n",
        "\n",
        "therfore, number of batches = N0.samples/batch_size= 1000/10=**100 batch**"
      ]
    },
    {
      "cell_type": "markdown",
      "id": "71628cba-f449-4139-a02a-f4b9e6b53545",
      "metadata": {
        "origin_pos": 17,
        "tags": [],
        "id": "71628cba-f449-4139-a02a-f4b9e6b53545"
      },
      "source": [
        "### Initializing Model Parameters\n",
        "\n",
        "6. **Initialize weights by sampling random numbers from a normal distribution with mean 0 and a standard deviation of 0.01, and setting the bias to 0.**\n",
        "\n",
        "Note: For the shapes of the weights and bias, look at the generating a dataset part\n"
      ]
    },
    {
      "cell_type": "code",
      "execution_count": 139,
      "id": "db96e147-7256-4a1e-8c8a-6b89df19f117",
      "metadata": {
        "origin_pos": 20,
        "tab": [
          "tensorflow"
        ],
        "id": "db96e147-7256-4a1e-8c8a-6b89df19f117"
      },
      "outputs": [],
      "source": [
        "#@title\n",
        "## YOUR CODE HERE ##\n",
        "mean=0\n",
        "std=.01\n",
        "w = tf.random.normal( mean=mean,stddev=std, shape=(2,1)) # weights initialization\n",
        "b = tf.zeros([1,1])  # bias initialization\n"
      ]
    },
    {
      "cell_type": "markdown",
      "id": "09bbcd34-e487-4751-b8ff-a0f932350562",
      "metadata": {
        "origin_pos": 21,
        "id": "09bbcd34-e487-4751-b8ff-a0f932350562"
      },
      "source": [
        "### Defining the Model\n",
        "\n",
        "7. [**define our model, relating its inputs and parameters to its outputs.**]"
      ]
    },
    {
      "cell_type": "code",
      "execution_count": 140,
      "id": "a892f99c-9846-4b4c-bf89-dd552ca2fd26",
      "metadata": {
        "origin_pos": 22,
        "tab": [
          "tensorflow"
        ],
        "id": "a892f99c-9846-4b4c-bf89-dd552ca2fd26"
      },
      "outputs": [],
      "source": [
        "#@title\n",
        "def linreg(X, w, b):  \n",
        "    \"\"\"The linear regression model.\"\"\"\n",
        "    ## YOUR CODE HERE ##\n",
        "    \n",
        "    model = tf.matmul(X, w)+b\n",
        "    return model"
      ]
    },
    {
      "cell_type": "markdown",
      "id": "78acdc39-21c6-4125-b0de-b7a14a9c93eb",
      "metadata": {
        "origin_pos": 23,
        "id": "78acdc39-21c6-4125-b0de-b7a14a9c93eb"
      },
      "source": [
        "### Defining the Loss Function\n",
        "\n",
        "8. (**define the loss function**): the squared loss function\n",
        "as described in Loss Function definition above.\n",
        "\n",
        "Note: In the implementation, you need to transform the true value `y`\n",
        "into the predicted value's shape `y_hat`.\n",
        "The result returned by the following function\n",
        "will also have the same shape as `y_hat`.\n"
      ]
    },
    {
      "cell_type": "code",
      "execution_count": 141,
      "id": "37e04bc2-0d67-4204-b0bf-b99ff8a1d0d3",
      "metadata": {
        "origin_pos": 24,
        "tab": [
          "tensorflow"
        ],
        "id": "37e04bc2-0d67-4204-b0bf-b99ff8a1d0d3"
      },
      "outputs": [],
      "source": [
        "#@title\n",
        "def squared_loss(y_hat, y):  \n",
        "    \"\"\"Squared loss.\"\"\"\n",
        "    ## YOUR CODE HERE ##\n",
        "   \n",
        "    return  tf.reduce_mean(tf.square(y - y_hat)/2)"
      ]
    },
    {
      "cell_type": "markdown",
      "id": "212f6a87-1c81-4aa1-aebe-41334d719398",
      "metadata": {
        "origin_pos": 25,
        "id": "212f6a87-1c81-4aa1-aebe-41334d719398"
      },
      "source": [
        "### Defining the Optimization Algorithm\n",
        "\n",
        "At each step, using one minibatch randomly drawn from our dataset,\n",
        "we will estimate the gradient of the loss with respect to our parameters.\n",
        "Next, we will update our parameters\n",
        "in the direction that may reduce the loss.\n",
        "\n",
        "9. **Filll in the missing function below to apply the minibatch stochastic gradient descent update, given a set of parameters, a learning rate, and a batch size.**\n",
        "\n",
        "Note: use assign_sub\n"
      ]
    },
    {
      "cell_type": "code",
      "execution_count": 143,
      "id": "ddfe9ccd-271e-4fc3-ab9a-3720d6bf4b23",
      "metadata": {
        "origin_pos": 28,
        "tab": [
          "tensorflow"
        ],
        "id": "ddfe9ccd-271e-4fc3-ab9a-3720d6bf4b23"
      },
      "outputs": [],
      "source": [
        "#@title\n",
        "# def sgd(params, grads, lr, batch_size):  \n",
        "def sgd(w,b, dw,db, lr, batch_size):  \n",
        "    \"\"\"Minibatch stochastic gradient descent.\"\"\"\n",
        "        ## YOUR CODE HERE ##\n",
        "\n",
        "    w.assign_sub((lr/batch_size) * dw)\n",
        "    b.assign_sub((lr/batch_size) * db)\n",
        "\n",
        "    "
      ]
    },
    {
      "cell_type": "markdown",
      "id": "9016fa58-4d4b-44b1-91a1-6f1e8995c9f7",
      "metadata": {
        "origin_pos": 29,
        "id": "9016fa58-4d4b-44b1-91a1-6f1e8995c9f7"
      },
      "source": [
        "### Training\n",
        "\n",
        "10. **Implement the following loop**\n",
        "\n",
        "* For each epoch :\n",
        "    * Initialize parameters $(\\mathbf{w}, b)$\n",
        "    * Repeat until done\n",
        "        * Compute gradient $\\mathbf{g} \\leftarrow \\partial_{(\\mathbf{w},b)} \\frac{1}{|\\mathcal{B}|} \\sum_{i \\in \\mathcal{B}} l(\\mathbf{x}^{(i)}, y^{(i)}, \\mathbf{w}, b)$\n",
        "        * Update parameters $(\\mathbf{w}, b) \\leftarrow (\\mathbf{w}, b) - \\eta \\mathbf{g}$\n",
        "    * Print the loss at the end of each epoch\n",
        "\n",
        "In each *epoch*,\n",
        "we will iterate through the entire dataset\n",
        "(using the `data_iter` function) once\n",
        "passing through every example in the training dataset\n",
        ".\n",
        "\n",
        "\n",
        "Set the number of epochs `num_epochs` and the learning rate `lr` to 3 and 0.03, respectively."
      ]
    },
    {
      "cell_type": "code",
      "execution_count": 144,
      "id": "50a93813-59c4-48e7-beaf-d27fb707a96f",
      "metadata": {
        "origin_pos": 30,
        "tab": [
          "tensorflow"
        ],
        "id": "50a93813-59c4-48e7-beaf-d27fb707a96f"
      },
      "outputs": [],
      "source": [
        "#@title\n",
        "lr = .03\n",
        "num_epochs = 3\n",
        "# net = linreg\n",
        "# loss = squared_loss"
      ]
    },
    {
      "cell_type": "code",
      "execution_count": 145,
      "id": "7f2d2d6e-1661-4737-b135-887221607b48",
      "metadata": {
        "origin_pos": 33,
        "tab": [
          "tensorflow"
        ],
        "colab": {
          "base_uri": "https://localhost:8080/"
        },
        "id": "7f2d2d6e-1661-4737-b135-887221607b48",
        "outputId": "1ed464ec-e6db-4aed-f247-31a6eba666c6"
      },
      "outputs": [
        {
          "output_type": "stream",
          "name": "stdout",
          "text": [
            "\n",
            "Start of epoch 0\n",
            "loss value:  tf.Tensor(7.340146, shape=(), dtype=float32)\n",
            "<tf.Variable 'Variable:0' shape=(2, 1) dtype=float32, numpy=\n",
            "array([[ 0.41649592],\n",
            "       [-0.8586745 ]], dtype=float32)>\n",
            "<tf.Variable 'Variable:0' shape=(1, 1) dtype=float32, numpy=array([[1.066492]], dtype=float32)>\n",
            "\n",
            "Start of epoch 1\n",
            "loss value:  tf.Tensor(10.011824, shape=(), dtype=float32)\n",
            "<tf.Variable 'Variable:0' shape=(2, 1) dtype=float32, numpy=\n",
            "array([[ 0.40995508],\n",
            "       [-0.84231955]], dtype=float32)>\n",
            "<tf.Variable 'Variable:0' shape=(1, 1) dtype=float32, numpy=array([[1.0664551]], dtype=float32)>\n",
            "\n",
            "Start of epoch 2\n",
            "loss value:  tf.Tensor(8.212863, shape=(), dtype=float32)\n",
            "<tf.Variable 'Variable:0' shape=(2, 1) dtype=float32, numpy=\n",
            "array([[ 0.4130797 ],\n",
            "       [-0.83824426]], dtype=float32)>\n",
            "<tf.Variable 'Variable:0' shape=(1, 1) dtype=float32, numpy=array([[1.0662777]], dtype=float32)>\n"
          ]
        }
      ],
      "source": [
        "#@title\n",
        "## YOUR CODE HERE ##\n",
        "batch_size = 10\n",
        "\n",
        "for epoch in range(num_epochs):\n",
        "  data_iter = load_array((features, labels), batch_size)\n",
        "  print(\"\\nStart of epoch %d\" % (epoch,))\n",
        "  mean=0\n",
        "  std=.01\n",
        "  w = tf.random.normal( mean=mean,stddev=std, shape=(2,1)) # weights initialization\n",
        "  w = tf.Variable(w)\n",
        "  b = tf.zeros([1,1]) # bias initialization\n",
        "  b = tf.Variable(b)\n",
        "\n",
        "  for data in data_iter:\n",
        "    x_batch_train=data[0] # the first element of the tuple\n",
        "    y_batch_train=data[1] # the 2nd element of the tuple\n",
        "    \n",
        "  \n",
        "    with tf.GradientTape() as tape:\n",
        "      logits=linreg(x_batch_train, w,b)\n",
        "      loss_value=squared_loss(y_batch_train , logits)\n",
        "    \n",
        "    dw, db = tape.gradient(loss_value, [w, b])\n",
        "    \n",
        "    sgd(w,b, dw,db, lr, batch_size)\n",
        "   \n",
        "  print(\"loss value: \",squared_loss(y_batch_train , linreg(x_batch_train, w,b)))\n",
        "  print(w)\n",
        "  print(b)\n"
      ]
    },
    {
      "cell_type": "markdown",
      "id": "393f4953-35dc-46c1-b495-96172232bc3f",
      "metadata": {
        "origin_pos": 34,
        "id": "393f4953-35dc-46c1-b495-96172232bc3f"
      },
      "source": [
        "In this case, because we synthesized the dataset ourselves,\n",
        "we know precisely what the true parameters are.\n",
        "\n",
        "11. [**evaluate our success in training by comparing the true parameters with those that we learned**] through our training loop. They should turn out to be very close to each other.\n"
      ]
    },
    {
      "cell_type": "markdown",
      "source": [
        "#NOTE:\n",
        "\n",
        "it turns out that the values are relatively far from the ground truth, but it doesn't seem clear why"
      ],
      "metadata": {
        "id": "UpNq3NIKPCke"
      },
      "id": "UpNq3NIKPCke"
    },
    {
      "cell_type": "code",
      "execution_count": null,
      "id": "c99daff3-745a-43fd-898e-bbf1e3804c78",
      "metadata": {
        "origin_pos": 35,
        "tab": [
          "tensorflow"
        ],
        "colab": {
          "base_uri": "https://localhost:8080/"
        },
        "id": "c99daff3-745a-43fd-898e-bbf1e3804c78",
        "outputId": "f27aba0f-ec3a-498d-e517-dcc6b24a4ad6"
      },
      "outputs": [
        {
          "output_type": "stream",
          "name": "stdout",
          "text": [
            "error in estimating w1: [1.5852342]\n",
            "error in estimating w2: [2.5440316]\n",
            "error in estimating b: [[3.1337993]]\n"
          ]
        }
      ],
      "source": [
        "#@title\n",
        "## YOUR CODE HERE ##\n",
        "# true=np.array([[2],[-3.4]])\n",
        "w1_error=abs(2-w[0])\n",
        "w2_error=abs(-3.4-w[1])\n",
        "\n",
        "print(f'error in estimating w1: {w1_error}')\n",
        "print(f'error in estimating w2: {w2_error}')\n",
        "print(f'error in estimating b: {4.2-b}')"
      ]
    },
    {
      "cell_type": "markdown",
      "id": "3f7b518a-c2ac-4f0e-941b-98d300ed9963",
      "metadata": {
        "id": "3f7b518a-c2ac-4f0e-941b-98d300ed9963"
      },
      "source": [
        "## Part 2  Diabetes Dataset"
      ]
    },
    {
      "cell_type": "markdown",
      "id": "06b07d9c-b52e-4f52-8e70-f7a4bebd63bb",
      "metadata": {
        "id": "06b07d9c-b52e-4f52-8e70-f7a4bebd63bb"
      },
      "source": [
        "In this section, we will use SKLEARN's Diabetes dataset"
      ]
    },
    {
      "cell_type": "markdown",
      "id": "e0cef42e-4494-4f16-b2d2-7cfe68c51e3d",
      "metadata": {
        "id": "e0cef42e-4494-4f16-b2d2-7cfe68c51e3d"
      },
      "source": [
        "### Loading the Dataset"
      ]
    },
    {
      "cell_type": "markdown",
      "id": "2aea7770-afb6-45f2-93b1-b9c72df36bc0",
      "metadata": {
        "id": "2aea7770-afb6-45f2-93b1-b9c72df36bc0"
      },
      "source": [
        "1. **Load the Diabetes dataset from sklearn**"
      ]
    },
    {
      "cell_type": "code",
      "execution_count": 146,
      "id": "f07dc3b6-c48e-4a37-8f73-3500f344e717",
      "metadata": {
        "id": "f07dc3b6-c48e-4a37-8f73-3500f344e717"
      },
      "outputs": [],
      "source": [
        "#@title\n",
        "from sklearn.datasets import load_diabetes\n",
        "## YOUR CODE HERE ##\n",
        "diabetes = load_diabetes()\n",
        "\n",
        "# Load the diabetes dataset"
      ]
    },
    {
      "cell_type": "markdown",
      "id": "aa95939c-f94a-4383-9e4b-18c86af1cebf",
      "metadata": {
        "id": "aa95939c-f94a-4383-9e4b-18c86af1cebf"
      },
      "source": [
        "2. **Look at the keys of diabetes_dataset dictionary**"
      ]
    },
    {
      "cell_type": "code",
      "execution_count": 147,
      "id": "1c92cb43-cb3d-47f1-8535-c4439f585412",
      "metadata": {
        "id": "1c92cb43-cb3d-47f1-8535-c4439f585412",
        "colab": {
          "base_uri": "https://localhost:8080/"
        },
        "outputId": "0992a140-2eb1-4a46-ea95-324d895321e6"
      },
      "outputs": [
        {
          "output_type": "stream",
          "name": "stdout",
          "text": [
            "dict_keys(['data', 'target', 'frame', 'DESCR', 'feature_names', 'data_filename', 'target_filename', 'data_module'])\n"
          ]
        }
      ],
      "source": [
        "#@title\n",
        "## YOUR CODE HERE ##\n",
        "print(diabetes.keys())\n",
        "### Look at keys to determine the data\n"
      ]
    },
    {
      "cell_type": "markdown",
      "id": "484a2460-7023-4468-9399-3a40d00ba55c",
      "metadata": {
        "id": "484a2460-7023-4468-9399-3a40d00ba55c"
      },
      "source": [
        "3. **Use the key DESCR to understand the dataset**"
      ]
    },
    {
      "cell_type": "code",
      "execution_count": 148,
      "id": "87437737-e0d0-4e18-a841-ab214ed2261b",
      "metadata": {
        "id": "87437737-e0d0-4e18-a841-ab214ed2261b",
        "colab": {
          "base_uri": "https://localhost:8080/"
        },
        "outputId": "8c28438d-406a-424b-96bf-2e5f7b384e03"
      },
      "outputs": [
        {
          "output_type": "stream",
          "name": "stdout",
          "text": [
            ".. _diabetes_dataset:\n",
            "\n",
            "Diabetes dataset\n",
            "----------------\n",
            "\n",
            "Ten baseline variables, age, sex, body mass index, average blood\n",
            "pressure, and six blood serum measurements were obtained for each of n =\n",
            "442 diabetes patients, as well as the response of interest, a\n",
            "quantitative measure of disease progression one year after baseline.\n",
            "\n",
            "**Data Set Characteristics:**\n",
            "\n",
            "  :Number of Instances: 442\n",
            "\n",
            "  :Number of Attributes: First 10 columns are numeric predictive values\n",
            "\n",
            "  :Target: Column 11 is a quantitative measure of disease progression one year after baseline\n",
            "\n",
            "  :Attribute Information:\n",
            "      - age     age in years\n",
            "      - sex\n",
            "      - bmi     body mass index\n",
            "      - bp      average blood pressure\n",
            "      - s1      tc, total serum cholesterol\n",
            "      - s2      ldl, low-density lipoproteins\n",
            "      - s3      hdl, high-density lipoproteins\n",
            "      - s4      tch, total cholesterol / HDL\n",
            "      - s5      ltg, possibly log of serum triglycerides level\n",
            "      - s6      glu, blood sugar level\n",
            "\n",
            "Note: Each of these 10 feature variables have been mean centered and scaled by the standard deviation times `n_samples` (i.e. the sum of squares of each column totals 1).\n",
            "\n",
            "Source URL:\n",
            "https://www4.stat.ncsu.edu/~boos/var.select/diabetes.html\n",
            "\n",
            "For more information see:\n",
            "Bradley Efron, Trevor Hastie, Iain Johnstone and Robert Tibshirani (2004) \"Least Angle Regression,\" Annals of Statistics (with discussion), 407-499.\n",
            "(https://web.stanford.edu/~hastie/Papers/LARS/LeastAngle_2002.pdf)\n"
          ]
        }
      ],
      "source": [
        "#@title\n",
        "## YOUR CODE HERE ##\n",
        "print(diabetes.DESCR)\n"
      ]
    },
    {
      "cell_type": "markdown",
      "id": "6472180c-ebb8-44f9-8bab-c507e256ef39",
      "metadata": {
        "id": "6472180c-ebb8-44f9-8bab-c507e256ef39"
      },
      "source": [
        "4. **Save the data and target variables in numpy arrays and print their shapes**"
      ]
    },
    {
      "cell_type": "code",
      "execution_count": 154,
      "id": "8fc2a160-b33f-44c5-83a7-08beb821a64a",
      "metadata": {
        "id": "8fc2a160-b33f-44c5-83a7-08beb821a64a",
        "colab": {
          "base_uri": "https://localhost:8080/"
        },
        "outputId": "bc14dba3-e695-421b-ebc6-9e764f5ec017"
      },
      "outputs": [
        {
          "output_type": "stream",
          "name": "stdout",
          "text": [
            "The shape of data is: (442, 10)\n",
            "The shape of targets is: (442,)\n",
            "I have f = 10 features!\n",
            "I have m = 442 examples!\n",
            "0.0344433679824045\n"
          ]
        }
      ],
      "source": [
        "#@title\n",
        "### START CODE HERE ### (≈ 2 lines of code)\n",
        "### END CODE HERE ###\n",
        "data=np.array(diabetes.data)\n",
        "targets=np.array(diabetes.target)\n",
        "print ('The shape of data is: ' + str(data.shape))\n",
        "print ('The shape of targets is: ' + str(targets.shape))\n",
        "print ('I have f = %d features!' % (data.shape[1]))\n",
        "print ('I have m = %d examples!' % (data.shape[0]))\n"
      ]
    },
    {
      "cell_type": "markdown",
      "id": "52f4ad51-a6a3-4cfc-9c64-6e7a44545d66",
      "metadata": {
        "id": "52f4ad51-a6a3-4cfc-9c64-6e7a44545d66"
      },
      "source": [
        "5. **What are the ranges of each column in features and the target column?**\n",
        "    - *Hint* you might find it helpful to convert to pandas dataframe and use \".describe\""
      ]
    },
    {
      "cell_type": "markdown",
      "source": [
        "#Answer:\n",
        "\t\n",
        "\n",
        "\n",
        "\t\t\t\t\n",
        "\n",
        "\n",
        "age [-1.072256e-01 : 1.107267e-01]\n",
        "\n",
        "sex [-4.464164e-02:\t5.068012e-02]\n",
        "\n",
        "bmi [\t\t-9.027530e-02:1.705552e-01]\n",
        "\n",
        "bP [-1.123996e-01:\t1.320442e-01]\n",
        "\n",
        "s1 [ -1.267807e-01: 1.539137e-01 ]\n",
        "\n",
        "s2 [ -1.156131e-01: \t1.987880e-01 ]\n",
        "\n",
        "s3 [ \t-1.023071e-01: 1.811791e-01 ]\n",
        "\n",
        "s4 [ \t\t-7.639450e-02: \t1.852344e-01 ]\n",
        "\n",
        "s5 [ -1.260974e-01: \t1.335990e-01 ]\n",
        "\n",
        "s6 [ \t-1.377672e-01: 1.356118e-01 ]\n",
        "\n",
        "target [ \t25.000000 : \t346.000000 ]\n",
        "\n",
        "\n",
        "**WHERE**\n",
        "- age     age in years\n",
        "- sex\n",
        "- bmi     body mass index\n",
        "- bp      average blood pressure\n",
        "- s1      tc, total serum cholesterol\n",
        "- s2      ldl, low-density lipoproteins\n",
        "- s3      hdl, high-density lipoproteins\n",
        "- s4      tch, total cholesterol / HDL\n",
        "- s5      ltg, possibly log of serum triglycerides level\n",
        "- s6      glu, blood sugar level"
      ],
      "metadata": {
        "id": "Ex1atsBpPcLa"
      },
      "id": "Ex1atsBpPcLa"
    },
    {
      "cell_type": "code",
      "execution_count": 155,
      "id": "1e4d03cc-c705-4e4e-81f7-6d49a6e86fbd",
      "metadata": {
        "id": "1e4d03cc-c705-4e4e-81f7-6d49a6e86fbd",
        "colab": {
          "base_uri": "https://localhost:8080/",
          "height": 300
        },
        "outputId": "24064393-3e73-4510-b6f5-b6cec70a54c0"
      },
      "outputs": [
        {
          "output_type": "execute_result",
          "data": {
            "text/plain": [
              "                age           sex           bmi            bp            s1  \\\n",
              "count  4.420000e+02  4.420000e+02  4.420000e+02  4.420000e+02  4.420000e+02   \n",
              "mean  -3.639623e-16  1.309912e-16 -8.013951e-16  1.289818e-16 -9.042540e-17   \n",
              "std    4.761905e-02  4.761905e-02  4.761905e-02  4.761905e-02  4.761905e-02   \n",
              "min   -1.072256e-01 -4.464164e-02 -9.027530e-02 -1.123996e-01 -1.267807e-01   \n",
              "25%   -3.729927e-02 -4.464164e-02 -3.422907e-02 -3.665645e-02 -3.424784e-02   \n",
              "50%    5.383060e-03 -4.464164e-02 -7.283766e-03 -5.670611e-03 -4.320866e-03   \n",
              "75%    3.807591e-02  5.068012e-02  3.124802e-02  3.564384e-02  2.835801e-02   \n",
              "max    1.107267e-01  5.068012e-02  1.705552e-01  1.320442e-01  1.539137e-01   \n",
              "\n",
              "                 s2            s3            s4            s5            s6  \\\n",
              "count  4.420000e+02  4.420000e+02  4.420000e+02  4.420000e+02  4.420000e+02   \n",
              "mean   1.301121e-16 -4.563971e-16  3.863174e-16 -3.848103e-16 -3.398488e-16   \n",
              "std    4.761905e-02  4.761905e-02  4.761905e-02  4.761905e-02  4.761905e-02   \n",
              "min   -1.156131e-01 -1.023071e-01 -7.639450e-02 -1.260974e-01 -1.377672e-01   \n",
              "25%   -3.035840e-02 -3.511716e-02 -3.949338e-02 -3.324879e-02 -3.317903e-02   \n",
              "50%   -3.819065e-03 -6.584468e-03 -2.592262e-03 -1.947634e-03 -1.077698e-03   \n",
              "75%    2.984439e-02  2.931150e-02  3.430886e-02  3.243323e-02  2.791705e-02   \n",
              "max    1.987880e-01  1.811791e-01  1.852344e-01  1.335990e-01  1.356118e-01   \n",
              "\n",
              "           target  \n",
              "count  442.000000  \n",
              "mean   152.133484  \n",
              "std     77.093005  \n",
              "min     25.000000  \n",
              "25%     87.000000  \n",
              "50%    140.500000  \n",
              "75%    211.500000  \n",
              "max    346.000000  "
            ],
            "text/html": [
              "\n",
              "  <div id=\"df-1d53c868-fde5-4e14-a634-990dfa9947d1\">\n",
              "    <div class=\"colab-df-container\">\n",
              "      <div>\n",
              "<style scoped>\n",
              "    .dataframe tbody tr th:only-of-type {\n",
              "        vertical-align: middle;\n",
              "    }\n",
              "\n",
              "    .dataframe tbody tr th {\n",
              "        vertical-align: top;\n",
              "    }\n",
              "\n",
              "    .dataframe thead th {\n",
              "        text-align: right;\n",
              "    }\n",
              "</style>\n",
              "<table border=\"1\" class=\"dataframe\">\n",
              "  <thead>\n",
              "    <tr style=\"text-align: right;\">\n",
              "      <th></th>\n",
              "      <th>age</th>\n",
              "      <th>sex</th>\n",
              "      <th>bmi</th>\n",
              "      <th>bp</th>\n",
              "      <th>s1</th>\n",
              "      <th>s2</th>\n",
              "      <th>s3</th>\n",
              "      <th>s4</th>\n",
              "      <th>s5</th>\n",
              "      <th>s6</th>\n",
              "      <th>target</th>\n",
              "    </tr>\n",
              "  </thead>\n",
              "  <tbody>\n",
              "    <tr>\n",
              "      <th>count</th>\n",
              "      <td>4.420000e+02</td>\n",
              "      <td>4.420000e+02</td>\n",
              "      <td>4.420000e+02</td>\n",
              "      <td>4.420000e+02</td>\n",
              "      <td>4.420000e+02</td>\n",
              "      <td>4.420000e+02</td>\n",
              "      <td>4.420000e+02</td>\n",
              "      <td>4.420000e+02</td>\n",
              "      <td>4.420000e+02</td>\n",
              "      <td>4.420000e+02</td>\n",
              "      <td>442.000000</td>\n",
              "    </tr>\n",
              "    <tr>\n",
              "      <th>mean</th>\n",
              "      <td>-3.639623e-16</td>\n",
              "      <td>1.309912e-16</td>\n",
              "      <td>-8.013951e-16</td>\n",
              "      <td>1.289818e-16</td>\n",
              "      <td>-9.042540e-17</td>\n",
              "      <td>1.301121e-16</td>\n",
              "      <td>-4.563971e-16</td>\n",
              "      <td>3.863174e-16</td>\n",
              "      <td>-3.848103e-16</td>\n",
              "      <td>-3.398488e-16</td>\n",
              "      <td>152.133484</td>\n",
              "    </tr>\n",
              "    <tr>\n",
              "      <th>std</th>\n",
              "      <td>4.761905e-02</td>\n",
              "      <td>4.761905e-02</td>\n",
              "      <td>4.761905e-02</td>\n",
              "      <td>4.761905e-02</td>\n",
              "      <td>4.761905e-02</td>\n",
              "      <td>4.761905e-02</td>\n",
              "      <td>4.761905e-02</td>\n",
              "      <td>4.761905e-02</td>\n",
              "      <td>4.761905e-02</td>\n",
              "      <td>4.761905e-02</td>\n",
              "      <td>77.093005</td>\n",
              "    </tr>\n",
              "    <tr>\n",
              "      <th>min</th>\n",
              "      <td>-1.072256e-01</td>\n",
              "      <td>-4.464164e-02</td>\n",
              "      <td>-9.027530e-02</td>\n",
              "      <td>-1.123996e-01</td>\n",
              "      <td>-1.267807e-01</td>\n",
              "      <td>-1.156131e-01</td>\n",
              "      <td>-1.023071e-01</td>\n",
              "      <td>-7.639450e-02</td>\n",
              "      <td>-1.260974e-01</td>\n",
              "      <td>-1.377672e-01</td>\n",
              "      <td>25.000000</td>\n",
              "    </tr>\n",
              "    <tr>\n",
              "      <th>25%</th>\n",
              "      <td>-3.729927e-02</td>\n",
              "      <td>-4.464164e-02</td>\n",
              "      <td>-3.422907e-02</td>\n",
              "      <td>-3.665645e-02</td>\n",
              "      <td>-3.424784e-02</td>\n",
              "      <td>-3.035840e-02</td>\n",
              "      <td>-3.511716e-02</td>\n",
              "      <td>-3.949338e-02</td>\n",
              "      <td>-3.324879e-02</td>\n",
              "      <td>-3.317903e-02</td>\n",
              "      <td>87.000000</td>\n",
              "    </tr>\n",
              "    <tr>\n",
              "      <th>50%</th>\n",
              "      <td>5.383060e-03</td>\n",
              "      <td>-4.464164e-02</td>\n",
              "      <td>-7.283766e-03</td>\n",
              "      <td>-5.670611e-03</td>\n",
              "      <td>-4.320866e-03</td>\n",
              "      <td>-3.819065e-03</td>\n",
              "      <td>-6.584468e-03</td>\n",
              "      <td>-2.592262e-03</td>\n",
              "      <td>-1.947634e-03</td>\n",
              "      <td>-1.077698e-03</td>\n",
              "      <td>140.500000</td>\n",
              "    </tr>\n",
              "    <tr>\n",
              "      <th>75%</th>\n",
              "      <td>3.807591e-02</td>\n",
              "      <td>5.068012e-02</td>\n",
              "      <td>3.124802e-02</td>\n",
              "      <td>3.564384e-02</td>\n",
              "      <td>2.835801e-02</td>\n",
              "      <td>2.984439e-02</td>\n",
              "      <td>2.931150e-02</td>\n",
              "      <td>3.430886e-02</td>\n",
              "      <td>3.243323e-02</td>\n",
              "      <td>2.791705e-02</td>\n",
              "      <td>211.500000</td>\n",
              "    </tr>\n",
              "    <tr>\n",
              "      <th>max</th>\n",
              "      <td>1.107267e-01</td>\n",
              "      <td>5.068012e-02</td>\n",
              "      <td>1.705552e-01</td>\n",
              "      <td>1.320442e-01</td>\n",
              "      <td>1.539137e-01</td>\n",
              "      <td>1.987880e-01</td>\n",
              "      <td>1.811791e-01</td>\n",
              "      <td>1.852344e-01</td>\n",
              "      <td>1.335990e-01</td>\n",
              "      <td>1.356118e-01</td>\n",
              "      <td>346.000000</td>\n",
              "    </tr>\n",
              "  </tbody>\n",
              "</table>\n",
              "</div>\n",
              "      <button class=\"colab-df-convert\" onclick=\"convertToInteractive('df-1d53c868-fde5-4e14-a634-990dfa9947d1')\"\n",
              "              title=\"Convert this dataframe to an interactive table.\"\n",
              "              style=\"display:none;\">\n",
              "        \n",
              "  <svg xmlns=\"http://www.w3.org/2000/svg\" height=\"24px\"viewBox=\"0 0 24 24\"\n",
              "       width=\"24px\">\n",
              "    <path d=\"M0 0h24v24H0V0z\" fill=\"none\"/>\n",
              "    <path d=\"M18.56 5.44l.94 2.06.94-2.06 2.06-.94-2.06-.94-.94-2.06-.94 2.06-2.06.94zm-11 1L8.5 8.5l.94-2.06 2.06-.94-2.06-.94L8.5 2.5l-.94 2.06-2.06.94zm10 10l.94 2.06.94-2.06 2.06-.94-2.06-.94-.94-2.06-.94 2.06-2.06.94z\"/><path d=\"M17.41 7.96l-1.37-1.37c-.4-.4-.92-.59-1.43-.59-.52 0-1.04.2-1.43.59L10.3 9.45l-7.72 7.72c-.78.78-.78 2.05 0 2.83L4 21.41c.39.39.9.59 1.41.59.51 0 1.02-.2 1.41-.59l7.78-7.78 2.81-2.81c.8-.78.8-2.07 0-2.86zM5.41 20L4 18.59l7.72-7.72 1.47 1.35L5.41 20z\"/>\n",
              "  </svg>\n",
              "      </button>\n",
              "      \n",
              "  <style>\n",
              "    .colab-df-container {\n",
              "      display:flex;\n",
              "      flex-wrap:wrap;\n",
              "      gap: 12px;\n",
              "    }\n",
              "\n",
              "    .colab-df-convert {\n",
              "      background-color: #E8F0FE;\n",
              "      border: none;\n",
              "      border-radius: 50%;\n",
              "      cursor: pointer;\n",
              "      display: none;\n",
              "      fill: #1967D2;\n",
              "      height: 32px;\n",
              "      padding: 0 0 0 0;\n",
              "      width: 32px;\n",
              "    }\n",
              "\n",
              "    .colab-df-convert:hover {\n",
              "      background-color: #E2EBFA;\n",
              "      box-shadow: 0px 1px 2px rgba(60, 64, 67, 0.3), 0px 1px 3px 1px rgba(60, 64, 67, 0.15);\n",
              "      fill: #174EA6;\n",
              "    }\n",
              "\n",
              "    [theme=dark] .colab-df-convert {\n",
              "      background-color: #3B4455;\n",
              "      fill: #D2E3FC;\n",
              "    }\n",
              "\n",
              "    [theme=dark] .colab-df-convert:hover {\n",
              "      background-color: #434B5C;\n",
              "      box-shadow: 0px 1px 3px 1px rgba(0, 0, 0, 0.15);\n",
              "      filter: drop-shadow(0px 1px 2px rgba(0, 0, 0, 0.3));\n",
              "      fill: #FFFFFF;\n",
              "    }\n",
              "  </style>\n",
              "\n",
              "      <script>\n",
              "        const buttonEl =\n",
              "          document.querySelector('#df-1d53c868-fde5-4e14-a634-990dfa9947d1 button.colab-df-convert');\n",
              "        buttonEl.style.display =\n",
              "          google.colab.kernel.accessAllowed ? 'block' : 'none';\n",
              "\n",
              "        async function convertToInteractive(key) {\n",
              "          const element = document.querySelector('#df-1d53c868-fde5-4e14-a634-990dfa9947d1');\n",
              "          const dataTable =\n",
              "            await google.colab.kernel.invokeFunction('convertToInteractive',\n",
              "                                                     [key], {});\n",
              "          if (!dataTable) return;\n",
              "\n",
              "          const docLinkHtml = 'Like what you see? Visit the ' +\n",
              "            '<a target=\"_blank\" href=https://colab.research.google.com/notebooks/data_table.ipynb>data table notebook</a>'\n",
              "            + ' to learn more about interactive tables.';\n",
              "          element.innerHTML = '';\n",
              "          dataTable['output_type'] = 'display_data';\n",
              "          await google.colab.output.renderOutput(dataTable, element);\n",
              "          const docLink = document.createElement('div');\n",
              "          docLink.innerHTML = docLinkHtml;\n",
              "          element.appendChild(docLink);\n",
              "        }\n",
              "      </script>\n",
              "    </div>\n",
              "  </div>\n",
              "  "
            ]
          },
          "metadata": {},
          "execution_count": 155
        }
      ],
      "source": [
        "#@title\n",
        "### START CODE HERE ###\n",
        "diabetes_dataframe = load_diabetes(as_frame=True)\n",
        "diabetes_dataframe.frame.describe()\n",
        "\n",
        "### END CODE HERE ###"
      ]
    },
    {
      "cell_type": "markdown",
      "id": "742f762c-fe10-42be-a3d6-7cbb4df68c0d",
      "metadata": {
        "id": "742f762c-fe10-42be-a3d6-7cbb4df68c0d"
      },
      "source": [
        "### Preparing the data"
      ]
    },
    {
      "cell_type": "markdown",
      "id": "4c879c44-aec4-4c29-aa2a-76a1d48171e6",
      "metadata": {
        "id": "4c879c44-aec4-4c29-aa2a-76a1d48171e6"
      },
      "source": [
        "6. **Split the data into train and test set using sklearn train_test_split.** Have the test set as 10% of data"
      ]
    },
    {
      "cell_type": "code",
      "execution_count": 156,
      "id": "ced08578-8d2c-4e2b-ae34-4f6fa8f4326d",
      "metadata": {
        "id": "ced08578-8d2c-4e2b-ae34-4f6fa8f4326d",
        "colab": {
          "base_uri": "https://localhost:8080/"
        },
        "outputId": "5a19a65e-f756-43a2-94b8-3c15096b8e1a"
      },
      "outputs": [
        {
          "output_type": "stream",
          "name": "stdout",
          "text": [
            "Shape of training data is (397, 10)\n",
            "Shape of training targets is (397,)\n",
            "Shape of test data is (45, 10)\n",
            "Shape of test targets is (45,)\n"
          ]
        }
      ],
      "source": [
        "#@title\n",
        "np.random.seed(0)\n",
        "### START CODE HERE ###\n",
        "# Split the data into train and test sets\n",
        "X = diabetes.data\n",
        "y = diabetes.target\n",
        "\n",
        "# X_train, X_test, y_train, y_test = train_test_split(X, y, random_state=42)\n",
        "train_data, test_data, train_targets, test_targets = train_test_split(X, y,test_size=.1)\n",
        "### END CODE HERE ###\n",
        "\n",
        "print(\"Shape of training data is\", train_data.shape)\n",
        "print(\"Shape of training targets is\", train_targets.shape)\n",
        "print(\"Shape of test data is\", test_data.shape)\n",
        "print(\"Shape of test targets is\", test_targets.shape)"
      ]
    },
    {
      "cell_type": "markdown",
      "id": "e18cbdeb-252c-450b-b85a-d35d5989f928",
      "metadata": {
        "id": "e18cbdeb-252c-450b-b85a-d35d5989f928"
      },
      "source": [
        "- *feature-wise normalization*: for each feature in the input data (a column in the input data matrix), we subtract the mean of the feature and divide by the standard deviation, so that the feature is centered around 0 and has a unit standard deviation. This is easily done in NumPy.\n",
        "- **Question:** Should we normalize features? WHY?\n",
        "    - NO, because the ranges of features are almost the same, our goal is to make them contribute equally to the analysis and avoid creating a bias, which is already the case.Therefore, we should normalize the targets only\n",
        "\n"
      ]
    },
    {
      "cell_type": "markdown",
      "id": "e679d2b1-eded-4768-8954-c6cdfde3e207",
      "metadata": {
        "id": "e679d2b1-eded-4768-8954-c6cdfde3e207"
      },
      "source": [
        "7. **normalize the targets using standard normalization**\n",
        "\n",
        "Hint: Avoid leak between train and test data !!"
      ]
    },
    {
      "cell_type": "markdown",
      "source": [
        "#Answer\n",
        "\n",
        "In order to avoid leak, we will Apply Data preprocessing Separately to both Train and Test "
      ],
      "metadata": {
        "id": "w-jIa7qNjD8o"
      },
      "id": "w-jIa7qNjD8o"
    },
    {
      "cell_type": "code",
      "execution_count": 170,
      "id": "f18246d4-dbd8-403a-9db9-a72360eaaebb",
      "metadata": {
        "id": "f18246d4-dbd8-403a-9db9-a72360eaaebb"
      },
      "outputs": [],
      "source": [
        "#@title\n",
        "# from sklearn.preprocessing import StandardScaler\n",
        "# scaler = StandardScaler() \n",
        "### START CODE HERE ### (≈ 6 lines of code)\n",
        "train_mean=np.mean(train_targets,axis=0)\n",
        "train_std=np.std(train_targets,axis=0)\n",
        "train_targets = (train_targets-train_mean)/train_std\n",
        "\n",
        "test_mean=np.mean(test_targets,axis=0)\n",
        "test_std=np.std(test_targets,axis=0)\n",
        "test_targets = (test_targets-test_mean)/test_std\n",
        "\n",
        "\n",
        "### END CODE HERE ###"
      ]
    },
    {
      "cell_type": "markdown",
      "id": "130ed50b-010c-488f-b1d0-aa2919fdf01d",
      "metadata": {
        "id": "130ed50b-010c-488f-b1d0-aa2919fdf01d"
      },
      "source": [
        "### Building your model"
      ]
    },
    {
      "cell_type": "markdown",
      "id": "9dca53c6-d8c6-4a93-876e-080cb537e98a",
      "metadata": {
        "id": "9dca53c6-d8c6-4a93-876e-080cb537e98a"
      },
      "source": [
        "7. **Use tf.keras.Sequential to build a model with:**\n",
        "    - 6 hidden layers each having 128 neurons and relu activation.\n",
        "    - 1 output layer\n",
        "    - use input_shape argument to specify input size in 1st layer\n",
        "- **Question:** How many neurons should be in output layer? What should be the activation?\n",
        "    - ANSWER: 1  , none"
      ]
    },
    {
      "cell_type": "code",
      "execution_count": 171,
      "id": "cc9bc68e-d3a4-42c6-b1e1-42c2c97fa651",
      "metadata": {
        "id": "cc9bc68e-d3a4-42c6-b1e1-42c2c97fa651"
      },
      "outputs": [],
      "source": [
        "#@title\n",
        "def build_model(input_shape):\n",
        "    ### START CODE HERE ### ()\n",
        "    model=tf.keras.Sequential ()\n",
        "    model.add(Dense(128, activation=\"relu\", input_shape=input_shape))\n",
        "    model.add(Dense(128,activation='relu'))\n",
        "    model.add(Dense(128,activation='relu'))\n",
        "    model.add(Dense(128,activation='relu'))\n",
        "    model.add(Dense(128,activation='relu'))\n",
        "    model.add(Dense(128,activation='relu'))\n",
        "    model.add(Dense(1))\n",
        "\n",
        "    return model"
      ]
    },
    {
      "cell_type": "code",
      "execution_count": 172,
      "id": "cfe03837-d15a-4879-b9db-0477d01baa23",
      "metadata": {
        "id": "cfe03837-d15a-4879-b9db-0477d01baa23",
        "colab": {
          "base_uri": "https://localhost:8080/"
        },
        "outputId": "11c43317-a957-4267-f26f-c90c2df269a6"
      },
      "outputs": [
        {
          "output_type": "stream",
          "name": "stdout",
          "text": [
            "Model: \"sequential_31\"\n",
            "_________________________________________________________________\n",
            " Layer (type)                Output Shape              Param #   \n",
            "=================================================================\n",
            " dense_74 (Dense)            (None, 128)               1408      \n",
            "                                                                 \n",
            " dense_75 (Dense)            (None, 128)               16512     \n",
            "                                                                 \n",
            " dense_76 (Dense)            (None, 128)               16512     \n",
            "                                                                 \n",
            " dense_77 (Dense)            (None, 128)               16512     \n",
            "                                                                 \n",
            " dense_78 (Dense)            (None, 128)               16512     \n",
            "                                                                 \n",
            " dense_79 (Dense)            (None, 128)               16512     \n",
            "                                                                 \n",
            " dense_80 (Dense)            (None, 1)                 129       \n",
            "                                                                 \n",
            "=================================================================\n",
            "Total params: 84,097\n",
            "Trainable params: 84,097\n",
            "Non-trainable params: 0\n",
            "_________________________________________________________________\n",
            "None\n"
          ]
        }
      ],
      "source": [
        "#@title\n",
        "# Print the model summary\n",
        "input_shape=(train_data.shape[-1],)\n",
        "model = build_model(input_shape)\n",
        "print(model.summary())"
      ]
    },
    {
      "cell_type": "markdown",
      "id": "114f2e34-fa34-4312-bbe8-c929d350c89f",
      "metadata": {
        "id": "114f2e34-fa34-4312-bbe8-c929d350c89f"
      },
      "source": [
        "8. **Compile the model using optimizer=Adam, loss=mean squared loss, metrics=mean absoluute error:**"
      ]
    },
    {
      "cell_type": "code",
      "execution_count": 173,
      "id": "8a438445-aac4-4913-8012-6d7095b09ed1",
      "metadata": {
        "id": "8a438445-aac4-4913-8012-6d7095b09ed1"
      },
      "outputs": [],
      "source": [
        "#@title\n",
        "### START CODE HERE ### ()\n",
        "model.compile(optimizer=tf.keras.optimizers.Adam(),\n",
        "              loss=tf.keras.losses.MeanSquaredError(),\n",
        "              metrics=tf.keras.metrics.MeanAbsoluteError()\n",
        "                       )\n"
      ]
    },
    {
      "cell_type": "markdown",
      "id": "f9eb30a2-e09f-4298-8210-998eb79eb7a9",
      "metadata": {
        "id": "f9eb30a2-e09f-4298-8210-998eb79eb7a9"
      },
      "source": [
        "Note that we compile the model with the mse loss function—mean squared error, the\n",
        "square of the difference between the predictions and the targets. We’re also monitoring a new metric during training: mean absolute error (MAE). It’s the\n",
        "absolute value of the difference between the predictions and the targets."
      ]
    },
    {
      "cell_type": "markdown",
      "id": "36507d6f-cd6d-47fa-b74c-fd7e14c9d9ba",
      "metadata": {
        "id": "36507d6f-cd6d-47fa-b74c-fd7e14c9d9ba"
      },
      "source": [
        "9. **FIT the model using for 100 epochs, 64 batch size and a validation split of 0.15**"
      ]
    },
    {
      "cell_type": "code",
      "execution_count": 174,
      "id": "1f63ab80-1353-4997-aba5-4e6299bee5d7",
      "metadata": {
        "tags": [],
        "id": "1f63ab80-1353-4997-aba5-4e6299bee5d7",
        "colab": {
          "base_uri": "https://localhost:8080/"
        },
        "outputId": "e3e17092-069c-4b6e-a427-9734fd243de0"
      },
      "outputs": [
        {
          "output_type": "stream",
          "name": "stdout",
          "text": [
            "Epoch 1/100\n",
            "6/6 [==============================] - 1s 41ms/step - loss: 0.8875 - mean_absolute_error: 0.8119 - val_loss: 0.8198 - val_mean_absolute_error: 0.7801\n",
            "Epoch 2/100\n",
            "6/6 [==============================] - 0s 9ms/step - loss: 0.5985 - mean_absolute_error: 0.6523 - val_loss: 0.5394 - val_mean_absolute_error: 0.5939\n",
            "Epoch 3/100\n",
            "6/6 [==============================] - 0s 9ms/step - loss: 0.4895 - mean_absolute_error: 0.5678 - val_loss: 0.5878 - val_mean_absolute_error: 0.6048\n",
            "Epoch 4/100\n",
            "6/6 [==============================] - 0s 9ms/step - loss: 0.4423 - mean_absolute_error: 0.5481 - val_loss: 0.5111 - val_mean_absolute_error: 0.5915\n",
            "Epoch 5/100\n",
            "6/6 [==============================] - 0s 9ms/step - loss: 0.4048 - mean_absolute_error: 0.5148 - val_loss: 0.5055 - val_mean_absolute_error: 0.5529\n",
            "Epoch 6/100\n",
            "6/6 [==============================] - 0s 9ms/step - loss: 0.3676 - mean_absolute_error: 0.4959 - val_loss: 0.5082 - val_mean_absolute_error: 0.5675\n",
            "Epoch 7/100\n",
            "6/6 [==============================] - 0s 9ms/step - loss: 0.3425 - mean_absolute_error: 0.4749 - val_loss: 0.5019 - val_mean_absolute_error: 0.5513\n",
            "Epoch 8/100\n",
            "6/6 [==============================] - 0s 9ms/step - loss: 0.3171 - mean_absolute_error: 0.4534 - val_loss: 0.5090 - val_mean_absolute_error: 0.5504\n",
            "Epoch 9/100\n",
            "6/6 [==============================] - 0s 9ms/step - loss: 0.3258 - mean_absolute_error: 0.4489 - val_loss: 0.5231 - val_mean_absolute_error: 0.6014\n",
            "Epoch 10/100\n",
            "6/6 [==============================] - 0s 9ms/step - loss: 0.3260 - mean_absolute_error: 0.4678 - val_loss: 0.6100 - val_mean_absolute_error: 0.5861\n",
            "Epoch 11/100\n",
            "6/6 [==============================] - 0s 9ms/step - loss: 0.3131 - mean_absolute_error: 0.4423 - val_loss: 0.5408 - val_mean_absolute_error: 0.5691\n",
            "Epoch 12/100\n",
            "6/6 [==============================] - 0s 11ms/step - loss: 0.2931 - mean_absolute_error: 0.4499 - val_loss: 0.5572 - val_mean_absolute_error: 0.5676\n",
            "Epoch 13/100\n",
            "6/6 [==============================] - 0s 14ms/step - loss: 0.2474 - mean_absolute_error: 0.3914 - val_loss: 0.5137 - val_mean_absolute_error: 0.5359\n",
            "Epoch 14/100\n",
            "6/6 [==============================] - 0s 9ms/step - loss: 0.2149 - mean_absolute_error: 0.3679 - val_loss: 0.5543 - val_mean_absolute_error: 0.5507\n",
            "Epoch 15/100\n",
            "6/6 [==============================] - 0s 10ms/step - loss: 0.1878 - mean_absolute_error: 0.3426 - val_loss: 0.5872 - val_mean_absolute_error: 0.5712\n",
            "Epoch 16/100\n",
            "6/6 [==============================] - 0s 10ms/step - loss: 0.1672 - mean_absolute_error: 0.3153 - val_loss: 0.6212 - val_mean_absolute_error: 0.5834\n",
            "Epoch 17/100\n",
            "6/6 [==============================] - 0s 9ms/step - loss: 0.1490 - mean_absolute_error: 0.2970 - val_loss: 0.6116 - val_mean_absolute_error: 0.5735\n",
            "Epoch 18/100\n",
            "6/6 [==============================] - 0s 10ms/step - loss: 0.1266 - mean_absolute_error: 0.2758 - val_loss: 0.7079 - val_mean_absolute_error: 0.6143\n",
            "Epoch 19/100\n",
            "6/6 [==============================] - 0s 11ms/step - loss: 0.1208 - mean_absolute_error: 0.2740 - val_loss: 0.7024 - val_mean_absolute_error: 0.5911\n",
            "Epoch 20/100\n",
            "6/6 [==============================] - 0s 9ms/step - loss: 0.0895 - mean_absolute_error: 0.2302 - val_loss: 0.7290 - val_mean_absolute_error: 0.6165\n",
            "Epoch 21/100\n",
            "6/6 [==============================] - 0s 14ms/step - loss: 0.0934 - mean_absolute_error: 0.2407 - val_loss: 0.7532 - val_mean_absolute_error: 0.5993\n",
            "Epoch 22/100\n",
            "6/6 [==============================] - 0s 10ms/step - loss: 0.0963 - mean_absolute_error: 0.2491 - val_loss: 0.7441 - val_mean_absolute_error: 0.6155\n",
            "Epoch 23/100\n",
            "6/6 [==============================] - 0s 9ms/step - loss: 0.0804 - mean_absolute_error: 0.2202 - val_loss: 0.7243 - val_mean_absolute_error: 0.5865\n",
            "Epoch 24/100\n",
            "6/6 [==============================] - 0s 9ms/step - loss: 0.0846 - mean_absolute_error: 0.2264 - val_loss: 0.7832 - val_mean_absolute_error: 0.6236\n",
            "Epoch 25/100\n",
            "6/6 [==============================] - 0s 9ms/step - loss: 0.0796 - mean_absolute_error: 0.2202 - val_loss: 0.7203 - val_mean_absolute_error: 0.5755\n",
            "Epoch 26/100\n",
            "6/6 [==============================] - 0s 16ms/step - loss: 0.0570 - mean_absolute_error: 0.1830 - val_loss: 0.7444 - val_mean_absolute_error: 0.5897\n",
            "Epoch 27/100\n",
            "6/6 [==============================] - 0s 10ms/step - loss: 0.0581 - mean_absolute_error: 0.1862 - val_loss: 0.7896 - val_mean_absolute_error: 0.6062\n",
            "Epoch 28/100\n",
            "6/6 [==============================] - 0s 10ms/step - loss: 0.0491 - mean_absolute_error: 0.1724 - val_loss: 0.7071 - val_mean_absolute_error: 0.5962\n",
            "Epoch 29/100\n",
            "6/6 [==============================] - 0s 10ms/step - loss: 0.0457 - mean_absolute_error: 0.1649 - val_loss: 0.7617 - val_mean_absolute_error: 0.5980\n",
            "Epoch 30/100\n",
            "6/6 [==============================] - 0s 10ms/step - loss: 0.0462 - mean_absolute_error: 0.1683 - val_loss: 0.7382 - val_mean_absolute_error: 0.5941\n",
            "Epoch 31/100\n",
            "6/6 [==============================] - 0s 9ms/step - loss: 0.0415 - mean_absolute_error: 0.1553 - val_loss: 0.7530 - val_mean_absolute_error: 0.5959\n",
            "Epoch 32/100\n",
            "6/6 [==============================] - 0s 10ms/step - loss: 0.0328 - mean_absolute_error: 0.1401 - val_loss: 0.7643 - val_mean_absolute_error: 0.5924\n",
            "Epoch 33/100\n",
            "6/6 [==============================] - 0s 10ms/step - loss: 0.0257 - mean_absolute_error: 0.1199 - val_loss: 0.7976 - val_mean_absolute_error: 0.6204\n",
            "Epoch 34/100\n",
            "6/6 [==============================] - 0s 9ms/step - loss: 0.0330 - mean_absolute_error: 0.1391 - val_loss: 0.7751 - val_mean_absolute_error: 0.6128\n",
            "Epoch 35/100\n",
            "6/6 [==============================] - 0s 9ms/step - loss: 0.0291 - mean_absolute_error: 0.1347 - val_loss: 0.7351 - val_mean_absolute_error: 0.5921\n",
            "Epoch 36/100\n",
            "6/6 [==============================] - 0s 10ms/step - loss: 0.0247 - mean_absolute_error: 0.1255 - val_loss: 0.8256 - val_mean_absolute_error: 0.6469\n",
            "Epoch 37/100\n",
            "6/6 [==============================] - 0s 9ms/step - loss: 0.0238 - mean_absolute_error: 0.1190 - val_loss: 0.7520 - val_mean_absolute_error: 0.6079\n",
            "Epoch 38/100\n",
            "6/6 [==============================] - 0s 9ms/step - loss: 0.0233 - mean_absolute_error: 0.1159 - val_loss: 0.7824 - val_mean_absolute_error: 0.6080\n",
            "Epoch 39/100\n",
            "6/6 [==============================] - 0s 9ms/step - loss: 0.0242 - mean_absolute_error: 0.1188 - val_loss: 0.7843 - val_mean_absolute_error: 0.6056\n",
            "Epoch 40/100\n",
            "6/6 [==============================] - 0s 10ms/step - loss: 0.0247 - mean_absolute_error: 0.1274 - val_loss: 0.7617 - val_mean_absolute_error: 0.5929\n",
            "Epoch 41/100\n",
            "6/6 [==============================] - 0s 9ms/step - loss: 0.0210 - mean_absolute_error: 0.1139 - val_loss: 0.7630 - val_mean_absolute_error: 0.6051\n",
            "Epoch 42/100\n",
            "6/6 [==============================] - 0s 9ms/step - loss: 0.0175 - mean_absolute_error: 0.1044 - val_loss: 0.7756 - val_mean_absolute_error: 0.6218\n",
            "Epoch 43/100\n",
            "6/6 [==============================] - 0s 12ms/step - loss: 0.0162 - mean_absolute_error: 0.0970 - val_loss: 0.8060 - val_mean_absolute_error: 0.6192\n",
            "Epoch 44/100\n",
            "6/6 [==============================] - 0s 10ms/step - loss: 0.0210 - mean_absolute_error: 0.1112 - val_loss: 0.7752 - val_mean_absolute_error: 0.6126\n",
            "Epoch 45/100\n",
            "6/6 [==============================] - 0s 10ms/step - loss: 0.0182 - mean_absolute_error: 0.1031 - val_loss: 0.7630 - val_mean_absolute_error: 0.6035\n",
            "Epoch 46/100\n",
            "6/6 [==============================] - 0s 10ms/step - loss: 0.0137 - mean_absolute_error: 0.0902 - val_loss: 0.7483 - val_mean_absolute_error: 0.6038\n",
            "Epoch 47/100\n",
            "6/6 [==============================] - 0s 10ms/step - loss: 0.0118 - mean_absolute_error: 0.0839 - val_loss: 0.7689 - val_mean_absolute_error: 0.6172\n",
            "Epoch 48/100\n",
            "6/6 [==============================] - 0s 13ms/step - loss: 0.0086 - mean_absolute_error: 0.0713 - val_loss: 0.7640 - val_mean_absolute_error: 0.6142\n",
            "Epoch 49/100\n",
            "6/6 [==============================] - 0s 10ms/step - loss: 0.0069 - mean_absolute_error: 0.0649 - val_loss: 0.7855 - val_mean_absolute_error: 0.6059\n",
            "Epoch 50/100\n",
            "6/6 [==============================] - 0s 9ms/step - loss: 0.0090 - mean_absolute_error: 0.0732 - val_loss: 0.7774 - val_mean_absolute_error: 0.6137\n",
            "Epoch 51/100\n",
            "6/6 [==============================] - 0s 9ms/step - loss: 0.0082 - mean_absolute_error: 0.0702 - val_loss: 0.7389 - val_mean_absolute_error: 0.5881\n",
            "Epoch 52/100\n",
            "6/6 [==============================] - 0s 10ms/step - loss: 0.0063 - mean_absolute_error: 0.0593 - val_loss: 0.7867 - val_mean_absolute_error: 0.6137\n",
            "Epoch 53/100\n",
            "6/6 [==============================] - 0s 12ms/step - loss: 0.0066 - mean_absolute_error: 0.0622 - val_loss: 0.7401 - val_mean_absolute_error: 0.5969\n",
            "Epoch 54/100\n",
            "6/6 [==============================] - 0s 10ms/step - loss: 0.0043 - mean_absolute_error: 0.0512 - val_loss: 0.7597 - val_mean_absolute_error: 0.6076\n",
            "Epoch 55/100\n",
            "6/6 [==============================] - 0s 10ms/step - loss: 0.0033 - mean_absolute_error: 0.0452 - val_loss: 0.7575 - val_mean_absolute_error: 0.6008\n",
            "Epoch 56/100\n",
            "6/6 [==============================] - 0s 9ms/step - loss: 0.0028 - mean_absolute_error: 0.0398 - val_loss: 0.7654 - val_mean_absolute_error: 0.6095\n",
            "Epoch 57/100\n",
            "6/6 [==============================] - 0s 9ms/step - loss: 0.0025 - mean_absolute_error: 0.0385 - val_loss: 0.7713 - val_mean_absolute_error: 0.6120\n",
            "Epoch 58/100\n",
            "6/6 [==============================] - 0s 11ms/step - loss: 0.0018 - mean_absolute_error: 0.0318 - val_loss: 0.7718 - val_mean_absolute_error: 0.6141\n",
            "Epoch 59/100\n",
            "6/6 [==============================] - 0s 10ms/step - loss: 0.0016 - mean_absolute_error: 0.0314 - val_loss: 0.7649 - val_mean_absolute_error: 0.6100\n",
            "Epoch 60/100\n",
            "6/6 [==============================] - 0s 11ms/step - loss: 0.0014 - mean_absolute_error: 0.0279 - val_loss: 0.7728 - val_mean_absolute_error: 0.6142\n",
            "Epoch 61/100\n",
            "6/6 [==============================] - 0s 9ms/step - loss: 0.0012 - mean_absolute_error: 0.0259 - val_loss: 0.7665 - val_mean_absolute_error: 0.6103\n",
            "Epoch 62/100\n",
            "6/6 [==============================] - 0s 10ms/step - loss: 9.9366e-04 - mean_absolute_error: 0.0250 - val_loss: 0.7727 - val_mean_absolute_error: 0.6126\n",
            "Epoch 63/100\n",
            "6/6 [==============================] - 0s 10ms/step - loss: 0.0012 - mean_absolute_error: 0.0249 - val_loss: 0.7693 - val_mean_absolute_error: 0.6067\n",
            "Epoch 64/100\n",
            "6/6 [==============================] - 0s 10ms/step - loss: 9.9502e-04 - mean_absolute_error: 0.0242 - val_loss: 0.7739 - val_mean_absolute_error: 0.6171\n",
            "Epoch 65/100\n",
            "6/6 [==============================] - 0s 10ms/step - loss: 0.0011 - mean_absolute_error: 0.0245 - val_loss: 0.7721 - val_mean_absolute_error: 0.6119\n",
            "Epoch 66/100\n",
            "6/6 [==============================] - 0s 10ms/step - loss: 0.0013 - mean_absolute_error: 0.0266 - val_loss: 0.7761 - val_mean_absolute_error: 0.6148\n",
            "Epoch 67/100\n",
            "6/6 [==============================] - 0s 9ms/step - loss: 0.0012 - mean_absolute_error: 0.0274 - val_loss: 0.7684 - val_mean_absolute_error: 0.6161\n",
            "Epoch 68/100\n",
            "6/6 [==============================] - 0s 10ms/step - loss: 0.0015 - mean_absolute_error: 0.0302 - val_loss: 0.7673 - val_mean_absolute_error: 0.6116\n",
            "Epoch 69/100\n",
            "6/6 [==============================] - 0s 9ms/step - loss: 0.0011 - mean_absolute_error: 0.0253 - val_loss: 0.7619 - val_mean_absolute_error: 0.6108\n",
            "Epoch 70/100\n",
            "6/6 [==============================] - 0s 10ms/step - loss: 8.6769e-04 - mean_absolute_error: 0.0224 - val_loss: 0.7668 - val_mean_absolute_error: 0.6116\n",
            "Epoch 71/100\n",
            "6/6 [==============================] - 0s 9ms/step - loss: 7.1052e-04 - mean_absolute_error: 0.0199 - val_loss: 0.7665 - val_mean_absolute_error: 0.6101\n",
            "Epoch 72/100\n",
            "6/6 [==============================] - 0s 10ms/step - loss: 6.0582e-04 - mean_absolute_error: 0.0183 - val_loss: 0.7667 - val_mean_absolute_error: 0.6096\n",
            "Epoch 73/100\n",
            "6/6 [==============================] - 0s 11ms/step - loss: 7.1182e-04 - mean_absolute_error: 0.0189 - val_loss: 0.7670 - val_mean_absolute_error: 0.6109\n",
            "Epoch 74/100\n",
            "6/6 [==============================] - 0s 11ms/step - loss: 5.5448e-04 - mean_absolute_error: 0.0170 - val_loss: 0.7654 - val_mean_absolute_error: 0.6080\n",
            "Epoch 75/100\n",
            "6/6 [==============================] - 0s 9ms/step - loss: 7.5056e-04 - mean_absolute_error: 0.0219 - val_loss: 0.7659 - val_mean_absolute_error: 0.6099\n",
            "Epoch 76/100\n",
            "6/6 [==============================] - 0s 10ms/step - loss: 8.3868e-04 - mean_absolute_error: 0.0202 - val_loss: 0.7657 - val_mean_absolute_error: 0.6099\n",
            "Epoch 77/100\n",
            "6/6 [==============================] - 0s 9ms/step - loss: 3.8110e-04 - mean_absolute_error: 0.0150 - val_loss: 0.7744 - val_mean_absolute_error: 0.6164\n",
            "Epoch 78/100\n",
            "6/6 [==============================] - 0s 10ms/step - loss: 4.1216e-04 - mean_absolute_error: 0.0150 - val_loss: 0.7646 - val_mean_absolute_error: 0.6119\n",
            "Epoch 79/100\n",
            "6/6 [==============================] - 0s 9ms/step - loss: 5.1453e-04 - mean_absolute_error: 0.0167 - val_loss: 0.7763 - val_mean_absolute_error: 0.6159\n",
            "Epoch 80/100\n",
            "6/6 [==============================] - 0s 10ms/step - loss: 4.6430e-04 - mean_absolute_error: 0.0160 - val_loss: 0.7606 - val_mean_absolute_error: 0.6070\n",
            "Epoch 81/100\n",
            "6/6 [==============================] - 0s 9ms/step - loss: 4.5726e-04 - mean_absolute_error: 0.0161 - val_loss: 0.7667 - val_mean_absolute_error: 0.6128\n",
            "Epoch 82/100\n",
            "6/6 [==============================] - 0s 11ms/step - loss: 5.9349e-04 - mean_absolute_error: 0.0191 - val_loss: 0.7694 - val_mean_absolute_error: 0.6140\n",
            "Epoch 83/100\n",
            "6/6 [==============================] - 0s 10ms/step - loss: 5.1010e-04 - mean_absolute_error: 0.0172 - val_loss: 0.7660 - val_mean_absolute_error: 0.6119\n",
            "Epoch 84/100\n",
            "6/6 [==============================] - 0s 11ms/step - loss: 3.8858e-04 - mean_absolute_error: 0.0151 - val_loss: 0.7721 - val_mean_absolute_error: 0.6152\n",
            "Epoch 85/100\n",
            "6/6 [==============================] - 0s 10ms/step - loss: 4.7053e-04 - mean_absolute_error: 0.0169 - val_loss: 0.7670 - val_mean_absolute_error: 0.6099\n",
            "Epoch 86/100\n",
            "6/6 [==============================] - 0s 10ms/step - loss: 5.5373e-04 - mean_absolute_error: 0.0182 - val_loss: 0.7722 - val_mean_absolute_error: 0.6137\n",
            "Epoch 87/100\n",
            "6/6 [==============================] - 0s 12ms/step - loss: 4.7865e-04 - mean_absolute_error: 0.0170 - val_loss: 0.7558 - val_mean_absolute_error: 0.6058\n",
            "Epoch 88/100\n",
            "6/6 [==============================] - 0s 10ms/step - loss: 4.3157e-04 - mean_absolute_error: 0.0168 - val_loss: 0.7675 - val_mean_absolute_error: 0.6135\n",
            "Epoch 89/100\n",
            "6/6 [==============================] - 0s 11ms/step - loss: 3.9078e-04 - mean_absolute_error: 0.0157 - val_loss: 0.7614 - val_mean_absolute_error: 0.6094\n",
            "Epoch 90/100\n",
            "6/6 [==============================] - 0s 13ms/step - loss: 4.6203e-04 - mean_absolute_error: 0.0154 - val_loss: 0.7668 - val_mean_absolute_error: 0.6104\n",
            "Epoch 91/100\n",
            "6/6 [==============================] - 0s 10ms/step - loss: 4.7869e-04 - mean_absolute_error: 0.0157 - val_loss: 0.7637 - val_mean_absolute_error: 0.6103\n",
            "Epoch 92/100\n",
            "6/6 [==============================] - 0s 10ms/step - loss: 4.5760e-04 - mean_absolute_error: 0.0161 - val_loss: 0.7662 - val_mean_absolute_error: 0.6105\n",
            "Epoch 93/100\n",
            "6/6 [==============================] - 0s 9ms/step - loss: 4.5563e-04 - mean_absolute_error: 0.0156 - val_loss: 0.7672 - val_mean_absolute_error: 0.6112\n",
            "Epoch 94/100\n",
            "6/6 [==============================] - 0s 10ms/step - loss: 4.9849e-04 - mean_absolute_error: 0.0163 - val_loss: 0.7634 - val_mean_absolute_error: 0.6103\n",
            "Epoch 95/100\n",
            "6/6 [==============================] - 0s 10ms/step - loss: 5.7039e-04 - mean_absolute_error: 0.0181 - val_loss: 0.7776 - val_mean_absolute_error: 0.6183\n",
            "Epoch 96/100\n",
            "6/6 [==============================] - 0s 10ms/step - loss: 6.1795e-04 - mean_absolute_error: 0.0190 - val_loss: 0.7637 - val_mean_absolute_error: 0.6081\n",
            "Epoch 97/100\n",
            "6/6 [==============================] - 0s 10ms/step - loss: 8.0891e-04 - mean_absolute_error: 0.0214 - val_loss: 0.7662 - val_mean_absolute_error: 0.6100\n",
            "Epoch 98/100\n",
            "6/6 [==============================] - 0s 14ms/step - loss: 0.0015 - mean_absolute_error: 0.0294 - val_loss: 0.7620 - val_mean_absolute_error: 0.6079\n",
            "Epoch 99/100\n",
            "6/6 [==============================] - 0s 11ms/step - loss: 0.0012 - mean_absolute_error: 0.0265 - val_loss: 0.7662 - val_mean_absolute_error: 0.6081\n",
            "Epoch 100/100\n",
            "6/6 [==============================] - 0s 9ms/step - loss: 0.0015 - mean_absolute_error: 0.0293 - val_loss: 0.7636 - val_mean_absolute_error: 0.6139\n"
          ]
        }
      ],
      "source": [
        "#@title\n",
        "### START CODE HERE ### ()\n",
        "history=model.fit( x=train_data,y=train_targets,batch_size=64,epochs=100,validation_split=0.15)"
      ]
    },
    {
      "cell_type": "code",
      "execution_count": 175,
      "id": "e2000d08-a40d-4bc8-ac8c-87c30111c670",
      "metadata": {
        "id": "e2000d08-a40d-4bc8-ac8c-87c30111c670",
        "colab": {
          "base_uri": "https://localhost:8080/"
        },
        "outputId": "bd5d324c-da76-4e96-8024-4d19020bf8b4"
      },
      "outputs": [
        {
          "output_type": "stream",
          "name": "stdout",
          "text": [
            "2/2 - 0s - loss: 0.7697 - mean_absolute_error: 0.7250 - 20ms/epoch - 10ms/step\n"
          ]
        },
        {
          "output_type": "execute_result",
          "data": {
            "text/plain": [
              "[0.7697136998176575, 0.7249859571456909]"
            ]
          },
          "metadata": {},
          "execution_count": 175
        }
      ],
      "source": [
        "#@title\n",
        "# Evaluate the model on the test set\n",
        "\n",
        "model.evaluate(test_data, test_targets, verbose=2)"
      ]
    },
    {
      "cell_type": "code",
      "execution_count": 164,
      "id": "a171c786-ce1f-4004-b096-75b5562bdf15",
      "metadata": {
        "id": "a171c786-ce1f-4004-b096-75b5562bdf15"
      },
      "outputs": [],
      "source": [
        "#@title\n",
        "import matplotlib.pyplot as plt\n",
        "%matplotlib inline"
      ]
    },
    {
      "cell_type": "code",
      "execution_count": 176,
      "id": "3a0de6a8-b049-4221-972e-689b166c71aa",
      "metadata": {
        "id": "3a0de6a8-b049-4221-972e-689b166c71aa",
        "colab": {
          "base_uri": "https://localhost:8080/",
          "height": 391
        },
        "outputId": "24a151aa-9b97-4316-f27a-4a7d95e93aa7"
      },
      "outputs": [
        {
          "output_type": "display_data",
          "data": {
            "text/plain": [
              "<Figure size 432x288 with 1 Axes>"
            ],
            "image/svg+xml": "<?xml version=\"1.0\" encoding=\"utf-8\" standalone=\"no\"?>\n<!DOCTYPE svg PUBLIC \"-//W3C//DTD SVG 1.1//EN\"\n  \"http://www.w3.org/Graphics/SVG/1.1/DTD/svg11.dtd\">\n<!-- Created with matplotlib (https://matplotlib.org/) -->\n<svg height=\"277.314375pt\" version=\"1.1\" viewBox=\"0 0 385.78125 277.314375\" width=\"385.78125pt\" xmlns=\"http://www.w3.org/2000/svg\" xmlns:xlink=\"http://www.w3.org/1999/xlink\">\n <defs>\n  <style type=\"text/css\">\n*{stroke-linecap:butt;stroke-linejoin:round;}\n  </style>\n </defs>\n <g id=\"figure_1\">\n  <g id=\"patch_1\">\n   <path d=\"M 0 277.314375 \nL 385.78125 277.314375 \nL 385.78125 0 \nL 0 0 \nz\n\" style=\"fill:none;\"/>\n  </g>\n  <g id=\"axes_1\">\n   <g id=\"patch_2\">\n    <path d=\"M 43.78125 239.758125 \nL 378.58125 239.758125 \nL 378.58125 22.318125 \nL 43.78125 22.318125 \nz\n\" style=\"fill:#ffffff;\"/>\n   </g>\n   <g id=\"matplotlib.axis_1\">\n    <g id=\"xtick_1\">\n     <g id=\"line2d_1\">\n      <defs>\n       <path d=\"M 0 0 \nL 0 3.5 \n\" id=\"m0b0c903eaa\" style=\"stroke:#000000;stroke-width:0.8;\"/>\n      </defs>\n      <g>\n       <use style=\"stroke:#000000;stroke-width:0.8;\" x=\"58.999432\" xlink:href=\"#m0b0c903eaa\" y=\"239.758125\"/>\n      </g>\n     </g>\n     <g id=\"text_1\">\n      <!-- 0 -->\n      <defs>\n       <path d=\"M 31.78125 66.40625 \nQ 24.171875 66.40625 20.328125 58.90625 \nQ 16.5 51.421875 16.5 36.375 \nQ 16.5 21.390625 20.328125 13.890625 \nQ 24.171875 6.390625 31.78125 6.390625 \nQ 39.453125 6.390625 43.28125 13.890625 \nQ 47.125 21.390625 47.125 36.375 \nQ 47.125 51.421875 43.28125 58.90625 \nQ 39.453125 66.40625 31.78125 66.40625 \nz\nM 31.78125 74.21875 \nQ 44.046875 74.21875 50.515625 64.515625 \nQ 56.984375 54.828125 56.984375 36.375 \nQ 56.984375 17.96875 50.515625 8.265625 \nQ 44.046875 -1.421875 31.78125 -1.421875 \nQ 19.53125 -1.421875 13.0625 8.265625 \nQ 6.59375 17.96875 6.59375 36.375 \nQ 6.59375 54.828125 13.0625 64.515625 \nQ 19.53125 74.21875 31.78125 74.21875 \nz\n\" id=\"DejaVuSans-48\"/>\n      </defs>\n      <g transform=\"translate(55.818182 254.356562)scale(0.1 -0.1)\">\n       <use xlink:href=\"#DejaVuSans-48\"/>\n      </g>\n     </g>\n    </g>\n    <g id=\"xtick_2\">\n     <g id=\"line2d_2\">\n      <g>\n       <use style=\"stroke:#000000;stroke-width:0.8;\" x=\"120.487035\" xlink:href=\"#m0b0c903eaa\" y=\"239.758125\"/>\n      </g>\n     </g>\n     <g id=\"text_2\">\n      <!-- 20 -->\n      <defs>\n       <path d=\"M 19.1875 8.296875 \nL 53.609375 8.296875 \nL 53.609375 0 \nL 7.328125 0 \nL 7.328125 8.296875 \nQ 12.9375 14.109375 22.625 23.890625 \nQ 32.328125 33.6875 34.8125 36.53125 \nQ 39.546875 41.84375 41.421875 45.53125 \nQ 43.3125 49.21875 43.3125 52.78125 \nQ 43.3125 58.59375 39.234375 62.25 \nQ 35.15625 65.921875 28.609375 65.921875 \nQ 23.96875 65.921875 18.8125 64.3125 \nQ 13.671875 62.703125 7.8125 59.421875 \nL 7.8125 69.390625 \nQ 13.765625 71.78125 18.9375 73 \nQ 24.125 74.21875 28.421875 74.21875 \nQ 39.75 74.21875 46.484375 68.546875 \nQ 53.21875 62.890625 53.21875 53.421875 \nQ 53.21875 48.921875 51.53125 44.890625 \nQ 49.859375 40.875 45.40625 35.40625 \nQ 44.1875 33.984375 37.640625 27.21875 \nQ 31.109375 20.453125 19.1875 8.296875 \nz\n\" id=\"DejaVuSans-50\"/>\n      </defs>\n      <g transform=\"translate(114.124535 254.356562)scale(0.1 -0.1)\">\n       <use xlink:href=\"#DejaVuSans-50\"/>\n       <use x=\"63.623047\" xlink:href=\"#DejaVuSans-48\"/>\n      </g>\n     </g>\n    </g>\n    <g id=\"xtick_3\">\n     <g id=\"line2d_3\">\n      <g>\n       <use style=\"stroke:#000000;stroke-width:0.8;\" x=\"181.974638\" xlink:href=\"#m0b0c903eaa\" y=\"239.758125\"/>\n      </g>\n     </g>\n     <g id=\"text_3\">\n      <!-- 40 -->\n      <defs>\n       <path d=\"M 37.796875 64.3125 \nL 12.890625 25.390625 \nL 37.796875 25.390625 \nz\nM 35.203125 72.90625 \nL 47.609375 72.90625 \nL 47.609375 25.390625 \nL 58.015625 25.390625 \nL 58.015625 17.1875 \nL 47.609375 17.1875 \nL 47.609375 0 \nL 37.796875 0 \nL 37.796875 17.1875 \nL 4.890625 17.1875 \nL 4.890625 26.703125 \nz\n\" id=\"DejaVuSans-52\"/>\n      </defs>\n      <g transform=\"translate(175.612138 254.356562)scale(0.1 -0.1)\">\n       <use xlink:href=\"#DejaVuSans-52\"/>\n       <use x=\"63.623047\" xlink:href=\"#DejaVuSans-48\"/>\n      </g>\n     </g>\n    </g>\n    <g id=\"xtick_4\">\n     <g id=\"line2d_4\">\n      <g>\n       <use style=\"stroke:#000000;stroke-width:0.8;\" x=\"243.462242\" xlink:href=\"#m0b0c903eaa\" y=\"239.758125\"/>\n      </g>\n     </g>\n     <g id=\"text_4\">\n      <!-- 60 -->\n      <defs>\n       <path d=\"M 33.015625 40.375 \nQ 26.375 40.375 22.484375 35.828125 \nQ 18.609375 31.296875 18.609375 23.390625 \nQ 18.609375 15.53125 22.484375 10.953125 \nQ 26.375 6.390625 33.015625 6.390625 \nQ 39.65625 6.390625 43.53125 10.953125 \nQ 47.40625 15.53125 47.40625 23.390625 \nQ 47.40625 31.296875 43.53125 35.828125 \nQ 39.65625 40.375 33.015625 40.375 \nz\nM 52.59375 71.296875 \nL 52.59375 62.3125 \nQ 48.875 64.0625 45.09375 64.984375 \nQ 41.3125 65.921875 37.59375 65.921875 \nQ 27.828125 65.921875 22.671875 59.328125 \nQ 17.53125 52.734375 16.796875 39.40625 \nQ 19.671875 43.65625 24.015625 45.921875 \nQ 28.375 48.1875 33.59375 48.1875 \nQ 44.578125 48.1875 50.953125 41.515625 \nQ 57.328125 34.859375 57.328125 23.390625 \nQ 57.328125 12.15625 50.6875 5.359375 \nQ 44.046875 -1.421875 33.015625 -1.421875 \nQ 20.359375 -1.421875 13.671875 8.265625 \nQ 6.984375 17.96875 6.984375 36.375 \nQ 6.984375 53.65625 15.1875 63.9375 \nQ 23.390625 74.21875 37.203125 74.21875 \nQ 40.921875 74.21875 44.703125 73.484375 \nQ 48.484375 72.75 52.59375 71.296875 \nz\n\" id=\"DejaVuSans-54\"/>\n      </defs>\n      <g transform=\"translate(237.099742 254.356562)scale(0.1 -0.1)\">\n       <use xlink:href=\"#DejaVuSans-54\"/>\n       <use x=\"63.623047\" xlink:href=\"#DejaVuSans-48\"/>\n      </g>\n     </g>\n    </g>\n    <g id=\"xtick_5\">\n     <g id=\"line2d_5\">\n      <g>\n       <use style=\"stroke:#000000;stroke-width:0.8;\" x=\"304.949845\" xlink:href=\"#m0b0c903eaa\" y=\"239.758125\"/>\n      </g>\n     </g>\n     <g id=\"text_5\">\n      <!-- 80 -->\n      <defs>\n       <path d=\"M 31.78125 34.625 \nQ 24.75 34.625 20.71875 30.859375 \nQ 16.703125 27.09375 16.703125 20.515625 \nQ 16.703125 13.921875 20.71875 10.15625 \nQ 24.75 6.390625 31.78125 6.390625 \nQ 38.8125 6.390625 42.859375 10.171875 \nQ 46.921875 13.96875 46.921875 20.515625 \nQ 46.921875 27.09375 42.890625 30.859375 \nQ 38.875 34.625 31.78125 34.625 \nz\nM 21.921875 38.8125 \nQ 15.578125 40.375 12.03125 44.71875 \nQ 8.5 49.078125 8.5 55.328125 \nQ 8.5 64.0625 14.71875 69.140625 \nQ 20.953125 74.21875 31.78125 74.21875 \nQ 42.671875 74.21875 48.875 69.140625 \nQ 55.078125 64.0625 55.078125 55.328125 \nQ 55.078125 49.078125 51.53125 44.71875 \nQ 48 40.375 41.703125 38.8125 \nQ 48.828125 37.15625 52.796875 32.3125 \nQ 56.78125 27.484375 56.78125 20.515625 \nQ 56.78125 9.90625 50.3125 4.234375 \nQ 43.84375 -1.421875 31.78125 -1.421875 \nQ 19.734375 -1.421875 13.25 4.234375 \nQ 6.78125 9.90625 6.78125 20.515625 \nQ 6.78125 27.484375 10.78125 32.3125 \nQ 14.796875 37.15625 21.921875 38.8125 \nz\nM 18.3125 54.390625 \nQ 18.3125 48.734375 21.84375 45.5625 \nQ 25.390625 42.390625 31.78125 42.390625 \nQ 38.140625 42.390625 41.71875 45.5625 \nQ 45.3125 48.734375 45.3125 54.390625 \nQ 45.3125 60.0625 41.71875 63.234375 \nQ 38.140625 66.40625 31.78125 66.40625 \nQ 25.390625 66.40625 21.84375 63.234375 \nQ 18.3125 60.0625 18.3125 54.390625 \nz\n\" id=\"DejaVuSans-56\"/>\n      </defs>\n      <g transform=\"translate(298.587345 254.356562)scale(0.1 -0.1)\">\n       <use xlink:href=\"#DejaVuSans-56\"/>\n       <use x=\"63.623047\" xlink:href=\"#DejaVuSans-48\"/>\n      </g>\n     </g>\n    </g>\n    <g id=\"xtick_6\">\n     <g id=\"line2d_6\">\n      <g>\n       <use style=\"stroke:#000000;stroke-width:0.8;\" x=\"366.437448\" xlink:href=\"#m0b0c903eaa\" y=\"239.758125\"/>\n      </g>\n     </g>\n     <g id=\"text_6\">\n      <!-- 100 -->\n      <defs>\n       <path d=\"M 12.40625 8.296875 \nL 28.515625 8.296875 \nL 28.515625 63.921875 \nL 10.984375 60.40625 \nL 10.984375 69.390625 \nL 28.421875 72.90625 \nL 38.28125 72.90625 \nL 38.28125 8.296875 \nL 54.390625 8.296875 \nL 54.390625 0 \nL 12.40625 0 \nz\n\" id=\"DejaVuSans-49\"/>\n      </defs>\n      <g transform=\"translate(356.893698 254.356562)scale(0.1 -0.1)\">\n       <use xlink:href=\"#DejaVuSans-49\"/>\n       <use x=\"63.623047\" xlink:href=\"#DejaVuSans-48\"/>\n       <use x=\"127.246094\" xlink:href=\"#DejaVuSans-48\"/>\n      </g>\n     </g>\n    </g>\n    <g id=\"text_7\">\n     <!-- Epoch -->\n     <defs>\n      <path d=\"M 9.8125 72.90625 \nL 55.90625 72.90625 \nL 55.90625 64.59375 \nL 19.671875 64.59375 \nL 19.671875 43.015625 \nL 54.390625 43.015625 \nL 54.390625 34.71875 \nL 19.671875 34.71875 \nL 19.671875 8.296875 \nL 56.78125 8.296875 \nL 56.78125 0 \nL 9.8125 0 \nz\n\" id=\"DejaVuSans-69\"/>\n      <path d=\"M 18.109375 8.203125 \nL 18.109375 -20.796875 \nL 9.078125 -20.796875 \nL 9.078125 54.6875 \nL 18.109375 54.6875 \nL 18.109375 46.390625 \nQ 20.953125 51.265625 25.265625 53.625 \nQ 29.59375 56 35.59375 56 \nQ 45.5625 56 51.78125 48.09375 \nQ 58.015625 40.1875 58.015625 27.296875 \nQ 58.015625 14.40625 51.78125 6.484375 \nQ 45.5625 -1.421875 35.59375 -1.421875 \nQ 29.59375 -1.421875 25.265625 0.953125 \nQ 20.953125 3.328125 18.109375 8.203125 \nz\nM 48.6875 27.296875 \nQ 48.6875 37.203125 44.609375 42.84375 \nQ 40.53125 48.484375 33.40625 48.484375 \nQ 26.265625 48.484375 22.1875 42.84375 \nQ 18.109375 37.203125 18.109375 27.296875 \nQ 18.109375 17.390625 22.1875 11.75 \nQ 26.265625 6.109375 33.40625 6.109375 \nQ 40.53125 6.109375 44.609375 11.75 \nQ 48.6875 17.390625 48.6875 27.296875 \nz\n\" id=\"DejaVuSans-112\"/>\n      <path d=\"M 30.609375 48.390625 \nQ 23.390625 48.390625 19.1875 42.75 \nQ 14.984375 37.109375 14.984375 27.296875 \nQ 14.984375 17.484375 19.15625 11.84375 \nQ 23.34375 6.203125 30.609375 6.203125 \nQ 37.796875 6.203125 41.984375 11.859375 \nQ 46.1875 17.53125 46.1875 27.296875 \nQ 46.1875 37.015625 41.984375 42.703125 \nQ 37.796875 48.390625 30.609375 48.390625 \nz\nM 30.609375 56 \nQ 42.328125 56 49.015625 48.375 \nQ 55.71875 40.765625 55.71875 27.296875 \nQ 55.71875 13.875 49.015625 6.21875 \nQ 42.328125 -1.421875 30.609375 -1.421875 \nQ 18.84375 -1.421875 12.171875 6.21875 \nQ 5.515625 13.875 5.515625 27.296875 \nQ 5.515625 40.765625 12.171875 48.375 \nQ 18.84375 56 30.609375 56 \nz\n\" id=\"DejaVuSans-111\"/>\n      <path d=\"M 48.78125 52.59375 \nL 48.78125 44.1875 \nQ 44.96875 46.296875 41.140625 47.34375 \nQ 37.3125 48.390625 33.40625 48.390625 \nQ 24.65625 48.390625 19.8125 42.84375 \nQ 14.984375 37.3125 14.984375 27.296875 \nQ 14.984375 17.28125 19.8125 11.734375 \nQ 24.65625 6.203125 33.40625 6.203125 \nQ 37.3125 6.203125 41.140625 7.25 \nQ 44.96875 8.296875 48.78125 10.40625 \nL 48.78125 2.09375 \nQ 45.015625 0.34375 40.984375 -0.53125 \nQ 36.96875 -1.421875 32.421875 -1.421875 \nQ 20.0625 -1.421875 12.78125 6.34375 \nQ 5.515625 14.109375 5.515625 27.296875 \nQ 5.515625 40.671875 12.859375 48.328125 \nQ 20.21875 56 33.015625 56 \nQ 37.15625 56 41.109375 55.140625 \nQ 45.0625 54.296875 48.78125 52.59375 \nz\n\" id=\"DejaVuSans-99\"/>\n      <path d=\"M 54.890625 33.015625 \nL 54.890625 0 \nL 45.90625 0 \nL 45.90625 32.71875 \nQ 45.90625 40.484375 42.875 44.328125 \nQ 39.84375 48.1875 33.796875 48.1875 \nQ 26.515625 48.1875 22.3125 43.546875 \nQ 18.109375 38.921875 18.109375 30.90625 \nL 18.109375 0 \nL 9.078125 0 \nL 9.078125 75.984375 \nL 18.109375 75.984375 \nL 18.109375 46.1875 \nQ 21.34375 51.125 25.703125 53.5625 \nQ 30.078125 56 35.796875 56 \nQ 45.21875 56 50.046875 50.171875 \nQ 54.890625 44.34375 54.890625 33.015625 \nz\n\" id=\"DejaVuSans-104\"/>\n     </defs>\n     <g transform=\"translate(195.870313 268.034687)scale(0.1 -0.1)\">\n      <use xlink:href=\"#DejaVuSans-69\"/>\n      <use x=\"63.183594\" xlink:href=\"#DejaVuSans-112\"/>\n      <use x=\"126.660156\" xlink:href=\"#DejaVuSans-111\"/>\n      <use x=\"187.841797\" xlink:href=\"#DejaVuSans-99\"/>\n      <use x=\"242.822266\" xlink:href=\"#DejaVuSans-104\"/>\n     </g>\n    </g>\n   </g>\n   <g id=\"matplotlib.axis_2\">\n    <g id=\"ytick_1\">\n     <g id=\"line2d_7\">\n      <defs>\n       <path d=\"M 0 0 \nL -3.5 0 \n\" id=\"m66c05a1a86\" style=\"stroke:#000000;stroke-width:0.8;\"/>\n      </defs>\n      <g>\n       <use style=\"stroke:#000000;stroke-width:0.8;\" x=\"43.78125\" xlink:href=\"#m66c05a1a86\" y=\"229.959406\"/>\n      </g>\n     </g>\n     <g id=\"text_8\">\n      <!-- 0.0 -->\n      <defs>\n       <path d=\"M 10.6875 12.40625 \nL 21 12.40625 \nL 21 0 \nL 10.6875 0 \nz\n\" id=\"DejaVuSans-46\"/>\n      </defs>\n      <g transform=\"translate(20.878125 233.758624)scale(0.1 -0.1)\">\n       <use xlink:href=\"#DejaVuSans-48\"/>\n       <use x=\"63.623047\" xlink:href=\"#DejaVuSans-46\"/>\n       <use x=\"95.410156\" xlink:href=\"#DejaVuSans-48\"/>\n      </g>\n     </g>\n    </g>\n    <g id=\"ytick_2\">\n     <g id=\"line2d_8\">\n      <g>\n       <use style=\"stroke:#000000;stroke-width:0.8;\" x=\"43.78125\" xlink:href=\"#m66c05a1a86\" y=\"185.395371\"/>\n      </g>\n     </g>\n     <g id=\"text_9\">\n      <!-- 0.2 -->\n      <g transform=\"translate(20.878125 189.194589)scale(0.1 -0.1)\">\n       <use xlink:href=\"#DejaVuSans-48\"/>\n       <use x=\"63.623047\" xlink:href=\"#DejaVuSans-46\"/>\n       <use x=\"95.410156\" xlink:href=\"#DejaVuSans-50\"/>\n      </g>\n     </g>\n    </g>\n    <g id=\"ytick_3\">\n     <g id=\"line2d_9\">\n      <g>\n       <use style=\"stroke:#000000;stroke-width:0.8;\" x=\"43.78125\" xlink:href=\"#m66c05a1a86\" y=\"140.831336\"/>\n      </g>\n     </g>\n     <g id=\"text_10\">\n      <!-- 0.4 -->\n      <g transform=\"translate(20.878125 144.630554)scale(0.1 -0.1)\">\n       <use xlink:href=\"#DejaVuSans-48\"/>\n       <use x=\"63.623047\" xlink:href=\"#DejaVuSans-46\"/>\n       <use x=\"95.410156\" xlink:href=\"#DejaVuSans-52\"/>\n      </g>\n     </g>\n    </g>\n    <g id=\"ytick_4\">\n     <g id=\"line2d_10\">\n      <g>\n       <use style=\"stroke:#000000;stroke-width:0.8;\" x=\"43.78125\" xlink:href=\"#m66c05a1a86\" y=\"96.2673\"/>\n      </g>\n     </g>\n     <g id=\"text_11\">\n      <!-- 0.6 -->\n      <g transform=\"translate(20.878125 100.066519)scale(0.1 -0.1)\">\n       <use xlink:href=\"#DejaVuSans-48\"/>\n       <use x=\"63.623047\" xlink:href=\"#DejaVuSans-46\"/>\n       <use x=\"95.410156\" xlink:href=\"#DejaVuSans-54\"/>\n      </g>\n     </g>\n    </g>\n    <g id=\"ytick_5\">\n     <g id=\"line2d_11\">\n      <g>\n       <use style=\"stroke:#000000;stroke-width:0.8;\" x=\"43.78125\" xlink:href=\"#m66c05a1a86\" y=\"51.703265\"/>\n      </g>\n     </g>\n     <g id=\"text_12\">\n      <!-- 0.8 -->\n      <g transform=\"translate(20.878125 55.502484)scale(0.1 -0.1)\">\n       <use xlink:href=\"#DejaVuSans-48\"/>\n       <use x=\"63.623047\" xlink:href=\"#DejaVuSans-46\"/>\n       <use x=\"95.410156\" xlink:href=\"#DejaVuSans-56\"/>\n      </g>\n     </g>\n    </g>\n    <g id=\"text_13\">\n     <!-- Loss -->\n     <defs>\n      <path d=\"M 9.8125 72.90625 \nL 19.671875 72.90625 \nL 19.671875 8.296875 \nL 55.171875 8.296875 \nL 55.171875 0 \nL 9.8125 0 \nz\n\" id=\"DejaVuSans-76\"/>\n      <path d=\"M 44.28125 53.078125 \nL 44.28125 44.578125 \nQ 40.484375 46.53125 36.375 47.5 \nQ 32.28125 48.484375 27.875 48.484375 \nQ 21.1875 48.484375 17.84375 46.4375 \nQ 14.5 44.390625 14.5 40.28125 \nQ 14.5 37.15625 16.890625 35.375 \nQ 19.28125 33.59375 26.515625 31.984375 \nL 29.59375 31.296875 \nQ 39.15625 29.25 43.1875 25.515625 \nQ 47.21875 21.78125 47.21875 15.09375 \nQ 47.21875 7.46875 41.1875 3.015625 \nQ 35.15625 -1.421875 24.609375 -1.421875 \nQ 20.21875 -1.421875 15.453125 -0.5625 \nQ 10.6875 0.296875 5.421875 2 \nL 5.421875 11.28125 \nQ 10.40625 8.6875 15.234375 7.390625 \nQ 20.0625 6.109375 24.8125 6.109375 \nQ 31.15625 6.109375 34.5625 8.28125 \nQ 37.984375 10.453125 37.984375 14.40625 \nQ 37.984375 18.0625 35.515625 20.015625 \nQ 33.0625 21.96875 24.703125 23.78125 \nL 21.578125 24.515625 \nQ 13.234375 26.265625 9.515625 29.90625 \nQ 5.8125 33.546875 5.8125 39.890625 \nQ 5.8125 47.609375 11.28125 51.796875 \nQ 16.75 56 26.8125 56 \nQ 31.78125 56 36.171875 55.265625 \nQ 40.578125 54.546875 44.28125 53.078125 \nz\n\" id=\"DejaVuSans-115\"/>\n     </defs>\n     <g transform=\"translate(14.798438 142.005312)rotate(-90)scale(0.1 -0.1)\">\n      <use xlink:href=\"#DejaVuSans-76\"/>\n      <use x=\"53.962891\" xlink:href=\"#DejaVuSans-111\"/>\n      <use x=\"115.144531\" xlink:href=\"#DejaVuSans-115\"/>\n      <use x=\"167.244141\" xlink:href=\"#DejaVuSans-115\"/>\n     </g>\n    </g>\n   </g>\n   <g id=\"line2d_12\">\n    <path clip-path=\"url(#p86501da133)\" d=\"M 58.999432 32.201761 \nL 62.073812 96.593745 \nL 65.148192 120.897931 \nL 68.222572 131.40548 \nL 71.296952 139.760166 \nL 74.371333 148.055386 \nL 77.445713 153.636622 \nL 80.520093 159.297539 \nL 83.594473 157.363842 \nL 86.668853 157.321641 \nL 89.743233 160.192448 \nL 92.817614 164.642352 \nL 95.891994 174.824806 \nL 98.966374 182.077836 \nL 102.040754 188.122704 \nL 105.115134 192.701997 \nL 108.189514 196.766938 \nL 111.263895 201.756661 \nL 114.338275 203.036775 \nL 117.412655 210.008324 \nL 120.487035 209.137783 \nL 123.561415 208.506392 \nL 126.635795 212.042191 \nL 129.710176 211.116352 \nL 132.784556 212.215084 \nL 135.858936 217.258823 \nL 138.933316 217.018305 \nL 142.007696 219.021451 \nL 145.082076 219.782107 \nL 148.156457 219.665991 \nL 151.230837 220.705363 \nL 154.305217 222.640036 \nL 157.379597 224.241699 \nL 160.453977 222.616411 \nL 163.528357 223.467989 \nL 166.602738 224.459064 \nL 169.677118 224.653868 \nL 172.751498 224.770679 \nL 175.825878 224.568557 \nL 178.900258 224.451039 \nL 181.974638 225.288402 \nL 185.049019 226.050245 \nL 188.123399 226.350331 \nL 191.197779 225.273285 \nL 194.272159 225.897841 \nL 197.346539 226.903125 \nL 200.420919 227.322167 \nL 203.4953 228.041818 \nL 206.56968 228.418031 \nL 209.64406 227.95387 \nL 212.71844 228.140329 \nL 215.79282 228.560044 \nL 218.8672 228.493208 \nL 221.941581 229.001558 \nL 225.015961 229.225529 \nL 228.090341 229.330015 \nL 231.164721 229.404798 \nL 234.239101 229.559782 \nL 237.313481 229.59392 \nL 240.387862 229.655247 \nL 243.462242 229.686088 \nL 246.536622 229.737999 \nL 249.611002 229.69937 \nL 252.685382 229.737696 \nL 255.759762 229.723761 \nL 258.834143 229.66396 \nL 261.908523 229.683992 \nL 264.982903 229.631029 \nL 268.057283 229.721969 \nL 271.131663 229.766068 \nL 274.206043 229.801087 \nL 277.280424 229.824416 \nL 280.354804 229.800798 \nL 283.429184 229.835856 \nL 286.503564 229.792166 \nL 289.577944 229.77253 \nL 292.652324 229.874489 \nL 295.726705 229.867569 \nL 298.801085 229.844758 \nL 301.875465 229.85595 \nL 304.949845 229.857518 \nL 308.024225 229.827163 \nL 311.098605 229.845746 \nL 314.172986 229.872822 \nL 317.247366 229.854561 \nL 320.321746 229.836022 \nL 323.396126 229.852754 \nL 326.470506 229.863244 \nL 329.544886 229.872331 \nL 332.619267 229.856456 \nL 335.693647 229.852744 \nL 338.768027 229.857443 \nL 341.842407 229.857883 \nL 344.916787 229.848333 \nL 347.991167 229.832311 \nL 351.065548 229.821714 \nL 354.139928 229.779164 \nL 357.214308 229.619869 \nL 360.288688 229.682468 \nL 363.363068 229.623923 \n\" style=\"fill:none;stroke:#1f77b4;stroke-linecap:square;stroke-width:1.5;\"/>\n   </g>\n   <g id=\"line2d_13\">\n    <path clip-path=\"url(#p86501da133)\" d=\"M 58.999432 47.284263 \nL 62.073812 109.763128 \nL 65.148192 98.995542 \nL 68.222572 116.086534 \nL 71.296952 117.318052 \nL 74.371333 116.729526 \nL 77.445713 118.124907 \nL 80.520093 116.543497 \nL 83.594473 113.391105 \nL 86.668853 94.043478 \nL 89.743233 109.461142 \nL 92.817614 105.814679 \nL 95.891994 115.49749 \nL 98.966374 106.458175 \nL 102.040754 99.126335 \nL 105.115134 91.549218 \nL 108.189514 93.683919 \nL 111.263895 72.219667 \nL 114.338275 73.451225 \nL 117.412655 67.527688 \nL 120.487035 62.133973 \nL 123.561415 64.159025 \nL 126.635795 68.565474 \nL 129.710176 55.455696 \nL 132.784556 69.458868 \nL 135.858936 64.09594 \nL 138.933316 54.031602 \nL 142.007696 72.394832 \nL 145.082076 60.24836 \nL 148.156457 65.477296 \nL 151.230837 62.186792 \nL 154.305217 59.656686 \nL 157.379597 52.238226 \nL 160.453977 57.253043 \nL 163.528357 66.156359 \nL 166.602738 45.991094 \nL 169.677118 62.407591 \nL 172.751498 55.616849 \nL 175.825878 55.201987 \nL 178.900258 60.240617 \nL 181.974638 59.94413 \nL 185.049019 57.129144 \nL 188.123399 50.374606 \nL 191.197779 57.224608 \nL 194.272159 59.942815 \nL 197.346539 63.212267 \nL 200.420919 58.639765 \nL 203.4953 59.726558 \nL 206.56968 54.923296 \nL 209.64406 56.747577 \nL 212.71844 65.328574 \nL 215.79282 54.665629 \nL 218.8672 65.045765 \nL 221.941581 60.674751 \nL 225.015961 61.174612 \nL 228.090341 59.406696 \nL 231.164721 58.088359 \nL 234.239101 57.980463 \nL 237.313481 59.521206 \nL 240.387862 57.753582 \nL 243.462242 59.171288 \nL 246.536622 57.776704 \nL 249.611002 58.551219 \nL 252.685382 57.510126 \nL 255.759762 57.925586 \nL 258.834143 57.023891 \nL 261.908523 58.738297 \nL 264.982903 58.990718 \nL 268.057283 60.185195 \nL 271.131663 59.108176 \nL 274.206043 59.160066 \nL 277.280424 59.118722 \nL 280.354804 59.054454 \nL 283.429184 59.410096 \nL 286.503564 59.293567 \nL 289.577944 59.349056 \nL 292.652324 57.399707 \nL 295.726705 59.588926 \nL 298.801085 56.992454 \nL 301.875465 60.476477 \nL 304.949845 59.130303 \nL 308.024225 58.52212 \nL 311.098605 59.290101 \nL 314.172986 57.909662 \nL 317.247366 59.046393 \nL 320.321746 57.898745 \nL 323.396126 61.541237 \nL 326.470506 58.946585 \nL 329.544886 60.299546 \nL 332.619267 59.098162 \nL 335.693647 59.790879 \nL 338.768027 59.23942 \nL 341.842407 59.022712 \nL 344.916787 59.857537 \nL 347.991167 56.692407 \nL 351.065548 59.790321 \nL 354.139928 59.227268 \nL 357.214308 60.173003 \nL 360.288688 59.228251 \nL 363.363068 59.824307 \n\" style=\"fill:none;stroke:#ff7f0e;stroke-linecap:square;stroke-width:1.5;\"/>\n   </g>\n   <g id=\"patch_3\">\n    <path d=\"M 43.78125 239.758125 \nL 43.78125 22.318125 \n\" style=\"fill:none;stroke:#000000;stroke-linecap:square;stroke-linejoin:miter;stroke-width:0.8;\"/>\n   </g>\n   <g id=\"patch_4\">\n    <path d=\"M 378.58125 239.758125 \nL 378.58125 22.318125 \n\" style=\"fill:none;stroke:#000000;stroke-linecap:square;stroke-linejoin:miter;stroke-width:0.8;\"/>\n   </g>\n   <g id=\"patch_5\">\n    <path d=\"M 43.78125 239.758125 \nL 378.58125 239.758125 \n\" style=\"fill:none;stroke:#000000;stroke-linecap:square;stroke-linejoin:miter;stroke-width:0.8;\"/>\n   </g>\n   <g id=\"patch_6\">\n    <path d=\"M 43.78125 22.318125 \nL 378.58125 22.318125 \n\" style=\"fill:none;stroke:#000000;stroke-linecap:square;stroke-linejoin:miter;stroke-width:0.8;\"/>\n   </g>\n   <g id=\"text_14\">\n    <!-- Loss vs. epochs -->\n    <defs>\n     <path id=\"DejaVuSans-32\"/>\n     <path d=\"M 2.984375 54.6875 \nL 12.5 54.6875 \nL 29.59375 8.796875 \nL 46.6875 54.6875 \nL 56.203125 54.6875 \nL 35.6875 0 \nL 23.484375 0 \nz\n\" id=\"DejaVuSans-118\"/>\n     <path d=\"M 56.203125 29.59375 \nL 56.203125 25.203125 \nL 14.890625 25.203125 \nQ 15.484375 15.921875 20.484375 11.0625 \nQ 25.484375 6.203125 34.421875 6.203125 \nQ 39.59375 6.203125 44.453125 7.46875 \nQ 49.3125 8.734375 54.109375 11.28125 \nL 54.109375 2.78125 \nQ 49.265625 0.734375 44.1875 -0.34375 \nQ 39.109375 -1.421875 33.890625 -1.421875 \nQ 20.796875 -1.421875 13.15625 6.1875 \nQ 5.515625 13.8125 5.515625 26.8125 \nQ 5.515625 40.234375 12.765625 48.109375 \nQ 20.015625 56 32.328125 56 \nQ 43.359375 56 49.78125 48.890625 \nQ 56.203125 41.796875 56.203125 29.59375 \nz\nM 47.21875 32.234375 \nQ 47.125 39.59375 43.09375 43.984375 \nQ 39.0625 48.390625 32.421875 48.390625 \nQ 24.90625 48.390625 20.390625 44.140625 \nQ 15.875 39.890625 15.1875 32.171875 \nz\n\" id=\"DejaVuSans-101\"/>\n    </defs>\n    <g transform=\"translate(164.22375 16.318125)scale(0.12 -0.12)\">\n     <use xlink:href=\"#DejaVuSans-76\"/>\n     <use x=\"53.962891\" xlink:href=\"#DejaVuSans-111\"/>\n     <use x=\"115.144531\" xlink:href=\"#DejaVuSans-115\"/>\n     <use x=\"167.244141\" xlink:href=\"#DejaVuSans-115\"/>\n     <use x=\"219.34375\" xlink:href=\"#DejaVuSans-32\"/>\n     <use x=\"251.130859\" xlink:href=\"#DejaVuSans-118\"/>\n     <use x=\"310.310547\" xlink:href=\"#DejaVuSans-115\"/>\n     <use x=\"362.410156\" xlink:href=\"#DejaVuSans-46\"/>\n     <use x=\"394.197266\" xlink:href=\"#DejaVuSans-32\"/>\n     <use x=\"425.984375\" xlink:href=\"#DejaVuSans-101\"/>\n     <use x=\"487.507812\" xlink:href=\"#DejaVuSans-112\"/>\n     <use x=\"550.984375\" xlink:href=\"#DejaVuSans-111\"/>\n     <use x=\"612.166016\" xlink:href=\"#DejaVuSans-99\"/>\n     <use x=\"667.146484\" xlink:href=\"#DejaVuSans-104\"/>\n     <use x=\"730.525391\" xlink:href=\"#DejaVuSans-115\"/>\n    </g>\n   </g>\n   <g id=\"legend_1\">\n    <g id=\"patch_7\">\n     <path d=\"M 290.2 59.674375 \nL 371.58125 59.674375 \nQ 373.58125 59.674375 373.58125 57.674375 \nL 373.58125 29.318125 \nQ 373.58125 27.318125 371.58125 27.318125 \nL 290.2 27.318125 \nQ 288.2 27.318125 288.2 29.318125 \nL 288.2 57.674375 \nQ 288.2 59.674375 290.2 59.674375 \nz\n\" style=\"fill:#ffffff;opacity:0.8;stroke:#cccccc;stroke-linejoin:miter;\"/>\n    </g>\n    <g id=\"line2d_14\">\n     <path d=\"M 292.2 35.416562 \nL 312.2 35.416562 \n\" style=\"fill:none;stroke:#1f77b4;stroke-linecap:square;stroke-width:1.5;\"/>\n    </g>\n    <g id=\"line2d_15\"/>\n    <g id=\"text_15\">\n     <!-- Training -->\n     <defs>\n      <path d=\"M -0.296875 72.90625 \nL 61.375 72.90625 \nL 61.375 64.59375 \nL 35.5 64.59375 \nL 35.5 0 \nL 25.59375 0 \nL 25.59375 64.59375 \nL -0.296875 64.59375 \nz\n\" id=\"DejaVuSans-84\"/>\n      <path d=\"M 41.109375 46.296875 \nQ 39.59375 47.171875 37.8125 47.578125 \nQ 36.03125 48 33.890625 48 \nQ 26.265625 48 22.1875 43.046875 \nQ 18.109375 38.09375 18.109375 28.8125 \nL 18.109375 0 \nL 9.078125 0 \nL 9.078125 54.6875 \nL 18.109375 54.6875 \nL 18.109375 46.1875 \nQ 20.953125 51.171875 25.484375 53.578125 \nQ 30.03125 56 36.53125 56 \nQ 37.453125 56 38.578125 55.875 \nQ 39.703125 55.765625 41.0625 55.515625 \nz\n\" id=\"DejaVuSans-114\"/>\n      <path d=\"M 34.28125 27.484375 \nQ 23.390625 27.484375 19.1875 25 \nQ 14.984375 22.515625 14.984375 16.5 \nQ 14.984375 11.71875 18.140625 8.90625 \nQ 21.296875 6.109375 26.703125 6.109375 \nQ 34.1875 6.109375 38.703125 11.40625 \nQ 43.21875 16.703125 43.21875 25.484375 \nL 43.21875 27.484375 \nz\nM 52.203125 31.203125 \nL 52.203125 0 \nL 43.21875 0 \nL 43.21875 8.296875 \nQ 40.140625 3.328125 35.546875 0.953125 \nQ 30.953125 -1.421875 24.3125 -1.421875 \nQ 15.921875 -1.421875 10.953125 3.296875 \nQ 6 8.015625 6 15.921875 \nQ 6 25.140625 12.171875 29.828125 \nQ 18.359375 34.515625 30.609375 34.515625 \nL 43.21875 34.515625 \nL 43.21875 35.40625 \nQ 43.21875 41.609375 39.140625 45 \nQ 35.0625 48.390625 27.6875 48.390625 \nQ 23 48.390625 18.546875 47.265625 \nQ 14.109375 46.140625 10.015625 43.890625 \nL 10.015625 52.203125 \nQ 14.9375 54.109375 19.578125 55.046875 \nQ 24.21875 56 28.609375 56 \nQ 40.484375 56 46.34375 49.84375 \nQ 52.203125 43.703125 52.203125 31.203125 \nz\n\" id=\"DejaVuSans-97\"/>\n      <path d=\"M 9.421875 54.6875 \nL 18.40625 54.6875 \nL 18.40625 0 \nL 9.421875 0 \nz\nM 9.421875 75.984375 \nL 18.40625 75.984375 \nL 18.40625 64.59375 \nL 9.421875 64.59375 \nz\n\" id=\"DejaVuSans-105\"/>\n      <path d=\"M 54.890625 33.015625 \nL 54.890625 0 \nL 45.90625 0 \nL 45.90625 32.71875 \nQ 45.90625 40.484375 42.875 44.328125 \nQ 39.84375 48.1875 33.796875 48.1875 \nQ 26.515625 48.1875 22.3125 43.546875 \nQ 18.109375 38.921875 18.109375 30.90625 \nL 18.109375 0 \nL 9.078125 0 \nL 9.078125 54.6875 \nL 18.109375 54.6875 \nL 18.109375 46.1875 \nQ 21.34375 51.125 25.703125 53.5625 \nQ 30.078125 56 35.796875 56 \nQ 45.21875 56 50.046875 50.171875 \nQ 54.890625 44.34375 54.890625 33.015625 \nz\n\" id=\"DejaVuSans-110\"/>\n      <path d=\"M 45.40625 27.984375 \nQ 45.40625 37.75 41.375 43.109375 \nQ 37.359375 48.484375 30.078125 48.484375 \nQ 22.859375 48.484375 18.828125 43.109375 \nQ 14.796875 37.75 14.796875 27.984375 \nQ 14.796875 18.265625 18.828125 12.890625 \nQ 22.859375 7.515625 30.078125 7.515625 \nQ 37.359375 7.515625 41.375 12.890625 \nQ 45.40625 18.265625 45.40625 27.984375 \nz\nM 54.390625 6.78125 \nQ 54.390625 -7.171875 48.1875 -13.984375 \nQ 42 -20.796875 29.203125 -20.796875 \nQ 24.46875 -20.796875 20.265625 -20.09375 \nQ 16.0625 -19.390625 12.109375 -17.921875 \nL 12.109375 -9.1875 \nQ 16.0625 -11.328125 19.921875 -12.34375 \nQ 23.78125 -13.375 27.78125 -13.375 \nQ 36.625 -13.375 41.015625 -8.765625 \nQ 45.40625 -4.15625 45.40625 5.171875 \nL 45.40625 9.625 \nQ 42.625 4.78125 38.28125 2.390625 \nQ 33.9375 0 27.875 0 \nQ 17.828125 0 11.671875 7.65625 \nQ 5.515625 15.328125 5.515625 27.984375 \nQ 5.515625 40.671875 11.671875 48.328125 \nQ 17.828125 56 27.875 56 \nQ 33.9375 56 38.28125 53.609375 \nQ 42.625 51.21875 45.40625 46.390625 \nL 45.40625 54.6875 \nL 54.390625 54.6875 \nz\n\" id=\"DejaVuSans-103\"/>\n     </defs>\n     <g transform=\"translate(320.2 38.916562)scale(0.1 -0.1)\">\n      <use xlink:href=\"#DejaVuSans-84\"/>\n      <use x=\"46.333984\" xlink:href=\"#DejaVuSans-114\"/>\n      <use x=\"87.447266\" xlink:href=\"#DejaVuSans-97\"/>\n      <use x=\"148.726562\" xlink:href=\"#DejaVuSans-105\"/>\n      <use x=\"176.509766\" xlink:href=\"#DejaVuSans-110\"/>\n      <use x=\"239.888672\" xlink:href=\"#DejaVuSans-105\"/>\n      <use x=\"267.671875\" xlink:href=\"#DejaVuSans-110\"/>\n      <use x=\"331.050781\" xlink:href=\"#DejaVuSans-103\"/>\n     </g>\n    </g>\n    <g id=\"line2d_16\">\n     <path d=\"M 292.2 50.094687 \nL 312.2 50.094687 \n\" style=\"fill:none;stroke:#ff7f0e;stroke-linecap:square;stroke-width:1.5;\"/>\n    </g>\n    <g id=\"line2d_17\"/>\n    <g id=\"text_16\">\n     <!-- Validation -->\n     <defs>\n      <path d=\"M 28.609375 0 \nL 0.78125 72.90625 \nL 11.078125 72.90625 \nL 34.1875 11.53125 \nL 57.328125 72.90625 \nL 67.578125 72.90625 \nL 39.796875 0 \nz\n\" id=\"DejaVuSans-86\"/>\n      <path d=\"M 9.421875 75.984375 \nL 18.40625 75.984375 \nL 18.40625 0 \nL 9.421875 0 \nz\n\" id=\"DejaVuSans-108\"/>\n      <path d=\"M 45.40625 46.390625 \nL 45.40625 75.984375 \nL 54.390625 75.984375 \nL 54.390625 0 \nL 45.40625 0 \nL 45.40625 8.203125 \nQ 42.578125 3.328125 38.25 0.953125 \nQ 33.9375 -1.421875 27.875 -1.421875 \nQ 17.96875 -1.421875 11.734375 6.484375 \nQ 5.515625 14.40625 5.515625 27.296875 \nQ 5.515625 40.1875 11.734375 48.09375 \nQ 17.96875 56 27.875 56 \nQ 33.9375 56 38.25 53.625 \nQ 42.578125 51.265625 45.40625 46.390625 \nz\nM 14.796875 27.296875 \nQ 14.796875 17.390625 18.875 11.75 \nQ 22.953125 6.109375 30.078125 6.109375 \nQ 37.203125 6.109375 41.296875 11.75 \nQ 45.40625 17.390625 45.40625 27.296875 \nQ 45.40625 37.203125 41.296875 42.84375 \nQ 37.203125 48.484375 30.078125 48.484375 \nQ 22.953125 48.484375 18.875 42.84375 \nQ 14.796875 37.203125 14.796875 27.296875 \nz\n\" id=\"DejaVuSans-100\"/>\n      <path d=\"M 18.3125 70.21875 \nL 18.3125 54.6875 \nL 36.8125 54.6875 \nL 36.8125 47.703125 \nL 18.3125 47.703125 \nL 18.3125 18.015625 \nQ 18.3125 11.328125 20.140625 9.421875 \nQ 21.96875 7.515625 27.59375 7.515625 \nL 36.8125 7.515625 \nL 36.8125 0 \nL 27.59375 0 \nQ 17.1875 0 13.234375 3.875 \nQ 9.28125 7.765625 9.28125 18.015625 \nL 9.28125 47.703125 \nL 2.6875 47.703125 \nL 2.6875 54.6875 \nL 9.28125 54.6875 \nL 9.28125 70.21875 \nz\n\" id=\"DejaVuSans-116\"/>\n     </defs>\n     <g transform=\"translate(320.2 53.594687)scale(0.1 -0.1)\">\n      <use xlink:href=\"#DejaVuSans-86\"/>\n      <use x=\"60.658203\" xlink:href=\"#DejaVuSans-97\"/>\n      <use x=\"121.9375\" xlink:href=\"#DejaVuSans-108\"/>\n      <use x=\"149.720703\" xlink:href=\"#DejaVuSans-105\"/>\n      <use x=\"177.503906\" xlink:href=\"#DejaVuSans-100\"/>\n      <use x=\"240.980469\" xlink:href=\"#DejaVuSans-97\"/>\n      <use x=\"302.259766\" xlink:href=\"#DejaVuSans-116\"/>\n      <use x=\"341.46875\" xlink:href=\"#DejaVuSans-105\"/>\n      <use x=\"369.251953\" xlink:href=\"#DejaVuSans-111\"/>\n      <use x=\"430.433594\" xlink:href=\"#DejaVuSans-110\"/>\n     </g>\n    </g>\n   </g>\n  </g>\n </g>\n <defs>\n  <clipPath id=\"p86501da133\">\n   <rect height=\"217.44\" width=\"334.8\" x=\"43.78125\" y=\"22.318125\"/>\n  </clipPath>\n </defs>\n</svg>\n"
          },
          "metadata": {
            "needs_background": "light"
          }
        }
      ],
      "source": [
        "#@title\n",
        "# Plot the training and validation loss\n",
        "\n",
        "plt.plot(history.history['loss'])\n",
        "plt.plot(history.history['val_loss'])\n",
        "plt.title('Loss vs. epochs')\n",
        "plt.ylabel('Loss')\n",
        "plt.xlabel('Epoch')\n",
        "plt.legend(['Training', 'Validation'], loc='upper right')\n",
        "plt.show()"
      ]
    },
    {
      "cell_type": "markdown",
      "id": "5fea592c-3cd2-4fb6-b32b-d9da751763fd",
      "metadata": {
        "id": "5fea592c-3cd2-4fb6-b32b-d9da751763fd"
      },
      "source": [
        "9. **Diagnose the learning curve:**\n",
        "    - Why is the validation loss much higher than training loss?\n",
        "    - What's this phenomenon called?\n",
        "    - Mention 3 methods to reduce this."
      ]
    },
    {
      "cell_type": "markdown",
      "id": "b8fd101e-f9d1-49bc-9101-1157932be789",
      "metadata": {
        "id": "b8fd101e-f9d1-49bc-9101-1157932be789"
      },
      "source": [
        "#**Answer**:\n",
        "- The model is completely overfitting. The training loss is decreasing but the validation loss isn't. This means that the current model is complex.In such situations, you need to regularize your model.\n",
        "\n",
        "\n",
        "  - it's called Overfitting\n",
        "\n",
        "  \n",
        "  - 1. Reduce the layers of the neural network.\n",
        "    2. Reduce the number of neurons in each layer of the network \n",
        "    3. If possible add more data for training\n",
        "\n",
        "\n"
      ]
    },
    {
      "cell_type": "markdown",
      "id": "f186ab89-4e72-4379-b458-843fbba8f1ef",
      "metadata": {
        "id": "f186ab89-4e72-4379-b458-843fbba8f1ef"
      },
      "source": [
        "10. **Use one of the methods you mentioned and retrain the model then plot the learning curves**"
      ]
    },
    {
      "cell_type": "code",
      "execution_count": 177,
      "id": "aa69dd9f-6304-4115-a547-8f02caa613bf",
      "metadata": {
        "id": "aa69dd9f-6304-4115-a547-8f02caa613bf",
        "colab": {
          "base_uri": "https://localhost:8080/",
          "height": 1000
        },
        "outputId": "c606c1e0-a9ab-4339-bda9-a055b8f51a7a"
      },
      "outputs": [
        {
          "output_type": "stream",
          "name": "stdout",
          "text": [
            "Epoch 1/100\n",
            "6/6 [==============================] - 1s 31ms/step - loss: 0.7730 - mean_absolute_error: 0.7479 - val_loss: 0.7140 - val_mean_absolute_error: 0.7204\n",
            "Epoch 2/100\n",
            "6/6 [==============================] - 0s 7ms/step - loss: 0.6229 - mean_absolute_error: 0.6621 - val_loss: 0.6121 - val_mean_absolute_error: 0.6426\n",
            "Epoch 3/100\n",
            "6/6 [==============================] - 0s 7ms/step - loss: 0.5494 - mean_absolute_error: 0.6100 - val_loss: 0.5543 - val_mean_absolute_error: 0.5999\n",
            "Epoch 4/100\n",
            "6/6 [==============================] - 0s 8ms/step - loss: 0.5162 - mean_absolute_error: 0.5851 - val_loss: 0.5170 - val_mean_absolute_error: 0.5793\n",
            "Epoch 5/100\n",
            "6/6 [==============================] - 0s 12ms/step - loss: 0.4893 - mean_absolute_error: 0.5671 - val_loss: 0.4959 - val_mean_absolute_error: 0.5709\n",
            "Epoch 6/100\n",
            "6/6 [==============================] - 0s 11ms/step - loss: 0.4682 - mean_absolute_error: 0.5538 - val_loss: 0.4855 - val_mean_absolute_error: 0.5678\n",
            "Epoch 7/100\n",
            "6/6 [==============================] - 0s 8ms/step - loss: 0.4604 - mean_absolute_error: 0.5485 - val_loss: 0.4851 - val_mean_absolute_error: 0.5736\n",
            "Epoch 8/100\n",
            "6/6 [==============================] - 0s 7ms/step - loss: 0.4525 - mean_absolute_error: 0.5422 - val_loss: 0.4810 - val_mean_absolute_error: 0.5712\n",
            "Epoch 9/100\n",
            "6/6 [==============================] - 0s 8ms/step - loss: 0.4475 - mean_absolute_error: 0.5368 - val_loss: 0.4826 - val_mean_absolute_error: 0.5705\n",
            "Epoch 10/100\n",
            "6/6 [==============================] - 0s 7ms/step - loss: 0.4420 - mean_absolute_error: 0.5327 - val_loss: 0.4789 - val_mean_absolute_error: 0.5667\n",
            "Epoch 11/100\n",
            "6/6 [==============================] - 0s 13ms/step - loss: 0.4361 - mean_absolute_error: 0.5294 - val_loss: 0.4721 - val_mean_absolute_error: 0.5592\n",
            "Epoch 12/100\n",
            "6/6 [==============================] - 0s 8ms/step - loss: 0.4321 - mean_absolute_error: 0.5288 - val_loss: 0.4697 - val_mean_absolute_error: 0.5567\n",
            "Epoch 13/100\n",
            "6/6 [==============================] - 0s 11ms/step - loss: 0.4300 - mean_absolute_error: 0.5279 - val_loss: 0.4684 - val_mean_absolute_error: 0.5550\n",
            "Epoch 14/100\n",
            "6/6 [==============================] - 0s 8ms/step - loss: 0.4264 - mean_absolute_error: 0.5268 - val_loss: 0.4684 - val_mean_absolute_error: 0.5545\n",
            "Epoch 15/100\n",
            "6/6 [==============================] - 0s 7ms/step - loss: 0.4218 - mean_absolute_error: 0.5236 - val_loss: 0.4668 - val_mean_absolute_error: 0.5526\n",
            "Epoch 16/100\n",
            "6/6 [==============================] - 0s 7ms/step - loss: 0.4183 - mean_absolute_error: 0.5204 - val_loss: 0.4668 - val_mean_absolute_error: 0.5495\n",
            "Epoch 17/100\n",
            "6/6 [==============================] - 0s 7ms/step - loss: 0.4153 - mean_absolute_error: 0.5171 - val_loss: 0.4669 - val_mean_absolute_error: 0.5483\n",
            "Epoch 18/100\n",
            "6/6 [==============================] - 0s 7ms/step - loss: 0.4124 - mean_absolute_error: 0.5150 - val_loss: 0.4628 - val_mean_absolute_error: 0.5424\n",
            "Epoch 19/100\n",
            "6/6 [==============================] - 0s 7ms/step - loss: 0.4103 - mean_absolute_error: 0.5130 - val_loss: 0.4611 - val_mean_absolute_error: 0.5397\n",
            "Epoch 20/100\n",
            "6/6 [==============================] - 0s 8ms/step - loss: 0.4075 - mean_absolute_error: 0.5115 - val_loss: 0.4599 - val_mean_absolute_error: 0.5364\n",
            "Epoch 21/100\n",
            "6/6 [==============================] - 0s 7ms/step - loss: 0.4039 - mean_absolute_error: 0.5104 - val_loss: 0.4561 - val_mean_absolute_error: 0.5363\n",
            "Epoch 22/100\n",
            "6/6 [==============================] - 0s 12ms/step - loss: 0.4042 - mean_absolute_error: 0.5116 - val_loss: 0.4501 - val_mean_absolute_error: 0.5311\n",
            "Epoch 23/100\n",
            "6/6 [==============================] - 0s 12ms/step - loss: 0.3997 - mean_absolute_error: 0.5085 - val_loss: 0.4552 - val_mean_absolute_error: 0.5379\n",
            "Epoch 24/100\n",
            "6/6 [==============================] - 0s 7ms/step - loss: 0.3962 - mean_absolute_error: 0.5062 - val_loss: 0.4592 - val_mean_absolute_error: 0.5413\n",
            "Epoch 25/100\n",
            "6/6 [==============================] - 0s 8ms/step - loss: 0.3946 - mean_absolute_error: 0.5049 - val_loss: 0.4588 - val_mean_absolute_error: 0.5388\n",
            "Epoch 26/100\n",
            "6/6 [==============================] - 0s 7ms/step - loss: 0.3918 - mean_absolute_error: 0.5019 - val_loss: 0.4560 - val_mean_absolute_error: 0.5332\n",
            "Epoch 27/100\n",
            "6/6 [==============================] - 0s 8ms/step - loss: 0.3899 - mean_absolute_error: 0.5009 - val_loss: 0.4561 - val_mean_absolute_error: 0.5341\n",
            "Epoch 28/100\n",
            "6/6 [==============================] - 0s 7ms/step - loss: 0.3891 - mean_absolute_error: 0.5011 - val_loss: 0.4604 - val_mean_absolute_error: 0.5346\n",
            "Epoch 29/100\n",
            "6/6 [==============================] - 0s 8ms/step - loss: 0.3865 - mean_absolute_error: 0.4992 - val_loss: 0.4652 - val_mean_absolute_error: 0.5402\n",
            "Epoch 30/100\n",
            "6/6 [==============================] - 0s 9ms/step - loss: 0.3843 - mean_absolute_error: 0.4980 - val_loss: 0.4658 - val_mean_absolute_error: 0.5390\n",
            "Epoch 31/100\n",
            "6/6 [==============================] - 0s 7ms/step - loss: 0.3829 - mean_absolute_error: 0.4961 - val_loss: 0.4645 - val_mean_absolute_error: 0.5365\n",
            "Epoch 32/100\n",
            "6/6 [==============================] - 0s 7ms/step - loss: 0.3813 - mean_absolute_error: 0.4939 - val_loss: 0.4573 - val_mean_absolute_error: 0.5270\n",
            "Epoch 33/100\n",
            "6/6 [==============================] - 0s 8ms/step - loss: 0.3795 - mean_absolute_error: 0.4920 - val_loss: 0.4536 - val_mean_absolute_error: 0.5276\n",
            "Epoch 34/100\n",
            "6/6 [==============================] - 0s 8ms/step - loss: 0.3766 - mean_absolute_error: 0.4900 - val_loss: 0.4549 - val_mean_absolute_error: 0.5308\n",
            "Epoch 35/100\n",
            "6/6 [==============================] - 0s 8ms/step - loss: 0.3746 - mean_absolute_error: 0.4882 - val_loss: 0.4587 - val_mean_absolute_error: 0.5336\n",
            "Epoch 36/100\n",
            "6/6 [==============================] - 0s 7ms/step - loss: 0.3736 - mean_absolute_error: 0.4884 - val_loss: 0.4635 - val_mean_absolute_error: 0.5363\n",
            "Epoch 37/100\n",
            "6/6 [==============================] - 0s 7ms/step - loss: 0.3727 - mean_absolute_error: 0.4872 - val_loss: 0.4649 - val_mean_absolute_error: 0.5325\n",
            "Epoch 38/100\n",
            "6/6 [==============================] - 0s 8ms/step - loss: 0.3701 - mean_absolute_error: 0.4850 - val_loss: 0.4610 - val_mean_absolute_error: 0.5291\n",
            "Epoch 39/100\n",
            "6/6 [==============================] - 0s 7ms/step - loss: 0.3686 - mean_absolute_error: 0.4838 - val_loss: 0.4593 - val_mean_absolute_error: 0.5283\n",
            "Epoch 40/100\n",
            "6/6 [==============================] - 0s 13ms/step - loss: 0.3676 - mean_absolute_error: 0.4823 - val_loss: 0.4596 - val_mean_absolute_error: 0.5284\n",
            "Epoch 41/100\n",
            "6/6 [==============================] - 0s 8ms/step - loss: 0.3661 - mean_absolute_error: 0.4813 - val_loss: 0.4660 - val_mean_absolute_error: 0.5337\n",
            "Epoch 42/100\n",
            "6/6 [==============================] - 0s 7ms/step - loss: 0.3645 - mean_absolute_error: 0.4800 - val_loss: 0.4683 - val_mean_absolute_error: 0.5316\n",
            "Epoch 43/100\n",
            "6/6 [==============================] - 0s 8ms/step - loss: 0.3635 - mean_absolute_error: 0.4792 - val_loss: 0.4630 - val_mean_absolute_error: 0.5296\n",
            "Epoch 44/100\n",
            "6/6 [==============================] - 0s 8ms/step - loss: 0.3629 - mean_absolute_error: 0.4791 - val_loss: 0.4518 - val_mean_absolute_error: 0.5267\n",
            "Epoch 45/100\n",
            "6/6 [==============================] - 0s 7ms/step - loss: 0.3631 - mean_absolute_error: 0.4791 - val_loss: 0.4479 - val_mean_absolute_error: 0.5233\n",
            "Epoch 46/100\n",
            "6/6 [==============================] - 0s 7ms/step - loss: 0.3595 - mean_absolute_error: 0.4771 - val_loss: 0.4500 - val_mean_absolute_error: 0.5215\n",
            "Epoch 47/100\n",
            "6/6 [==============================] - 0s 8ms/step - loss: 0.3589 - mean_absolute_error: 0.4782 - val_loss: 0.4574 - val_mean_absolute_error: 0.5262\n",
            "Epoch 48/100\n",
            "6/6 [==============================] - 0s 7ms/step - loss: 0.3586 - mean_absolute_error: 0.4775 - val_loss: 0.4528 - val_mean_absolute_error: 0.5183\n",
            "Epoch 49/100\n",
            "6/6 [==============================] - 0s 7ms/step - loss: 0.3545 - mean_absolute_error: 0.4747 - val_loss: 0.4528 - val_mean_absolute_error: 0.5184\n",
            "Epoch 50/100\n",
            "6/6 [==============================] - 0s 7ms/step - loss: 0.3531 - mean_absolute_error: 0.4743 - val_loss: 0.4529 - val_mean_absolute_error: 0.5225\n",
            "Epoch 51/100\n",
            "6/6 [==============================] - 0s 9ms/step - loss: 0.3529 - mean_absolute_error: 0.4734 - val_loss: 0.4586 - val_mean_absolute_error: 0.5242\n",
            "Epoch 52/100\n",
            "6/6 [==============================] - 0s 9ms/step - loss: 0.3518 - mean_absolute_error: 0.4714 - val_loss: 0.4658 - val_mean_absolute_error: 0.5273\n",
            "Epoch 53/100\n",
            "6/6 [==============================] - 0s 8ms/step - loss: 0.3507 - mean_absolute_error: 0.4709 - val_loss: 0.4650 - val_mean_absolute_error: 0.5314\n",
            "Epoch 54/100\n",
            "6/6 [==============================] - 0s 7ms/step - loss: 0.3485 - mean_absolute_error: 0.4699 - val_loss: 0.4616 - val_mean_absolute_error: 0.5297\n",
            "Epoch 55/100\n",
            "6/6 [==============================] - 0s 8ms/step - loss: 0.3477 - mean_absolute_error: 0.4700 - val_loss: 0.4609 - val_mean_absolute_error: 0.5313\n",
            "Epoch 56/100\n",
            "6/6 [==============================] - 0s 7ms/step - loss: 0.3478 - mean_absolute_error: 0.4695 - val_loss: 0.4559 - val_mean_absolute_error: 0.5190\n",
            "Epoch 57/100\n",
            "6/6 [==============================] - 0s 7ms/step - loss: 0.3484 - mean_absolute_error: 0.4679 - val_loss: 0.4627 - val_mean_absolute_error: 0.5217\n",
            "Epoch 58/100\n",
            "6/6 [==============================] - 0s 7ms/step - loss: 0.3464 - mean_absolute_error: 0.4673 - val_loss: 0.4626 - val_mean_absolute_error: 0.5288\n",
            "Epoch 59/100\n",
            "6/6 [==============================] - 0s 7ms/step - loss: 0.3431 - mean_absolute_error: 0.4678 - val_loss: 0.4684 - val_mean_absolute_error: 0.5371\n",
            "Epoch 60/100\n",
            "6/6 [==============================] - 0s 7ms/step - loss: 0.3427 - mean_absolute_error: 0.4684 - val_loss: 0.4668 - val_mean_absolute_error: 0.5361\n",
            "Epoch 61/100\n",
            "6/6 [==============================] - 0s 14ms/step - loss: 0.3418 - mean_absolute_error: 0.4665 - val_loss: 0.4615 - val_mean_absolute_error: 0.5285\n",
            "Epoch 62/100\n",
            "6/6 [==============================] - 0s 9ms/step - loss: 0.3392 - mean_absolute_error: 0.4625 - val_loss: 0.4657 - val_mean_absolute_error: 0.5332\n",
            "Epoch 63/100\n",
            "6/6 [==============================] - 0s 8ms/step - loss: 0.3386 - mean_absolute_error: 0.4615 - val_loss: 0.4684 - val_mean_absolute_error: 0.5342\n",
            "Epoch 64/100\n",
            "6/6 [==============================] - 0s 9ms/step - loss: 0.3387 - mean_absolute_error: 0.4630 - val_loss: 0.4670 - val_mean_absolute_error: 0.5371\n",
            "Epoch 65/100\n",
            "6/6 [==============================] - 0s 8ms/step - loss: 0.3371 - mean_absolute_error: 0.4596 - val_loss: 0.4667 - val_mean_absolute_error: 0.5270\n",
            "Epoch 66/100\n",
            "6/6 [==============================] - 0s 8ms/step - loss: 0.3346 - mean_absolute_error: 0.4580 - val_loss: 0.4618 - val_mean_absolute_error: 0.5238\n",
            "Epoch 67/100\n",
            "6/6 [==============================] - 0s 9ms/step - loss: 0.3358 - mean_absolute_error: 0.4610 - val_loss: 0.4607 - val_mean_absolute_error: 0.5325\n",
            "Epoch 68/100\n",
            "6/6 [==============================] - 0s 8ms/step - loss: 0.3370 - mean_absolute_error: 0.4638 - val_loss: 0.4665 - val_mean_absolute_error: 0.5401\n",
            "Epoch 69/100\n",
            "6/6 [==============================] - 0s 8ms/step - loss: 0.3349 - mean_absolute_error: 0.4624 - val_loss: 0.4696 - val_mean_absolute_error: 0.5398\n",
            "Epoch 70/100\n",
            "6/6 [==============================] - 0s 7ms/step - loss: 0.3321 - mean_absolute_error: 0.4585 - val_loss: 0.4788 - val_mean_absolute_error: 0.5375\n",
            "Epoch 71/100\n",
            "6/6 [==============================] - 0s 7ms/step - loss: 0.3313 - mean_absolute_error: 0.4559 - val_loss: 0.4763 - val_mean_absolute_error: 0.5376\n",
            "Epoch 72/100\n",
            "6/6 [==============================] - 0s 7ms/step - loss: 0.3287 - mean_absolute_error: 0.4555 - val_loss: 0.4679 - val_mean_absolute_error: 0.5347\n",
            "Epoch 73/100\n",
            "6/6 [==============================] - 0s 7ms/step - loss: 0.3273 - mean_absolute_error: 0.4548 - val_loss: 0.4666 - val_mean_absolute_error: 0.5331\n",
            "Epoch 74/100\n",
            "6/6 [==============================] - 0s 8ms/step - loss: 0.3277 - mean_absolute_error: 0.4555 - val_loss: 0.4668 - val_mean_absolute_error: 0.5346\n",
            "Epoch 75/100\n",
            "6/6 [==============================] - 0s 9ms/step - loss: 0.3257 - mean_absolute_error: 0.4546 - val_loss: 0.4681 - val_mean_absolute_error: 0.5334\n",
            "Epoch 76/100\n",
            "6/6 [==============================] - 0s 8ms/step - loss: 0.3248 - mean_absolute_error: 0.4527 - val_loss: 0.4731 - val_mean_absolute_error: 0.5332\n",
            "Epoch 77/100\n",
            "6/6 [==============================] - 0s 8ms/step - loss: 0.3239 - mean_absolute_error: 0.4520 - val_loss: 0.4709 - val_mean_absolute_error: 0.5331\n",
            "Epoch 78/100\n",
            "6/6 [==============================] - 0s 7ms/step - loss: 0.3237 - mean_absolute_error: 0.4531 - val_loss: 0.4689 - val_mean_absolute_error: 0.5332\n",
            "Epoch 79/100\n",
            "6/6 [==============================] - 0s 8ms/step - loss: 0.3236 - mean_absolute_error: 0.4523 - val_loss: 0.4724 - val_mean_absolute_error: 0.5361\n",
            "Epoch 80/100\n",
            "6/6 [==============================] - 0s 9ms/step - loss: 0.3207 - mean_absolute_error: 0.4498 - val_loss: 0.4750 - val_mean_absolute_error: 0.5399\n",
            "Epoch 81/100\n",
            "6/6 [==============================] - 0s 9ms/step - loss: 0.3210 - mean_absolute_error: 0.4499 - val_loss: 0.4783 - val_mean_absolute_error: 0.5423\n",
            "Epoch 82/100\n",
            "6/6 [==============================] - 0s 8ms/step - loss: 0.3194 - mean_absolute_error: 0.4483 - val_loss: 0.4762 - val_mean_absolute_error: 0.5411\n",
            "Epoch 83/100\n",
            "6/6 [==============================] - 0s 7ms/step - loss: 0.3182 - mean_absolute_error: 0.4483 - val_loss: 0.4696 - val_mean_absolute_error: 0.5353\n",
            "Epoch 84/100\n",
            "6/6 [==============================] - 0s 7ms/step - loss: 0.3190 - mean_absolute_error: 0.4471 - val_loss: 0.4689 - val_mean_absolute_error: 0.5265\n",
            "Epoch 85/100\n",
            "6/6 [==============================] - 0s 7ms/step - loss: 0.3163 - mean_absolute_error: 0.4448 - val_loss: 0.4738 - val_mean_absolute_error: 0.5327\n",
            "Epoch 86/100\n",
            "6/6 [==============================] - 0s 7ms/step - loss: 0.3161 - mean_absolute_error: 0.4453 - val_loss: 0.4789 - val_mean_absolute_error: 0.5416\n",
            "Epoch 87/100\n",
            "6/6 [==============================] - 0s 8ms/step - loss: 0.3141 - mean_absolute_error: 0.4448 - val_loss: 0.4768 - val_mean_absolute_error: 0.5365\n",
            "Epoch 88/100\n",
            "6/6 [==============================] - 0s 7ms/step - loss: 0.3125 - mean_absolute_error: 0.4420 - val_loss: 0.4769 - val_mean_absolute_error: 0.5358\n",
            "Epoch 89/100\n",
            "6/6 [==============================] - 0s 7ms/step - loss: 0.3142 - mean_absolute_error: 0.4431 - val_loss: 0.4788 - val_mean_absolute_error: 0.5379\n",
            "Epoch 90/100\n",
            "6/6 [==============================] - 0s 7ms/step - loss: 0.3095 - mean_absolute_error: 0.4393 - val_loss: 0.4895 - val_mean_absolute_error: 0.5432\n",
            "Epoch 91/100\n",
            "6/6 [==============================] - 0s 7ms/step - loss: 0.3126 - mean_absolute_error: 0.4415 - val_loss: 0.4851 - val_mean_absolute_error: 0.5391\n",
            "Epoch 92/100\n",
            "6/6 [==============================] - 0s 7ms/step - loss: 0.3124 - mean_absolute_error: 0.4422 - val_loss: 0.4756 - val_mean_absolute_error: 0.5379\n",
            "Epoch 93/100\n",
            "6/6 [==============================] - 0s 10ms/step - loss: 0.3083 - mean_absolute_error: 0.4398 - val_loss: 0.4743 - val_mean_absolute_error: 0.5339\n",
            "Epoch 94/100\n",
            "6/6 [==============================] - 0s 13ms/step - loss: 0.3090 - mean_absolute_error: 0.4405 - val_loss: 0.4704 - val_mean_absolute_error: 0.5280\n",
            "Epoch 95/100\n",
            "6/6 [==============================] - 0s 7ms/step - loss: 0.3076 - mean_absolute_error: 0.4390 - val_loss: 0.4753 - val_mean_absolute_error: 0.5370\n",
            "Epoch 96/100\n",
            "6/6 [==============================] - 0s 7ms/step - loss: 0.3066 - mean_absolute_error: 0.4380 - val_loss: 0.4869 - val_mean_absolute_error: 0.5422\n",
            "Epoch 97/100\n",
            "6/6 [==============================] - 0s 7ms/step - loss: 0.3055 - mean_absolute_error: 0.4355 - val_loss: 0.4917 - val_mean_absolute_error: 0.5389\n",
            "Epoch 98/100\n",
            "6/6 [==============================] - 0s 7ms/step - loss: 0.3057 - mean_absolute_error: 0.4346 - val_loss: 0.4872 - val_mean_absolute_error: 0.5354\n",
            "Epoch 99/100\n",
            "6/6 [==============================] - 0s 7ms/step - loss: 0.3024 - mean_absolute_error: 0.4334 - val_loss: 0.4832 - val_mean_absolute_error: 0.5343\n",
            "Epoch 100/100\n",
            "6/6 [==============================] - 0s 8ms/step - loss: 0.2995 - mean_absolute_error: 0.4332 - val_loss: 0.4749 - val_mean_absolute_error: 0.5323\n",
            "2/2 - 0s - loss: 0.6605 - mean_absolute_error: 0.6324 - 19ms/epoch - 10ms/step\n"
          ]
        },
        {
          "output_type": "display_data",
          "data": {
            "text/plain": [
              "<Figure size 432x288 with 1 Axes>"
            ],
            "image/svg+xml": "<?xml version=\"1.0\" encoding=\"utf-8\" standalone=\"no\"?>\n<!DOCTYPE svg PUBLIC \"-//W3C//DTD SVG 1.1//EN\"\n  \"http://www.w3.org/Graphics/SVG/1.1/DTD/svg11.dtd\">\n<!-- Created with matplotlib (https://matplotlib.org/) -->\n<svg height=\"277.314375pt\" version=\"1.1\" viewBox=\"0 0 385.78125 277.314375\" width=\"385.78125pt\" xmlns=\"http://www.w3.org/2000/svg\" xmlns:xlink=\"http://www.w3.org/1999/xlink\">\n <defs>\n  <style type=\"text/css\">\n*{stroke-linecap:butt;stroke-linejoin:round;}\n  </style>\n </defs>\n <g id=\"figure_1\">\n  <g id=\"patch_1\">\n   <path d=\"M 0 277.314375 \nL 385.78125 277.314375 \nL 385.78125 0 \nL 0 0 \nz\n\" style=\"fill:none;\"/>\n  </g>\n  <g id=\"axes_1\">\n   <g id=\"patch_2\">\n    <path d=\"M 43.78125 239.758125 \nL 378.58125 239.758125 \nL 378.58125 22.318125 \nL 43.78125 22.318125 \nz\n\" style=\"fill:#ffffff;\"/>\n   </g>\n   <g id=\"matplotlib.axis_1\">\n    <g id=\"xtick_1\">\n     <g id=\"line2d_1\">\n      <defs>\n       <path d=\"M 0 0 \nL 0 3.5 \n\" id=\"m2455fd3c29\" style=\"stroke:#000000;stroke-width:0.8;\"/>\n      </defs>\n      <g>\n       <use style=\"stroke:#000000;stroke-width:0.8;\" x=\"58.999432\" xlink:href=\"#m2455fd3c29\" y=\"239.758125\"/>\n      </g>\n     </g>\n     <g id=\"text_1\">\n      <!-- 0 -->\n      <defs>\n       <path d=\"M 31.78125 66.40625 \nQ 24.171875 66.40625 20.328125 58.90625 \nQ 16.5 51.421875 16.5 36.375 \nQ 16.5 21.390625 20.328125 13.890625 \nQ 24.171875 6.390625 31.78125 6.390625 \nQ 39.453125 6.390625 43.28125 13.890625 \nQ 47.125 21.390625 47.125 36.375 \nQ 47.125 51.421875 43.28125 58.90625 \nQ 39.453125 66.40625 31.78125 66.40625 \nz\nM 31.78125 74.21875 \nQ 44.046875 74.21875 50.515625 64.515625 \nQ 56.984375 54.828125 56.984375 36.375 \nQ 56.984375 17.96875 50.515625 8.265625 \nQ 44.046875 -1.421875 31.78125 -1.421875 \nQ 19.53125 -1.421875 13.0625 8.265625 \nQ 6.59375 17.96875 6.59375 36.375 \nQ 6.59375 54.828125 13.0625 64.515625 \nQ 19.53125 74.21875 31.78125 74.21875 \nz\n\" id=\"DejaVuSans-48\"/>\n      </defs>\n      <g transform=\"translate(55.818182 254.356562)scale(0.1 -0.1)\">\n       <use xlink:href=\"#DejaVuSans-48\"/>\n      </g>\n     </g>\n    </g>\n    <g id=\"xtick_2\">\n     <g id=\"line2d_2\">\n      <g>\n       <use style=\"stroke:#000000;stroke-width:0.8;\" x=\"120.487035\" xlink:href=\"#m2455fd3c29\" y=\"239.758125\"/>\n      </g>\n     </g>\n     <g id=\"text_2\">\n      <!-- 20 -->\n      <defs>\n       <path d=\"M 19.1875 8.296875 \nL 53.609375 8.296875 \nL 53.609375 0 \nL 7.328125 0 \nL 7.328125 8.296875 \nQ 12.9375 14.109375 22.625 23.890625 \nQ 32.328125 33.6875 34.8125 36.53125 \nQ 39.546875 41.84375 41.421875 45.53125 \nQ 43.3125 49.21875 43.3125 52.78125 \nQ 43.3125 58.59375 39.234375 62.25 \nQ 35.15625 65.921875 28.609375 65.921875 \nQ 23.96875 65.921875 18.8125 64.3125 \nQ 13.671875 62.703125 7.8125 59.421875 \nL 7.8125 69.390625 \nQ 13.765625 71.78125 18.9375 73 \nQ 24.125 74.21875 28.421875 74.21875 \nQ 39.75 74.21875 46.484375 68.546875 \nQ 53.21875 62.890625 53.21875 53.421875 \nQ 53.21875 48.921875 51.53125 44.890625 \nQ 49.859375 40.875 45.40625 35.40625 \nQ 44.1875 33.984375 37.640625 27.21875 \nQ 31.109375 20.453125 19.1875 8.296875 \nz\n\" id=\"DejaVuSans-50\"/>\n      </defs>\n      <g transform=\"translate(114.124535 254.356562)scale(0.1 -0.1)\">\n       <use xlink:href=\"#DejaVuSans-50\"/>\n       <use x=\"63.623047\" xlink:href=\"#DejaVuSans-48\"/>\n      </g>\n     </g>\n    </g>\n    <g id=\"xtick_3\">\n     <g id=\"line2d_3\">\n      <g>\n       <use style=\"stroke:#000000;stroke-width:0.8;\" x=\"181.974638\" xlink:href=\"#m2455fd3c29\" y=\"239.758125\"/>\n      </g>\n     </g>\n     <g id=\"text_3\">\n      <!-- 40 -->\n      <defs>\n       <path d=\"M 37.796875 64.3125 \nL 12.890625 25.390625 \nL 37.796875 25.390625 \nz\nM 35.203125 72.90625 \nL 47.609375 72.90625 \nL 47.609375 25.390625 \nL 58.015625 25.390625 \nL 58.015625 17.1875 \nL 47.609375 17.1875 \nL 47.609375 0 \nL 37.796875 0 \nL 37.796875 17.1875 \nL 4.890625 17.1875 \nL 4.890625 26.703125 \nz\n\" id=\"DejaVuSans-52\"/>\n      </defs>\n      <g transform=\"translate(175.612138 254.356562)scale(0.1 -0.1)\">\n       <use xlink:href=\"#DejaVuSans-52\"/>\n       <use x=\"63.623047\" xlink:href=\"#DejaVuSans-48\"/>\n      </g>\n     </g>\n    </g>\n    <g id=\"xtick_4\">\n     <g id=\"line2d_4\">\n      <g>\n       <use style=\"stroke:#000000;stroke-width:0.8;\" x=\"243.462242\" xlink:href=\"#m2455fd3c29\" y=\"239.758125\"/>\n      </g>\n     </g>\n     <g id=\"text_4\">\n      <!-- 60 -->\n      <defs>\n       <path d=\"M 33.015625 40.375 \nQ 26.375 40.375 22.484375 35.828125 \nQ 18.609375 31.296875 18.609375 23.390625 \nQ 18.609375 15.53125 22.484375 10.953125 \nQ 26.375 6.390625 33.015625 6.390625 \nQ 39.65625 6.390625 43.53125 10.953125 \nQ 47.40625 15.53125 47.40625 23.390625 \nQ 47.40625 31.296875 43.53125 35.828125 \nQ 39.65625 40.375 33.015625 40.375 \nz\nM 52.59375 71.296875 \nL 52.59375 62.3125 \nQ 48.875 64.0625 45.09375 64.984375 \nQ 41.3125 65.921875 37.59375 65.921875 \nQ 27.828125 65.921875 22.671875 59.328125 \nQ 17.53125 52.734375 16.796875 39.40625 \nQ 19.671875 43.65625 24.015625 45.921875 \nQ 28.375 48.1875 33.59375 48.1875 \nQ 44.578125 48.1875 50.953125 41.515625 \nQ 57.328125 34.859375 57.328125 23.390625 \nQ 57.328125 12.15625 50.6875 5.359375 \nQ 44.046875 -1.421875 33.015625 -1.421875 \nQ 20.359375 -1.421875 13.671875 8.265625 \nQ 6.984375 17.96875 6.984375 36.375 \nQ 6.984375 53.65625 15.1875 63.9375 \nQ 23.390625 74.21875 37.203125 74.21875 \nQ 40.921875 74.21875 44.703125 73.484375 \nQ 48.484375 72.75 52.59375 71.296875 \nz\n\" id=\"DejaVuSans-54\"/>\n      </defs>\n      <g transform=\"translate(237.099742 254.356562)scale(0.1 -0.1)\">\n       <use xlink:href=\"#DejaVuSans-54\"/>\n       <use x=\"63.623047\" xlink:href=\"#DejaVuSans-48\"/>\n      </g>\n     </g>\n    </g>\n    <g id=\"xtick_5\">\n     <g id=\"line2d_5\">\n      <g>\n       <use style=\"stroke:#000000;stroke-width:0.8;\" x=\"304.949845\" xlink:href=\"#m2455fd3c29\" y=\"239.758125\"/>\n      </g>\n     </g>\n     <g id=\"text_5\">\n      <!-- 80 -->\n      <defs>\n       <path d=\"M 31.78125 34.625 \nQ 24.75 34.625 20.71875 30.859375 \nQ 16.703125 27.09375 16.703125 20.515625 \nQ 16.703125 13.921875 20.71875 10.15625 \nQ 24.75 6.390625 31.78125 6.390625 \nQ 38.8125 6.390625 42.859375 10.171875 \nQ 46.921875 13.96875 46.921875 20.515625 \nQ 46.921875 27.09375 42.890625 30.859375 \nQ 38.875 34.625 31.78125 34.625 \nz\nM 21.921875 38.8125 \nQ 15.578125 40.375 12.03125 44.71875 \nQ 8.5 49.078125 8.5 55.328125 \nQ 8.5 64.0625 14.71875 69.140625 \nQ 20.953125 74.21875 31.78125 74.21875 \nQ 42.671875 74.21875 48.875 69.140625 \nQ 55.078125 64.0625 55.078125 55.328125 \nQ 55.078125 49.078125 51.53125 44.71875 \nQ 48 40.375 41.703125 38.8125 \nQ 48.828125 37.15625 52.796875 32.3125 \nQ 56.78125 27.484375 56.78125 20.515625 \nQ 56.78125 9.90625 50.3125 4.234375 \nQ 43.84375 -1.421875 31.78125 -1.421875 \nQ 19.734375 -1.421875 13.25 4.234375 \nQ 6.78125 9.90625 6.78125 20.515625 \nQ 6.78125 27.484375 10.78125 32.3125 \nQ 14.796875 37.15625 21.921875 38.8125 \nz\nM 18.3125 54.390625 \nQ 18.3125 48.734375 21.84375 45.5625 \nQ 25.390625 42.390625 31.78125 42.390625 \nQ 38.140625 42.390625 41.71875 45.5625 \nQ 45.3125 48.734375 45.3125 54.390625 \nQ 45.3125 60.0625 41.71875 63.234375 \nQ 38.140625 66.40625 31.78125 66.40625 \nQ 25.390625 66.40625 21.84375 63.234375 \nQ 18.3125 60.0625 18.3125 54.390625 \nz\n\" id=\"DejaVuSans-56\"/>\n      </defs>\n      <g transform=\"translate(298.587345 254.356562)scale(0.1 -0.1)\">\n       <use xlink:href=\"#DejaVuSans-56\"/>\n       <use x=\"63.623047\" xlink:href=\"#DejaVuSans-48\"/>\n      </g>\n     </g>\n    </g>\n    <g id=\"xtick_6\">\n     <g id=\"line2d_6\">\n      <g>\n       <use style=\"stroke:#000000;stroke-width:0.8;\" x=\"366.437448\" xlink:href=\"#m2455fd3c29\" y=\"239.758125\"/>\n      </g>\n     </g>\n     <g id=\"text_6\">\n      <!-- 100 -->\n      <defs>\n       <path d=\"M 12.40625 8.296875 \nL 28.515625 8.296875 \nL 28.515625 63.921875 \nL 10.984375 60.40625 \nL 10.984375 69.390625 \nL 28.421875 72.90625 \nL 38.28125 72.90625 \nL 38.28125 8.296875 \nL 54.390625 8.296875 \nL 54.390625 0 \nL 12.40625 0 \nz\n\" id=\"DejaVuSans-49\"/>\n      </defs>\n      <g transform=\"translate(356.893698 254.356562)scale(0.1 -0.1)\">\n       <use xlink:href=\"#DejaVuSans-49\"/>\n       <use x=\"63.623047\" xlink:href=\"#DejaVuSans-48\"/>\n       <use x=\"127.246094\" xlink:href=\"#DejaVuSans-48\"/>\n      </g>\n     </g>\n    </g>\n    <g id=\"text_7\">\n     <!-- Epoch -->\n     <defs>\n      <path d=\"M 9.8125 72.90625 \nL 55.90625 72.90625 \nL 55.90625 64.59375 \nL 19.671875 64.59375 \nL 19.671875 43.015625 \nL 54.390625 43.015625 \nL 54.390625 34.71875 \nL 19.671875 34.71875 \nL 19.671875 8.296875 \nL 56.78125 8.296875 \nL 56.78125 0 \nL 9.8125 0 \nz\n\" id=\"DejaVuSans-69\"/>\n      <path d=\"M 18.109375 8.203125 \nL 18.109375 -20.796875 \nL 9.078125 -20.796875 \nL 9.078125 54.6875 \nL 18.109375 54.6875 \nL 18.109375 46.390625 \nQ 20.953125 51.265625 25.265625 53.625 \nQ 29.59375 56 35.59375 56 \nQ 45.5625 56 51.78125 48.09375 \nQ 58.015625 40.1875 58.015625 27.296875 \nQ 58.015625 14.40625 51.78125 6.484375 \nQ 45.5625 -1.421875 35.59375 -1.421875 \nQ 29.59375 -1.421875 25.265625 0.953125 \nQ 20.953125 3.328125 18.109375 8.203125 \nz\nM 48.6875 27.296875 \nQ 48.6875 37.203125 44.609375 42.84375 \nQ 40.53125 48.484375 33.40625 48.484375 \nQ 26.265625 48.484375 22.1875 42.84375 \nQ 18.109375 37.203125 18.109375 27.296875 \nQ 18.109375 17.390625 22.1875 11.75 \nQ 26.265625 6.109375 33.40625 6.109375 \nQ 40.53125 6.109375 44.609375 11.75 \nQ 48.6875 17.390625 48.6875 27.296875 \nz\n\" id=\"DejaVuSans-112\"/>\n      <path d=\"M 30.609375 48.390625 \nQ 23.390625 48.390625 19.1875 42.75 \nQ 14.984375 37.109375 14.984375 27.296875 \nQ 14.984375 17.484375 19.15625 11.84375 \nQ 23.34375 6.203125 30.609375 6.203125 \nQ 37.796875 6.203125 41.984375 11.859375 \nQ 46.1875 17.53125 46.1875 27.296875 \nQ 46.1875 37.015625 41.984375 42.703125 \nQ 37.796875 48.390625 30.609375 48.390625 \nz\nM 30.609375 56 \nQ 42.328125 56 49.015625 48.375 \nQ 55.71875 40.765625 55.71875 27.296875 \nQ 55.71875 13.875 49.015625 6.21875 \nQ 42.328125 -1.421875 30.609375 -1.421875 \nQ 18.84375 -1.421875 12.171875 6.21875 \nQ 5.515625 13.875 5.515625 27.296875 \nQ 5.515625 40.765625 12.171875 48.375 \nQ 18.84375 56 30.609375 56 \nz\n\" id=\"DejaVuSans-111\"/>\n      <path d=\"M 48.78125 52.59375 \nL 48.78125 44.1875 \nQ 44.96875 46.296875 41.140625 47.34375 \nQ 37.3125 48.390625 33.40625 48.390625 \nQ 24.65625 48.390625 19.8125 42.84375 \nQ 14.984375 37.3125 14.984375 27.296875 \nQ 14.984375 17.28125 19.8125 11.734375 \nQ 24.65625 6.203125 33.40625 6.203125 \nQ 37.3125 6.203125 41.140625 7.25 \nQ 44.96875 8.296875 48.78125 10.40625 \nL 48.78125 2.09375 \nQ 45.015625 0.34375 40.984375 -0.53125 \nQ 36.96875 -1.421875 32.421875 -1.421875 \nQ 20.0625 -1.421875 12.78125 6.34375 \nQ 5.515625 14.109375 5.515625 27.296875 \nQ 5.515625 40.671875 12.859375 48.328125 \nQ 20.21875 56 33.015625 56 \nQ 37.15625 56 41.109375 55.140625 \nQ 45.0625 54.296875 48.78125 52.59375 \nz\n\" id=\"DejaVuSans-99\"/>\n      <path d=\"M 54.890625 33.015625 \nL 54.890625 0 \nL 45.90625 0 \nL 45.90625 32.71875 \nQ 45.90625 40.484375 42.875 44.328125 \nQ 39.84375 48.1875 33.796875 48.1875 \nQ 26.515625 48.1875 22.3125 43.546875 \nQ 18.109375 38.921875 18.109375 30.90625 \nL 18.109375 0 \nL 9.078125 0 \nL 9.078125 75.984375 \nL 18.109375 75.984375 \nL 18.109375 46.1875 \nQ 21.34375 51.125 25.703125 53.5625 \nQ 30.078125 56 35.796875 56 \nQ 45.21875 56 50.046875 50.171875 \nQ 54.890625 44.34375 54.890625 33.015625 \nz\n\" id=\"DejaVuSans-104\"/>\n     </defs>\n     <g transform=\"translate(195.870313 268.034687)scale(0.1 -0.1)\">\n      <use xlink:href=\"#DejaVuSans-69\"/>\n      <use x=\"63.183594\" xlink:href=\"#DejaVuSans-112\"/>\n      <use x=\"126.660156\" xlink:href=\"#DejaVuSans-111\"/>\n      <use x=\"187.841797\" xlink:href=\"#DejaVuSans-99\"/>\n      <use x=\"242.822266\" xlink:href=\"#DejaVuSans-104\"/>\n     </g>\n    </g>\n   </g>\n   <g id=\"matplotlib.axis_2\">\n    <g id=\"ytick_1\">\n     <g id=\"line2d_7\">\n      <defs>\n       <path d=\"M 0 0 \nL -3.5 0 \n\" id=\"m8f51c03708\" style=\"stroke:#000000;stroke-width:0.8;\"/>\n      </defs>\n      <g>\n       <use style=\"stroke:#000000;stroke-width:0.8;\" x=\"43.78125\" xlink:href=\"#m8f51c03708\" y=\"229.682356\"/>\n      </g>\n     </g>\n     <g id=\"text_8\">\n      <!-- 0.3 -->\n      <defs>\n       <path d=\"M 10.6875 12.40625 \nL 21 12.40625 \nL 21 0 \nL 10.6875 0 \nz\n\" id=\"DejaVuSans-46\"/>\n       <path d=\"M 40.578125 39.3125 \nQ 47.65625 37.796875 51.625 33 \nQ 55.609375 28.21875 55.609375 21.1875 \nQ 55.609375 10.40625 48.1875 4.484375 \nQ 40.765625 -1.421875 27.09375 -1.421875 \nQ 22.515625 -1.421875 17.65625 -0.515625 \nQ 12.796875 0.390625 7.625 2.203125 \nL 7.625 11.71875 \nQ 11.71875 9.328125 16.59375 8.109375 \nQ 21.484375 6.890625 26.8125 6.890625 \nQ 36.078125 6.890625 40.9375 10.546875 \nQ 45.796875 14.203125 45.796875 21.1875 \nQ 45.796875 27.640625 41.28125 31.265625 \nQ 36.765625 34.90625 28.71875 34.90625 \nL 20.21875 34.90625 \nL 20.21875 43.015625 \nL 29.109375 43.015625 \nQ 36.375 43.015625 40.234375 45.921875 \nQ 44.09375 48.828125 44.09375 54.296875 \nQ 44.09375 59.90625 40.109375 62.90625 \nQ 36.140625 65.921875 28.71875 65.921875 \nQ 24.65625 65.921875 20.015625 65.03125 \nQ 15.375 64.15625 9.8125 62.3125 \nL 9.8125 71.09375 \nQ 15.4375 72.65625 20.34375 73.4375 \nQ 25.25 74.21875 29.59375 74.21875 \nQ 40.828125 74.21875 47.359375 69.109375 \nQ 53.90625 64.015625 53.90625 55.328125 \nQ 53.90625 49.265625 50.4375 45.09375 \nQ 46.96875 40.921875 40.578125 39.3125 \nz\n\" id=\"DejaVuSans-51\"/>\n      </defs>\n      <g transform=\"translate(20.878125 233.481575)scale(0.1 -0.1)\">\n       <use xlink:href=\"#DejaVuSans-48\"/>\n       <use x=\"63.623047\" xlink:href=\"#DejaVuSans-46\"/>\n       <use x=\"95.410156\" xlink:href=\"#DejaVuSans-51\"/>\n      </g>\n     </g>\n    </g>\n    <g id=\"ytick_2\">\n     <g id=\"line2d_8\">\n      <g>\n       <use style=\"stroke:#000000;stroke-width:0.8;\" x=\"43.78125\" xlink:href=\"#m8f51c03708\" y=\"187.934932\"/>\n      </g>\n     </g>\n     <g id=\"text_9\">\n      <!-- 0.4 -->\n      <g transform=\"translate(20.878125 191.734151)scale(0.1 -0.1)\">\n       <use xlink:href=\"#DejaVuSans-48\"/>\n       <use x=\"63.623047\" xlink:href=\"#DejaVuSans-46\"/>\n       <use x=\"95.410156\" xlink:href=\"#DejaVuSans-52\"/>\n      </g>\n     </g>\n    </g>\n    <g id=\"ytick_3\">\n     <g id=\"line2d_9\">\n      <g>\n       <use style=\"stroke:#000000;stroke-width:0.8;\" x=\"43.78125\" xlink:href=\"#m8f51c03708\" y=\"146.187508\"/>\n      </g>\n     </g>\n     <g id=\"text_10\">\n      <!-- 0.5 -->\n      <defs>\n       <path d=\"M 10.796875 72.90625 \nL 49.515625 72.90625 \nL 49.515625 64.59375 \nL 19.828125 64.59375 \nL 19.828125 46.734375 \nQ 21.96875 47.46875 24.109375 47.828125 \nQ 26.265625 48.1875 28.421875 48.1875 \nQ 40.625 48.1875 47.75 41.5 \nQ 54.890625 34.8125 54.890625 23.390625 \nQ 54.890625 11.625 47.5625 5.09375 \nQ 40.234375 -1.421875 26.90625 -1.421875 \nQ 22.3125 -1.421875 17.546875 -0.640625 \nQ 12.796875 0.140625 7.71875 1.703125 \nL 7.71875 11.625 \nQ 12.109375 9.234375 16.796875 8.0625 \nQ 21.484375 6.890625 26.703125 6.890625 \nQ 35.15625 6.890625 40.078125 11.328125 \nQ 45.015625 15.765625 45.015625 23.390625 \nQ 45.015625 31 40.078125 35.4375 \nQ 35.15625 39.890625 26.703125 39.890625 \nQ 22.75 39.890625 18.8125 39.015625 \nQ 14.890625 38.140625 10.796875 36.28125 \nz\n\" id=\"DejaVuSans-53\"/>\n      </defs>\n      <g transform=\"translate(20.878125 149.986727)scale(0.1 -0.1)\">\n       <use xlink:href=\"#DejaVuSans-48\"/>\n       <use x=\"63.623047\" xlink:href=\"#DejaVuSans-46\"/>\n       <use x=\"95.410156\" xlink:href=\"#DejaVuSans-53\"/>\n      </g>\n     </g>\n    </g>\n    <g id=\"ytick_4\">\n     <g id=\"line2d_10\">\n      <g>\n       <use style=\"stroke:#000000;stroke-width:0.8;\" x=\"43.78125\" xlink:href=\"#m8f51c03708\" y=\"104.440084\"/>\n      </g>\n     </g>\n     <g id=\"text_11\">\n      <!-- 0.6 -->\n      <g transform=\"translate(20.878125 108.239303)scale(0.1 -0.1)\">\n       <use xlink:href=\"#DejaVuSans-48\"/>\n       <use x=\"63.623047\" xlink:href=\"#DejaVuSans-46\"/>\n       <use x=\"95.410156\" xlink:href=\"#DejaVuSans-54\"/>\n      </g>\n     </g>\n    </g>\n    <g id=\"ytick_5\">\n     <g id=\"line2d_11\">\n      <g>\n       <use style=\"stroke:#000000;stroke-width:0.8;\" x=\"43.78125\" xlink:href=\"#m8f51c03708\" y=\"62.69266\"/>\n      </g>\n     </g>\n     <g id=\"text_12\">\n      <!-- 0.7 -->\n      <defs>\n       <path d=\"M 8.203125 72.90625 \nL 55.078125 72.90625 \nL 55.078125 68.703125 \nL 28.609375 0 \nL 18.3125 0 \nL 43.21875 64.59375 \nL 8.203125 64.59375 \nz\n\" id=\"DejaVuSans-55\"/>\n      </defs>\n      <g transform=\"translate(20.878125 66.491879)scale(0.1 -0.1)\">\n       <use xlink:href=\"#DejaVuSans-48\"/>\n       <use x=\"63.623047\" xlink:href=\"#DejaVuSans-46\"/>\n       <use x=\"95.410156\" xlink:href=\"#DejaVuSans-55\"/>\n      </g>\n     </g>\n    </g>\n    <g id=\"text_13\">\n     <!-- Loss -->\n     <defs>\n      <path d=\"M 9.8125 72.90625 \nL 19.671875 72.90625 \nL 19.671875 8.296875 \nL 55.171875 8.296875 \nL 55.171875 0 \nL 9.8125 0 \nz\n\" id=\"DejaVuSans-76\"/>\n      <path d=\"M 44.28125 53.078125 \nL 44.28125 44.578125 \nQ 40.484375 46.53125 36.375 47.5 \nQ 32.28125 48.484375 27.875 48.484375 \nQ 21.1875 48.484375 17.84375 46.4375 \nQ 14.5 44.390625 14.5 40.28125 \nQ 14.5 37.15625 16.890625 35.375 \nQ 19.28125 33.59375 26.515625 31.984375 \nL 29.59375 31.296875 \nQ 39.15625 29.25 43.1875 25.515625 \nQ 47.21875 21.78125 47.21875 15.09375 \nQ 47.21875 7.46875 41.1875 3.015625 \nQ 35.15625 -1.421875 24.609375 -1.421875 \nQ 20.21875 -1.421875 15.453125 -0.5625 \nQ 10.6875 0.296875 5.421875 2 \nL 5.421875 11.28125 \nQ 10.40625 8.6875 15.234375 7.390625 \nQ 20.0625 6.109375 24.8125 6.109375 \nQ 31.15625 6.109375 34.5625 8.28125 \nQ 37.984375 10.453125 37.984375 14.40625 \nQ 37.984375 18.0625 35.515625 20.015625 \nQ 33.0625 21.96875 24.703125 23.78125 \nL 21.578125 24.515625 \nQ 13.234375 26.265625 9.515625 29.90625 \nQ 5.8125 33.546875 5.8125 39.890625 \nQ 5.8125 47.609375 11.28125 51.796875 \nQ 16.75 56 26.8125 56 \nQ 31.78125 56 36.171875 55.265625 \nQ 40.578125 54.546875 44.28125 53.078125 \nz\n\" id=\"DejaVuSans-115\"/>\n     </defs>\n     <g transform=\"translate(14.798438 142.005312)rotate(-90)scale(0.1 -0.1)\">\n      <use xlink:href=\"#DejaVuSans-76\"/>\n      <use x=\"53.962891\" xlink:href=\"#DejaVuSans-111\"/>\n      <use x=\"115.144531\" xlink:href=\"#DejaVuSans-115\"/>\n      <use x=\"167.244141\" xlink:href=\"#DejaVuSans-115\"/>\n     </g>\n    </g>\n   </g>\n   <g id=\"line2d_12\">\n    <path clip-path=\"url(#p75b4c8c476)\" d=\"M 58.999432 32.201761 \nL 62.073812 94.875765 \nL 65.148192 125.563994 \nL 68.222572 139.421437 \nL 71.296952 150.662365 \nL 74.371333 159.454593 \nL 77.445713 162.739053 \nL 80.520093 166.02253 \nL 83.594473 168.125663 \nL 86.668853 170.399906 \nL 89.743233 172.882275 \nL 92.817614 174.519316 \nL 95.891994 175.393781 \nL 98.966374 176.920142 \nL 102.040754 178.814403 \nL 105.115134 180.279513 \nL 108.189514 181.565152 \nL 111.263895 182.757963 \nL 114.338275 183.637765 \nL 117.412655 184.790016 \nL 120.487035 186.288781 \nL 123.561415 186.181185 \nL 126.635795 188.042426 \nL 129.710176 189.519306 \nL 132.784556 190.181851 \nL 135.858936 191.370494 \nL 138.933316 192.140685 \nL 142.007696 192.479436 \nL 145.082076 193.560209 \nL 148.156457 194.48785 \nL 151.230837 195.072672 \nL 154.305217 195.756779 \nL 157.379597 196.490815 \nL 160.453977 197.723551 \nL 163.528357 198.523154 \nL 166.602738 198.938471 \nL 169.677118 199.326154 \nL 172.751498 200.42345 \nL 175.825878 201.032247 \nL 178.900258 201.442127 \nL 181.974638 202.074513 \nL 185.049019 202.755224 \nL 188.123399 203.163113 \nL 191.197779 203.427959 \nL 194.272159 203.358186 \nL 197.346539 204.838724 \nL 200.420919 205.09195 \nL 203.4953 205.220709 \nL 206.56968 206.915132 \nL 209.64406 207.519823 \nL 212.71844 207.590554 \nL 215.79282 208.037249 \nL 218.8672 208.536111 \nL 221.941581 209.427659 \nL 225.015961 209.788145 \nL 228.090341 209.730017 \nL 231.164721 209.462769 \nL 234.239101 210.305421 \nL 237.313481 211.683028 \nL 240.387862 211.869691 \nL 243.462242 212.249188 \nL 246.536622 213.303684 \nL 249.611002 213.560357 \nL 252.685382 213.514833 \nL 255.759762 214.178038 \nL 258.834143 215.221 \nL 261.908523 214.726928 \nL 264.982903 214.217689 \nL 268.057283 215.096148 \nL 271.131663 216.295167 \nL 274.206043 216.602017 \nL 277.280424 217.693888 \nL 280.354804 218.30026 \nL 283.429184 218.108371 \nL 286.503564 218.961013 \nL 289.577944 219.327048 \nL 292.652324 219.705836 \nL 295.726705 219.771939 \nL 298.801085 219.818956 \nL 301.875465 221.042659 \nL 304.949845 220.91446 \nL 308.024225 221.58309 \nL 311.098605 222.10324 \nL 314.172986 221.731345 \nL 317.247366 222.881543 \nL 320.321746 222.960349 \nL 323.396126 223.814907 \nL 326.470506 224.451947 \nL 329.544886 223.75347 \nL 332.619267 225.727993 \nL 335.693647 224.425944 \nL 338.768027 224.518299 \nL 341.842407 226.201425 \nL 344.916787 225.924597 \nL 347.991167 226.498458 \nL 351.065548 226.927522 \nL 354.139928 227.377588 \nL 357.214308 227.30947 \nL 360.288688 228.697765 \nL 363.363068 229.874489 \n\" style=\"fill:none;stroke:#1f77b4;stroke-linecap:square;stroke-width:1.5;\"/>\n   </g>\n   <g id=\"line2d_13\">\n    <path clip-path=\"url(#p75b4c8c476)\" d=\"M 58.999432 56.841333 \nL 62.073812 99.385708 \nL 65.148192 123.53311 \nL 68.222572 139.071278 \nL 71.296952 147.885179 \nL 74.371333 152.222679 \nL 77.445713 152.418362 \nL 80.520093 154.12356 \nL 83.594473 153.457804 \nL 86.668853 154.986292 \nL 89.743233 157.830901 \nL 92.817614 158.831375 \nL 95.891994 159.394798 \nL 98.966374 159.363233 \nL 102.040754 160.053424 \nL 105.115134 160.035869 \nL 108.189514 160.011583 \nL 111.263895 161.728886 \nL 114.338275 162.408564 \nL 117.412655 162.927047 \nL 120.487035 164.528555 \nL 123.561415 167.008746 \nL 126.635795 164.887834 \nL 129.710176 163.221679 \nL 132.784556 163.397803 \nL 135.858936 164.556362 \nL 138.933316 164.506123 \nL 142.007696 162.700147 \nL 145.082076 160.733177 \nL 148.156457 160.484007 \nL 151.230837 161.013078 \nL 154.305217 164.021755 \nL 157.379597 165.56949 \nL 160.453977 165.008656 \nL 163.528357 163.429231 \nL 166.602738 161.436195 \nL 169.677118 160.83067 \nL 172.751498 162.459289 \nL 175.825878 163.192627 \nL 178.900258 163.069143 \nL 181.974638 160.380964 \nL 185.049019 159.440733 \nL 188.123399 161.616102 \nL 191.197779 166.289964 \nL 194.272159 167.940742 \nL 197.346539 167.046457 \nL 200.420919 163.955926 \nL 203.4953 165.885236 \nL 206.56968 165.910965 \nL 209.64406 165.846878 \nL 212.71844 163.458954 \nL 215.79282 160.460193 \nL 218.8672 160.807391 \nL 221.941581 162.231058 \nL 225.015961 162.52457 \nL 228.090341 164.604002 \nL 231.164721 161.761197 \nL 234.239101 161.807244 \nL 237.313481 159.366344 \nL 240.387862 160.060479 \nL 243.462242 162.246436 \nL 246.536622 160.518209 \nL 249.611002 159.374306 \nL 252.685382 159.973598 \nL 255.759762 160.089978 \nL 258.834143 162.130828 \nL 261.908523 162.591469 \nL 264.982903 160.167913 \nL 268.057283 158.888321 \nL 271.131663 155.029565 \nL 274.206043 156.087607 \nL 277.280424 159.581038 \nL 280.354804 160.131347 \nL 283.429184 160.050388 \nL 286.503564 159.4878 \nL 289.577944 157.436934 \nL 292.652324 158.340189 \nL 295.726705 159.152906 \nL 298.801085 157.715691 \nL 301.875465 156.610333 \nL 304.949845 155.251985 \nL 308.024225 156.120938 \nL 311.098605 158.890399 \nL 314.172986 159.180975 \nL 317.247366 157.129201 \nL 320.321746 155.000003 \nL 323.396126 155.860919 \nL 326.470506 155.825498 \nL 329.544886 155.057658 \nL 332.619267 150.571305 \nL 335.693647 152.417516 \nL 338.768027 156.385909 \nL 341.842407 156.911335 \nL 344.916787 158.564003 \nL 347.991167 156.513934 \nL 351.065548 151.65545 \nL 354.139928 149.646637 \nL 357.214308 151.516426 \nL 360.288688 153.198134 \nL 363.363068 156.677891 \n\" style=\"fill:none;stroke:#ff7f0e;stroke-linecap:square;stroke-width:1.5;\"/>\n   </g>\n   <g id=\"patch_3\">\n    <path d=\"M 43.78125 239.758125 \nL 43.78125 22.318125 \n\" style=\"fill:none;stroke:#000000;stroke-linecap:square;stroke-linejoin:miter;stroke-width:0.8;\"/>\n   </g>\n   <g id=\"patch_4\">\n    <path d=\"M 378.58125 239.758125 \nL 378.58125 22.318125 \n\" style=\"fill:none;stroke:#000000;stroke-linecap:square;stroke-linejoin:miter;stroke-width:0.8;\"/>\n   </g>\n   <g id=\"patch_5\">\n    <path d=\"M 43.78125 239.758125 \nL 378.58125 239.758125 \n\" style=\"fill:none;stroke:#000000;stroke-linecap:square;stroke-linejoin:miter;stroke-width:0.8;\"/>\n   </g>\n   <g id=\"patch_6\">\n    <path d=\"M 43.78125 22.318125 \nL 378.58125 22.318125 \n\" style=\"fill:none;stroke:#000000;stroke-linecap:square;stroke-linejoin:miter;stroke-width:0.8;\"/>\n   </g>\n   <g id=\"text_14\">\n    <!-- Loss vs. epochs -->\n    <defs>\n     <path id=\"DejaVuSans-32\"/>\n     <path d=\"M 2.984375 54.6875 \nL 12.5 54.6875 \nL 29.59375 8.796875 \nL 46.6875 54.6875 \nL 56.203125 54.6875 \nL 35.6875 0 \nL 23.484375 0 \nz\n\" id=\"DejaVuSans-118\"/>\n     <path d=\"M 56.203125 29.59375 \nL 56.203125 25.203125 \nL 14.890625 25.203125 \nQ 15.484375 15.921875 20.484375 11.0625 \nQ 25.484375 6.203125 34.421875 6.203125 \nQ 39.59375 6.203125 44.453125 7.46875 \nQ 49.3125 8.734375 54.109375 11.28125 \nL 54.109375 2.78125 \nQ 49.265625 0.734375 44.1875 -0.34375 \nQ 39.109375 -1.421875 33.890625 -1.421875 \nQ 20.796875 -1.421875 13.15625 6.1875 \nQ 5.515625 13.8125 5.515625 26.8125 \nQ 5.515625 40.234375 12.765625 48.109375 \nQ 20.015625 56 32.328125 56 \nQ 43.359375 56 49.78125 48.890625 \nQ 56.203125 41.796875 56.203125 29.59375 \nz\nM 47.21875 32.234375 \nQ 47.125 39.59375 43.09375 43.984375 \nQ 39.0625 48.390625 32.421875 48.390625 \nQ 24.90625 48.390625 20.390625 44.140625 \nQ 15.875 39.890625 15.1875 32.171875 \nz\n\" id=\"DejaVuSans-101\"/>\n    </defs>\n    <g transform=\"translate(164.22375 16.318125)scale(0.12 -0.12)\">\n     <use xlink:href=\"#DejaVuSans-76\"/>\n     <use x=\"53.962891\" xlink:href=\"#DejaVuSans-111\"/>\n     <use x=\"115.144531\" xlink:href=\"#DejaVuSans-115\"/>\n     <use x=\"167.244141\" xlink:href=\"#DejaVuSans-115\"/>\n     <use x=\"219.34375\" xlink:href=\"#DejaVuSans-32\"/>\n     <use x=\"251.130859\" xlink:href=\"#DejaVuSans-118\"/>\n     <use x=\"310.310547\" xlink:href=\"#DejaVuSans-115\"/>\n     <use x=\"362.410156\" xlink:href=\"#DejaVuSans-46\"/>\n     <use x=\"394.197266\" xlink:href=\"#DejaVuSans-32\"/>\n     <use x=\"425.984375\" xlink:href=\"#DejaVuSans-101\"/>\n     <use x=\"487.507812\" xlink:href=\"#DejaVuSans-112\"/>\n     <use x=\"550.984375\" xlink:href=\"#DejaVuSans-111\"/>\n     <use x=\"612.166016\" xlink:href=\"#DejaVuSans-99\"/>\n     <use x=\"667.146484\" xlink:href=\"#DejaVuSans-104\"/>\n     <use x=\"730.525391\" xlink:href=\"#DejaVuSans-115\"/>\n    </g>\n   </g>\n   <g id=\"legend_1\">\n    <g id=\"patch_7\">\n     <path d=\"M 290.2 59.674375 \nL 371.58125 59.674375 \nQ 373.58125 59.674375 373.58125 57.674375 \nL 373.58125 29.318125 \nQ 373.58125 27.318125 371.58125 27.318125 \nL 290.2 27.318125 \nQ 288.2 27.318125 288.2 29.318125 \nL 288.2 57.674375 \nQ 288.2 59.674375 290.2 59.674375 \nz\n\" style=\"fill:#ffffff;opacity:0.8;stroke:#cccccc;stroke-linejoin:miter;\"/>\n    </g>\n    <g id=\"line2d_14\">\n     <path d=\"M 292.2 35.416562 \nL 312.2 35.416562 \n\" style=\"fill:none;stroke:#1f77b4;stroke-linecap:square;stroke-width:1.5;\"/>\n    </g>\n    <g id=\"line2d_15\"/>\n    <g id=\"text_15\">\n     <!-- Training -->\n     <defs>\n      <path d=\"M -0.296875 72.90625 \nL 61.375 72.90625 \nL 61.375 64.59375 \nL 35.5 64.59375 \nL 35.5 0 \nL 25.59375 0 \nL 25.59375 64.59375 \nL -0.296875 64.59375 \nz\n\" id=\"DejaVuSans-84\"/>\n      <path d=\"M 41.109375 46.296875 \nQ 39.59375 47.171875 37.8125 47.578125 \nQ 36.03125 48 33.890625 48 \nQ 26.265625 48 22.1875 43.046875 \nQ 18.109375 38.09375 18.109375 28.8125 \nL 18.109375 0 \nL 9.078125 0 \nL 9.078125 54.6875 \nL 18.109375 54.6875 \nL 18.109375 46.1875 \nQ 20.953125 51.171875 25.484375 53.578125 \nQ 30.03125 56 36.53125 56 \nQ 37.453125 56 38.578125 55.875 \nQ 39.703125 55.765625 41.0625 55.515625 \nz\n\" id=\"DejaVuSans-114\"/>\n      <path d=\"M 34.28125 27.484375 \nQ 23.390625 27.484375 19.1875 25 \nQ 14.984375 22.515625 14.984375 16.5 \nQ 14.984375 11.71875 18.140625 8.90625 \nQ 21.296875 6.109375 26.703125 6.109375 \nQ 34.1875 6.109375 38.703125 11.40625 \nQ 43.21875 16.703125 43.21875 25.484375 \nL 43.21875 27.484375 \nz\nM 52.203125 31.203125 \nL 52.203125 0 \nL 43.21875 0 \nL 43.21875 8.296875 \nQ 40.140625 3.328125 35.546875 0.953125 \nQ 30.953125 -1.421875 24.3125 -1.421875 \nQ 15.921875 -1.421875 10.953125 3.296875 \nQ 6 8.015625 6 15.921875 \nQ 6 25.140625 12.171875 29.828125 \nQ 18.359375 34.515625 30.609375 34.515625 \nL 43.21875 34.515625 \nL 43.21875 35.40625 \nQ 43.21875 41.609375 39.140625 45 \nQ 35.0625 48.390625 27.6875 48.390625 \nQ 23 48.390625 18.546875 47.265625 \nQ 14.109375 46.140625 10.015625 43.890625 \nL 10.015625 52.203125 \nQ 14.9375 54.109375 19.578125 55.046875 \nQ 24.21875 56 28.609375 56 \nQ 40.484375 56 46.34375 49.84375 \nQ 52.203125 43.703125 52.203125 31.203125 \nz\n\" id=\"DejaVuSans-97\"/>\n      <path d=\"M 9.421875 54.6875 \nL 18.40625 54.6875 \nL 18.40625 0 \nL 9.421875 0 \nz\nM 9.421875 75.984375 \nL 18.40625 75.984375 \nL 18.40625 64.59375 \nL 9.421875 64.59375 \nz\n\" id=\"DejaVuSans-105\"/>\n      <path d=\"M 54.890625 33.015625 \nL 54.890625 0 \nL 45.90625 0 \nL 45.90625 32.71875 \nQ 45.90625 40.484375 42.875 44.328125 \nQ 39.84375 48.1875 33.796875 48.1875 \nQ 26.515625 48.1875 22.3125 43.546875 \nQ 18.109375 38.921875 18.109375 30.90625 \nL 18.109375 0 \nL 9.078125 0 \nL 9.078125 54.6875 \nL 18.109375 54.6875 \nL 18.109375 46.1875 \nQ 21.34375 51.125 25.703125 53.5625 \nQ 30.078125 56 35.796875 56 \nQ 45.21875 56 50.046875 50.171875 \nQ 54.890625 44.34375 54.890625 33.015625 \nz\n\" id=\"DejaVuSans-110\"/>\n      <path d=\"M 45.40625 27.984375 \nQ 45.40625 37.75 41.375 43.109375 \nQ 37.359375 48.484375 30.078125 48.484375 \nQ 22.859375 48.484375 18.828125 43.109375 \nQ 14.796875 37.75 14.796875 27.984375 \nQ 14.796875 18.265625 18.828125 12.890625 \nQ 22.859375 7.515625 30.078125 7.515625 \nQ 37.359375 7.515625 41.375 12.890625 \nQ 45.40625 18.265625 45.40625 27.984375 \nz\nM 54.390625 6.78125 \nQ 54.390625 -7.171875 48.1875 -13.984375 \nQ 42 -20.796875 29.203125 -20.796875 \nQ 24.46875 -20.796875 20.265625 -20.09375 \nQ 16.0625 -19.390625 12.109375 -17.921875 \nL 12.109375 -9.1875 \nQ 16.0625 -11.328125 19.921875 -12.34375 \nQ 23.78125 -13.375 27.78125 -13.375 \nQ 36.625 -13.375 41.015625 -8.765625 \nQ 45.40625 -4.15625 45.40625 5.171875 \nL 45.40625 9.625 \nQ 42.625 4.78125 38.28125 2.390625 \nQ 33.9375 0 27.875 0 \nQ 17.828125 0 11.671875 7.65625 \nQ 5.515625 15.328125 5.515625 27.984375 \nQ 5.515625 40.671875 11.671875 48.328125 \nQ 17.828125 56 27.875 56 \nQ 33.9375 56 38.28125 53.609375 \nQ 42.625 51.21875 45.40625 46.390625 \nL 45.40625 54.6875 \nL 54.390625 54.6875 \nz\n\" id=\"DejaVuSans-103\"/>\n     </defs>\n     <g transform=\"translate(320.2 38.916562)scale(0.1 -0.1)\">\n      <use xlink:href=\"#DejaVuSans-84\"/>\n      <use x=\"46.333984\" xlink:href=\"#DejaVuSans-114\"/>\n      <use x=\"87.447266\" xlink:href=\"#DejaVuSans-97\"/>\n      <use x=\"148.726562\" xlink:href=\"#DejaVuSans-105\"/>\n      <use x=\"176.509766\" xlink:href=\"#DejaVuSans-110\"/>\n      <use x=\"239.888672\" xlink:href=\"#DejaVuSans-105\"/>\n      <use x=\"267.671875\" xlink:href=\"#DejaVuSans-110\"/>\n      <use x=\"331.050781\" xlink:href=\"#DejaVuSans-103\"/>\n     </g>\n    </g>\n    <g id=\"line2d_16\">\n     <path d=\"M 292.2 50.094687 \nL 312.2 50.094687 \n\" style=\"fill:none;stroke:#ff7f0e;stroke-linecap:square;stroke-width:1.5;\"/>\n    </g>\n    <g id=\"line2d_17\"/>\n    <g id=\"text_16\">\n     <!-- Validation -->\n     <defs>\n      <path d=\"M 28.609375 0 \nL 0.78125 72.90625 \nL 11.078125 72.90625 \nL 34.1875 11.53125 \nL 57.328125 72.90625 \nL 67.578125 72.90625 \nL 39.796875 0 \nz\n\" id=\"DejaVuSans-86\"/>\n      <path d=\"M 9.421875 75.984375 \nL 18.40625 75.984375 \nL 18.40625 0 \nL 9.421875 0 \nz\n\" id=\"DejaVuSans-108\"/>\n      <path d=\"M 45.40625 46.390625 \nL 45.40625 75.984375 \nL 54.390625 75.984375 \nL 54.390625 0 \nL 45.40625 0 \nL 45.40625 8.203125 \nQ 42.578125 3.328125 38.25 0.953125 \nQ 33.9375 -1.421875 27.875 -1.421875 \nQ 17.96875 -1.421875 11.734375 6.484375 \nQ 5.515625 14.40625 5.515625 27.296875 \nQ 5.515625 40.1875 11.734375 48.09375 \nQ 17.96875 56 27.875 56 \nQ 33.9375 56 38.25 53.625 \nQ 42.578125 51.265625 45.40625 46.390625 \nz\nM 14.796875 27.296875 \nQ 14.796875 17.390625 18.875 11.75 \nQ 22.953125 6.109375 30.078125 6.109375 \nQ 37.203125 6.109375 41.296875 11.75 \nQ 45.40625 17.390625 45.40625 27.296875 \nQ 45.40625 37.203125 41.296875 42.84375 \nQ 37.203125 48.484375 30.078125 48.484375 \nQ 22.953125 48.484375 18.875 42.84375 \nQ 14.796875 37.203125 14.796875 27.296875 \nz\n\" id=\"DejaVuSans-100\"/>\n      <path d=\"M 18.3125 70.21875 \nL 18.3125 54.6875 \nL 36.8125 54.6875 \nL 36.8125 47.703125 \nL 18.3125 47.703125 \nL 18.3125 18.015625 \nQ 18.3125 11.328125 20.140625 9.421875 \nQ 21.96875 7.515625 27.59375 7.515625 \nL 36.8125 7.515625 \nL 36.8125 0 \nL 27.59375 0 \nQ 17.1875 0 13.234375 3.875 \nQ 9.28125 7.765625 9.28125 18.015625 \nL 9.28125 47.703125 \nL 2.6875 47.703125 \nL 2.6875 54.6875 \nL 9.28125 54.6875 \nL 9.28125 70.21875 \nz\n\" id=\"DejaVuSans-116\"/>\n     </defs>\n     <g transform=\"translate(320.2 53.594687)scale(0.1 -0.1)\">\n      <use xlink:href=\"#DejaVuSans-86\"/>\n      <use x=\"60.658203\" xlink:href=\"#DejaVuSans-97\"/>\n      <use x=\"121.9375\" xlink:href=\"#DejaVuSans-108\"/>\n      <use x=\"149.720703\" xlink:href=\"#DejaVuSans-105\"/>\n      <use x=\"177.503906\" xlink:href=\"#DejaVuSans-100\"/>\n      <use x=\"240.980469\" xlink:href=\"#DejaVuSans-97\"/>\n      <use x=\"302.259766\" xlink:href=\"#DejaVuSans-116\"/>\n      <use x=\"341.46875\" xlink:href=\"#DejaVuSans-105\"/>\n      <use x=\"369.251953\" xlink:href=\"#DejaVuSans-111\"/>\n      <use x=\"430.433594\" xlink:href=\"#DejaVuSans-110\"/>\n     </g>\n    </g>\n   </g>\n  </g>\n </g>\n <defs>\n  <clipPath id=\"p75b4c8c476\">\n   <rect height=\"217.44\" width=\"334.8\" x=\"43.78125\" y=\"22.318125\"/>\n  </clipPath>\n </defs>\n</svg>\n"
          },
          "metadata": {
            "needs_background": "light"
          }
        }
      ],
      "source": [
        "#@title\n",
        "#### YOUR CODE HERE\n",
        "def build_model(input_shape):\n",
        "    ### START CODE HERE ### ()\n",
        "    model=tf.keras.Sequential ()\n",
        "    model.add(Dense(128, activation=\"relu\", input_shape=input_shape))\n",
        "    model.add(Dense(1))\n",
        "    return model\n",
        "\n",
        "    \n",
        "input_shape=(train_data.shape[-1],)\n",
        "model = build_model(input_shape)\n",
        "model.compile(optimizer=tf.keras.optimizers.Adam(),\n",
        "              loss=tf.keras.losses.MeanSquaredError(),\n",
        "              metrics=tf.keras.metrics.MeanAbsoluteError()\n",
        "                       )\n",
        "history=model.fit( x=train_data,y=train_targets,batch_size=64,epochs=100,validation_split=0.15)\n",
        "model.evaluate(test_data, test_targets, verbose=2)\n",
        "\n",
        "plt.plot(history.history['loss'])\n",
        "plt.plot(history.history['val_loss'])\n",
        "plt.title('Loss vs. epochs')\n",
        "plt.ylabel('Loss')\n",
        "plt.xlabel('Epoch')\n",
        "plt.legend(['Training', 'Validation'], loc='upper right')\n",
        "plt.show()"
      ]
    },
    {
      "cell_type": "markdown",
      "id": "39417149-9f72-4fde-945e-7ea7a649b01f",
      "metadata": {
        "id": "39417149-9f72-4fde-945e-7ea7a649b01f"
      },
      "source": [
        "# Part 3 Batches and Epochs"
      ]
    },
    {
      "cell_type": "markdown",
      "id": "6b167f30-1712-4875-8643-985d6bff5894",
      "metadata": {
        "id": "6b167f30-1712-4875-8643-985d6bff5894"
      },
      "source": [
        "In this part of the assignment we will create a synthetic data to play with. \n",
        "The data will have 2 features and 3 target classes --> multiclass classification problem"
      ]
    },
    {
      "cell_type": "code",
      "execution_count": 178,
      "id": "5478a898-76b8-4764-9194-54920d6889f8",
      "metadata": {
        "id": "5478a898-76b8-4764-9194-54920d6889f8"
      },
      "outputs": [],
      "source": [
        "#@title\n",
        "# prepare train and test dataset\n",
        "def prepare_data():\n",
        "    #  generate classification dataset with 3 centers (labels/classes)\n",
        "    X, y = make_blobs(n_samples=1000, centers=3, n_features=2, cluster_std=2, random_state=2)\n",
        "    \n",
        "    # plot data\n",
        "    for class_value in range(3):\n",
        "        # select indices of points with the class label\n",
        "        row_ix = np.where(y == class_value)\n",
        "        # scatter plot for points with a different color\n",
        "        plt.scatter(X[row_ix, 0], X[row_ix, 1])\n",
        "    # show plot\n",
        "    plt.show()\n",
        "\n",
        "    # one hot encode output variable to convert from integers to binary class\n",
        "    y = to_categorical(y)\n",
        "\n",
        "    # split into train and test\n",
        "    n_train = 500\n",
        "    X_train, X_test = X[:n_train, :], X[n_train:, :]\n",
        "    y_train, y_test = y[:n_train], y[n_train:]\n",
        "    return X_train, y_train, X_test, y_test\n"
      ]
    },
    {
      "cell_type": "code",
      "execution_count": 179,
      "id": "32e2cf07-c958-46c3-a453-f1bead3502b0",
      "metadata": {
        "id": "32e2cf07-c958-46c3-a453-f1bead3502b0",
        "colab": {
          "base_uri": "https://localhost:8080/",
          "height": 352
        },
        "outputId": "43d20696-42d3-429a-e7cb-b5687a9502de"
      },
      "outputs": [
        {
          "output_type": "display_data",
          "data": {
            "text/plain": [
              "<Figure size 432x288 with 1 Axes>"
            ],
            "image/svg+xml": "<?xml version=\"1.0\" encoding=\"utf-8\" standalone=\"no\"?>\n<!DOCTYPE svg PUBLIC \"-//W3C//DTD SVG 1.1//EN\"\n  \"http://www.w3.org/Graphics/SVG/1.1/DTD/svg11.dtd\">\n<!-- Created with matplotlib (https://matplotlib.org/) -->\n<svg height=\"248.518125pt\" version=\"1.1\" viewBox=\"0 0 386.845312 248.518125\" width=\"386.845312pt\" xmlns=\"http://www.w3.org/2000/svg\" xmlns:xlink=\"http://www.w3.org/1999/xlink\">\n <defs>\n  <style type=\"text/css\">\n*{stroke-linecap:butt;stroke-linejoin:round;}\n  </style>\n </defs>\n <g id=\"figure_1\">\n  <g id=\"patch_1\">\n   <path d=\"M 0 248.518125 \nL 386.845312 248.518125 \nL 386.845312 0 \nL 0 0 \nz\n\" style=\"fill:none;\"/>\n  </g>\n  <g id=\"axes_1\">\n   <g id=\"patch_2\">\n    <path d=\"M 44.845313 224.64 \nL 379.645313 224.64 \nL 379.645313 7.2 \nL 44.845313 7.2 \nz\n\" style=\"fill:#ffffff;\"/>\n   </g>\n   <g id=\"PathCollection_1\">\n    <defs>\n     <path d=\"M 0 3 \nC 0.795609 3 1.55874 2.683901 2.12132 2.12132 \nC 2.683901 1.55874 3 0.795609 3 0 \nC 3 -0.795609 2.683901 -1.55874 2.12132 -2.12132 \nC 1.55874 -2.683901 0.795609 -3 0 -3 \nC -0.795609 -3 -1.55874 -2.683901 -2.12132 -2.12132 \nC -2.683901 -1.55874 -3 -0.795609 -3 0 \nC -3 0.795609 -2.683901 1.55874 -2.12132 2.12132 \nC -1.55874 2.683901 -0.795609 3 0 3 \nz\n\" id=\"m433e3f6d86\" style=\"stroke:#1f77b4;\"/>\n    </defs>\n    <g clip-path=\"url(#p066588134d)\">\n     <use style=\"fill:#1f77b4;stroke:#1f77b4;\" x=\"208.44953\" xlink:href=\"#m433e3f6d86\" y=\"170.101031\"/>\n     <use style=\"fill:#1f77b4;stroke:#1f77b4;\" x=\"91.675862\" xlink:href=\"#m433e3f6d86\" y=\"163.173443\"/>\n     <use style=\"fill:#1f77b4;stroke:#1f77b4;\" x=\"238.32047\" xlink:href=\"#m433e3f6d86\" y=\"153.011495\"/>\n     <use style=\"fill:#1f77b4;stroke:#1f77b4;\" x=\"245.000111\" xlink:href=\"#m433e3f6d86\" y=\"154.787301\"/>\n     <use style=\"fill:#1f77b4;stroke:#1f77b4;\" x=\"218.127123\" xlink:href=\"#m433e3f6d86\" y=\"116.491457\"/>\n     <use style=\"fill:#1f77b4;stroke:#1f77b4;\" x=\"207.525707\" xlink:href=\"#m433e3f6d86\" y=\"147.986339\"/>\n     <use style=\"fill:#1f77b4;stroke:#1f77b4;\" x=\"210.379676\" xlink:href=\"#m433e3f6d86\" y=\"134.023149\"/>\n     <use style=\"fill:#1f77b4;stroke:#1f77b4;\" x=\"203.216686\" xlink:href=\"#m433e3f6d86\" y=\"192.483153\"/>\n     <use style=\"fill:#1f77b4;stroke:#1f77b4;\" x=\"187.326818\" xlink:href=\"#m433e3f6d86\" y=\"173.497708\"/>\n     <use style=\"fill:#1f77b4;stroke:#1f77b4;\" x=\"170.954892\" xlink:href=\"#m433e3f6d86\" y=\"136.765713\"/>\n     <use style=\"fill:#1f77b4;stroke:#1f77b4;\" x=\"179.324795\" xlink:href=\"#m433e3f6d86\" y=\"162.812065\"/>\n     <use style=\"fill:#1f77b4;stroke:#1f77b4;\" x=\"247.1025\" xlink:href=\"#m433e3f6d86\" y=\"196.375382\"/>\n     <use style=\"fill:#1f77b4;stroke:#1f77b4;\" x=\"161.33896\" xlink:href=\"#m433e3f6d86\" y=\"173.140396\"/>\n     <use style=\"fill:#1f77b4;stroke:#1f77b4;\" x=\"154.808607\" xlink:href=\"#m433e3f6d86\" y=\"184.960351\"/>\n     <use style=\"fill:#1f77b4;stroke:#1f77b4;\" x=\"181.323927\" xlink:href=\"#m433e3f6d86\" y=\"152.208239\"/>\n     <use style=\"fill:#1f77b4;stroke:#1f77b4;\" x=\"192.223908\" xlink:href=\"#m433e3f6d86\" y=\"154.289895\"/>\n     <use style=\"fill:#1f77b4;stroke:#1f77b4;\" x=\"176.30981\" xlink:href=\"#m433e3f6d86\" y=\"150.281402\"/>\n     <use style=\"fill:#1f77b4;stroke:#1f77b4;\" x=\"217.205147\" xlink:href=\"#m433e3f6d86\" y=\"160.206489\"/>\n     <use style=\"fill:#1f77b4;stroke:#1f77b4;\" x=\"159.849194\" xlink:href=\"#m433e3f6d86\" y=\"128.341175\"/>\n     <use style=\"fill:#1f77b4;stroke:#1f77b4;\" x=\"181.425453\" xlink:href=\"#m433e3f6d86\" y=\"155.917615\"/>\n     <use style=\"fill:#1f77b4;stroke:#1f77b4;\" x=\"151.574193\" xlink:href=\"#m433e3f6d86\" y=\"127.509114\"/>\n     <use style=\"fill:#1f77b4;stroke:#1f77b4;\" x=\"185.634159\" xlink:href=\"#m433e3f6d86\" y=\"196.504237\"/>\n     <use style=\"fill:#1f77b4;stroke:#1f77b4;\" x=\"267.146053\" xlink:href=\"#m433e3f6d86\" y=\"162.190523\"/>\n     <use style=\"fill:#1f77b4;stroke:#1f77b4;\" x=\"180.73896\" xlink:href=\"#m433e3f6d86\" y=\"166.253356\"/>\n     <use style=\"fill:#1f77b4;stroke:#1f77b4;\" x=\"170.695265\" xlink:href=\"#m433e3f6d86\" y=\"126.86249\"/>\n     <use style=\"fill:#1f77b4;stroke:#1f77b4;\" x=\"208.900434\" xlink:href=\"#m433e3f6d86\" y=\"186.844702\"/>\n     <use style=\"fill:#1f77b4;stroke:#1f77b4;\" x=\"225.208847\" xlink:href=\"#m433e3f6d86\" y=\"174.657644\"/>\n     <use style=\"fill:#1f77b4;stroke:#1f77b4;\" x=\"139.290201\" xlink:href=\"#m433e3f6d86\" y=\"166.585116\"/>\n     <use style=\"fill:#1f77b4;stroke:#1f77b4;\" x=\"225.029269\" xlink:href=\"#m433e3f6d86\" y=\"205.382073\"/>\n     <use style=\"fill:#1f77b4;stroke:#1f77b4;\" x=\"204.466926\" xlink:href=\"#m433e3f6d86\" y=\"200.004756\"/>\n     <use style=\"fill:#1f77b4;stroke:#1f77b4;\" x=\"175.321276\" xlink:href=\"#m433e3f6d86\" y=\"182.925648\"/>\n     <use style=\"fill:#1f77b4;stroke:#1f77b4;\" x=\"208.34466\" xlink:href=\"#m433e3f6d86\" y=\"165.847994\"/>\n     <use style=\"fill:#1f77b4;stroke:#1f77b4;\" x=\"186.738514\" xlink:href=\"#m433e3f6d86\" y=\"200.133183\"/>\n     <use style=\"fill:#1f77b4;stroke:#1f77b4;\" x=\"187.100291\" xlink:href=\"#m433e3f6d86\" y=\"169.640363\"/>\n     <use style=\"fill:#1f77b4;stroke:#1f77b4;\" x=\"172.07794\" xlink:href=\"#m433e3f6d86\" y=\"205.65627\"/>\n     <use style=\"fill:#1f77b4;stroke:#1f77b4;\" x=\"202.036861\" xlink:href=\"#m433e3f6d86\" y=\"200.778953\"/>\n     <use style=\"fill:#1f77b4;stroke:#1f77b4;\" x=\"190.586084\" xlink:href=\"#m433e3f6d86\" y=\"167.710678\"/>\n     <use style=\"fill:#1f77b4;stroke:#1f77b4;\" x=\"196.280428\" xlink:href=\"#m433e3f6d86\" y=\"149.830525\"/>\n     <use style=\"fill:#1f77b4;stroke:#1f77b4;\" x=\"141.177363\" xlink:href=\"#m433e3f6d86\" y=\"104.402006\"/>\n     <use style=\"fill:#1f77b4;stroke:#1f77b4;\" x=\"235.882971\" xlink:href=\"#m433e3f6d86\" y=\"182.88796\"/>\n     <use style=\"fill:#1f77b4;stroke:#1f77b4;\" x=\"220.022894\" xlink:href=\"#m433e3f6d86\" y=\"197.564083\"/>\n     <use style=\"fill:#1f77b4;stroke:#1f77b4;\" x=\"225.931439\" xlink:href=\"#m433e3f6d86\" y=\"158.038944\"/>\n     <use style=\"fill:#1f77b4;stroke:#1f77b4;\" x=\"172.520986\" xlink:href=\"#m433e3f6d86\" y=\"154.853323\"/>\n     <use style=\"fill:#1f77b4;stroke:#1f77b4;\" x=\"200.666497\" xlink:href=\"#m433e3f6d86\" y=\"149.455867\"/>\n     <use style=\"fill:#1f77b4;stroke:#1f77b4;\" x=\"131.933402\" xlink:href=\"#m433e3f6d86\" y=\"150.588495\"/>\n     <use style=\"fill:#1f77b4;stroke:#1f77b4;\" x=\"195.939797\" xlink:href=\"#m433e3f6d86\" y=\"157.841878\"/>\n     <use style=\"fill:#1f77b4;stroke:#1f77b4;\" x=\"191.377084\" xlink:href=\"#m433e3f6d86\" y=\"181.505153\"/>\n     <use style=\"fill:#1f77b4;stroke:#1f77b4;\" x=\"135.046233\" xlink:href=\"#m433e3f6d86\" y=\"167.781353\"/>\n     <use style=\"fill:#1f77b4;stroke:#1f77b4;\" x=\"227.116779\" xlink:href=\"#m433e3f6d86\" y=\"184.360816\"/>\n     <use style=\"fill:#1f77b4;stroke:#1f77b4;\" x=\"152.34175\" xlink:href=\"#m433e3f6d86\" y=\"161.418444\"/>\n     <use style=\"fill:#1f77b4;stroke:#1f77b4;\" x=\"205.842514\" xlink:href=\"#m433e3f6d86\" y=\"121.514032\"/>\n     <use style=\"fill:#1f77b4;stroke:#1f77b4;\" x=\"149.568359\" xlink:href=\"#m433e3f6d86\" y=\"170.303796\"/>\n     <use style=\"fill:#1f77b4;stroke:#1f77b4;\" x=\"184.884223\" xlink:href=\"#m433e3f6d86\" y=\"142.306613\"/>\n     <use style=\"fill:#1f77b4;stroke:#1f77b4;\" x=\"152.042062\" xlink:href=\"#m433e3f6d86\" y=\"166.141283\"/>\n     <use style=\"fill:#1f77b4;stroke:#1f77b4;\" x=\"130.332963\" xlink:href=\"#m433e3f6d86\" y=\"175.60553\"/>\n     <use style=\"fill:#1f77b4;stroke:#1f77b4;\" x=\"216.828076\" xlink:href=\"#m433e3f6d86\" y=\"161.149438\"/>\n     <use style=\"fill:#1f77b4;stroke:#1f77b4;\" x=\"179.100392\" xlink:href=\"#m433e3f6d86\" y=\"159.812414\"/>\n     <use style=\"fill:#1f77b4;stroke:#1f77b4;\" x=\"215.883722\" xlink:href=\"#m433e3f6d86\" y=\"145.952265\"/>\n     <use style=\"fill:#1f77b4;stroke:#1f77b4;\" x=\"217.15922\" xlink:href=\"#m433e3f6d86\" y=\"152.215215\"/>\n     <use style=\"fill:#1f77b4;stroke:#1f77b4;\" x=\"186.487269\" xlink:href=\"#m433e3f6d86\" y=\"170.789115\"/>\n     <use style=\"fill:#1f77b4;stroke:#1f77b4;\" x=\"159.446844\" xlink:href=\"#m433e3f6d86\" y=\"145.226682\"/>\n     <use style=\"fill:#1f77b4;stroke:#1f77b4;\" x=\"161.120689\" xlink:href=\"#m433e3f6d86\" y=\"179.365315\"/>\n     <use style=\"fill:#1f77b4;stroke:#1f77b4;\" x=\"179.484079\" xlink:href=\"#m433e3f6d86\" y=\"93.96133\"/>\n     <use style=\"fill:#1f77b4;stroke:#1f77b4;\" x=\"161.171714\" xlink:href=\"#m433e3f6d86\" y=\"154.172083\"/>\n     <use style=\"fill:#1f77b4;stroke:#1f77b4;\" x=\"136.847196\" xlink:href=\"#m433e3f6d86\" y=\"143.217628\"/>\n     <use style=\"fill:#1f77b4;stroke:#1f77b4;\" x=\"255.731235\" xlink:href=\"#m433e3f6d86\" y=\"152.170328\"/>\n     <use style=\"fill:#1f77b4;stroke:#1f77b4;\" x=\"214.906761\" xlink:href=\"#m433e3f6d86\" y=\"112.448671\"/>\n     <use style=\"fill:#1f77b4;stroke:#1f77b4;\" x=\"230.61631\" xlink:href=\"#m433e3f6d86\" y=\"145.089041\"/>\n     <use style=\"fill:#1f77b4;stroke:#1f77b4;\" x=\"151.980141\" xlink:href=\"#m433e3f6d86\" y=\"177.354629\"/>\n     <use style=\"fill:#1f77b4;stroke:#1f77b4;\" x=\"160.536775\" xlink:href=\"#m433e3f6d86\" y=\"123.948275\"/>\n     <use style=\"fill:#1f77b4;stroke:#1f77b4;\" x=\"250.070416\" xlink:href=\"#m433e3f6d86\" y=\"168.370593\"/>\n     <use style=\"fill:#1f77b4;stroke:#1f77b4;\" x=\"216.551493\" xlink:href=\"#m433e3f6d86\" y=\"162.889452\"/>\n     <use style=\"fill:#1f77b4;stroke:#1f77b4;\" x=\"213.742169\" xlink:href=\"#m433e3f6d86\" y=\"176.29783\"/>\n     <use style=\"fill:#1f77b4;stroke:#1f77b4;\" x=\"195.336805\" xlink:href=\"#m433e3f6d86\" y=\"185.016988\"/>\n     <use style=\"fill:#1f77b4;stroke:#1f77b4;\" x=\"208.39817\" xlink:href=\"#m433e3f6d86\" y=\"149.176859\"/>\n     <use style=\"fill:#1f77b4;stroke:#1f77b4;\" x=\"169.27008\" xlink:href=\"#m433e3f6d86\" y=\"186.499938\"/>\n     <use style=\"fill:#1f77b4;stroke:#1f77b4;\" x=\"223.135709\" xlink:href=\"#m433e3f6d86\" y=\"166.892883\"/>\n     <use style=\"fill:#1f77b4;stroke:#1f77b4;\" x=\"166.931465\" xlink:href=\"#m433e3f6d86\" y=\"180.994317\"/>\n     <use style=\"fill:#1f77b4;stroke:#1f77b4;\" x=\"175.078204\" xlink:href=\"#m433e3f6d86\" y=\"168.219315\"/>\n     <use style=\"fill:#1f77b4;stroke:#1f77b4;\" x=\"238.090546\" xlink:href=\"#m433e3f6d86\" y=\"166.643772\"/>\n     <use style=\"fill:#1f77b4;stroke:#1f77b4;\" x=\"143.175806\" xlink:href=\"#m433e3f6d86\" y=\"204.332346\"/>\n     <use style=\"fill:#1f77b4;stroke:#1f77b4;\" x=\"246.215542\" xlink:href=\"#m433e3f6d86\" y=\"135.310465\"/>\n     <use style=\"fill:#1f77b4;stroke:#1f77b4;\" x=\"211.288955\" xlink:href=\"#m433e3f6d86\" y=\"164.859876\"/>\n     <use style=\"fill:#1f77b4;stroke:#1f77b4;\" x=\"185.732757\" xlink:href=\"#m433e3f6d86\" y=\"158.298775\"/>\n     <use style=\"fill:#1f77b4;stroke:#1f77b4;\" x=\"213.65833\" xlink:href=\"#m433e3f6d86\" y=\"171.718342\"/>\n     <use style=\"fill:#1f77b4;stroke:#1f77b4;\" x=\"170.917782\" xlink:href=\"#m433e3f6d86\" y=\"167.926571\"/>\n     <use style=\"fill:#1f77b4;stroke:#1f77b4;\" x=\"229.507368\" xlink:href=\"#m433e3f6d86\" y=\"129.980914\"/>\n     <use style=\"fill:#1f77b4;stroke:#1f77b4;\" x=\"180.427378\" xlink:href=\"#m433e3f6d86\" y=\"152.471713\"/>\n     <use style=\"fill:#1f77b4;stroke:#1f77b4;\" x=\"207.959818\" xlink:href=\"#m433e3f6d86\" y=\"132.294034\"/>\n     <use style=\"fill:#1f77b4;stroke:#1f77b4;\" x=\"97.585878\" xlink:href=\"#m433e3f6d86\" y=\"122.369788\"/>\n     <use style=\"fill:#1f77b4;stroke:#1f77b4;\" x=\"159.865188\" xlink:href=\"#m433e3f6d86\" y=\"142.399781\"/>\n     <use style=\"fill:#1f77b4;stroke:#1f77b4;\" x=\"171.81358\" xlink:href=\"#m433e3f6d86\" y=\"155.0043\"/>\n     <use style=\"fill:#1f77b4;stroke:#1f77b4;\" x=\"264.180595\" xlink:href=\"#m433e3f6d86\" y=\"151.849345\"/>\n     <use style=\"fill:#1f77b4;stroke:#1f77b4;\" x=\"216.24043\" xlink:href=\"#m433e3f6d86\" y=\"161.661158\"/>\n     <use style=\"fill:#1f77b4;stroke:#1f77b4;\" x=\"266.544715\" xlink:href=\"#m433e3f6d86\" y=\"174.614242\"/>\n     <use style=\"fill:#1f77b4;stroke:#1f77b4;\" x=\"187.816487\" xlink:href=\"#m433e3f6d86\" y=\"198.452526\"/>\n     <use style=\"fill:#1f77b4;stroke:#1f77b4;\" x=\"159.115371\" xlink:href=\"#m433e3f6d86\" y=\"173.80332\"/>\n     <use style=\"fill:#1f77b4;stroke:#1f77b4;\" x=\"215.313082\" xlink:href=\"#m433e3f6d86\" y=\"167.953856\"/>\n     <use style=\"fill:#1f77b4;stroke:#1f77b4;\" x=\"198.533162\" xlink:href=\"#m433e3f6d86\" y=\"145.128797\"/>\n     <use style=\"fill:#1f77b4;stroke:#1f77b4;\" x=\"153.139542\" xlink:href=\"#m433e3f6d86\" y=\"180.571175\"/>\n     <use style=\"fill:#1f77b4;stroke:#1f77b4;\" x=\"161.714805\" xlink:href=\"#m433e3f6d86\" y=\"182.442813\"/>\n     <use style=\"fill:#1f77b4;stroke:#1f77b4;\" x=\"142.723734\" xlink:href=\"#m433e3f6d86\" y=\"177.093752\"/>\n     <use style=\"fill:#1f77b4;stroke:#1f77b4;\" x=\"200.901058\" xlink:href=\"#m433e3f6d86\" y=\"164.598718\"/>\n     <use style=\"fill:#1f77b4;stroke:#1f77b4;\" x=\"220.140494\" xlink:href=\"#m433e3f6d86\" y=\"152.892224\"/>\n     <use style=\"fill:#1f77b4;stroke:#1f77b4;\" x=\"289.197942\" xlink:href=\"#m433e3f6d86\" y=\"170.832366\"/>\n     <use style=\"fill:#1f77b4;stroke:#1f77b4;\" x=\"169.036357\" xlink:href=\"#m433e3f6d86\" y=\"203.974646\"/>\n     <use style=\"fill:#1f77b4;stroke:#1f77b4;\" x=\"110.513408\" xlink:href=\"#m433e3f6d86\" y=\"175.382479\"/>\n     <use style=\"fill:#1f77b4;stroke:#1f77b4;\" x=\"145.865967\" xlink:href=\"#m433e3f6d86\" y=\"162.877512\"/>\n     <use style=\"fill:#1f77b4;stroke:#1f77b4;\" x=\"285.102911\" xlink:href=\"#m433e3f6d86\" y=\"179.859857\"/>\n     <use style=\"fill:#1f77b4;stroke:#1f77b4;\" x=\"177.64967\" xlink:href=\"#m433e3f6d86\" y=\"164.043298\"/>\n     <use style=\"fill:#1f77b4;stroke:#1f77b4;\" x=\"205.380369\" xlink:href=\"#m433e3f6d86\" y=\"178.887214\"/>\n     <use style=\"fill:#1f77b4;stroke:#1f77b4;\" x=\"102.61564\" xlink:href=\"#m433e3f6d86\" y=\"159.981997\"/>\n     <use style=\"fill:#1f77b4;stroke:#1f77b4;\" x=\"237.766987\" xlink:href=\"#m433e3f6d86\" y=\"159.193841\"/>\n     <use style=\"fill:#1f77b4;stroke:#1f77b4;\" x=\"168.671552\" xlink:href=\"#m433e3f6d86\" y=\"143.299676\"/>\n     <use style=\"fill:#1f77b4;stroke:#1f77b4;\" x=\"158.815264\" xlink:href=\"#m433e3f6d86\" y=\"136.192134\"/>\n     <use style=\"fill:#1f77b4;stroke:#1f77b4;\" x=\"225.393752\" xlink:href=\"#m433e3f6d86\" y=\"134.665094\"/>\n     <use style=\"fill:#1f77b4;stroke:#1f77b4;\" x=\"216.910807\" xlink:href=\"#m433e3f6d86\" y=\"162.921503\"/>\n     <use style=\"fill:#1f77b4;stroke:#1f77b4;\" x=\"204.919806\" xlink:href=\"#m433e3f6d86\" y=\"165.426555\"/>\n     <use style=\"fill:#1f77b4;stroke:#1f77b4;\" x=\"221.070686\" xlink:href=\"#m433e3f6d86\" y=\"199.546908\"/>\n     <use style=\"fill:#1f77b4;stroke:#1f77b4;\" x=\"120.184425\" xlink:href=\"#m433e3f6d86\" y=\"208.625578\"/>\n     <use style=\"fill:#1f77b4;stroke:#1f77b4;\" x=\"193.657888\" xlink:href=\"#m433e3f6d86\" y=\"164.191472\"/>\n     <use style=\"fill:#1f77b4;stroke:#1f77b4;\" x=\"213.864482\" xlink:href=\"#m433e3f6d86\" y=\"145.580418\"/>\n     <use style=\"fill:#1f77b4;stroke:#1f77b4;\" x=\"225.588948\" xlink:href=\"#m433e3f6d86\" y=\"154.075763\"/>\n     <use style=\"fill:#1f77b4;stroke:#1f77b4;\" x=\"209.709021\" xlink:href=\"#m433e3f6d86\" y=\"162.458314\"/>\n     <use style=\"fill:#1f77b4;stroke:#1f77b4;\" x=\"127.958572\" xlink:href=\"#m433e3f6d86\" y=\"162.858218\"/>\n     <use style=\"fill:#1f77b4;stroke:#1f77b4;\" x=\"192.411384\" xlink:href=\"#m433e3f6d86\" y=\"146.412172\"/>\n     <use style=\"fill:#1f77b4;stroke:#1f77b4;\" x=\"319.615544\" xlink:href=\"#m433e3f6d86\" y=\"140.567191\"/>\n     <use style=\"fill:#1f77b4;stroke:#1f77b4;\" x=\"167.734136\" xlink:href=\"#m433e3f6d86\" y=\"191.858861\"/>\n     <use style=\"fill:#1f77b4;stroke:#1f77b4;\" x=\"187.612535\" xlink:href=\"#m433e3f6d86\" y=\"149.545621\"/>\n     <use style=\"fill:#1f77b4;stroke:#1f77b4;\" x=\"183.143108\" xlink:href=\"#m433e3f6d86\" y=\"172.226705\"/>\n     <use style=\"fill:#1f77b4;stroke:#1f77b4;\" x=\"206.295038\" xlink:href=\"#m433e3f6d86\" y=\"192.197651\"/>\n     <use style=\"fill:#1f77b4;stroke:#1f77b4;\" x=\"214.953186\" xlink:href=\"#m433e3f6d86\" y=\"179.112107\"/>\n     <use style=\"fill:#1f77b4;stroke:#1f77b4;\" x=\"100.298902\" xlink:href=\"#m433e3f6d86\" y=\"158.82847\"/>\n     <use style=\"fill:#1f77b4;stroke:#1f77b4;\" x=\"224.0258\" xlink:href=\"#m433e3f6d86\" y=\"195.736853\"/>\n     <use style=\"fill:#1f77b4;stroke:#1f77b4;\" x=\"150.531637\" xlink:href=\"#m433e3f6d86\" y=\"150.832007\"/>\n     <use style=\"fill:#1f77b4;stroke:#1f77b4;\" x=\"239.395334\" xlink:href=\"#m433e3f6d86\" y=\"160.77614\"/>\n     <use style=\"fill:#1f77b4;stroke:#1f77b4;\" x=\"220.899195\" xlink:href=\"#m433e3f6d86\" y=\"158.800224\"/>\n     <use style=\"fill:#1f77b4;stroke:#1f77b4;\" x=\"213.440588\" xlink:href=\"#m433e3f6d86\" y=\"168.352862\"/>\n     <use style=\"fill:#1f77b4;stroke:#1f77b4;\" x=\"264.012262\" xlink:href=\"#m433e3f6d86\" y=\"141.220181\"/>\n     <use style=\"fill:#1f77b4;stroke:#1f77b4;\" x=\"153.030284\" xlink:href=\"#m433e3f6d86\" y=\"148.636532\"/>\n     <use style=\"fill:#1f77b4;stroke:#1f77b4;\" x=\"151.552763\" xlink:href=\"#m433e3f6d86\" y=\"175.73042\"/>\n     <use style=\"fill:#1f77b4;stroke:#1f77b4;\" x=\"157.824963\" xlink:href=\"#m433e3f6d86\" y=\"145.577632\"/>\n     <use style=\"fill:#1f77b4;stroke:#1f77b4;\" x=\"180.771575\" xlink:href=\"#m433e3f6d86\" y=\"153.923678\"/>\n     <use style=\"fill:#1f77b4;stroke:#1f77b4;\" x=\"291.625547\" xlink:href=\"#m433e3f6d86\" y=\"192.576732\"/>\n     <use style=\"fill:#1f77b4;stroke:#1f77b4;\" x=\"182.861406\" xlink:href=\"#m433e3f6d86\" y=\"149.769538\"/>\n     <use style=\"fill:#1f77b4;stroke:#1f77b4;\" x=\"179.749052\" xlink:href=\"#m433e3f6d86\" y=\"196.076072\"/>\n     <use style=\"fill:#1f77b4;stroke:#1f77b4;\" x=\"212.703116\" xlink:href=\"#m433e3f6d86\" y=\"128.322218\"/>\n     <use style=\"fill:#1f77b4;stroke:#1f77b4;\" x=\"143.455846\" xlink:href=\"#m433e3f6d86\" y=\"153.493366\"/>\n     <use style=\"fill:#1f77b4;stroke:#1f77b4;\" x=\"205.225942\" xlink:href=\"#m433e3f6d86\" y=\"146.772373\"/>\n     <use style=\"fill:#1f77b4;stroke:#1f77b4;\" x=\"260.591381\" xlink:href=\"#m433e3f6d86\" y=\"170.75022\"/>\n     <use style=\"fill:#1f77b4;stroke:#1f77b4;\" x=\"196.823266\" xlink:href=\"#m433e3f6d86\" y=\"144.340952\"/>\n     <use style=\"fill:#1f77b4;stroke:#1f77b4;\" x=\"212.852958\" xlink:href=\"#m433e3f6d86\" y=\"158.535279\"/>\n     <use style=\"fill:#1f77b4;stroke:#1f77b4;\" x=\"168.660377\" xlink:href=\"#m433e3f6d86\" y=\"131.247046\"/>\n     <use style=\"fill:#1f77b4;stroke:#1f77b4;\" x=\"134.382921\" xlink:href=\"#m433e3f6d86\" y=\"205.546559\"/>\n     <use style=\"fill:#1f77b4;stroke:#1f77b4;\" x=\"233.389074\" xlink:href=\"#m433e3f6d86\" y=\"168.22855\"/>\n     <use style=\"fill:#1f77b4;stroke:#1f77b4;\" x=\"176.011319\" xlink:href=\"#m433e3f6d86\" y=\"153.760336\"/>\n     <use style=\"fill:#1f77b4;stroke:#1f77b4;\" x=\"157.704834\" xlink:href=\"#m433e3f6d86\" y=\"147.846839\"/>\n     <use style=\"fill:#1f77b4;stroke:#1f77b4;\" x=\"221.126843\" xlink:href=\"#m433e3f6d86\" y=\"107.394053\"/>\n     <use style=\"fill:#1f77b4;stroke:#1f77b4;\" x=\"208.960571\" xlink:href=\"#m433e3f6d86\" y=\"167.922434\"/>\n     <use style=\"fill:#1f77b4;stroke:#1f77b4;\" x=\"125.481858\" xlink:href=\"#m433e3f6d86\" y=\"171.884255\"/>\n     <use style=\"fill:#1f77b4;stroke:#1f77b4;\" x=\"283.02686\" xlink:href=\"#m433e3f6d86\" y=\"174.720089\"/>\n     <use style=\"fill:#1f77b4;stroke:#1f77b4;\" x=\"185.248518\" xlink:href=\"#m433e3f6d86\" y=\"186.192297\"/>\n     <use style=\"fill:#1f77b4;stroke:#1f77b4;\" x=\"181.924352\" xlink:href=\"#m433e3f6d86\" y=\"165.841525\"/>\n     <use style=\"fill:#1f77b4;stroke:#1f77b4;\" x=\"199.339749\" xlink:href=\"#m433e3f6d86\" y=\"169.741649\"/>\n     <use style=\"fill:#1f77b4;stroke:#1f77b4;\" x=\"175.767962\" xlink:href=\"#m433e3f6d86\" y=\"187.92801\"/>\n     <use style=\"fill:#1f77b4;stroke:#1f77b4;\" x=\"170.225847\" xlink:href=\"#m433e3f6d86\" y=\"190.880035\"/>\n     <use style=\"fill:#1f77b4;stroke:#1f77b4;\" x=\"172.868931\" xlink:href=\"#m433e3f6d86\" y=\"157.305335\"/>\n     <use style=\"fill:#1f77b4;stroke:#1f77b4;\" x=\"207.752917\" xlink:href=\"#m433e3f6d86\" y=\"144.754694\"/>\n     <use style=\"fill:#1f77b4;stroke:#1f77b4;\" x=\"149.349744\" xlink:href=\"#m433e3f6d86\" y=\"134.96681\"/>\n     <use style=\"fill:#1f77b4;stroke:#1f77b4;\" x=\"194.992396\" xlink:href=\"#m433e3f6d86\" y=\"196.13876\"/>\n     <use style=\"fill:#1f77b4;stroke:#1f77b4;\" x=\"201.274921\" xlink:href=\"#m433e3f6d86\" y=\"179.866561\"/>\n     <use style=\"fill:#1f77b4;stroke:#1f77b4;\" x=\"156.025502\" xlink:href=\"#m433e3f6d86\" y=\"116.82229\"/>\n     <use style=\"fill:#1f77b4;stroke:#1f77b4;\" x=\"223.794008\" xlink:href=\"#m433e3f6d86\" y=\"169.889695\"/>\n     <use style=\"fill:#1f77b4;stroke:#1f77b4;\" x=\"169.164005\" xlink:href=\"#m433e3f6d86\" y=\"163.191971\"/>\n     <use style=\"fill:#1f77b4;stroke:#1f77b4;\" x=\"225.57626\" xlink:href=\"#m433e3f6d86\" y=\"147.807552\"/>\n     <use style=\"fill:#1f77b4;stroke:#1f77b4;\" x=\"252.529824\" xlink:href=\"#m433e3f6d86\" y=\"203.486505\"/>\n     <use style=\"fill:#1f77b4;stroke:#1f77b4;\" x=\"225.234914\" xlink:href=\"#m433e3f6d86\" y=\"171.636671\"/>\n     <use style=\"fill:#1f77b4;stroke:#1f77b4;\" x=\"222.602143\" xlink:href=\"#m433e3f6d86\" y=\"182.374744\"/>\n     <use style=\"fill:#1f77b4;stroke:#1f77b4;\" x=\"236.310253\" xlink:href=\"#m433e3f6d86\" y=\"198.785112\"/>\n     <use style=\"fill:#1f77b4;stroke:#1f77b4;\" x=\"187.449859\" xlink:href=\"#m433e3f6d86\" y=\"153.31912\"/>\n     <use style=\"fill:#1f77b4;stroke:#1f77b4;\" x=\"180.516297\" xlink:href=\"#m433e3f6d86\" y=\"203.831956\"/>\n     <use style=\"fill:#1f77b4;stroke:#1f77b4;\" x=\"197.962367\" xlink:href=\"#m433e3f6d86\" y=\"201.947467\"/>\n     <use style=\"fill:#1f77b4;stroke:#1f77b4;\" x=\"186.47095\" xlink:href=\"#m433e3f6d86\" y=\"162.870541\"/>\n     <use style=\"fill:#1f77b4;stroke:#1f77b4;\" x=\"186.709386\" xlink:href=\"#m433e3f6d86\" y=\"139.524602\"/>\n     <use style=\"fill:#1f77b4;stroke:#1f77b4;\" x=\"165.040116\" xlink:href=\"#m433e3f6d86\" y=\"161.035254\"/>\n     <use style=\"fill:#1f77b4;stroke:#1f77b4;\" x=\"178.241634\" xlink:href=\"#m433e3f6d86\" y=\"190.690145\"/>\n     <use style=\"fill:#1f77b4;stroke:#1f77b4;\" x=\"168.498152\" xlink:href=\"#m433e3f6d86\" y=\"187.858383\"/>\n     <use style=\"fill:#1f77b4;stroke:#1f77b4;\" x=\"170.010007\" xlink:href=\"#m433e3f6d86\" y=\"153.166491\"/>\n     <use style=\"fill:#1f77b4;stroke:#1f77b4;\" x=\"237.216102\" xlink:href=\"#m433e3f6d86\" y=\"153.347152\"/>\n     <use style=\"fill:#1f77b4;stroke:#1f77b4;\" x=\"151.240305\" xlink:href=\"#m433e3f6d86\" y=\"164.978717\"/>\n     <use style=\"fill:#1f77b4;stroke:#1f77b4;\" x=\"236.367898\" xlink:href=\"#m433e3f6d86\" y=\"169.172037\"/>\n     <use style=\"fill:#1f77b4;stroke:#1f77b4;\" x=\"234.333406\" xlink:href=\"#m433e3f6d86\" y=\"143.301526\"/>\n     <use style=\"fill:#1f77b4;stroke:#1f77b4;\" x=\"197.018761\" xlink:href=\"#m433e3f6d86\" y=\"147.068867\"/>\n     <use style=\"fill:#1f77b4;stroke:#1f77b4;\" x=\"262.540286\" xlink:href=\"#m433e3f6d86\" y=\"170.356801\"/>\n     <use style=\"fill:#1f77b4;stroke:#1f77b4;\" x=\"193.064772\" xlink:href=\"#m433e3f6d86\" y=\"156.204315\"/>\n     <use style=\"fill:#1f77b4;stroke:#1f77b4;\" x=\"150.254177\" xlink:href=\"#m433e3f6d86\" y=\"152.011017\"/>\n     <use style=\"fill:#1f77b4;stroke:#1f77b4;\" x=\"166.138408\" xlink:href=\"#m433e3f6d86\" y=\"173.642491\"/>\n     <use style=\"fill:#1f77b4;stroke:#1f77b4;\" x=\"97.043923\" xlink:href=\"#m433e3f6d86\" y=\"131.6231\"/>\n     <use style=\"fill:#1f77b4;stroke:#1f77b4;\" x=\"154.54181\" xlink:href=\"#m433e3f6d86\" y=\"152.025847\"/>\n     <use style=\"fill:#1f77b4;stroke:#1f77b4;\" x=\"155.879125\" xlink:href=\"#m433e3f6d86\" y=\"128.380553\"/>\n     <use style=\"fill:#1f77b4;stroke:#1f77b4;\" x=\"145.560671\" xlink:href=\"#m433e3f6d86\" y=\"141.263004\"/>\n     <use style=\"fill:#1f77b4;stroke:#1f77b4;\" x=\"163.50962\" xlink:href=\"#m433e3f6d86\" y=\"152.18847\"/>\n     <use style=\"fill:#1f77b4;stroke:#1f77b4;\" x=\"266.739871\" xlink:href=\"#m433e3f6d86\" y=\"173.577979\"/>\n     <use style=\"fill:#1f77b4;stroke:#1f77b4;\" x=\"206.634359\" xlink:href=\"#m433e3f6d86\" y=\"120.701816\"/>\n     <use style=\"fill:#1f77b4;stroke:#1f77b4;\" x=\"253.164241\" xlink:href=\"#m433e3f6d86\" y=\"167.948196\"/>\n     <use style=\"fill:#1f77b4;stroke:#1f77b4;\" x=\"116.088116\" xlink:href=\"#m433e3f6d86\" y=\"155.524803\"/>\n     <use style=\"fill:#1f77b4;stroke:#1f77b4;\" x=\"232.839795\" xlink:href=\"#m433e3f6d86\" y=\"112.232246\"/>\n     <use style=\"fill:#1f77b4;stroke:#1f77b4;\" x=\"243.280806\" xlink:href=\"#m433e3f6d86\" y=\"153.479009\"/>\n     <use style=\"fill:#1f77b4;stroke:#1f77b4;\" x=\"267.93498\" xlink:href=\"#m433e3f6d86\" y=\"184.014071\"/>\n     <use style=\"fill:#1f77b4;stroke:#1f77b4;\" x=\"161.717792\" xlink:href=\"#m433e3f6d86\" y=\"175.223692\"/>\n     <use style=\"fill:#1f77b4;stroke:#1f77b4;\" x=\"216.763009\" xlink:href=\"#m433e3f6d86\" y=\"149.536302\"/>\n     <use style=\"fill:#1f77b4;stroke:#1f77b4;\" x=\"198.26347\" xlink:href=\"#m433e3f6d86\" y=\"172.648083\"/>\n     <use style=\"fill:#1f77b4;stroke:#1f77b4;\" x=\"223.658145\" xlink:href=\"#m433e3f6d86\" y=\"139.381105\"/>\n     <use style=\"fill:#1f77b4;stroke:#1f77b4;\" x=\"263.288393\" xlink:href=\"#m433e3f6d86\" y=\"204.985056\"/>\n     <use style=\"fill:#1f77b4;stroke:#1f77b4;\" x=\"181.267527\" xlink:href=\"#m433e3f6d86\" y=\"173.149214\"/>\n     <use style=\"fill:#1f77b4;stroke:#1f77b4;\" x=\"153.256081\" xlink:href=\"#m433e3f6d86\" y=\"186.396621\"/>\n     <use style=\"fill:#1f77b4;stroke:#1f77b4;\" x=\"177.838029\" xlink:href=\"#m433e3f6d86\" y=\"159.79487\"/>\n     <use style=\"fill:#1f77b4;stroke:#1f77b4;\" x=\"249.436853\" xlink:href=\"#m433e3f6d86\" y=\"183.889189\"/>\n     <use style=\"fill:#1f77b4;stroke:#1f77b4;\" x=\"183.634028\" xlink:href=\"#m433e3f6d86\" y=\"175.641679\"/>\n     <use style=\"fill:#1f77b4;stroke:#1f77b4;\" x=\"190.902418\" xlink:href=\"#m433e3f6d86\" y=\"182.220151\"/>\n     <use style=\"fill:#1f77b4;stroke:#1f77b4;\" x=\"190.165739\" xlink:href=\"#m433e3f6d86\" y=\"158.341049\"/>\n     <use style=\"fill:#1f77b4;stroke:#1f77b4;\" x=\"210.131024\" xlink:href=\"#m433e3f6d86\" y=\"152.566533\"/>\n     <use style=\"fill:#1f77b4;stroke:#1f77b4;\" x=\"146.865479\" xlink:href=\"#m433e3f6d86\" y=\"122.827692\"/>\n     <use style=\"fill:#1f77b4;stroke:#1f77b4;\" x=\"203.008753\" xlink:href=\"#m433e3f6d86\" y=\"150.641996\"/>\n     <use style=\"fill:#1f77b4;stroke:#1f77b4;\" x=\"193.008362\" xlink:href=\"#m433e3f6d86\" y=\"136.223054\"/>\n     <use style=\"fill:#1f77b4;stroke:#1f77b4;\" x=\"139.979682\" xlink:href=\"#m433e3f6d86\" y=\"154.683109\"/>\n     <use style=\"fill:#1f77b4;stroke:#1f77b4;\" x=\"237.680843\" xlink:href=\"#m433e3f6d86\" y=\"164.464407\"/>\n     <use style=\"fill:#1f77b4;stroke:#1f77b4;\" x=\"351.429615\" xlink:href=\"#m433e3f6d86\" y=\"143.753698\"/>\n     <use style=\"fill:#1f77b4;stroke:#1f77b4;\" x=\"171.237653\" xlink:href=\"#m433e3f6d86\" y=\"124.316461\"/>\n     <use style=\"fill:#1f77b4;stroke:#1f77b4;\" x=\"194.558537\" xlink:href=\"#m433e3f6d86\" y=\"141.842807\"/>\n     <use style=\"fill:#1f77b4;stroke:#1f77b4;\" x=\"213.042598\" xlink:href=\"#m433e3f6d86\" y=\"187.72729\"/>\n     <use style=\"fill:#1f77b4;stroke:#1f77b4;\" x=\"219.234647\" xlink:href=\"#m433e3f6d86\" y=\"145.588821\"/>\n     <use style=\"fill:#1f77b4;stroke:#1f77b4;\" x=\"163.102835\" xlink:href=\"#m433e3f6d86\" y=\"161.106914\"/>\n     <use style=\"fill:#1f77b4;stroke:#1f77b4;\" x=\"198.390467\" xlink:href=\"#m433e3f6d86\" y=\"179.247997\"/>\n     <use style=\"fill:#1f77b4;stroke:#1f77b4;\" x=\"181.626616\" xlink:href=\"#m433e3f6d86\" y=\"189.955625\"/>\n     <use style=\"fill:#1f77b4;stroke:#1f77b4;\" x=\"193.230605\" xlink:href=\"#m433e3f6d86\" y=\"177.577384\"/>\n     <use style=\"fill:#1f77b4;stroke:#1f77b4;\" x=\"236.898969\" xlink:href=\"#m433e3f6d86\" y=\"193.101641\"/>\n     <use style=\"fill:#1f77b4;stroke:#1f77b4;\" x=\"248.431217\" xlink:href=\"#m433e3f6d86\" y=\"170.736538\"/>\n     <use style=\"fill:#1f77b4;stroke:#1f77b4;\" x=\"185.489185\" xlink:href=\"#m433e3f6d86\" y=\"184.104134\"/>\n     <use style=\"fill:#1f77b4;stroke:#1f77b4;\" x=\"214.431027\" xlink:href=\"#m433e3f6d86\" y=\"173.91371\"/>\n     <use style=\"fill:#1f77b4;stroke:#1f77b4;\" x=\"152.789722\" xlink:href=\"#m433e3f6d86\" y=\"175.121817\"/>\n     <use style=\"fill:#1f77b4;stroke:#1f77b4;\" x=\"196.063051\" xlink:href=\"#m433e3f6d86\" y=\"189.71275\"/>\n     <use style=\"fill:#1f77b4;stroke:#1f77b4;\" x=\"232.135498\" xlink:href=\"#m433e3f6d86\" y=\"169.337037\"/>\n     <use style=\"fill:#1f77b4;stroke:#1f77b4;\" x=\"201.094953\" xlink:href=\"#m433e3f6d86\" y=\"175.319252\"/>\n     <use style=\"fill:#1f77b4;stroke:#1f77b4;\" x=\"235.414609\" xlink:href=\"#m433e3f6d86\" y=\"142.028756\"/>\n     <use style=\"fill:#1f77b4;stroke:#1f77b4;\" x=\"246.850544\" xlink:href=\"#m433e3f6d86\" y=\"158.070412\"/>\n     <use style=\"fill:#1f77b4;stroke:#1f77b4;\" x=\"220.420485\" xlink:href=\"#m433e3f6d86\" y=\"204.499884\"/>\n     <use style=\"fill:#1f77b4;stroke:#1f77b4;\" x=\"201.675097\" xlink:href=\"#m433e3f6d86\" y=\"162.735576\"/>\n     <use style=\"fill:#1f77b4;stroke:#1f77b4;\" x=\"224.414207\" xlink:href=\"#m433e3f6d86\" y=\"134.358644\"/>\n     <use style=\"fill:#1f77b4;stroke:#1f77b4;\" x=\"139.197836\" xlink:href=\"#m433e3f6d86\" y=\"164.493721\"/>\n     <use style=\"fill:#1f77b4;stroke:#1f77b4;\" x=\"243.204103\" xlink:href=\"#m433e3f6d86\" y=\"158.356072\"/>\n     <use style=\"fill:#1f77b4;stroke:#1f77b4;\" x=\"201.579844\" xlink:href=\"#m433e3f6d86\" y=\"131.292538\"/>\n     <use style=\"fill:#1f77b4;stroke:#1f77b4;\" x=\"199.075535\" xlink:href=\"#m433e3f6d86\" y=\"158.68539\"/>\n     <use style=\"fill:#1f77b4;stroke:#1f77b4;\" x=\"193.450846\" xlink:href=\"#m433e3f6d86\" y=\"181.099415\"/>\n     <use style=\"fill:#1f77b4;stroke:#1f77b4;\" x=\"187.026385\" xlink:href=\"#m433e3f6d86\" y=\"191.81001\"/>\n     <use style=\"fill:#1f77b4;stroke:#1f77b4;\" x=\"220.461872\" xlink:href=\"#m433e3f6d86\" y=\"146.386156\"/>\n     <use style=\"fill:#1f77b4;stroke:#1f77b4;\" x=\"200.653328\" xlink:href=\"#m433e3f6d86\" y=\"162.651619\"/>\n     <use style=\"fill:#1f77b4;stroke:#1f77b4;\" x=\"127.04162\" xlink:href=\"#m433e3f6d86\" y=\"139.078373\"/>\n     <use style=\"fill:#1f77b4;stroke:#1f77b4;\" x=\"122.726126\" xlink:href=\"#m433e3f6d86\" y=\"154.194461\"/>\n     <use style=\"fill:#1f77b4;stroke:#1f77b4;\" x=\"153.008535\" xlink:href=\"#m433e3f6d86\" y=\"163.536572\"/>\n     <use style=\"fill:#1f77b4;stroke:#1f77b4;\" x=\"180.490023\" xlink:href=\"#m433e3f6d86\" y=\"162.24402\"/>\n     <use style=\"fill:#1f77b4;stroke:#1f77b4;\" x=\"162.31413\" xlink:href=\"#m433e3f6d86\" y=\"168.305942\"/>\n     <use style=\"fill:#1f77b4;stroke:#1f77b4;\" x=\"223.91398\" xlink:href=\"#m433e3f6d86\" y=\"157.095364\"/>\n     <use style=\"fill:#1f77b4;stroke:#1f77b4;\" x=\"161.921281\" xlink:href=\"#m433e3f6d86\" y=\"159.360822\"/>\n     <use style=\"fill:#1f77b4;stroke:#1f77b4;\" x=\"174.281642\" xlink:href=\"#m433e3f6d86\" y=\"166.718656\"/>\n     <use style=\"fill:#1f77b4;stroke:#1f77b4;\" x=\"160.041767\" xlink:href=\"#m433e3f6d86\" y=\"164.556263\"/>\n     <use style=\"fill:#1f77b4;stroke:#1f77b4;\" x=\"120.676035\" xlink:href=\"#m433e3f6d86\" y=\"186.723978\"/>\n     <use style=\"fill:#1f77b4;stroke:#1f77b4;\" x=\"256.757424\" xlink:href=\"#m433e3f6d86\" y=\"154.594324\"/>\n     <use style=\"fill:#1f77b4;stroke:#1f77b4;\" x=\"235.531744\" xlink:href=\"#m433e3f6d86\" y=\"132.811614\"/>\n     <use style=\"fill:#1f77b4;stroke:#1f77b4;\" x=\"199.545349\" xlink:href=\"#m433e3f6d86\" y=\"144.946482\"/>\n     <use style=\"fill:#1f77b4;stroke:#1f77b4;\" x=\"215.337182\" xlink:href=\"#m433e3f6d86\" y=\"164.728226\"/>\n     <use style=\"fill:#1f77b4;stroke:#1f77b4;\" x=\"122.047331\" xlink:href=\"#m433e3f6d86\" y=\"124.38736\"/>\n     <use style=\"fill:#1f77b4;stroke:#1f77b4;\" x=\"160.639587\" xlink:href=\"#m433e3f6d86\" y=\"198.315994\"/>\n     <use style=\"fill:#1f77b4;stroke:#1f77b4;\" x=\"230.324456\" xlink:href=\"#m433e3f6d86\" y=\"168.57413\"/>\n     <use style=\"fill:#1f77b4;stroke:#1f77b4;\" x=\"170.251055\" xlink:href=\"#m433e3f6d86\" y=\"168.702248\"/>\n     <use style=\"fill:#1f77b4;stroke:#1f77b4;\" x=\"255.958312\" xlink:href=\"#m433e3f6d86\" y=\"146.061271\"/>\n     <use style=\"fill:#1f77b4;stroke:#1f77b4;\" x=\"217.990308\" xlink:href=\"#m433e3f6d86\" y=\"152.340857\"/>\n     <use style=\"fill:#1f77b4;stroke:#1f77b4;\" x=\"140.865755\" xlink:href=\"#m433e3f6d86\" y=\"135.987962\"/>\n     <use style=\"fill:#1f77b4;stroke:#1f77b4;\" x=\"144.634602\" xlink:href=\"#m433e3f6d86\" y=\"145.636375\"/>\n     <use style=\"fill:#1f77b4;stroke:#1f77b4;\" x=\"166.947544\" xlink:href=\"#m433e3f6d86\" y=\"156.121104\"/>\n     <use style=\"fill:#1f77b4;stroke:#1f77b4;\" x=\"221.580819\" xlink:href=\"#m433e3f6d86\" y=\"168.877001\"/>\n     <use style=\"fill:#1f77b4;stroke:#1f77b4;\" x=\"184.982682\" xlink:href=\"#m433e3f6d86\" y=\"205.269072\"/>\n     <use style=\"fill:#1f77b4;stroke:#1f77b4;\" x=\"223.707052\" xlink:href=\"#m433e3f6d86\" y=\"183.69579\"/>\n     <use style=\"fill:#1f77b4;stroke:#1f77b4;\" x=\"203.589457\" xlink:href=\"#m433e3f6d86\" y=\"182.268727\"/>\n     <use style=\"fill:#1f77b4;stroke:#1f77b4;\" x=\"115.437244\" xlink:href=\"#m433e3f6d86\" y=\"160.242986\"/>\n     <use style=\"fill:#1f77b4;stroke:#1f77b4;\" x=\"203.5794\" xlink:href=\"#m433e3f6d86\" y=\"144.892099\"/>\n     <use style=\"fill:#1f77b4;stroke:#1f77b4;\" x=\"193.742944\" xlink:href=\"#m433e3f6d86\" y=\"149.685942\"/>\n     <use style=\"fill:#1f77b4;stroke:#1f77b4;\" x=\"186.978442\" xlink:href=\"#m433e3f6d86\" y=\"185.017763\"/>\n     <use style=\"fill:#1f77b4;stroke:#1f77b4;\" x=\"241.656701\" xlink:href=\"#m433e3f6d86\" y=\"187.736621\"/>\n     <use style=\"fill:#1f77b4;stroke:#1f77b4;\" x=\"222.434584\" xlink:href=\"#m433e3f6d86\" y=\"166.183407\"/>\n     <use style=\"fill:#1f77b4;stroke:#1f77b4;\" x=\"215.338556\" xlink:href=\"#m433e3f6d86\" y=\"173.613894\"/>\n     <use style=\"fill:#1f77b4;stroke:#1f77b4;\" x=\"208.721712\" xlink:href=\"#m433e3f6d86\" y=\"140.468279\"/>\n     <use style=\"fill:#1f77b4;stroke:#1f77b4;\" x=\"213.00329\" xlink:href=\"#m433e3f6d86\" y=\"179.192348\"/>\n     <use style=\"fill:#1f77b4;stroke:#1f77b4;\" x=\"197.56124\" xlink:href=\"#m433e3f6d86\" y=\"212.38972\"/>\n     <use style=\"fill:#1f77b4;stroke:#1f77b4;\" x=\"225.88933\" xlink:href=\"#m433e3f6d86\" y=\"164.029541\"/>\n     <use style=\"fill:#1f77b4;stroke:#1f77b4;\" x=\"144.58324\" xlink:href=\"#m433e3f6d86\" y=\"154.633723\"/>\n     <use style=\"fill:#1f77b4;stroke:#1f77b4;\" x=\"188.056845\" xlink:href=\"#m433e3f6d86\" y=\"129.276437\"/>\n     <use style=\"fill:#1f77b4;stroke:#1f77b4;\" x=\"160.316398\" xlink:href=\"#m433e3f6d86\" y=\"164.920734\"/>\n     <use style=\"fill:#1f77b4;stroke:#1f77b4;\" x=\"191.232219\" xlink:href=\"#m433e3f6d86\" y=\"144.924214\"/>\n     <use style=\"fill:#1f77b4;stroke:#1f77b4;\" x=\"181.710474\" xlink:href=\"#m433e3f6d86\" y=\"144.82003\"/>\n     <use style=\"fill:#1f77b4;stroke:#1f77b4;\" x=\"193.833118\" xlink:href=\"#m433e3f6d86\" y=\"146.208759\"/>\n     <use style=\"fill:#1f77b4;stroke:#1f77b4;\" x=\"251.193911\" xlink:href=\"#m433e3f6d86\" y=\"193.809661\"/>\n     <use style=\"fill:#1f77b4;stroke:#1f77b4;\" x=\"228.944469\" xlink:href=\"#m433e3f6d86\" y=\"134.077463\"/>\n     <use style=\"fill:#1f77b4;stroke:#1f77b4;\" x=\"152.18094\" xlink:href=\"#m433e3f6d86\" y=\"181.584494\"/>\n     <use style=\"fill:#1f77b4;stroke:#1f77b4;\" x=\"281.343898\" xlink:href=\"#m433e3f6d86\" y=\"171.777585\"/>\n     <use style=\"fill:#1f77b4;stroke:#1f77b4;\" x=\"213.654922\" xlink:href=\"#m433e3f6d86\" y=\"153.471787\"/>\n     <use style=\"fill:#1f77b4;stroke:#1f77b4;\" x=\"186.704775\" xlink:href=\"#m433e3f6d86\" y=\"185.908234\"/>\n     <use style=\"fill:#1f77b4;stroke:#1f77b4;\" x=\"238.781401\" xlink:href=\"#m433e3f6d86\" y=\"211.099654\"/>\n     <use style=\"fill:#1f77b4;stroke:#1f77b4;\" x=\"150.20869\" xlink:href=\"#m433e3f6d86\" y=\"176.28137\"/>\n     <use style=\"fill:#1f77b4;stroke:#1f77b4;\" x=\"236.645817\" xlink:href=\"#m433e3f6d86\" y=\"167.063239\"/>\n     <use style=\"fill:#1f77b4;stroke:#1f77b4;\" x=\"188.00142\" xlink:href=\"#m433e3f6d86\" y=\"166.386497\"/>\n     <use style=\"fill:#1f77b4;stroke:#1f77b4;\" x=\"147.879805\" xlink:href=\"#m433e3f6d86\" y=\"171.610572\"/>\n     <use style=\"fill:#1f77b4;stroke:#1f77b4;\" x=\"189.79104\" xlink:href=\"#m433e3f6d86\" y=\"146.985986\"/>\n     <use style=\"fill:#1f77b4;stroke:#1f77b4;\" x=\"243.678122\" xlink:href=\"#m433e3f6d86\" y=\"182.535285\"/>\n     <use style=\"fill:#1f77b4;stroke:#1f77b4;\" x=\"170.594698\" xlink:href=\"#m433e3f6d86\" y=\"160.334446\"/>\n     <use style=\"fill:#1f77b4;stroke:#1f77b4;\" x=\"179.754268\" xlink:href=\"#m433e3f6d86\" y=\"179.86833\"/>\n     <use style=\"fill:#1f77b4;stroke:#1f77b4;\" x=\"208.193982\" xlink:href=\"#m433e3f6d86\" y=\"164.110349\"/>\n     <use style=\"fill:#1f77b4;stroke:#1f77b4;\" x=\"189.776028\" xlink:href=\"#m433e3f6d86\" y=\"143.174244\"/>\n     <use style=\"fill:#1f77b4;stroke:#1f77b4;\" x=\"182.072071\" xlink:href=\"#m433e3f6d86\" y=\"106.211725\"/>\n     <use style=\"fill:#1f77b4;stroke:#1f77b4;\" x=\"137.964065\" xlink:href=\"#m433e3f6d86\" y=\"168.420398\"/>\n     <use style=\"fill:#1f77b4;stroke:#1f77b4;\" x=\"227.164468\" xlink:href=\"#m433e3f6d86\" y=\"148.612267\"/>\n     <use style=\"fill:#1f77b4;stroke:#1f77b4;\" x=\"201.923362\" xlink:href=\"#m433e3f6d86\" y=\"128.189519\"/>\n     <use style=\"fill:#1f77b4;stroke:#1f77b4;\" x=\"183.416463\" xlink:href=\"#m433e3f6d86\" y=\"113.743385\"/>\n     <use style=\"fill:#1f77b4;stroke:#1f77b4;\" x=\"235.070092\" xlink:href=\"#m433e3f6d86\" y=\"151.919136\"/>\n     <use style=\"fill:#1f77b4;stroke:#1f77b4;\" x=\"233.20316\" xlink:href=\"#m433e3f6d86\" y=\"176.589057\"/>\n     <use style=\"fill:#1f77b4;stroke:#1f77b4;\" x=\"163.236251\" xlink:href=\"#m433e3f6d86\" y=\"169.851885\"/>\n     <use style=\"fill:#1f77b4;stroke:#1f77b4;\" x=\"169.384285\" xlink:href=\"#m433e3f6d86\" y=\"150.40854\"/>\n     <use style=\"fill:#1f77b4;stroke:#1f77b4;\" x=\"154.461205\" xlink:href=\"#m433e3f6d86\" y=\"170.764562\"/>\n     <use style=\"fill:#1f77b4;stroke:#1f77b4;\" x=\"181.051599\" xlink:href=\"#m433e3f6d86\" y=\"155.115465\"/>\n     <use style=\"fill:#1f77b4;stroke:#1f77b4;\" x=\"181.757969\" xlink:href=\"#m433e3f6d86\" y=\"115.588138\"/>\n     <use style=\"fill:#1f77b4;stroke:#1f77b4;\" x=\"189.351207\" xlink:href=\"#m433e3f6d86\" y=\"171.828559\"/>\n     <use style=\"fill:#1f77b4;stroke:#1f77b4;\" x=\"233.86685\" xlink:href=\"#m433e3f6d86\" y=\"132.09438\"/>\n     <use style=\"fill:#1f77b4;stroke:#1f77b4;\" x=\"136.134323\" xlink:href=\"#m433e3f6d86\" y=\"214.756364\"/>\n     <use style=\"fill:#1f77b4;stroke:#1f77b4;\" x=\"173.597812\" xlink:href=\"#m433e3f6d86\" y=\"173.778559\"/>\n    </g>\n   </g>\n   <g id=\"PathCollection_2\">\n    <defs>\n     <path d=\"M 0 3 \nC 0.795609 3 1.55874 2.683901 2.12132 2.12132 \nC 2.683901 1.55874 3 0.795609 3 0 \nC 3 -0.795609 2.683901 -1.55874 2.12132 -2.12132 \nC 1.55874 -2.683901 0.795609 -3 0 -3 \nC -0.795609 -3 -1.55874 -2.683901 -2.12132 -2.12132 \nC -2.683901 -1.55874 -3 -0.795609 -3 0 \nC -3 0.795609 -2.683901 1.55874 -2.12132 2.12132 \nC -1.55874 2.683901 -0.795609 3 0 3 \nz\n\" id=\"m39d88f0d82\" style=\"stroke:#ff7f0e;\"/>\n    </defs>\n    <g clip-path=\"url(#p066588134d)\">\n     <use style=\"fill:#ff7f0e;stroke:#ff7f0e;\" x=\"229.09918\" xlink:href=\"#m39d88f0d82\" y=\"83.565083\"/>\n     <use style=\"fill:#ff7f0e;stroke:#ff7f0e;\" x=\"204.805717\" xlink:href=\"#m39d88f0d82\" y=\"103.015169\"/>\n     <use style=\"fill:#ff7f0e;stroke:#ff7f0e;\" x=\"268.755113\" xlink:href=\"#m39d88f0d82\" y=\"78.562472\"/>\n     <use style=\"fill:#ff7f0e;stroke:#ff7f0e;\" x=\"269.94374\" xlink:href=\"#m39d88f0d82\" y=\"87.582921\"/>\n     <use style=\"fill:#ff7f0e;stroke:#ff7f0e;\" x=\"228.692079\" xlink:href=\"#m39d88f0d82\" y=\"63.73928\"/>\n     <use style=\"fill:#ff7f0e;stroke:#ff7f0e;\" x=\"215.939356\" xlink:href=\"#m39d88f0d82\" y=\"105.337421\"/>\n     <use style=\"fill:#ff7f0e;stroke:#ff7f0e;\" x=\"176.725611\" xlink:href=\"#m39d88f0d82\" y=\"70.398206\"/>\n     <use style=\"fill:#ff7f0e;stroke:#ff7f0e;\" x=\"208.500882\" xlink:href=\"#m39d88f0d82\" y=\"81.012803\"/>\n     <use style=\"fill:#ff7f0e;stroke:#ff7f0e;\" x=\"219.745832\" xlink:href=\"#m39d88f0d82\" y=\"54.704822\"/>\n     <use style=\"fill:#ff7f0e;stroke:#ff7f0e;\" x=\"212.1789\" xlink:href=\"#m39d88f0d82\" y=\"69.771828\"/>\n     <use style=\"fill:#ff7f0e;stroke:#ff7f0e;\" x=\"230.776257\" xlink:href=\"#m39d88f0d82\" y=\"50.796077\"/>\n     <use style=\"fill:#ff7f0e;stroke:#ff7f0e;\" x=\"218.446694\" xlink:href=\"#m39d88f0d82\" y=\"76.151651\"/>\n     <use style=\"fill:#ff7f0e;stroke:#ff7f0e;\" x=\"248.410334\" xlink:href=\"#m39d88f0d82\" y=\"59.116143\"/>\n     <use style=\"fill:#ff7f0e;stroke:#ff7f0e;\" x=\"174.660285\" xlink:href=\"#m39d88f0d82\" y=\"61.55393\"/>\n     <use style=\"fill:#ff7f0e;stroke:#ff7f0e;\" x=\"193.469117\" xlink:href=\"#m39d88f0d82\" y=\"67.793266\"/>\n     <use style=\"fill:#ff7f0e;stroke:#ff7f0e;\" x=\"211.168585\" xlink:href=\"#m39d88f0d82\" y=\"61.708859\"/>\n     <use style=\"fill:#ff7f0e;stroke:#ff7f0e;\" x=\"204.41726\" xlink:href=\"#m39d88f0d82\" y=\"108.132011\"/>\n     <use style=\"fill:#ff7f0e;stroke:#ff7f0e;\" x=\"236.822648\" xlink:href=\"#m39d88f0d82\" y=\"52.86173\"/>\n     <use style=\"fill:#ff7f0e;stroke:#ff7f0e;\" x=\"249.201288\" xlink:href=\"#m39d88f0d82\" y=\"89.477431\"/>\n     <use style=\"fill:#ff7f0e;stroke:#ff7f0e;\" x=\"229.951965\" xlink:href=\"#m39d88f0d82\" y=\"69.808444\"/>\n     <use style=\"fill:#ff7f0e;stroke:#ff7f0e;\" x=\"225.961681\" xlink:href=\"#m39d88f0d82\" y=\"97.819767\"/>\n     <use style=\"fill:#ff7f0e;stroke:#ff7f0e;\" x=\"261.98851\" xlink:href=\"#m39d88f0d82\" y=\"89.852894\"/>\n     <use style=\"fill:#ff7f0e;stroke:#ff7f0e;\" x=\"237.752027\" xlink:href=\"#m39d88f0d82\" y=\"63.91794\"/>\n     <use style=\"fill:#ff7f0e;stroke:#ff7f0e;\" x=\"168.756753\" xlink:href=\"#m39d88f0d82\" y=\"56.649339\"/>\n     <use style=\"fill:#ff7f0e;stroke:#ff7f0e;\" x=\"235.414712\" xlink:href=\"#m39d88f0d82\" y=\"102.503556\"/>\n     <use style=\"fill:#ff7f0e;stroke:#ff7f0e;\" x=\"206.202629\" xlink:href=\"#m39d88f0d82\" y=\"41.200603\"/>\n     <use style=\"fill:#ff7f0e;stroke:#ff7f0e;\" x=\"310.88854\" xlink:href=\"#m39d88f0d82\" y=\"109.440742\"/>\n     <use style=\"fill:#ff7f0e;stroke:#ff7f0e;\" x=\"258.280026\" xlink:href=\"#m39d88f0d82\" y=\"73.214698\"/>\n     <use style=\"fill:#ff7f0e;stroke:#ff7f0e;\" x=\"258.903775\" xlink:href=\"#m39d88f0d82\" y=\"95.622869\"/>\n     <use style=\"fill:#ff7f0e;stroke:#ff7f0e;\" x=\"217.304669\" xlink:href=\"#m39d88f0d82\" y=\"85.128276\"/>\n     <use style=\"fill:#ff7f0e;stroke:#ff7f0e;\" x=\"217.994471\" xlink:href=\"#m39d88f0d82\" y=\"94.316565\"/>\n     <use style=\"fill:#ff7f0e;stroke:#ff7f0e;\" x=\"174.601842\" xlink:href=\"#m39d88f0d82\" y=\"85.350454\"/>\n     <use style=\"fill:#ff7f0e;stroke:#ff7f0e;\" x=\"271.903659\" xlink:href=\"#m39d88f0d82\" y=\"58.354295\"/>\n     <use style=\"fill:#ff7f0e;stroke:#ff7f0e;\" x=\"230.579387\" xlink:href=\"#m39d88f0d82\" y=\"17.083636\"/>\n     <use style=\"fill:#ff7f0e;stroke:#ff7f0e;\" x=\"231.21622\" xlink:href=\"#m39d88f0d82\" y=\"72.978583\"/>\n     <use style=\"fill:#ff7f0e;stroke:#ff7f0e;\" x=\"214.168481\" xlink:href=\"#m39d88f0d82\" y=\"71.642386\"/>\n     <use style=\"fill:#ff7f0e;stroke:#ff7f0e;\" x=\"209.349253\" xlink:href=\"#m39d88f0d82\" y=\"62.189617\"/>\n     <use style=\"fill:#ff7f0e;stroke:#ff7f0e;\" x=\"238.61403\" xlink:href=\"#m39d88f0d82\" y=\"91.007262\"/>\n     <use style=\"fill:#ff7f0e;stroke:#ff7f0e;\" x=\"253.838276\" xlink:href=\"#m39d88f0d82\" y=\"88.942453\"/>\n     <use style=\"fill:#ff7f0e;stroke:#ff7f0e;\" x=\"162.926092\" xlink:href=\"#m39d88f0d82\" y=\"87.46335\"/>\n     <use style=\"fill:#ff7f0e;stroke:#ff7f0e;\" x=\"201.326943\" xlink:href=\"#m39d88f0d82\" y=\"37.972273\"/>\n     <use style=\"fill:#ff7f0e;stroke:#ff7f0e;\" x=\"247.073864\" xlink:href=\"#m39d88f0d82\" y=\"86.421559\"/>\n     <use style=\"fill:#ff7f0e;stroke:#ff7f0e;\" x=\"238.153882\" xlink:href=\"#m39d88f0d82\" y=\"97.738499\"/>\n     <use style=\"fill:#ff7f0e;stroke:#ff7f0e;\" x=\"277.602907\" xlink:href=\"#m39d88f0d82\" y=\"67.025745\"/>\n     <use style=\"fill:#ff7f0e;stroke:#ff7f0e;\" x=\"239.433387\" xlink:href=\"#m39d88f0d82\" y=\"45.795447\"/>\n     <use style=\"fill:#ff7f0e;stroke:#ff7f0e;\" x=\"201.804736\" xlink:href=\"#m39d88f0d82\" y=\"61.332273\"/>\n     <use style=\"fill:#ff7f0e;stroke:#ff7f0e;\" x=\"242.80296\" xlink:href=\"#m39d88f0d82\" y=\"100.581776\"/>\n     <use style=\"fill:#ff7f0e;stroke:#ff7f0e;\" x=\"253.382782\" xlink:href=\"#m39d88f0d82\" y=\"77.244062\"/>\n     <use style=\"fill:#ff7f0e;stroke:#ff7f0e;\" x=\"221.626327\" xlink:href=\"#m39d88f0d82\" y=\"78.78741\"/>\n     <use style=\"fill:#ff7f0e;stroke:#ff7f0e;\" x=\"245.741029\" xlink:href=\"#m39d88f0d82\" y=\"74.999285\"/>\n     <use style=\"fill:#ff7f0e;stroke:#ff7f0e;\" x=\"208.981623\" xlink:href=\"#m39d88f0d82\" y=\"94.232782\"/>\n     <use style=\"fill:#ff7f0e;stroke:#ff7f0e;\" x=\"227.989072\" xlink:href=\"#m39d88f0d82\" y=\"105.63939\"/>\n     <use style=\"fill:#ff7f0e;stroke:#ff7f0e;\" x=\"251.436357\" xlink:href=\"#m39d88f0d82\" y=\"105.058191\"/>\n     <use style=\"fill:#ff7f0e;stroke:#ff7f0e;\" x=\"215.180501\" xlink:href=\"#m39d88f0d82\" y=\"69.346824\"/>\n     <use style=\"fill:#ff7f0e;stroke:#ff7f0e;\" x=\"274.223015\" xlink:href=\"#m39d88f0d82\" y=\"79.049292\"/>\n     <use style=\"fill:#ff7f0e;stroke:#ff7f0e;\" x=\"248.55872\" xlink:href=\"#m39d88f0d82\" y=\"92.986731\"/>\n     <use style=\"fill:#ff7f0e;stroke:#ff7f0e;\" x=\"288.064134\" xlink:href=\"#m39d88f0d82\" y=\"68.403653\"/>\n     <use style=\"fill:#ff7f0e;stroke:#ff7f0e;\" x=\"267.667915\" xlink:href=\"#m39d88f0d82\" y=\"75.82533\"/>\n     <use style=\"fill:#ff7f0e;stroke:#ff7f0e;\" x=\"194.829616\" xlink:href=\"#m39d88f0d82\" y=\"86.664243\"/>\n     <use style=\"fill:#ff7f0e;stroke:#ff7f0e;\" x=\"206.13319\" xlink:href=\"#m39d88f0d82\" y=\"80.114319\"/>\n     <use style=\"fill:#ff7f0e;stroke:#ff7f0e;\" x=\"219.799114\" xlink:href=\"#m39d88f0d82\" y=\"76.971752\"/>\n     <use style=\"fill:#ff7f0e;stroke:#ff7f0e;\" x=\"250.567057\" xlink:href=\"#m39d88f0d82\" y=\"77.554461\"/>\n     <use style=\"fill:#ff7f0e;stroke:#ff7f0e;\" x=\"205.079106\" xlink:href=\"#m39d88f0d82\" y=\"34.406755\"/>\n     <use style=\"fill:#ff7f0e;stroke:#ff7f0e;\" x=\"232.62813\" xlink:href=\"#m39d88f0d82\" y=\"97.080758\"/>\n     <use style=\"fill:#ff7f0e;stroke:#ff7f0e;\" x=\"218.182896\" xlink:href=\"#m39d88f0d82\" y=\"42.798882\"/>\n     <use style=\"fill:#ff7f0e;stroke:#ff7f0e;\" x=\"254.261565\" xlink:href=\"#m39d88f0d82\" y=\"26.382674\"/>\n     <use style=\"fill:#ff7f0e;stroke:#ff7f0e;\" x=\"258.029866\" xlink:href=\"#m39d88f0d82\" y=\"82.387523\"/>\n     <use style=\"fill:#ff7f0e;stroke:#ff7f0e;\" x=\"228.87826\" xlink:href=\"#m39d88f0d82\" y=\"48.846627\"/>\n     <use style=\"fill:#ff7f0e;stroke:#ff7f0e;\" x=\"181.230953\" xlink:href=\"#m39d88f0d82\" y=\"87.23357\"/>\n     <use style=\"fill:#ff7f0e;stroke:#ff7f0e;\" x=\"234.993954\" xlink:href=\"#m39d88f0d82\" y=\"80.420237\"/>\n     <use style=\"fill:#ff7f0e;stroke:#ff7f0e;\" x=\"291.271205\" xlink:href=\"#m39d88f0d82\" y=\"84.779283\"/>\n     <use style=\"fill:#ff7f0e;stroke:#ff7f0e;\" x=\"234.422168\" xlink:href=\"#m39d88f0d82\" y=\"68.748025\"/>\n     <use style=\"fill:#ff7f0e;stroke:#ff7f0e;\" x=\"215.544223\" xlink:href=\"#m39d88f0d82\" y=\"109.081915\"/>\n     <use style=\"fill:#ff7f0e;stroke:#ff7f0e;\" x=\"268.024368\" xlink:href=\"#m39d88f0d82\" y=\"110.741487\"/>\n     <use style=\"fill:#ff7f0e;stroke:#ff7f0e;\" x=\"283.430748\" xlink:href=\"#m39d88f0d82\" y=\"67.797623\"/>\n     <use style=\"fill:#ff7f0e;stroke:#ff7f0e;\" x=\"244.95634\" xlink:href=\"#m39d88f0d82\" y=\"66.939058\"/>\n     <use style=\"fill:#ff7f0e;stroke:#ff7f0e;\" x=\"248.393821\" xlink:href=\"#m39d88f0d82\" y=\"99.672301\"/>\n     <use style=\"fill:#ff7f0e;stroke:#ff7f0e;\" x=\"304.587414\" xlink:href=\"#m39d88f0d82\" y=\"58.799413\"/>\n     <use style=\"fill:#ff7f0e;stroke:#ff7f0e;\" x=\"200.371008\" xlink:href=\"#m39d88f0d82\" y=\"89.521892\"/>\n     <use style=\"fill:#ff7f0e;stroke:#ff7f0e;\" x=\"187.541977\" xlink:href=\"#m39d88f0d82\" y=\"68.977678\"/>\n     <use style=\"fill:#ff7f0e;stroke:#ff7f0e;\" x=\"261.803222\" xlink:href=\"#m39d88f0d82\" y=\"74.985412\"/>\n     <use style=\"fill:#ff7f0e;stroke:#ff7f0e;\" x=\"188.429519\" xlink:href=\"#m39d88f0d82\" y=\"93.269823\"/>\n     <use style=\"fill:#ff7f0e;stroke:#ff7f0e;\" x=\"167.584415\" xlink:href=\"#m39d88f0d82\" y=\"30.766683\"/>\n     <use style=\"fill:#ff7f0e;stroke:#ff7f0e;\" x=\"186.155723\" xlink:href=\"#m39d88f0d82\" y=\"59.574295\"/>\n     <use style=\"fill:#ff7f0e;stroke:#ff7f0e;\" x=\"277.883185\" xlink:href=\"#m39d88f0d82\" y=\"60.167784\"/>\n     <use style=\"fill:#ff7f0e;stroke:#ff7f0e;\" x=\"180.772341\" xlink:href=\"#m39d88f0d82\" y=\"52.04118\"/>\n     <use style=\"fill:#ff7f0e;stroke:#ff7f0e;\" x=\"231.338801\" xlink:href=\"#m39d88f0d82\" y=\"71.161413\"/>\n     <use style=\"fill:#ff7f0e;stroke:#ff7f0e;\" x=\"235.676274\" xlink:href=\"#m39d88f0d82\" y=\"90.718669\"/>\n     <use style=\"fill:#ff7f0e;stroke:#ff7f0e;\" x=\"216.636716\" xlink:href=\"#m39d88f0d82\" y=\"79.523047\"/>\n     <use style=\"fill:#ff7f0e;stroke:#ff7f0e;\" x=\"229.454334\" xlink:href=\"#m39d88f0d82\" y=\"72.843643\"/>\n     <use style=\"fill:#ff7f0e;stroke:#ff7f0e;\" x=\"205.246383\" xlink:href=\"#m39d88f0d82\" y=\"82.777751\"/>\n     <use style=\"fill:#ff7f0e;stroke:#ff7f0e;\" x=\"230.637919\" xlink:href=\"#m39d88f0d82\" y=\"79.420505\"/>\n     <use style=\"fill:#ff7f0e;stroke:#ff7f0e;\" x=\"238.746032\" xlink:href=\"#m39d88f0d82\" y=\"58.325303\"/>\n     <use style=\"fill:#ff7f0e;stroke:#ff7f0e;\" x=\"320.359817\" xlink:href=\"#m39d88f0d82\" y=\"60.114176\"/>\n     <use style=\"fill:#ff7f0e;stroke:#ff7f0e;\" x=\"201.96456\" xlink:href=\"#m39d88f0d82\" y=\"85.150882\"/>\n     <use style=\"fill:#ff7f0e;stroke:#ff7f0e;\" x=\"252.921476\" xlink:href=\"#m39d88f0d82\" y=\"103.647498\"/>\n     <use style=\"fill:#ff7f0e;stroke:#ff7f0e;\" x=\"213.151251\" xlink:href=\"#m39d88f0d82\" y=\"72.62574\"/>\n     <use style=\"fill:#ff7f0e;stroke:#ff7f0e;\" x=\"250.378799\" xlink:href=\"#m39d88f0d82\" y=\"74.252288\"/>\n     <use style=\"fill:#ff7f0e;stroke:#ff7f0e;\" x=\"196.78105\" xlink:href=\"#m39d88f0d82\" y=\"72.60815\"/>\n     <use style=\"fill:#ff7f0e;stroke:#ff7f0e;\" x=\"264.880029\" xlink:href=\"#m39d88f0d82\" y=\"66.695517\"/>\n     <use style=\"fill:#ff7f0e;stroke:#ff7f0e;\" x=\"200.088271\" xlink:href=\"#m39d88f0d82\" y=\"53.036352\"/>\n     <use style=\"fill:#ff7f0e;stroke:#ff7f0e;\" x=\"230.146108\" xlink:href=\"#m39d88f0d82\" y=\"69.298501\"/>\n     <use style=\"fill:#ff7f0e;stroke:#ff7f0e;\" x=\"252.734548\" xlink:href=\"#m39d88f0d82\" y=\"89.208579\"/>\n     <use style=\"fill:#ff7f0e;stroke:#ff7f0e;\" x=\"247.517505\" xlink:href=\"#m39d88f0d82\" y=\"103.305011\"/>\n     <use style=\"fill:#ff7f0e;stroke:#ff7f0e;\" x=\"242.702832\" xlink:href=\"#m39d88f0d82\" y=\"98.162221\"/>\n     <use style=\"fill:#ff7f0e;stroke:#ff7f0e;\" x=\"253.073925\" xlink:href=\"#m39d88f0d82\" y=\"88.920444\"/>\n     <use style=\"fill:#ff7f0e;stroke:#ff7f0e;\" x=\"211.380549\" xlink:href=\"#m39d88f0d82\" y=\"70.952688\"/>\n     <use style=\"fill:#ff7f0e;stroke:#ff7f0e;\" x=\"216.112825\" xlink:href=\"#m39d88f0d82\" y=\"77.599696\"/>\n     <use style=\"fill:#ff7f0e;stroke:#ff7f0e;\" x=\"228.29709\" xlink:href=\"#m39d88f0d82\" y=\"40.73954\"/>\n     <use style=\"fill:#ff7f0e;stroke:#ff7f0e;\" x=\"204.125983\" xlink:href=\"#m39d88f0d82\" y=\"44.303601\"/>\n     <use style=\"fill:#ff7f0e;stroke:#ff7f0e;\" x=\"275.802272\" xlink:href=\"#m39d88f0d82\" y=\"48.687584\"/>\n     <use style=\"fill:#ff7f0e;stroke:#ff7f0e;\" x=\"204.357389\" xlink:href=\"#m39d88f0d82\" y=\"44.925026\"/>\n     <use style=\"fill:#ff7f0e;stroke:#ff7f0e;\" x=\"253.946174\" xlink:href=\"#m39d88f0d82\" y=\"95.767318\"/>\n     <use style=\"fill:#ff7f0e;stroke:#ff7f0e;\" x=\"296.421892\" xlink:href=\"#m39d88f0d82\" y=\"91.300653\"/>\n     <use style=\"fill:#ff7f0e;stroke:#ff7f0e;\" x=\"227.674489\" xlink:href=\"#m39d88f0d82\" y=\"68.23896\"/>\n     <use style=\"fill:#ff7f0e;stroke:#ff7f0e;\" x=\"364.427131\" xlink:href=\"#m39d88f0d82\" y=\"104.258217\"/>\n     <use style=\"fill:#ff7f0e;stroke:#ff7f0e;\" x=\"235.338029\" xlink:href=\"#m39d88f0d82\" y=\"72.766501\"/>\n     <use style=\"fill:#ff7f0e;stroke:#ff7f0e;\" x=\"155.624911\" xlink:href=\"#m39d88f0d82\" y=\"92.5596\"/>\n     <use style=\"fill:#ff7f0e;stroke:#ff7f0e;\" x=\"251.241136\" xlink:href=\"#m39d88f0d82\" y=\"27.679325\"/>\n     <use style=\"fill:#ff7f0e;stroke:#ff7f0e;\" x=\"270.974884\" xlink:href=\"#m39d88f0d82\" y=\"74.336305\"/>\n     <use style=\"fill:#ff7f0e;stroke:#ff7f0e;\" x=\"253.259759\" xlink:href=\"#m39d88f0d82\" y=\"95.87639\"/>\n     <use style=\"fill:#ff7f0e;stroke:#ff7f0e;\" x=\"225.546117\" xlink:href=\"#m39d88f0d82\" y=\"102.386575\"/>\n     <use style=\"fill:#ff7f0e;stroke:#ff7f0e;\" x=\"250.208329\" xlink:href=\"#m39d88f0d82\" y=\"97.391079\"/>\n     <use style=\"fill:#ff7f0e;stroke:#ff7f0e;\" x=\"206.810364\" xlink:href=\"#m39d88f0d82\" y=\"56.425737\"/>\n     <use style=\"fill:#ff7f0e;stroke:#ff7f0e;\" x=\"250.624881\" xlink:href=\"#m39d88f0d82\" y=\"82.253123\"/>\n     <use style=\"fill:#ff7f0e;stroke:#ff7f0e;\" x=\"159.286947\" xlink:href=\"#m39d88f0d82\" y=\"57.902444\"/>\n     <use style=\"fill:#ff7f0e;stroke:#ff7f0e;\" x=\"179.527025\" xlink:href=\"#m39d88f0d82\" y=\"57.210319\"/>\n     <use style=\"fill:#ff7f0e;stroke:#ff7f0e;\" x=\"222.103415\" xlink:href=\"#m39d88f0d82\" y=\"74.093619\"/>\n     <use style=\"fill:#ff7f0e;stroke:#ff7f0e;\" x=\"226.133059\" xlink:href=\"#m39d88f0d82\" y=\"40.379245\"/>\n     <use style=\"fill:#ff7f0e;stroke:#ff7f0e;\" x=\"359.868532\" xlink:href=\"#m39d88f0d82\" y=\"102.54217\"/>\n     <use style=\"fill:#ff7f0e;stroke:#ff7f0e;\" x=\"202.696933\" xlink:href=\"#m39d88f0d82\" y=\"74.269627\"/>\n     <use style=\"fill:#ff7f0e;stroke:#ff7f0e;\" x=\"249.705958\" xlink:href=\"#m39d88f0d82\" y=\"80.633843\"/>\n     <use style=\"fill:#ff7f0e;stroke:#ff7f0e;\" x=\"237.291968\" xlink:href=\"#m39d88f0d82\" y=\"100.317062\"/>\n     <use style=\"fill:#ff7f0e;stroke:#ff7f0e;\" x=\"284.120093\" xlink:href=\"#m39d88f0d82\" y=\"94.241654\"/>\n     <use style=\"fill:#ff7f0e;stroke:#ff7f0e;\" x=\"210.57214\" xlink:href=\"#m39d88f0d82\" y=\"100.847116\"/>\n     <use style=\"fill:#ff7f0e;stroke:#ff7f0e;\" x=\"184.128902\" xlink:href=\"#m39d88f0d82\" y=\"79.994513\"/>\n     <use style=\"fill:#ff7f0e;stroke:#ff7f0e;\" x=\"219.815915\" xlink:href=\"#m39d88f0d82\" y=\"89.761574\"/>\n     <use style=\"fill:#ff7f0e;stroke:#ff7f0e;\" x=\"213.99747\" xlink:href=\"#m39d88f0d82\" y=\"78.622531\"/>\n     <use style=\"fill:#ff7f0e;stroke:#ff7f0e;\" x=\"221.975953\" xlink:href=\"#m39d88f0d82\" y=\"63.807755\"/>\n     <use style=\"fill:#ff7f0e;stroke:#ff7f0e;\" x=\"175.326091\" xlink:href=\"#m39d88f0d82\" y=\"56.824202\"/>\n     <use style=\"fill:#ff7f0e;stroke:#ff7f0e;\" x=\"256.76226\" xlink:href=\"#m39d88f0d82\" y=\"58.38834\"/>\n     <use style=\"fill:#ff7f0e;stroke:#ff7f0e;\" x=\"246.244612\" xlink:href=\"#m39d88f0d82\" y=\"83.13514\"/>\n     <use style=\"fill:#ff7f0e;stroke:#ff7f0e;\" x=\"253.184627\" xlink:href=\"#m39d88f0d82\" y=\"75.314575\"/>\n     <use style=\"fill:#ff7f0e;stroke:#ff7f0e;\" x=\"252.180375\" xlink:href=\"#m39d88f0d82\" y=\"68.490742\"/>\n     <use style=\"fill:#ff7f0e;stroke:#ff7f0e;\" x=\"254.450392\" xlink:href=\"#m39d88f0d82\" y=\"81.603286\"/>\n     <use style=\"fill:#ff7f0e;stroke:#ff7f0e;\" x=\"218.369277\" xlink:href=\"#m39d88f0d82\" y=\"95.965359\"/>\n     <use style=\"fill:#ff7f0e;stroke:#ff7f0e;\" x=\"251.731741\" xlink:href=\"#m39d88f0d82\" y=\"64.500393\"/>\n     <use style=\"fill:#ff7f0e;stroke:#ff7f0e;\" x=\"186.192359\" xlink:href=\"#m39d88f0d82\" y=\"84.1053\"/>\n     <use style=\"fill:#ff7f0e;stroke:#ff7f0e;\" x=\"231.727403\" xlink:href=\"#m39d88f0d82\" y=\"41.347975\"/>\n     <use style=\"fill:#ff7f0e;stroke:#ff7f0e;\" x=\"259.483715\" xlink:href=\"#m39d88f0d82\" y=\"69.980162\"/>\n     <use style=\"fill:#ff7f0e;stroke:#ff7f0e;\" x=\"257.289611\" xlink:href=\"#m39d88f0d82\" y=\"61.936338\"/>\n     <use style=\"fill:#ff7f0e;stroke:#ff7f0e;\" x=\"271.044848\" xlink:href=\"#m39d88f0d82\" y=\"66.494072\"/>\n     <use style=\"fill:#ff7f0e;stroke:#ff7f0e;\" x=\"217.016792\" xlink:href=\"#m39d88f0d82\" y=\"72.395423\"/>\n     <use style=\"fill:#ff7f0e;stroke:#ff7f0e;\" x=\"210.491026\" xlink:href=\"#m39d88f0d82\" y=\"61.487993\"/>\n     <use style=\"fill:#ff7f0e;stroke:#ff7f0e;\" x=\"280.098593\" xlink:href=\"#m39d88f0d82\" y=\"89.924512\"/>\n     <use style=\"fill:#ff7f0e;stroke:#ff7f0e;\" x=\"302.222679\" xlink:href=\"#m39d88f0d82\" y=\"82.171933\"/>\n     <use style=\"fill:#ff7f0e;stroke:#ff7f0e;\" x=\"227.157326\" xlink:href=\"#m39d88f0d82\" y=\"94.938836\"/>\n     <use style=\"fill:#ff7f0e;stroke:#ff7f0e;\" x=\"252.066361\" xlink:href=\"#m39d88f0d82\" y=\"50.707108\"/>\n     <use style=\"fill:#ff7f0e;stroke:#ff7f0e;\" x=\"243.716639\" xlink:href=\"#m39d88f0d82\" y=\"90.334395\"/>\n     <use style=\"fill:#ff7f0e;stroke:#ff7f0e;\" x=\"275.496556\" xlink:href=\"#m39d88f0d82\" y=\"109.805922\"/>\n     <use style=\"fill:#ff7f0e;stroke:#ff7f0e;\" x=\"268.594912\" xlink:href=\"#m39d88f0d82\" y=\"72.231551\"/>\n     <use style=\"fill:#ff7f0e;stroke:#ff7f0e;\" x=\"215.541033\" xlink:href=\"#m39d88f0d82\" y=\"82.289943\"/>\n     <use style=\"fill:#ff7f0e;stroke:#ff7f0e;\" x=\"227.498749\" xlink:href=\"#m39d88f0d82\" y=\"77.021923\"/>\n     <use style=\"fill:#ff7f0e;stroke:#ff7f0e;\" x=\"247.074701\" xlink:href=\"#m39d88f0d82\" y=\"101.88688\"/>\n     <use style=\"fill:#ff7f0e;stroke:#ff7f0e;\" x=\"212.451148\" xlink:href=\"#m39d88f0d82\" y=\"125.780713\"/>\n     <use style=\"fill:#ff7f0e;stroke:#ff7f0e;\" x=\"257.240893\" xlink:href=\"#m39d88f0d82\" y=\"89.541852\"/>\n     <use style=\"fill:#ff7f0e;stroke:#ff7f0e;\" x=\"228.07301\" xlink:href=\"#m39d88f0d82\" y=\"97.717548\"/>\n     <use style=\"fill:#ff7f0e;stroke:#ff7f0e;\" x=\"251.690954\" xlink:href=\"#m39d88f0d82\" y=\"72.363473\"/>\n     <use style=\"fill:#ff7f0e;stroke:#ff7f0e;\" x=\"286.667133\" xlink:href=\"#m39d88f0d82\" y=\"88.036502\"/>\n     <use style=\"fill:#ff7f0e;stroke:#ff7f0e;\" x=\"229.582117\" xlink:href=\"#m39d88f0d82\" y=\"59.824861\"/>\n     <use style=\"fill:#ff7f0e;stroke:#ff7f0e;\" x=\"337.294011\" xlink:href=\"#m39d88f0d82\" y=\"54.190516\"/>\n     <use style=\"fill:#ff7f0e;stroke:#ff7f0e;\" x=\"211.558494\" xlink:href=\"#m39d88f0d82\" y=\"107.360022\"/>\n     <use style=\"fill:#ff7f0e;stroke:#ff7f0e;\" x=\"158.848835\" xlink:href=\"#m39d88f0d82\" y=\"63.58407\"/>\n     <use style=\"fill:#ff7f0e;stroke:#ff7f0e;\" x=\"140.867865\" xlink:href=\"#m39d88f0d82\" y=\"82.941301\"/>\n     <use style=\"fill:#ff7f0e;stroke:#ff7f0e;\" x=\"243.778061\" xlink:href=\"#m39d88f0d82\" y=\"41.308085\"/>\n     <use style=\"fill:#ff7f0e;stroke:#ff7f0e;\" x=\"301.749191\" xlink:href=\"#m39d88f0d82\" y=\"102.434383\"/>\n     <use style=\"fill:#ff7f0e;stroke:#ff7f0e;\" x=\"244.088624\" xlink:href=\"#m39d88f0d82\" y=\"60.352534\"/>\n     <use style=\"fill:#ff7f0e;stroke:#ff7f0e;\" x=\"237.032232\" xlink:href=\"#m39d88f0d82\" y=\"93.590276\"/>\n     <use style=\"fill:#ff7f0e;stroke:#ff7f0e;\" x=\"220.345443\" xlink:href=\"#m39d88f0d82\" y=\"108.051774\"/>\n     <use style=\"fill:#ff7f0e;stroke:#ff7f0e;\" x=\"192.673677\" xlink:href=\"#m39d88f0d82\" y=\"92.750563\"/>\n     <use style=\"fill:#ff7f0e;stroke:#ff7f0e;\" x=\"269.667143\" xlink:href=\"#m39d88f0d82\" y=\"64.652512\"/>\n     <use style=\"fill:#ff7f0e;stroke:#ff7f0e;\" x=\"240.185014\" xlink:href=\"#m39d88f0d82\" y=\"67.170322\"/>\n     <use style=\"fill:#ff7f0e;stroke:#ff7f0e;\" x=\"217.020759\" xlink:href=\"#m39d88f0d82\" y=\"100.903173\"/>\n     <use style=\"fill:#ff7f0e;stroke:#ff7f0e;\" x=\"252.181095\" xlink:href=\"#m39d88f0d82\" y=\"78.405358\"/>\n     <use style=\"fill:#ff7f0e;stroke:#ff7f0e;\" x=\"254.787655\" xlink:href=\"#m39d88f0d82\" y=\"30.084419\"/>\n     <use style=\"fill:#ff7f0e;stroke:#ff7f0e;\" x=\"259.282549\" xlink:href=\"#m39d88f0d82\" y=\"86.045159\"/>\n     <use style=\"fill:#ff7f0e;stroke:#ff7f0e;\" x=\"258.370217\" xlink:href=\"#m39d88f0d82\" y=\"79.774295\"/>\n     <use style=\"fill:#ff7f0e;stroke:#ff7f0e;\" x=\"196.512186\" xlink:href=\"#m39d88f0d82\" y=\"79.551064\"/>\n     <use style=\"fill:#ff7f0e;stroke:#ff7f0e;\" x=\"264.10229\" xlink:href=\"#m39d88f0d82\" y=\"68.476012\"/>\n     <use style=\"fill:#ff7f0e;stroke:#ff7f0e;\" x=\"219.297879\" xlink:href=\"#m39d88f0d82\" y=\"76.149247\"/>\n     <use style=\"fill:#ff7f0e;stroke:#ff7f0e;\" x=\"220.851119\" xlink:href=\"#m39d88f0d82\" y=\"115.60928\"/>\n     <use style=\"fill:#ff7f0e;stroke:#ff7f0e;\" x=\"214.181011\" xlink:href=\"#m39d88f0d82\" y=\"65.165847\"/>\n     <use style=\"fill:#ff7f0e;stroke:#ff7f0e;\" x=\"276.25597\" xlink:href=\"#m39d88f0d82\" y=\"36.702137\"/>\n     <use style=\"fill:#ff7f0e;stroke:#ff7f0e;\" x=\"251.046528\" xlink:href=\"#m39d88f0d82\" y=\"100.772463\"/>\n     <use style=\"fill:#ff7f0e;stroke:#ff7f0e;\" x=\"289.709014\" xlink:href=\"#m39d88f0d82\" y=\"107.149992\"/>\n     <use style=\"fill:#ff7f0e;stroke:#ff7f0e;\" x=\"225.991088\" xlink:href=\"#m39d88f0d82\" y=\"61.650418\"/>\n     <use style=\"fill:#ff7f0e;stroke:#ff7f0e;\" x=\"230.468828\" xlink:href=\"#m39d88f0d82\" y=\"82.698844\"/>\n     <use style=\"fill:#ff7f0e;stroke:#ff7f0e;\" x=\"249.33023\" xlink:href=\"#m39d88f0d82\" y=\"89.876718\"/>\n     <use style=\"fill:#ff7f0e;stroke:#ff7f0e;\" x=\"325.911433\" xlink:href=\"#m39d88f0d82\" y=\"87.610159\"/>\n     <use style=\"fill:#ff7f0e;stroke:#ff7f0e;\" x=\"231.969738\" xlink:href=\"#m39d88f0d82\" y=\"79.343794\"/>\n     <use style=\"fill:#ff7f0e;stroke:#ff7f0e;\" x=\"212.197778\" xlink:href=\"#m39d88f0d82\" y=\"60.580284\"/>\n     <use style=\"fill:#ff7f0e;stroke:#ff7f0e;\" x=\"252.439196\" xlink:href=\"#m39d88f0d82\" y=\"77.033845\"/>\n     <use style=\"fill:#ff7f0e;stroke:#ff7f0e;\" x=\"266.29147\" xlink:href=\"#m39d88f0d82\" y=\"60.282611\"/>\n     <use style=\"fill:#ff7f0e;stroke:#ff7f0e;\" x=\"230.039446\" xlink:href=\"#m39d88f0d82\" y=\"87.412516\"/>\n     <use style=\"fill:#ff7f0e;stroke:#ff7f0e;\" x=\"252.361492\" xlink:href=\"#m39d88f0d82\" y=\"74.905437\"/>\n     <use style=\"fill:#ff7f0e;stroke:#ff7f0e;\" x=\"196.958783\" xlink:href=\"#m39d88f0d82\" y=\"93.237587\"/>\n     <use style=\"fill:#ff7f0e;stroke:#ff7f0e;\" x=\"249.699428\" xlink:href=\"#m39d88f0d82\" y=\"94.247575\"/>\n     <use style=\"fill:#ff7f0e;stroke:#ff7f0e;\" x=\"173.004705\" xlink:href=\"#m39d88f0d82\" y=\"90.046423\"/>\n     <use style=\"fill:#ff7f0e;stroke:#ff7f0e;\" x=\"214.429499\" xlink:href=\"#m39d88f0d82\" y=\"66.915639\"/>\n     <use style=\"fill:#ff7f0e;stroke:#ff7f0e;\" x=\"251.864895\" xlink:href=\"#m39d88f0d82\" y=\"81.273565\"/>\n     <use style=\"fill:#ff7f0e;stroke:#ff7f0e;\" x=\"208.228696\" xlink:href=\"#m39d88f0d82\" y=\"61.116761\"/>\n     <use style=\"fill:#ff7f0e;stroke:#ff7f0e;\" x=\"270.034408\" xlink:href=\"#m39d88f0d82\" y=\"51.351605\"/>\n     <use style=\"fill:#ff7f0e;stroke:#ff7f0e;\" x=\"234.238496\" xlink:href=\"#m39d88f0d82\" y=\"74.955939\"/>\n     <use style=\"fill:#ff7f0e;stroke:#ff7f0e;\" x=\"231.764967\" xlink:href=\"#m39d88f0d82\" y=\"94.201852\"/>\n     <use style=\"fill:#ff7f0e;stroke:#ff7f0e;\" x=\"249.891129\" xlink:href=\"#m39d88f0d82\" y=\"41.073009\"/>\n     <use style=\"fill:#ff7f0e;stroke:#ff7f0e;\" x=\"311.935391\" xlink:href=\"#m39d88f0d82\" y=\"110.41189\"/>\n     <use style=\"fill:#ff7f0e;stroke:#ff7f0e;\" x=\"275.425736\" xlink:href=\"#m39d88f0d82\" y=\"57.231998\"/>\n     <use style=\"fill:#ff7f0e;stroke:#ff7f0e;\" x=\"352.865535\" xlink:href=\"#m39d88f0d82\" y=\"70.879917\"/>\n     <use style=\"fill:#ff7f0e;stroke:#ff7f0e;\" x=\"317.171078\" xlink:href=\"#m39d88f0d82\" y=\"85.012964\"/>\n     <use style=\"fill:#ff7f0e;stroke:#ff7f0e;\" x=\"190.29126\" xlink:href=\"#m39d88f0d82\" y=\"66.524824\"/>\n     <use style=\"fill:#ff7f0e;stroke:#ff7f0e;\" x=\"228.485314\" xlink:href=\"#m39d88f0d82\" y=\"76.793079\"/>\n     <use style=\"fill:#ff7f0e;stroke:#ff7f0e;\" x=\"261.336607\" xlink:href=\"#m39d88f0d82\" y=\"55.605546\"/>\n     <use style=\"fill:#ff7f0e;stroke:#ff7f0e;\" x=\"256.833711\" xlink:href=\"#m39d88f0d82\" y=\"31.762907\"/>\n     <use style=\"fill:#ff7f0e;stroke:#ff7f0e;\" x=\"214.609517\" xlink:href=\"#m39d88f0d82\" y=\"67.476003\"/>\n     <use style=\"fill:#ff7f0e;stroke:#ff7f0e;\" x=\"257.36064\" xlink:href=\"#m39d88f0d82\" y=\"107.122379\"/>\n     <use style=\"fill:#ff7f0e;stroke:#ff7f0e;\" x=\"274.253031\" xlink:href=\"#m39d88f0d82\" y=\"50.347316\"/>\n     <use style=\"fill:#ff7f0e;stroke:#ff7f0e;\" x=\"222.636724\" xlink:href=\"#m39d88f0d82\" y=\"48.105781\"/>\n     <use style=\"fill:#ff7f0e;stroke:#ff7f0e;\" x=\"266.310776\" xlink:href=\"#m39d88f0d82\" y=\"73.3425\"/>\n     <use style=\"fill:#ff7f0e;stroke:#ff7f0e;\" x=\"240.545553\" xlink:href=\"#m39d88f0d82\" y=\"97.246974\"/>\n     <use style=\"fill:#ff7f0e;stroke:#ff7f0e;\" x=\"184.771573\" xlink:href=\"#m39d88f0d82\" y=\"50.410863\"/>\n     <use style=\"fill:#ff7f0e;stroke:#ff7f0e;\" x=\"233.388986\" xlink:href=\"#m39d88f0d82\" y=\"83.227577\"/>\n     <use style=\"fill:#ff7f0e;stroke:#ff7f0e;\" x=\"283.313347\" xlink:href=\"#m39d88f0d82\" y=\"69.600124\"/>\n     <use style=\"fill:#ff7f0e;stroke:#ff7f0e;\" x=\"239.659326\" xlink:href=\"#m39d88f0d82\" y=\"95.308994\"/>\n     <use style=\"fill:#ff7f0e;stroke:#ff7f0e;\" x=\"253.632695\" xlink:href=\"#m39d88f0d82\" y=\"70.08587\"/>\n     <use style=\"fill:#ff7f0e;stroke:#ff7f0e;\" x=\"306.799887\" xlink:href=\"#m39d88f0d82\" y=\"78.257443\"/>\n     <use style=\"fill:#ff7f0e;stroke:#ff7f0e;\" x=\"250.395006\" xlink:href=\"#m39d88f0d82\" y=\"56.159427\"/>\n     <use style=\"fill:#ff7f0e;stroke:#ff7f0e;\" x=\"214.335818\" xlink:href=\"#m39d88f0d82\" y=\"70.869071\"/>\n     <use style=\"fill:#ff7f0e;stroke:#ff7f0e;\" x=\"219.602642\" xlink:href=\"#m39d88f0d82\" y=\"78.670595\"/>\n     <use style=\"fill:#ff7f0e;stroke:#ff7f0e;\" x=\"168.49092\" xlink:href=\"#m39d88f0d82\" y=\"89.743812\"/>\n     <use style=\"fill:#ff7f0e;stroke:#ff7f0e;\" x=\"222.528652\" xlink:href=\"#m39d88f0d82\" y=\"92.930986\"/>\n     <use style=\"fill:#ff7f0e;stroke:#ff7f0e;\" x=\"153.540617\" xlink:href=\"#m39d88f0d82\" y=\"106.372136\"/>\n     <use style=\"fill:#ff7f0e;stroke:#ff7f0e;\" x=\"249.123765\" xlink:href=\"#m39d88f0d82\" y=\"61.169628\"/>\n     <use style=\"fill:#ff7f0e;stroke:#ff7f0e;\" x=\"263.855293\" xlink:href=\"#m39d88f0d82\" y=\"55.259306\"/>\n     <use style=\"fill:#ff7f0e;stroke:#ff7f0e;\" x=\"286.19425\" xlink:href=\"#m39d88f0d82\" y=\"103.93871\"/>\n     <use style=\"fill:#ff7f0e;stroke:#ff7f0e;\" x=\"286.465814\" xlink:href=\"#m39d88f0d82\" y=\"92.412584\"/>\n     <use style=\"fill:#ff7f0e;stroke:#ff7f0e;\" x=\"254.118215\" xlink:href=\"#m39d88f0d82\" y=\"54.028331\"/>\n     <use style=\"fill:#ff7f0e;stroke:#ff7f0e;\" x=\"248.025572\" xlink:href=\"#m39d88f0d82\" y=\"97.103982\"/>\n     <use style=\"fill:#ff7f0e;stroke:#ff7f0e;\" x=\"193.222846\" xlink:href=\"#m39d88f0d82\" y=\"59.516916\"/>\n     <use style=\"fill:#ff7f0e;stroke:#ff7f0e;\" x=\"228.380848\" xlink:href=\"#m39d88f0d82\" y=\"122.044587\"/>\n     <use style=\"fill:#ff7f0e;stroke:#ff7f0e;\" x=\"237.745951\" xlink:href=\"#m39d88f0d82\" y=\"56.796967\"/>\n     <use style=\"fill:#ff7f0e;stroke:#ff7f0e;\" x=\"215.678266\" xlink:href=\"#m39d88f0d82\" y=\"62.081095\"/>\n     <use style=\"fill:#ff7f0e;stroke:#ff7f0e;\" x=\"224.056225\" xlink:href=\"#m39d88f0d82\" y=\"96.78778\"/>\n     <use style=\"fill:#ff7f0e;stroke:#ff7f0e;\" x=\"277.187504\" xlink:href=\"#m39d88f0d82\" y=\"74.536716\"/>\n     <use style=\"fill:#ff7f0e;stroke:#ff7f0e;\" x=\"267.022427\" xlink:href=\"#m39d88f0d82\" y=\"51.500632\"/>\n     <use style=\"fill:#ff7f0e;stroke:#ff7f0e;\" x=\"267.239734\" xlink:href=\"#m39d88f0d82\" y=\"71.496272\"/>\n     <use style=\"fill:#ff7f0e;stroke:#ff7f0e;\" x=\"253.178087\" xlink:href=\"#m39d88f0d82\" y=\"72.881563\"/>\n     <use style=\"fill:#ff7f0e;stroke:#ff7f0e;\" x=\"259.193973\" xlink:href=\"#m39d88f0d82\" y=\"79.096835\"/>\n     <use style=\"fill:#ff7f0e;stroke:#ff7f0e;\" x=\"210.761692\" xlink:href=\"#m39d88f0d82\" y=\"39.039887\"/>\n     <use style=\"fill:#ff7f0e;stroke:#ff7f0e;\" x=\"225.47011\" xlink:href=\"#m39d88f0d82\" y=\"96.522112\"/>\n     <use style=\"fill:#ff7f0e;stroke:#ff7f0e;\" x=\"273.793153\" xlink:href=\"#m39d88f0d82\" y=\"73.023687\"/>\n     <use style=\"fill:#ff7f0e;stroke:#ff7f0e;\" x=\"264.092484\" xlink:href=\"#m39d88f0d82\" y=\"88.416237\"/>\n     <use style=\"fill:#ff7f0e;stroke:#ff7f0e;\" x=\"213.622139\" xlink:href=\"#m39d88f0d82\" y=\"83.779646\"/>\n     <use style=\"fill:#ff7f0e;stroke:#ff7f0e;\" x=\"246.775195\" xlink:href=\"#m39d88f0d82\" y=\"107.175327\"/>\n     <use style=\"fill:#ff7f0e;stroke:#ff7f0e;\" x=\"198.425295\" xlink:href=\"#m39d88f0d82\" y=\"47.585875\"/>\n     <use style=\"fill:#ff7f0e;stroke:#ff7f0e;\" x=\"202.408751\" xlink:href=\"#m39d88f0d82\" y=\"31.926168\"/>\n     <use style=\"fill:#ff7f0e;stroke:#ff7f0e;\" x=\"245.349843\" xlink:href=\"#m39d88f0d82\" y=\"69.536872\"/>\n     <use style=\"fill:#ff7f0e;stroke:#ff7f0e;\" x=\"265.315837\" xlink:href=\"#m39d88f0d82\" y=\"122.113838\"/>\n     <use style=\"fill:#ff7f0e;stroke:#ff7f0e;\" x=\"227.843454\" xlink:href=\"#m39d88f0d82\" y=\"72.115771\"/>\n     <use style=\"fill:#ff7f0e;stroke:#ff7f0e;\" x=\"173.390194\" xlink:href=\"#m39d88f0d82\" y=\"69.31219\"/>\n     <use style=\"fill:#ff7f0e;stroke:#ff7f0e;\" x=\"217.489176\" xlink:href=\"#m39d88f0d82\" y=\"61.737111\"/>\n     <use style=\"fill:#ff7f0e;stroke:#ff7f0e;\" x=\"290.598054\" xlink:href=\"#m39d88f0d82\" y=\"78.488684\"/>\n     <use style=\"fill:#ff7f0e;stroke:#ff7f0e;\" x=\"153.2033\" xlink:href=\"#m39d88f0d82\" y=\"61.35025\"/>\n     <use style=\"fill:#ff7f0e;stroke:#ff7f0e;\" x=\"262.883403\" xlink:href=\"#m39d88f0d82\" y=\"24.408414\"/>\n     <use style=\"fill:#ff7f0e;stroke:#ff7f0e;\" x=\"266.238209\" xlink:href=\"#m39d88f0d82\" y=\"63.535059\"/>\n     <use style=\"fill:#ff7f0e;stroke:#ff7f0e;\" x=\"225.743972\" xlink:href=\"#m39d88f0d82\" y=\"57.083463\"/>\n     <use style=\"fill:#ff7f0e;stroke:#ff7f0e;\" x=\"196.250305\" xlink:href=\"#m39d88f0d82\" y=\"62.21748\"/>\n     <use style=\"fill:#ff7f0e;stroke:#ff7f0e;\" x=\"230.329869\" xlink:href=\"#m39d88f0d82\" y=\"69.971491\"/>\n     <use style=\"fill:#ff7f0e;stroke:#ff7f0e;\" x=\"276.023499\" xlink:href=\"#m39d88f0d82\" y=\"71.283958\"/>\n     <use style=\"fill:#ff7f0e;stroke:#ff7f0e;\" x=\"255.454883\" xlink:href=\"#m39d88f0d82\" y=\"91.006668\"/>\n     <use style=\"fill:#ff7f0e;stroke:#ff7f0e;\" x=\"278.599713\" xlink:href=\"#m39d88f0d82\" y=\"31.629364\"/>\n     <use style=\"fill:#ff7f0e;stroke:#ff7f0e;\" x=\"220.215231\" xlink:href=\"#m39d88f0d82\" y=\"86.667094\"/>\n     <use style=\"fill:#ff7f0e;stroke:#ff7f0e;\" x=\"297.886207\" xlink:href=\"#m39d88f0d82\" y=\"104.041844\"/>\n     <use style=\"fill:#ff7f0e;stroke:#ff7f0e;\" x=\"254.779487\" xlink:href=\"#m39d88f0d82\" y=\"82.218256\"/>\n     <use style=\"fill:#ff7f0e;stroke:#ff7f0e;\" x=\"257.057784\" xlink:href=\"#m39d88f0d82\" y=\"59.407869\"/>\n     <use style=\"fill:#ff7f0e;stroke:#ff7f0e;\" x=\"173.134634\" xlink:href=\"#m39d88f0d82\" y=\"63.484255\"/>\n     <use style=\"fill:#ff7f0e;stroke:#ff7f0e;\" x=\"234.51763\" xlink:href=\"#m39d88f0d82\" y=\"88.978078\"/>\n     <use style=\"fill:#ff7f0e;stroke:#ff7f0e;\" x=\"253.023522\" xlink:href=\"#m39d88f0d82\" y=\"73.970587\"/>\n     <use style=\"fill:#ff7f0e;stroke:#ff7f0e;\" x=\"203.354816\" xlink:href=\"#m39d88f0d82\" y=\"97.002199\"/>\n     <use style=\"fill:#ff7f0e;stroke:#ff7f0e;\" x=\"247.174335\" xlink:href=\"#m39d88f0d82\" y=\"90.248273\"/>\n     <use style=\"fill:#ff7f0e;stroke:#ff7f0e;\" x=\"194.639655\" xlink:href=\"#m39d88f0d82\" y=\"68.616642\"/>\n     <use style=\"fill:#ff7f0e;stroke:#ff7f0e;\" x=\"236.256393\" xlink:href=\"#m39d88f0d82\" y=\"49.15208\"/>\n     <use style=\"fill:#ff7f0e;stroke:#ff7f0e;\" x=\"222.338368\" xlink:href=\"#m39d88f0d82\" y=\"76.96861\"/>\n     <use style=\"fill:#ff7f0e;stroke:#ff7f0e;\" x=\"296.253772\" xlink:href=\"#m39d88f0d82\" y=\"95.721145\"/>\n     <use style=\"fill:#ff7f0e;stroke:#ff7f0e;\" x=\"233.684147\" xlink:href=\"#m39d88f0d82\" y=\"60.679797\"/>\n     <use style=\"fill:#ff7f0e;stroke:#ff7f0e;\" x=\"305.232204\" xlink:href=\"#m39d88f0d82\" y=\"82.267638\"/>\n     <use style=\"fill:#ff7f0e;stroke:#ff7f0e;\" x=\"226.325171\" xlink:href=\"#m39d88f0d82\" y=\"73.467313\"/>\n     <use style=\"fill:#ff7f0e;stroke:#ff7f0e;\" x=\"279.41261\" xlink:href=\"#m39d88f0d82\" y=\"99.731931\"/>\n     <use style=\"fill:#ff7f0e;stroke:#ff7f0e;\" x=\"249.157702\" xlink:href=\"#m39d88f0d82\" y=\"27.010735\"/>\n     <use style=\"fill:#ff7f0e;stroke:#ff7f0e;\" x=\"183.076966\" xlink:href=\"#m39d88f0d82\" y=\"83.86244\"/>\n     <use style=\"fill:#ff7f0e;stroke:#ff7f0e;\" x=\"238.71441\" xlink:href=\"#m39d88f0d82\" y=\"69.919368\"/>\n     <use style=\"fill:#ff7f0e;stroke:#ff7f0e;\" x=\"223.152554\" xlink:href=\"#m39d88f0d82\" y=\"66.839341\"/>\n     <use style=\"fill:#ff7f0e;stroke:#ff7f0e;\" x=\"271.307632\" xlink:href=\"#m39d88f0d82\" y=\"70.93867\"/>\n     <use style=\"fill:#ff7f0e;stroke:#ff7f0e;\" x=\"196.516315\" xlink:href=\"#m39d88f0d82\" y=\"81.092105\"/>\n     <use style=\"fill:#ff7f0e;stroke:#ff7f0e;\" x=\"253.670309\" xlink:href=\"#m39d88f0d82\" y=\"54.667419\"/>\n     <use style=\"fill:#ff7f0e;stroke:#ff7f0e;\" x=\"163.650761\" xlink:href=\"#m39d88f0d82\" y=\"83.625284\"/>\n     <use style=\"fill:#ff7f0e;stroke:#ff7f0e;\" x=\"250.978782\" xlink:href=\"#m39d88f0d82\" y=\"121.278139\"/>\n     <use style=\"fill:#ff7f0e;stroke:#ff7f0e;\" x=\"247.521153\" xlink:href=\"#m39d88f0d82\" y=\"52.721586\"/>\n     <use style=\"fill:#ff7f0e;stroke:#ff7f0e;\" x=\"258.205473\" xlink:href=\"#m39d88f0d82\" y=\"61.656463\"/>\n     <use style=\"fill:#ff7f0e;stroke:#ff7f0e;\" x=\"260.388434\" xlink:href=\"#m39d88f0d82\" y=\"38.848491\"/>\n     <use style=\"fill:#ff7f0e;stroke:#ff7f0e;\" x=\"270.508318\" xlink:href=\"#m39d88f0d82\" y=\"93.363063\"/>\n     <use style=\"fill:#ff7f0e;stroke:#ff7f0e;\" x=\"225.620327\" xlink:href=\"#m39d88f0d82\" y=\"86.005463\"/>\n     <use style=\"fill:#ff7f0e;stroke:#ff7f0e;\" x=\"246.688163\" xlink:href=\"#m39d88f0d82\" y=\"31.967524\"/>\n     <use style=\"fill:#ff7f0e;stroke:#ff7f0e;\" x=\"234.284879\" xlink:href=\"#m39d88f0d82\" y=\"101.605777\"/>\n     <use style=\"fill:#ff7f0e;stroke:#ff7f0e;\" x=\"268.807164\" xlink:href=\"#m39d88f0d82\" y=\"100.830931\"/>\n     <use style=\"fill:#ff7f0e;stroke:#ff7f0e;\" x=\"265.347393\" xlink:href=\"#m39d88f0d82\" y=\"49.026252\"/>\n     <use style=\"fill:#ff7f0e;stroke:#ff7f0e;\" x=\"217.307999\" xlink:href=\"#m39d88f0d82\" y=\"83.236464\"/>\n     <use style=\"fill:#ff7f0e;stroke:#ff7f0e;\" x=\"256.387049\" xlink:href=\"#m39d88f0d82\" y=\"79.891405\"/>\n     <use style=\"fill:#ff7f0e;stroke:#ff7f0e;\" x=\"241.227735\" xlink:href=\"#m39d88f0d82\" y=\"65.719172\"/>\n     <use style=\"fill:#ff7f0e;stroke:#ff7f0e;\" x=\"259.743869\" xlink:href=\"#m39d88f0d82\" y=\"63.221594\"/>\n     <use style=\"fill:#ff7f0e;stroke:#ff7f0e;\" x=\"312.680479\" xlink:href=\"#m39d88f0d82\" y=\"44.311808\"/>\n     <use style=\"fill:#ff7f0e;stroke:#ff7f0e;\" x=\"229.594757\" xlink:href=\"#m39d88f0d82\" y=\"88.311706\"/>\n     <use style=\"fill:#ff7f0e;stroke:#ff7f0e;\" x=\"262.042786\" xlink:href=\"#m39d88f0d82\" y=\"93.934051\"/>\n     <use style=\"fill:#ff7f0e;stroke:#ff7f0e;\" x=\"248.468109\" xlink:href=\"#m39d88f0d82\" y=\"65.588587\"/>\n     <use style=\"fill:#ff7f0e;stroke:#ff7f0e;\" x=\"264.309416\" xlink:href=\"#m39d88f0d82\" y=\"81.685641\"/>\n     <use style=\"fill:#ff7f0e;stroke:#ff7f0e;\" x=\"287.693385\" xlink:href=\"#m39d88f0d82\" y=\"116.669026\"/>\n     <use style=\"fill:#ff7f0e;stroke:#ff7f0e;\" x=\"195.431603\" xlink:href=\"#m39d88f0d82\" y=\"78.751542\"/>\n     <use style=\"fill:#ff7f0e;stroke:#ff7f0e;\" x=\"156.634693\" xlink:href=\"#m39d88f0d82\" y=\"90.096403\"/>\n     <use style=\"fill:#ff7f0e;stroke:#ff7f0e;\" x=\"179.093469\" xlink:href=\"#m39d88f0d82\" y=\"43.059806\"/>\n     <use style=\"fill:#ff7f0e;stroke:#ff7f0e;\" x=\"261.688033\" xlink:href=\"#m39d88f0d82\" y=\"94.716864\"/>\n     <use style=\"fill:#ff7f0e;stroke:#ff7f0e;\" x=\"290.795321\" xlink:href=\"#m39d88f0d82\" y=\"97.275849\"/>\n     <use style=\"fill:#ff7f0e;stroke:#ff7f0e;\" x=\"230.255073\" xlink:href=\"#m39d88f0d82\" y=\"47.430838\"/>\n     <use style=\"fill:#ff7f0e;stroke:#ff7f0e;\" x=\"304.193177\" xlink:href=\"#m39d88f0d82\" y=\"123.115993\"/>\n     <use style=\"fill:#ff7f0e;stroke:#ff7f0e;\" x=\"181.327836\" xlink:href=\"#m39d88f0d82\" y=\"28.976318\"/>\n    </g>\n   </g>\n   <g id=\"PathCollection_3\">\n    <defs>\n     <path d=\"M 0 3 \nC 0.795609 3 1.55874 2.683901 2.12132 2.12132 \nC 2.683901 1.55874 3 0.795609 3 0 \nC 3 -0.795609 2.683901 -1.55874 2.12132 -2.12132 \nC 1.55874 -2.683901 0.795609 -3 0 -3 \nC -0.795609 -3 -1.55874 -2.683901 -2.12132 -2.12132 \nC -2.683901 -1.55874 -3 -0.795609 -3 0 \nC -3 0.795609 -2.683901 1.55874 -2.12132 2.12132 \nC -1.55874 2.683901 -0.795609 3 0 3 \nz\n\" id=\"m4896fd5c48\" style=\"stroke:#2ca02c;\"/>\n    </defs>\n    <g clip-path=\"url(#p066588134d)\">\n     <use style=\"fill:#2ca02c;stroke:#2ca02c;\" x=\"227.656073\" xlink:href=\"#m4896fd5c48\" y=\"64.935799\"/>\n     <use style=\"fill:#2ca02c;stroke:#2ca02c;\" x=\"189.722634\" xlink:href=\"#m4896fd5c48\" y=\"97.362054\"/>\n     <use style=\"fill:#2ca02c;stroke:#2ca02c;\" x=\"178.728702\" xlink:href=\"#m4896fd5c48\" y=\"142.623406\"/>\n     <use style=\"fill:#2ca02c;stroke:#2ca02c;\" x=\"154.161511\" xlink:href=\"#m4896fd5c48\" y=\"135.441513\"/>\n     <use style=\"fill:#2ca02c;stroke:#2ca02c;\" x=\"201.828889\" xlink:href=\"#m4896fd5c48\" y=\"96.007761\"/>\n     <use style=\"fill:#2ca02c;stroke:#2ca02c;\" x=\"216.372057\" xlink:href=\"#m4896fd5c48\" y=\"121.980929\"/>\n     <use style=\"fill:#2ca02c;stroke:#2ca02c;\" x=\"228.040042\" xlink:href=\"#m4896fd5c48\" y=\"112.058008\"/>\n     <use style=\"fill:#2ca02c;stroke:#2ca02c;\" x=\"131.942899\" xlink:href=\"#m4896fd5c48\" y=\"130.751017\"/>\n     <use style=\"fill:#2ca02c;stroke:#2ca02c;\" x=\"177.041753\" xlink:href=\"#m4896fd5c48\" y=\"110.830751\"/>\n     <use style=\"fill:#2ca02c;stroke:#2ca02c;\" x=\"222.943257\" xlink:href=\"#m4896fd5c48\" y=\"126.537922\"/>\n     <use style=\"fill:#2ca02c;stroke:#2ca02c;\" x=\"152.093037\" xlink:href=\"#m4896fd5c48\" y=\"75.59331\"/>\n     <use style=\"fill:#2ca02c;stroke:#2ca02c;\" x=\"207.601368\" xlink:href=\"#m4896fd5c48\" y=\"65.935346\"/>\n     <use style=\"fill:#2ca02c;stroke:#2ca02c;\" x=\"195.258996\" xlink:href=\"#m4896fd5c48\" y=\"128.518677\"/>\n     <use style=\"fill:#2ca02c;stroke:#2ca02c;\" x=\"176.280297\" xlink:href=\"#m4896fd5c48\" y=\"80.743411\"/>\n     <use style=\"fill:#2ca02c;stroke:#2ca02c;\" x=\"95.061255\" xlink:href=\"#m4896fd5c48\" y=\"48.200522\"/>\n     <use style=\"fill:#2ca02c;stroke:#2ca02c;\" x=\"143.040902\" xlink:href=\"#m4896fd5c48\" y=\"132.676943\"/>\n     <use style=\"fill:#2ca02c;stroke:#2ca02c;\" x=\"217.348529\" xlink:href=\"#m4896fd5c48\" y=\"91.465656\"/>\n     <use style=\"fill:#2ca02c;stroke:#2ca02c;\" x=\"237.468653\" xlink:href=\"#m4896fd5c48\" y=\"108.212397\"/>\n     <use style=\"fill:#2ca02c;stroke:#2ca02c;\" x=\"213.904264\" xlink:href=\"#m4896fd5c48\" y=\"75.030186\"/>\n     <use style=\"fill:#2ca02c;stroke:#2ca02c;\" x=\"254.296297\" xlink:href=\"#m4896fd5c48\" y=\"81.236255\"/>\n     <use style=\"fill:#2ca02c;stroke:#2ca02c;\" x=\"192.161177\" xlink:href=\"#m4896fd5c48\" y=\"134.095287\"/>\n     <use style=\"fill:#2ca02c;stroke:#2ca02c;\" x=\"155.563889\" xlink:href=\"#m4896fd5c48\" y=\"61.162744\"/>\n     <use style=\"fill:#2ca02c;stroke:#2ca02c;\" x=\"151.590824\" xlink:href=\"#m4896fd5c48\" y=\"112.055992\"/>\n     <use style=\"fill:#2ca02c;stroke:#2ca02c;\" x=\"220.24861\" xlink:href=\"#m4896fd5c48\" y=\"91.247003\"/>\n     <use style=\"fill:#2ca02c;stroke:#2ca02c;\" x=\"169.296893\" xlink:href=\"#m4896fd5c48\" y=\"90.602891\"/>\n     <use style=\"fill:#2ca02c;stroke:#2ca02c;\" x=\"164.57572\" xlink:href=\"#m4896fd5c48\" y=\"80.374838\"/>\n     <use style=\"fill:#2ca02c;stroke:#2ca02c;\" x=\"207.472927\" xlink:href=\"#m4896fd5c48\" y=\"96.709499\"/>\n     <use style=\"fill:#2ca02c;stroke:#2ca02c;\" x=\"181.943035\" xlink:href=\"#m4896fd5c48\" y=\"84.20552\"/>\n     <use style=\"fill:#2ca02c;stroke:#2ca02c;\" x=\"200.315826\" xlink:href=\"#m4896fd5c48\" y=\"124.350478\"/>\n     <use style=\"fill:#2ca02c;stroke:#2ca02c;\" x=\"227.083272\" xlink:href=\"#m4896fd5c48\" y=\"121.224249\"/>\n     <use style=\"fill:#2ca02c;stroke:#2ca02c;\" x=\"129.879974\" xlink:href=\"#m4896fd5c48\" y=\"120.068155\"/>\n     <use style=\"fill:#2ca02c;stroke:#2ca02c;\" x=\"211.211309\" xlink:href=\"#m4896fd5c48\" y=\"66.844482\"/>\n     <use style=\"fill:#2ca02c;stroke:#2ca02c;\" x=\"206.834143\" xlink:href=\"#m4896fd5c48\" y=\"99.131271\"/>\n     <use style=\"fill:#2ca02c;stroke:#2ca02c;\" x=\"231.048986\" xlink:href=\"#m4896fd5c48\" y=\"95.022848\"/>\n     <use style=\"fill:#2ca02c;stroke:#2ca02c;\" x=\"195.25091\" xlink:href=\"#m4896fd5c48\" y=\"96.836394\"/>\n     <use style=\"fill:#2ca02c;stroke:#2ca02c;\" x=\"267.690558\" xlink:href=\"#m4896fd5c48\" y=\"118.135916\"/>\n     <use style=\"fill:#2ca02c;stroke:#2ca02c;\" x=\"132.753003\" xlink:href=\"#m4896fd5c48\" y=\"108.538174\"/>\n     <use style=\"fill:#2ca02c;stroke:#2ca02c;\" x=\"169.164679\" xlink:href=\"#m4896fd5c48\" y=\"80.160762\"/>\n     <use style=\"fill:#2ca02c;stroke:#2ca02c;\" x=\"203.068459\" xlink:href=\"#m4896fd5c48\" y=\"50.762308\"/>\n     <use style=\"fill:#2ca02c;stroke:#2ca02c;\" x=\"169.338002\" xlink:href=\"#m4896fd5c48\" y=\"129.688393\"/>\n     <use style=\"fill:#2ca02c;stroke:#2ca02c;\" x=\"170.487108\" xlink:href=\"#m4896fd5c48\" y=\"110.042879\"/>\n     <use style=\"fill:#2ca02c;stroke:#2ca02c;\" x=\"195.648252\" xlink:href=\"#m4896fd5c48\" y=\"89.821144\"/>\n     <use style=\"fill:#2ca02c;stroke:#2ca02c;\" x=\"216.093158\" xlink:href=\"#m4896fd5c48\" y=\"130.226526\"/>\n     <use style=\"fill:#2ca02c;stroke:#2ca02c;\" x=\"215.141249\" xlink:href=\"#m4896fd5c48\" y=\"125.600771\"/>\n     <use style=\"fill:#2ca02c;stroke:#2ca02c;\" x=\"225.830695\" xlink:href=\"#m4896fd5c48\" y=\"116.934977\"/>\n     <use style=\"fill:#2ca02c;stroke:#2ca02c;\" x=\"212.764883\" xlink:href=\"#m4896fd5c48\" y=\"67.522507\"/>\n     <use style=\"fill:#2ca02c;stroke:#2ca02c;\" x=\"162.958716\" xlink:href=\"#m4896fd5c48\" y=\"140.432644\"/>\n     <use style=\"fill:#2ca02c;stroke:#2ca02c;\" x=\"131.014795\" xlink:href=\"#m4896fd5c48\" y=\"96.493487\"/>\n     <use style=\"fill:#2ca02c;stroke:#2ca02c;\" x=\"193.624712\" xlink:href=\"#m4896fd5c48\" y=\"133.341388\"/>\n     <use style=\"fill:#2ca02c;stroke:#2ca02c;\" x=\"192.862095\" xlink:href=\"#m4896fd5c48\" y=\"83.718384\"/>\n     <use style=\"fill:#2ca02c;stroke:#2ca02c;\" x=\"166.475076\" xlink:href=\"#m4896fd5c48\" y=\"87.878092\"/>\n     <use style=\"fill:#2ca02c;stroke:#2ca02c;\" x=\"240.96033\" xlink:href=\"#m4896fd5c48\" y=\"89.622397\"/>\n     <use style=\"fill:#2ca02c;stroke:#2ca02c;\" x=\"229.960859\" xlink:href=\"#m4896fd5c48\" y=\"83.410662\"/>\n     <use style=\"fill:#2ca02c;stroke:#2ca02c;\" x=\"220.6818\" xlink:href=\"#m4896fd5c48\" y=\"104.15744\"/>\n     <use style=\"fill:#2ca02c;stroke:#2ca02c;\" x=\"168.746529\" xlink:href=\"#m4896fd5c48\" y=\"89.266181\"/>\n     <use style=\"fill:#2ca02c;stroke:#2ca02c;\" x=\"125.481298\" xlink:href=\"#m4896fd5c48\" y=\"116.189758\"/>\n     <use style=\"fill:#2ca02c;stroke:#2ca02c;\" x=\"159.719149\" xlink:href=\"#m4896fd5c48\" y=\"95.823786\"/>\n     <use style=\"fill:#2ca02c;stroke:#2ca02c;\" x=\"257.231251\" xlink:href=\"#m4896fd5c48\" y=\"69.347041\"/>\n     <use style=\"fill:#2ca02c;stroke:#2ca02c;\" x=\"219.087837\" xlink:href=\"#m4896fd5c48\" y=\"95.047847\"/>\n     <use style=\"fill:#2ca02c;stroke:#2ca02c;\" x=\"200.222848\" xlink:href=\"#m4896fd5c48\" y=\"93.165917\"/>\n     <use style=\"fill:#2ca02c;stroke:#2ca02c;\" x=\"166.521903\" xlink:href=\"#m4896fd5c48\" y=\"92.778999\"/>\n     <use style=\"fill:#2ca02c;stroke:#2ca02c;\" x=\"169.201922\" xlink:href=\"#m4896fd5c48\" y=\"95.785508\"/>\n     <use style=\"fill:#2ca02c;stroke:#2ca02c;\" x=\"235.318141\" xlink:href=\"#m4896fd5c48\" y=\"112.186254\"/>\n     <use style=\"fill:#2ca02c;stroke:#2ca02c;\" x=\"202.796219\" xlink:href=\"#m4896fd5c48\" y=\"84.132412\"/>\n     <use style=\"fill:#2ca02c;stroke:#2ca02c;\" x=\"217.59866\" xlink:href=\"#m4896fd5c48\" y=\"95.263195\"/>\n     <use style=\"fill:#2ca02c;stroke:#2ca02c;\" x=\"176.449264\" xlink:href=\"#m4896fd5c48\" y=\"103.935509\"/>\n     <use style=\"fill:#2ca02c;stroke:#2ca02c;\" x=\"160.137256\" xlink:href=\"#m4896fd5c48\" y=\"120.821952\"/>\n     <use style=\"fill:#2ca02c;stroke:#2ca02c;\" x=\"158.252046\" xlink:href=\"#m4896fd5c48\" y=\"65.400763\"/>\n     <use style=\"fill:#2ca02c;stroke:#2ca02c;\" x=\"172.58798\" xlink:href=\"#m4896fd5c48\" y=\"91.574653\"/>\n     <use style=\"fill:#2ca02c;stroke:#2ca02c;\" x=\"235.230451\" xlink:href=\"#m4896fd5c48\" y=\"97.707657\"/>\n     <use style=\"fill:#2ca02c;stroke:#2ca02c;\" x=\"233.583683\" xlink:href=\"#m4896fd5c48\" y=\"108.95616\"/>\n     <use style=\"fill:#2ca02c;stroke:#2ca02c;\" x=\"207.582943\" xlink:href=\"#m4896fd5c48\" y=\"91.115226\"/>\n     <use style=\"fill:#2ca02c;stroke:#2ca02c;\" x=\"222.642329\" xlink:href=\"#m4896fd5c48\" y=\"121.603998\"/>\n     <use style=\"fill:#2ca02c;stroke:#2ca02c;\" x=\"185.059392\" xlink:href=\"#m4896fd5c48\" y=\"118.88299\"/>\n     <use style=\"fill:#2ca02c;stroke:#2ca02c;\" x=\"266.087787\" xlink:href=\"#m4896fd5c48\" y=\"86.579778\"/>\n     <use style=\"fill:#2ca02c;stroke:#2ca02c;\" x=\"220.826171\" xlink:href=\"#m4896fd5c48\" y=\"91.681176\"/>\n     <use style=\"fill:#2ca02c;stroke:#2ca02c;\" x=\"152.761955\" xlink:href=\"#m4896fd5c48\" y=\"129.433635\"/>\n     <use style=\"fill:#2ca02c;stroke:#2ca02c;\" x=\"219.004559\" xlink:href=\"#m4896fd5c48\" y=\"99.931775\"/>\n     <use style=\"fill:#2ca02c;stroke:#2ca02c;\" x=\"164.081147\" xlink:href=\"#m4896fd5c48\" y=\"57.981347\"/>\n     <use style=\"fill:#2ca02c;stroke:#2ca02c;\" x=\"222.494011\" xlink:href=\"#m4896fd5c48\" y=\"115.065712\"/>\n     <use style=\"fill:#2ca02c;stroke:#2ca02c;\" x=\"218.554239\" xlink:href=\"#m4896fd5c48\" y=\"101.92167\"/>\n     <use style=\"fill:#2ca02c;stroke:#2ca02c;\" x=\"167.116652\" xlink:href=\"#m4896fd5c48\" y=\"111.361327\"/>\n     <use style=\"fill:#2ca02c;stroke:#2ca02c;\" x=\"129.049043\" xlink:href=\"#m4896fd5c48\" y=\"99.316303\"/>\n     <use style=\"fill:#2ca02c;stroke:#2ca02c;\" x=\"147.748171\" xlink:href=\"#m4896fd5c48\" y=\"101.269033\"/>\n     <use style=\"fill:#2ca02c;stroke:#2ca02c;\" x=\"121.350336\" xlink:href=\"#m4896fd5c48\" y=\"51.51959\"/>\n     <use style=\"fill:#2ca02c;stroke:#2ca02c;\" x=\"157.448194\" xlink:href=\"#m4896fd5c48\" y=\"135.512318\"/>\n     <use style=\"fill:#2ca02c;stroke:#2ca02c;\" x=\"203.444967\" xlink:href=\"#m4896fd5c48\" y=\"103.743683\"/>\n     <use style=\"fill:#2ca02c;stroke:#2ca02c;\" x=\"111.759655\" xlink:href=\"#m4896fd5c48\" y=\"145.38177\"/>\n     <use style=\"fill:#2ca02c;stroke:#2ca02c;\" x=\"205.223953\" xlink:href=\"#m4896fd5c48\" y=\"98.893539\"/>\n     <use style=\"fill:#2ca02c;stroke:#2ca02c;\" x=\"122.520462\" xlink:href=\"#m4896fd5c48\" y=\"135.886916\"/>\n     <use style=\"fill:#2ca02c;stroke:#2ca02c;\" x=\"108.93605\" xlink:href=\"#m4896fd5c48\" y=\"101.513565\"/>\n     <use style=\"fill:#2ca02c;stroke:#2ca02c;\" x=\"214.456514\" xlink:href=\"#m4896fd5c48\" y=\"54.184489\"/>\n     <use style=\"fill:#2ca02c;stroke:#2ca02c;\" x=\"161.152399\" xlink:href=\"#m4896fd5c48\" y=\"77.947553\"/>\n     <use style=\"fill:#2ca02c;stroke:#2ca02c;\" x=\"193.501925\" xlink:href=\"#m4896fd5c48\" y=\"87.749218\"/>\n     <use style=\"fill:#2ca02c;stroke:#2ca02c;\" x=\"202.350104\" xlink:href=\"#m4896fd5c48\" y=\"130.546126\"/>\n     <use style=\"fill:#2ca02c;stroke:#2ca02c;\" x=\"206.935387\" xlink:href=\"#m4896fd5c48\" y=\"58.401731\"/>\n     <use style=\"fill:#2ca02c;stroke:#2ca02c;\" x=\"164.582943\" xlink:href=\"#m4896fd5c48\" y=\"126.097244\"/>\n     <use style=\"fill:#2ca02c;stroke:#2ca02c;\" x=\"236.960808\" xlink:href=\"#m4896fd5c48\" y=\"89.018417\"/>\n     <use style=\"fill:#2ca02c;stroke:#2ca02c;\" x=\"145.55085\" xlink:href=\"#m4896fd5c48\" y=\"97.761263\"/>\n     <use style=\"fill:#2ca02c;stroke:#2ca02c;\" x=\"169.48584\" xlink:href=\"#m4896fd5c48\" y=\"96.339724\"/>\n     <use style=\"fill:#2ca02c;stroke:#2ca02c;\" x=\"159.531242\" xlink:href=\"#m4896fd5c48\" y=\"113.380812\"/>\n     <use style=\"fill:#2ca02c;stroke:#2ca02c;\" x=\"212.744825\" xlink:href=\"#m4896fd5c48\" y=\"127.478022\"/>\n     <use style=\"fill:#2ca02c;stroke:#2ca02c;\" x=\"215.981203\" xlink:href=\"#m4896fd5c48\" y=\"92.762288\"/>\n     <use style=\"fill:#2ca02c;stroke:#2ca02c;\" x=\"190.686762\" xlink:href=\"#m4896fd5c48\" y=\"113.360442\"/>\n     <use style=\"fill:#2ca02c;stroke:#2ca02c;\" x=\"129.991212\" xlink:href=\"#m4896fd5c48\" y=\"107.65186\"/>\n     <use style=\"fill:#2ca02c;stroke:#2ca02c;\" x=\"221.300803\" xlink:href=\"#m4896fd5c48\" y=\"105.953717\"/>\n     <use style=\"fill:#2ca02c;stroke:#2ca02c;\" x=\"215.203528\" xlink:href=\"#m4896fd5c48\" y=\"136.724214\"/>\n     <use style=\"fill:#2ca02c;stroke:#2ca02c;\" x=\"131.06927\" xlink:href=\"#m4896fd5c48\" y=\"99.041598\"/>\n     <use style=\"fill:#2ca02c;stroke:#2ca02c;\" x=\"134.379714\" xlink:href=\"#m4896fd5c48\" y=\"91.426042\"/>\n     <use style=\"fill:#2ca02c;stroke:#2ca02c;\" x=\"222.510371\" xlink:href=\"#m4896fd5c48\" y=\"88.661261\"/>\n     <use style=\"fill:#2ca02c;stroke:#2ca02c;\" x=\"165.372854\" xlink:href=\"#m4896fd5c48\" y=\"120.951596\"/>\n     <use style=\"fill:#2ca02c;stroke:#2ca02c;\" x=\"194.154839\" xlink:href=\"#m4896fd5c48\" y=\"100.451174\"/>\n     <use style=\"fill:#2ca02c;stroke:#2ca02c;\" x=\"250.096384\" xlink:href=\"#m4896fd5c48\" y=\"83.133042\"/>\n     <use style=\"fill:#2ca02c;stroke:#2ca02c;\" x=\"153.633658\" xlink:href=\"#m4896fd5c48\" y=\"109.018305\"/>\n     <use style=\"fill:#2ca02c;stroke:#2ca02c;\" x=\"185.22463\" xlink:href=\"#m4896fd5c48\" y=\"138.168186\"/>\n     <use style=\"fill:#2ca02c;stroke:#2ca02c;\" x=\"241.666932\" xlink:href=\"#m4896fd5c48\" y=\"101.196188\"/>\n     <use style=\"fill:#2ca02c;stroke:#2ca02c;\" x=\"203.797661\" xlink:href=\"#m4896fd5c48\" y=\"80.041145\"/>\n     <use style=\"fill:#2ca02c;stroke:#2ca02c;\" x=\"212.363895\" xlink:href=\"#m4896fd5c48\" y=\"101.109735\"/>\n     <use style=\"fill:#2ca02c;stroke:#2ca02c;\" x=\"131.152952\" xlink:href=\"#m4896fd5c48\" y=\"112.857791\"/>\n     <use style=\"fill:#2ca02c;stroke:#2ca02c;\" x=\"238.193146\" xlink:href=\"#m4896fd5c48\" y=\"104.769083\"/>\n     <use style=\"fill:#2ca02c;stroke:#2ca02c;\" x=\"217.753158\" xlink:href=\"#m4896fd5c48\" y=\"105.361578\"/>\n     <use style=\"fill:#2ca02c;stroke:#2ca02c;\" x=\"249.911439\" xlink:href=\"#m4896fd5c48\" y=\"76.162938\"/>\n     <use style=\"fill:#2ca02c;stroke:#2ca02c;\" x=\"235.535878\" xlink:href=\"#m4896fd5c48\" y=\"71.180161\"/>\n     <use style=\"fill:#2ca02c;stroke:#2ca02c;\" x=\"230.855002\" xlink:href=\"#m4896fd5c48\" y=\"115.055202\"/>\n     <use style=\"fill:#2ca02c;stroke:#2ca02c;\" x=\"164.047992\" xlink:href=\"#m4896fd5c48\" y=\"97.180172\"/>\n     <use style=\"fill:#2ca02c;stroke:#2ca02c;\" x=\"181.526934\" xlink:href=\"#m4896fd5c48\" y=\"80.817853\"/>\n     <use style=\"fill:#2ca02c;stroke:#2ca02c;\" x=\"210.723561\" xlink:href=\"#m4896fd5c48\" y=\"101.462889\"/>\n     <use style=\"fill:#2ca02c;stroke:#2ca02c;\" x=\"259.50585\" xlink:href=\"#m4896fd5c48\" y=\"111.969968\"/>\n     <use style=\"fill:#2ca02c;stroke:#2ca02c;\" x=\"116.118317\" xlink:href=\"#m4896fd5c48\" y=\"163.194906\"/>\n     <use style=\"fill:#2ca02c;stroke:#2ca02c;\" x=\"227.766758\" xlink:href=\"#m4896fd5c48\" y=\"114.368715\"/>\n     <use style=\"fill:#2ca02c;stroke:#2ca02c;\" x=\"211.974389\" xlink:href=\"#m4896fd5c48\" y=\"105.192786\"/>\n     <use style=\"fill:#2ca02c;stroke:#2ca02c;\" x=\"214.892772\" xlink:href=\"#m4896fd5c48\" y=\"99.093139\"/>\n     <use style=\"fill:#2ca02c;stroke:#2ca02c;\" x=\"188.135627\" xlink:href=\"#m4896fd5c48\" y=\"99.670172\"/>\n     <use style=\"fill:#2ca02c;stroke:#2ca02c;\" x=\"127.254274\" xlink:href=\"#m4896fd5c48\" y=\"71.327539\"/>\n     <use style=\"fill:#2ca02c;stroke:#2ca02c;\" x=\"224.934402\" xlink:href=\"#m4896fd5c48\" y=\"103.272933\"/>\n     <use style=\"fill:#2ca02c;stroke:#2ca02c;\" x=\"192.804674\" xlink:href=\"#m4896fd5c48\" y=\"114.74013\"/>\n     <use style=\"fill:#2ca02c;stroke:#2ca02c;\" x=\"103.622076\" xlink:href=\"#m4896fd5c48\" y=\"143.265465\"/>\n     <use style=\"fill:#2ca02c;stroke:#2ca02c;\" x=\"185.271441\" xlink:href=\"#m4896fd5c48\" y=\"98.441543\"/>\n     <use style=\"fill:#2ca02c;stroke:#2ca02c;\" x=\"148.013332\" xlink:href=\"#m4896fd5c48\" y=\"81.370954\"/>\n     <use style=\"fill:#2ca02c;stroke:#2ca02c;\" x=\"206.646107\" xlink:href=\"#m4896fd5c48\" y=\"94.931711\"/>\n     <use style=\"fill:#2ca02c;stroke:#2ca02c;\" x=\"185.008331\" xlink:href=\"#m4896fd5c48\" y=\"83.542996\"/>\n     <use style=\"fill:#2ca02c;stroke:#2ca02c;\" x=\"208.858747\" xlink:href=\"#m4896fd5c48\" y=\"131.03364\"/>\n     <use style=\"fill:#2ca02c;stroke:#2ca02c;\" x=\"159.880753\" xlink:href=\"#m4896fd5c48\" y=\"89.493826\"/>\n     <use style=\"fill:#2ca02c;stroke:#2ca02c;\" x=\"235.142292\" xlink:href=\"#m4896fd5c48\" y=\"110.173347\"/>\n     <use style=\"fill:#2ca02c;stroke:#2ca02c;\" x=\"215.383389\" xlink:href=\"#m4896fd5c48\" y=\"71.003493\"/>\n     <use style=\"fill:#2ca02c;stroke:#2ca02c;\" x=\"171.916894\" xlink:href=\"#m4896fd5c48\" y=\"113.908936\"/>\n     <use style=\"fill:#2ca02c;stroke:#2ca02c;\" x=\"205.66002\" xlink:href=\"#m4896fd5c48\" y=\"117.451276\"/>\n     <use style=\"fill:#2ca02c;stroke:#2ca02c;\" x=\"237.101106\" xlink:href=\"#m4896fd5c48\" y=\"61.379972\"/>\n     <use style=\"fill:#2ca02c;stroke:#2ca02c;\" x=\"154.68383\" xlink:href=\"#m4896fd5c48\" y=\"117.304819\"/>\n     <use style=\"fill:#2ca02c;stroke:#2ca02c;\" x=\"122.908242\" xlink:href=\"#m4896fd5c48\" y=\"111.215892\"/>\n     <use style=\"fill:#2ca02c;stroke:#2ca02c;\" x=\"183.068489\" xlink:href=\"#m4896fd5c48\" y=\"80.356016\"/>\n     <use style=\"fill:#2ca02c;stroke:#2ca02c;\" x=\"223.838593\" xlink:href=\"#m4896fd5c48\" y=\"92.710872\"/>\n     <use style=\"fill:#2ca02c;stroke:#2ca02c;\" x=\"196.089783\" xlink:href=\"#m4896fd5c48\" y=\"107.165794\"/>\n     <use style=\"fill:#2ca02c;stroke:#2ca02c;\" x=\"233.796221\" xlink:href=\"#m4896fd5c48\" y=\"96.024001\"/>\n     <use style=\"fill:#2ca02c;stroke:#2ca02c;\" x=\"252.365275\" xlink:href=\"#m4896fd5c48\" y=\"62.088298\"/>\n     <use style=\"fill:#2ca02c;stroke:#2ca02c;\" x=\"231.107386\" xlink:href=\"#m4896fd5c48\" y=\"98.954487\"/>\n     <use style=\"fill:#2ca02c;stroke:#2ca02c;\" x=\"182.957307\" xlink:href=\"#m4896fd5c48\" y=\"133.262245\"/>\n     <use style=\"fill:#2ca02c;stroke:#2ca02c;\" x=\"167.462746\" xlink:href=\"#m4896fd5c48\" y=\"76.817316\"/>\n     <use style=\"fill:#2ca02c;stroke:#2ca02c;\" x=\"212.042072\" xlink:href=\"#m4896fd5c48\" y=\"99.834806\"/>\n     <use style=\"fill:#2ca02c;stroke:#2ca02c;\" x=\"187.855878\" xlink:href=\"#m4896fd5c48\" y=\"160.220243\"/>\n     <use style=\"fill:#2ca02c;stroke:#2ca02c;\" x=\"184.924731\" xlink:href=\"#m4896fd5c48\" y=\"72.457395\"/>\n     <use style=\"fill:#2ca02c;stroke:#2ca02c;\" x=\"200.480863\" xlink:href=\"#m4896fd5c48\" y=\"82.34083\"/>\n     <use style=\"fill:#2ca02c;stroke:#2ca02c;\" x=\"138.192201\" xlink:href=\"#m4896fd5c48\" y=\"53.017426\"/>\n     <use style=\"fill:#2ca02c;stroke:#2ca02c;\" x=\"157.615867\" xlink:href=\"#m4896fd5c48\" y=\"114.210391\"/>\n     <use style=\"fill:#2ca02c;stroke:#2ca02c;\" x=\"221.809731\" xlink:href=\"#m4896fd5c48\" y=\"145.630256\"/>\n     <use style=\"fill:#2ca02c;stroke:#2ca02c;\" x=\"145.045134\" xlink:href=\"#m4896fd5c48\" y=\"77.350435\"/>\n     <use style=\"fill:#2ca02c;stroke:#2ca02c;\" x=\"212.867374\" xlink:href=\"#m4896fd5c48\" y=\"88.657116\"/>\n     <use style=\"fill:#2ca02c;stroke:#2ca02c;\" x=\"205.257573\" xlink:href=\"#m4896fd5c48\" y=\"159.305065\"/>\n     <use style=\"fill:#2ca02c;stroke:#2ca02c;\" x=\"268.905007\" xlink:href=\"#m4896fd5c48\" y=\"99.451362\"/>\n     <use style=\"fill:#2ca02c;stroke:#2ca02c;\" x=\"247.088934\" xlink:href=\"#m4896fd5c48\" y=\"77.088186\"/>\n     <use style=\"fill:#2ca02c;stroke:#2ca02c;\" x=\"171.387976\" xlink:href=\"#m4896fd5c48\" y=\"89.227166\"/>\n     <use style=\"fill:#2ca02c;stroke:#2ca02c;\" x=\"131.373315\" xlink:href=\"#m4896fd5c48\" y=\"93.619911\"/>\n     <use style=\"fill:#2ca02c;stroke:#2ca02c;\" x=\"229.643623\" xlink:href=\"#m4896fd5c48\" y=\"86.358324\"/>\n     <use style=\"fill:#2ca02c;stroke:#2ca02c;\" x=\"196.135292\" xlink:href=\"#m4896fd5c48\" y=\"120.38784\"/>\n     <use style=\"fill:#2ca02c;stroke:#2ca02c;\" x=\"156.040213\" xlink:href=\"#m4896fd5c48\" y=\"94.758396\"/>\n     <use style=\"fill:#2ca02c;stroke:#2ca02c;\" x=\"225.554712\" xlink:href=\"#m4896fd5c48\" y=\"84.357997\"/>\n     <use style=\"fill:#2ca02c;stroke:#2ca02c;\" x=\"165.190584\" xlink:href=\"#m4896fd5c48\" y=\"117.78444\"/>\n     <use style=\"fill:#2ca02c;stroke:#2ca02c;\" x=\"176.835417\" xlink:href=\"#m4896fd5c48\" y=\"105.223562\"/>\n     <use style=\"fill:#2ca02c;stroke:#2ca02c;\" x=\"237.094393\" xlink:href=\"#m4896fd5c48\" y=\"100.00472\"/>\n     <use style=\"fill:#2ca02c;stroke:#2ca02c;\" x=\"182.370884\" xlink:href=\"#m4896fd5c48\" y=\"125.233807\"/>\n     <use style=\"fill:#2ca02c;stroke:#2ca02c;\" x=\"179.709456\" xlink:href=\"#m4896fd5c48\" y=\"65.095516\"/>\n     <use style=\"fill:#2ca02c;stroke:#2ca02c;\" x=\"167.145431\" xlink:href=\"#m4896fd5c48\" y=\"122.677239\"/>\n     <use style=\"fill:#2ca02c;stroke:#2ca02c;\" x=\"106.352145\" xlink:href=\"#m4896fd5c48\" y=\"124.572728\"/>\n     <use style=\"fill:#2ca02c;stroke:#2ca02c;\" x=\"246.997326\" xlink:href=\"#m4896fd5c48\" y=\"135.875647\"/>\n     <use style=\"fill:#2ca02c;stroke:#2ca02c;\" x=\"194.208938\" xlink:href=\"#m4896fd5c48\" y=\"102.731302\"/>\n     <use style=\"fill:#2ca02c;stroke:#2ca02c;\" x=\"216.780919\" xlink:href=\"#m4896fd5c48\" y=\"78.381279\"/>\n     <use style=\"fill:#2ca02c;stroke:#2ca02c;\" x=\"140.65086\" xlink:href=\"#m4896fd5c48\" y=\"64.779783\"/>\n     <use style=\"fill:#2ca02c;stroke:#2ca02c;\" x=\"131.36809\" xlink:href=\"#m4896fd5c48\" y=\"106.151156\"/>\n     <use style=\"fill:#2ca02c;stroke:#2ca02c;\" x=\"201.790161\" xlink:href=\"#m4896fd5c48\" y=\"107.141899\"/>\n     <use style=\"fill:#2ca02c;stroke:#2ca02c;\" x=\"191.105032\" xlink:href=\"#m4896fd5c48\" y=\"107.191709\"/>\n     <use style=\"fill:#2ca02c;stroke:#2ca02c;\" x=\"189.966454\" xlink:href=\"#m4896fd5c48\" y=\"108.935098\"/>\n     <use style=\"fill:#2ca02c;stroke:#2ca02c;\" x=\"198.402149\" xlink:href=\"#m4896fd5c48\" y=\"98.684052\"/>\n     <use style=\"fill:#2ca02c;stroke:#2ca02c;\" x=\"171.37375\" xlink:href=\"#m4896fd5c48\" y=\"86.052325\"/>\n     <use style=\"fill:#2ca02c;stroke:#2ca02c;\" x=\"84.13721\" xlink:href=\"#m4896fd5c48\" y=\"93.857111\"/>\n     <use style=\"fill:#2ca02c;stroke:#2ca02c;\" x=\"177.031784\" xlink:href=\"#m4896fd5c48\" y=\"87.559772\"/>\n     <use style=\"fill:#2ca02c;stroke:#2ca02c;\" x=\"202.673825\" xlink:href=\"#m4896fd5c48\" y=\"109.789693\"/>\n     <use style=\"fill:#2ca02c;stroke:#2ca02c;\" x=\"167.10707\" xlink:href=\"#m4896fd5c48\" y=\"90.847043\"/>\n     <use style=\"fill:#2ca02c;stroke:#2ca02c;\" x=\"197.808213\" xlink:href=\"#m4896fd5c48\" y=\"121.310384\"/>\n     <use style=\"fill:#2ca02c;stroke:#2ca02c;\" x=\"195.947472\" xlink:href=\"#m4896fd5c48\" y=\"107.798187\"/>\n     <use style=\"fill:#2ca02c;stroke:#2ca02c;\" x=\"137.737179\" xlink:href=\"#m4896fd5c48\" y=\"113.308249\"/>\n     <use style=\"fill:#2ca02c;stroke:#2ca02c;\" x=\"142.347508\" xlink:href=\"#m4896fd5c48\" y=\"73.799814\"/>\n     <use style=\"fill:#2ca02c;stroke:#2ca02c;\" x=\"234.153608\" xlink:href=\"#m4896fd5c48\" y=\"116.531235\"/>\n     <use style=\"fill:#2ca02c;stroke:#2ca02c;\" x=\"182.08776\" xlink:href=\"#m4896fd5c48\" y=\"77.444699\"/>\n     <use style=\"fill:#2ca02c;stroke:#2ca02c;\" x=\"199.961858\" xlink:href=\"#m4896fd5c48\" y=\"78.734005\"/>\n     <use style=\"fill:#2ca02c;stroke:#2ca02c;\" x=\"201.277947\" xlink:href=\"#m4896fd5c48\" y=\"93.775277\"/>\n     <use style=\"fill:#2ca02c;stroke:#2ca02c;\" x=\"263.403532\" xlink:href=\"#m4896fd5c48\" y=\"67.532559\"/>\n     <use style=\"fill:#2ca02c;stroke:#2ca02c;\" x=\"242.190415\" xlink:href=\"#m4896fd5c48\" y=\"111.98737\"/>\n     <use style=\"fill:#2ca02c;stroke:#2ca02c;\" x=\"211.034902\" xlink:href=\"#m4896fd5c48\" y=\"93.6167\"/>\n     <use style=\"fill:#2ca02c;stroke:#2ca02c;\" x=\"95.131501\" xlink:href=\"#m4896fd5c48\" y=\"111.615056\"/>\n     <use style=\"fill:#2ca02c;stroke:#2ca02c;\" x=\"210.260013\" xlink:href=\"#m4896fd5c48\" y=\"100.041932\"/>\n     <use style=\"fill:#2ca02c;stroke:#2ca02c;\" x=\"181.098292\" xlink:href=\"#m4896fd5c48\" y=\"105.803021\"/>\n     <use style=\"fill:#2ca02c;stroke:#2ca02c;\" x=\"173.413585\" xlink:href=\"#m4896fd5c48\" y=\"79.729586\"/>\n     <use style=\"fill:#2ca02c;stroke:#2ca02c;\" x=\"177.266754\" xlink:href=\"#m4896fd5c48\" y=\"75.370701\"/>\n     <use style=\"fill:#2ca02c;stroke:#2ca02c;\" x=\"191.478776\" xlink:href=\"#m4896fd5c48\" y=\"50.08436\"/>\n     <use style=\"fill:#2ca02c;stroke:#2ca02c;\" x=\"198.875259\" xlink:href=\"#m4896fd5c48\" y=\"83.163851\"/>\n     <use style=\"fill:#2ca02c;stroke:#2ca02c;\" x=\"164.727509\" xlink:href=\"#m4896fd5c48\" y=\"95.458805\"/>\n     <use style=\"fill:#2ca02c;stroke:#2ca02c;\" x=\"193.605912\" xlink:href=\"#m4896fd5c48\" y=\"102.200776\"/>\n     <use style=\"fill:#2ca02c;stroke:#2ca02c;\" x=\"237.101398\" xlink:href=\"#m4896fd5c48\" y=\"79.673542\"/>\n     <use style=\"fill:#2ca02c;stroke:#2ca02c;\" x=\"162.514134\" xlink:href=\"#m4896fd5c48\" y=\"114.919592\"/>\n     <use style=\"fill:#2ca02c;stroke:#2ca02c;\" x=\"202.314769\" xlink:href=\"#m4896fd5c48\" y=\"116.004218\"/>\n     <use style=\"fill:#2ca02c;stroke:#2ca02c;\" x=\"267.389975\" xlink:href=\"#m4896fd5c48\" y=\"81.419514\"/>\n     <use style=\"fill:#2ca02c;stroke:#2ca02c;\" x=\"264.271267\" xlink:href=\"#m4896fd5c48\" y=\"75.523311\"/>\n     <use style=\"fill:#2ca02c;stroke:#2ca02c;\" x=\"175.049533\" xlink:href=\"#m4896fd5c48\" y=\"73.001165\"/>\n     <use style=\"fill:#2ca02c;stroke:#2ca02c;\" x=\"235.626366\" xlink:href=\"#m4896fd5c48\" y=\"62.681095\"/>\n     <use style=\"fill:#2ca02c;stroke:#2ca02c;\" x=\"233.299705\" xlink:href=\"#m4896fd5c48\" y=\"133.069761\"/>\n     <use style=\"fill:#2ca02c;stroke:#2ca02c;\" x=\"204.844361\" xlink:href=\"#m4896fd5c48\" y=\"103.341716\"/>\n     <use style=\"fill:#2ca02c;stroke:#2ca02c;\" x=\"243.25822\" xlink:href=\"#m4896fd5c48\" y=\"112.309397\"/>\n     <use style=\"fill:#2ca02c;stroke:#2ca02c;\" x=\"113.113259\" xlink:href=\"#m4896fd5c48\" y=\"112.398294\"/>\n     <use style=\"fill:#2ca02c;stroke:#2ca02c;\" x=\"220.635085\" xlink:href=\"#m4896fd5c48\" y=\"56.47431\"/>\n     <use style=\"fill:#2ca02c;stroke:#2ca02c;\" x=\"197.781308\" xlink:href=\"#m4896fd5c48\" y=\"133.526853\"/>\n     <use style=\"fill:#2ca02c;stroke:#2ca02c;\" x=\"123.318053\" xlink:href=\"#m4896fd5c48\" y=\"72.574592\"/>\n     <use style=\"fill:#2ca02c;stroke:#2ca02c;\" x=\"182.313553\" xlink:href=\"#m4896fd5c48\" y=\"96.700853\"/>\n     <use style=\"fill:#2ca02c;stroke:#2ca02c;\" x=\"150.995012\" xlink:href=\"#m4896fd5c48\" y=\"98.65056\"/>\n     <use style=\"fill:#2ca02c;stroke:#2ca02c;\" x=\"181.336793\" xlink:href=\"#m4896fd5c48\" y=\"94.765444\"/>\n     <use style=\"fill:#2ca02c;stroke:#2ca02c;\" x=\"175.473573\" xlink:href=\"#m4896fd5c48\" y=\"108.30407\"/>\n     <use style=\"fill:#2ca02c;stroke:#2ca02c;\" x=\"185.690055\" xlink:href=\"#m4896fd5c48\" y=\"72.94935\"/>\n     <use style=\"fill:#2ca02c;stroke:#2ca02c;\" x=\"169.203357\" xlink:href=\"#m4896fd5c48\" y=\"129.072813\"/>\n     <use style=\"fill:#2ca02c;stroke:#2ca02c;\" x=\"184.012604\" xlink:href=\"#m4896fd5c48\" y=\"74.742511\"/>\n     <use style=\"fill:#2ca02c;stroke:#2ca02c;\" x=\"231.30033\" xlink:href=\"#m4896fd5c48\" y=\"107.278576\"/>\n     <use style=\"fill:#2ca02c;stroke:#2ca02c;\" x=\"129.88891\" xlink:href=\"#m4896fd5c48\" y=\"122.060633\"/>\n     <use style=\"fill:#2ca02c;stroke:#2ca02c;\" x=\"240.106447\" xlink:href=\"#m4896fd5c48\" y=\"81.599794\"/>\n     <use style=\"fill:#2ca02c;stroke:#2ca02c;\" x=\"167.956075\" xlink:href=\"#m4896fd5c48\" y=\"101.503978\"/>\n     <use style=\"fill:#2ca02c;stroke:#2ca02c;\" x=\"236.184706\" xlink:href=\"#m4896fd5c48\" y=\"78.913801\"/>\n     <use style=\"fill:#2ca02c;stroke:#2ca02c;\" x=\"148.250422\" xlink:href=\"#m4896fd5c48\" y=\"83.937303\"/>\n     <use style=\"fill:#2ca02c;stroke:#2ca02c;\" x=\"181.371447\" xlink:href=\"#m4896fd5c48\" y=\"83.354765\"/>\n     <use style=\"fill:#2ca02c;stroke:#2ca02c;\" x=\"161.323077\" xlink:href=\"#m4896fd5c48\" y=\"60.791284\"/>\n     <use style=\"fill:#2ca02c;stroke:#2ca02c;\" x=\"223.080645\" xlink:href=\"#m4896fd5c48\" y=\"119.88256\"/>\n     <use style=\"fill:#2ca02c;stroke:#2ca02c;\" x=\"157.740479\" xlink:href=\"#m4896fd5c48\" y=\"80.083505\"/>\n     <use style=\"fill:#2ca02c;stroke:#2ca02c;\" x=\"212.432522\" xlink:href=\"#m4896fd5c48\" y=\"89.757136\"/>\n     <use style=\"fill:#2ca02c;stroke:#2ca02c;\" x=\"196.356024\" xlink:href=\"#m4896fd5c48\" y=\"86.398779\"/>\n     <use style=\"fill:#2ca02c;stroke:#2ca02c;\" x=\"159.183731\" xlink:href=\"#m4896fd5c48\" y=\"77.828161\"/>\n     <use style=\"fill:#2ca02c;stroke:#2ca02c;\" x=\"149.796862\" xlink:href=\"#m4896fd5c48\" y=\"91.418104\"/>\n     <use style=\"fill:#2ca02c;stroke:#2ca02c;\" x=\"214.124255\" xlink:href=\"#m4896fd5c48\" y=\"108.670047\"/>\n     <use style=\"fill:#2ca02c;stroke:#2ca02c;\" x=\"134.68286\" xlink:href=\"#m4896fd5c48\" y=\"112.330377\"/>\n     <use style=\"fill:#2ca02c;stroke:#2ca02c;\" x=\"244.142031\" xlink:href=\"#m4896fd5c48\" y=\"113.55758\"/>\n     <use style=\"fill:#2ca02c;stroke:#2ca02c;\" x=\"164.316687\" xlink:href=\"#m4896fd5c48\" y=\"134.133923\"/>\n     <use style=\"fill:#2ca02c;stroke:#2ca02c;\" x=\"219.23724\" xlink:href=\"#m4896fd5c48\" y=\"103.638155\"/>\n     <use style=\"fill:#2ca02c;stroke:#2ca02c;\" x=\"213.565044\" xlink:href=\"#m4896fd5c48\" y=\"80.13209\"/>\n     <use style=\"fill:#2ca02c;stroke:#2ca02c;\" x=\"188.152082\" xlink:href=\"#m4896fd5c48\" y=\"77.966427\"/>\n     <use style=\"fill:#2ca02c;stroke:#2ca02c;\" x=\"215.327096\" xlink:href=\"#m4896fd5c48\" y=\"82.403619\"/>\n     <use style=\"fill:#2ca02c;stroke:#2ca02c;\" x=\"125.718044\" xlink:href=\"#m4896fd5c48\" y=\"97.827986\"/>\n     <use style=\"fill:#2ca02c;stroke:#2ca02c;\" x=\"170.115546\" xlink:href=\"#m4896fd5c48\" y=\"88.419952\"/>\n     <use style=\"fill:#2ca02c;stroke:#2ca02c;\" x=\"185.590354\" xlink:href=\"#m4896fd5c48\" y=\"106.690636\"/>\n     <use style=\"fill:#2ca02c;stroke:#2ca02c;\" x=\"191.052141\" xlink:href=\"#m4896fd5c48\" y=\"72.173768\"/>\n     <use style=\"fill:#2ca02c;stroke:#2ca02c;\" x=\"208.26556\" xlink:href=\"#m4896fd5c48\" y=\"135.714667\"/>\n     <use style=\"fill:#2ca02c;stroke:#2ca02c;\" x=\"198.699987\" xlink:href=\"#m4896fd5c48\" y=\"86.65948\"/>\n     <use style=\"fill:#2ca02c;stroke:#2ca02c;\" x=\"187.82286\" xlink:href=\"#m4896fd5c48\" y=\"101.858698\"/>\n     <use style=\"fill:#2ca02c;stroke:#2ca02c;\" x=\"285.654901\" xlink:href=\"#m4896fd5c48\" y=\"76.358142\"/>\n     <use style=\"fill:#2ca02c;stroke:#2ca02c;\" x=\"220.945001\" xlink:href=\"#m4896fd5c48\" y=\"101.640504\"/>\n     <use style=\"fill:#2ca02c;stroke:#2ca02c;\" x=\"192.124371\" xlink:href=\"#m4896fd5c48\" y=\"90.761469\"/>\n     <use style=\"fill:#2ca02c;stroke:#2ca02c;\" x=\"166.314792\" xlink:href=\"#m4896fd5c48\" y=\"90.658434\"/>\n     <use style=\"fill:#2ca02c;stroke:#2ca02c;\" x=\"173.33789\" xlink:href=\"#m4896fd5c48\" y=\"116.093076\"/>\n     <use style=\"fill:#2ca02c;stroke:#2ca02c;\" x=\"218.187266\" xlink:href=\"#m4896fd5c48\" y=\"110.744064\"/>\n     <use style=\"fill:#2ca02c;stroke:#2ca02c;\" x=\"182.126599\" xlink:href=\"#m4896fd5c48\" y=\"84.24771\"/>\n     <use style=\"fill:#2ca02c;stroke:#2ca02c;\" x=\"280.439927\" xlink:href=\"#m4896fd5c48\" y=\"105.55528\"/>\n     <use style=\"fill:#2ca02c;stroke:#2ca02c;\" x=\"256.992551\" xlink:href=\"#m4896fd5c48\" y=\"94.397228\"/>\n     <use style=\"fill:#2ca02c;stroke:#2ca02c;\" x=\"141.68744\" xlink:href=\"#m4896fd5c48\" y=\"91.883381\"/>\n     <use style=\"fill:#2ca02c;stroke:#2ca02c;\" x=\"60.063494\" xlink:href=\"#m4896fd5c48\" y=\"111.814284\"/>\n     <use style=\"fill:#2ca02c;stroke:#2ca02c;\" x=\"199.015321\" xlink:href=\"#m4896fd5c48\" y=\"57.208798\"/>\n     <use style=\"fill:#2ca02c;stroke:#2ca02c;\" x=\"162.28379\" xlink:href=\"#m4896fd5c48\" y=\"102.468454\"/>\n     <use style=\"fill:#2ca02c;stroke:#2ca02c;\" x=\"148.390253\" xlink:href=\"#m4896fd5c48\" y=\"86.807502\"/>\n     <use style=\"fill:#2ca02c;stroke:#2ca02c;\" x=\"197.428371\" xlink:href=\"#m4896fd5c48\" y=\"99.796133\"/>\n     <use style=\"fill:#2ca02c;stroke:#2ca02c;\" x=\"186.55991\" xlink:href=\"#m4896fd5c48\" y=\"119.677431\"/>\n     <use style=\"fill:#2ca02c;stroke:#2ca02c;\" x=\"223.546495\" xlink:href=\"#m4896fd5c48\" y=\"87.090032\"/>\n     <use style=\"fill:#2ca02c;stroke:#2ca02c;\" x=\"181.736761\" xlink:href=\"#m4896fd5c48\" y=\"105.432596\"/>\n     <use style=\"fill:#2ca02c;stroke:#2ca02c;\" x=\"165.007342\" xlink:href=\"#m4896fd5c48\" y=\"123.8986\"/>\n     <use style=\"fill:#2ca02c;stroke:#2ca02c;\" x=\"268.934259\" xlink:href=\"#m4896fd5c48\" y=\"80.982383\"/>\n     <use style=\"fill:#2ca02c;stroke:#2ca02c;\" x=\"166.1642\" xlink:href=\"#m4896fd5c48\" y=\"93.939337\"/>\n     <use style=\"fill:#2ca02c;stroke:#2ca02c;\" x=\"176.237777\" xlink:href=\"#m4896fd5c48\" y=\"115.753599\"/>\n     <use style=\"fill:#2ca02c;stroke:#2ca02c;\" x=\"171.34381\" xlink:href=\"#m4896fd5c48\" y=\"51.095213\"/>\n     <use style=\"fill:#2ca02c;stroke:#2ca02c;\" x=\"291.192562\" xlink:href=\"#m4896fd5c48\" y=\"77.342354\"/>\n     <use style=\"fill:#2ca02c;stroke:#2ca02c;\" x=\"198.294129\" xlink:href=\"#m4896fd5c48\" y=\"61.645825\"/>\n     <use style=\"fill:#2ca02c;stroke:#2ca02c;\" x=\"252.583453\" xlink:href=\"#m4896fd5c48\" y=\"109.896848\"/>\n     <use style=\"fill:#2ca02c;stroke:#2ca02c;\" x=\"231.449443\" xlink:href=\"#m4896fd5c48\" y=\"100.120167\"/>\n     <use style=\"fill:#2ca02c;stroke:#2ca02c;\" x=\"154.274646\" xlink:href=\"#m4896fd5c48\" y=\"99.565151\"/>\n     <use style=\"fill:#2ca02c;stroke:#2ca02c;\" x=\"227.258967\" xlink:href=\"#m4896fd5c48\" y=\"93.116866\"/>\n     <use style=\"fill:#2ca02c;stroke:#2ca02c;\" x=\"239.359309\" xlink:href=\"#m4896fd5c48\" y=\"89.476507\"/>\n     <use style=\"fill:#2ca02c;stroke:#2ca02c;\" x=\"203.176417\" xlink:href=\"#m4896fd5c48\" y=\"93.291807\"/>\n     <use style=\"fill:#2ca02c;stroke:#2ca02c;\" x=\"170.968402\" xlink:href=\"#m4896fd5c48\" y=\"96.072508\"/>\n     <use style=\"fill:#2ca02c;stroke:#2ca02c;\" x=\"193.124023\" xlink:href=\"#m4896fd5c48\" y=\"97.967829\"/>\n     <use style=\"fill:#2ca02c;stroke:#2ca02c;\" x=\"232.366674\" xlink:href=\"#m4896fd5c48\" y=\"116.41065\"/>\n     <use style=\"fill:#2ca02c;stroke:#2ca02c;\" x=\"140.81617\" xlink:href=\"#m4896fd5c48\" y=\"82.702761\"/>\n     <use style=\"fill:#2ca02c;stroke:#2ca02c;\" x=\"197.897151\" xlink:href=\"#m4896fd5c48\" y=\"81.002067\"/>\n     <use style=\"fill:#2ca02c;stroke:#2ca02c;\" x=\"117.57482\" xlink:href=\"#m4896fd5c48\" y=\"91.63344\"/>\n     <use style=\"fill:#2ca02c;stroke:#2ca02c;\" x=\"154.666183\" xlink:href=\"#m4896fd5c48\" y=\"108.065543\"/>\n     <use style=\"fill:#2ca02c;stroke:#2ca02c;\" x=\"159.919842\" xlink:href=\"#m4896fd5c48\" y=\"96.579902\"/>\n     <use style=\"fill:#2ca02c;stroke:#2ca02c;\" x=\"186.534309\" xlink:href=\"#m4896fd5c48\" y=\"85.344405\"/>\n     <use style=\"fill:#2ca02c;stroke:#2ca02c;\" x=\"173.80491\" xlink:href=\"#m4896fd5c48\" y=\"99.020023\"/>\n     <use style=\"fill:#2ca02c;stroke:#2ca02c;\" x=\"169.754711\" xlink:href=\"#m4896fd5c48\" y=\"96.816105\"/>\n     <use style=\"fill:#2ca02c;stroke:#2ca02c;\" x=\"216.968604\" xlink:href=\"#m4896fd5c48\" y=\"77.248366\"/>\n     <use style=\"fill:#2ca02c;stroke:#2ca02c;\" x=\"202.200359\" xlink:href=\"#m4896fd5c48\" y=\"98.638682\"/>\n     <use style=\"fill:#2ca02c;stroke:#2ca02c;\" x=\"254.323322\" xlink:href=\"#m4896fd5c48\" y=\"73.279306\"/>\n     <use style=\"fill:#2ca02c;stroke:#2ca02c;\" x=\"179.354752\" xlink:href=\"#m4896fd5c48\" y=\"108.275673\"/>\n     <use style=\"fill:#2ca02c;stroke:#2ca02c;\" x=\"194.50813\" xlink:href=\"#m4896fd5c48\" y=\"86.072808\"/>\n     <use style=\"fill:#2ca02c;stroke:#2ca02c;\" x=\"184.397025\" xlink:href=\"#m4896fd5c48\" y=\"111.303564\"/>\n     <use style=\"fill:#2ca02c;stroke:#2ca02c;\" x=\"192.8303\" xlink:href=\"#m4896fd5c48\" y=\"103.811348\"/>\n     <use style=\"fill:#2ca02c;stroke:#2ca02c;\" x=\"226.515612\" xlink:href=\"#m4896fd5c48\" y=\"105.870055\"/>\n     <use style=\"fill:#2ca02c;stroke:#2ca02c;\" x=\"173.333009\" xlink:href=\"#m4896fd5c48\" y=\"106.15022\"/>\n     <use style=\"fill:#2ca02c;stroke:#2ca02c;\" x=\"204.157449\" xlink:href=\"#m4896fd5c48\" y=\"80.591821\"/>\n     <use style=\"fill:#2ca02c;stroke:#2ca02c;\" x=\"94.439498\" xlink:href=\"#m4896fd5c48\" y=\"105.381799\"/>\n     <use style=\"fill:#2ca02c;stroke:#2ca02c;\" x=\"220.186421\" xlink:href=\"#m4896fd5c48\" y=\"95.096076\"/>\n     <use style=\"fill:#2ca02c;stroke:#2ca02c;\" x=\"144.831291\" xlink:href=\"#m4896fd5c48\" y=\"97.948327\"/>\n     <use style=\"fill:#2ca02c;stroke:#2ca02c;\" x=\"198.531377\" xlink:href=\"#m4896fd5c48\" y=\"110.472561\"/>\n     <use style=\"fill:#2ca02c;stroke:#2ca02c;\" x=\"219.88749\" xlink:href=\"#m4896fd5c48\" y=\"90.268639\"/>\n     <use style=\"fill:#2ca02c;stroke:#2ca02c;\" x=\"174.266361\" xlink:href=\"#m4896fd5c48\" y=\"101.944536\"/>\n     <use style=\"fill:#2ca02c;stroke:#2ca02c;\" x=\"181.097346\" xlink:href=\"#m4896fd5c48\" y=\"94.659005\"/>\n     <use style=\"fill:#2ca02c;stroke:#2ca02c;\" x=\"195.772422\" xlink:href=\"#m4896fd5c48\" y=\"89.114323\"/>\n     <use style=\"fill:#2ca02c;stroke:#2ca02c;\" x=\"187.389233\" xlink:href=\"#m4896fd5c48\" y=\"107.442516\"/>\n     <use style=\"fill:#2ca02c;stroke:#2ca02c;\" x=\"233.162122\" xlink:href=\"#m4896fd5c48\" y=\"88.473667\"/>\n     <use style=\"fill:#2ca02c;stroke:#2ca02c;\" x=\"178.047938\" xlink:href=\"#m4896fd5c48\" y=\"103.437502\"/>\n     <use style=\"fill:#2ca02c;stroke:#2ca02c;\" x=\"178.734124\" xlink:href=\"#m4896fd5c48\" y=\"106.883995\"/>\n     <use style=\"fill:#2ca02c;stroke:#2ca02c;\" x=\"173.991126\" xlink:href=\"#m4896fd5c48\" y=\"116.028059\"/>\n     <use style=\"fill:#2ca02c;stroke:#2ca02c;\" x=\"132.261664\" xlink:href=\"#m4896fd5c48\" y=\"94.138947\"/>\n    </g>\n   </g>\n   <g id=\"matplotlib.axis_1\">\n    <g id=\"xtick_1\">\n     <g id=\"line2d_1\">\n      <defs>\n       <path d=\"M 0 0 \nL 0 3.5 \n\" id=\"m41a2537634\" style=\"stroke:#000000;stroke-width:0.8;\"/>\n      </defs>\n      <g>\n       <use style=\"stroke:#000000;stroke-width:0.8;\" x=\"64.791469\" xlink:href=\"#m41a2537634\" y=\"224.64\"/>\n      </g>\n     </g>\n     <g id=\"text_1\">\n      <!-- −8 -->\n      <defs>\n       <path d=\"M 10.59375 35.5 \nL 73.1875 35.5 \nL 73.1875 27.203125 \nL 10.59375 27.203125 \nz\n\" id=\"DejaVuSans-8722\"/>\n       <path d=\"M 31.78125 34.625 \nQ 24.75 34.625 20.71875 30.859375 \nQ 16.703125 27.09375 16.703125 20.515625 \nQ 16.703125 13.921875 20.71875 10.15625 \nQ 24.75 6.390625 31.78125 6.390625 \nQ 38.8125 6.390625 42.859375 10.171875 \nQ 46.921875 13.96875 46.921875 20.515625 \nQ 46.921875 27.09375 42.890625 30.859375 \nQ 38.875 34.625 31.78125 34.625 \nz\nM 21.921875 38.8125 \nQ 15.578125 40.375 12.03125 44.71875 \nQ 8.5 49.078125 8.5 55.328125 \nQ 8.5 64.0625 14.71875 69.140625 \nQ 20.953125 74.21875 31.78125 74.21875 \nQ 42.671875 74.21875 48.875 69.140625 \nQ 55.078125 64.0625 55.078125 55.328125 \nQ 55.078125 49.078125 51.53125 44.71875 \nQ 48 40.375 41.703125 38.8125 \nQ 48.828125 37.15625 52.796875 32.3125 \nQ 56.78125 27.484375 56.78125 20.515625 \nQ 56.78125 9.90625 50.3125 4.234375 \nQ 43.84375 -1.421875 31.78125 -1.421875 \nQ 19.734375 -1.421875 13.25 4.234375 \nQ 6.78125 9.90625 6.78125 20.515625 \nQ 6.78125 27.484375 10.78125 32.3125 \nQ 14.796875 37.15625 21.921875 38.8125 \nz\nM 18.3125 54.390625 \nQ 18.3125 48.734375 21.84375 45.5625 \nQ 25.390625 42.390625 31.78125 42.390625 \nQ 38.140625 42.390625 41.71875 45.5625 \nQ 45.3125 48.734375 45.3125 54.390625 \nQ 45.3125 60.0625 41.71875 63.234375 \nQ 38.140625 66.40625 31.78125 66.40625 \nQ 25.390625 66.40625 21.84375 63.234375 \nQ 18.3125 60.0625 18.3125 54.390625 \nz\n\" id=\"DejaVuSans-56\"/>\n      </defs>\n      <g transform=\"translate(57.420376 239.238437)scale(0.1 -0.1)\">\n       <use xlink:href=\"#DejaVuSans-8722\"/>\n       <use x=\"83.789062\" xlink:href=\"#DejaVuSans-56\"/>\n      </g>\n     </g>\n    </g>\n    <g id=\"xtick_2\">\n     <g id=\"line2d_2\">\n      <g>\n       <use style=\"stroke:#000000;stroke-width:0.8;\" x=\"103.170355\" xlink:href=\"#m41a2537634\" y=\"224.64\"/>\n      </g>\n     </g>\n     <g id=\"text_2\">\n      <!-- −6 -->\n      <defs>\n       <path d=\"M 33.015625 40.375 \nQ 26.375 40.375 22.484375 35.828125 \nQ 18.609375 31.296875 18.609375 23.390625 \nQ 18.609375 15.53125 22.484375 10.953125 \nQ 26.375 6.390625 33.015625 6.390625 \nQ 39.65625 6.390625 43.53125 10.953125 \nQ 47.40625 15.53125 47.40625 23.390625 \nQ 47.40625 31.296875 43.53125 35.828125 \nQ 39.65625 40.375 33.015625 40.375 \nz\nM 52.59375 71.296875 \nL 52.59375 62.3125 \nQ 48.875 64.0625 45.09375 64.984375 \nQ 41.3125 65.921875 37.59375 65.921875 \nQ 27.828125 65.921875 22.671875 59.328125 \nQ 17.53125 52.734375 16.796875 39.40625 \nQ 19.671875 43.65625 24.015625 45.921875 \nQ 28.375 48.1875 33.59375 48.1875 \nQ 44.578125 48.1875 50.953125 41.515625 \nQ 57.328125 34.859375 57.328125 23.390625 \nQ 57.328125 12.15625 50.6875 5.359375 \nQ 44.046875 -1.421875 33.015625 -1.421875 \nQ 20.359375 -1.421875 13.671875 8.265625 \nQ 6.984375 17.96875 6.984375 36.375 \nQ 6.984375 53.65625 15.1875 63.9375 \nQ 23.390625 74.21875 37.203125 74.21875 \nQ 40.921875 74.21875 44.703125 73.484375 \nQ 48.484375 72.75 52.59375 71.296875 \nz\n\" id=\"DejaVuSans-54\"/>\n      </defs>\n      <g transform=\"translate(95.799261 239.238437)scale(0.1 -0.1)\">\n       <use xlink:href=\"#DejaVuSans-8722\"/>\n       <use x=\"83.789062\" xlink:href=\"#DejaVuSans-54\"/>\n      </g>\n     </g>\n    </g>\n    <g id=\"xtick_3\">\n     <g id=\"line2d_3\">\n      <g>\n       <use style=\"stroke:#000000;stroke-width:0.8;\" x=\"141.549241\" xlink:href=\"#m41a2537634\" y=\"224.64\"/>\n      </g>\n     </g>\n     <g id=\"text_3\">\n      <!-- −4 -->\n      <defs>\n       <path d=\"M 37.796875 64.3125 \nL 12.890625 25.390625 \nL 37.796875 25.390625 \nz\nM 35.203125 72.90625 \nL 47.609375 72.90625 \nL 47.609375 25.390625 \nL 58.015625 25.390625 \nL 58.015625 17.1875 \nL 47.609375 17.1875 \nL 47.609375 0 \nL 37.796875 0 \nL 37.796875 17.1875 \nL 4.890625 17.1875 \nL 4.890625 26.703125 \nz\n\" id=\"DejaVuSans-52\"/>\n      </defs>\n      <g transform=\"translate(134.178147 239.238437)scale(0.1 -0.1)\">\n       <use xlink:href=\"#DejaVuSans-8722\"/>\n       <use x=\"83.789062\" xlink:href=\"#DejaVuSans-52\"/>\n      </g>\n     </g>\n    </g>\n    <g id=\"xtick_4\">\n     <g id=\"line2d_4\">\n      <g>\n       <use style=\"stroke:#000000;stroke-width:0.8;\" x=\"179.928127\" xlink:href=\"#m41a2537634\" y=\"224.64\"/>\n      </g>\n     </g>\n     <g id=\"text_4\">\n      <!-- −2 -->\n      <defs>\n       <path d=\"M 19.1875 8.296875 \nL 53.609375 8.296875 \nL 53.609375 0 \nL 7.328125 0 \nL 7.328125 8.296875 \nQ 12.9375 14.109375 22.625 23.890625 \nQ 32.328125 33.6875 34.8125 36.53125 \nQ 39.546875 41.84375 41.421875 45.53125 \nQ 43.3125 49.21875 43.3125 52.78125 \nQ 43.3125 58.59375 39.234375 62.25 \nQ 35.15625 65.921875 28.609375 65.921875 \nQ 23.96875 65.921875 18.8125 64.3125 \nQ 13.671875 62.703125 7.8125 59.421875 \nL 7.8125 69.390625 \nQ 13.765625 71.78125 18.9375 73 \nQ 24.125 74.21875 28.421875 74.21875 \nQ 39.75 74.21875 46.484375 68.546875 \nQ 53.21875 62.890625 53.21875 53.421875 \nQ 53.21875 48.921875 51.53125 44.890625 \nQ 49.859375 40.875 45.40625 35.40625 \nQ 44.1875 33.984375 37.640625 27.21875 \nQ 31.109375 20.453125 19.1875 8.296875 \nz\n\" id=\"DejaVuSans-50\"/>\n      </defs>\n      <g transform=\"translate(172.557033 239.238437)scale(0.1 -0.1)\">\n       <use xlink:href=\"#DejaVuSans-8722\"/>\n       <use x=\"83.789062\" xlink:href=\"#DejaVuSans-50\"/>\n      </g>\n     </g>\n    </g>\n    <g id=\"xtick_5\">\n     <g id=\"line2d_5\">\n      <g>\n       <use style=\"stroke:#000000;stroke-width:0.8;\" x=\"218.307013\" xlink:href=\"#m41a2537634\" y=\"224.64\"/>\n      </g>\n     </g>\n     <g id=\"text_5\">\n      <!-- 0 -->\n      <defs>\n       <path d=\"M 31.78125 66.40625 \nQ 24.171875 66.40625 20.328125 58.90625 \nQ 16.5 51.421875 16.5 36.375 \nQ 16.5 21.390625 20.328125 13.890625 \nQ 24.171875 6.390625 31.78125 6.390625 \nQ 39.453125 6.390625 43.28125 13.890625 \nQ 47.125 21.390625 47.125 36.375 \nQ 47.125 51.421875 43.28125 58.90625 \nQ 39.453125 66.40625 31.78125 66.40625 \nz\nM 31.78125 74.21875 \nQ 44.046875 74.21875 50.515625 64.515625 \nQ 56.984375 54.828125 56.984375 36.375 \nQ 56.984375 17.96875 50.515625 8.265625 \nQ 44.046875 -1.421875 31.78125 -1.421875 \nQ 19.53125 -1.421875 13.0625 8.265625 \nQ 6.59375 17.96875 6.59375 36.375 \nQ 6.59375 54.828125 13.0625 64.515625 \nQ 19.53125 74.21875 31.78125 74.21875 \nz\n\" id=\"DejaVuSans-48\"/>\n      </defs>\n      <g transform=\"translate(215.125763 239.238437)scale(0.1 -0.1)\">\n       <use xlink:href=\"#DejaVuSans-48\"/>\n      </g>\n     </g>\n    </g>\n    <g id=\"xtick_6\">\n     <g id=\"line2d_6\">\n      <g>\n       <use style=\"stroke:#000000;stroke-width:0.8;\" x=\"256.685899\" xlink:href=\"#m41a2537634\" y=\"224.64\"/>\n      </g>\n     </g>\n     <g id=\"text_6\">\n      <!-- 2 -->\n      <g transform=\"translate(253.504649 239.238437)scale(0.1 -0.1)\">\n       <use xlink:href=\"#DejaVuSans-50\"/>\n      </g>\n     </g>\n    </g>\n    <g id=\"xtick_7\">\n     <g id=\"line2d_7\">\n      <g>\n       <use style=\"stroke:#000000;stroke-width:0.8;\" x=\"295.064785\" xlink:href=\"#m41a2537634\" y=\"224.64\"/>\n      </g>\n     </g>\n     <g id=\"text_7\">\n      <!-- 4 -->\n      <g transform=\"translate(291.883535 239.238437)scale(0.1 -0.1)\">\n       <use xlink:href=\"#DejaVuSans-52\"/>\n      </g>\n     </g>\n    </g>\n    <g id=\"xtick_8\">\n     <g id=\"line2d_8\">\n      <g>\n       <use style=\"stroke:#000000;stroke-width:0.8;\" x=\"333.44367\" xlink:href=\"#m41a2537634\" y=\"224.64\"/>\n      </g>\n     </g>\n     <g id=\"text_8\">\n      <!-- 6 -->\n      <g transform=\"translate(330.26242 239.238437)scale(0.1 -0.1)\">\n       <use xlink:href=\"#DejaVuSans-54\"/>\n      </g>\n     </g>\n    </g>\n    <g id=\"xtick_9\">\n     <g id=\"line2d_9\">\n      <g>\n       <use style=\"stroke:#000000;stroke-width:0.8;\" x=\"371.822556\" xlink:href=\"#m41a2537634\" y=\"224.64\"/>\n      </g>\n     </g>\n     <g id=\"text_9\">\n      <!-- 8 -->\n      <g transform=\"translate(368.641306 239.238437)scale(0.1 -0.1)\">\n       <use xlink:href=\"#DejaVuSans-56\"/>\n      </g>\n     </g>\n    </g>\n   </g>\n   <g id=\"matplotlib.axis_2\">\n    <g id=\"ytick_1\">\n     <g id=\"line2d_10\">\n      <defs>\n       <path d=\"M 0 0 \nL -3.5 0 \n\" id=\"m510dac6755\" style=\"stroke:#000000;stroke-width:0.8;\"/>\n      </defs>\n      <g>\n       <use style=\"stroke:#000000;stroke-width:0.8;\" x=\"44.845313\" xlink:href=\"#m510dac6755\" y=\"219.944963\"/>\n      </g>\n     </g>\n     <g id=\"text_10\">\n      <!-- −15.0 -->\n      <defs>\n       <path d=\"M 12.40625 8.296875 \nL 28.515625 8.296875 \nL 28.515625 63.921875 \nL 10.984375 60.40625 \nL 10.984375 69.390625 \nL 28.421875 72.90625 \nL 38.28125 72.90625 \nL 38.28125 8.296875 \nL 54.390625 8.296875 \nL 54.390625 0 \nL 12.40625 0 \nz\n\" id=\"DejaVuSans-49\"/>\n       <path d=\"M 10.796875 72.90625 \nL 49.515625 72.90625 \nL 49.515625 64.59375 \nL 19.828125 64.59375 \nL 19.828125 46.734375 \nQ 21.96875 47.46875 24.109375 47.828125 \nQ 26.265625 48.1875 28.421875 48.1875 \nQ 40.625 48.1875 47.75 41.5 \nQ 54.890625 34.8125 54.890625 23.390625 \nQ 54.890625 11.625 47.5625 5.09375 \nQ 40.234375 -1.421875 26.90625 -1.421875 \nQ 22.3125 -1.421875 17.546875 -0.640625 \nQ 12.796875 0.140625 7.71875 1.703125 \nL 7.71875 11.625 \nQ 12.109375 9.234375 16.796875 8.0625 \nQ 21.484375 6.890625 26.703125 6.890625 \nQ 35.15625 6.890625 40.078125 11.328125 \nQ 45.015625 15.765625 45.015625 23.390625 \nQ 45.015625 31 40.078125 35.4375 \nQ 35.15625 39.890625 26.703125 39.890625 \nQ 22.75 39.890625 18.8125 39.015625 \nQ 14.890625 38.140625 10.796875 36.28125 \nz\n\" id=\"DejaVuSans-53\"/>\n       <path d=\"M 10.6875 12.40625 \nL 21 12.40625 \nL 21 0 \nL 10.6875 0 \nz\n\" id=\"DejaVuSans-46\"/>\n      </defs>\n      <g transform=\"translate(7.2 223.744181)scale(0.1 -0.1)\">\n       <use xlink:href=\"#DejaVuSans-8722\"/>\n       <use x=\"83.789062\" xlink:href=\"#DejaVuSans-49\"/>\n       <use x=\"147.412109\" xlink:href=\"#DejaVuSans-53\"/>\n       <use x=\"211.035156\" xlink:href=\"#DejaVuSans-46\"/>\n       <use x=\"242.822266\" xlink:href=\"#DejaVuSans-48\"/>\n      </g>\n     </g>\n    </g>\n    <g id=\"ytick_2\">\n     <g id=\"line2d_11\">\n      <g>\n       <use style=\"stroke:#000000;stroke-width:0.8;\" x=\"44.845313\" xlink:href=\"#m510dac6755\" y=\"193.344714\"/>\n      </g>\n     </g>\n     <g id=\"text_11\">\n      <!-- −12.5 -->\n      <g transform=\"translate(7.2 197.143933)scale(0.1 -0.1)\">\n       <use xlink:href=\"#DejaVuSans-8722\"/>\n       <use x=\"83.789062\" xlink:href=\"#DejaVuSans-49\"/>\n       <use x=\"147.412109\" xlink:href=\"#DejaVuSans-50\"/>\n       <use x=\"211.035156\" xlink:href=\"#DejaVuSans-46\"/>\n       <use x=\"242.822266\" xlink:href=\"#DejaVuSans-53\"/>\n      </g>\n     </g>\n    </g>\n    <g id=\"ytick_3\">\n     <g id=\"line2d_12\">\n      <g>\n       <use style=\"stroke:#000000;stroke-width:0.8;\" x=\"44.845313\" xlink:href=\"#m510dac6755\" y=\"166.744466\"/>\n      </g>\n     </g>\n     <g id=\"text_12\">\n      <!-- −10.0 -->\n      <g transform=\"translate(7.2 170.543685)scale(0.1 -0.1)\">\n       <use xlink:href=\"#DejaVuSans-8722\"/>\n       <use x=\"83.789062\" xlink:href=\"#DejaVuSans-49\"/>\n       <use x=\"147.412109\" xlink:href=\"#DejaVuSans-48\"/>\n       <use x=\"211.035156\" xlink:href=\"#DejaVuSans-46\"/>\n       <use x=\"242.822266\" xlink:href=\"#DejaVuSans-48\"/>\n      </g>\n     </g>\n    </g>\n    <g id=\"ytick_4\">\n     <g id=\"line2d_13\">\n      <g>\n       <use style=\"stroke:#000000;stroke-width:0.8;\" x=\"44.845313\" xlink:href=\"#m510dac6755\" y=\"140.144218\"/>\n      </g>\n     </g>\n     <g id=\"text_13\">\n      <!-- −7.5 -->\n      <defs>\n       <path d=\"M 8.203125 72.90625 \nL 55.078125 72.90625 \nL 55.078125 68.703125 \nL 28.609375 0 \nL 18.3125 0 \nL 43.21875 64.59375 \nL 8.203125 64.59375 \nz\n\" id=\"DejaVuSans-55\"/>\n      </defs>\n      <g transform=\"translate(13.5625 143.943437)scale(0.1 -0.1)\">\n       <use xlink:href=\"#DejaVuSans-8722\"/>\n       <use x=\"83.789062\" xlink:href=\"#DejaVuSans-55\"/>\n       <use x=\"147.412109\" xlink:href=\"#DejaVuSans-46\"/>\n       <use x=\"179.199219\" xlink:href=\"#DejaVuSans-53\"/>\n      </g>\n     </g>\n    </g>\n    <g id=\"ytick_5\">\n     <g id=\"line2d_14\">\n      <g>\n       <use style=\"stroke:#000000;stroke-width:0.8;\" x=\"44.845313\" xlink:href=\"#m510dac6755\" y=\"113.54397\"/>\n      </g>\n     </g>\n     <g id=\"text_14\">\n      <!-- −5.0 -->\n      <g transform=\"translate(13.5625 117.343189)scale(0.1 -0.1)\">\n       <use xlink:href=\"#DejaVuSans-8722\"/>\n       <use x=\"83.789062\" xlink:href=\"#DejaVuSans-53\"/>\n       <use x=\"147.412109\" xlink:href=\"#DejaVuSans-46\"/>\n       <use x=\"179.199219\" xlink:href=\"#DejaVuSans-48\"/>\n      </g>\n     </g>\n    </g>\n    <g id=\"ytick_6\">\n     <g id=\"line2d_15\">\n      <g>\n       <use style=\"stroke:#000000;stroke-width:0.8;\" x=\"44.845313\" xlink:href=\"#m510dac6755\" y=\"86.943722\"/>\n      </g>\n     </g>\n     <g id=\"text_15\">\n      <!-- −2.5 -->\n      <g transform=\"translate(13.5625 90.742941)scale(0.1 -0.1)\">\n       <use xlink:href=\"#DejaVuSans-8722\"/>\n       <use x=\"83.789062\" xlink:href=\"#DejaVuSans-50\"/>\n       <use x=\"147.412109\" xlink:href=\"#DejaVuSans-46\"/>\n       <use x=\"179.199219\" xlink:href=\"#DejaVuSans-53\"/>\n      </g>\n     </g>\n    </g>\n    <g id=\"ytick_7\">\n     <g id=\"line2d_16\">\n      <g>\n       <use style=\"stroke:#000000;stroke-width:0.8;\" x=\"44.845313\" xlink:href=\"#m510dac6755\" y=\"60.343474\"/>\n      </g>\n     </g>\n     <g id=\"text_16\">\n      <!-- 0.0 -->\n      <g transform=\"translate(21.942188 64.142693)scale(0.1 -0.1)\">\n       <use xlink:href=\"#DejaVuSans-48\"/>\n       <use x=\"63.623047\" xlink:href=\"#DejaVuSans-46\"/>\n       <use x=\"95.410156\" xlink:href=\"#DejaVuSans-48\"/>\n      </g>\n     </g>\n    </g>\n    <g id=\"ytick_8\">\n     <g id=\"line2d_17\">\n      <g>\n       <use style=\"stroke:#000000;stroke-width:0.8;\" x=\"44.845313\" xlink:href=\"#m510dac6755\" y=\"33.743226\"/>\n      </g>\n     </g>\n     <g id=\"text_17\">\n      <!-- 2.5 -->\n      <g transform=\"translate(21.942188 37.542445)scale(0.1 -0.1)\">\n       <use xlink:href=\"#DejaVuSans-50\"/>\n       <use x=\"63.623047\" xlink:href=\"#DejaVuSans-46\"/>\n       <use x=\"95.410156\" xlink:href=\"#DejaVuSans-53\"/>\n      </g>\n     </g>\n    </g>\n   </g>\n   <g id=\"patch_3\">\n    <path d=\"M 44.845313 224.64 \nL 44.845313 7.2 \n\" style=\"fill:none;stroke:#000000;stroke-linecap:square;stroke-linejoin:miter;stroke-width:0.8;\"/>\n   </g>\n   <g id=\"patch_4\">\n    <path d=\"M 379.645313 224.64 \nL 379.645313 7.2 \n\" style=\"fill:none;stroke:#000000;stroke-linecap:square;stroke-linejoin:miter;stroke-width:0.8;\"/>\n   </g>\n   <g id=\"patch_5\">\n    <path d=\"M 44.845313 224.64 \nL 379.645313 224.64 \n\" style=\"fill:none;stroke:#000000;stroke-linecap:square;stroke-linejoin:miter;stroke-width:0.8;\"/>\n   </g>\n   <g id=\"patch_6\">\n    <path d=\"M 44.845313 7.2 \nL 379.645313 7.2 \n\" style=\"fill:none;stroke:#000000;stroke-linecap:square;stroke-linejoin:miter;stroke-width:0.8;\"/>\n   </g>\n  </g>\n </g>\n <defs>\n  <clipPath id=\"p066588134d\">\n   <rect height=\"217.44\" width=\"334.8\" x=\"44.845313\" y=\"7.2\"/>\n  </clipPath>\n </defs>\n</svg>\n"
          },
          "metadata": {
            "needs_background": "light"
          }
        }
      ],
      "source": [
        "#@title\n",
        "# prepare dataset\n",
        "X_train, y_train, X_test, y_test = prepare_data()\n"
      ]
    },
    {
      "cell_type": "markdown",
      "id": "780221cc-5e13-4fd9-a940-38d43232c17b",
      "metadata": {
        "id": "780221cc-5e13-4fd9-a940-38d43232c17b"
      },
      "source": [
        "- **Create a model with:**\n",
        "    -  1 hidden dense layer (50 neurons), activation relu, , kernel_initializer he_uniform\n",
        "    - 1 output layer\n",
        "    - compile the model with SGD (learning rate 0.01 and momentum 0.9) optimizer and categorical crossentropy and accuracy inside build function"
      ]
    },
    {
      "cell_type": "code",
      "execution_count": 180,
      "id": "72840561-d883-4b04-85c0-aa3c25d88767",
      "metadata": {
        "id": "72840561-d883-4b04-85c0-aa3c25d88767"
      },
      "outputs": [],
      "source": [
        "#@title\n",
        "def build_model():\n",
        "    \n",
        "    ##### YOUR CODE HERE\n",
        "    # define model\n",
        "    model=tf.keras.Sequential()\n",
        "    model.add(Dense(50, activation=\"relu\",kernel_initializer=tf.keras.initializers.HeUniform()))\n",
        "    model.add(Dense(3)) \n",
        "  \n",
        "   \n",
        "    # compile model\n",
        "    model.compile(optimizer=tf.keras.optimizers.SGD(learning_rate=.01,momentum=.9),\n",
        "              loss=tf.keras.losses.CategoricalCrossentropy(),\n",
        "              metrics=['accuracy']\n",
        "                       )\n",
        "  \n",
        "\n",
        "    \n",
        "    return model"
      ]
    },
    {
      "cell_type": "markdown",
      "id": "9f77f064-219f-4130-95d6-6f55c500d8aa",
      "metadata": {
        "id": "9f77f064-219f-4130-95d6-6f55c500d8aa"
      },
      "source": [
        "- Create a function to fit and build the model with different batch sizes"
      ]
    },
    {
      "cell_type": "markdown",
      "id": "36e5cb37-cf36-4f8f-9d2f-2adbeeea41bb",
      "metadata": {
        "id": "36e5cb37-cf36-4f8f-9d2f-2adbeeea41bb"
      },
      "source": [
        "Use epochs = 125"
      ]
    },
    {
      "cell_type": "code",
      "execution_count": 181,
      "id": "8b6d1185-925a-4a4e-9815-29a3ca1a62cf",
      "metadata": {
        "id": "8b6d1185-925a-4a4e-9815-29a3ca1a62cf"
      },
      "outputs": [],
      "source": [
        "#@title\n",
        "# fit a model and plot learning curve\n",
        "def fit_model(X_train, y_train, X_test, y_test, n_batch):\n",
        "    ##### YOUR CODE HERE\n",
        "    # build model\n",
        "    model = build_model()\n",
        "\n",
        "    # fit model\n",
        "    history = model.fit( x=X_train,y=y_train,batch_size=n_batch,epochs=125,validation_split=0.15)\n",
        "    model.evaluate(X_test, y_test, verbose=2)\n",
        "\n",
        "    return history"
      ]
    },
    {
      "cell_type": "markdown",
      "id": "b2539b4f-8829-4df1-9a45-a9c438a37baf",
      "metadata": {
        "id": "b2539b4f-8829-4df1-9a45-a9c438a37baf"
      },
      "source": [
        "### Hyperparameter Tuning"
      ]
    },
    {
      "cell_type": "markdown",
      "id": "fb875222-fd78-4ed5-a33f-a9c085bd5534",
      "metadata": {
        "jp-MarkdownHeadingCollapsed": true,
        "tags": [],
        "id": "fb875222-fd78-4ed5-a33f-a9c085bd5534"
      },
      "source": [
        "#### Batch size"
      ]
    },
    {
      "cell_type": "markdown",
      "id": "3c2c8424-0b59-45be-8bc3-0f310fb8ed30",
      "metadata": {
        "id": "3c2c8424-0b59-45be-8bc3-0f310fb8ed30"
      },
      "source": [
        "##### Size =  1"
      ]
    },
    {
      "cell_type": "markdown",
      "id": "77369330-70e7-41eb-a8ff-40eae827ea7d",
      "metadata": {
        "id": "77369330-70e7-41eb-a8ff-40eae827ea7d"
      },
      "source": [
        "10. **train for 1 batch size**"
      ]
    },
    {
      "cell_type": "code",
      "execution_count": 186,
      "id": "a44f1126-7897-4cd8-bdce-b804948df69d",
      "metadata": {
        "id": "a44f1126-7897-4cd8-bdce-b804948df69d",
        "colab": {
          "base_uri": "https://localhost:8080/"
        },
        "outputId": "c83cc080-717c-4e59-dd67-599cad1cd165"
      },
      "outputs": [
        {
          "output_type": "stream",
          "name": "stdout",
          "text": [
            "Epoch 1/125\n",
            "425/425 [==============================] - 1s 2ms/step - loss: 2.0482 - accuracy: 0.3247 - val_loss: 1.0661 - val_accuracy: 0.2133\n",
            "Epoch 2/125\n",
            "425/425 [==============================] - 1s 2ms/step - loss: 1.1193 - accuracy: 0.2729 - val_loss: 0.9923 - val_accuracy: 0.1733\n",
            "Epoch 3/125\n",
            "425/425 [==============================] - 1s 2ms/step - loss: 1.0278 - accuracy: 0.2471 - val_loss: 0.9402 - val_accuracy: 0.1333\n",
            "Epoch 4/125\n",
            "425/425 [==============================] - 1s 2ms/step - loss: 0.9573 - accuracy: 0.1882 - val_loss: 0.8890 - val_accuracy: 0.0933\n",
            "Epoch 5/125\n",
            "425/425 [==============================] - 1s 2ms/step - loss: 0.8817 - accuracy: 0.1200 - val_loss: 0.8224 - val_accuracy: 0.0533\n",
            "Epoch 6/125\n",
            "425/425 [==============================] - 1s 2ms/step - loss: 0.7715 - accuracy: 0.0588 - val_loss: 0.7060 - val_accuracy: 0.0000e+00\n",
            "Epoch 7/125\n",
            "425/425 [==============================] - 1s 2ms/step - loss: 0.8194 - accuracy: 0.0329 - val_loss: 0.7520 - val_accuracy: 0.0133\n",
            "Epoch 8/125\n",
            "425/425 [==============================] - 1s 2ms/step - loss: 5.0057 - accuracy: 0.0706 - val_loss: 10.5402 - val_accuracy: 0.1067\n",
            "Epoch 9/125\n",
            "425/425 [==============================] - 1s 2ms/step - loss: 9.9602 - accuracy: 0.2094 - val_loss: 10.8480 - val_accuracy: 0.1333\n",
            "Epoch 10/125\n",
            "425/425 [==============================] - 1s 2ms/step - loss: 8.7733 - accuracy: 0.2494 - val_loss: 8.8157 - val_accuracy: 0.1733\n",
            "Epoch 11/125\n",
            "425/425 [==============================] - 1s 2ms/step - loss: 8.1314 - accuracy: 0.3129 - val_loss: 9.4560 - val_accuracy: 0.2400\n",
            "Epoch 12/125\n",
            "425/425 [==============================] - 1s 2ms/step - loss: 8.6470 - accuracy: 0.3388 - val_loss: 9.4560 - val_accuracy: 0.2400\n",
            "Epoch 13/125\n",
            "425/425 [==============================] - 1s 2ms/step - loss: 8.6470 - accuracy: 0.3388 - val_loss: 9.4560 - val_accuracy: 0.2400\n",
            "Epoch 14/125\n",
            "425/425 [==============================] - 1s 2ms/step - loss: 8.6469 - accuracy: 0.3388 - val_loss: 9.4560 - val_accuracy: 0.2400\n",
            "Epoch 15/125\n",
            "425/425 [==============================] - 1s 2ms/step - loss: 8.6469 - accuracy: 0.3388 - val_loss: 9.4560 - val_accuracy: 0.2400\n",
            "Epoch 16/125\n",
            "425/425 [==============================] - 1s 2ms/step - loss: 8.6469 - accuracy: 0.3388 - val_loss: 9.4560 - val_accuracy: 0.2400\n",
            "Epoch 17/125\n",
            "425/425 [==============================] - 1s 2ms/step - loss: 8.6469 - accuracy: 0.3388 - val_loss: 9.4560 - val_accuracy: 0.2400\n",
            "Epoch 18/125\n",
            "425/425 [==============================] - 1s 2ms/step - loss: 8.6469 - accuracy: 0.3388 - val_loss: 9.4560 - val_accuracy: 0.2400\n",
            "Epoch 19/125\n",
            "425/425 [==============================] - 1s 2ms/step - loss: 8.6469 - accuracy: 0.3388 - val_loss: 9.4560 - val_accuracy: 0.2400\n",
            "Epoch 20/125\n",
            "425/425 [==============================] - 1s 2ms/step - loss: 8.6469 - accuracy: 0.3388 - val_loss: 9.4560 - val_accuracy: 0.2400\n",
            "Epoch 21/125\n",
            "425/425 [==============================] - 1s 2ms/step - loss: 8.6469 - accuracy: 0.3388 - val_loss: 9.4560 - val_accuracy: 0.2400\n",
            "Epoch 22/125\n",
            "425/425 [==============================] - 1s 2ms/step - loss: 8.6469 - accuracy: 0.3388 - val_loss: 9.4560 - val_accuracy: 0.2400\n",
            "Epoch 23/125\n",
            "425/425 [==============================] - 1s 2ms/step - loss: 8.6469 - accuracy: 0.3388 - val_loss: 9.4560 - val_accuracy: 0.2400\n",
            "Epoch 24/125\n",
            "425/425 [==============================] - 1s 2ms/step - loss: 8.6469 - accuracy: 0.3388 - val_loss: 9.4560 - val_accuracy: 0.2400\n",
            "Epoch 25/125\n",
            "425/425 [==============================] - 1s 2ms/step - loss: 8.6469 - accuracy: 0.3388 - val_loss: 9.4560 - val_accuracy: 0.2400\n",
            "Epoch 26/125\n",
            "425/425 [==============================] - 1s 2ms/step - loss: 8.6469 - accuracy: 0.3388 - val_loss: 9.4560 - val_accuracy: 0.2400\n",
            "Epoch 27/125\n",
            "425/425 [==============================] - 1s 2ms/step - loss: 8.6469 - accuracy: 0.3388 - val_loss: 9.4560 - val_accuracy: 0.2400\n",
            "Epoch 28/125\n",
            "425/425 [==============================] - 1s 2ms/step - loss: 8.6469 - accuracy: 0.3388 - val_loss: 9.4560 - val_accuracy: 0.2400\n",
            "Epoch 29/125\n",
            "425/425 [==============================] - 1s 2ms/step - loss: 8.6469 - accuracy: 0.3388 - val_loss: 9.4560 - val_accuracy: 0.2400\n",
            "Epoch 30/125\n",
            "425/425 [==============================] - 1s 2ms/step - loss: 8.6469 - accuracy: 0.3388 - val_loss: 9.4560 - val_accuracy: 0.2400\n",
            "Epoch 31/125\n",
            "425/425 [==============================] - 1s 2ms/step - loss: 8.6469 - accuracy: 0.3388 - val_loss: 9.4560 - val_accuracy: 0.2400\n",
            "Epoch 32/125\n",
            "425/425 [==============================] - 1s 2ms/step - loss: 8.6469 - accuracy: 0.3388 - val_loss: 9.4560 - val_accuracy: 0.2400\n",
            "Epoch 33/125\n",
            "425/425 [==============================] - 1s 2ms/step - loss: 8.6469 - accuracy: 0.3388 - val_loss: 9.4560 - val_accuracy: 0.2400\n",
            "Epoch 34/125\n",
            "425/425 [==============================] - 1s 2ms/step - loss: 8.6469 - accuracy: 0.3388 - val_loss: 9.4560 - val_accuracy: 0.2400\n",
            "Epoch 35/125\n",
            "425/425 [==============================] - 1s 2ms/step - loss: 8.6469 - accuracy: 0.3388 - val_loss: 9.4560 - val_accuracy: 0.2400\n",
            "Epoch 36/125\n",
            "425/425 [==============================] - 1s 2ms/step - loss: 8.6469 - accuracy: 0.3388 - val_loss: 9.4560 - val_accuracy: 0.2400\n",
            "Epoch 37/125\n",
            "425/425 [==============================] - 1s 2ms/step - loss: 8.6469 - accuracy: 0.3388 - val_loss: 9.4560 - val_accuracy: 0.2400\n",
            "Epoch 38/125\n",
            "425/425 [==============================] - 1s 2ms/step - loss: 8.6469 - accuracy: 0.3388 - val_loss: 9.4560 - val_accuracy: 0.2400\n",
            "Epoch 39/125\n",
            "425/425 [==============================] - 1s 2ms/step - loss: 8.6469 - accuracy: 0.3388 - val_loss: 9.4560 - val_accuracy: 0.2400\n",
            "Epoch 40/125\n",
            "425/425 [==============================] - 1s 2ms/step - loss: 8.6469 - accuracy: 0.3388 - val_loss: 9.4560 - val_accuracy: 0.2400\n",
            "Epoch 41/125\n",
            "425/425 [==============================] - 1s 2ms/step - loss: 8.6469 - accuracy: 0.3388 - val_loss: 9.4560 - val_accuracy: 0.2400\n",
            "Epoch 42/125\n",
            "425/425 [==============================] - 1s 2ms/step - loss: 8.6469 - accuracy: 0.3388 - val_loss: 9.4560 - val_accuracy: 0.2400\n",
            "Epoch 43/125\n",
            "425/425 [==============================] - 1s 2ms/step - loss: 8.6469 - accuracy: 0.3388 - val_loss: 9.4560 - val_accuracy: 0.2400\n",
            "Epoch 44/125\n",
            "425/425 [==============================] - 1s 2ms/step - loss: 8.6469 - accuracy: 0.3388 - val_loss: 9.4560 - val_accuracy: 0.2400\n",
            "Epoch 45/125\n",
            "425/425 [==============================] - 1s 2ms/step - loss: 8.6469 - accuracy: 0.3388 - val_loss: 9.4560 - val_accuracy: 0.2400\n",
            "Epoch 46/125\n",
            "425/425 [==============================] - 1s 2ms/step - loss: 8.6469 - accuracy: 0.3388 - val_loss: 9.4560 - val_accuracy: 0.2400\n",
            "Epoch 47/125\n",
            "425/425 [==============================] - 1s 2ms/step - loss: 8.6469 - accuracy: 0.3388 - val_loss: 9.4560 - val_accuracy: 0.2400\n",
            "Epoch 48/125\n",
            "425/425 [==============================] - 1s 2ms/step - loss: 8.6469 - accuracy: 0.3388 - val_loss: 9.4560 - val_accuracy: 0.2400\n",
            "Epoch 49/125\n",
            "425/425 [==============================] - 1s 2ms/step - loss: 8.6469 - accuracy: 0.3388 - val_loss: 9.4560 - val_accuracy: 0.2400\n",
            "Epoch 50/125\n",
            "425/425 [==============================] - 1s 2ms/step - loss: 8.6469 - accuracy: 0.3388 - val_loss: 9.4560 - val_accuracy: 0.2400\n",
            "Epoch 51/125\n",
            "425/425 [==============================] - 1s 2ms/step - loss: 8.6469 - accuracy: 0.3388 - val_loss: 9.4560 - val_accuracy: 0.2400\n",
            "Epoch 52/125\n",
            "425/425 [==============================] - 1s 2ms/step - loss: 8.6469 - accuracy: 0.3388 - val_loss: 9.4560 - val_accuracy: 0.2400\n",
            "Epoch 53/125\n",
            "425/425 [==============================] - 1s 2ms/step - loss: 8.6469 - accuracy: 0.3388 - val_loss: 9.4560 - val_accuracy: 0.2400\n",
            "Epoch 54/125\n",
            "425/425 [==============================] - 1s 2ms/step - loss: 8.6469 - accuracy: 0.3388 - val_loss: 9.4560 - val_accuracy: 0.2400\n",
            "Epoch 55/125\n",
            "425/425 [==============================] - 1s 2ms/step - loss: 8.6469 - accuracy: 0.3388 - val_loss: 9.4560 - val_accuracy: 0.2400\n",
            "Epoch 56/125\n",
            "425/425 [==============================] - 1s 2ms/step - loss: 8.6469 - accuracy: 0.3388 - val_loss: 9.4560 - val_accuracy: 0.2400\n",
            "Epoch 57/125\n",
            "425/425 [==============================] - 1s 2ms/step - loss: 8.6469 - accuracy: 0.3388 - val_loss: 9.4560 - val_accuracy: 0.2400\n",
            "Epoch 58/125\n",
            "425/425 [==============================] - 1s 2ms/step - loss: 8.6469 - accuracy: 0.3388 - val_loss: 9.4560 - val_accuracy: 0.2400\n",
            "Epoch 59/125\n",
            "425/425 [==============================] - 1s 2ms/step - loss: 8.6469 - accuracy: 0.3388 - val_loss: 9.4560 - val_accuracy: 0.2400\n",
            "Epoch 60/125\n",
            "425/425 [==============================] - 1s 2ms/step - loss: 8.6469 - accuracy: 0.3388 - val_loss: 9.4560 - val_accuracy: 0.2400\n",
            "Epoch 61/125\n",
            "425/425 [==============================] - 1s 2ms/step - loss: 8.6469 - accuracy: 0.3388 - val_loss: 9.4560 - val_accuracy: 0.2400\n",
            "Epoch 62/125\n",
            "425/425 [==============================] - 1s 2ms/step - loss: 8.6469 - accuracy: 0.3388 - val_loss: 9.4560 - val_accuracy: 0.2400\n",
            "Epoch 63/125\n",
            "425/425 [==============================] - 1s 2ms/step - loss: 8.6469 - accuracy: 0.3388 - val_loss: 9.4560 - val_accuracy: 0.2400\n",
            "Epoch 64/125\n",
            "425/425 [==============================] - 1s 2ms/step - loss: 8.6469 - accuracy: 0.3388 - val_loss: 9.4560 - val_accuracy: 0.2400\n",
            "Epoch 65/125\n",
            "425/425 [==============================] - 1s 2ms/step - loss: 8.6469 - accuracy: 0.3388 - val_loss: 9.4560 - val_accuracy: 0.2400\n",
            "Epoch 66/125\n",
            "425/425 [==============================] - 1s 2ms/step - loss: 8.6469 - accuracy: 0.3388 - val_loss: 9.4560 - val_accuracy: 0.2400\n",
            "Epoch 67/125\n",
            "425/425 [==============================] - 1s 2ms/step - loss: 8.6469 - accuracy: 0.3388 - val_loss: 9.4560 - val_accuracy: 0.2400\n",
            "Epoch 68/125\n",
            "425/425 [==============================] - 1s 2ms/step - loss: 8.6469 - accuracy: 0.3388 - val_loss: 9.4560 - val_accuracy: 0.2400\n",
            "Epoch 69/125\n",
            "425/425 [==============================] - 1s 2ms/step - loss: 8.6469 - accuracy: 0.3388 - val_loss: 9.4560 - val_accuracy: 0.2400\n",
            "Epoch 70/125\n",
            "425/425 [==============================] - 1s 2ms/step - loss: 8.6469 - accuracy: 0.3388 - val_loss: 9.4560 - val_accuracy: 0.2400\n",
            "Epoch 71/125\n",
            "425/425 [==============================] - 1s 2ms/step - loss: 8.6469 - accuracy: 0.3388 - val_loss: 9.4560 - val_accuracy: 0.2400\n",
            "Epoch 72/125\n",
            "425/425 [==============================] - 1s 2ms/step - loss: 8.6469 - accuracy: 0.3388 - val_loss: 9.4560 - val_accuracy: 0.2400\n",
            "Epoch 73/125\n",
            "425/425 [==============================] - 1s 2ms/step - loss: 8.6469 - accuracy: 0.3388 - val_loss: 9.4560 - val_accuracy: 0.2400\n",
            "Epoch 74/125\n",
            "425/425 [==============================] - 1s 2ms/step - loss: 8.6469 - accuracy: 0.3388 - val_loss: 9.4560 - val_accuracy: 0.2400\n",
            "Epoch 75/125\n",
            "425/425 [==============================] - 1s 2ms/step - loss: 8.6469 - accuracy: 0.3388 - val_loss: 9.4560 - val_accuracy: 0.2400\n",
            "Epoch 76/125\n",
            "425/425 [==============================] - 1s 2ms/step - loss: 8.6469 - accuracy: 0.3388 - val_loss: 9.4560 - val_accuracy: 0.2400\n",
            "Epoch 77/125\n",
            "425/425 [==============================] - 1s 2ms/step - loss: 8.6469 - accuracy: 0.3388 - val_loss: 9.4560 - val_accuracy: 0.2400\n",
            "Epoch 78/125\n",
            "425/425 [==============================] - 1s 2ms/step - loss: 8.6469 - accuracy: 0.3388 - val_loss: 9.4560 - val_accuracy: 0.2400\n",
            "Epoch 79/125\n",
            "425/425 [==============================] - 1s 2ms/step - loss: 8.6469 - accuracy: 0.3388 - val_loss: 9.4560 - val_accuracy: 0.2400\n",
            "Epoch 80/125\n",
            "425/425 [==============================] - 1s 2ms/step - loss: 8.6469 - accuracy: 0.3388 - val_loss: 9.4560 - val_accuracy: 0.2400\n",
            "Epoch 81/125\n",
            "425/425 [==============================] - 1s 2ms/step - loss: 8.6469 - accuracy: 0.3388 - val_loss: 9.4560 - val_accuracy: 0.2400\n",
            "Epoch 82/125\n",
            "425/425 [==============================] - 1s 2ms/step - loss: 8.6469 - accuracy: 0.3388 - val_loss: 9.4560 - val_accuracy: 0.2400\n",
            "Epoch 83/125\n",
            "425/425 [==============================] - 1s 2ms/step - loss: 8.6469 - accuracy: 0.3388 - val_loss: 9.4560 - val_accuracy: 0.2400\n",
            "Epoch 84/125\n",
            "425/425 [==============================] - 1s 2ms/step - loss: 8.6469 - accuracy: 0.3388 - val_loss: 9.4560 - val_accuracy: 0.2400\n",
            "Epoch 85/125\n",
            "425/425 [==============================] - 1s 2ms/step - loss: 8.6469 - accuracy: 0.3388 - val_loss: 9.4560 - val_accuracy: 0.2400\n",
            "Epoch 86/125\n",
            "425/425 [==============================] - 1s 2ms/step - loss: 8.6469 - accuracy: 0.3388 - val_loss: 9.4560 - val_accuracy: 0.2400\n",
            "Epoch 87/125\n",
            "425/425 [==============================] - 1s 2ms/step - loss: 8.6469 - accuracy: 0.3388 - val_loss: 9.4560 - val_accuracy: 0.2400\n",
            "Epoch 88/125\n",
            "425/425 [==============================] - 1s 2ms/step - loss: 8.6469 - accuracy: 0.3388 - val_loss: 9.4560 - val_accuracy: 0.2400\n",
            "Epoch 89/125\n",
            "425/425 [==============================] - 1s 2ms/step - loss: 8.6469 - accuracy: 0.3388 - val_loss: 9.4560 - val_accuracy: 0.2400\n",
            "Epoch 90/125\n",
            "425/425 [==============================] - 1s 2ms/step - loss: 8.6469 - accuracy: 0.3388 - val_loss: 9.4560 - val_accuracy: 0.2400\n",
            "Epoch 91/125\n",
            "425/425 [==============================] - 1s 2ms/step - loss: 8.6469 - accuracy: 0.3388 - val_loss: 9.4560 - val_accuracy: 0.2400\n",
            "Epoch 92/125\n",
            "425/425 [==============================] - 1s 2ms/step - loss: 8.6469 - accuracy: 0.3388 - val_loss: 9.4560 - val_accuracy: 0.2400\n",
            "Epoch 93/125\n",
            "425/425 [==============================] - 1s 2ms/step - loss: 8.6469 - accuracy: 0.3388 - val_loss: 9.4560 - val_accuracy: 0.2400\n",
            "Epoch 94/125\n",
            "425/425 [==============================] - 1s 2ms/step - loss: 8.6469 - accuracy: 0.3388 - val_loss: 9.4560 - val_accuracy: 0.2400\n",
            "Epoch 95/125\n",
            "425/425 [==============================] - 1s 2ms/step - loss: 8.6469 - accuracy: 0.3388 - val_loss: 9.4560 - val_accuracy: 0.2400\n",
            "Epoch 96/125\n",
            "425/425 [==============================] - 1s 2ms/step - loss: 8.6469 - accuracy: 0.3388 - val_loss: 9.4560 - val_accuracy: 0.2400\n",
            "Epoch 97/125\n",
            "425/425 [==============================] - 1s 2ms/step - loss: 8.6469 - accuracy: 0.3388 - val_loss: 9.4560 - val_accuracy: 0.2400\n",
            "Epoch 98/125\n",
            "425/425 [==============================] - 1s 2ms/step - loss: 8.6469 - accuracy: 0.3388 - val_loss: 9.4560 - val_accuracy: 0.2400\n",
            "Epoch 99/125\n",
            "425/425 [==============================] - 1s 2ms/step - loss: 8.6469 - accuracy: 0.3388 - val_loss: 9.4560 - val_accuracy: 0.2400\n",
            "Epoch 100/125\n",
            "425/425 [==============================] - 1s 2ms/step - loss: 8.6469 - accuracy: 0.3388 - val_loss: 9.4560 - val_accuracy: 0.2400\n",
            "Epoch 101/125\n",
            "425/425 [==============================] - 1s 2ms/step - loss: 8.6469 - accuracy: 0.3388 - val_loss: 9.4560 - val_accuracy: 0.2400\n",
            "Epoch 102/125\n",
            "425/425 [==============================] - 1s 2ms/step - loss: 8.6469 - accuracy: 0.3388 - val_loss: 9.4560 - val_accuracy: 0.2400\n",
            "Epoch 103/125\n",
            "425/425 [==============================] - 1s 2ms/step - loss: 8.6469 - accuracy: 0.3388 - val_loss: 9.4560 - val_accuracy: 0.2400\n",
            "Epoch 104/125\n",
            "425/425 [==============================] - 1s 2ms/step - loss: 8.6469 - accuracy: 0.3388 - val_loss: 9.4560 - val_accuracy: 0.2400\n",
            "Epoch 105/125\n",
            "425/425 [==============================] - 1s 2ms/step - loss: 8.6469 - accuracy: 0.3388 - val_loss: 9.4560 - val_accuracy: 0.2400\n",
            "Epoch 106/125\n",
            "425/425 [==============================] - 1s 2ms/step - loss: 8.6469 - accuracy: 0.3388 - val_loss: 9.4560 - val_accuracy: 0.2400\n",
            "Epoch 107/125\n",
            "425/425 [==============================] - 1s 2ms/step - loss: 8.6469 - accuracy: 0.3388 - val_loss: 9.4560 - val_accuracy: 0.2400\n",
            "Epoch 108/125\n",
            "425/425 [==============================] - 1s 2ms/step - loss: 8.6469 - accuracy: 0.3388 - val_loss: 9.4560 - val_accuracy: 0.2400\n",
            "Epoch 109/125\n",
            "425/425 [==============================] - 1s 2ms/step - loss: 8.6469 - accuracy: 0.3388 - val_loss: 9.4560 - val_accuracy: 0.2400\n",
            "Epoch 110/125\n",
            "425/425 [==============================] - 1s 2ms/step - loss: 8.6469 - accuracy: 0.3388 - val_loss: 9.4560 - val_accuracy: 0.2400\n",
            "Epoch 111/125\n",
            "425/425 [==============================] - 1s 2ms/step - loss: 8.6469 - accuracy: 0.3388 - val_loss: 9.4560 - val_accuracy: 0.2400\n",
            "Epoch 112/125\n",
            "425/425 [==============================] - 1s 2ms/step - loss: 8.6469 - accuracy: 0.3388 - val_loss: 9.4560 - val_accuracy: 0.2400\n",
            "Epoch 113/125\n",
            "425/425 [==============================] - 1s 2ms/step - loss: 8.6469 - accuracy: 0.3388 - val_loss: 9.4560 - val_accuracy: 0.2400\n",
            "Epoch 114/125\n",
            "425/425 [==============================] - 1s 2ms/step - loss: 8.6469 - accuracy: 0.3388 - val_loss: 9.4560 - val_accuracy: 0.2400\n",
            "Epoch 115/125\n",
            "425/425 [==============================] - 1s 2ms/step - loss: 8.6469 - accuracy: 0.3388 - val_loss: 9.4560 - val_accuracy: 0.2400\n",
            "Epoch 116/125\n",
            "425/425 [==============================] - 1s 2ms/step - loss: 8.6469 - accuracy: 0.3388 - val_loss: 9.4560 - val_accuracy: 0.2400\n",
            "Epoch 117/125\n",
            "425/425 [==============================] - 1s 2ms/step - loss: 8.6469 - accuracy: 0.3388 - val_loss: 9.4560 - val_accuracy: 0.2400\n",
            "Epoch 118/125\n",
            "425/425 [==============================] - 1s 2ms/step - loss: 8.6469 - accuracy: 0.3388 - val_loss: 9.4560 - val_accuracy: 0.2400\n",
            "Epoch 119/125\n",
            "425/425 [==============================] - 1s 2ms/step - loss: 8.6469 - accuracy: 0.3388 - val_loss: 9.4560 - val_accuracy: 0.2400\n",
            "Epoch 120/125\n",
            "425/425 [==============================] - 1s 2ms/step - loss: 8.6469 - accuracy: 0.3388 - val_loss: 9.4560 - val_accuracy: 0.2400\n",
            "Epoch 121/125\n",
            "425/425 [==============================] - 1s 2ms/step - loss: 8.6469 - accuracy: 0.3388 - val_loss: 9.4560 - val_accuracy: 0.2400\n",
            "Epoch 122/125\n",
            "425/425 [==============================] - 1s 2ms/step - loss: 8.6469 - accuracy: 0.3388 - val_loss: 9.4560 - val_accuracy: 0.2400\n",
            "Epoch 123/125\n",
            "425/425 [==============================] - 1s 2ms/step - loss: 8.6469 - accuracy: 0.3388 - val_loss: 9.4560 - val_accuracy: 0.2400\n",
            "Epoch 124/125\n",
            "425/425 [==============================] - 1s 2ms/step - loss: 8.6469 - accuracy: 0.3388 - val_loss: 9.4560 - val_accuracy: 0.2400\n",
            "Epoch 125/125\n",
            "425/425 [==============================] - 1s 2ms/step - loss: 8.6469 - accuracy: 0.3388 - val_loss: 9.4560 - val_accuracy: 0.2400\n",
            "16/16 - 0s - loss: 8.6071 - accuracy: 0.3420 - 157ms/epoch - 10ms/step\n"
          ]
        }
      ],
      "source": [
        "#@title\n",
        "### START CODE HERE ### \n",
        "batch_size=1\n",
        "history=fit_model(X_train, y_train, X_test, y_test, batch_size)\n",
        "###### END CODE HERE"
      ]
    },
    {
      "cell_type": "code",
      "execution_count": 187,
      "id": "022e2c92-7a62-49f9-aae2-790c5eae36e4",
      "metadata": {
        "tags": [],
        "id": "022e2c92-7a62-49f9-aae2-790c5eae36e4",
        "colab": {
          "base_uri": "https://localhost:8080/",
          "height": 463
        },
        "outputId": "31855ec8-5d34-47b2-fcce-e6c763e9ca01"
      },
      "outputs": [
        {
          "output_type": "display_data",
          "data": {
            "text/plain": [
              "<Figure size 720x360 with 1 Axes>"
            ],
            "image/svg+xml": "<?xml version=\"1.0\" encoding=\"utf-8\" standalone=\"no\"?>\n<!DOCTYPE svg PUBLIC \"-//W3C//DTD SVG 1.1//EN\"\n  \"http://www.w3.org/Graphics/SVG/1.1/DTD/svg11.dtd\">\n<!-- Created with matplotlib (https://matplotlib.org/) -->\n<svg height=\"331.674375pt\" version=\"1.1\" viewBox=\"0 0 605.803125 331.674375\" width=\"605.803125pt\" xmlns=\"http://www.w3.org/2000/svg\" xmlns:xlink=\"http://www.w3.org/1999/xlink\">\n <defs>\n  <style type=\"text/css\">\n*{stroke-linecap:butt;stroke-linejoin:round;}\n  </style>\n </defs>\n <g id=\"figure_1\">\n  <g id=\"patch_1\">\n   <path d=\"M 0 331.674375 \nL 605.803125 331.674375 \nL 605.803125 0 \nL 0 0 \nz\n\" style=\"fill:none;\"/>\n  </g>\n  <g id=\"axes_1\">\n   <g id=\"patch_2\">\n    <path d=\"M 40.603125 294.118125 \nL 598.603125 294.118125 \nL 598.603125 22.318125 \nL 40.603125 22.318125 \nz\n\" style=\"fill:#ffffff;\"/>\n   </g>\n   <g id=\"matplotlib.axis_1\">\n    <g id=\"xtick_1\">\n     <g id=\"line2d_1\">\n      <defs>\n       <path d=\"M 0 0 \nL 0 3.5 \n\" id=\"mc532b9dcf3\" style=\"stroke:#000000;stroke-width:0.8;\"/>\n      </defs>\n      <g>\n       <use style=\"stroke:#000000;stroke-width:0.8;\" x=\"65.966761\" xlink:href=\"#mc532b9dcf3\" y=\"294.118125\"/>\n      </g>\n     </g>\n     <g id=\"text_1\">\n      <!-- 0 -->\n      <defs>\n       <path d=\"M 31.78125 66.40625 \nQ 24.171875 66.40625 20.328125 58.90625 \nQ 16.5 51.421875 16.5 36.375 \nQ 16.5 21.390625 20.328125 13.890625 \nQ 24.171875 6.390625 31.78125 6.390625 \nQ 39.453125 6.390625 43.28125 13.890625 \nQ 47.125 21.390625 47.125 36.375 \nQ 47.125 51.421875 43.28125 58.90625 \nQ 39.453125 66.40625 31.78125 66.40625 \nz\nM 31.78125 74.21875 \nQ 44.046875 74.21875 50.515625 64.515625 \nQ 56.984375 54.828125 56.984375 36.375 \nQ 56.984375 17.96875 50.515625 8.265625 \nQ 44.046875 -1.421875 31.78125 -1.421875 \nQ 19.53125 -1.421875 13.0625 8.265625 \nQ 6.59375 17.96875 6.59375 36.375 \nQ 6.59375 54.828125 13.0625 64.515625 \nQ 19.53125 74.21875 31.78125 74.21875 \nz\n\" id=\"DejaVuSans-48\"/>\n      </defs>\n      <g transform=\"translate(62.785511 308.716563)scale(0.1 -0.1)\">\n       <use xlink:href=\"#DejaVuSans-48\"/>\n      </g>\n     </g>\n    </g>\n    <g id=\"xtick_2\">\n     <g id=\"line2d_2\">\n      <g>\n       <use style=\"stroke:#000000;stroke-width:0.8;\" x=\"147.784943\" xlink:href=\"#mc532b9dcf3\" y=\"294.118125\"/>\n      </g>\n     </g>\n     <g id=\"text_2\">\n      <!-- 20 -->\n      <defs>\n       <path d=\"M 19.1875 8.296875 \nL 53.609375 8.296875 \nL 53.609375 0 \nL 7.328125 0 \nL 7.328125 8.296875 \nQ 12.9375 14.109375 22.625 23.890625 \nQ 32.328125 33.6875 34.8125 36.53125 \nQ 39.546875 41.84375 41.421875 45.53125 \nQ 43.3125 49.21875 43.3125 52.78125 \nQ 43.3125 58.59375 39.234375 62.25 \nQ 35.15625 65.921875 28.609375 65.921875 \nQ 23.96875 65.921875 18.8125 64.3125 \nQ 13.671875 62.703125 7.8125 59.421875 \nL 7.8125 69.390625 \nQ 13.765625 71.78125 18.9375 73 \nQ 24.125 74.21875 28.421875 74.21875 \nQ 39.75 74.21875 46.484375 68.546875 \nQ 53.21875 62.890625 53.21875 53.421875 \nQ 53.21875 48.921875 51.53125 44.890625 \nQ 49.859375 40.875 45.40625 35.40625 \nQ 44.1875 33.984375 37.640625 27.21875 \nQ 31.109375 20.453125 19.1875 8.296875 \nz\n\" id=\"DejaVuSans-50\"/>\n      </defs>\n      <g transform=\"translate(141.422443 308.716563)scale(0.1 -0.1)\">\n       <use xlink:href=\"#DejaVuSans-50\"/>\n       <use x=\"63.623047\" xlink:href=\"#DejaVuSans-48\"/>\n      </g>\n     </g>\n    </g>\n    <g id=\"xtick_3\">\n     <g id=\"line2d_3\">\n      <g>\n       <use style=\"stroke:#000000;stroke-width:0.8;\" x=\"229.603125\" xlink:href=\"#mc532b9dcf3\" y=\"294.118125\"/>\n      </g>\n     </g>\n     <g id=\"text_3\">\n      <!-- 40 -->\n      <defs>\n       <path d=\"M 37.796875 64.3125 \nL 12.890625 25.390625 \nL 37.796875 25.390625 \nz\nM 35.203125 72.90625 \nL 47.609375 72.90625 \nL 47.609375 25.390625 \nL 58.015625 25.390625 \nL 58.015625 17.1875 \nL 47.609375 17.1875 \nL 47.609375 0 \nL 37.796875 0 \nL 37.796875 17.1875 \nL 4.890625 17.1875 \nL 4.890625 26.703125 \nz\n\" id=\"DejaVuSans-52\"/>\n      </defs>\n      <g transform=\"translate(223.240625 308.716563)scale(0.1 -0.1)\">\n       <use xlink:href=\"#DejaVuSans-52\"/>\n       <use x=\"63.623047\" xlink:href=\"#DejaVuSans-48\"/>\n      </g>\n     </g>\n    </g>\n    <g id=\"xtick_4\">\n     <g id=\"line2d_4\">\n      <g>\n       <use style=\"stroke:#000000;stroke-width:0.8;\" x=\"311.421307\" xlink:href=\"#mc532b9dcf3\" y=\"294.118125\"/>\n      </g>\n     </g>\n     <g id=\"text_4\">\n      <!-- 60 -->\n      <defs>\n       <path d=\"M 33.015625 40.375 \nQ 26.375 40.375 22.484375 35.828125 \nQ 18.609375 31.296875 18.609375 23.390625 \nQ 18.609375 15.53125 22.484375 10.953125 \nQ 26.375 6.390625 33.015625 6.390625 \nQ 39.65625 6.390625 43.53125 10.953125 \nQ 47.40625 15.53125 47.40625 23.390625 \nQ 47.40625 31.296875 43.53125 35.828125 \nQ 39.65625 40.375 33.015625 40.375 \nz\nM 52.59375 71.296875 \nL 52.59375 62.3125 \nQ 48.875 64.0625 45.09375 64.984375 \nQ 41.3125 65.921875 37.59375 65.921875 \nQ 27.828125 65.921875 22.671875 59.328125 \nQ 17.53125 52.734375 16.796875 39.40625 \nQ 19.671875 43.65625 24.015625 45.921875 \nQ 28.375 48.1875 33.59375 48.1875 \nQ 44.578125 48.1875 50.953125 41.515625 \nQ 57.328125 34.859375 57.328125 23.390625 \nQ 57.328125 12.15625 50.6875 5.359375 \nQ 44.046875 -1.421875 33.015625 -1.421875 \nQ 20.359375 -1.421875 13.671875 8.265625 \nQ 6.984375 17.96875 6.984375 36.375 \nQ 6.984375 53.65625 15.1875 63.9375 \nQ 23.390625 74.21875 37.203125 74.21875 \nQ 40.921875 74.21875 44.703125 73.484375 \nQ 48.484375 72.75 52.59375 71.296875 \nz\n\" id=\"DejaVuSans-54\"/>\n      </defs>\n      <g transform=\"translate(305.058807 308.716563)scale(0.1 -0.1)\">\n       <use xlink:href=\"#DejaVuSans-54\"/>\n       <use x=\"63.623047\" xlink:href=\"#DejaVuSans-48\"/>\n      </g>\n     </g>\n    </g>\n    <g id=\"xtick_5\">\n     <g id=\"line2d_5\">\n      <g>\n       <use style=\"stroke:#000000;stroke-width:0.8;\" x=\"393.239489\" xlink:href=\"#mc532b9dcf3\" y=\"294.118125\"/>\n      </g>\n     </g>\n     <g id=\"text_5\">\n      <!-- 80 -->\n      <defs>\n       <path d=\"M 31.78125 34.625 \nQ 24.75 34.625 20.71875 30.859375 \nQ 16.703125 27.09375 16.703125 20.515625 \nQ 16.703125 13.921875 20.71875 10.15625 \nQ 24.75 6.390625 31.78125 6.390625 \nQ 38.8125 6.390625 42.859375 10.171875 \nQ 46.921875 13.96875 46.921875 20.515625 \nQ 46.921875 27.09375 42.890625 30.859375 \nQ 38.875 34.625 31.78125 34.625 \nz\nM 21.921875 38.8125 \nQ 15.578125 40.375 12.03125 44.71875 \nQ 8.5 49.078125 8.5 55.328125 \nQ 8.5 64.0625 14.71875 69.140625 \nQ 20.953125 74.21875 31.78125 74.21875 \nQ 42.671875 74.21875 48.875 69.140625 \nQ 55.078125 64.0625 55.078125 55.328125 \nQ 55.078125 49.078125 51.53125 44.71875 \nQ 48 40.375 41.703125 38.8125 \nQ 48.828125 37.15625 52.796875 32.3125 \nQ 56.78125 27.484375 56.78125 20.515625 \nQ 56.78125 9.90625 50.3125 4.234375 \nQ 43.84375 -1.421875 31.78125 -1.421875 \nQ 19.734375 -1.421875 13.25 4.234375 \nQ 6.78125 9.90625 6.78125 20.515625 \nQ 6.78125 27.484375 10.78125 32.3125 \nQ 14.796875 37.15625 21.921875 38.8125 \nz\nM 18.3125 54.390625 \nQ 18.3125 48.734375 21.84375 45.5625 \nQ 25.390625 42.390625 31.78125 42.390625 \nQ 38.140625 42.390625 41.71875 45.5625 \nQ 45.3125 48.734375 45.3125 54.390625 \nQ 45.3125 60.0625 41.71875 63.234375 \nQ 38.140625 66.40625 31.78125 66.40625 \nQ 25.390625 66.40625 21.84375 63.234375 \nQ 18.3125 60.0625 18.3125 54.390625 \nz\n\" id=\"DejaVuSans-56\"/>\n      </defs>\n      <g transform=\"translate(386.876989 308.716563)scale(0.1 -0.1)\">\n       <use xlink:href=\"#DejaVuSans-56\"/>\n       <use x=\"63.623047\" xlink:href=\"#DejaVuSans-48\"/>\n      </g>\n     </g>\n    </g>\n    <g id=\"xtick_6\">\n     <g id=\"line2d_6\">\n      <g>\n       <use style=\"stroke:#000000;stroke-width:0.8;\" x=\"475.05767\" xlink:href=\"#mc532b9dcf3\" y=\"294.118125\"/>\n      </g>\n     </g>\n     <g id=\"text_6\">\n      <!-- 100 -->\n      <defs>\n       <path d=\"M 12.40625 8.296875 \nL 28.515625 8.296875 \nL 28.515625 63.921875 \nL 10.984375 60.40625 \nL 10.984375 69.390625 \nL 28.421875 72.90625 \nL 38.28125 72.90625 \nL 38.28125 8.296875 \nL 54.390625 8.296875 \nL 54.390625 0 \nL 12.40625 0 \nz\n\" id=\"DejaVuSans-49\"/>\n      </defs>\n      <g transform=\"translate(465.51392 308.716563)scale(0.1 -0.1)\">\n       <use xlink:href=\"#DejaVuSans-49\"/>\n       <use x=\"63.623047\" xlink:href=\"#DejaVuSans-48\"/>\n       <use x=\"127.246094\" xlink:href=\"#DejaVuSans-48\"/>\n      </g>\n     </g>\n    </g>\n    <g id=\"xtick_7\">\n     <g id=\"line2d_7\">\n      <g>\n       <use style=\"stroke:#000000;stroke-width:0.8;\" x=\"556.875852\" xlink:href=\"#mc532b9dcf3\" y=\"294.118125\"/>\n      </g>\n     </g>\n     <g id=\"text_7\">\n      <!-- 120 -->\n      <g transform=\"translate(547.332102 308.716563)scale(0.1 -0.1)\">\n       <use xlink:href=\"#DejaVuSans-49\"/>\n       <use x=\"63.623047\" xlink:href=\"#DejaVuSans-50\"/>\n       <use x=\"127.246094\" xlink:href=\"#DejaVuSans-48\"/>\n      </g>\n     </g>\n    </g>\n    <g id=\"text_8\">\n     <!-- Epoch -->\n     <defs>\n      <path d=\"M 9.8125 72.90625 \nL 55.90625 72.90625 \nL 55.90625 64.59375 \nL 19.671875 64.59375 \nL 19.671875 43.015625 \nL 54.390625 43.015625 \nL 54.390625 34.71875 \nL 19.671875 34.71875 \nL 19.671875 8.296875 \nL 56.78125 8.296875 \nL 56.78125 0 \nL 9.8125 0 \nz\n\" id=\"DejaVuSans-69\"/>\n      <path d=\"M 18.109375 8.203125 \nL 18.109375 -20.796875 \nL 9.078125 -20.796875 \nL 9.078125 54.6875 \nL 18.109375 54.6875 \nL 18.109375 46.390625 \nQ 20.953125 51.265625 25.265625 53.625 \nQ 29.59375 56 35.59375 56 \nQ 45.5625 56 51.78125 48.09375 \nQ 58.015625 40.1875 58.015625 27.296875 \nQ 58.015625 14.40625 51.78125 6.484375 \nQ 45.5625 -1.421875 35.59375 -1.421875 \nQ 29.59375 -1.421875 25.265625 0.953125 \nQ 20.953125 3.328125 18.109375 8.203125 \nz\nM 48.6875 27.296875 \nQ 48.6875 37.203125 44.609375 42.84375 \nQ 40.53125 48.484375 33.40625 48.484375 \nQ 26.265625 48.484375 22.1875 42.84375 \nQ 18.109375 37.203125 18.109375 27.296875 \nQ 18.109375 17.390625 22.1875 11.75 \nQ 26.265625 6.109375 33.40625 6.109375 \nQ 40.53125 6.109375 44.609375 11.75 \nQ 48.6875 17.390625 48.6875 27.296875 \nz\n\" id=\"DejaVuSans-112\"/>\n      <path d=\"M 30.609375 48.390625 \nQ 23.390625 48.390625 19.1875 42.75 \nQ 14.984375 37.109375 14.984375 27.296875 \nQ 14.984375 17.484375 19.15625 11.84375 \nQ 23.34375 6.203125 30.609375 6.203125 \nQ 37.796875 6.203125 41.984375 11.859375 \nQ 46.1875 17.53125 46.1875 27.296875 \nQ 46.1875 37.015625 41.984375 42.703125 \nQ 37.796875 48.390625 30.609375 48.390625 \nz\nM 30.609375 56 \nQ 42.328125 56 49.015625 48.375 \nQ 55.71875 40.765625 55.71875 27.296875 \nQ 55.71875 13.875 49.015625 6.21875 \nQ 42.328125 -1.421875 30.609375 -1.421875 \nQ 18.84375 -1.421875 12.171875 6.21875 \nQ 5.515625 13.875 5.515625 27.296875 \nQ 5.515625 40.765625 12.171875 48.375 \nQ 18.84375 56 30.609375 56 \nz\n\" id=\"DejaVuSans-111\"/>\n      <path d=\"M 48.78125 52.59375 \nL 48.78125 44.1875 \nQ 44.96875 46.296875 41.140625 47.34375 \nQ 37.3125 48.390625 33.40625 48.390625 \nQ 24.65625 48.390625 19.8125 42.84375 \nQ 14.984375 37.3125 14.984375 27.296875 \nQ 14.984375 17.28125 19.8125 11.734375 \nQ 24.65625 6.203125 33.40625 6.203125 \nQ 37.3125 6.203125 41.140625 7.25 \nQ 44.96875 8.296875 48.78125 10.40625 \nL 48.78125 2.09375 \nQ 45.015625 0.34375 40.984375 -0.53125 \nQ 36.96875 -1.421875 32.421875 -1.421875 \nQ 20.0625 -1.421875 12.78125 6.34375 \nQ 5.515625 14.109375 5.515625 27.296875 \nQ 5.515625 40.671875 12.859375 48.328125 \nQ 20.21875 56 33.015625 56 \nQ 37.15625 56 41.109375 55.140625 \nQ 45.0625 54.296875 48.78125 52.59375 \nz\n\" id=\"DejaVuSans-99\"/>\n      <path d=\"M 54.890625 33.015625 \nL 54.890625 0 \nL 45.90625 0 \nL 45.90625 32.71875 \nQ 45.90625 40.484375 42.875 44.328125 \nQ 39.84375 48.1875 33.796875 48.1875 \nQ 26.515625 48.1875 22.3125 43.546875 \nQ 18.109375 38.921875 18.109375 30.90625 \nL 18.109375 0 \nL 9.078125 0 \nL 9.078125 75.984375 \nL 18.109375 75.984375 \nL 18.109375 46.1875 \nQ 21.34375 51.125 25.703125 53.5625 \nQ 30.078125 56 35.796875 56 \nQ 45.21875 56 50.046875 50.171875 \nQ 54.890625 44.34375 54.890625 33.015625 \nz\n\" id=\"DejaVuSans-104\"/>\n     </defs>\n     <g transform=\"translate(304.292187 322.394687)scale(0.1 -0.1)\">\n      <use xlink:href=\"#DejaVuSans-69\"/>\n      <use x=\"63.183594\" xlink:href=\"#DejaVuSans-112\"/>\n      <use x=\"126.660156\" xlink:href=\"#DejaVuSans-111\"/>\n      <use x=\"187.841797\" xlink:href=\"#DejaVuSans-99\"/>\n      <use x=\"242.822266\" xlink:href=\"#DejaVuSans-104\"/>\n     </g>\n    </g>\n   </g>\n   <g id=\"matplotlib.axis_2\">\n    <g id=\"ytick_1\">\n     <g id=\"line2d_8\">\n      <defs>\n       <path d=\"M 0 0 \nL -3.5 0 \n\" id=\"m815c7c449f\" style=\"stroke:#000000;stroke-width:0.8;\"/>\n      </defs>\n      <g>\n       <use style=\"stroke:#000000;stroke-width:0.8;\" x=\"40.603125\" xlink:href=\"#m815c7c449f\" y=\"250.238443\"/>\n      </g>\n     </g>\n     <g id=\"text_9\">\n      <!-- 2 -->\n      <g transform=\"translate(27.240625 254.037661)scale(0.1 -0.1)\">\n       <use xlink:href=\"#DejaVuSans-50\"/>\n      </g>\n     </g>\n    </g>\n    <g id=\"ytick_2\">\n     <g id=\"line2d_9\">\n      <g>\n       <use style=\"stroke:#000000;stroke-width:0.8;\" x=\"40.603125\" xlink:href=\"#m815c7c449f\" y=\"201.511795\"/>\n      </g>\n     </g>\n     <g id=\"text_10\">\n      <!-- 4 -->\n      <g transform=\"translate(27.240625 205.311014)scale(0.1 -0.1)\">\n       <use xlink:href=\"#DejaVuSans-52\"/>\n      </g>\n     </g>\n    </g>\n    <g id=\"ytick_3\">\n     <g id=\"line2d_10\">\n      <g>\n       <use style=\"stroke:#000000;stroke-width:0.8;\" x=\"40.603125\" xlink:href=\"#m815c7c449f\" y=\"152.785148\"/>\n      </g>\n     </g>\n     <g id=\"text_11\">\n      <!-- 6 -->\n      <g transform=\"translate(27.240625 156.584366)scale(0.1 -0.1)\">\n       <use xlink:href=\"#DejaVuSans-54\"/>\n      </g>\n     </g>\n    </g>\n    <g id=\"ytick_4\">\n     <g id=\"line2d_11\">\n      <g>\n       <use style=\"stroke:#000000;stroke-width:0.8;\" x=\"40.603125\" xlink:href=\"#m815c7c449f\" y=\"104.0585\"/>\n      </g>\n     </g>\n     <g id=\"text_12\">\n      <!-- 8 -->\n      <g transform=\"translate(27.240625 107.857719)scale(0.1 -0.1)\">\n       <use xlink:href=\"#DejaVuSans-56\"/>\n      </g>\n     </g>\n    </g>\n    <g id=\"ytick_5\">\n     <g id=\"line2d_12\">\n      <g>\n       <use style=\"stroke:#000000;stroke-width:0.8;\" x=\"40.603125\" xlink:href=\"#m815c7c449f\" y=\"55.331852\"/>\n      </g>\n     </g>\n     <g id=\"text_13\">\n      <!-- 10 -->\n      <g transform=\"translate(20.878125 59.131071)scale(0.1 -0.1)\">\n       <use xlink:href=\"#DejaVuSans-49\"/>\n       <use x=\"63.623047\" xlink:href=\"#DejaVuSans-48\"/>\n      </g>\n     </g>\n    </g>\n    <g id=\"text_14\">\n     <!-- Loss -->\n     <defs>\n      <path d=\"M 9.8125 72.90625 \nL 19.671875 72.90625 \nL 19.671875 8.296875 \nL 55.171875 8.296875 \nL 55.171875 0 \nL 9.8125 0 \nz\n\" id=\"DejaVuSans-76\"/>\n      <path d=\"M 44.28125 53.078125 \nL 44.28125 44.578125 \nQ 40.484375 46.53125 36.375 47.5 \nQ 32.28125 48.484375 27.875 48.484375 \nQ 21.1875 48.484375 17.84375 46.4375 \nQ 14.5 44.390625 14.5 40.28125 \nQ 14.5 37.15625 16.890625 35.375 \nQ 19.28125 33.59375 26.515625 31.984375 \nL 29.59375 31.296875 \nQ 39.15625 29.25 43.1875 25.515625 \nQ 47.21875 21.78125 47.21875 15.09375 \nQ 47.21875 7.46875 41.1875 3.015625 \nQ 35.15625 -1.421875 24.609375 -1.421875 \nQ 20.21875 -1.421875 15.453125 -0.5625 \nQ 10.6875 0.296875 5.421875 2 \nL 5.421875 11.28125 \nQ 10.40625 8.6875 15.234375 7.390625 \nQ 20.0625 6.109375 24.8125 6.109375 \nQ 31.15625 6.109375 34.5625 8.28125 \nQ 37.984375 10.453125 37.984375 14.40625 \nQ 37.984375 18.0625 35.515625 20.015625 \nQ 33.0625 21.96875 24.703125 23.78125 \nL 21.578125 24.515625 \nQ 13.234375 26.265625 9.515625 29.90625 \nQ 5.8125 33.546875 5.8125 39.890625 \nQ 5.8125 47.609375 11.28125 51.796875 \nQ 16.75 56 26.8125 56 \nQ 31.78125 56 36.171875 55.265625 \nQ 40.578125 54.546875 44.28125 53.078125 \nz\n\" id=\"DejaVuSans-115\"/>\n     </defs>\n     <g transform=\"translate(14.798437 169.185313)rotate(-90)scale(0.1 -0.1)\">\n      <use xlink:href=\"#DejaVuSans-76\"/>\n      <use x=\"53.962891\" xlink:href=\"#DejaVuSans-111\"/>\n      <use x=\"115.144531\" xlink:href=\"#DejaVuSans-115\"/>\n      <use x=\"167.244141\" xlink:href=\"#DejaVuSans-115\"/>\n     </g>\n    </g>\n   </g>\n   <g id=\"line2d_13\">\n    <path clip-path=\"url(#pe24e23e6eb)\" d=\"M 65.966761 249.063407 \nL 70.05767 271.69415 \nL 74.14858 273.923808 \nL 78.239489 275.642593 \nL 82.330398 277.484073 \nL 86.421307 280.169232 \nL 90.512216 279.000757 \nL 94.603125 177.009145 \nL 98.694034 56.301157 \nL 102.784943 85.218338 \nL 106.875852 100.857645 \nL 110.966761 88.296003 \nL 115.05767 88.296351 \nL 119.14858 88.296723 \nL 123.239489 88.297095 \nL 127.330398 88.297443 \nL 131.421307 88.297815 \nL 135.512216 88.298024 \nL 139.603125 88.298024 \nL 143.694034 88.298024 \nL 147.784943 88.298024 \nL 151.875852 88.298024 \nL 155.966761 88.298024 \nL 160.05767 88.298024 \nL 164.14858 88.298024 \nL 168.239489 88.298024 \nL 172.330398 88.298024 \nL 176.421307 88.298024 \nL 180.512216 88.298024 \nL 184.603125 88.298024 \nL 188.694034 88.298024 \nL 192.784943 88.298024 \nL 196.875852 88.298024 \nL 200.966761 88.298024 \nL 205.05767 88.298024 \nL 209.14858 88.298024 \nL 213.239489 88.298024 \nL 217.330398 88.298024 \nL 221.421307 88.298024 \nL 225.512216 88.298024 \nL 229.603125 88.298024 \nL 233.694034 88.298024 \nL 237.784943 88.298024 \nL 241.875852 88.298024 \nL 245.966761 88.298024 \nL 250.05767 88.298024 \nL 254.14858 88.298024 \nL 258.239489 88.298024 \nL 262.330398 88.298024 \nL 266.421307 88.298024 \nL 270.512216 88.298024 \nL 274.603125 88.298024 \nL 278.694034 88.298024 \nL 282.784943 88.298024 \nL 286.875852 88.298024 \nL 290.966761 88.298024 \nL 295.05767 88.298024 \nL 299.14858 88.298024 \nL 303.239489 88.298024 \nL 307.330398 88.298024 \nL 311.421307 88.298024 \nL 315.512216 88.298024 \nL 319.603125 88.298024 \nL 323.694034 88.298024 \nL 327.784943 88.298024 \nL 331.875852 88.298024 \nL 335.966761 88.298024 \nL 340.05767 88.298024 \nL 344.14858 88.298024 \nL 348.239489 88.298024 \nL 352.330398 88.298024 \nL 356.421307 88.298024 \nL 360.512216 88.298024 \nL 364.603125 88.298024 \nL 368.694034 88.298024 \nL 372.784943 88.298024 \nL 376.875852 88.298024 \nL 380.966761 88.298024 \nL 385.05767 88.298024 \nL 389.14858 88.298024 \nL 393.239489 88.298024 \nL 397.330398 88.298024 \nL 401.421307 88.298024 \nL 405.512216 88.298024 \nL 409.603125 88.298024 \nL 413.694034 88.298024 \nL 417.784943 88.298024 \nL 421.875852 88.298024 \nL 425.966761 88.298024 \nL 430.05767 88.298024 \nL 434.14858 88.298024 \nL 438.239489 88.298024 \nL 442.330398 88.298024 \nL 446.421307 88.298024 \nL 450.512216 88.298024 \nL 454.603125 88.298024 \nL 458.694034 88.298024 \nL 462.784943 88.298024 \nL 466.875852 88.298024 \nL 470.966761 88.298024 \nL 475.05767 88.298024 \nL 479.14858 88.298024 \nL 483.239489 88.298024 \nL 487.330398 88.298024 \nL 491.421307 88.298024 \nL 495.512216 88.298024 \nL 499.603125 88.298024 \nL 503.694034 88.298024 \nL 507.784943 88.298024 \nL 511.875852 88.298024 \nL 515.966761 88.298024 \nL 520.05767 88.298024 \nL 524.14858 88.298024 \nL 528.239489 88.298024 \nL 532.330398 88.298024 \nL 536.421307 88.298024 \nL 540.512216 88.298024 \nL 544.603125 88.298024 \nL 548.694034 88.298024 \nL 552.784943 88.298024 \nL 556.875852 88.298024 \nL 560.966761 88.298024 \nL 565.05767 88.298024 \nL 569.14858 88.298024 \nL 573.239489 88.298024 \n\" style=\"fill:none;stroke:#1f77b4;stroke-linecap:square;stroke-width:1.5;\"/>\n   </g>\n   <g id=\"line2d_14\">\n    <path clip-path=\"url(#pe24e23e6eb)\" d=\"M 65.966761 272.992202 \nL 70.05767 274.789352 \nL 74.14858 276.058344 \nL 78.239489 277.305459 \nL 82.330398 278.929057 \nL 86.421307 281.76358 \nL 90.512216 280.64281 \nL 94.603125 42.171895 \nL 98.694034 34.67267 \nL 102.784943 84.185858 \nL 106.875852 68.586654 \nL 110.966761 68.586654 \nL 115.05767 68.586654 \nL 119.14858 68.586654 \nL 123.239489 68.586654 \nL 127.330398 68.586654 \nL 131.421307 68.586654 \nL 135.512216 68.586654 \nL 139.603125 68.586654 \nL 143.694034 68.586654 \nL 147.784943 68.586654 \nL 151.875852 68.586654 \nL 155.966761 68.586654 \nL 160.05767 68.586654 \nL 164.14858 68.586654 \nL 168.239489 68.586654 \nL 172.330398 68.586654 \nL 176.421307 68.586654 \nL 180.512216 68.586654 \nL 184.603125 68.586654 \nL 188.694034 68.586654 \nL 192.784943 68.586654 \nL 196.875852 68.586654 \nL 200.966761 68.586654 \nL 205.05767 68.586654 \nL 209.14858 68.586654 \nL 213.239489 68.586654 \nL 217.330398 68.586654 \nL 221.421307 68.586654 \nL 225.512216 68.586654 \nL 229.603125 68.586654 \nL 233.694034 68.586654 \nL 237.784943 68.586654 \nL 241.875852 68.586654 \nL 245.966761 68.586654 \nL 250.05767 68.586654 \nL 254.14858 68.586654 \nL 258.239489 68.586654 \nL 262.330398 68.586654 \nL 266.421307 68.586654 \nL 270.512216 68.586654 \nL 274.603125 68.586654 \nL 278.694034 68.586654 \nL 282.784943 68.586654 \nL 286.875852 68.586654 \nL 290.966761 68.586654 \nL 295.05767 68.586654 \nL 299.14858 68.586654 \nL 303.239489 68.586654 \nL 307.330398 68.586654 \nL 311.421307 68.586654 \nL 315.512216 68.586654 \nL 319.603125 68.586654 \nL 323.694034 68.586654 \nL 327.784943 68.586654 \nL 331.875852 68.586654 \nL 335.966761 68.586654 \nL 340.05767 68.586654 \nL 344.14858 68.586654 \nL 348.239489 68.586654 \nL 352.330398 68.586654 \nL 356.421307 68.586654 \nL 360.512216 68.586654 \nL 364.603125 68.586654 \nL 368.694034 68.586654 \nL 372.784943 68.586654 \nL 376.875852 68.586654 \nL 380.966761 68.586654 \nL 385.05767 68.586654 \nL 389.14858 68.586654 \nL 393.239489 68.586654 \nL 397.330398 68.586654 \nL 401.421307 68.586654 \nL 405.512216 68.586654 \nL 409.603125 68.586654 \nL 413.694034 68.586654 \nL 417.784943 68.586654 \nL 421.875852 68.586654 \nL 425.966761 68.586654 \nL 430.05767 68.586654 \nL 434.14858 68.586654 \nL 438.239489 68.586654 \nL 442.330398 68.586654 \nL 446.421307 68.586654 \nL 450.512216 68.586654 \nL 454.603125 68.586654 \nL 458.694034 68.586654 \nL 462.784943 68.586654 \nL 466.875852 68.586654 \nL 470.966761 68.586654 \nL 475.05767 68.586654 \nL 479.14858 68.586654 \nL 483.239489 68.586654 \nL 487.330398 68.586654 \nL 491.421307 68.586654 \nL 495.512216 68.586654 \nL 499.603125 68.586654 \nL 503.694034 68.586654 \nL 507.784943 68.586654 \nL 511.875852 68.586654 \nL 515.966761 68.586654 \nL 520.05767 68.586654 \nL 524.14858 68.586654 \nL 528.239489 68.586654 \nL 532.330398 68.586654 \nL 536.421307 68.586654 \nL 540.512216 68.586654 \nL 544.603125 68.586654 \nL 548.694034 68.586654 \nL 552.784943 68.586654 \nL 556.875852 68.586654 \nL 560.966761 68.586654 \nL 565.05767 68.586654 \nL 569.14858 68.586654 \nL 573.239489 68.586654 \n\" style=\"fill:none;stroke:#ff7f0e;stroke-linecap:square;stroke-width:1.5;\"/>\n   </g>\n   <g id=\"patch_3\">\n    <path d=\"M 40.603125 294.118125 \nL 40.603125 22.318125 \n\" style=\"fill:none;stroke:#000000;stroke-linecap:square;stroke-linejoin:miter;stroke-width:0.8;\"/>\n   </g>\n   <g id=\"patch_4\">\n    <path d=\"M 598.603125 294.118125 \nL 598.603125 22.318125 \n\" style=\"fill:none;stroke:#000000;stroke-linecap:square;stroke-linejoin:miter;stroke-width:0.8;\"/>\n   </g>\n   <g id=\"patch_5\">\n    <path d=\"M 40.603125 294.118125 \nL 598.603125 294.118125 \n\" style=\"fill:none;stroke:#000000;stroke-linecap:square;stroke-linejoin:miter;stroke-width:0.8;\"/>\n   </g>\n   <g id=\"patch_6\">\n    <path d=\"M 40.603125 22.318125 \nL 598.603125 22.318125 \n\" style=\"fill:none;stroke:#000000;stroke-linecap:square;stroke-linejoin:miter;stroke-width:0.8;\"/>\n   </g>\n   <g id=\"text_15\">\n    <!-- Loss vs. epochs, batch=1 -->\n    <defs>\n     <path id=\"DejaVuSans-32\"/>\n     <path d=\"M 2.984375 54.6875 \nL 12.5 54.6875 \nL 29.59375 8.796875 \nL 46.6875 54.6875 \nL 56.203125 54.6875 \nL 35.6875 0 \nL 23.484375 0 \nz\n\" id=\"DejaVuSans-118\"/>\n     <path d=\"M 10.6875 12.40625 \nL 21 12.40625 \nL 21 0 \nL 10.6875 0 \nz\n\" id=\"DejaVuSans-46\"/>\n     <path d=\"M 56.203125 29.59375 \nL 56.203125 25.203125 \nL 14.890625 25.203125 \nQ 15.484375 15.921875 20.484375 11.0625 \nQ 25.484375 6.203125 34.421875 6.203125 \nQ 39.59375 6.203125 44.453125 7.46875 \nQ 49.3125 8.734375 54.109375 11.28125 \nL 54.109375 2.78125 \nQ 49.265625 0.734375 44.1875 -0.34375 \nQ 39.109375 -1.421875 33.890625 -1.421875 \nQ 20.796875 -1.421875 13.15625 6.1875 \nQ 5.515625 13.8125 5.515625 26.8125 \nQ 5.515625 40.234375 12.765625 48.109375 \nQ 20.015625 56 32.328125 56 \nQ 43.359375 56 49.78125 48.890625 \nQ 56.203125 41.796875 56.203125 29.59375 \nz\nM 47.21875 32.234375 \nQ 47.125 39.59375 43.09375 43.984375 \nQ 39.0625 48.390625 32.421875 48.390625 \nQ 24.90625 48.390625 20.390625 44.140625 \nQ 15.875 39.890625 15.1875 32.171875 \nz\n\" id=\"DejaVuSans-101\"/>\n     <path d=\"M 11.71875 12.40625 \nL 22.015625 12.40625 \nL 22.015625 4 \nL 14.015625 -11.625 \nL 7.71875 -11.625 \nL 11.71875 4 \nz\n\" id=\"DejaVuSans-44\"/>\n     <path d=\"M 48.6875 27.296875 \nQ 48.6875 37.203125 44.609375 42.84375 \nQ 40.53125 48.484375 33.40625 48.484375 \nQ 26.265625 48.484375 22.1875 42.84375 \nQ 18.109375 37.203125 18.109375 27.296875 \nQ 18.109375 17.390625 22.1875 11.75 \nQ 26.265625 6.109375 33.40625 6.109375 \nQ 40.53125 6.109375 44.609375 11.75 \nQ 48.6875 17.390625 48.6875 27.296875 \nz\nM 18.109375 46.390625 \nQ 20.953125 51.265625 25.265625 53.625 \nQ 29.59375 56 35.59375 56 \nQ 45.5625 56 51.78125 48.09375 \nQ 58.015625 40.1875 58.015625 27.296875 \nQ 58.015625 14.40625 51.78125 6.484375 \nQ 45.5625 -1.421875 35.59375 -1.421875 \nQ 29.59375 -1.421875 25.265625 0.953125 \nQ 20.953125 3.328125 18.109375 8.203125 \nL 18.109375 0 \nL 9.078125 0 \nL 9.078125 75.984375 \nL 18.109375 75.984375 \nz\n\" id=\"DejaVuSans-98\"/>\n     <path d=\"M 34.28125 27.484375 \nQ 23.390625 27.484375 19.1875 25 \nQ 14.984375 22.515625 14.984375 16.5 \nQ 14.984375 11.71875 18.140625 8.90625 \nQ 21.296875 6.109375 26.703125 6.109375 \nQ 34.1875 6.109375 38.703125 11.40625 \nQ 43.21875 16.703125 43.21875 25.484375 \nL 43.21875 27.484375 \nz\nM 52.203125 31.203125 \nL 52.203125 0 \nL 43.21875 0 \nL 43.21875 8.296875 \nQ 40.140625 3.328125 35.546875 0.953125 \nQ 30.953125 -1.421875 24.3125 -1.421875 \nQ 15.921875 -1.421875 10.953125 3.296875 \nQ 6 8.015625 6 15.921875 \nQ 6 25.140625 12.171875 29.828125 \nQ 18.359375 34.515625 30.609375 34.515625 \nL 43.21875 34.515625 \nL 43.21875 35.40625 \nQ 43.21875 41.609375 39.140625 45 \nQ 35.0625 48.390625 27.6875 48.390625 \nQ 23 48.390625 18.546875 47.265625 \nQ 14.109375 46.140625 10.015625 43.890625 \nL 10.015625 52.203125 \nQ 14.9375 54.109375 19.578125 55.046875 \nQ 24.21875 56 28.609375 56 \nQ 40.484375 56 46.34375 49.84375 \nQ 52.203125 43.703125 52.203125 31.203125 \nz\n\" id=\"DejaVuSans-97\"/>\n     <path d=\"M 18.3125 70.21875 \nL 18.3125 54.6875 \nL 36.8125 54.6875 \nL 36.8125 47.703125 \nL 18.3125 47.703125 \nL 18.3125 18.015625 \nQ 18.3125 11.328125 20.140625 9.421875 \nQ 21.96875 7.515625 27.59375 7.515625 \nL 36.8125 7.515625 \nL 36.8125 0 \nL 27.59375 0 \nQ 17.1875 0 13.234375 3.875 \nQ 9.28125 7.765625 9.28125 18.015625 \nL 9.28125 47.703125 \nL 2.6875 47.703125 \nL 2.6875 54.6875 \nL 9.28125 54.6875 \nL 9.28125 70.21875 \nz\n\" id=\"DejaVuSans-116\"/>\n     <path d=\"M 10.59375 45.40625 \nL 73.1875 45.40625 \nL 73.1875 37.203125 \nL 10.59375 37.203125 \nz\nM 10.59375 25.484375 \nL 73.1875 25.484375 \nL 73.1875 17.1875 \nL 10.59375 17.1875 \nz\n\" id=\"DejaVuSans-61\"/>\n    </defs>\n    <g transform=\"translate(243.046875 16.318125)scale(0.12 -0.12)\">\n     <use xlink:href=\"#DejaVuSans-76\"/>\n     <use x=\"53.962891\" xlink:href=\"#DejaVuSans-111\"/>\n     <use x=\"115.144531\" xlink:href=\"#DejaVuSans-115\"/>\n     <use x=\"167.244141\" xlink:href=\"#DejaVuSans-115\"/>\n     <use x=\"219.34375\" xlink:href=\"#DejaVuSans-32\"/>\n     <use x=\"251.130859\" xlink:href=\"#DejaVuSans-118\"/>\n     <use x=\"310.310547\" xlink:href=\"#DejaVuSans-115\"/>\n     <use x=\"362.410156\" xlink:href=\"#DejaVuSans-46\"/>\n     <use x=\"394.197266\" xlink:href=\"#DejaVuSans-32\"/>\n     <use x=\"425.984375\" xlink:href=\"#DejaVuSans-101\"/>\n     <use x=\"487.507812\" xlink:href=\"#DejaVuSans-112\"/>\n     <use x=\"550.984375\" xlink:href=\"#DejaVuSans-111\"/>\n     <use x=\"612.166016\" xlink:href=\"#DejaVuSans-99\"/>\n     <use x=\"667.146484\" xlink:href=\"#DejaVuSans-104\"/>\n     <use x=\"730.525391\" xlink:href=\"#DejaVuSans-115\"/>\n     <use x=\"782.625\" xlink:href=\"#DejaVuSans-44\"/>\n     <use x=\"814.412109\" xlink:href=\"#DejaVuSans-32\"/>\n     <use x=\"846.199219\" xlink:href=\"#DejaVuSans-98\"/>\n     <use x=\"909.675781\" xlink:href=\"#DejaVuSans-97\"/>\n     <use x=\"970.955078\" xlink:href=\"#DejaVuSans-116\"/>\n     <use x=\"1010.164062\" xlink:href=\"#DejaVuSans-99\"/>\n     <use x=\"1065.144531\" xlink:href=\"#DejaVuSans-104\"/>\n     <use x=\"1128.523438\" xlink:href=\"#DejaVuSans-61\"/>\n     <use x=\"1212.3125\" xlink:href=\"#DejaVuSans-49\"/>\n    </g>\n   </g>\n   <g id=\"legend_1\">\n    <g id=\"patch_7\">\n     <path d=\"M 510.221875 59.674375 \nL 591.603125 59.674375 \nQ 593.603125 59.674375 593.603125 57.674375 \nL 593.603125 29.318125 \nQ 593.603125 27.318125 591.603125 27.318125 \nL 510.221875 27.318125 \nQ 508.221875 27.318125 508.221875 29.318125 \nL 508.221875 57.674375 \nQ 508.221875 59.674375 510.221875 59.674375 \nz\n\" style=\"fill:#ffffff;opacity:0.8;stroke:#cccccc;stroke-linejoin:miter;\"/>\n    </g>\n    <g id=\"line2d_15\">\n     <path d=\"M 512.221875 35.416562 \nL 532.221875 35.416562 \n\" style=\"fill:none;stroke:#1f77b4;stroke-linecap:square;stroke-width:1.5;\"/>\n    </g>\n    <g id=\"line2d_16\"/>\n    <g id=\"text_16\">\n     <!-- Training -->\n     <defs>\n      <path d=\"M -0.296875 72.90625 \nL 61.375 72.90625 \nL 61.375 64.59375 \nL 35.5 64.59375 \nL 35.5 0 \nL 25.59375 0 \nL 25.59375 64.59375 \nL -0.296875 64.59375 \nz\n\" id=\"DejaVuSans-84\"/>\n      <path d=\"M 41.109375 46.296875 \nQ 39.59375 47.171875 37.8125 47.578125 \nQ 36.03125 48 33.890625 48 \nQ 26.265625 48 22.1875 43.046875 \nQ 18.109375 38.09375 18.109375 28.8125 \nL 18.109375 0 \nL 9.078125 0 \nL 9.078125 54.6875 \nL 18.109375 54.6875 \nL 18.109375 46.1875 \nQ 20.953125 51.171875 25.484375 53.578125 \nQ 30.03125 56 36.53125 56 \nQ 37.453125 56 38.578125 55.875 \nQ 39.703125 55.765625 41.0625 55.515625 \nz\n\" id=\"DejaVuSans-114\"/>\n      <path d=\"M 9.421875 54.6875 \nL 18.40625 54.6875 \nL 18.40625 0 \nL 9.421875 0 \nz\nM 9.421875 75.984375 \nL 18.40625 75.984375 \nL 18.40625 64.59375 \nL 9.421875 64.59375 \nz\n\" id=\"DejaVuSans-105\"/>\n      <path d=\"M 54.890625 33.015625 \nL 54.890625 0 \nL 45.90625 0 \nL 45.90625 32.71875 \nQ 45.90625 40.484375 42.875 44.328125 \nQ 39.84375 48.1875 33.796875 48.1875 \nQ 26.515625 48.1875 22.3125 43.546875 \nQ 18.109375 38.921875 18.109375 30.90625 \nL 18.109375 0 \nL 9.078125 0 \nL 9.078125 54.6875 \nL 18.109375 54.6875 \nL 18.109375 46.1875 \nQ 21.34375 51.125 25.703125 53.5625 \nQ 30.078125 56 35.796875 56 \nQ 45.21875 56 50.046875 50.171875 \nQ 54.890625 44.34375 54.890625 33.015625 \nz\n\" id=\"DejaVuSans-110\"/>\n      <path d=\"M 45.40625 27.984375 \nQ 45.40625 37.75 41.375 43.109375 \nQ 37.359375 48.484375 30.078125 48.484375 \nQ 22.859375 48.484375 18.828125 43.109375 \nQ 14.796875 37.75 14.796875 27.984375 \nQ 14.796875 18.265625 18.828125 12.890625 \nQ 22.859375 7.515625 30.078125 7.515625 \nQ 37.359375 7.515625 41.375 12.890625 \nQ 45.40625 18.265625 45.40625 27.984375 \nz\nM 54.390625 6.78125 \nQ 54.390625 -7.171875 48.1875 -13.984375 \nQ 42 -20.796875 29.203125 -20.796875 \nQ 24.46875 -20.796875 20.265625 -20.09375 \nQ 16.0625 -19.390625 12.109375 -17.921875 \nL 12.109375 -9.1875 \nQ 16.0625 -11.328125 19.921875 -12.34375 \nQ 23.78125 -13.375 27.78125 -13.375 \nQ 36.625 -13.375 41.015625 -8.765625 \nQ 45.40625 -4.15625 45.40625 5.171875 \nL 45.40625 9.625 \nQ 42.625 4.78125 38.28125 2.390625 \nQ 33.9375 0 27.875 0 \nQ 17.828125 0 11.671875 7.65625 \nQ 5.515625 15.328125 5.515625 27.984375 \nQ 5.515625 40.671875 11.671875 48.328125 \nQ 17.828125 56 27.875 56 \nQ 33.9375 56 38.28125 53.609375 \nQ 42.625 51.21875 45.40625 46.390625 \nL 45.40625 54.6875 \nL 54.390625 54.6875 \nz\n\" id=\"DejaVuSans-103\"/>\n     </defs>\n     <g transform=\"translate(540.221875 38.916562)scale(0.1 -0.1)\">\n      <use xlink:href=\"#DejaVuSans-84\"/>\n      <use x=\"46.333984\" xlink:href=\"#DejaVuSans-114\"/>\n      <use x=\"87.447266\" xlink:href=\"#DejaVuSans-97\"/>\n      <use x=\"148.726562\" xlink:href=\"#DejaVuSans-105\"/>\n      <use x=\"176.509766\" xlink:href=\"#DejaVuSans-110\"/>\n      <use x=\"239.888672\" xlink:href=\"#DejaVuSans-105\"/>\n      <use x=\"267.671875\" xlink:href=\"#DejaVuSans-110\"/>\n      <use x=\"331.050781\" xlink:href=\"#DejaVuSans-103\"/>\n     </g>\n    </g>\n    <g id=\"line2d_17\">\n     <path d=\"M 512.221875 50.094688 \nL 532.221875 50.094688 \n\" style=\"fill:none;stroke:#ff7f0e;stroke-linecap:square;stroke-width:1.5;\"/>\n    </g>\n    <g id=\"line2d_18\"/>\n    <g id=\"text_17\">\n     <!-- Validation -->\n     <defs>\n      <path d=\"M 28.609375 0 \nL 0.78125 72.90625 \nL 11.078125 72.90625 \nL 34.1875 11.53125 \nL 57.328125 72.90625 \nL 67.578125 72.90625 \nL 39.796875 0 \nz\n\" id=\"DejaVuSans-86\"/>\n      <path d=\"M 9.421875 75.984375 \nL 18.40625 75.984375 \nL 18.40625 0 \nL 9.421875 0 \nz\n\" id=\"DejaVuSans-108\"/>\n      <path d=\"M 45.40625 46.390625 \nL 45.40625 75.984375 \nL 54.390625 75.984375 \nL 54.390625 0 \nL 45.40625 0 \nL 45.40625 8.203125 \nQ 42.578125 3.328125 38.25 0.953125 \nQ 33.9375 -1.421875 27.875 -1.421875 \nQ 17.96875 -1.421875 11.734375 6.484375 \nQ 5.515625 14.40625 5.515625 27.296875 \nQ 5.515625 40.1875 11.734375 48.09375 \nQ 17.96875 56 27.875 56 \nQ 33.9375 56 38.25 53.625 \nQ 42.578125 51.265625 45.40625 46.390625 \nz\nM 14.796875 27.296875 \nQ 14.796875 17.390625 18.875 11.75 \nQ 22.953125 6.109375 30.078125 6.109375 \nQ 37.203125 6.109375 41.296875 11.75 \nQ 45.40625 17.390625 45.40625 27.296875 \nQ 45.40625 37.203125 41.296875 42.84375 \nQ 37.203125 48.484375 30.078125 48.484375 \nQ 22.953125 48.484375 18.875 42.84375 \nQ 14.796875 37.203125 14.796875 27.296875 \nz\n\" id=\"DejaVuSans-100\"/>\n     </defs>\n     <g transform=\"translate(540.221875 53.594688)scale(0.1 -0.1)\">\n      <use xlink:href=\"#DejaVuSans-86\"/>\n      <use x=\"60.658203\" xlink:href=\"#DejaVuSans-97\"/>\n      <use x=\"121.9375\" xlink:href=\"#DejaVuSans-108\"/>\n      <use x=\"149.720703\" xlink:href=\"#DejaVuSans-105\"/>\n      <use x=\"177.503906\" xlink:href=\"#DejaVuSans-100\"/>\n      <use x=\"240.980469\" xlink:href=\"#DejaVuSans-97\"/>\n      <use x=\"302.259766\" xlink:href=\"#DejaVuSans-116\"/>\n      <use x=\"341.46875\" xlink:href=\"#DejaVuSans-105\"/>\n      <use x=\"369.251953\" xlink:href=\"#DejaVuSans-111\"/>\n      <use x=\"430.433594\" xlink:href=\"#DejaVuSans-110\"/>\n     </g>\n    </g>\n   </g>\n  </g>\n </g>\n <defs>\n  <clipPath id=\"pe24e23e6eb\">\n   <rect height=\"271.8\" width=\"558\" x=\"40.603125\" y=\"22.318125\"/>\n  </clipPath>\n </defs>\n</svg>\n"
          },
          "metadata": {
            "needs_background": "light"
          }
        }
      ],
      "source": [
        "#@title\n",
        "plt.figure(figsize=(10,5))\n",
        "plt.plot(history.history['loss'])\n",
        "plt.plot(history.history['val_loss'])\n",
        "plt.title('Loss vs. epochs, batch=' +str(batch_size))\n",
        "plt.ylabel('Loss')\n",
        "plt.xlabel('Epoch')\n",
        "plt.legend(['Training', 'Validation'], loc='upper right')\n",
        "plt.show()"
      ]
    },
    {
      "cell_type": "markdown",
      "id": "058a1cdc-e6ec-4fca-b87f-29a161f9986d",
      "metadata": {
        "id": "058a1cdc-e6ec-4fca-b87f-29a161f9986d"
      },
      "source": [
        "- **Diagnose this curve w.r.t learning rate**:\n",
        "    - ANSWER: learning rate is so low so the model is not stable and didn't learn or converge well\n",
        "- Change learning rate to make this curve better"
      ]
    },
    {
      "cell_type": "code",
      "execution_count": 189,
      "id": "74b641cb-d7b1-4806-a4f9-216006e06e77",
      "metadata": {
        "id": "74b641cb-d7b1-4806-a4f9-216006e06e77",
        "colab": {
          "base_uri": "https://localhost:8080/",
          "height": 1000
        },
        "outputId": "860e6723-da5f-4720-8072-082ba20de968"
      },
      "outputs": [
        {
          "output_type": "stream",
          "name": "stdout",
          "text": [
            "Epoch 1/125\n",
            "425/425 [==============================] - 1s 2ms/step - loss: 1.6175 - accuracy: 0.1859 - val_loss: 1.2907 - val_accuracy: 0.1467\n",
            "Epoch 2/125\n",
            "425/425 [==============================] - 1s 2ms/step - loss: 1.3296 - accuracy: 0.2471 - val_loss: 1.2540 - val_accuracy: 0.2533\n",
            "Epoch 3/125\n",
            "425/425 [==============================] - 1s 2ms/step - loss: 1.2644 - accuracy: 0.2776 - val_loss: 1.2325 - val_accuracy: 0.3067\n",
            "Epoch 4/125\n",
            "425/425 [==============================] - 1s 2ms/step - loss: 1.2500 - accuracy: 0.3082 - val_loss: 1.2124 - val_accuracy: 0.3733\n",
            "Epoch 5/125\n",
            "425/425 [==============================] - 1s 2ms/step - loss: 1.2060 - accuracy: 0.3459 - val_loss: 1.1946 - val_accuracy: 0.4267\n",
            "Epoch 6/125\n",
            "425/425 [==============================] - 1s 2ms/step - loss: 1.1900 - accuracy: 0.3741 - val_loss: 1.1790 - val_accuracy: 0.4533\n",
            "Epoch 7/125\n",
            "425/425 [==============================] - 1s 2ms/step - loss: 1.1769 - accuracy: 0.3788 - val_loss: 1.1625 - val_accuracy: 0.5067\n",
            "Epoch 8/125\n",
            "425/425 [==============================] - 1s 2ms/step - loss: 1.1644 - accuracy: 0.4306 - val_loss: 1.1469 - val_accuracy: 0.5067\n",
            "Epoch 9/125\n",
            "425/425 [==============================] - 1s 2ms/step - loss: 1.1238 - accuracy: 0.4353 - val_loss: 1.1311 - val_accuracy: 0.5067\n",
            "Epoch 10/125\n",
            "425/425 [==============================] - 1s 2ms/step - loss: 1.1104 - accuracy: 0.4541 - val_loss: 1.1178 - val_accuracy: 0.5067\n",
            "Epoch 11/125\n",
            "425/425 [==============================] - 1s 2ms/step - loss: 1.0610 - accuracy: 0.4565 - val_loss: 0.9373 - val_accuracy: 0.5733\n",
            "Epoch 12/125\n",
            "425/425 [==============================] - 1s 2ms/step - loss: 1.0001 - accuracy: 0.5459 - val_loss: 0.9113 - val_accuracy: 0.6133\n",
            "Epoch 13/125\n",
            "425/425 [==============================] - 1s 2ms/step - loss: 0.9819 - accuracy: 0.5647 - val_loss: 0.8944 - val_accuracy: 0.6133\n",
            "Epoch 14/125\n",
            "425/425 [==============================] - 1s 2ms/step - loss: 0.9727 - accuracy: 0.5600 - val_loss: 0.8773 - val_accuracy: 0.6133\n",
            "Epoch 15/125\n",
            "425/425 [==============================] - 1s 2ms/step - loss: 1.0002 - accuracy: 0.5788 - val_loss: 0.8634 - val_accuracy: 0.6267\n",
            "Epoch 16/125\n",
            "425/425 [==============================] - 1s 2ms/step - loss: 1.0658 - accuracy: 0.5647 - val_loss: 0.8530 - val_accuracy: 0.6400\n",
            "Epoch 17/125\n",
            "425/425 [==============================] - 1s 2ms/step - loss: 1.1325 - accuracy: 0.5647 - val_loss: 0.8414 - val_accuracy: 0.6400\n",
            "Epoch 18/125\n",
            "425/425 [==============================] - 1s 2ms/step - loss: 1.1616 - accuracy: 0.5600 - val_loss: 0.8310 - val_accuracy: 0.6400\n",
            "Epoch 19/125\n",
            "425/425 [==============================] - 1s 2ms/step - loss: 1.1543 - accuracy: 0.5576 - val_loss: 1.2537 - val_accuracy: 0.6267\n",
            "Epoch 20/125\n",
            "425/425 [==============================] - 1s 2ms/step - loss: 1.1459 - accuracy: 0.5694 - val_loss: 1.4567 - val_accuracy: 0.6400\n",
            "Epoch 21/125\n",
            "425/425 [==============================] - 1s 2ms/step - loss: 1.1666 - accuracy: 0.5388 - val_loss: 1.6761 - val_accuracy: 0.5867\n",
            "Epoch 22/125\n",
            "425/425 [==============================] - 1s 2ms/step - loss: 1.0606 - accuracy: 0.4894 - val_loss: 1.6765 - val_accuracy: 0.6000\n",
            "Epoch 23/125\n",
            "425/425 [==============================] - 1s 2ms/step - loss: 1.0761 - accuracy: 0.5271 - val_loss: 1.6721 - val_accuracy: 0.6267\n",
            "Epoch 24/125\n",
            "425/425 [==============================] - 1s 2ms/step - loss: 1.0986 - accuracy: 0.5506 - val_loss: 1.6668 - val_accuracy: 0.6533\n",
            "Epoch 25/125\n",
            "425/425 [==============================] - 1s 2ms/step - loss: 1.0871 - accuracy: 0.5576 - val_loss: 2.0910 - val_accuracy: 0.6400\n",
            "Epoch 26/125\n",
            "425/425 [==============================] - 1s 2ms/step - loss: 1.1586 - accuracy: 0.5694 - val_loss: 1.6500 - val_accuracy: 0.6533\n",
            "Epoch 27/125\n",
            "425/425 [==============================] - 1s 2ms/step - loss: 1.0767 - accuracy: 0.5600 - val_loss: 2.0739 - val_accuracy: 0.6533\n",
            "Epoch 28/125\n",
            "425/425 [==============================] - 1s 2ms/step - loss: 1.1410 - accuracy: 0.5859 - val_loss: 2.2853 - val_accuracy: 0.6000\n",
            "Epoch 29/125\n",
            "425/425 [==============================] - 1s 2ms/step - loss: 1.5109 - accuracy: 0.5318 - val_loss: 1.6886 - val_accuracy: 0.5067\n",
            "Epoch 30/125\n",
            "425/425 [==============================] - 1s 2ms/step - loss: 3.0126 - accuracy: 0.4682 - val_loss: 3.2911 - val_accuracy: 0.5067\n",
            "Epoch 31/125\n",
            "425/425 [==============================] - 1s 2ms/step - loss: 4.2302 - accuracy: 0.4635 - val_loss: 3.6096 - val_accuracy: 0.4933\n",
            "Epoch 32/125\n",
            "425/425 [==============================] - 1s 2ms/step - loss: 4.6355 - accuracy: 0.4541 - val_loss: 4.0317 - val_accuracy: 0.4800\n",
            "Epoch 33/125\n",
            "425/425 [==============================] - 1s 2ms/step - loss: 4.8910 - accuracy: 0.4565 - val_loss: 4.2337 - val_accuracy: 0.4933\n",
            "Epoch 34/125\n",
            "425/425 [==============================] - 1s 2ms/step - loss: 5.0709 - accuracy: 0.4588 - val_loss: 5.0876 - val_accuracy: 0.3467\n",
            "Epoch 35/125\n",
            "425/425 [==============================] - 1s 2ms/step - loss: 5.1766 - accuracy: 0.3553 - val_loss: 5.2969 - val_accuracy: 0.3333\n",
            "Epoch 36/125\n",
            "425/425 [==============================] - 1s 2ms/step - loss: 5.3200 - accuracy: 0.3388 - val_loss: 5.5012 - val_accuracy: 0.3333\n",
            "Epoch 37/125\n",
            "425/425 [==============================] - 1s 2ms/step - loss: 5.5388 - accuracy: 0.3388 - val_loss: 6.5629 - val_accuracy: 0.3333\n",
            "Epoch 38/125\n",
            "425/425 [==============================] - 1s 2ms/step - loss: 5.8731 - accuracy: 0.3388 - val_loss: 6.7730 - val_accuracy: 0.3333\n",
            "Epoch 39/125\n",
            "425/425 [==============================] - 1s 2ms/step - loss: 6.2449 - accuracy: 0.3388 - val_loss: 6.9850 - val_accuracy: 0.3333\n",
            "Epoch 40/125\n",
            "425/425 [==============================] - 1s 2ms/step - loss: 6.3889 - accuracy: 0.3412 - val_loss: 7.6206 - val_accuracy: 0.3333\n",
            "Epoch 41/125\n",
            "425/425 [==============================] - 1s 2ms/step - loss: 6.6483 - accuracy: 0.3412 - val_loss: 7.6173 - val_accuracy: 0.3333\n",
            "Epoch 42/125\n",
            "425/425 [==============================] - 1s 2ms/step - loss: 6.6428 - accuracy: 0.3412 - val_loss: 8.2542 - val_accuracy: 0.3333\n",
            "Epoch 43/125\n",
            "425/425 [==============================] - 1s 2ms/step - loss: 6.9019 - accuracy: 0.3388 - val_loss: 8.4623 - val_accuracy: 0.3333\n",
            "Epoch 44/125\n",
            "425/425 [==============================] - 1s 2ms/step - loss: 7.1245 - accuracy: 0.3388 - val_loss: 8.4590 - val_accuracy: 0.3333\n",
            "Epoch 45/125\n",
            "425/425 [==============================] - 1s 2ms/step - loss: 6.1835 - accuracy: 0.3388 - val_loss: 4.4798 - val_accuracy: 0.3333\n",
            "Epoch 46/125\n",
            "425/425 [==============================] - 1s 2ms/step - loss: 4.0193 - accuracy: 0.3412 - val_loss: 5.0962 - val_accuracy: 0.3467\n",
            "Epoch 47/125\n",
            "425/425 [==============================] - 1s 2ms/step - loss: 4.4796 - accuracy: 0.3388 - val_loss: 6.1093 - val_accuracy: 0.3467\n",
            "Epoch 48/125\n",
            "425/425 [==============================] - 1s 3ms/step - loss: 5.4108 - accuracy: 0.3412 - val_loss: 6.9559 - val_accuracy: 0.3333\n",
            "Epoch 49/125\n",
            "425/425 [==============================] - 2s 5ms/step - loss: 5.4651 - accuracy: 0.3412 - val_loss: 6.9482 - val_accuracy: 0.3333\n",
            "Epoch 50/125\n",
            "425/425 [==============================] - 1s 2ms/step - loss: 5.4922 - accuracy: 0.3412 - val_loss: 6.9415 - val_accuracy: 0.3333\n",
            "Epoch 51/125\n",
            "425/425 [==============================] - 1s 2ms/step - loss: 5.9726 - accuracy: 0.3294 - val_loss: 7.1840 - val_accuracy: 0.3067\n",
            "Epoch 52/125\n",
            "425/425 [==============================] - 1s 2ms/step - loss: 5.6541 - accuracy: 0.3318 - val_loss: 7.1686 - val_accuracy: 0.3067\n",
            "Epoch 53/125\n",
            "425/425 [==============================] - 1s 2ms/step - loss: 5.5548 - accuracy: 0.3341 - val_loss: 7.1530 - val_accuracy: 0.3067\n",
            "Epoch 54/125\n",
            "425/425 [==============================] - 1s 2ms/step - loss: 5.8118 - accuracy: 0.3129 - val_loss: 7.3633 - val_accuracy: 0.2933\n",
            "Epoch 55/125\n",
            "425/425 [==============================] - 1s 2ms/step - loss: 5.7591 - accuracy: 0.3224 - val_loss: 7.3771 - val_accuracy: 0.3067\n",
            "Epoch 56/125\n",
            "425/425 [==============================] - 1s 2ms/step - loss: 5.5620 - accuracy: 0.3294 - val_loss: 7.1299 - val_accuracy: 0.3200\n",
            "Epoch 57/125\n",
            "425/425 [==============================] - 1s 2ms/step - loss: 5.2889 - accuracy: 0.3412 - val_loss: 6.2592 - val_accuracy: 0.3333\n",
            "Epoch 58/125\n",
            "425/425 [==============================] - 1s 2ms/step - loss: 4.8624 - accuracy: 0.3412 - val_loss: 6.4865 - val_accuracy: 0.3333\n",
            "Epoch 59/125\n",
            "425/425 [==============================] - 1s 2ms/step - loss: 4.2558 - accuracy: 0.3412 - val_loss: 5.6130 - val_accuracy: 0.3467\n",
            "Epoch 60/125\n",
            "425/425 [==============================] - 1s 2ms/step - loss: 4.3564 - accuracy: 0.3412 - val_loss: 5.8201 - val_accuracy: 0.3467\n",
            "Epoch 61/125\n",
            "425/425 [==============================] - 1s 2ms/step - loss: 4.2795 - accuracy: 0.3412 - val_loss: 5.6053 - val_accuracy: 0.3467\n",
            "Epoch 62/125\n",
            "425/425 [==============================] - 1s 2ms/step - loss: 4.1622 - accuracy: 0.3412 - val_loss: 5.3918 - val_accuracy: 0.3467\n",
            "Epoch 63/125\n",
            "425/425 [==============================] - 1s 2ms/step - loss: 4.2358 - accuracy: 0.3412 - val_loss: 5.8182 - val_accuracy: 0.3467\n",
            "Epoch 64/125\n",
            "425/425 [==============================] - 1s 2ms/step - loss: 4.2712 - accuracy: 0.3388 - val_loss: 5.6057 - val_accuracy: 0.3467\n",
            "Epoch 65/125\n",
            "425/425 [==============================] - 1s 2ms/step - loss: 4.3852 - accuracy: 0.3412 - val_loss: 5.3935 - val_accuracy: 0.3467\n",
            "Epoch 66/125\n",
            "425/425 [==============================] - 1s 2ms/step - loss: 4.2677 - accuracy: 0.3412 - val_loss: 5.8148 - val_accuracy: 0.3467\n",
            "Epoch 67/125\n",
            "425/425 [==============================] - 1s 2ms/step - loss: 4.3426 - accuracy: 0.3412 - val_loss: 5.3864 - val_accuracy: 0.3467\n",
            "Epoch 68/125\n",
            "425/425 [==============================] - 1s 2ms/step - loss: 4.2271 - accuracy: 0.3412 - val_loss: 5.3846 - val_accuracy: 0.3467\n",
            "Epoch 69/125\n",
            "425/425 [==============================] - 1s 2ms/step - loss: 4.1114 - accuracy: 0.3412 - val_loss: 4.9558 - val_accuracy: 0.3467\n",
            "Epoch 70/125\n",
            "425/425 [==============================] - 1s 2ms/step - loss: 4.0724 - accuracy: 0.3412 - val_loss: 4.9526 - val_accuracy: 0.3467\n",
            "Epoch 71/125\n",
            "425/425 [==============================] - 1s 2ms/step - loss: 4.0702 - accuracy: 0.3412 - val_loss: 4.9525 - val_accuracy: 0.3467\n",
            "Epoch 72/125\n",
            "425/425 [==============================] - 1s 2ms/step - loss: 4.0694 - accuracy: 0.3412 - val_loss: 4.9516 - val_accuracy: 0.3467\n",
            "Epoch 73/125\n",
            "425/425 [==============================] - 1s 2ms/step - loss: 3.9928 - accuracy: 0.3412 - val_loss: 4.9515 - val_accuracy: 0.3467\n",
            "Epoch 74/125\n",
            "425/425 [==============================] - 1s 2ms/step - loss: 3.9917 - accuracy: 0.3412 - val_loss: 4.5214 - val_accuracy: 0.3467\n",
            "Epoch 75/125\n",
            "425/425 [==============================] - 1s 2ms/step - loss: 3.9531 - accuracy: 0.3412 - val_loss: 4.7346 - val_accuracy: 0.3467\n",
            "Epoch 76/125\n",
            "425/425 [==============================] - 1s 2ms/step - loss: 3.9906 - accuracy: 0.3412 - val_loss: 4.7338 - val_accuracy: 0.3467\n",
            "Epoch 77/125\n",
            "425/425 [==============================] - 1s 2ms/step - loss: 3.9529 - accuracy: 0.3412 - val_loss: 4.9505 - val_accuracy: 0.3467\n",
            "Epoch 78/125\n",
            "425/425 [==============================] - 1s 2ms/step - loss: 3.9522 - accuracy: 0.3412 - val_loss: 4.9494 - val_accuracy: 0.3467\n",
            "Epoch 79/125\n",
            "425/425 [==============================] - 1s 2ms/step - loss: 3.9895 - accuracy: 0.3412 - val_loss: 4.5181 - val_accuracy: 0.3467\n",
            "Epoch 80/125\n",
            "425/425 [==============================] - 1s 2ms/step - loss: 3.8752 - accuracy: 0.3412 - val_loss: 4.9482 - val_accuracy: 0.3467\n",
            "Epoch 81/125\n",
            "425/425 [==============================] - 1s 2ms/step - loss: 4.2796 - accuracy: 0.3388 - val_loss: 4.1008 - val_accuracy: 0.3333\n",
            "Epoch 82/125\n",
            "425/425 [==============================] - 1s 2ms/step - loss: 4.4562 - accuracy: 0.3388 - val_loss: 4.0974 - val_accuracy: 0.3333\n",
            "Epoch 83/125\n",
            "425/425 [==============================] - 1s 2ms/step - loss: 4.2200 - accuracy: 0.3388 - val_loss: 4.0899 - val_accuracy: 0.3333\n",
            "Epoch 84/125\n",
            "425/425 [==============================] - 1s 2ms/step - loss: 4.1027 - accuracy: 0.3388 - val_loss: 4.0879 - val_accuracy: 0.3333\n",
            "Epoch 85/125\n",
            "425/425 [==============================] - 1s 2ms/step - loss: 4.1389 - accuracy: 0.3388 - val_loss: 4.0861 - val_accuracy: 0.3333\n",
            "Epoch 86/125\n",
            "425/425 [==============================] - 1s 2ms/step - loss: 4.0241 - accuracy: 0.3388 - val_loss: 4.0844 - val_accuracy: 0.3333\n",
            "Epoch 87/125\n",
            "425/425 [==============================] - 1s 2ms/step - loss: 3.9854 - accuracy: 0.3388 - val_loss: 4.0836 - val_accuracy: 0.3333\n",
            "Epoch 88/125\n",
            "425/425 [==============================] - 1s 2ms/step - loss: 3.9852 - accuracy: 0.3388 - val_loss: 4.0833 - val_accuracy: 0.3333\n",
            "Epoch 89/125\n",
            "425/425 [==============================] - 1s 2ms/step - loss: 4.0229 - accuracy: 0.3388 - val_loss: 4.0833 - val_accuracy: 0.3333\n",
            "Epoch 90/125\n",
            "425/425 [==============================] - 1s 2ms/step - loss: 4.0227 - accuracy: 0.3388 - val_loss: 4.0833 - val_accuracy: 0.3333\n",
            "Epoch 91/125\n",
            "425/425 [==============================] - 1s 2ms/step - loss: 4.0227 - accuracy: 0.3388 - val_loss: 4.0833 - val_accuracy: 0.3333\n",
            "Epoch 92/125\n",
            "425/425 [==============================] - 1s 2ms/step - loss: 4.0226 - accuracy: 0.3388 - val_loss: 4.0833 - val_accuracy: 0.3333\n",
            "Epoch 93/125\n",
            "425/425 [==============================] - 1s 2ms/step - loss: 4.0225 - accuracy: 0.3388 - val_loss: 4.0833 - val_accuracy: 0.3333\n",
            "Epoch 94/125\n",
            "425/425 [==============================] - 1s 2ms/step - loss: 4.0225 - accuracy: 0.3388 - val_loss: 4.0833 - val_accuracy: 0.3333\n",
            "Epoch 95/125\n",
            "425/425 [==============================] - 1s 2ms/step - loss: 4.0224 - accuracy: 0.3388 - val_loss: 4.0833 - val_accuracy: 0.3333\n",
            "Epoch 96/125\n",
            "425/425 [==============================] - 1s 2ms/step - loss: 4.0224 - accuracy: 0.3388 - val_loss: 4.0833 - val_accuracy: 0.3333\n",
            "Epoch 97/125\n",
            "425/425 [==============================] - 1s 2ms/step - loss: 4.0223 - accuracy: 0.3388 - val_loss: 4.0833 - val_accuracy: 0.3333\n",
            "Epoch 98/125\n",
            "425/425 [==============================] - 1s 2ms/step - loss: 4.0222 - accuracy: 0.3388 - val_loss: 4.0833 - val_accuracy: 0.3333\n",
            "Epoch 99/125\n",
            "425/425 [==============================] - 1s 2ms/step - loss: 4.0222 - accuracy: 0.3388 - val_loss: 4.0833 - val_accuracy: 0.3333\n",
            "Epoch 100/125\n",
            "425/425 [==============================] - 1s 2ms/step - loss: 4.0221 - accuracy: 0.3388 - val_loss: 4.0833 - val_accuracy: 0.3333\n",
            "Epoch 101/125\n",
            "425/425 [==============================] - 1s 2ms/step - loss: 4.0221 - accuracy: 0.3388 - val_loss: 4.0833 - val_accuracy: 0.3333\n",
            "Epoch 102/125\n",
            "425/425 [==============================] - 1s 2ms/step - loss: 4.0220 - accuracy: 0.3388 - val_loss: 4.0833 - val_accuracy: 0.3333\n",
            "Epoch 103/125\n",
            "425/425 [==============================] - 1s 2ms/step - loss: 4.0219 - accuracy: 0.3388 - val_loss: 4.0833 - val_accuracy: 0.3333\n",
            "Epoch 104/125\n",
            "425/425 [==============================] - 1s 2ms/step - loss: 4.0219 - accuracy: 0.3388 - val_loss: 4.0833 - val_accuracy: 0.3333\n",
            "Epoch 105/125\n",
            "425/425 [==============================] - 1s 2ms/step - loss: 4.0219 - accuracy: 0.3388 - val_loss: 4.0833 - val_accuracy: 0.3333\n",
            "Epoch 106/125\n",
            "425/425 [==============================] - 1s 2ms/step - loss: 4.0218 - accuracy: 0.3388 - val_loss: 4.0833 - val_accuracy: 0.3333\n",
            "Epoch 107/125\n",
            "425/425 [==============================] - 1s 2ms/step - loss: 4.0218 - accuracy: 0.3388 - val_loss: 4.0833 - val_accuracy: 0.3333\n",
            "Epoch 108/125\n",
            "425/425 [==============================] - 1s 2ms/step - loss: 4.0217 - accuracy: 0.3388 - val_loss: 4.0833 - val_accuracy: 0.3333\n",
            "Epoch 109/125\n",
            "425/425 [==============================] - 1s 2ms/step - loss: 4.0216 - accuracy: 0.3388 - val_loss: 4.0833 - val_accuracy: 0.3333\n",
            "Epoch 110/125\n",
            "425/425 [==============================] - 1s 2ms/step - loss: 4.0215 - accuracy: 0.3388 - val_loss: 4.0833 - val_accuracy: 0.3333\n",
            "Epoch 111/125\n",
            "425/425 [==============================] - 1s 2ms/step - loss: 4.0216 - accuracy: 0.3388 - val_loss: 4.0833 - val_accuracy: 0.3333\n",
            "Epoch 112/125\n",
            "425/425 [==============================] - 1s 2ms/step - loss: 4.0215 - accuracy: 0.3388 - val_loss: 4.0833 - val_accuracy: 0.3333\n",
            "Epoch 113/125\n",
            "425/425 [==============================] - 1s 2ms/step - loss: 4.0215 - accuracy: 0.3388 - val_loss: 4.0834 - val_accuracy: 0.3333\n",
            "Epoch 114/125\n",
            "425/425 [==============================] - 1s 2ms/step - loss: 4.0214 - accuracy: 0.3388 - val_loss: 4.0833 - val_accuracy: 0.3333\n",
            "Epoch 115/125\n",
            "425/425 [==============================] - 1s 2ms/step - loss: 4.0214 - accuracy: 0.3388 - val_loss: 4.0833 - val_accuracy: 0.3333\n",
            "Epoch 116/125\n",
            "425/425 [==============================] - 1s 2ms/step - loss: 4.0593 - accuracy: 0.3388 - val_loss: 4.0843 - val_accuracy: 0.3333\n",
            "Epoch 117/125\n",
            "425/425 [==============================] - 1s 2ms/step - loss: 4.0593 - accuracy: 0.3388 - val_loss: 4.0843 - val_accuracy: 0.3333\n",
            "Epoch 118/125\n",
            "425/425 [==============================] - 1s 2ms/step - loss: 4.0592 - accuracy: 0.3388 - val_loss: 4.0843 - val_accuracy: 0.3333\n",
            "Epoch 119/125\n",
            "425/425 [==============================] - 1s 2ms/step - loss: 4.0592 - accuracy: 0.3388 - val_loss: 4.0843 - val_accuracy: 0.3333\n",
            "Epoch 120/125\n",
            "425/425 [==============================] - 1s 2ms/step - loss: 4.0595 - accuracy: 0.3388 - val_loss: 4.2982 - val_accuracy: 0.3333\n",
            "Epoch 121/125\n",
            "425/425 [==============================] - 1s 2ms/step - loss: 3.9084 - accuracy: 0.3388 - val_loss: 4.0833 - val_accuracy: 0.3333\n",
            "Epoch 122/125\n",
            "425/425 [==============================] - 1s 2ms/step - loss: 4.0212 - accuracy: 0.3388 - val_loss: 4.0833 - val_accuracy: 0.3333\n",
            "Epoch 123/125\n",
            "425/425 [==============================] - 1s 2ms/step - loss: 4.0212 - accuracy: 0.3388 - val_loss: 4.0833 - val_accuracy: 0.3333\n",
            "Epoch 124/125\n",
            "425/425 [==============================] - 1s 2ms/step - loss: 4.0212 - accuracy: 0.3388 - val_loss: 4.0833 - val_accuracy: 0.3333\n",
            "Epoch 125/125\n",
            "425/425 [==============================] - 1s 2ms/step - loss: 4.0211 - accuracy: 0.3388 - val_loss: 4.0833 - val_accuracy: 0.3333\n",
            "16/16 - 0s - loss: 3.8393 - accuracy: 0.3320 - 173ms/epoch - 11ms/step\n"
          ]
        },
        {
          "output_type": "display_data",
          "data": {
            "text/plain": [
              "<Figure size 720x360 with 1 Axes>"
            ],
            "image/svg+xml": "<?xml version=\"1.0\" encoding=\"utf-8\" standalone=\"no\"?>\n<!DOCTYPE svg PUBLIC \"-//W3C//DTD SVG 1.1//EN\"\n  \"http://www.w3.org/Graphics/SVG/1.1/DTD/svg11.dtd\">\n<!-- Created with matplotlib (https://matplotlib.org/) -->\n<svg height=\"331.674375pt\" version=\"1.1\" viewBox=\"0 0 599.440625 331.674375\" width=\"599.440625pt\" xmlns=\"http://www.w3.org/2000/svg\" xmlns:xlink=\"http://www.w3.org/1999/xlink\">\n <defs>\n  <style type=\"text/css\">\n*{stroke-linecap:butt;stroke-linejoin:round;}\n  </style>\n </defs>\n <g id=\"figure_1\">\n  <g id=\"patch_1\">\n   <path d=\"M 0 331.674375 \nL 599.440625 331.674375 \nL 599.440625 0 \nL 0 0 \nz\n\" style=\"fill:none;\"/>\n  </g>\n  <g id=\"axes_1\">\n   <g id=\"patch_2\">\n    <path d=\"M 34.240625 294.118125 \nL 592.240625 294.118125 \nL 592.240625 22.318125 \nL 34.240625 22.318125 \nz\n\" style=\"fill:#ffffff;\"/>\n   </g>\n   <g id=\"matplotlib.axis_1\">\n    <g id=\"xtick_1\">\n     <g id=\"line2d_1\">\n      <defs>\n       <path d=\"M 0 0 \nL 0 3.5 \n\" id=\"m72127b77aa\" style=\"stroke:#000000;stroke-width:0.8;\"/>\n      </defs>\n      <g>\n       <use style=\"stroke:#000000;stroke-width:0.8;\" x=\"59.604261\" xlink:href=\"#m72127b77aa\" y=\"294.118125\"/>\n      </g>\n     </g>\n     <g id=\"text_1\">\n      <!-- 0 -->\n      <defs>\n       <path d=\"M 31.78125 66.40625 \nQ 24.171875 66.40625 20.328125 58.90625 \nQ 16.5 51.421875 16.5 36.375 \nQ 16.5 21.390625 20.328125 13.890625 \nQ 24.171875 6.390625 31.78125 6.390625 \nQ 39.453125 6.390625 43.28125 13.890625 \nQ 47.125 21.390625 47.125 36.375 \nQ 47.125 51.421875 43.28125 58.90625 \nQ 39.453125 66.40625 31.78125 66.40625 \nz\nM 31.78125 74.21875 \nQ 44.046875 74.21875 50.515625 64.515625 \nQ 56.984375 54.828125 56.984375 36.375 \nQ 56.984375 17.96875 50.515625 8.265625 \nQ 44.046875 -1.421875 31.78125 -1.421875 \nQ 19.53125 -1.421875 13.0625 8.265625 \nQ 6.59375 17.96875 6.59375 36.375 \nQ 6.59375 54.828125 13.0625 64.515625 \nQ 19.53125 74.21875 31.78125 74.21875 \nz\n\" id=\"DejaVuSans-48\"/>\n      </defs>\n      <g transform=\"translate(56.423011 308.716563)scale(0.1 -0.1)\">\n       <use xlink:href=\"#DejaVuSans-48\"/>\n      </g>\n     </g>\n    </g>\n    <g id=\"xtick_2\">\n     <g id=\"line2d_2\">\n      <g>\n       <use style=\"stroke:#000000;stroke-width:0.8;\" x=\"141.422443\" xlink:href=\"#m72127b77aa\" y=\"294.118125\"/>\n      </g>\n     </g>\n     <g id=\"text_2\">\n      <!-- 20 -->\n      <defs>\n       <path d=\"M 19.1875 8.296875 \nL 53.609375 8.296875 \nL 53.609375 0 \nL 7.328125 0 \nL 7.328125 8.296875 \nQ 12.9375 14.109375 22.625 23.890625 \nQ 32.328125 33.6875 34.8125 36.53125 \nQ 39.546875 41.84375 41.421875 45.53125 \nQ 43.3125 49.21875 43.3125 52.78125 \nQ 43.3125 58.59375 39.234375 62.25 \nQ 35.15625 65.921875 28.609375 65.921875 \nQ 23.96875 65.921875 18.8125 64.3125 \nQ 13.671875 62.703125 7.8125 59.421875 \nL 7.8125 69.390625 \nQ 13.765625 71.78125 18.9375 73 \nQ 24.125 74.21875 28.421875 74.21875 \nQ 39.75 74.21875 46.484375 68.546875 \nQ 53.21875 62.890625 53.21875 53.421875 \nQ 53.21875 48.921875 51.53125 44.890625 \nQ 49.859375 40.875 45.40625 35.40625 \nQ 44.1875 33.984375 37.640625 27.21875 \nQ 31.109375 20.453125 19.1875 8.296875 \nz\n\" id=\"DejaVuSans-50\"/>\n      </defs>\n      <g transform=\"translate(135.059943 308.716563)scale(0.1 -0.1)\">\n       <use xlink:href=\"#DejaVuSans-50\"/>\n       <use x=\"63.623047\" xlink:href=\"#DejaVuSans-48\"/>\n      </g>\n     </g>\n    </g>\n    <g id=\"xtick_3\">\n     <g id=\"line2d_3\">\n      <g>\n       <use style=\"stroke:#000000;stroke-width:0.8;\" x=\"223.240625\" xlink:href=\"#m72127b77aa\" y=\"294.118125\"/>\n      </g>\n     </g>\n     <g id=\"text_3\">\n      <!-- 40 -->\n      <defs>\n       <path d=\"M 37.796875 64.3125 \nL 12.890625 25.390625 \nL 37.796875 25.390625 \nz\nM 35.203125 72.90625 \nL 47.609375 72.90625 \nL 47.609375 25.390625 \nL 58.015625 25.390625 \nL 58.015625 17.1875 \nL 47.609375 17.1875 \nL 47.609375 0 \nL 37.796875 0 \nL 37.796875 17.1875 \nL 4.890625 17.1875 \nL 4.890625 26.703125 \nz\n\" id=\"DejaVuSans-52\"/>\n      </defs>\n      <g transform=\"translate(216.878125 308.716563)scale(0.1 -0.1)\">\n       <use xlink:href=\"#DejaVuSans-52\"/>\n       <use x=\"63.623047\" xlink:href=\"#DejaVuSans-48\"/>\n      </g>\n     </g>\n    </g>\n    <g id=\"xtick_4\">\n     <g id=\"line2d_4\">\n      <g>\n       <use style=\"stroke:#000000;stroke-width:0.8;\" x=\"305.058807\" xlink:href=\"#m72127b77aa\" y=\"294.118125\"/>\n      </g>\n     </g>\n     <g id=\"text_4\">\n      <!-- 60 -->\n      <defs>\n       <path d=\"M 33.015625 40.375 \nQ 26.375 40.375 22.484375 35.828125 \nQ 18.609375 31.296875 18.609375 23.390625 \nQ 18.609375 15.53125 22.484375 10.953125 \nQ 26.375 6.390625 33.015625 6.390625 \nQ 39.65625 6.390625 43.53125 10.953125 \nQ 47.40625 15.53125 47.40625 23.390625 \nQ 47.40625 31.296875 43.53125 35.828125 \nQ 39.65625 40.375 33.015625 40.375 \nz\nM 52.59375 71.296875 \nL 52.59375 62.3125 \nQ 48.875 64.0625 45.09375 64.984375 \nQ 41.3125 65.921875 37.59375 65.921875 \nQ 27.828125 65.921875 22.671875 59.328125 \nQ 17.53125 52.734375 16.796875 39.40625 \nQ 19.671875 43.65625 24.015625 45.921875 \nQ 28.375 48.1875 33.59375 48.1875 \nQ 44.578125 48.1875 50.953125 41.515625 \nQ 57.328125 34.859375 57.328125 23.390625 \nQ 57.328125 12.15625 50.6875 5.359375 \nQ 44.046875 -1.421875 33.015625 -1.421875 \nQ 20.359375 -1.421875 13.671875 8.265625 \nQ 6.984375 17.96875 6.984375 36.375 \nQ 6.984375 53.65625 15.1875 63.9375 \nQ 23.390625 74.21875 37.203125 74.21875 \nQ 40.921875 74.21875 44.703125 73.484375 \nQ 48.484375 72.75 52.59375 71.296875 \nz\n\" id=\"DejaVuSans-54\"/>\n      </defs>\n      <g transform=\"translate(298.696307 308.716563)scale(0.1 -0.1)\">\n       <use xlink:href=\"#DejaVuSans-54\"/>\n       <use x=\"63.623047\" xlink:href=\"#DejaVuSans-48\"/>\n      </g>\n     </g>\n    </g>\n    <g id=\"xtick_5\">\n     <g id=\"line2d_5\">\n      <g>\n       <use style=\"stroke:#000000;stroke-width:0.8;\" x=\"386.876989\" xlink:href=\"#m72127b77aa\" y=\"294.118125\"/>\n      </g>\n     </g>\n     <g id=\"text_5\">\n      <!-- 80 -->\n      <defs>\n       <path d=\"M 31.78125 34.625 \nQ 24.75 34.625 20.71875 30.859375 \nQ 16.703125 27.09375 16.703125 20.515625 \nQ 16.703125 13.921875 20.71875 10.15625 \nQ 24.75 6.390625 31.78125 6.390625 \nQ 38.8125 6.390625 42.859375 10.171875 \nQ 46.921875 13.96875 46.921875 20.515625 \nQ 46.921875 27.09375 42.890625 30.859375 \nQ 38.875 34.625 31.78125 34.625 \nz\nM 21.921875 38.8125 \nQ 15.578125 40.375 12.03125 44.71875 \nQ 8.5 49.078125 8.5 55.328125 \nQ 8.5 64.0625 14.71875 69.140625 \nQ 20.953125 74.21875 31.78125 74.21875 \nQ 42.671875 74.21875 48.875 69.140625 \nQ 55.078125 64.0625 55.078125 55.328125 \nQ 55.078125 49.078125 51.53125 44.71875 \nQ 48 40.375 41.703125 38.8125 \nQ 48.828125 37.15625 52.796875 32.3125 \nQ 56.78125 27.484375 56.78125 20.515625 \nQ 56.78125 9.90625 50.3125 4.234375 \nQ 43.84375 -1.421875 31.78125 -1.421875 \nQ 19.734375 -1.421875 13.25 4.234375 \nQ 6.78125 9.90625 6.78125 20.515625 \nQ 6.78125 27.484375 10.78125 32.3125 \nQ 14.796875 37.15625 21.921875 38.8125 \nz\nM 18.3125 54.390625 \nQ 18.3125 48.734375 21.84375 45.5625 \nQ 25.390625 42.390625 31.78125 42.390625 \nQ 38.140625 42.390625 41.71875 45.5625 \nQ 45.3125 48.734375 45.3125 54.390625 \nQ 45.3125 60.0625 41.71875 63.234375 \nQ 38.140625 66.40625 31.78125 66.40625 \nQ 25.390625 66.40625 21.84375 63.234375 \nQ 18.3125 60.0625 18.3125 54.390625 \nz\n\" id=\"DejaVuSans-56\"/>\n      </defs>\n      <g transform=\"translate(380.514489 308.716563)scale(0.1 -0.1)\">\n       <use xlink:href=\"#DejaVuSans-56\"/>\n       <use x=\"63.623047\" xlink:href=\"#DejaVuSans-48\"/>\n      </g>\n     </g>\n    </g>\n    <g id=\"xtick_6\">\n     <g id=\"line2d_6\">\n      <g>\n       <use style=\"stroke:#000000;stroke-width:0.8;\" x=\"468.69517\" xlink:href=\"#m72127b77aa\" y=\"294.118125\"/>\n      </g>\n     </g>\n     <g id=\"text_6\">\n      <!-- 100 -->\n      <defs>\n       <path d=\"M 12.40625 8.296875 \nL 28.515625 8.296875 \nL 28.515625 63.921875 \nL 10.984375 60.40625 \nL 10.984375 69.390625 \nL 28.421875 72.90625 \nL 38.28125 72.90625 \nL 38.28125 8.296875 \nL 54.390625 8.296875 \nL 54.390625 0 \nL 12.40625 0 \nz\n\" id=\"DejaVuSans-49\"/>\n      </defs>\n      <g transform=\"translate(459.15142 308.716563)scale(0.1 -0.1)\">\n       <use xlink:href=\"#DejaVuSans-49\"/>\n       <use x=\"63.623047\" xlink:href=\"#DejaVuSans-48\"/>\n       <use x=\"127.246094\" xlink:href=\"#DejaVuSans-48\"/>\n      </g>\n     </g>\n    </g>\n    <g id=\"xtick_7\">\n     <g id=\"line2d_7\">\n      <g>\n       <use style=\"stroke:#000000;stroke-width:0.8;\" x=\"550.513352\" xlink:href=\"#m72127b77aa\" y=\"294.118125\"/>\n      </g>\n     </g>\n     <g id=\"text_7\">\n      <!-- 120 -->\n      <g transform=\"translate(540.969602 308.716563)scale(0.1 -0.1)\">\n       <use xlink:href=\"#DejaVuSans-49\"/>\n       <use x=\"63.623047\" xlink:href=\"#DejaVuSans-50\"/>\n       <use x=\"127.246094\" xlink:href=\"#DejaVuSans-48\"/>\n      </g>\n     </g>\n    </g>\n    <g id=\"text_8\">\n     <!-- Epoch -->\n     <defs>\n      <path d=\"M 9.8125 72.90625 \nL 55.90625 72.90625 \nL 55.90625 64.59375 \nL 19.671875 64.59375 \nL 19.671875 43.015625 \nL 54.390625 43.015625 \nL 54.390625 34.71875 \nL 19.671875 34.71875 \nL 19.671875 8.296875 \nL 56.78125 8.296875 \nL 56.78125 0 \nL 9.8125 0 \nz\n\" id=\"DejaVuSans-69\"/>\n      <path d=\"M 18.109375 8.203125 \nL 18.109375 -20.796875 \nL 9.078125 -20.796875 \nL 9.078125 54.6875 \nL 18.109375 54.6875 \nL 18.109375 46.390625 \nQ 20.953125 51.265625 25.265625 53.625 \nQ 29.59375 56 35.59375 56 \nQ 45.5625 56 51.78125 48.09375 \nQ 58.015625 40.1875 58.015625 27.296875 \nQ 58.015625 14.40625 51.78125 6.484375 \nQ 45.5625 -1.421875 35.59375 -1.421875 \nQ 29.59375 -1.421875 25.265625 0.953125 \nQ 20.953125 3.328125 18.109375 8.203125 \nz\nM 48.6875 27.296875 \nQ 48.6875 37.203125 44.609375 42.84375 \nQ 40.53125 48.484375 33.40625 48.484375 \nQ 26.265625 48.484375 22.1875 42.84375 \nQ 18.109375 37.203125 18.109375 27.296875 \nQ 18.109375 17.390625 22.1875 11.75 \nQ 26.265625 6.109375 33.40625 6.109375 \nQ 40.53125 6.109375 44.609375 11.75 \nQ 48.6875 17.390625 48.6875 27.296875 \nz\n\" id=\"DejaVuSans-112\"/>\n      <path d=\"M 30.609375 48.390625 \nQ 23.390625 48.390625 19.1875 42.75 \nQ 14.984375 37.109375 14.984375 27.296875 \nQ 14.984375 17.484375 19.15625 11.84375 \nQ 23.34375 6.203125 30.609375 6.203125 \nQ 37.796875 6.203125 41.984375 11.859375 \nQ 46.1875 17.53125 46.1875 27.296875 \nQ 46.1875 37.015625 41.984375 42.703125 \nQ 37.796875 48.390625 30.609375 48.390625 \nz\nM 30.609375 56 \nQ 42.328125 56 49.015625 48.375 \nQ 55.71875 40.765625 55.71875 27.296875 \nQ 55.71875 13.875 49.015625 6.21875 \nQ 42.328125 -1.421875 30.609375 -1.421875 \nQ 18.84375 -1.421875 12.171875 6.21875 \nQ 5.515625 13.875 5.515625 27.296875 \nQ 5.515625 40.765625 12.171875 48.375 \nQ 18.84375 56 30.609375 56 \nz\n\" id=\"DejaVuSans-111\"/>\n      <path d=\"M 48.78125 52.59375 \nL 48.78125 44.1875 \nQ 44.96875 46.296875 41.140625 47.34375 \nQ 37.3125 48.390625 33.40625 48.390625 \nQ 24.65625 48.390625 19.8125 42.84375 \nQ 14.984375 37.3125 14.984375 27.296875 \nQ 14.984375 17.28125 19.8125 11.734375 \nQ 24.65625 6.203125 33.40625 6.203125 \nQ 37.3125 6.203125 41.140625 7.25 \nQ 44.96875 8.296875 48.78125 10.40625 \nL 48.78125 2.09375 \nQ 45.015625 0.34375 40.984375 -0.53125 \nQ 36.96875 -1.421875 32.421875 -1.421875 \nQ 20.0625 -1.421875 12.78125 6.34375 \nQ 5.515625 14.109375 5.515625 27.296875 \nQ 5.515625 40.671875 12.859375 48.328125 \nQ 20.21875 56 33.015625 56 \nQ 37.15625 56 41.109375 55.140625 \nQ 45.0625 54.296875 48.78125 52.59375 \nz\n\" id=\"DejaVuSans-99\"/>\n      <path d=\"M 54.890625 33.015625 \nL 54.890625 0 \nL 45.90625 0 \nL 45.90625 32.71875 \nQ 45.90625 40.484375 42.875 44.328125 \nQ 39.84375 48.1875 33.796875 48.1875 \nQ 26.515625 48.1875 22.3125 43.546875 \nQ 18.109375 38.921875 18.109375 30.90625 \nL 18.109375 0 \nL 9.078125 0 \nL 9.078125 75.984375 \nL 18.109375 75.984375 \nL 18.109375 46.1875 \nQ 21.34375 51.125 25.703125 53.5625 \nQ 30.078125 56 35.796875 56 \nQ 45.21875 56 50.046875 50.171875 \nQ 54.890625 44.34375 54.890625 33.015625 \nz\n\" id=\"DejaVuSans-104\"/>\n     </defs>\n     <g transform=\"translate(297.929688 322.394687)scale(0.1 -0.1)\">\n      <use xlink:href=\"#DejaVuSans-69\"/>\n      <use x=\"63.183594\" xlink:href=\"#DejaVuSans-112\"/>\n      <use x=\"126.660156\" xlink:href=\"#DejaVuSans-111\"/>\n      <use x=\"187.841797\" xlink:href=\"#DejaVuSans-99\"/>\n      <use x=\"242.822266\" xlink:href=\"#DejaVuSans-104\"/>\n     </g>\n    </g>\n   </g>\n   <g id=\"matplotlib.axis_2\">\n    <g id=\"ytick_1\">\n     <g id=\"line2d_8\">\n      <defs>\n       <path d=\"M 0 0 \nL -3.5 0 \n\" id=\"m507dd4e223\" style=\"stroke:#000000;stroke-width:0.8;\"/>\n      </defs>\n      <g>\n       <use style=\"stroke:#000000;stroke-width:0.8;\" x=\"34.240625\" xlink:href=\"#m507dd4e223\" y=\"276.292703\"/>\n      </g>\n     </g>\n     <g id=\"text_9\">\n      <!-- 1 -->\n      <g transform=\"translate(20.878125 280.091922)scale(0.1 -0.1)\">\n       <use xlink:href=\"#DejaVuSans-49\"/>\n      </g>\n     </g>\n    </g>\n    <g id=\"ytick_2\">\n     <g id=\"line2d_9\">\n      <g>\n       <use style=\"stroke:#000000;stroke-width:0.8;\" x=\"34.240625\" xlink:href=\"#m507dd4e223\" y=\"243.913988\"/>\n      </g>\n     </g>\n     <g id=\"text_10\">\n      <!-- 2 -->\n      <g transform=\"translate(20.878125 247.713207)scale(0.1 -0.1)\">\n       <use xlink:href=\"#DejaVuSans-50\"/>\n      </g>\n     </g>\n    </g>\n    <g id=\"ytick_3\">\n     <g id=\"line2d_10\">\n      <g>\n       <use style=\"stroke:#000000;stroke-width:0.8;\" x=\"34.240625\" xlink:href=\"#m507dd4e223\" y=\"211.535273\"/>\n      </g>\n     </g>\n     <g id=\"text_11\">\n      <!-- 3 -->\n      <defs>\n       <path d=\"M 40.578125 39.3125 \nQ 47.65625 37.796875 51.625 33 \nQ 55.609375 28.21875 55.609375 21.1875 \nQ 55.609375 10.40625 48.1875 4.484375 \nQ 40.765625 -1.421875 27.09375 -1.421875 \nQ 22.515625 -1.421875 17.65625 -0.515625 \nQ 12.796875 0.390625 7.625 2.203125 \nL 7.625 11.71875 \nQ 11.71875 9.328125 16.59375 8.109375 \nQ 21.484375 6.890625 26.8125 6.890625 \nQ 36.078125 6.890625 40.9375 10.546875 \nQ 45.796875 14.203125 45.796875 21.1875 \nQ 45.796875 27.640625 41.28125 31.265625 \nQ 36.765625 34.90625 28.71875 34.90625 \nL 20.21875 34.90625 \nL 20.21875 43.015625 \nL 29.109375 43.015625 \nQ 36.375 43.015625 40.234375 45.921875 \nQ 44.09375 48.828125 44.09375 54.296875 \nQ 44.09375 59.90625 40.109375 62.90625 \nQ 36.140625 65.921875 28.71875 65.921875 \nQ 24.65625 65.921875 20.015625 65.03125 \nQ 15.375 64.15625 9.8125 62.3125 \nL 9.8125 71.09375 \nQ 15.4375 72.65625 20.34375 73.4375 \nQ 25.25 74.21875 29.59375 74.21875 \nQ 40.828125 74.21875 47.359375 69.109375 \nQ 53.90625 64.015625 53.90625 55.328125 \nQ 53.90625 49.265625 50.4375 45.09375 \nQ 46.96875 40.921875 40.578125 39.3125 \nz\n\" id=\"DejaVuSans-51\"/>\n      </defs>\n      <g transform=\"translate(20.878125 215.334492)scale(0.1 -0.1)\">\n       <use xlink:href=\"#DejaVuSans-51\"/>\n      </g>\n     </g>\n    </g>\n    <g id=\"ytick_4\">\n     <g id=\"line2d_11\">\n      <g>\n       <use style=\"stroke:#000000;stroke-width:0.8;\" x=\"34.240625\" xlink:href=\"#m507dd4e223\" y=\"179.156559\"/>\n      </g>\n     </g>\n     <g id=\"text_12\">\n      <!-- 4 -->\n      <g transform=\"translate(20.878125 182.955777)scale(0.1 -0.1)\">\n       <use xlink:href=\"#DejaVuSans-52\"/>\n      </g>\n     </g>\n    </g>\n    <g id=\"ytick_5\">\n     <g id=\"line2d_12\">\n      <g>\n       <use style=\"stroke:#000000;stroke-width:0.8;\" x=\"34.240625\" xlink:href=\"#m507dd4e223\" y=\"146.777844\"/>\n      </g>\n     </g>\n     <g id=\"text_13\">\n      <!-- 5 -->\n      <defs>\n       <path d=\"M 10.796875 72.90625 \nL 49.515625 72.90625 \nL 49.515625 64.59375 \nL 19.828125 64.59375 \nL 19.828125 46.734375 \nQ 21.96875 47.46875 24.109375 47.828125 \nQ 26.265625 48.1875 28.421875 48.1875 \nQ 40.625 48.1875 47.75 41.5 \nQ 54.890625 34.8125 54.890625 23.390625 \nQ 54.890625 11.625 47.5625 5.09375 \nQ 40.234375 -1.421875 26.90625 -1.421875 \nQ 22.3125 -1.421875 17.546875 -0.640625 \nQ 12.796875 0.140625 7.71875 1.703125 \nL 7.71875 11.625 \nQ 12.109375 9.234375 16.796875 8.0625 \nQ 21.484375 6.890625 26.703125 6.890625 \nQ 35.15625 6.890625 40.078125 11.328125 \nQ 45.015625 15.765625 45.015625 23.390625 \nQ 45.015625 31 40.078125 35.4375 \nQ 35.15625 39.890625 26.703125 39.890625 \nQ 22.75 39.890625 18.8125 39.015625 \nQ 14.890625 38.140625 10.796875 36.28125 \nz\n\" id=\"DejaVuSans-53\"/>\n      </defs>\n      <g transform=\"translate(20.878125 150.577063)scale(0.1 -0.1)\">\n       <use xlink:href=\"#DejaVuSans-53\"/>\n      </g>\n     </g>\n    </g>\n    <g id=\"ytick_6\">\n     <g id=\"line2d_13\">\n      <g>\n       <use style=\"stroke:#000000;stroke-width:0.8;\" x=\"34.240625\" xlink:href=\"#m507dd4e223\" y=\"114.399129\"/>\n      </g>\n     </g>\n     <g id=\"text_14\">\n      <!-- 6 -->\n      <g transform=\"translate(20.878125 118.198348)scale(0.1 -0.1)\">\n       <use xlink:href=\"#DejaVuSans-54\"/>\n      </g>\n     </g>\n    </g>\n    <g id=\"ytick_7\">\n     <g id=\"line2d_14\">\n      <g>\n       <use style=\"stroke:#000000;stroke-width:0.8;\" x=\"34.240625\" xlink:href=\"#m507dd4e223\" y=\"82.020414\"/>\n      </g>\n     </g>\n     <g id=\"text_15\">\n      <!-- 7 -->\n      <defs>\n       <path d=\"M 8.203125 72.90625 \nL 55.078125 72.90625 \nL 55.078125 68.703125 \nL 28.609375 0 \nL 18.3125 0 \nL 43.21875 64.59375 \nL 8.203125 64.59375 \nz\n\" id=\"DejaVuSans-55\"/>\n      </defs>\n      <g transform=\"translate(20.878125 85.819633)scale(0.1 -0.1)\">\n       <use xlink:href=\"#DejaVuSans-55\"/>\n      </g>\n     </g>\n    </g>\n    <g id=\"ytick_8\">\n     <g id=\"line2d_15\">\n      <g>\n       <use style=\"stroke:#000000;stroke-width:0.8;\" x=\"34.240625\" xlink:href=\"#m507dd4e223\" y=\"49.6417\"/>\n      </g>\n     </g>\n     <g id=\"text_16\">\n      <!-- 8 -->\n      <g transform=\"translate(20.878125 53.440918)scale(0.1 -0.1)\">\n       <use xlink:href=\"#DejaVuSans-56\"/>\n      </g>\n     </g>\n    </g>\n    <g id=\"text_17\">\n     <!-- Loss -->\n     <defs>\n      <path d=\"M 9.8125 72.90625 \nL 19.671875 72.90625 \nL 19.671875 8.296875 \nL 55.171875 8.296875 \nL 55.171875 0 \nL 9.8125 0 \nz\n\" id=\"DejaVuSans-76\"/>\n      <path d=\"M 44.28125 53.078125 \nL 44.28125 44.578125 \nQ 40.484375 46.53125 36.375 47.5 \nQ 32.28125 48.484375 27.875 48.484375 \nQ 21.1875 48.484375 17.84375 46.4375 \nQ 14.5 44.390625 14.5 40.28125 \nQ 14.5 37.15625 16.890625 35.375 \nQ 19.28125 33.59375 26.515625 31.984375 \nL 29.59375 31.296875 \nQ 39.15625 29.25 43.1875 25.515625 \nQ 47.21875 21.78125 47.21875 15.09375 \nQ 47.21875 7.46875 41.1875 3.015625 \nQ 35.15625 -1.421875 24.609375 -1.421875 \nQ 20.21875 -1.421875 15.453125 -0.5625 \nQ 10.6875 0.296875 5.421875 2 \nL 5.421875 11.28125 \nQ 10.40625 8.6875 15.234375 7.390625 \nQ 20.0625 6.109375 24.8125 6.109375 \nQ 31.15625 6.109375 34.5625 8.28125 \nQ 37.984375 10.453125 37.984375 14.40625 \nQ 37.984375 18.0625 35.515625 20.015625 \nQ 33.0625 21.96875 24.703125 23.78125 \nL 21.578125 24.515625 \nQ 13.234375 26.265625 9.515625 29.90625 \nQ 5.8125 33.546875 5.8125 39.890625 \nQ 5.8125 47.609375 11.28125 51.796875 \nQ 16.75 56 26.8125 56 \nQ 31.78125 56 36.171875 55.265625 \nQ 40.578125 54.546875 44.28125 53.078125 \nz\n\" id=\"DejaVuSans-115\"/>\n     </defs>\n     <g transform=\"translate(14.798438 169.185313)rotate(-90)scale(0.1 -0.1)\">\n      <use xlink:href=\"#DejaVuSans-76\"/>\n      <use x=\"53.962891\" xlink:href=\"#DejaVuSans-111\"/>\n      <use x=\"115.144531\" xlink:href=\"#DejaVuSans-115\"/>\n      <use x=\"167.244141\" xlink:href=\"#DejaVuSans-115\"/>\n     </g>\n    </g>\n   </g>\n   <g id=\"line2d_16\">\n    <path clip-path=\"url(#p712628fbdd)\" d=\"M 59.604261 256.29903 \nL 63.69517 265.621644 \nL 67.78608 267.730404 \nL 71.876989 268.199198 \nL 75.967898 269.622079 \nL 80.058807 270.142324 \nL 84.149716 270.564004 \nL 88.240625 270.970492 \nL 92.331534 272.282916 \nL 96.422443 272.717002 \nL 100.513352 274.316343 \nL 104.604261 276.290541 \nL 108.69517 276.878052 \nL 112.78608 277.175208 \nL 116.876989 276.28518 \nL 120.967898 274.163659 \nL 125.058807 272.001823 \nL 129.149716 271.061264 \nL 133.240625 271.296193 \nL 137.331534 271.569505 \nL 141.422443 270.899397 \nL 145.513352 274.331709 \nL 149.604261 273.827969 \nL 153.69517 273.100222 \nL 157.78608 273.471929 \nL 161.876989 271.157783 \nL 165.967898 273.80894 \nL 170.058807 271.727153 \nL 174.149716 259.750907 \nL 178.240625 211.125952 \nL 182.331534 171.702846 \nL 186.422443 158.579115 \nL 190.513352 150.306111 \nL 194.604261 144.483167 \nL 198.69517 141.060288 \nL 202.78608 136.415708 \nL 206.876989 129.331799 \nL 210.967898 118.506728 \nL 215.058807 106.469081 \nL 219.149716 101.807949 \nL 223.240625 93.406752 \nL 227.331534 93.585834 \nL 231.422443 85.198316 \nL 235.513352 77.988792 \nL 239.604261 108.459154 \nL 243.69517 178.531171 \nL 247.78608 163.628377 \nL 251.876989 133.476638 \nL 255.967898 131.718155 \nL 260.058807 130.842526 \nL 264.149716 115.286507 \nL 268.240625 125.598434 \nL 272.331534 128.813684 \nL 276.422443 120.494378 \nL 280.513352 122.198684 \nL 284.604261 128.581538 \nL 288.69517 137.424887 \nL 292.78608 151.233755 \nL 296.876989 170.872871 \nL 300.967898 167.616259 \nL 305.058807 170.106816 \nL 309.149716 173.906044 \nL 313.240625 171.522436 \nL 317.331534 170.37665 \nL 321.422443 166.682795 \nL 325.513352 170.48874 \nL 329.604261 168.062504 \nL 333.69517 171.802846 \nL 337.78608 175.550106 \nL 341.876989 176.812985 \nL 345.967898 176.882972 \nL 350.058807 176.908014 \nL 354.149716 179.388566 \nL 358.240625 179.425721 \nL 362.331534 180.6755 \nL 366.422443 179.460336 \nL 370.513352 180.683019 \nL 374.604261 180.704788 \nL 378.69517 179.497576 \nL 382.78608 183.196541 \nL 386.876989 170.105086 \nL 390.967898 164.384042 \nL 395.058807 172.034823 \nL 399.149716 175.832539 \nL 403.240625 174.658251 \nL 407.331534 178.376438 \nL 411.422443 179.628911 \nL 415.513352 179.637094 \nL 419.604261 178.416704 \nL 423.69517 178.421629 \nL 427.78608 178.422061 \nL 431.876989 178.425273 \nL 435.967898 178.426832 \nL 440.058807 178.427866 \nL 444.149716 178.431448 \nL 448.240625 178.432128 \nL 452.331534 178.433718 \nL 456.422443 178.436466 \nL 460.513352 178.437053 \nL 464.604261 178.440403 \nL 468.69517 178.440944 \nL 472.78608 178.44346 \nL 476.876989 178.446008 \nL 480.967898 178.446533 \nL 485.058807 178.448771 \nL 489.149716 178.45101 \nL 493.240625 178.452029 \nL 497.331534 178.45453 \nL 501.422443 178.457031 \nL 505.513352 178.458822 \nL 509.604261 178.458637 \nL 513.69517 178.461185 \nL 517.78608 178.46086 \nL 521.876989 178.462126 \nL 525.967898 178.463887 \nL 530.058807 177.235267 \nL 534.149716 177.236811 \nL 538.240625 177.238371 \nL 542.331534 177.239915 \nL 546.422443 177.231068 \nL 550.513352 182.123134 \nL 554.604261 178.470001 \nL 558.69517 178.468827 \nL 562.78608 178.469846 \nL 566.876989 178.472316 \n\" style=\"fill:none;stroke:#1f77b4;stroke-linecap:square;stroke-width:1.5;\"/>\n   </g>\n   <g id=\"line2d_17\">\n    <path clip-path=\"url(#p712628fbdd)\" d=\"M 59.604261 266.881385 \nL 63.69517 268.067739 \nL 67.78608 268.766209 \nL 71.876989 269.414303 \nL 75.967898 269.99294 \nL 80.058807 270.497001 \nL 84.149716 271.03167 \nL 88.240625 271.535276 \nL 92.331534 272.047477 \nL 96.422443 272.479123 \nL 100.513352 278.323965 \nL 104.604261 279.16443 \nL 108.69517 279.710731 \nL 112.78608 280.266925 \nL 116.876989 280.714893 \nL 120.967898 281.051348 \nL 125.058807 281.427777 \nL 129.149716 281.76358 \nL 133.240625 268.077049 \nL 137.331534 261.505526 \nL 141.422443 254.401349 \nL 145.513352 254.387616 \nL 149.604261 254.531318 \nL 153.69517 254.70322 \nL 157.78608 240.968843 \nL 161.876989 255.245435 \nL 165.967898 241.519858 \nL 170.058807 234.677444 \nL 174.149716 253.996108 \nL 178.240625 202.110562 \nL 182.331534 191.796404 \nL 186.422443 178.129809 \nL 190.513352 171.591111 \nL 194.604261 143.941183 \nL 198.69517 137.16407 \nL 202.78608 130.549255 \nL 206.876989 96.174229 \nL 210.967898 89.369016 \nL 215.058807 82.504547 \nL 219.149716 61.926408 \nL 223.240625 62.032539 \nL 227.331534 41.412266 \nL 231.422443 34.67267 \nL 235.513352 34.780962 \nL 239.604261 163.620781 \nL 243.69517 143.664587 \nL 247.78608 110.860996 \nL 251.876989 83.447229 \nL 255.967898 83.696683 \nL 260.058807 83.912988 \nL 264.149716 76.061974 \nL 268.240625 76.560017 \nL 272.331534 77.066274 \nL 276.422443 70.255905 \nL 280.513352 69.811575 \nL 284.604261 77.81405 \nL 288.69517 106.006193 \nL 292.78608 98.647787 \nL 296.876989 126.930513 \nL 300.967898 120.22388 \nL 305.058807 127.17989 \nL 309.149716 134.093286 \nL 313.240625 120.286487 \nL 317.331534 127.164574 \nL 321.422443 134.03613 \nL 325.513352 120.396307 \nL 329.604261 134.266393 \nL 333.69517 134.325788 \nL 337.78608 148.209908 \nL 341.876989 148.313074 \nL 345.967898 148.314957 \nL 350.058807 148.344709 \nL 354.149716 148.348414 \nL 358.240625 162.275239 \nL 362.331534 155.371214 \nL 366.422443 155.396535 \nL 370.513352 148.379432 \nL 374.604261 148.415915 \nL 378.69517 162.381107 \nL 382.78608 148.45422 \nL 386.876989 175.892675 \nL 390.967898 176.002943 \nL 395.058807 176.245959 \nL 399.149716 176.309399 \nL 403.240625 176.368841 \nL 407.331534 176.423048 \nL 411.422443 176.449712 \nL 415.513352 176.460782 \nL 419.604261 176.460967 \nL 423.69517 176.460967 \nL 427.78608 176.460967 \nL 431.876989 176.460967 \nL 435.967898 176.460967 \nL 440.058807 176.460967 \nL 444.149716 176.460967 \nL 448.240625 176.460967 \nL 452.331534 176.460967 \nL 456.422443 176.460967 \nL 460.513352 176.460967 \nL 464.604261 176.460967 \nL 468.69517 176.460967 \nL 472.78608 176.460967 \nL 476.876989 176.460967 \nL 480.967898 176.460967 \nL 485.058807 176.460967 \nL 489.149716 176.460967 \nL 493.240625 176.460967 \nL 497.331534 176.460967 \nL 501.422443 176.460967 \nL 505.513352 176.460967 \nL 509.604261 176.460967 \nL 513.69517 176.460967 \nL 517.78608 176.457632 \nL 521.876989 176.460967 \nL 525.967898 176.460967 \nL 530.058807 176.426182 \nL 534.149716 176.426599 \nL 538.240625 176.427093 \nL 542.331534 176.427711 \nL 546.422443 169.502519 \nL 550.513352 176.460967 \nL 554.604261 176.460967 \nL 558.69517 176.460967 \nL 562.78608 176.460967 \nL 566.876989 176.460967 \n\" style=\"fill:none;stroke:#ff7f0e;stroke-linecap:square;stroke-width:1.5;\"/>\n   </g>\n   <g id=\"patch_3\">\n    <path d=\"M 34.240625 294.118125 \nL 34.240625 22.318125 \n\" style=\"fill:none;stroke:#000000;stroke-linecap:square;stroke-linejoin:miter;stroke-width:0.8;\"/>\n   </g>\n   <g id=\"patch_4\">\n    <path d=\"M 592.240625 294.118125 \nL 592.240625 22.318125 \n\" style=\"fill:none;stroke:#000000;stroke-linecap:square;stroke-linejoin:miter;stroke-width:0.8;\"/>\n   </g>\n   <g id=\"patch_5\">\n    <path d=\"M 34.240625 294.118125 \nL 592.240625 294.118125 \n\" style=\"fill:none;stroke:#000000;stroke-linecap:square;stroke-linejoin:miter;stroke-width:0.8;\"/>\n   </g>\n   <g id=\"patch_6\">\n    <path d=\"M 34.240625 22.318125 \nL 592.240625 22.318125 \n\" style=\"fill:none;stroke:#000000;stroke-linecap:square;stroke-linejoin:miter;stroke-width:0.8;\"/>\n   </g>\n   <g id=\"text_18\">\n    <!-- Loss vs. epochs, batch=1 -->\n    <defs>\n     <path id=\"DejaVuSans-32\"/>\n     <path d=\"M 2.984375 54.6875 \nL 12.5 54.6875 \nL 29.59375 8.796875 \nL 46.6875 54.6875 \nL 56.203125 54.6875 \nL 35.6875 0 \nL 23.484375 0 \nz\n\" id=\"DejaVuSans-118\"/>\n     <path d=\"M 10.6875 12.40625 \nL 21 12.40625 \nL 21 0 \nL 10.6875 0 \nz\n\" id=\"DejaVuSans-46\"/>\n     <path d=\"M 56.203125 29.59375 \nL 56.203125 25.203125 \nL 14.890625 25.203125 \nQ 15.484375 15.921875 20.484375 11.0625 \nQ 25.484375 6.203125 34.421875 6.203125 \nQ 39.59375 6.203125 44.453125 7.46875 \nQ 49.3125 8.734375 54.109375 11.28125 \nL 54.109375 2.78125 \nQ 49.265625 0.734375 44.1875 -0.34375 \nQ 39.109375 -1.421875 33.890625 -1.421875 \nQ 20.796875 -1.421875 13.15625 6.1875 \nQ 5.515625 13.8125 5.515625 26.8125 \nQ 5.515625 40.234375 12.765625 48.109375 \nQ 20.015625 56 32.328125 56 \nQ 43.359375 56 49.78125 48.890625 \nQ 56.203125 41.796875 56.203125 29.59375 \nz\nM 47.21875 32.234375 \nQ 47.125 39.59375 43.09375 43.984375 \nQ 39.0625 48.390625 32.421875 48.390625 \nQ 24.90625 48.390625 20.390625 44.140625 \nQ 15.875 39.890625 15.1875 32.171875 \nz\n\" id=\"DejaVuSans-101\"/>\n     <path d=\"M 11.71875 12.40625 \nL 22.015625 12.40625 \nL 22.015625 4 \nL 14.015625 -11.625 \nL 7.71875 -11.625 \nL 11.71875 4 \nz\n\" id=\"DejaVuSans-44\"/>\n     <path d=\"M 48.6875 27.296875 \nQ 48.6875 37.203125 44.609375 42.84375 \nQ 40.53125 48.484375 33.40625 48.484375 \nQ 26.265625 48.484375 22.1875 42.84375 \nQ 18.109375 37.203125 18.109375 27.296875 \nQ 18.109375 17.390625 22.1875 11.75 \nQ 26.265625 6.109375 33.40625 6.109375 \nQ 40.53125 6.109375 44.609375 11.75 \nQ 48.6875 17.390625 48.6875 27.296875 \nz\nM 18.109375 46.390625 \nQ 20.953125 51.265625 25.265625 53.625 \nQ 29.59375 56 35.59375 56 \nQ 45.5625 56 51.78125 48.09375 \nQ 58.015625 40.1875 58.015625 27.296875 \nQ 58.015625 14.40625 51.78125 6.484375 \nQ 45.5625 -1.421875 35.59375 -1.421875 \nQ 29.59375 -1.421875 25.265625 0.953125 \nQ 20.953125 3.328125 18.109375 8.203125 \nL 18.109375 0 \nL 9.078125 0 \nL 9.078125 75.984375 \nL 18.109375 75.984375 \nz\n\" id=\"DejaVuSans-98\"/>\n     <path d=\"M 34.28125 27.484375 \nQ 23.390625 27.484375 19.1875 25 \nQ 14.984375 22.515625 14.984375 16.5 \nQ 14.984375 11.71875 18.140625 8.90625 \nQ 21.296875 6.109375 26.703125 6.109375 \nQ 34.1875 6.109375 38.703125 11.40625 \nQ 43.21875 16.703125 43.21875 25.484375 \nL 43.21875 27.484375 \nz\nM 52.203125 31.203125 \nL 52.203125 0 \nL 43.21875 0 \nL 43.21875 8.296875 \nQ 40.140625 3.328125 35.546875 0.953125 \nQ 30.953125 -1.421875 24.3125 -1.421875 \nQ 15.921875 -1.421875 10.953125 3.296875 \nQ 6 8.015625 6 15.921875 \nQ 6 25.140625 12.171875 29.828125 \nQ 18.359375 34.515625 30.609375 34.515625 \nL 43.21875 34.515625 \nL 43.21875 35.40625 \nQ 43.21875 41.609375 39.140625 45 \nQ 35.0625 48.390625 27.6875 48.390625 \nQ 23 48.390625 18.546875 47.265625 \nQ 14.109375 46.140625 10.015625 43.890625 \nL 10.015625 52.203125 \nQ 14.9375 54.109375 19.578125 55.046875 \nQ 24.21875 56 28.609375 56 \nQ 40.484375 56 46.34375 49.84375 \nQ 52.203125 43.703125 52.203125 31.203125 \nz\n\" id=\"DejaVuSans-97\"/>\n     <path d=\"M 18.3125 70.21875 \nL 18.3125 54.6875 \nL 36.8125 54.6875 \nL 36.8125 47.703125 \nL 18.3125 47.703125 \nL 18.3125 18.015625 \nQ 18.3125 11.328125 20.140625 9.421875 \nQ 21.96875 7.515625 27.59375 7.515625 \nL 36.8125 7.515625 \nL 36.8125 0 \nL 27.59375 0 \nQ 17.1875 0 13.234375 3.875 \nQ 9.28125 7.765625 9.28125 18.015625 \nL 9.28125 47.703125 \nL 2.6875 47.703125 \nL 2.6875 54.6875 \nL 9.28125 54.6875 \nL 9.28125 70.21875 \nz\n\" id=\"DejaVuSans-116\"/>\n     <path d=\"M 10.59375 45.40625 \nL 73.1875 45.40625 \nL 73.1875 37.203125 \nL 10.59375 37.203125 \nz\nM 10.59375 25.484375 \nL 73.1875 25.484375 \nL 73.1875 17.1875 \nL 10.59375 17.1875 \nz\n\" id=\"DejaVuSans-61\"/>\n    </defs>\n    <g transform=\"translate(236.684375 16.318125)scale(0.12 -0.12)\">\n     <use xlink:href=\"#DejaVuSans-76\"/>\n     <use x=\"53.962891\" xlink:href=\"#DejaVuSans-111\"/>\n     <use x=\"115.144531\" xlink:href=\"#DejaVuSans-115\"/>\n     <use x=\"167.244141\" xlink:href=\"#DejaVuSans-115\"/>\n     <use x=\"219.34375\" xlink:href=\"#DejaVuSans-32\"/>\n     <use x=\"251.130859\" xlink:href=\"#DejaVuSans-118\"/>\n     <use x=\"310.310547\" xlink:href=\"#DejaVuSans-115\"/>\n     <use x=\"362.410156\" xlink:href=\"#DejaVuSans-46\"/>\n     <use x=\"394.197266\" xlink:href=\"#DejaVuSans-32\"/>\n     <use x=\"425.984375\" xlink:href=\"#DejaVuSans-101\"/>\n     <use x=\"487.507812\" xlink:href=\"#DejaVuSans-112\"/>\n     <use x=\"550.984375\" xlink:href=\"#DejaVuSans-111\"/>\n     <use x=\"612.166016\" xlink:href=\"#DejaVuSans-99\"/>\n     <use x=\"667.146484\" xlink:href=\"#DejaVuSans-104\"/>\n     <use x=\"730.525391\" xlink:href=\"#DejaVuSans-115\"/>\n     <use x=\"782.625\" xlink:href=\"#DejaVuSans-44\"/>\n     <use x=\"814.412109\" xlink:href=\"#DejaVuSans-32\"/>\n     <use x=\"846.199219\" xlink:href=\"#DejaVuSans-98\"/>\n     <use x=\"909.675781\" xlink:href=\"#DejaVuSans-97\"/>\n     <use x=\"970.955078\" xlink:href=\"#DejaVuSans-116\"/>\n     <use x=\"1010.164062\" xlink:href=\"#DejaVuSans-99\"/>\n     <use x=\"1065.144531\" xlink:href=\"#DejaVuSans-104\"/>\n     <use x=\"1128.523438\" xlink:href=\"#DejaVuSans-61\"/>\n     <use x=\"1212.3125\" xlink:href=\"#DejaVuSans-49\"/>\n    </g>\n   </g>\n   <g id=\"legend_1\">\n    <g id=\"patch_7\">\n     <path d=\"M 503.859375 59.674375 \nL 585.240625 59.674375 \nQ 587.240625 59.674375 587.240625 57.674375 \nL 587.240625 29.318125 \nQ 587.240625 27.318125 585.240625 27.318125 \nL 503.859375 27.318125 \nQ 501.859375 27.318125 501.859375 29.318125 \nL 501.859375 57.674375 \nQ 501.859375 59.674375 503.859375 59.674375 \nz\n\" style=\"fill:#ffffff;opacity:0.8;stroke:#cccccc;stroke-linejoin:miter;\"/>\n    </g>\n    <g id=\"line2d_18\">\n     <path d=\"M 505.859375 35.416562 \nL 525.859375 35.416562 \n\" style=\"fill:none;stroke:#1f77b4;stroke-linecap:square;stroke-width:1.5;\"/>\n    </g>\n    <g id=\"line2d_19\"/>\n    <g id=\"text_19\">\n     <!-- Training -->\n     <defs>\n      <path d=\"M -0.296875 72.90625 \nL 61.375 72.90625 \nL 61.375 64.59375 \nL 35.5 64.59375 \nL 35.5 0 \nL 25.59375 0 \nL 25.59375 64.59375 \nL -0.296875 64.59375 \nz\n\" id=\"DejaVuSans-84\"/>\n      <path d=\"M 41.109375 46.296875 \nQ 39.59375 47.171875 37.8125 47.578125 \nQ 36.03125 48 33.890625 48 \nQ 26.265625 48 22.1875 43.046875 \nQ 18.109375 38.09375 18.109375 28.8125 \nL 18.109375 0 \nL 9.078125 0 \nL 9.078125 54.6875 \nL 18.109375 54.6875 \nL 18.109375 46.1875 \nQ 20.953125 51.171875 25.484375 53.578125 \nQ 30.03125 56 36.53125 56 \nQ 37.453125 56 38.578125 55.875 \nQ 39.703125 55.765625 41.0625 55.515625 \nz\n\" id=\"DejaVuSans-114\"/>\n      <path d=\"M 9.421875 54.6875 \nL 18.40625 54.6875 \nL 18.40625 0 \nL 9.421875 0 \nz\nM 9.421875 75.984375 \nL 18.40625 75.984375 \nL 18.40625 64.59375 \nL 9.421875 64.59375 \nz\n\" id=\"DejaVuSans-105\"/>\n      <path d=\"M 54.890625 33.015625 \nL 54.890625 0 \nL 45.90625 0 \nL 45.90625 32.71875 \nQ 45.90625 40.484375 42.875 44.328125 \nQ 39.84375 48.1875 33.796875 48.1875 \nQ 26.515625 48.1875 22.3125 43.546875 \nQ 18.109375 38.921875 18.109375 30.90625 \nL 18.109375 0 \nL 9.078125 0 \nL 9.078125 54.6875 \nL 18.109375 54.6875 \nL 18.109375 46.1875 \nQ 21.34375 51.125 25.703125 53.5625 \nQ 30.078125 56 35.796875 56 \nQ 45.21875 56 50.046875 50.171875 \nQ 54.890625 44.34375 54.890625 33.015625 \nz\n\" id=\"DejaVuSans-110\"/>\n      <path d=\"M 45.40625 27.984375 \nQ 45.40625 37.75 41.375 43.109375 \nQ 37.359375 48.484375 30.078125 48.484375 \nQ 22.859375 48.484375 18.828125 43.109375 \nQ 14.796875 37.75 14.796875 27.984375 \nQ 14.796875 18.265625 18.828125 12.890625 \nQ 22.859375 7.515625 30.078125 7.515625 \nQ 37.359375 7.515625 41.375 12.890625 \nQ 45.40625 18.265625 45.40625 27.984375 \nz\nM 54.390625 6.78125 \nQ 54.390625 -7.171875 48.1875 -13.984375 \nQ 42 -20.796875 29.203125 -20.796875 \nQ 24.46875 -20.796875 20.265625 -20.09375 \nQ 16.0625 -19.390625 12.109375 -17.921875 \nL 12.109375 -9.1875 \nQ 16.0625 -11.328125 19.921875 -12.34375 \nQ 23.78125 -13.375 27.78125 -13.375 \nQ 36.625 -13.375 41.015625 -8.765625 \nQ 45.40625 -4.15625 45.40625 5.171875 \nL 45.40625 9.625 \nQ 42.625 4.78125 38.28125 2.390625 \nQ 33.9375 0 27.875 0 \nQ 17.828125 0 11.671875 7.65625 \nQ 5.515625 15.328125 5.515625 27.984375 \nQ 5.515625 40.671875 11.671875 48.328125 \nQ 17.828125 56 27.875 56 \nQ 33.9375 56 38.28125 53.609375 \nQ 42.625 51.21875 45.40625 46.390625 \nL 45.40625 54.6875 \nL 54.390625 54.6875 \nz\n\" id=\"DejaVuSans-103\"/>\n     </defs>\n     <g transform=\"translate(533.859375 38.916562)scale(0.1 -0.1)\">\n      <use xlink:href=\"#DejaVuSans-84\"/>\n      <use x=\"46.333984\" xlink:href=\"#DejaVuSans-114\"/>\n      <use x=\"87.447266\" xlink:href=\"#DejaVuSans-97\"/>\n      <use x=\"148.726562\" xlink:href=\"#DejaVuSans-105\"/>\n      <use x=\"176.509766\" xlink:href=\"#DejaVuSans-110\"/>\n      <use x=\"239.888672\" xlink:href=\"#DejaVuSans-105\"/>\n      <use x=\"267.671875\" xlink:href=\"#DejaVuSans-110\"/>\n      <use x=\"331.050781\" xlink:href=\"#DejaVuSans-103\"/>\n     </g>\n    </g>\n    <g id=\"line2d_20\">\n     <path d=\"M 505.859375 50.094688 \nL 525.859375 50.094688 \n\" style=\"fill:none;stroke:#ff7f0e;stroke-linecap:square;stroke-width:1.5;\"/>\n    </g>\n    <g id=\"line2d_21\"/>\n    <g id=\"text_20\">\n     <!-- Validation -->\n     <defs>\n      <path d=\"M 28.609375 0 \nL 0.78125 72.90625 \nL 11.078125 72.90625 \nL 34.1875 11.53125 \nL 57.328125 72.90625 \nL 67.578125 72.90625 \nL 39.796875 0 \nz\n\" id=\"DejaVuSans-86\"/>\n      <path d=\"M 9.421875 75.984375 \nL 18.40625 75.984375 \nL 18.40625 0 \nL 9.421875 0 \nz\n\" id=\"DejaVuSans-108\"/>\n      <path d=\"M 45.40625 46.390625 \nL 45.40625 75.984375 \nL 54.390625 75.984375 \nL 54.390625 0 \nL 45.40625 0 \nL 45.40625 8.203125 \nQ 42.578125 3.328125 38.25 0.953125 \nQ 33.9375 -1.421875 27.875 -1.421875 \nQ 17.96875 -1.421875 11.734375 6.484375 \nQ 5.515625 14.40625 5.515625 27.296875 \nQ 5.515625 40.1875 11.734375 48.09375 \nQ 17.96875 56 27.875 56 \nQ 33.9375 56 38.25 53.625 \nQ 42.578125 51.265625 45.40625 46.390625 \nz\nM 14.796875 27.296875 \nQ 14.796875 17.390625 18.875 11.75 \nQ 22.953125 6.109375 30.078125 6.109375 \nQ 37.203125 6.109375 41.296875 11.75 \nQ 45.40625 17.390625 45.40625 27.296875 \nQ 45.40625 37.203125 41.296875 42.84375 \nQ 37.203125 48.484375 30.078125 48.484375 \nQ 22.953125 48.484375 18.875 42.84375 \nQ 14.796875 37.203125 14.796875 27.296875 \nz\n\" id=\"DejaVuSans-100\"/>\n     </defs>\n     <g transform=\"translate(533.859375 53.594688)scale(0.1 -0.1)\">\n      <use xlink:href=\"#DejaVuSans-86\"/>\n      <use x=\"60.658203\" xlink:href=\"#DejaVuSans-97\"/>\n      <use x=\"121.9375\" xlink:href=\"#DejaVuSans-108\"/>\n      <use x=\"149.720703\" xlink:href=\"#DejaVuSans-105\"/>\n      <use x=\"177.503906\" xlink:href=\"#DejaVuSans-100\"/>\n      <use x=\"240.980469\" xlink:href=\"#DejaVuSans-97\"/>\n      <use x=\"302.259766\" xlink:href=\"#DejaVuSans-116\"/>\n      <use x=\"341.46875\" xlink:href=\"#DejaVuSans-105\"/>\n      <use x=\"369.251953\" xlink:href=\"#DejaVuSans-111\"/>\n      <use x=\"430.433594\" xlink:href=\"#DejaVuSans-110\"/>\n     </g>\n    </g>\n   </g>\n  </g>\n </g>\n <defs>\n  <clipPath id=\"p712628fbdd\">\n   <rect height=\"271.8\" width=\"558\" x=\"34.240625\" y=\"22.318125\"/>\n  </clipPath>\n </defs>\n</svg>\n"
          },
          "metadata": {
            "needs_background": "light"
          }
        }
      ],
      "source": [
        "#@title\n",
        "def build_model():\n",
        "    \n",
        "    ##### YOUR CODE HERE\n",
        "    # define model\n",
        "    model=tf.keras.Sequential()\n",
        "    model.add(Dense(50, activation=\"relu\",kernel_initializer=tf.keras.initializers.HeUniform()))\n",
        "    model.add(Dense(3)) \n",
        "  \n",
        "\n",
        "   \n",
        "    # compile model\n",
        "    model.compile(optimizer=tf.keras.optimizers.SGD(learning_rate=.00001,momentum=.9), ## changing learning rate\n",
        "              loss=tf.keras.losses.CategoricalCrossentropy(),\n",
        "              metrics=['accuracy']\n",
        "                       )\n",
        "  \n",
        "\n",
        "    \n",
        "    return model\n",
        "\n",
        "\n",
        "\n",
        "batch_size=1 ## same batch size\n",
        "history=fit_model(X_train, y_train, X_test, y_test,batch_size)\n",
        "\n",
        "\n",
        "\n",
        "\n",
        "\n",
        "\n",
        "plt.figure(figsize=(10,5))\n",
        "plt.plot(history.history['loss'])\n",
        "plt.plot(history.history['val_loss'])\n",
        "plt.title('Loss vs. epochs, batch=' +str(batch_size))\n",
        "plt.ylabel('Loss')\n",
        "plt.xlabel('Epoch')\n",
        "plt.legend(['Training', 'Validation'], loc='upper right')\n",
        "plt.show()\n",
        "\n",
        "### Your answer"
      ]
    },
    {
      "cell_type": "markdown",
      "id": "ca24463c-6d6d-4dce-b365-1e0a10cbb6b9",
      "metadata": {
        "tags": [],
        "id": "ca24463c-6d6d-4dce-b365-1e0a10cbb6b9"
      },
      "source": [
        "##### Size =  16"
      ]
    },
    {
      "cell_type": "markdown",
      "id": "c9d3f83a-edf8-4f61-a0fe-db3261ace6ab",
      "metadata": {
        "id": "c9d3f83a-edf8-4f61-a0fe-db3261ace6ab"
      },
      "source": [
        "10. **Retrain for 16 batch size**"
      ]
    },
    {
      "cell_type": "code",
      "source": [
        "\n",
        "def build_model(): #we will set the learning rate back to .01\n",
        "\n",
        "    \n",
        "    ##### YOUR CODE HERE\n",
        "    # define model\n",
        "    model=tf.keras.Sequential()\n",
        "    model.add(Dense(50, activation=\"relu\",kernel_initializer=tf.keras.initializers.HeUniform()))\n",
        "    model.add(Dense(3)) \n",
        "  \n",
        "   \n",
        "    # compile model\n",
        "    model.compile(optimizer=tf.keras.optimizers.SGD(learning_rate=.01,momentum=.9),\n",
        "              loss=tf.keras.losses.CategoricalCrossentropy(),\n",
        "              metrics=['accuracy']\n",
        "                       )\n",
        "  \n",
        "\n",
        "    \n",
        "    return model"
      ],
      "metadata": {
        "id": "oQcR_oBvC69_"
      },
      "id": "oQcR_oBvC69_",
      "execution_count": 194,
      "outputs": []
    },
    {
      "cell_type": "code",
      "execution_count": 195,
      "id": "589fd6d3-6c4d-48ed-b5db-9e3d931725d0",
      "metadata": {
        "id": "589fd6d3-6c4d-48ed-b5db-9e3d931725d0",
        "colab": {
          "base_uri": "https://localhost:8080/"
        },
        "outputId": "7c064e03-66fd-4da9-f462-919e751b3bd2"
      },
      "outputs": [
        {
          "output_type": "stream",
          "name": "stdout",
          "text": [
            "Epoch 1/125\n",
            "27/27 [==============================] - 1s 8ms/step - loss: 1.8607 - accuracy: 0.2071 - val_loss: 1.8415 - val_accuracy: 0.1067\n",
            "Epoch 2/125\n",
            "27/27 [==============================] - 0s 3ms/step - loss: 2.0615 - accuracy: 0.1647 - val_loss: 1.8645 - val_accuracy: 0.1200\n",
            "Epoch 3/125\n",
            "27/27 [==============================] - 0s 4ms/step - loss: 3.9573 - accuracy: 0.2094 - val_loss: 2.0192 - val_accuracy: 0.2267\n",
            "Epoch 4/125\n",
            "27/27 [==============================] - 0s 3ms/step - loss: 3.2368 - accuracy: 0.3341 - val_loss: 2.7153 - val_accuracy: 0.4133\n",
            "Epoch 5/125\n",
            "27/27 [==============================] - 0s 4ms/step - loss: 2.7604 - accuracy: 0.2988 - val_loss: 2.4807 - val_accuracy: 0.0933\n",
            "Epoch 6/125\n",
            "27/27 [==============================] - 0s 3ms/step - loss: 2.5644 - accuracy: 0.1812 - val_loss: 2.3630 - val_accuracy: 0.1067\n",
            "Epoch 7/125\n",
            "27/27 [==============================] - 0s 3ms/step - loss: 2.4415 - accuracy: 0.2047 - val_loss: 2.2818 - val_accuracy: 0.1200\n",
            "Epoch 8/125\n",
            "27/27 [==============================] - 0s 3ms/step - loss: 2.3339 - accuracy: 0.2306 - val_loss: 2.2192 - val_accuracy: 0.1333\n",
            "Epoch 9/125\n",
            "27/27 [==============================] - 0s 3ms/step - loss: 2.2757 - accuracy: 0.2329 - val_loss: 2.1701 - val_accuracy: 0.1333\n",
            "Epoch 10/125\n",
            "27/27 [==============================] - 0s 4ms/step - loss: 2.2279 - accuracy: 0.2353 - val_loss: 2.1291 - val_accuracy: 0.1333\n",
            "Epoch 11/125\n",
            "27/27 [==============================] - 0s 3ms/step - loss: 2.1880 - accuracy: 0.2353 - val_loss: 2.0916 - val_accuracy: 0.1333\n",
            "Epoch 12/125\n",
            "27/27 [==============================] - 0s 3ms/step - loss: 2.1523 - accuracy: 0.2400 - val_loss: 2.0600 - val_accuracy: 0.1333\n",
            "Epoch 13/125\n",
            "27/27 [==============================] - 0s 3ms/step - loss: 2.1212 - accuracy: 0.2447 - val_loss: 2.0316 - val_accuracy: 0.1333\n",
            "Epoch 14/125\n",
            "27/27 [==============================] - 0s 3ms/step - loss: 2.0932 - accuracy: 0.2447 - val_loss: 2.0055 - val_accuracy: 0.1333\n",
            "Epoch 15/125\n",
            "27/27 [==============================] - 0s 4ms/step - loss: 2.0676 - accuracy: 0.2471 - val_loss: 1.9819 - val_accuracy: 0.1333\n",
            "Epoch 16/125\n",
            "27/27 [==============================] - 0s 3ms/step - loss: 2.0444 - accuracy: 0.2494 - val_loss: 1.9604 - val_accuracy: 0.1333\n",
            "Epoch 17/125\n",
            "27/27 [==============================] - 0s 3ms/step - loss: 2.0231 - accuracy: 0.2494 - val_loss: 1.9405 - val_accuracy: 0.1333\n",
            "Epoch 18/125\n",
            "27/27 [==============================] - 0s 3ms/step - loss: 2.0032 - accuracy: 0.2494 - val_loss: 1.9218 - val_accuracy: 0.1333\n",
            "Epoch 19/125\n",
            "27/27 [==============================] - 0s 3ms/step - loss: 1.9846 - accuracy: 0.2494 - val_loss: 1.9042 - val_accuracy: 0.1333\n",
            "Epoch 20/125\n",
            "27/27 [==============================] - 0s 3ms/step - loss: 1.9672 - accuracy: 0.2494 - val_loss: 1.8876 - val_accuracy: 0.1333\n",
            "Epoch 21/125\n",
            "27/27 [==============================] - 0s 3ms/step - loss: 1.9507 - accuracy: 0.2494 - val_loss: 1.8722 - val_accuracy: 0.1333\n",
            "Epoch 22/125\n",
            "27/27 [==============================] - 0s 4ms/step - loss: 1.9355 - accuracy: 0.2494 - val_loss: 1.8575 - val_accuracy: 0.1333\n",
            "Epoch 23/125\n",
            "27/27 [==============================] - 0s 4ms/step - loss: 1.9209 - accuracy: 0.2518 - val_loss: 1.8437 - val_accuracy: 0.1333\n",
            "Epoch 24/125\n",
            "27/27 [==============================] - 0s 5ms/step - loss: 1.9071 - accuracy: 0.2518 - val_loss: 1.8308 - val_accuracy: 0.1333\n",
            "Epoch 25/125\n",
            "27/27 [==============================] - 0s 3ms/step - loss: 1.8940 - accuracy: 0.2541 - val_loss: 1.8181 - val_accuracy: 0.1333\n",
            "Epoch 26/125\n",
            "27/27 [==============================] - 0s 3ms/step - loss: 1.8813 - accuracy: 0.2541 - val_loss: 1.8060 - val_accuracy: 0.1333\n",
            "Epoch 27/125\n",
            "27/27 [==============================] - 0s 3ms/step - loss: 1.8692 - accuracy: 0.2541 - val_loss: 1.7944 - val_accuracy: 0.1333\n",
            "Epoch 28/125\n",
            "27/27 [==============================] - 0s 3ms/step - loss: 1.8577 - accuracy: 0.2541 - val_loss: 1.7836 - val_accuracy: 0.1333\n",
            "Epoch 29/125\n",
            "27/27 [==============================] - 0s 3ms/step - loss: 1.8467 - accuracy: 0.2541 - val_loss: 1.7729 - val_accuracy: 0.1333\n",
            "Epoch 30/125\n",
            "27/27 [==============================] - 0s 3ms/step - loss: 1.8362 - accuracy: 0.2541 - val_loss: 1.7628 - val_accuracy: 0.1333\n",
            "Epoch 31/125\n",
            "27/27 [==============================] - 0s 4ms/step - loss: 1.8261 - accuracy: 0.2541 - val_loss: 1.7530 - val_accuracy: 0.1333\n",
            "Epoch 32/125\n",
            "27/27 [==============================] - 0s 3ms/step - loss: 1.8163 - accuracy: 0.2541 - val_loss: 1.7435 - val_accuracy: 0.1333\n",
            "Epoch 33/125\n",
            "27/27 [==============================] - 0s 3ms/step - loss: 1.8068 - accuracy: 0.2541 - val_loss: 1.7342 - val_accuracy: 0.1333\n",
            "Epoch 34/125\n",
            "27/27 [==============================] - 0s 4ms/step - loss: 1.7977 - accuracy: 0.2541 - val_loss: 1.7254 - val_accuracy: 0.1333\n",
            "Epoch 35/125\n",
            "27/27 [==============================] - 0s 3ms/step - loss: 1.7888 - accuracy: 0.2541 - val_loss: 1.7170 - val_accuracy: 0.1333\n",
            "Epoch 36/125\n",
            "27/27 [==============================] - 0s 3ms/step - loss: 1.7803 - accuracy: 0.2541 - val_loss: 1.7086 - val_accuracy: 0.1333\n",
            "Epoch 37/125\n",
            "27/27 [==============================] - 0s 3ms/step - loss: 1.7719 - accuracy: 0.2541 - val_loss: 1.7005 - val_accuracy: 0.1333\n",
            "Epoch 38/125\n",
            "27/27 [==============================] - 0s 3ms/step - loss: 1.7638 - accuracy: 0.2541 - val_loss: 1.6927 - val_accuracy: 0.1333\n",
            "Epoch 39/125\n",
            "27/27 [==============================] - 0s 3ms/step - loss: 1.7560 - accuracy: 0.2541 - val_loss: 1.6848 - val_accuracy: 0.1333\n",
            "Epoch 40/125\n",
            "27/27 [==============================] - 0s 3ms/step - loss: 1.7482 - accuracy: 0.2541 - val_loss: 1.6775 - val_accuracy: 0.1333\n",
            "Epoch 41/125\n",
            "27/27 [==============================] - 0s 3ms/step - loss: 1.7408 - accuracy: 0.2541 - val_loss: 1.6701 - val_accuracy: 0.1333\n",
            "Epoch 42/125\n",
            "27/27 [==============================] - 0s 3ms/step - loss: 1.7335 - accuracy: 0.2541 - val_loss: 1.6631 - val_accuracy: 0.1333\n",
            "Epoch 43/125\n",
            "27/27 [==============================] - 0s 3ms/step - loss: 1.7264 - accuracy: 0.2541 - val_loss: 1.6561 - val_accuracy: 0.1333\n",
            "Epoch 44/125\n",
            "27/27 [==============================] - 0s 3ms/step - loss: 1.7195 - accuracy: 0.2541 - val_loss: 1.6493 - val_accuracy: 0.1333\n",
            "Epoch 45/125\n",
            "27/27 [==============================] - 0s 3ms/step - loss: 1.7128 - accuracy: 0.2541 - val_loss: 1.6426 - val_accuracy: 0.1333\n",
            "Epoch 46/125\n",
            "27/27 [==============================] - 0s 3ms/step - loss: 1.7062 - accuracy: 0.2541 - val_loss: 1.6362 - val_accuracy: 0.1333\n",
            "Epoch 47/125\n",
            "27/27 [==============================] - 0s 3ms/step - loss: 1.6999 - accuracy: 0.2541 - val_loss: 1.6300 - val_accuracy: 0.1333\n",
            "Epoch 48/125\n",
            "27/27 [==============================] - 0s 3ms/step - loss: 1.6936 - accuracy: 0.2541 - val_loss: 1.6238 - val_accuracy: 0.1333\n",
            "Epoch 49/125\n",
            "27/27 [==============================] - 0s 3ms/step - loss: 1.6875 - accuracy: 0.2541 - val_loss: 1.6177 - val_accuracy: 0.1333\n",
            "Epoch 50/125\n",
            "27/27 [==============================] - 0s 3ms/step - loss: 1.6815 - accuracy: 0.2541 - val_loss: 1.6119 - val_accuracy: 0.1333\n",
            "Epoch 51/125\n",
            "27/27 [==============================] - 0s 3ms/step - loss: 1.6757 - accuracy: 0.2541 - val_loss: 1.6062 - val_accuracy: 0.1333\n",
            "Epoch 52/125\n",
            "27/27 [==============================] - 0s 3ms/step - loss: 1.6700 - accuracy: 0.2541 - val_loss: 1.6005 - val_accuracy: 0.1333\n",
            "Epoch 53/125\n",
            "27/27 [==============================] - 0s 3ms/step - loss: 1.6644 - accuracy: 0.2541 - val_loss: 1.5948 - val_accuracy: 0.1333\n",
            "Epoch 54/125\n",
            "27/27 [==============================] - 0s 3ms/step - loss: 1.6589 - accuracy: 0.2541 - val_loss: 1.5892 - val_accuracy: 0.1333\n",
            "Epoch 55/125\n",
            "27/27 [==============================] - 0s 4ms/step - loss: 1.6534 - accuracy: 0.2541 - val_loss: 1.5839 - val_accuracy: 0.1333\n",
            "Epoch 56/125\n",
            "27/27 [==============================] - 0s 3ms/step - loss: 1.6482 - accuracy: 0.2541 - val_loss: 1.5785 - val_accuracy: 0.1333\n",
            "Epoch 57/125\n",
            "27/27 [==============================] - 0s 3ms/step - loss: 1.6430 - accuracy: 0.2541 - val_loss: 1.5733 - val_accuracy: 0.1333\n",
            "Epoch 58/125\n",
            "27/27 [==============================] - 0s 3ms/step - loss: 1.6379 - accuracy: 0.2541 - val_loss: 1.5682 - val_accuracy: 0.1333\n",
            "Epoch 59/125\n",
            "27/27 [==============================] - 0s 3ms/step - loss: 1.6329 - accuracy: 0.2541 - val_loss: 1.5632 - val_accuracy: 0.1333\n",
            "Epoch 60/125\n",
            "27/27 [==============================] - 0s 3ms/step - loss: 1.6279 - accuracy: 0.2541 - val_loss: 1.5583 - val_accuracy: 0.1333\n",
            "Epoch 61/125\n",
            "27/27 [==============================] - 0s 3ms/step - loss: 1.6231 - accuracy: 0.2541 - val_loss: 1.5534 - val_accuracy: 0.1333\n",
            "Epoch 62/125\n",
            "27/27 [==============================] - 0s 3ms/step - loss: 1.6184 - accuracy: 0.2541 - val_loss: 1.5486 - val_accuracy: 0.1333\n",
            "Epoch 63/125\n",
            "27/27 [==============================] - 0s 3ms/step - loss: 1.6137 - accuracy: 0.2541 - val_loss: 1.5439 - val_accuracy: 0.1333\n",
            "Epoch 64/125\n",
            "27/27 [==============================] - 0s 3ms/step - loss: 1.6090 - accuracy: 0.2541 - val_loss: 1.5393 - val_accuracy: 0.1333\n",
            "Epoch 65/125\n",
            "27/27 [==============================] - 0s 3ms/step - loss: 1.6045 - accuracy: 0.2541 - val_loss: 1.5348 - val_accuracy: 0.1333\n",
            "Epoch 66/125\n",
            "27/27 [==============================] - 0s 3ms/step - loss: 1.6001 - accuracy: 0.2541 - val_loss: 1.5303 - val_accuracy: 0.1333\n",
            "Epoch 67/125\n",
            "27/27 [==============================] - 0s 3ms/step - loss: 1.5957 - accuracy: 0.2541 - val_loss: 1.5260 - val_accuracy: 0.1333\n",
            "Epoch 68/125\n",
            "27/27 [==============================] - 0s 3ms/step - loss: 1.5914 - accuracy: 0.2541 - val_loss: 1.5215 - val_accuracy: 0.1333\n",
            "Epoch 69/125\n",
            "27/27 [==============================] - 0s 3ms/step - loss: 1.5871 - accuracy: 0.2541 - val_loss: 1.5174 - val_accuracy: 0.1333\n",
            "Epoch 70/125\n",
            "27/27 [==============================] - 0s 3ms/step - loss: 1.5830 - accuracy: 0.2541 - val_loss: 1.5132 - val_accuracy: 0.1333\n",
            "Epoch 71/125\n",
            "27/27 [==============================] - 0s 3ms/step - loss: 1.5789 - accuracy: 0.2541 - val_loss: 1.5092 - val_accuracy: 0.1333\n",
            "Epoch 72/125\n",
            "27/27 [==============================] - 0s 3ms/step - loss: 1.5749 - accuracy: 0.2541 - val_loss: 1.5051 - val_accuracy: 0.1333\n",
            "Epoch 73/125\n",
            "27/27 [==============================] - 0s 3ms/step - loss: 1.5709 - accuracy: 0.2541 - val_loss: 1.5012 - val_accuracy: 0.1333\n",
            "Epoch 74/125\n",
            "27/27 [==============================] - 0s 3ms/step - loss: 1.5670 - accuracy: 0.2541 - val_loss: 1.4975 - val_accuracy: 0.1333\n",
            "Epoch 75/125\n",
            "27/27 [==============================] - 0s 3ms/step - loss: 1.5633 - accuracy: 0.2541 - val_loss: 1.4936 - val_accuracy: 0.1333\n",
            "Epoch 76/125\n",
            "27/27 [==============================] - 0s 3ms/step - loss: 1.5594 - accuracy: 0.2541 - val_loss: 1.4899 - val_accuracy: 0.1333\n",
            "Epoch 77/125\n",
            "27/27 [==============================] - 0s 4ms/step - loss: 1.5557 - accuracy: 0.2518 - val_loss: 1.4863 - val_accuracy: 0.1333\n",
            "Epoch 78/125\n",
            "27/27 [==============================] - 0s 3ms/step - loss: 1.5520 - accuracy: 0.2518 - val_loss: 1.4827 - val_accuracy: 0.1333\n",
            "Epoch 79/125\n",
            "27/27 [==============================] - 0s 4ms/step - loss: 1.5484 - accuracy: 0.2518 - val_loss: 1.4792 - val_accuracy: 0.1333\n",
            "Epoch 80/125\n",
            "27/27 [==============================] - 0s 3ms/step - loss: 1.5448 - accuracy: 0.2518 - val_loss: 1.4757 - val_accuracy: 0.1333\n",
            "Epoch 81/125\n",
            "27/27 [==============================] - 0s 3ms/step - loss: 1.5412 - accuracy: 0.2518 - val_loss: 1.4722 - val_accuracy: 0.1333\n",
            "Epoch 82/125\n",
            "27/27 [==============================] - 0s 3ms/step - loss: 1.5377 - accuracy: 0.2518 - val_loss: 1.4688 - val_accuracy: 0.1333\n",
            "Epoch 83/125\n",
            "27/27 [==============================] - 0s 3ms/step - loss: 1.5342 - accuracy: 0.2518 - val_loss: 1.4656 - val_accuracy: 0.1333\n",
            "Epoch 84/125\n",
            "27/27 [==============================] - 0s 3ms/step - loss: 1.5308 - accuracy: 0.2494 - val_loss: 1.4621 - val_accuracy: 0.1333\n",
            "Epoch 85/125\n",
            "27/27 [==============================] - 0s 3ms/step - loss: 1.5273 - accuracy: 0.2494 - val_loss: 1.4589 - val_accuracy: 0.1333\n",
            "Epoch 86/125\n",
            "27/27 [==============================] - 0s 3ms/step - loss: 1.5240 - accuracy: 0.2494 - val_loss: 1.4558 - val_accuracy: 0.1333\n",
            "Epoch 87/125\n",
            "27/27 [==============================] - 0s 3ms/step - loss: 1.5207 - accuracy: 0.2494 - val_loss: 1.4525 - val_accuracy: 0.1333\n",
            "Epoch 88/125\n",
            "27/27 [==============================] - 0s 4ms/step - loss: 1.5175 - accuracy: 0.2494 - val_loss: 1.4493 - val_accuracy: 0.1333\n",
            "Epoch 89/125\n",
            "27/27 [==============================] - 0s 3ms/step - loss: 1.5143 - accuracy: 0.2494 - val_loss: 1.4463 - val_accuracy: 0.1333\n",
            "Epoch 90/125\n",
            "27/27 [==============================] - 0s 3ms/step - loss: 1.5111 - accuracy: 0.2494 - val_loss: 1.4432 - val_accuracy: 0.1333\n",
            "Epoch 91/125\n",
            "27/27 [==============================] - 0s 3ms/step - loss: 1.5079 - accuracy: 0.2494 - val_loss: 1.4403 - val_accuracy: 0.1333\n",
            "Epoch 92/125\n",
            "27/27 [==============================] - 0s 4ms/step - loss: 1.5048 - accuracy: 0.2494 - val_loss: 1.4374 - val_accuracy: 0.1333\n",
            "Epoch 93/125\n",
            "27/27 [==============================] - 0s 3ms/step - loss: 1.5017 - accuracy: 0.2494 - val_loss: 1.4347 - val_accuracy: 0.1333\n",
            "Epoch 94/125\n",
            "27/27 [==============================] - 0s 4ms/step - loss: 1.4986 - accuracy: 0.2494 - val_loss: 1.4320 - val_accuracy: 0.1333\n",
            "Epoch 95/125\n",
            "27/27 [==============================] - 0s 3ms/step - loss: 1.4955 - accuracy: 0.2494 - val_loss: 1.4290 - val_accuracy: 0.1333\n",
            "Epoch 96/125\n",
            "27/27 [==============================] - 0s 3ms/step - loss: 1.4924 - accuracy: 0.2494 - val_loss: 1.4262 - val_accuracy: 0.1333\n",
            "Epoch 97/125\n",
            "27/27 [==============================] - 0s 3ms/step - loss: 1.4895 - accuracy: 0.2494 - val_loss: 1.4231 - val_accuracy: 0.1333\n",
            "Epoch 98/125\n",
            "27/27 [==============================] - 0s 3ms/step - loss: 1.4864 - accuracy: 0.2494 - val_loss: 1.4201 - val_accuracy: 0.1333\n",
            "Epoch 99/125\n",
            "27/27 [==============================] - 0s 4ms/step - loss: 1.4835 - accuracy: 0.2494 - val_loss: 1.4171 - val_accuracy: 0.1333\n",
            "Epoch 100/125\n",
            "27/27 [==============================] - 0s 4ms/step - loss: 1.4805 - accuracy: 0.2494 - val_loss: 1.4141 - val_accuracy: 0.1333\n",
            "Epoch 101/125\n",
            "27/27 [==============================] - 0s 3ms/step - loss: 1.4776 - accuracy: 0.2494 - val_loss: 1.4107 - val_accuracy: 0.1333\n",
            "Epoch 102/125\n",
            "27/27 [==============================] - 0s 3ms/step - loss: 1.4746 - accuracy: 0.2494 - val_loss: 1.4076 - val_accuracy: 0.1333\n",
            "Epoch 103/125\n",
            "27/27 [==============================] - 0s 3ms/step - loss: 1.4716 - accuracy: 0.2494 - val_loss: 1.4049 - val_accuracy: 0.1333\n",
            "Epoch 104/125\n",
            "27/27 [==============================] - 0s 3ms/step - loss: 1.4688 - accuracy: 0.2494 - val_loss: 1.4019 - val_accuracy: 0.1333\n",
            "Epoch 105/125\n",
            "27/27 [==============================] - 0s 3ms/step - loss: 1.4658 - accuracy: 0.2494 - val_loss: 1.3992 - val_accuracy: 0.1333\n",
            "Epoch 106/125\n",
            "27/27 [==============================] - 0s 3ms/step - loss: 1.4630 - accuracy: 0.2494 - val_loss: 1.3963 - val_accuracy: 0.1333\n",
            "Epoch 107/125\n",
            "27/27 [==============================] - 0s 4ms/step - loss: 1.4602 - accuracy: 0.2494 - val_loss: 1.3935 - val_accuracy: 0.1333\n",
            "Epoch 108/125\n",
            "27/27 [==============================] - 0s 3ms/step - loss: 1.4575 - accuracy: 0.2494 - val_loss: 1.3906 - val_accuracy: 0.1333\n",
            "Epoch 109/125\n",
            "27/27 [==============================] - 0s 3ms/step - loss: 1.4549 - accuracy: 0.2494 - val_loss: 1.3881 - val_accuracy: 0.1333\n",
            "Epoch 110/125\n",
            "27/27 [==============================] - 0s 3ms/step - loss: 1.4523 - accuracy: 0.2494 - val_loss: 1.3856 - val_accuracy: 0.1333\n",
            "Epoch 111/125\n",
            "27/27 [==============================] - 0s 3ms/step - loss: 1.4497 - accuracy: 0.2494 - val_loss: 1.3833 - val_accuracy: 0.1333\n",
            "Epoch 112/125\n",
            "27/27 [==============================] - 0s 3ms/step - loss: 1.4470 - accuracy: 0.2494 - val_loss: 1.3809 - val_accuracy: 0.1333\n",
            "Epoch 113/125\n",
            "27/27 [==============================] - 0s 3ms/step - loss: 1.4444 - accuracy: 0.2494 - val_loss: 1.3786 - val_accuracy: 0.1333\n",
            "Epoch 114/125\n",
            "27/27 [==============================] - 0s 3ms/step - loss: 1.4419 - accuracy: 0.2494 - val_loss: 1.3764 - val_accuracy: 0.1333\n",
            "Epoch 115/125\n",
            "27/27 [==============================] - 0s 3ms/step - loss: 1.4393 - accuracy: 0.2494 - val_loss: 1.3740 - val_accuracy: 0.1333\n",
            "Epoch 116/125\n",
            "27/27 [==============================] - 0s 3ms/step - loss: 1.4368 - accuracy: 0.2494 - val_loss: 1.3718 - val_accuracy: 0.1333\n",
            "Epoch 117/125\n",
            "27/27 [==============================] - 0s 3ms/step - loss: 1.4345 - accuracy: 0.2494 - val_loss: 1.3695 - val_accuracy: 0.1333\n",
            "Epoch 118/125\n",
            "27/27 [==============================] - 0s 3ms/step - loss: 1.4323 - accuracy: 0.2494 - val_loss: 1.3673 - val_accuracy: 0.1333\n",
            "Epoch 119/125\n",
            "27/27 [==============================] - 0s 3ms/step - loss: 1.4300 - accuracy: 0.2494 - val_loss: 1.3652 - val_accuracy: 0.1333\n",
            "Epoch 120/125\n",
            "27/27 [==============================] - 0s 4ms/step - loss: 1.4278 - accuracy: 0.2494 - val_loss: 1.3631 - val_accuracy: 0.1333\n",
            "Epoch 121/125\n",
            "27/27 [==============================] - 0s 4ms/step - loss: 1.4256 - accuracy: 0.2494 - val_loss: 1.3610 - val_accuracy: 0.1333\n",
            "Epoch 122/125\n",
            "27/27 [==============================] - 0s 3ms/step - loss: 1.4234 - accuracy: 0.2494 - val_loss: 1.3590 - val_accuracy: 0.1333\n",
            "Epoch 123/125\n",
            "27/27 [==============================] - 0s 4ms/step - loss: 1.4213 - accuracy: 0.2494 - val_loss: 1.3569 - val_accuracy: 0.1333\n",
            "Epoch 124/125\n",
            "27/27 [==============================] - 0s 3ms/step - loss: 1.4192 - accuracy: 0.2494 - val_loss: 1.3548 - val_accuracy: 0.1333\n",
            "Epoch 125/125\n",
            "27/27 [==============================] - 0s 4ms/step - loss: 1.4171 - accuracy: 0.2494 - val_loss: 1.3528 - val_accuracy: 0.1333\n",
            "16/16 - 0s - loss: 1.4117 - accuracy: 0.2180 - 37ms/epoch - 2ms/step\n"
          ]
        }
      ],
      "source": [
        "#@title\n",
        "### START CODE HERE ### \n",
        "batch_size=16\n",
        "history=fit_model(X_train, y_train, X_test, y_test, batch_size)\n",
        "###### END CODE HERE"
      ]
    },
    {
      "cell_type": "code",
      "execution_count": 196,
      "id": "be8533d7-34a0-4072-a9f3-600ddb9e58df",
      "metadata": {
        "tags": [],
        "id": "be8533d7-34a0-4072-a9f3-600ddb9e58df",
        "colab": {
          "base_uri": "https://localhost:8080/",
          "height": 463
        },
        "outputId": "d206be9b-2a40-4ba9-e75e-e480d17be434"
      },
      "outputs": [
        {
          "output_type": "display_data",
          "data": {
            "text/plain": [
              "<Figure size 720x360 with 1 Axes>"
            ],
            "image/svg+xml": "<?xml version=\"1.0\" encoding=\"utf-8\" standalone=\"no\"?>\n<!DOCTYPE svg PUBLIC \"-//W3C//DTD SVG 1.1//EN\"\n  \"http://www.w3.org/Graphics/SVG/1.1/DTD/svg11.dtd\">\n<!-- Created with matplotlib (https://matplotlib.org/) -->\n<svg height=\"331.674375pt\" version=\"1.1\" viewBox=\"0 0 608.98125 331.674375\" width=\"608.98125pt\" xmlns=\"http://www.w3.org/2000/svg\" xmlns:xlink=\"http://www.w3.org/1999/xlink\">\n <defs>\n  <style type=\"text/css\">\n*{stroke-linecap:butt;stroke-linejoin:round;}\n  </style>\n </defs>\n <g id=\"figure_1\">\n  <g id=\"patch_1\">\n   <path d=\"M 0 331.674375 \nL 608.98125 331.674375 \nL 608.98125 0 \nL 0 0 \nz\n\" style=\"fill:none;\"/>\n  </g>\n  <g id=\"axes_1\">\n   <g id=\"patch_2\">\n    <path d=\"M 43.78125 294.118125 \nL 601.78125 294.118125 \nL 601.78125 22.318125 \nL 43.78125 22.318125 \nz\n\" style=\"fill:#ffffff;\"/>\n   </g>\n   <g id=\"matplotlib.axis_1\">\n    <g id=\"xtick_1\">\n     <g id=\"line2d_1\">\n      <defs>\n       <path d=\"M 0 0 \nL 0 3.5 \n\" id=\"m8fbcb07777\" style=\"stroke:#000000;stroke-width:0.8;\"/>\n      </defs>\n      <g>\n       <use style=\"stroke:#000000;stroke-width:0.8;\" x=\"69.144886\" xlink:href=\"#m8fbcb07777\" y=\"294.118125\"/>\n      </g>\n     </g>\n     <g id=\"text_1\">\n      <!-- 0 -->\n      <defs>\n       <path d=\"M 31.78125 66.40625 \nQ 24.171875 66.40625 20.328125 58.90625 \nQ 16.5 51.421875 16.5 36.375 \nQ 16.5 21.390625 20.328125 13.890625 \nQ 24.171875 6.390625 31.78125 6.390625 \nQ 39.453125 6.390625 43.28125 13.890625 \nQ 47.125 21.390625 47.125 36.375 \nQ 47.125 51.421875 43.28125 58.90625 \nQ 39.453125 66.40625 31.78125 66.40625 \nz\nM 31.78125 74.21875 \nQ 44.046875 74.21875 50.515625 64.515625 \nQ 56.984375 54.828125 56.984375 36.375 \nQ 56.984375 17.96875 50.515625 8.265625 \nQ 44.046875 -1.421875 31.78125 -1.421875 \nQ 19.53125 -1.421875 13.0625 8.265625 \nQ 6.59375 17.96875 6.59375 36.375 \nQ 6.59375 54.828125 13.0625 64.515625 \nQ 19.53125 74.21875 31.78125 74.21875 \nz\n\" id=\"DejaVuSans-48\"/>\n      </defs>\n      <g transform=\"translate(65.963636 308.716563)scale(0.1 -0.1)\">\n       <use xlink:href=\"#DejaVuSans-48\"/>\n      </g>\n     </g>\n    </g>\n    <g id=\"xtick_2\">\n     <g id=\"line2d_2\">\n      <g>\n       <use style=\"stroke:#000000;stroke-width:0.8;\" x=\"150.963068\" xlink:href=\"#m8fbcb07777\" y=\"294.118125\"/>\n      </g>\n     </g>\n     <g id=\"text_2\">\n      <!-- 20 -->\n      <defs>\n       <path d=\"M 19.1875 8.296875 \nL 53.609375 8.296875 \nL 53.609375 0 \nL 7.328125 0 \nL 7.328125 8.296875 \nQ 12.9375 14.109375 22.625 23.890625 \nQ 32.328125 33.6875 34.8125 36.53125 \nQ 39.546875 41.84375 41.421875 45.53125 \nQ 43.3125 49.21875 43.3125 52.78125 \nQ 43.3125 58.59375 39.234375 62.25 \nQ 35.15625 65.921875 28.609375 65.921875 \nQ 23.96875 65.921875 18.8125 64.3125 \nQ 13.671875 62.703125 7.8125 59.421875 \nL 7.8125 69.390625 \nQ 13.765625 71.78125 18.9375 73 \nQ 24.125 74.21875 28.421875 74.21875 \nQ 39.75 74.21875 46.484375 68.546875 \nQ 53.21875 62.890625 53.21875 53.421875 \nQ 53.21875 48.921875 51.53125 44.890625 \nQ 49.859375 40.875 45.40625 35.40625 \nQ 44.1875 33.984375 37.640625 27.21875 \nQ 31.109375 20.453125 19.1875 8.296875 \nz\n\" id=\"DejaVuSans-50\"/>\n      </defs>\n      <g transform=\"translate(144.600568 308.716563)scale(0.1 -0.1)\">\n       <use xlink:href=\"#DejaVuSans-50\"/>\n       <use x=\"63.623047\" xlink:href=\"#DejaVuSans-48\"/>\n      </g>\n     </g>\n    </g>\n    <g id=\"xtick_3\">\n     <g id=\"line2d_3\">\n      <g>\n       <use style=\"stroke:#000000;stroke-width:0.8;\" x=\"232.78125\" xlink:href=\"#m8fbcb07777\" y=\"294.118125\"/>\n      </g>\n     </g>\n     <g id=\"text_3\">\n      <!-- 40 -->\n      <defs>\n       <path d=\"M 37.796875 64.3125 \nL 12.890625 25.390625 \nL 37.796875 25.390625 \nz\nM 35.203125 72.90625 \nL 47.609375 72.90625 \nL 47.609375 25.390625 \nL 58.015625 25.390625 \nL 58.015625 17.1875 \nL 47.609375 17.1875 \nL 47.609375 0 \nL 37.796875 0 \nL 37.796875 17.1875 \nL 4.890625 17.1875 \nL 4.890625 26.703125 \nz\n\" id=\"DejaVuSans-52\"/>\n      </defs>\n      <g transform=\"translate(226.41875 308.716563)scale(0.1 -0.1)\">\n       <use xlink:href=\"#DejaVuSans-52\"/>\n       <use x=\"63.623047\" xlink:href=\"#DejaVuSans-48\"/>\n      </g>\n     </g>\n    </g>\n    <g id=\"xtick_4\">\n     <g id=\"line2d_4\">\n      <g>\n       <use style=\"stroke:#000000;stroke-width:0.8;\" x=\"314.599432\" xlink:href=\"#m8fbcb07777\" y=\"294.118125\"/>\n      </g>\n     </g>\n     <g id=\"text_4\">\n      <!-- 60 -->\n      <defs>\n       <path d=\"M 33.015625 40.375 \nQ 26.375 40.375 22.484375 35.828125 \nQ 18.609375 31.296875 18.609375 23.390625 \nQ 18.609375 15.53125 22.484375 10.953125 \nQ 26.375 6.390625 33.015625 6.390625 \nQ 39.65625 6.390625 43.53125 10.953125 \nQ 47.40625 15.53125 47.40625 23.390625 \nQ 47.40625 31.296875 43.53125 35.828125 \nQ 39.65625 40.375 33.015625 40.375 \nz\nM 52.59375 71.296875 \nL 52.59375 62.3125 \nQ 48.875 64.0625 45.09375 64.984375 \nQ 41.3125 65.921875 37.59375 65.921875 \nQ 27.828125 65.921875 22.671875 59.328125 \nQ 17.53125 52.734375 16.796875 39.40625 \nQ 19.671875 43.65625 24.015625 45.921875 \nQ 28.375 48.1875 33.59375 48.1875 \nQ 44.578125 48.1875 50.953125 41.515625 \nQ 57.328125 34.859375 57.328125 23.390625 \nQ 57.328125 12.15625 50.6875 5.359375 \nQ 44.046875 -1.421875 33.015625 -1.421875 \nQ 20.359375 -1.421875 13.671875 8.265625 \nQ 6.984375 17.96875 6.984375 36.375 \nQ 6.984375 53.65625 15.1875 63.9375 \nQ 23.390625 74.21875 37.203125 74.21875 \nQ 40.921875 74.21875 44.703125 73.484375 \nQ 48.484375 72.75 52.59375 71.296875 \nz\n\" id=\"DejaVuSans-54\"/>\n      </defs>\n      <g transform=\"translate(308.236932 308.716563)scale(0.1 -0.1)\">\n       <use xlink:href=\"#DejaVuSans-54\"/>\n       <use x=\"63.623047\" xlink:href=\"#DejaVuSans-48\"/>\n      </g>\n     </g>\n    </g>\n    <g id=\"xtick_5\">\n     <g id=\"line2d_5\">\n      <g>\n       <use style=\"stroke:#000000;stroke-width:0.8;\" x=\"396.417614\" xlink:href=\"#m8fbcb07777\" y=\"294.118125\"/>\n      </g>\n     </g>\n     <g id=\"text_5\">\n      <!-- 80 -->\n      <defs>\n       <path d=\"M 31.78125 34.625 \nQ 24.75 34.625 20.71875 30.859375 \nQ 16.703125 27.09375 16.703125 20.515625 \nQ 16.703125 13.921875 20.71875 10.15625 \nQ 24.75 6.390625 31.78125 6.390625 \nQ 38.8125 6.390625 42.859375 10.171875 \nQ 46.921875 13.96875 46.921875 20.515625 \nQ 46.921875 27.09375 42.890625 30.859375 \nQ 38.875 34.625 31.78125 34.625 \nz\nM 21.921875 38.8125 \nQ 15.578125 40.375 12.03125 44.71875 \nQ 8.5 49.078125 8.5 55.328125 \nQ 8.5 64.0625 14.71875 69.140625 \nQ 20.953125 74.21875 31.78125 74.21875 \nQ 42.671875 74.21875 48.875 69.140625 \nQ 55.078125 64.0625 55.078125 55.328125 \nQ 55.078125 49.078125 51.53125 44.71875 \nQ 48 40.375 41.703125 38.8125 \nQ 48.828125 37.15625 52.796875 32.3125 \nQ 56.78125 27.484375 56.78125 20.515625 \nQ 56.78125 9.90625 50.3125 4.234375 \nQ 43.84375 -1.421875 31.78125 -1.421875 \nQ 19.734375 -1.421875 13.25 4.234375 \nQ 6.78125 9.90625 6.78125 20.515625 \nQ 6.78125 27.484375 10.78125 32.3125 \nQ 14.796875 37.15625 21.921875 38.8125 \nz\nM 18.3125 54.390625 \nQ 18.3125 48.734375 21.84375 45.5625 \nQ 25.390625 42.390625 31.78125 42.390625 \nQ 38.140625 42.390625 41.71875 45.5625 \nQ 45.3125 48.734375 45.3125 54.390625 \nQ 45.3125 60.0625 41.71875 63.234375 \nQ 38.140625 66.40625 31.78125 66.40625 \nQ 25.390625 66.40625 21.84375 63.234375 \nQ 18.3125 60.0625 18.3125 54.390625 \nz\n\" id=\"DejaVuSans-56\"/>\n      </defs>\n      <g transform=\"translate(390.055114 308.716563)scale(0.1 -0.1)\">\n       <use xlink:href=\"#DejaVuSans-56\"/>\n       <use x=\"63.623047\" xlink:href=\"#DejaVuSans-48\"/>\n      </g>\n     </g>\n    </g>\n    <g id=\"xtick_6\">\n     <g id=\"line2d_6\">\n      <g>\n       <use style=\"stroke:#000000;stroke-width:0.8;\" x=\"478.235795\" xlink:href=\"#m8fbcb07777\" y=\"294.118125\"/>\n      </g>\n     </g>\n     <g id=\"text_6\">\n      <!-- 100 -->\n      <defs>\n       <path d=\"M 12.40625 8.296875 \nL 28.515625 8.296875 \nL 28.515625 63.921875 \nL 10.984375 60.40625 \nL 10.984375 69.390625 \nL 28.421875 72.90625 \nL 38.28125 72.90625 \nL 38.28125 8.296875 \nL 54.390625 8.296875 \nL 54.390625 0 \nL 12.40625 0 \nz\n\" id=\"DejaVuSans-49\"/>\n      </defs>\n      <g transform=\"translate(468.692045 308.716563)scale(0.1 -0.1)\">\n       <use xlink:href=\"#DejaVuSans-49\"/>\n       <use x=\"63.623047\" xlink:href=\"#DejaVuSans-48\"/>\n       <use x=\"127.246094\" xlink:href=\"#DejaVuSans-48\"/>\n      </g>\n     </g>\n    </g>\n    <g id=\"xtick_7\">\n     <g id=\"line2d_7\">\n      <g>\n       <use style=\"stroke:#000000;stroke-width:0.8;\" x=\"560.053977\" xlink:href=\"#m8fbcb07777\" y=\"294.118125\"/>\n      </g>\n     </g>\n     <g id=\"text_7\">\n      <!-- 120 -->\n      <g transform=\"translate(550.510227 308.716563)scale(0.1 -0.1)\">\n       <use xlink:href=\"#DejaVuSans-49\"/>\n       <use x=\"63.623047\" xlink:href=\"#DejaVuSans-50\"/>\n       <use x=\"127.246094\" xlink:href=\"#DejaVuSans-48\"/>\n      </g>\n     </g>\n    </g>\n    <g id=\"text_8\">\n     <!-- Epoch -->\n     <defs>\n      <path d=\"M 9.8125 72.90625 \nL 55.90625 72.90625 \nL 55.90625 64.59375 \nL 19.671875 64.59375 \nL 19.671875 43.015625 \nL 54.390625 43.015625 \nL 54.390625 34.71875 \nL 19.671875 34.71875 \nL 19.671875 8.296875 \nL 56.78125 8.296875 \nL 56.78125 0 \nL 9.8125 0 \nz\n\" id=\"DejaVuSans-69\"/>\n      <path d=\"M 18.109375 8.203125 \nL 18.109375 -20.796875 \nL 9.078125 -20.796875 \nL 9.078125 54.6875 \nL 18.109375 54.6875 \nL 18.109375 46.390625 \nQ 20.953125 51.265625 25.265625 53.625 \nQ 29.59375 56 35.59375 56 \nQ 45.5625 56 51.78125 48.09375 \nQ 58.015625 40.1875 58.015625 27.296875 \nQ 58.015625 14.40625 51.78125 6.484375 \nQ 45.5625 -1.421875 35.59375 -1.421875 \nQ 29.59375 -1.421875 25.265625 0.953125 \nQ 20.953125 3.328125 18.109375 8.203125 \nz\nM 48.6875 27.296875 \nQ 48.6875 37.203125 44.609375 42.84375 \nQ 40.53125 48.484375 33.40625 48.484375 \nQ 26.265625 48.484375 22.1875 42.84375 \nQ 18.109375 37.203125 18.109375 27.296875 \nQ 18.109375 17.390625 22.1875 11.75 \nQ 26.265625 6.109375 33.40625 6.109375 \nQ 40.53125 6.109375 44.609375 11.75 \nQ 48.6875 17.390625 48.6875 27.296875 \nz\n\" id=\"DejaVuSans-112\"/>\n      <path d=\"M 30.609375 48.390625 \nQ 23.390625 48.390625 19.1875 42.75 \nQ 14.984375 37.109375 14.984375 27.296875 \nQ 14.984375 17.484375 19.15625 11.84375 \nQ 23.34375 6.203125 30.609375 6.203125 \nQ 37.796875 6.203125 41.984375 11.859375 \nQ 46.1875 17.53125 46.1875 27.296875 \nQ 46.1875 37.015625 41.984375 42.703125 \nQ 37.796875 48.390625 30.609375 48.390625 \nz\nM 30.609375 56 \nQ 42.328125 56 49.015625 48.375 \nQ 55.71875 40.765625 55.71875 27.296875 \nQ 55.71875 13.875 49.015625 6.21875 \nQ 42.328125 -1.421875 30.609375 -1.421875 \nQ 18.84375 -1.421875 12.171875 6.21875 \nQ 5.515625 13.875 5.515625 27.296875 \nQ 5.515625 40.765625 12.171875 48.375 \nQ 18.84375 56 30.609375 56 \nz\n\" id=\"DejaVuSans-111\"/>\n      <path d=\"M 48.78125 52.59375 \nL 48.78125 44.1875 \nQ 44.96875 46.296875 41.140625 47.34375 \nQ 37.3125 48.390625 33.40625 48.390625 \nQ 24.65625 48.390625 19.8125 42.84375 \nQ 14.984375 37.3125 14.984375 27.296875 \nQ 14.984375 17.28125 19.8125 11.734375 \nQ 24.65625 6.203125 33.40625 6.203125 \nQ 37.3125 6.203125 41.140625 7.25 \nQ 44.96875 8.296875 48.78125 10.40625 \nL 48.78125 2.09375 \nQ 45.015625 0.34375 40.984375 -0.53125 \nQ 36.96875 -1.421875 32.421875 -1.421875 \nQ 20.0625 -1.421875 12.78125 6.34375 \nQ 5.515625 14.109375 5.515625 27.296875 \nQ 5.515625 40.671875 12.859375 48.328125 \nQ 20.21875 56 33.015625 56 \nQ 37.15625 56 41.109375 55.140625 \nQ 45.0625 54.296875 48.78125 52.59375 \nz\n\" id=\"DejaVuSans-99\"/>\n      <path d=\"M 54.890625 33.015625 \nL 54.890625 0 \nL 45.90625 0 \nL 45.90625 32.71875 \nQ 45.90625 40.484375 42.875 44.328125 \nQ 39.84375 48.1875 33.796875 48.1875 \nQ 26.515625 48.1875 22.3125 43.546875 \nQ 18.109375 38.921875 18.109375 30.90625 \nL 18.109375 0 \nL 9.078125 0 \nL 9.078125 75.984375 \nL 18.109375 75.984375 \nL 18.109375 46.1875 \nQ 21.34375 51.125 25.703125 53.5625 \nQ 30.078125 56 35.796875 56 \nQ 45.21875 56 50.046875 50.171875 \nQ 54.890625 44.34375 54.890625 33.015625 \nz\n\" id=\"DejaVuSans-104\"/>\n     </defs>\n     <g transform=\"translate(307.470312 322.394687)scale(0.1 -0.1)\">\n      <use xlink:href=\"#DejaVuSans-69\"/>\n      <use x=\"63.183594\" xlink:href=\"#DejaVuSans-112\"/>\n      <use x=\"126.660156\" xlink:href=\"#DejaVuSans-111\"/>\n      <use x=\"187.841797\" xlink:href=\"#DejaVuSans-99\"/>\n      <use x=\"242.822266\" xlink:href=\"#DejaVuSans-104\"/>\n     </g>\n    </g>\n   </g>\n   <g id=\"matplotlib.axis_2\">\n    <g id=\"ytick_1\">\n     <g id=\"line2d_8\">\n      <defs>\n       <path d=\"M 0 0 \nL -3.5 0 \n\" id=\"m4c56f308da\" style=\"stroke:#000000;stroke-width:0.8;\"/>\n      </defs>\n      <g>\n       <use style=\"stroke:#000000;stroke-width:0.8;\" x=\"43.78125\" xlink:href=\"#m4c56f308da\" y=\"267.797852\"/>\n      </g>\n     </g>\n     <g id=\"text_9\">\n      <!-- 1.5 -->\n      <defs>\n       <path d=\"M 10.6875 12.40625 \nL 21 12.40625 \nL 21 0 \nL 10.6875 0 \nz\n\" id=\"DejaVuSans-46\"/>\n       <path d=\"M 10.796875 72.90625 \nL 49.515625 72.90625 \nL 49.515625 64.59375 \nL 19.828125 64.59375 \nL 19.828125 46.734375 \nQ 21.96875 47.46875 24.109375 47.828125 \nQ 26.265625 48.1875 28.421875 48.1875 \nQ 40.625 48.1875 47.75 41.5 \nQ 54.890625 34.8125 54.890625 23.390625 \nQ 54.890625 11.625 47.5625 5.09375 \nQ 40.234375 -1.421875 26.90625 -1.421875 \nQ 22.3125 -1.421875 17.546875 -0.640625 \nQ 12.796875 0.140625 7.71875 1.703125 \nL 7.71875 11.625 \nQ 12.109375 9.234375 16.796875 8.0625 \nQ 21.484375 6.890625 26.703125 6.890625 \nQ 35.15625 6.890625 40.078125 11.328125 \nQ 45.015625 15.765625 45.015625 23.390625 \nQ 45.015625 31 40.078125 35.4375 \nQ 35.15625 39.890625 26.703125 39.890625 \nQ 22.75 39.890625 18.8125 39.015625 \nQ 14.890625 38.140625 10.796875 36.28125 \nz\n\" id=\"DejaVuSans-53\"/>\n      </defs>\n      <g transform=\"translate(20.878125 271.597071)scale(0.1 -0.1)\">\n       <use xlink:href=\"#DejaVuSans-49\"/>\n       <use x=\"63.623047\" xlink:href=\"#DejaVuSans-46\"/>\n       <use x=\"95.410156\" xlink:href=\"#DejaVuSans-53\"/>\n      </g>\n     </g>\n    </g>\n    <g id=\"ytick_2\">\n     <g id=\"line2d_9\">\n      <g>\n       <use style=\"stroke:#000000;stroke-width:0.8;\" x=\"43.78125\" xlink:href=\"#m4c56f308da\" y=\"220.362911\"/>\n      </g>\n     </g>\n     <g id=\"text_10\">\n      <!-- 2.0 -->\n      <g transform=\"translate(20.878125 224.16213)scale(0.1 -0.1)\">\n       <use xlink:href=\"#DejaVuSans-50\"/>\n       <use x=\"63.623047\" xlink:href=\"#DejaVuSans-46\"/>\n       <use x=\"95.410156\" xlink:href=\"#DejaVuSans-48\"/>\n      </g>\n     </g>\n    </g>\n    <g id=\"ytick_3\">\n     <g id=\"line2d_10\">\n      <g>\n       <use style=\"stroke:#000000;stroke-width:0.8;\" x=\"43.78125\" xlink:href=\"#m4c56f308da\" y=\"172.92797\"/>\n      </g>\n     </g>\n     <g id=\"text_11\">\n      <!-- 2.5 -->\n      <g transform=\"translate(20.878125 176.727188)scale(0.1 -0.1)\">\n       <use xlink:href=\"#DejaVuSans-50\"/>\n       <use x=\"63.623047\" xlink:href=\"#DejaVuSans-46\"/>\n       <use x=\"95.410156\" xlink:href=\"#DejaVuSans-53\"/>\n      </g>\n     </g>\n    </g>\n    <g id=\"ytick_4\">\n     <g id=\"line2d_11\">\n      <g>\n       <use style=\"stroke:#000000;stroke-width:0.8;\" x=\"43.78125\" xlink:href=\"#m4c56f308da\" y=\"125.493029\"/>\n      </g>\n     </g>\n     <g id=\"text_12\">\n      <!-- 3.0 -->\n      <defs>\n       <path d=\"M 40.578125 39.3125 \nQ 47.65625 37.796875 51.625 33 \nQ 55.609375 28.21875 55.609375 21.1875 \nQ 55.609375 10.40625 48.1875 4.484375 \nQ 40.765625 -1.421875 27.09375 -1.421875 \nQ 22.515625 -1.421875 17.65625 -0.515625 \nQ 12.796875 0.390625 7.625 2.203125 \nL 7.625 11.71875 \nQ 11.71875 9.328125 16.59375 8.109375 \nQ 21.484375 6.890625 26.8125 6.890625 \nQ 36.078125 6.890625 40.9375 10.546875 \nQ 45.796875 14.203125 45.796875 21.1875 \nQ 45.796875 27.640625 41.28125 31.265625 \nQ 36.765625 34.90625 28.71875 34.90625 \nL 20.21875 34.90625 \nL 20.21875 43.015625 \nL 29.109375 43.015625 \nQ 36.375 43.015625 40.234375 45.921875 \nQ 44.09375 48.828125 44.09375 54.296875 \nQ 44.09375 59.90625 40.109375 62.90625 \nQ 36.140625 65.921875 28.71875 65.921875 \nQ 24.65625 65.921875 20.015625 65.03125 \nQ 15.375 64.15625 9.8125 62.3125 \nL 9.8125 71.09375 \nQ 15.4375 72.65625 20.34375 73.4375 \nQ 25.25 74.21875 29.59375 74.21875 \nQ 40.828125 74.21875 47.359375 69.109375 \nQ 53.90625 64.015625 53.90625 55.328125 \nQ 53.90625 49.265625 50.4375 45.09375 \nQ 46.96875 40.921875 40.578125 39.3125 \nz\n\" id=\"DejaVuSans-51\"/>\n      </defs>\n      <g transform=\"translate(20.878125 129.292247)scale(0.1 -0.1)\">\n       <use xlink:href=\"#DejaVuSans-51\"/>\n       <use x=\"63.623047\" xlink:href=\"#DejaVuSans-46\"/>\n       <use x=\"95.410156\" xlink:href=\"#DejaVuSans-48\"/>\n      </g>\n     </g>\n    </g>\n    <g id=\"ytick_5\">\n     <g id=\"line2d_12\">\n      <g>\n       <use style=\"stroke:#000000;stroke-width:0.8;\" x=\"43.78125\" xlink:href=\"#m4c56f308da\" y=\"78.058088\"/>\n      </g>\n     </g>\n     <g id=\"text_13\">\n      <!-- 3.5 -->\n      <g transform=\"translate(20.878125 81.857306)scale(0.1 -0.1)\">\n       <use xlink:href=\"#DejaVuSans-51\"/>\n       <use x=\"63.623047\" xlink:href=\"#DejaVuSans-46\"/>\n       <use x=\"95.410156\" xlink:href=\"#DejaVuSans-53\"/>\n      </g>\n     </g>\n    </g>\n    <g id=\"ytick_6\">\n     <g id=\"line2d_13\">\n      <g>\n       <use style=\"stroke:#000000;stroke-width:0.8;\" x=\"43.78125\" xlink:href=\"#m4c56f308da\" y=\"30.623147\"/>\n      </g>\n     </g>\n     <g id=\"text_14\">\n      <!-- 4.0 -->\n      <g transform=\"translate(20.878125 34.422365)scale(0.1 -0.1)\">\n       <use xlink:href=\"#DejaVuSans-52\"/>\n       <use x=\"63.623047\" xlink:href=\"#DejaVuSans-46\"/>\n       <use x=\"95.410156\" xlink:href=\"#DejaVuSans-48\"/>\n      </g>\n     </g>\n    </g>\n    <g id=\"text_15\">\n     <!-- Loss -->\n     <defs>\n      <path d=\"M 9.8125 72.90625 \nL 19.671875 72.90625 \nL 19.671875 8.296875 \nL 55.171875 8.296875 \nL 55.171875 0 \nL 9.8125 0 \nz\n\" id=\"DejaVuSans-76\"/>\n      <path d=\"M 44.28125 53.078125 \nL 44.28125 44.578125 \nQ 40.484375 46.53125 36.375 47.5 \nQ 32.28125 48.484375 27.875 48.484375 \nQ 21.1875 48.484375 17.84375 46.4375 \nQ 14.5 44.390625 14.5 40.28125 \nQ 14.5 37.15625 16.890625 35.375 \nQ 19.28125 33.59375 26.515625 31.984375 \nL 29.59375 31.296875 \nQ 39.15625 29.25 43.1875 25.515625 \nQ 47.21875 21.78125 47.21875 15.09375 \nQ 47.21875 7.46875 41.1875 3.015625 \nQ 35.15625 -1.421875 24.609375 -1.421875 \nQ 20.21875 -1.421875 15.453125 -0.5625 \nQ 10.6875 0.296875 5.421875 2 \nL 5.421875 11.28125 \nQ 10.40625 8.6875 15.234375 7.390625 \nQ 20.0625 6.109375 24.8125 6.109375 \nQ 31.15625 6.109375 34.5625 8.28125 \nQ 37.984375 10.453125 37.984375 14.40625 \nQ 37.984375 18.0625 35.515625 20.015625 \nQ 33.0625 21.96875 24.703125 23.78125 \nL 21.578125 24.515625 \nQ 13.234375 26.265625 9.515625 29.90625 \nQ 5.8125 33.546875 5.8125 39.890625 \nQ 5.8125 47.609375 11.28125 51.796875 \nQ 16.75 56 26.8125 56 \nQ 31.78125 56 36.171875 55.265625 \nQ 40.578125 54.546875 44.28125 53.078125 \nz\n\" id=\"DejaVuSans-115\"/>\n     </defs>\n     <g transform=\"translate(14.798438 169.185313)rotate(-90)scale(0.1 -0.1)\">\n      <use xlink:href=\"#DejaVuSans-76\"/>\n      <use x=\"53.962891\" xlink:href=\"#DejaVuSans-111\"/>\n      <use x=\"115.144531\" xlink:href=\"#DejaVuSans-115\"/>\n      <use x=\"167.244141\" xlink:href=\"#DejaVuSans-115\"/>\n     </g>\n    </g>\n   </g>\n   <g id=\"line2d_14\">\n    <path clip-path=\"url(#p2fca63c114)\" d=\"M 69.144886 233.575412 \nL 73.235795 214.526484 \nL 77.326705 34.67267 \nL 81.417614 103.026601 \nL 85.508523 148.22197 \nL 89.599432 166.817313 \nL 93.690341 178.481391 \nL 97.78125 188.682761 \nL 101.872159 194.204109 \nL 105.963068 198.74127 \nL 110.053977 202.524504 \nL 114.144886 205.913357 \nL 118.235795 208.862615 \nL 122.326705 211.520227 \nL 126.417614 213.954433 \nL 130.508523 216.15207 \nL 134.599432 218.172014 \nL 138.690341 220.058643 \nL 142.78125 221.820496 \nL 146.872159 223.470149 \nL 150.963068 225.036079 \nL 155.053977 226.484956 \nL 159.144886 227.86868 \nL 163.235795 229.1805 \nL 167.326705 230.423841 \nL 171.417614 231.622487 \nL 175.508523 232.77429 \nL 179.599432 233.859356 \nL 183.690341 234.902623 \nL 187.78125 235.905617 \nL 191.872159 236.864889 \nL 195.963068 237.794463 \nL 200.053977 238.687847 \nL 204.144886 239.557504 \nL 208.235795 240.396139 \nL 212.326705 241.209701 \nL 216.417614 242.006084 \nL 220.508523 242.775834 \nL 224.599432 243.514913 \nL 228.690341 244.252838 \nL 232.78125 244.950694 \nL 236.872159 245.645824 \nL 240.963068 246.315215 \nL 245.053977 246.974766 \nL 249.144886 247.60929 \nL 253.235795 248.232357 \nL 257.326705 248.837487 \nL 261.417614 249.429906 \nL 265.508523 250.012294 \nL 269.599432 250.582116 \nL 273.690341 251.129569 \nL 277.78125 251.672588 \nL 281.872159 252.204649 \nL 285.963068 252.724224 \nL 290.053977 253.240746 \nL 294.144886 253.737725 \nL 298.235795 254.229287 \nL 302.326705 254.719378 \nL 306.417614 255.190809 \nL 310.508523 255.661358 \nL 314.599432 256.121503 \nL 318.690341 256.569829 \nL 322.78125 257.013869 \nL 326.872159 257.452785 \nL 330.963068 257.885369 \nL 335.053977 258.301678 \nL 339.144886 258.718327 \nL 343.235795 259.125317 \nL 347.326705 259.531052 \nL 351.417614 259.921406 \nL 355.508523 260.311772 \nL 359.599432 260.688589 \nL 363.690341 261.067204 \nL 367.78125 261.437925 \nL 371.872159 261.79693 \nL 375.963068 262.16358 \nL 380.053977 262.513458 \nL 384.144886 262.867181 \nL 388.235795 263.209052 \nL 392.326705 263.550844 \nL 396.417614 263.888123 \nL 400.508523 264.221161 \nL 404.599432 264.556213 \nL 408.690341 264.874481 \nL 412.78125 265.205416 \nL 416.872159 265.52054 \nL 420.963068 265.832509 \nL 425.053977 266.141583 \nL 429.144886 266.445556 \nL 433.235795 266.74409 \nL 437.326705 267.049466 \nL 441.417614 267.344154 \nL 445.508523 267.639758 \nL 449.599432 267.932626 \nL 453.690341 268.221761 \nL 457.78125 268.517377 \nL 461.872159 268.798392 \nL 465.963068 269.086894 \nL 470.053977 269.363533 \nL 474.144886 269.645475 \nL 478.235795 269.924466 \nL 482.326705 270.212188 \nL 486.417614 270.491835 \nL 490.508523 270.761405 \nL 494.599432 271.046876 \nL 498.690341 271.31104 \nL 502.78125 271.57275 \nL 506.872159 271.825221 \nL 510.963068 272.074242 \nL 515.053977 272.320944 \nL 519.144886 272.573912 \nL 523.235795 272.826632 \nL 527.326705 273.071446 \nL 531.417614 273.305278 \nL 535.508523 273.55776 \nL 539.599432 273.793391 \nL 543.690341 274.013935 \nL 547.78125 274.224379 \nL 551.872159 274.440128 \nL 555.963068 274.649612 \nL 560.053977 274.855691 \nL 564.144886 275.06246 \nL 568.235795 275.265023 \nL 572.326705 275.467223 \nL 576.417614 275.665951 \n\" style=\"fill:none;stroke:#1f77b4;stroke-linecap:square;stroke-width:1.5;\"/>\n   </g>\n   <g id=\"line2d_15\">\n    <path clip-path=\"url(#p2fca63c114)\" d=\"M 69.144886 235.401197 \nL 73.235795 233.218578 \nL 77.326705 218.537624 \nL 81.417614 152.499151 \nL 85.508523 174.761739 \nL 89.599432 185.920424 \nL 93.690341 193.627738 \nL 97.78125 199.566357 \nL 101.872159 204.222221 \nL 105.963068 208.113188 \nL 110.053977 211.677449 \nL 114.144886 214.670294 \nL 118.235795 217.367488 \nL 122.326705 219.836799 \nL 126.417614 222.077909 \nL 130.508523 224.115722 \nL 134.599432 226.004783 \nL 138.690341 227.779947 \nL 142.78125 229.44938 \nL 146.872159 231.027998 \nL 150.963068 232.489995 \nL 155.053977 233.885379 \nL 159.144886 235.190888 \nL 163.235795 236.417988 \nL 167.326705 237.621079 \nL 171.417614 238.765486 \nL 175.508523 239.864202 \nL 179.599432 240.895798 \nL 183.690341 241.911685 \nL 187.78125 242.864047 \nL 191.872159 243.793157 \nL 195.963068 244.699796 \nL 200.053977 245.58291 \nL 204.144886 246.41329 \nL 208.235795 247.21241 \nL 212.326705 248.008024 \nL 216.417614 248.772051 \nL 220.508523 249.515111 \nL 224.599432 250.266336 \nL 228.690341 250.955495 \nL 232.78125 251.66051 \nL 236.872159 252.327197 \nL 240.963068 252.988547 \nL 245.053977 253.630139 \nL 249.144886 254.270656 \nL 253.235795 254.872779 \nL 257.326705 255.464655 \nL 261.417614 256.057322 \nL 265.508523 256.628253 \nL 269.599432 257.18023 \nL 273.690341 257.71946 \nL 277.78125 258.260048 \nL 281.872159 258.80309 \nL 285.963068 259.334427 \nL 290.053977 259.835184 \nL 294.144886 260.348697 \nL 298.235795 260.848074 \nL 302.326705 261.32465 \nL 306.417614 261.803455 \nL 310.508523 262.270284 \nL 314.599432 262.733006 \nL 318.690341 263.191341 \nL 322.78125 263.633052 \nL 326.872159 264.072658 \nL 330.963068 264.491772 \nL 335.053977 264.925622 \nL 339.144886 265.330102 \nL 343.235795 265.756657 \nL 347.326705 266.14553 \nL 351.417614 266.548031 \nL 355.508523 266.928331 \nL 359.599432 267.313177 \nL 363.690341 267.686002 \nL 367.78125 268.03588 \nL 371.872159 268.402915 \nL 375.963068 268.754218 \nL 380.053977 269.101969 \nL 384.144886 269.436614 \nL 388.235795 269.770873 \nL 392.326705 270.098981 \nL 396.417614 270.433433 \nL 400.508523 270.761314 \nL 404.599432 271.06367 \nL 408.690341 271.388792 \nL 412.78125 271.693229 \nL 416.872159 271.989546 \nL 420.963068 272.302725 \nL 425.053977 272.605895 \nL 429.144886 272.892724 \nL 433.235795 273.189561 \nL 437.326705 273.463191 \nL 441.417614 273.736109 \nL 445.508523 273.992537 \nL 449.599432 274.248909 \nL 453.690341 274.53386 \nL 457.78125 274.803046 \nL 461.872159 275.097146 \nL 465.963068 275.379881 \nL 470.053977 275.665001 \nL 474.144886 275.950461 \nL 478.235795 276.266999 \nL 482.326705 276.560534 \nL 486.417614 276.823341 \nL 490.508523 277.107319 \nL 494.599432 277.364732 \nL 498.690341 277.634879 \nL 502.78125 277.903533 \nL 506.872159 278.173487 \nL 510.963068 278.418516 \nL 515.053977 278.648866 \nL 519.144886 278.871558 \nL 523.235795 279.094545 \nL 527.326705 279.312025 \nL 531.417614 279.526247 \nL 535.508523 279.755137 \nL 539.599432 279.962664 \nL 543.690341 280.175258 \nL 547.78125 280.386121 \nL 551.872159 280.589395 \nL 555.963068 280.785941 \nL 560.053977 280.987757 \nL 564.144886 281.175786 \nL 568.235795 281.376856 \nL 572.326705 281.574577 \nL 576.417614 281.76358 \n\" style=\"fill:none;stroke:#ff7f0e;stroke-linecap:square;stroke-width:1.5;\"/>\n   </g>\n   <g id=\"patch_3\">\n    <path d=\"M 43.78125 294.118125 \nL 43.78125 22.318125 \n\" style=\"fill:none;stroke:#000000;stroke-linecap:square;stroke-linejoin:miter;stroke-width:0.8;\"/>\n   </g>\n   <g id=\"patch_4\">\n    <path d=\"M 601.78125 294.118125 \nL 601.78125 22.318125 \n\" style=\"fill:none;stroke:#000000;stroke-linecap:square;stroke-linejoin:miter;stroke-width:0.8;\"/>\n   </g>\n   <g id=\"patch_5\">\n    <path d=\"M 43.78125 294.118125 \nL 601.78125 294.118125 \n\" style=\"fill:none;stroke:#000000;stroke-linecap:square;stroke-linejoin:miter;stroke-width:0.8;\"/>\n   </g>\n   <g id=\"patch_6\">\n    <path d=\"M 43.78125 22.318125 \nL 601.78125 22.318125 \n\" style=\"fill:none;stroke:#000000;stroke-linecap:square;stroke-linejoin:miter;stroke-width:0.8;\"/>\n   </g>\n   <g id=\"text_16\">\n    <!-- Loss vs. epochs, batch=16 -->\n    <defs>\n     <path id=\"DejaVuSans-32\"/>\n     <path d=\"M 2.984375 54.6875 \nL 12.5 54.6875 \nL 29.59375 8.796875 \nL 46.6875 54.6875 \nL 56.203125 54.6875 \nL 35.6875 0 \nL 23.484375 0 \nz\n\" id=\"DejaVuSans-118\"/>\n     <path d=\"M 56.203125 29.59375 \nL 56.203125 25.203125 \nL 14.890625 25.203125 \nQ 15.484375 15.921875 20.484375 11.0625 \nQ 25.484375 6.203125 34.421875 6.203125 \nQ 39.59375 6.203125 44.453125 7.46875 \nQ 49.3125 8.734375 54.109375 11.28125 \nL 54.109375 2.78125 \nQ 49.265625 0.734375 44.1875 -0.34375 \nQ 39.109375 -1.421875 33.890625 -1.421875 \nQ 20.796875 -1.421875 13.15625 6.1875 \nQ 5.515625 13.8125 5.515625 26.8125 \nQ 5.515625 40.234375 12.765625 48.109375 \nQ 20.015625 56 32.328125 56 \nQ 43.359375 56 49.78125 48.890625 \nQ 56.203125 41.796875 56.203125 29.59375 \nz\nM 47.21875 32.234375 \nQ 47.125 39.59375 43.09375 43.984375 \nQ 39.0625 48.390625 32.421875 48.390625 \nQ 24.90625 48.390625 20.390625 44.140625 \nQ 15.875 39.890625 15.1875 32.171875 \nz\n\" id=\"DejaVuSans-101\"/>\n     <path d=\"M 11.71875 12.40625 \nL 22.015625 12.40625 \nL 22.015625 4 \nL 14.015625 -11.625 \nL 7.71875 -11.625 \nL 11.71875 4 \nz\n\" id=\"DejaVuSans-44\"/>\n     <path d=\"M 48.6875 27.296875 \nQ 48.6875 37.203125 44.609375 42.84375 \nQ 40.53125 48.484375 33.40625 48.484375 \nQ 26.265625 48.484375 22.1875 42.84375 \nQ 18.109375 37.203125 18.109375 27.296875 \nQ 18.109375 17.390625 22.1875 11.75 \nQ 26.265625 6.109375 33.40625 6.109375 \nQ 40.53125 6.109375 44.609375 11.75 \nQ 48.6875 17.390625 48.6875 27.296875 \nz\nM 18.109375 46.390625 \nQ 20.953125 51.265625 25.265625 53.625 \nQ 29.59375 56 35.59375 56 \nQ 45.5625 56 51.78125 48.09375 \nQ 58.015625 40.1875 58.015625 27.296875 \nQ 58.015625 14.40625 51.78125 6.484375 \nQ 45.5625 -1.421875 35.59375 -1.421875 \nQ 29.59375 -1.421875 25.265625 0.953125 \nQ 20.953125 3.328125 18.109375 8.203125 \nL 18.109375 0 \nL 9.078125 0 \nL 9.078125 75.984375 \nL 18.109375 75.984375 \nz\n\" id=\"DejaVuSans-98\"/>\n     <path d=\"M 34.28125 27.484375 \nQ 23.390625 27.484375 19.1875 25 \nQ 14.984375 22.515625 14.984375 16.5 \nQ 14.984375 11.71875 18.140625 8.90625 \nQ 21.296875 6.109375 26.703125 6.109375 \nQ 34.1875 6.109375 38.703125 11.40625 \nQ 43.21875 16.703125 43.21875 25.484375 \nL 43.21875 27.484375 \nz\nM 52.203125 31.203125 \nL 52.203125 0 \nL 43.21875 0 \nL 43.21875 8.296875 \nQ 40.140625 3.328125 35.546875 0.953125 \nQ 30.953125 -1.421875 24.3125 -1.421875 \nQ 15.921875 -1.421875 10.953125 3.296875 \nQ 6 8.015625 6 15.921875 \nQ 6 25.140625 12.171875 29.828125 \nQ 18.359375 34.515625 30.609375 34.515625 \nL 43.21875 34.515625 \nL 43.21875 35.40625 \nQ 43.21875 41.609375 39.140625 45 \nQ 35.0625 48.390625 27.6875 48.390625 \nQ 23 48.390625 18.546875 47.265625 \nQ 14.109375 46.140625 10.015625 43.890625 \nL 10.015625 52.203125 \nQ 14.9375 54.109375 19.578125 55.046875 \nQ 24.21875 56 28.609375 56 \nQ 40.484375 56 46.34375 49.84375 \nQ 52.203125 43.703125 52.203125 31.203125 \nz\n\" id=\"DejaVuSans-97\"/>\n     <path d=\"M 18.3125 70.21875 \nL 18.3125 54.6875 \nL 36.8125 54.6875 \nL 36.8125 47.703125 \nL 18.3125 47.703125 \nL 18.3125 18.015625 \nQ 18.3125 11.328125 20.140625 9.421875 \nQ 21.96875 7.515625 27.59375 7.515625 \nL 36.8125 7.515625 \nL 36.8125 0 \nL 27.59375 0 \nQ 17.1875 0 13.234375 3.875 \nQ 9.28125 7.765625 9.28125 18.015625 \nL 9.28125 47.703125 \nL 2.6875 47.703125 \nL 2.6875 54.6875 \nL 9.28125 54.6875 \nL 9.28125 70.21875 \nz\n\" id=\"DejaVuSans-116\"/>\n     <path d=\"M 10.59375 45.40625 \nL 73.1875 45.40625 \nL 73.1875 37.203125 \nL 10.59375 37.203125 \nz\nM 10.59375 25.484375 \nL 73.1875 25.484375 \nL 73.1875 17.1875 \nL 10.59375 17.1875 \nz\n\" id=\"DejaVuSans-61\"/>\n    </defs>\n    <g transform=\"translate(242.4075 16.318125)scale(0.12 -0.12)\">\n     <use xlink:href=\"#DejaVuSans-76\"/>\n     <use x=\"53.962891\" xlink:href=\"#DejaVuSans-111\"/>\n     <use x=\"115.144531\" xlink:href=\"#DejaVuSans-115\"/>\n     <use x=\"167.244141\" xlink:href=\"#DejaVuSans-115\"/>\n     <use x=\"219.34375\" xlink:href=\"#DejaVuSans-32\"/>\n     <use x=\"251.130859\" xlink:href=\"#DejaVuSans-118\"/>\n     <use x=\"310.310547\" xlink:href=\"#DejaVuSans-115\"/>\n     <use x=\"362.410156\" xlink:href=\"#DejaVuSans-46\"/>\n     <use x=\"394.197266\" xlink:href=\"#DejaVuSans-32\"/>\n     <use x=\"425.984375\" xlink:href=\"#DejaVuSans-101\"/>\n     <use x=\"487.507812\" xlink:href=\"#DejaVuSans-112\"/>\n     <use x=\"550.984375\" xlink:href=\"#DejaVuSans-111\"/>\n     <use x=\"612.166016\" xlink:href=\"#DejaVuSans-99\"/>\n     <use x=\"667.146484\" xlink:href=\"#DejaVuSans-104\"/>\n     <use x=\"730.525391\" xlink:href=\"#DejaVuSans-115\"/>\n     <use x=\"782.625\" xlink:href=\"#DejaVuSans-44\"/>\n     <use x=\"814.412109\" xlink:href=\"#DejaVuSans-32\"/>\n     <use x=\"846.199219\" xlink:href=\"#DejaVuSans-98\"/>\n     <use x=\"909.675781\" xlink:href=\"#DejaVuSans-97\"/>\n     <use x=\"970.955078\" xlink:href=\"#DejaVuSans-116\"/>\n     <use x=\"1010.164062\" xlink:href=\"#DejaVuSans-99\"/>\n     <use x=\"1065.144531\" xlink:href=\"#DejaVuSans-104\"/>\n     <use x=\"1128.523438\" xlink:href=\"#DejaVuSans-61\"/>\n     <use x=\"1212.3125\" xlink:href=\"#DejaVuSans-49\"/>\n     <use x=\"1275.935547\" xlink:href=\"#DejaVuSans-54\"/>\n    </g>\n   </g>\n   <g id=\"legend_1\">\n    <g id=\"patch_7\">\n     <path d=\"M 513.4 59.674375 \nL 594.78125 59.674375 \nQ 596.78125 59.674375 596.78125 57.674375 \nL 596.78125 29.318125 \nQ 596.78125 27.318125 594.78125 27.318125 \nL 513.4 27.318125 \nQ 511.4 27.318125 511.4 29.318125 \nL 511.4 57.674375 \nQ 511.4 59.674375 513.4 59.674375 \nz\n\" style=\"fill:#ffffff;opacity:0.8;stroke:#cccccc;stroke-linejoin:miter;\"/>\n    </g>\n    <g id=\"line2d_16\">\n     <path d=\"M 515.4 35.416562 \nL 535.4 35.416562 \n\" style=\"fill:none;stroke:#1f77b4;stroke-linecap:square;stroke-width:1.5;\"/>\n    </g>\n    <g id=\"line2d_17\"/>\n    <g id=\"text_17\">\n     <!-- Training -->\n     <defs>\n      <path d=\"M -0.296875 72.90625 \nL 61.375 72.90625 \nL 61.375 64.59375 \nL 35.5 64.59375 \nL 35.5 0 \nL 25.59375 0 \nL 25.59375 64.59375 \nL -0.296875 64.59375 \nz\n\" id=\"DejaVuSans-84\"/>\n      <path d=\"M 41.109375 46.296875 \nQ 39.59375 47.171875 37.8125 47.578125 \nQ 36.03125 48 33.890625 48 \nQ 26.265625 48 22.1875 43.046875 \nQ 18.109375 38.09375 18.109375 28.8125 \nL 18.109375 0 \nL 9.078125 0 \nL 9.078125 54.6875 \nL 18.109375 54.6875 \nL 18.109375 46.1875 \nQ 20.953125 51.171875 25.484375 53.578125 \nQ 30.03125 56 36.53125 56 \nQ 37.453125 56 38.578125 55.875 \nQ 39.703125 55.765625 41.0625 55.515625 \nz\n\" id=\"DejaVuSans-114\"/>\n      <path d=\"M 9.421875 54.6875 \nL 18.40625 54.6875 \nL 18.40625 0 \nL 9.421875 0 \nz\nM 9.421875 75.984375 \nL 18.40625 75.984375 \nL 18.40625 64.59375 \nL 9.421875 64.59375 \nz\n\" id=\"DejaVuSans-105\"/>\n      <path d=\"M 54.890625 33.015625 \nL 54.890625 0 \nL 45.90625 0 \nL 45.90625 32.71875 \nQ 45.90625 40.484375 42.875 44.328125 \nQ 39.84375 48.1875 33.796875 48.1875 \nQ 26.515625 48.1875 22.3125 43.546875 \nQ 18.109375 38.921875 18.109375 30.90625 \nL 18.109375 0 \nL 9.078125 0 \nL 9.078125 54.6875 \nL 18.109375 54.6875 \nL 18.109375 46.1875 \nQ 21.34375 51.125 25.703125 53.5625 \nQ 30.078125 56 35.796875 56 \nQ 45.21875 56 50.046875 50.171875 \nQ 54.890625 44.34375 54.890625 33.015625 \nz\n\" id=\"DejaVuSans-110\"/>\n      <path d=\"M 45.40625 27.984375 \nQ 45.40625 37.75 41.375 43.109375 \nQ 37.359375 48.484375 30.078125 48.484375 \nQ 22.859375 48.484375 18.828125 43.109375 \nQ 14.796875 37.75 14.796875 27.984375 \nQ 14.796875 18.265625 18.828125 12.890625 \nQ 22.859375 7.515625 30.078125 7.515625 \nQ 37.359375 7.515625 41.375 12.890625 \nQ 45.40625 18.265625 45.40625 27.984375 \nz\nM 54.390625 6.78125 \nQ 54.390625 -7.171875 48.1875 -13.984375 \nQ 42 -20.796875 29.203125 -20.796875 \nQ 24.46875 -20.796875 20.265625 -20.09375 \nQ 16.0625 -19.390625 12.109375 -17.921875 \nL 12.109375 -9.1875 \nQ 16.0625 -11.328125 19.921875 -12.34375 \nQ 23.78125 -13.375 27.78125 -13.375 \nQ 36.625 -13.375 41.015625 -8.765625 \nQ 45.40625 -4.15625 45.40625 5.171875 \nL 45.40625 9.625 \nQ 42.625 4.78125 38.28125 2.390625 \nQ 33.9375 0 27.875 0 \nQ 17.828125 0 11.671875 7.65625 \nQ 5.515625 15.328125 5.515625 27.984375 \nQ 5.515625 40.671875 11.671875 48.328125 \nQ 17.828125 56 27.875 56 \nQ 33.9375 56 38.28125 53.609375 \nQ 42.625 51.21875 45.40625 46.390625 \nL 45.40625 54.6875 \nL 54.390625 54.6875 \nz\n\" id=\"DejaVuSans-103\"/>\n     </defs>\n     <g transform=\"translate(543.4 38.916562)scale(0.1 -0.1)\">\n      <use xlink:href=\"#DejaVuSans-84\"/>\n      <use x=\"46.333984\" xlink:href=\"#DejaVuSans-114\"/>\n      <use x=\"87.447266\" xlink:href=\"#DejaVuSans-97\"/>\n      <use x=\"148.726562\" xlink:href=\"#DejaVuSans-105\"/>\n      <use x=\"176.509766\" xlink:href=\"#DejaVuSans-110\"/>\n      <use x=\"239.888672\" xlink:href=\"#DejaVuSans-105\"/>\n      <use x=\"267.671875\" xlink:href=\"#DejaVuSans-110\"/>\n      <use x=\"331.050781\" xlink:href=\"#DejaVuSans-103\"/>\n     </g>\n    </g>\n    <g id=\"line2d_18\">\n     <path d=\"M 515.4 50.094688 \nL 535.4 50.094688 \n\" style=\"fill:none;stroke:#ff7f0e;stroke-linecap:square;stroke-width:1.5;\"/>\n    </g>\n    <g id=\"line2d_19\"/>\n    <g id=\"text_18\">\n     <!-- Validation -->\n     <defs>\n      <path d=\"M 28.609375 0 \nL 0.78125 72.90625 \nL 11.078125 72.90625 \nL 34.1875 11.53125 \nL 57.328125 72.90625 \nL 67.578125 72.90625 \nL 39.796875 0 \nz\n\" id=\"DejaVuSans-86\"/>\n      <path d=\"M 9.421875 75.984375 \nL 18.40625 75.984375 \nL 18.40625 0 \nL 9.421875 0 \nz\n\" id=\"DejaVuSans-108\"/>\n      <path d=\"M 45.40625 46.390625 \nL 45.40625 75.984375 \nL 54.390625 75.984375 \nL 54.390625 0 \nL 45.40625 0 \nL 45.40625 8.203125 \nQ 42.578125 3.328125 38.25 0.953125 \nQ 33.9375 -1.421875 27.875 -1.421875 \nQ 17.96875 -1.421875 11.734375 6.484375 \nQ 5.515625 14.40625 5.515625 27.296875 \nQ 5.515625 40.1875 11.734375 48.09375 \nQ 17.96875 56 27.875 56 \nQ 33.9375 56 38.25 53.625 \nQ 42.578125 51.265625 45.40625 46.390625 \nz\nM 14.796875 27.296875 \nQ 14.796875 17.390625 18.875 11.75 \nQ 22.953125 6.109375 30.078125 6.109375 \nQ 37.203125 6.109375 41.296875 11.75 \nQ 45.40625 17.390625 45.40625 27.296875 \nQ 45.40625 37.203125 41.296875 42.84375 \nQ 37.203125 48.484375 30.078125 48.484375 \nQ 22.953125 48.484375 18.875 42.84375 \nQ 14.796875 37.203125 14.796875 27.296875 \nz\n\" id=\"DejaVuSans-100\"/>\n     </defs>\n     <g transform=\"translate(543.4 53.594688)scale(0.1 -0.1)\">\n      <use xlink:href=\"#DejaVuSans-86\"/>\n      <use x=\"60.658203\" xlink:href=\"#DejaVuSans-97\"/>\n      <use x=\"121.9375\" xlink:href=\"#DejaVuSans-108\"/>\n      <use x=\"149.720703\" xlink:href=\"#DejaVuSans-105\"/>\n      <use x=\"177.503906\" xlink:href=\"#DejaVuSans-100\"/>\n      <use x=\"240.980469\" xlink:href=\"#DejaVuSans-97\"/>\n      <use x=\"302.259766\" xlink:href=\"#DejaVuSans-116\"/>\n      <use x=\"341.46875\" xlink:href=\"#DejaVuSans-105\"/>\n      <use x=\"369.251953\" xlink:href=\"#DejaVuSans-111\"/>\n      <use x=\"430.433594\" xlink:href=\"#DejaVuSans-110\"/>\n     </g>\n    </g>\n   </g>\n  </g>\n </g>\n <defs>\n  <clipPath id=\"p2fca63c114\">\n   <rect height=\"271.8\" width=\"558\" x=\"43.78125\" y=\"22.318125\"/>\n  </clipPath>\n </defs>\n</svg>\n"
          },
          "metadata": {
            "needs_background": "light"
          }
        }
      ],
      "source": [
        "#@title\n",
        "plt.figure(figsize=(10,5))\n",
        "plt.plot(history.history['loss'])\n",
        "plt.plot(history.history['val_loss'])\n",
        "plt.title('Loss vs. epochs, batch=' +str(batch_size))\n",
        "plt.ylabel('Loss')\n",
        "plt.xlabel('Epoch')\n",
        "plt.legend(['Training', 'Validation'], loc='upper right')\n",
        "plt.show()"
      ]
    },
    {
      "cell_type": "markdown",
      "id": "a7c4cd41-4aa3-4a8e-a6bb-3c7862c25787",
      "metadata": {
        "id": "a7c4cd41-4aa3-4a8e-a6bb-3c7862c25787"
      },
      "source": [
        "##### Size =  128"
      ]
    },
    {
      "cell_type": "markdown",
      "id": "55ae315d-ccfd-42aa-9e02-b2ba042756ec",
      "metadata": {
        "id": "55ae315d-ccfd-42aa-9e02-b2ba042756ec"
      },
      "source": [
        "10. **Retrain for 128 batch size**"
      ]
    },
    {
      "cell_type": "code",
      "execution_count": 197,
      "id": "220b57cc-c220-424f-b3df-25eff109f718",
      "metadata": {
        "id": "220b57cc-c220-424f-b3df-25eff109f718",
        "colab": {
          "base_uri": "https://localhost:8080/"
        },
        "outputId": "739ea9bf-e1fe-4aa5-f646-d7dc625aca2d"
      },
      "outputs": [
        {
          "output_type": "stream",
          "name": "stdout",
          "text": [
            "Epoch 1/125\n",
            "4/4 [==============================] - 1s 62ms/step - loss: 5.8137 - accuracy: 0.3459 - val_loss: 3.8544 - val_accuracy: 0.4133\n",
            "Epoch 2/125\n",
            "4/4 [==============================] - 0s 12ms/step - loss: 6.4198 - accuracy: 0.3741 - val_loss: 9.7661 - val_accuracy: 0.4133\n",
            "Epoch 3/125\n",
            "4/4 [==============================] - 0s 12ms/step - loss: 7.9541 - accuracy: 0.3294 - val_loss: 8.1214 - val_accuracy: 0.4133\n",
            "Epoch 4/125\n",
            "4/4 [==============================] - 0s 10ms/step - loss: 5.6432 - accuracy: 0.3294 - val_loss: 6.8611 - val_accuracy: 0.4133\n",
            "Epoch 5/125\n",
            "4/4 [==============================] - 0s 10ms/step - loss: 5.4453 - accuracy: 0.3294 - val_loss: 6.7724 - val_accuracy: 0.4133\n",
            "Epoch 6/125\n",
            "4/4 [==============================] - 0s 10ms/step - loss: 5.4189 - accuracy: 0.3294 - val_loss: 6.7437 - val_accuracy: 0.4133\n",
            "Epoch 7/125\n",
            "4/4 [==============================] - 0s 11ms/step - loss: 5.4405 - accuracy: 0.3294 - val_loss: 6.9394 - val_accuracy: 0.4133\n",
            "Epoch 8/125\n",
            "4/4 [==============================] - 0s 12ms/step - loss: 5.8439 - accuracy: 0.3294 - val_loss: 7.5680 - val_accuracy: 0.4133\n",
            "Epoch 9/125\n",
            "4/4 [==============================] - 0s 19ms/step - loss: 6.2492 - accuracy: 0.3294 - val_loss: 7.7728 - val_accuracy: 0.4133\n",
            "Epoch 10/125\n",
            "4/4 [==============================] - 0s 11ms/step - loss: 6.5802 - accuracy: 0.3294 - val_loss: 8.1948 - val_accuracy: 0.4133\n",
            "Epoch 11/125\n",
            "4/4 [==============================] - 0s 17ms/step - loss: 6.8374 - accuracy: 0.3294 - val_loss: 8.1893 - val_accuracy: 0.4133\n",
            "Epoch 12/125\n",
            "4/4 [==============================] - 0s 10ms/step - loss: 7.0578 - accuracy: 0.3294 - val_loss: 8.6163 - val_accuracy: 0.4133\n",
            "Epoch 13/125\n",
            "4/4 [==============================] - 0s 12ms/step - loss: 7.2048 - accuracy: 0.3294 - val_loss: 9.0438 - val_accuracy: 0.4133\n",
            "Epoch 14/125\n",
            "4/4 [==============================] - 0s 12ms/step - loss: 7.3525 - accuracy: 0.3294 - val_loss: 9.0418 - val_accuracy: 0.4133\n",
            "Epoch 15/125\n",
            "4/4 [==============================] - 0s 10ms/step - loss: 7.3876 - accuracy: 0.3294 - val_loss: 9.0403 - val_accuracy: 0.4133\n",
            "Epoch 16/125\n",
            "4/4 [==============================] - 0s 11ms/step - loss: 7.5749 - accuracy: 0.3294 - val_loss: 9.2541 - val_accuracy: 0.4133\n",
            "Epoch 17/125\n",
            "4/4 [==============================] - 0s 11ms/step - loss: 7.7625 - accuracy: 0.3294 - val_loss: 9.2531 - val_accuracy: 0.4133\n",
            "Epoch 18/125\n",
            "4/4 [==============================] - 0s 11ms/step - loss: 7.8365 - accuracy: 0.3294 - val_loss: 9.2520 - val_accuracy: 0.4133\n",
            "Epoch 19/125\n",
            "4/4 [==============================] - 0s 12ms/step - loss: 7.8725 - accuracy: 0.3294 - val_loss: 9.2510 - val_accuracy: 0.4133\n",
            "Epoch 20/125\n",
            "4/4 [==============================] - 0s 11ms/step - loss: 7.9088 - accuracy: 0.3294 - val_loss: 9.2504 - val_accuracy: 0.4133\n",
            "Epoch 21/125\n",
            "4/4 [==============================] - 0s 13ms/step - loss: 7.9453 - accuracy: 0.3294 - val_loss: 9.2498 - val_accuracy: 0.4133\n",
            "Epoch 22/125\n",
            "4/4 [==============================] - 0s 11ms/step - loss: 8.0954 - accuracy: 0.3294 - val_loss: 9.2493 - val_accuracy: 0.4133\n",
            "Epoch 23/125\n",
            "4/4 [==============================] - 0s 11ms/step - loss: 8.0941 - accuracy: 0.3294 - val_loss: 9.0340 - val_accuracy: 0.4133\n",
            "Epoch 24/125\n",
            "4/4 [==============================] - 0s 11ms/step - loss: 8.0929 - accuracy: 0.3294 - val_loss: 8.8186 - val_accuracy: 0.4133\n",
            "Epoch 25/125\n",
            "4/4 [==============================] - 0s 11ms/step - loss: 8.0917 - accuracy: 0.3294 - val_loss: 8.8182 - val_accuracy: 0.4133\n",
            "Epoch 26/125\n",
            "4/4 [==============================] - 0s 11ms/step - loss: 8.1666 - accuracy: 0.3294 - val_loss: 8.8178 - val_accuracy: 0.4133\n",
            "Epoch 27/125\n",
            "4/4 [==============================] - 0s 10ms/step - loss: 8.1279 - accuracy: 0.3294 - val_loss: 8.8176 - val_accuracy: 0.4133\n",
            "Epoch 28/125\n",
            "4/4 [==============================] - 0s 11ms/step - loss: 8.1656 - accuracy: 0.3294 - val_loss: 8.8175 - val_accuracy: 0.4133\n",
            "Epoch 29/125\n",
            "4/4 [==============================] - 0s 10ms/step - loss: 8.1273 - accuracy: 0.3294 - val_loss: 8.8173 - val_accuracy: 0.4133\n",
            "Epoch 30/125\n",
            "4/4 [==============================] - 0s 15ms/step - loss: 8.1650 - accuracy: 0.3294 - val_loss: 8.8171 - val_accuracy: 0.4133\n",
            "Epoch 31/125\n",
            "4/4 [==============================] - 0s 10ms/step - loss: 8.1646 - accuracy: 0.3294 - val_loss: 8.8170 - val_accuracy: 0.4133\n",
            "Epoch 32/125\n",
            "4/4 [==============================] - 0s 12ms/step - loss: 8.1644 - accuracy: 0.3294 - val_loss: 8.8168 - val_accuracy: 0.4133\n",
            "Epoch 33/125\n",
            "4/4 [==============================] - 0s 10ms/step - loss: 8.2020 - accuracy: 0.3294 - val_loss: 8.8166 - val_accuracy: 0.4133\n",
            "Epoch 34/125\n",
            "4/4 [==============================] - 0s 12ms/step - loss: 8.2775 - accuracy: 0.3294 - val_loss: 8.8164 - val_accuracy: 0.4133\n",
            "Epoch 35/125\n",
            "4/4 [==============================] - 0s 11ms/step - loss: 8.2772 - accuracy: 0.3294 - val_loss: 8.8163 - val_accuracy: 0.4133\n",
            "Epoch 36/125\n",
            "4/4 [==============================] - 0s 11ms/step - loss: 8.2390 - accuracy: 0.3294 - val_loss: 9.0310 - val_accuracy: 0.4133\n",
            "Epoch 37/125\n",
            "4/4 [==============================] - 0s 10ms/step - loss: 8.2387 - accuracy: 0.3294 - val_loss: 9.0309 - val_accuracy: 0.4133\n",
            "Epoch 38/125\n",
            "4/4 [==============================] - 0s 13ms/step - loss: 8.2384 - accuracy: 0.3294 - val_loss: 9.0307 - val_accuracy: 0.4133\n",
            "Epoch 39/125\n",
            "4/4 [==============================] - 0s 11ms/step - loss: 8.2003 - accuracy: 0.3294 - val_loss: 9.0306 - val_accuracy: 0.4133\n",
            "Epoch 40/125\n",
            "4/4 [==============================] - 0s 11ms/step - loss: 8.2000 - accuracy: 0.3294 - val_loss: 9.0304 - val_accuracy: 0.4133\n",
            "Epoch 41/125\n",
            "4/4 [==============================] - 0s 12ms/step - loss: 8.2377 - accuracy: 0.3294 - val_loss: 9.0303 - val_accuracy: 0.4133\n",
            "Epoch 42/125\n",
            "4/4 [==============================] - 0s 11ms/step - loss: 8.2754 - accuracy: 0.3294 - val_loss: 9.0301 - val_accuracy: 0.4133\n",
            "Epoch 43/125\n",
            "4/4 [==============================] - 0s 12ms/step - loss: 8.2751 - accuracy: 0.3294 - val_loss: 8.8151 - val_accuracy: 0.4133\n",
            "Epoch 44/125\n",
            "4/4 [==============================] - 0s 12ms/step - loss: 8.2749 - accuracy: 0.3294 - val_loss: 8.8149 - val_accuracy: 0.4133\n",
            "Epoch 45/125\n",
            "4/4 [==============================] - 0s 12ms/step - loss: 8.3126 - accuracy: 0.3294 - val_loss: 8.8148 - val_accuracy: 0.4133\n",
            "Epoch 46/125\n",
            "4/4 [==============================] - 0s 11ms/step - loss: 8.3124 - accuracy: 0.3294 - val_loss: 8.8146 - val_accuracy: 0.4133\n",
            "Epoch 47/125\n",
            "4/4 [==============================] - 0s 10ms/step - loss: 8.2743 - accuracy: 0.3294 - val_loss: 8.8145 - val_accuracy: 0.4133\n",
            "Epoch 48/125\n",
            "4/4 [==============================] - 0s 12ms/step - loss: 8.2741 - accuracy: 0.3294 - val_loss: 8.8143 - val_accuracy: 0.4133\n",
            "Epoch 49/125\n",
            "4/4 [==============================] - 0s 12ms/step - loss: 8.3118 - accuracy: 0.3294 - val_loss: 8.8142 - val_accuracy: 0.4133\n",
            "Epoch 50/125\n",
            "4/4 [==============================] - 0s 10ms/step - loss: 8.3115 - accuracy: 0.3294 - val_loss: 8.8140 - val_accuracy: 0.4133\n",
            "Epoch 51/125\n",
            "4/4 [==============================] - 0s 13ms/step - loss: 8.3113 - accuracy: 0.3294 - val_loss: 8.8139 - val_accuracy: 0.4133\n",
            "Epoch 52/125\n",
            "4/4 [==============================] - 0s 16ms/step - loss: 8.3111 - accuracy: 0.3294 - val_loss: 8.8137 - val_accuracy: 0.4133\n",
            "Epoch 53/125\n",
            "4/4 [==============================] - 0s 10ms/step - loss: 8.3109 - accuracy: 0.3294 - val_loss: 8.8136 - val_accuracy: 0.4133\n",
            "Epoch 54/125\n",
            "4/4 [==============================] - 0s 10ms/step - loss: 8.3107 - accuracy: 0.3294 - val_loss: 8.8134 - val_accuracy: 0.4133\n",
            "Epoch 55/125\n",
            "4/4 [==============================] - 0s 10ms/step - loss: 8.3105 - accuracy: 0.3294 - val_loss: 9.0282 - val_accuracy: 0.4133\n",
            "Epoch 56/125\n",
            "4/4 [==============================] - 0s 10ms/step - loss: 8.3104 - accuracy: 0.3294 - val_loss: 9.0281 - val_accuracy: 0.4133\n",
            "Epoch 57/125\n",
            "4/4 [==============================] - 0s 10ms/step - loss: 8.3102 - accuracy: 0.3294 - val_loss: 9.2429 - val_accuracy: 0.4133\n",
            "Epoch 58/125\n",
            "4/4 [==============================] - 0s 11ms/step - loss: 8.3480 - accuracy: 0.3294 - val_loss: 9.2427 - val_accuracy: 0.4133\n",
            "Epoch 59/125\n",
            "4/4 [==============================] - 0s 11ms/step - loss: 8.3857 - accuracy: 0.3294 - val_loss: 9.2426 - val_accuracy: 0.4133\n",
            "Epoch 60/125\n",
            "4/4 [==============================] - 0s 12ms/step - loss: 8.3856 - accuracy: 0.3294 - val_loss: 9.2425 - val_accuracy: 0.4133\n",
            "Epoch 61/125\n",
            "4/4 [==============================] - 0s 11ms/step - loss: 8.3854 - accuracy: 0.3294 - val_loss: 9.2424 - val_accuracy: 0.4133\n",
            "Epoch 62/125\n",
            "4/4 [==============================] - 0s 12ms/step - loss: 8.4232 - accuracy: 0.3294 - val_loss: 9.2422 - val_accuracy: 0.4133\n",
            "Epoch 63/125\n",
            "4/4 [==============================] - 0s 11ms/step - loss: 8.4230 - accuracy: 0.3294 - val_loss: 9.2421 - val_accuracy: 0.4133\n",
            "Epoch 64/125\n",
            "4/4 [==============================] - 0s 11ms/step - loss: 8.4228 - accuracy: 0.3294 - val_loss: 9.2420 - val_accuracy: 0.4133\n",
            "Epoch 65/125\n",
            "4/4 [==============================] - 0s 12ms/step - loss: 8.4227 - accuracy: 0.3294 - val_loss: 9.2418 - val_accuracy: 0.4133\n",
            "Epoch 66/125\n",
            "4/4 [==============================] - 0s 13ms/step - loss: 8.3846 - accuracy: 0.3294 - val_loss: 9.2417 - val_accuracy: 0.4133\n",
            "Epoch 67/125\n",
            "4/4 [==============================] - 0s 11ms/step - loss: 8.3844 - accuracy: 0.3294 - val_loss: 9.2415 - val_accuracy: 0.4133\n",
            "Epoch 68/125\n",
            "4/4 [==============================] - 0s 13ms/step - loss: 8.3843 - accuracy: 0.3294 - val_loss: 9.2414 - val_accuracy: 0.4133\n",
            "Epoch 69/125\n",
            "4/4 [==============================] - 0s 12ms/step - loss: 8.3842 - accuracy: 0.3294 - val_loss: 9.2413 - val_accuracy: 0.4133\n",
            "Epoch 70/125\n",
            "4/4 [==============================] - 0s 16ms/step - loss: 8.3841 - accuracy: 0.3294 - val_loss: 9.2412 - val_accuracy: 0.4133\n",
            "Epoch 71/125\n",
            "4/4 [==============================] - 0s 17ms/step - loss: 8.3460 - accuracy: 0.3294 - val_loss: 9.2411 - val_accuracy: 0.4133\n",
            "Epoch 72/125\n",
            "4/4 [==============================] - 0s 13ms/step - loss: 8.3459 - accuracy: 0.3294 - val_loss: 9.2410 - val_accuracy: 0.4133\n",
            "Epoch 73/125\n",
            "4/4 [==============================] - 0s 12ms/step - loss: 8.3458 - accuracy: 0.3294 - val_loss: 9.2410 - val_accuracy: 0.4133\n",
            "Epoch 74/125\n",
            "4/4 [==============================] - 0s 12ms/step - loss: 8.3458 - accuracy: 0.3294 - val_loss: 9.2410 - val_accuracy: 0.4133\n",
            "Epoch 75/125\n",
            "4/4 [==============================] - 0s 11ms/step - loss: 8.3457 - accuracy: 0.3294 - val_loss: 9.2410 - val_accuracy: 0.4133\n",
            "Epoch 76/125\n",
            "4/4 [==============================] - 0s 11ms/step - loss: 8.3457 - accuracy: 0.3294 - val_loss: 9.2410 - val_accuracy: 0.4133\n",
            "Epoch 77/125\n",
            "4/4 [==============================] - 0s 13ms/step - loss: 8.3456 - accuracy: 0.3294 - val_loss: 9.2410 - val_accuracy: 0.4133\n",
            "Epoch 78/125\n",
            "4/4 [==============================] - 0s 11ms/step - loss: 8.3456 - accuracy: 0.3294 - val_loss: 9.2410 - val_accuracy: 0.4133\n",
            "Epoch 79/125\n",
            "4/4 [==============================] - 0s 11ms/step - loss: 8.3456 - accuracy: 0.3294 - val_loss: 9.2410 - val_accuracy: 0.4133\n",
            "Epoch 80/125\n",
            "4/4 [==============================] - 0s 10ms/step - loss: 8.3455 - accuracy: 0.3294 - val_loss: 9.2410 - val_accuracy: 0.4133\n",
            "Epoch 81/125\n",
            "4/4 [==============================] - 0s 11ms/step - loss: 8.3455 - accuracy: 0.3294 - val_loss: 9.2410 - val_accuracy: 0.4133\n",
            "Epoch 82/125\n",
            "4/4 [==============================] - 0s 11ms/step - loss: 8.3455 - accuracy: 0.3294 - val_loss: 9.2410 - val_accuracy: 0.4133\n",
            "Epoch 83/125\n",
            "4/4 [==============================] - 0s 10ms/step - loss: 8.3454 - accuracy: 0.3294 - val_loss: 9.2410 - val_accuracy: 0.4133\n",
            "Epoch 84/125\n",
            "4/4 [==============================] - 0s 10ms/step - loss: 8.3454 - accuracy: 0.3294 - val_loss: 9.2410 - val_accuracy: 0.4133\n",
            "Epoch 85/125\n",
            "4/4 [==============================] - 0s 11ms/step - loss: 8.3453 - accuracy: 0.3294 - val_loss: 9.2410 - val_accuracy: 0.4133\n",
            "Epoch 86/125\n",
            "4/4 [==============================] - 0s 10ms/step - loss: 8.3453 - accuracy: 0.3294 - val_loss: 9.2410 - val_accuracy: 0.4133\n",
            "Epoch 87/125\n",
            "4/4 [==============================] - 0s 10ms/step - loss: 8.3453 - accuracy: 0.3294 - val_loss: 9.2410 - val_accuracy: 0.4133\n",
            "Epoch 88/125\n",
            "4/4 [==============================] - 0s 11ms/step - loss: 8.3452 - accuracy: 0.3294 - val_loss: 9.2410 - val_accuracy: 0.4133\n",
            "Epoch 89/125\n",
            "4/4 [==============================] - 0s 12ms/step - loss: 8.3452 - accuracy: 0.3294 - val_loss: 9.2410 - val_accuracy: 0.4133\n",
            "Epoch 90/125\n",
            "4/4 [==============================] - 0s 11ms/step - loss: 8.3451 - accuracy: 0.3294 - val_loss: 9.2410 - val_accuracy: 0.4133\n",
            "Epoch 91/125\n",
            "4/4 [==============================] - 0s 11ms/step - loss: 8.3451 - accuracy: 0.3294 - val_loss: 9.2410 - val_accuracy: 0.4133\n",
            "Epoch 92/125\n",
            "4/4 [==============================] - 0s 12ms/step - loss: 8.3451 - accuracy: 0.3294 - val_loss: 9.2410 - val_accuracy: 0.4133\n",
            "Epoch 93/125\n",
            "4/4 [==============================] - 0s 11ms/step - loss: 8.3450 - accuracy: 0.3294 - val_loss: 9.2410 - val_accuracy: 0.4133\n",
            "Epoch 94/125\n",
            "4/4 [==============================] - 0s 14ms/step - loss: 8.3450 - accuracy: 0.3294 - val_loss: 9.2410 - val_accuracy: 0.4133\n",
            "Epoch 95/125\n",
            "4/4 [==============================] - 0s 11ms/step - loss: 8.3449 - accuracy: 0.3294 - val_loss: 9.2410 - val_accuracy: 0.4133\n",
            "Epoch 96/125\n",
            "4/4 [==============================] - 0s 14ms/step - loss: 8.3449 - accuracy: 0.3294 - val_loss: 9.2410 - val_accuracy: 0.4133\n",
            "Epoch 97/125\n",
            "4/4 [==============================] - 0s 11ms/step - loss: 8.3448 - accuracy: 0.3294 - val_loss: 9.2410 - val_accuracy: 0.4133\n",
            "Epoch 98/125\n",
            "4/4 [==============================] - 0s 11ms/step - loss: 8.3448 - accuracy: 0.3294 - val_loss: 9.2410 - val_accuracy: 0.4133\n",
            "Epoch 99/125\n",
            "4/4 [==============================] - 0s 10ms/step - loss: 8.3447 - accuracy: 0.3294 - val_loss: 9.2410 - val_accuracy: 0.4133\n",
            "Epoch 100/125\n",
            "4/4 [==============================] - 0s 10ms/step - loss: 8.3447 - accuracy: 0.3294 - val_loss: 9.2410 - val_accuracy: 0.4133\n",
            "Epoch 101/125\n",
            "4/4 [==============================] - 0s 11ms/step - loss: 8.3446 - accuracy: 0.3294 - val_loss: 9.2410 - val_accuracy: 0.4133\n",
            "Epoch 102/125\n",
            "4/4 [==============================] - 0s 11ms/step - loss: 8.3446 - accuracy: 0.3294 - val_loss: 9.2410 - val_accuracy: 0.4133\n",
            "Epoch 103/125\n",
            "4/4 [==============================] - 0s 10ms/step - loss: 8.3445 - accuracy: 0.3294 - val_loss: 9.2410 - val_accuracy: 0.4133\n",
            "Epoch 104/125\n",
            "4/4 [==============================] - 0s 11ms/step - loss: 8.3445 - accuracy: 0.3294 - val_loss: 9.2410 - val_accuracy: 0.4133\n",
            "Epoch 105/125\n",
            "4/4 [==============================] - 0s 11ms/step - loss: 8.3444 - accuracy: 0.3294 - val_loss: 9.2410 - val_accuracy: 0.4133\n",
            "Epoch 106/125\n",
            "4/4 [==============================] - 0s 12ms/step - loss: 8.3444 - accuracy: 0.3294 - val_loss: 9.2410 - val_accuracy: 0.4133\n",
            "Epoch 107/125\n",
            "4/4 [==============================] - 0s 10ms/step - loss: 8.3443 - accuracy: 0.3294 - val_loss: 9.2410 - val_accuracy: 0.4133\n",
            "Epoch 108/125\n",
            "4/4 [==============================] - 0s 11ms/step - loss: 8.3443 - accuracy: 0.3294 - val_loss: 9.2410 - val_accuracy: 0.4133\n",
            "Epoch 109/125\n",
            "4/4 [==============================] - 0s 10ms/step - loss: 8.3442 - accuracy: 0.3294 - val_loss: 9.2410 - val_accuracy: 0.4133\n",
            "Epoch 110/125\n",
            "4/4 [==============================] - 0s 10ms/step - loss: 8.3442 - accuracy: 0.3294 - val_loss: 9.2410 - val_accuracy: 0.4133\n",
            "Epoch 111/125\n",
            "4/4 [==============================] - 0s 10ms/step - loss: 8.3442 - accuracy: 0.3294 - val_loss: 9.2410 - val_accuracy: 0.4133\n",
            "Epoch 112/125\n",
            "4/4 [==============================] - 0s 11ms/step - loss: 8.3441 - accuracy: 0.3294 - val_loss: 9.2410 - val_accuracy: 0.4133\n",
            "Epoch 113/125\n",
            "4/4 [==============================] - 0s 17ms/step - loss: 8.3441 - accuracy: 0.3294 - val_loss: 9.2410 - val_accuracy: 0.4133\n",
            "Epoch 114/125\n",
            "4/4 [==============================] - 0s 11ms/step - loss: 8.3819 - accuracy: 0.3294 - val_loss: 9.2410 - val_accuracy: 0.4133\n",
            "Epoch 115/125\n",
            "4/4 [==============================] - 0s 12ms/step - loss: 8.3819 - accuracy: 0.3294 - val_loss: 9.2410 - val_accuracy: 0.4133\n",
            "Epoch 116/125\n",
            "4/4 [==============================] - 0s 13ms/step - loss: 8.3819 - accuracy: 0.3294 - val_loss: 9.2410 - val_accuracy: 0.4133\n",
            "Epoch 117/125\n",
            "4/4 [==============================] - 0s 10ms/step - loss: 8.3818 - accuracy: 0.3294 - val_loss: 9.2410 - val_accuracy: 0.4133\n",
            "Epoch 118/125\n",
            "4/4 [==============================] - 0s 10ms/step - loss: 8.3818 - accuracy: 0.3294 - val_loss: 9.2410 - val_accuracy: 0.4133\n",
            "Epoch 119/125\n",
            "4/4 [==============================] - 0s 11ms/step - loss: 8.3818 - accuracy: 0.3294 - val_loss: 9.2410 - val_accuracy: 0.4133\n",
            "Epoch 120/125\n",
            "4/4 [==============================] - 0s 11ms/step - loss: 8.3817 - accuracy: 0.3294 - val_loss: 9.2410 - val_accuracy: 0.4133\n",
            "Epoch 121/125\n",
            "4/4 [==============================] - 0s 11ms/step - loss: 8.3817 - accuracy: 0.3294 - val_loss: 9.2410 - val_accuracy: 0.4133\n",
            "Epoch 122/125\n",
            "4/4 [==============================] - 0s 13ms/step - loss: 8.3817 - accuracy: 0.3294 - val_loss: 9.2410 - val_accuracy: 0.4133\n",
            "Epoch 123/125\n",
            "4/4 [==============================] - 0s 11ms/step - loss: 8.3817 - accuracy: 0.3294 - val_loss: 9.2410 - val_accuracy: 0.4133\n",
            "Epoch 124/125\n",
            "4/4 [==============================] - 0s 11ms/step - loss: 8.3817 - accuracy: 0.3294 - val_loss: 9.2410 - val_accuracy: 0.4133\n",
            "Epoch 125/125\n",
            "4/4 [==============================] - 0s 11ms/step - loss: 8.3817 - accuracy: 0.3294 - val_loss: 9.2410 - val_accuracy: 0.4133\n",
            "16/16 - 0s - loss: 8.8011 - accuracy: 0.3260 - 37ms/epoch - 2ms/step\n"
          ]
        }
      ],
      "source": [
        "#@title\n",
        "### START CODE HERE ### \n",
        "batch_size=128\n",
        "history=fit_model(X_train, y_train, X_test, y_test, batch_size)\n",
        "###### END CODE HERE"
      ]
    },
    {
      "cell_type": "code",
      "execution_count": 198,
      "id": "7e9a46f6-a1ce-4922-b48f-3c6f54ae4515",
      "metadata": {
        "tags": [],
        "id": "7e9a46f6-a1ce-4922-b48f-3c6f54ae4515",
        "colab": {
          "base_uri": "https://localhost:8080/",
          "height": 463
        },
        "outputId": "cd98e53e-b62b-4fcb-ac9b-0861f154bc70"
      },
      "outputs": [
        {
          "output_type": "display_data",
          "data": {
            "text/plain": [
              "<Figure size 720x360 with 1 Axes>"
            ],
            "image/svg+xml": "<?xml version=\"1.0\" encoding=\"utf-8\" standalone=\"no\"?>\n<!DOCTYPE svg PUBLIC \"-//W3C//DTD SVG 1.1//EN\"\n  \"http://www.w3.org/Graphics/SVG/1.1/DTD/svg11.dtd\">\n<!-- Created with matplotlib (https://matplotlib.org/) -->\n<svg height=\"331.674375pt\" version=\"1.1\" viewBox=\"0 0 605.803125 331.674375\" width=\"605.803125pt\" xmlns=\"http://www.w3.org/2000/svg\" xmlns:xlink=\"http://www.w3.org/1999/xlink\">\n <defs>\n  <style type=\"text/css\">\n*{stroke-linecap:butt;stroke-linejoin:round;}\n  </style>\n </defs>\n <g id=\"figure_1\">\n  <g id=\"patch_1\">\n   <path d=\"M 0 331.674375 \nL 605.803125 331.674375 \nL 605.803125 0 \nL 0 0 \nz\n\" style=\"fill:none;\"/>\n  </g>\n  <g id=\"axes_1\">\n   <g id=\"patch_2\">\n    <path d=\"M 40.603125 294.118125 \nL 598.603125 294.118125 \nL 598.603125 22.318125 \nL 40.603125 22.318125 \nz\n\" style=\"fill:#ffffff;\"/>\n   </g>\n   <g id=\"matplotlib.axis_1\">\n    <g id=\"xtick_1\">\n     <g id=\"line2d_1\">\n      <defs>\n       <path d=\"M 0 0 \nL 0 3.5 \n\" id=\"m060351b999\" style=\"stroke:#000000;stroke-width:0.8;\"/>\n      </defs>\n      <g>\n       <use style=\"stroke:#000000;stroke-width:0.8;\" x=\"65.966761\" xlink:href=\"#m060351b999\" y=\"294.118125\"/>\n      </g>\n     </g>\n     <g id=\"text_1\">\n      <!-- 0 -->\n      <defs>\n       <path d=\"M 31.78125 66.40625 \nQ 24.171875 66.40625 20.328125 58.90625 \nQ 16.5 51.421875 16.5 36.375 \nQ 16.5 21.390625 20.328125 13.890625 \nQ 24.171875 6.390625 31.78125 6.390625 \nQ 39.453125 6.390625 43.28125 13.890625 \nQ 47.125 21.390625 47.125 36.375 \nQ 47.125 51.421875 43.28125 58.90625 \nQ 39.453125 66.40625 31.78125 66.40625 \nz\nM 31.78125 74.21875 \nQ 44.046875 74.21875 50.515625 64.515625 \nQ 56.984375 54.828125 56.984375 36.375 \nQ 56.984375 17.96875 50.515625 8.265625 \nQ 44.046875 -1.421875 31.78125 -1.421875 \nQ 19.53125 -1.421875 13.0625 8.265625 \nQ 6.59375 17.96875 6.59375 36.375 \nQ 6.59375 54.828125 13.0625 64.515625 \nQ 19.53125 74.21875 31.78125 74.21875 \nz\n\" id=\"DejaVuSans-48\"/>\n      </defs>\n      <g transform=\"translate(62.785511 308.716563)scale(0.1 -0.1)\">\n       <use xlink:href=\"#DejaVuSans-48\"/>\n      </g>\n     </g>\n    </g>\n    <g id=\"xtick_2\">\n     <g id=\"line2d_2\">\n      <g>\n       <use style=\"stroke:#000000;stroke-width:0.8;\" x=\"147.784943\" xlink:href=\"#m060351b999\" y=\"294.118125\"/>\n      </g>\n     </g>\n     <g id=\"text_2\">\n      <!-- 20 -->\n      <defs>\n       <path d=\"M 19.1875 8.296875 \nL 53.609375 8.296875 \nL 53.609375 0 \nL 7.328125 0 \nL 7.328125 8.296875 \nQ 12.9375 14.109375 22.625 23.890625 \nQ 32.328125 33.6875 34.8125 36.53125 \nQ 39.546875 41.84375 41.421875 45.53125 \nQ 43.3125 49.21875 43.3125 52.78125 \nQ 43.3125 58.59375 39.234375 62.25 \nQ 35.15625 65.921875 28.609375 65.921875 \nQ 23.96875 65.921875 18.8125 64.3125 \nQ 13.671875 62.703125 7.8125 59.421875 \nL 7.8125 69.390625 \nQ 13.765625 71.78125 18.9375 73 \nQ 24.125 74.21875 28.421875 74.21875 \nQ 39.75 74.21875 46.484375 68.546875 \nQ 53.21875 62.890625 53.21875 53.421875 \nQ 53.21875 48.921875 51.53125 44.890625 \nQ 49.859375 40.875 45.40625 35.40625 \nQ 44.1875 33.984375 37.640625 27.21875 \nQ 31.109375 20.453125 19.1875 8.296875 \nz\n\" id=\"DejaVuSans-50\"/>\n      </defs>\n      <g transform=\"translate(141.422443 308.716563)scale(0.1 -0.1)\">\n       <use xlink:href=\"#DejaVuSans-50\"/>\n       <use x=\"63.623047\" xlink:href=\"#DejaVuSans-48\"/>\n      </g>\n     </g>\n    </g>\n    <g id=\"xtick_3\">\n     <g id=\"line2d_3\">\n      <g>\n       <use style=\"stroke:#000000;stroke-width:0.8;\" x=\"229.603125\" xlink:href=\"#m060351b999\" y=\"294.118125\"/>\n      </g>\n     </g>\n     <g id=\"text_3\">\n      <!-- 40 -->\n      <defs>\n       <path d=\"M 37.796875 64.3125 \nL 12.890625 25.390625 \nL 37.796875 25.390625 \nz\nM 35.203125 72.90625 \nL 47.609375 72.90625 \nL 47.609375 25.390625 \nL 58.015625 25.390625 \nL 58.015625 17.1875 \nL 47.609375 17.1875 \nL 47.609375 0 \nL 37.796875 0 \nL 37.796875 17.1875 \nL 4.890625 17.1875 \nL 4.890625 26.703125 \nz\n\" id=\"DejaVuSans-52\"/>\n      </defs>\n      <g transform=\"translate(223.240625 308.716563)scale(0.1 -0.1)\">\n       <use xlink:href=\"#DejaVuSans-52\"/>\n       <use x=\"63.623047\" xlink:href=\"#DejaVuSans-48\"/>\n      </g>\n     </g>\n    </g>\n    <g id=\"xtick_4\">\n     <g id=\"line2d_4\">\n      <g>\n       <use style=\"stroke:#000000;stroke-width:0.8;\" x=\"311.421307\" xlink:href=\"#m060351b999\" y=\"294.118125\"/>\n      </g>\n     </g>\n     <g id=\"text_4\">\n      <!-- 60 -->\n      <defs>\n       <path d=\"M 33.015625 40.375 \nQ 26.375 40.375 22.484375 35.828125 \nQ 18.609375 31.296875 18.609375 23.390625 \nQ 18.609375 15.53125 22.484375 10.953125 \nQ 26.375 6.390625 33.015625 6.390625 \nQ 39.65625 6.390625 43.53125 10.953125 \nQ 47.40625 15.53125 47.40625 23.390625 \nQ 47.40625 31.296875 43.53125 35.828125 \nQ 39.65625 40.375 33.015625 40.375 \nz\nM 52.59375 71.296875 \nL 52.59375 62.3125 \nQ 48.875 64.0625 45.09375 64.984375 \nQ 41.3125 65.921875 37.59375 65.921875 \nQ 27.828125 65.921875 22.671875 59.328125 \nQ 17.53125 52.734375 16.796875 39.40625 \nQ 19.671875 43.65625 24.015625 45.921875 \nQ 28.375 48.1875 33.59375 48.1875 \nQ 44.578125 48.1875 50.953125 41.515625 \nQ 57.328125 34.859375 57.328125 23.390625 \nQ 57.328125 12.15625 50.6875 5.359375 \nQ 44.046875 -1.421875 33.015625 -1.421875 \nQ 20.359375 -1.421875 13.671875 8.265625 \nQ 6.984375 17.96875 6.984375 36.375 \nQ 6.984375 53.65625 15.1875 63.9375 \nQ 23.390625 74.21875 37.203125 74.21875 \nQ 40.921875 74.21875 44.703125 73.484375 \nQ 48.484375 72.75 52.59375 71.296875 \nz\n\" id=\"DejaVuSans-54\"/>\n      </defs>\n      <g transform=\"translate(305.058807 308.716563)scale(0.1 -0.1)\">\n       <use xlink:href=\"#DejaVuSans-54\"/>\n       <use x=\"63.623047\" xlink:href=\"#DejaVuSans-48\"/>\n      </g>\n     </g>\n    </g>\n    <g id=\"xtick_5\">\n     <g id=\"line2d_5\">\n      <g>\n       <use style=\"stroke:#000000;stroke-width:0.8;\" x=\"393.239489\" xlink:href=\"#m060351b999\" y=\"294.118125\"/>\n      </g>\n     </g>\n     <g id=\"text_5\">\n      <!-- 80 -->\n      <defs>\n       <path d=\"M 31.78125 34.625 \nQ 24.75 34.625 20.71875 30.859375 \nQ 16.703125 27.09375 16.703125 20.515625 \nQ 16.703125 13.921875 20.71875 10.15625 \nQ 24.75 6.390625 31.78125 6.390625 \nQ 38.8125 6.390625 42.859375 10.171875 \nQ 46.921875 13.96875 46.921875 20.515625 \nQ 46.921875 27.09375 42.890625 30.859375 \nQ 38.875 34.625 31.78125 34.625 \nz\nM 21.921875 38.8125 \nQ 15.578125 40.375 12.03125 44.71875 \nQ 8.5 49.078125 8.5 55.328125 \nQ 8.5 64.0625 14.71875 69.140625 \nQ 20.953125 74.21875 31.78125 74.21875 \nQ 42.671875 74.21875 48.875 69.140625 \nQ 55.078125 64.0625 55.078125 55.328125 \nQ 55.078125 49.078125 51.53125 44.71875 \nQ 48 40.375 41.703125 38.8125 \nQ 48.828125 37.15625 52.796875 32.3125 \nQ 56.78125 27.484375 56.78125 20.515625 \nQ 56.78125 9.90625 50.3125 4.234375 \nQ 43.84375 -1.421875 31.78125 -1.421875 \nQ 19.734375 -1.421875 13.25 4.234375 \nQ 6.78125 9.90625 6.78125 20.515625 \nQ 6.78125 27.484375 10.78125 32.3125 \nQ 14.796875 37.15625 21.921875 38.8125 \nz\nM 18.3125 54.390625 \nQ 18.3125 48.734375 21.84375 45.5625 \nQ 25.390625 42.390625 31.78125 42.390625 \nQ 38.140625 42.390625 41.71875 45.5625 \nQ 45.3125 48.734375 45.3125 54.390625 \nQ 45.3125 60.0625 41.71875 63.234375 \nQ 38.140625 66.40625 31.78125 66.40625 \nQ 25.390625 66.40625 21.84375 63.234375 \nQ 18.3125 60.0625 18.3125 54.390625 \nz\n\" id=\"DejaVuSans-56\"/>\n      </defs>\n      <g transform=\"translate(386.876989 308.716563)scale(0.1 -0.1)\">\n       <use xlink:href=\"#DejaVuSans-56\"/>\n       <use x=\"63.623047\" xlink:href=\"#DejaVuSans-48\"/>\n      </g>\n     </g>\n    </g>\n    <g id=\"xtick_6\">\n     <g id=\"line2d_6\">\n      <g>\n       <use style=\"stroke:#000000;stroke-width:0.8;\" x=\"475.05767\" xlink:href=\"#m060351b999\" y=\"294.118125\"/>\n      </g>\n     </g>\n     <g id=\"text_6\">\n      <!-- 100 -->\n      <defs>\n       <path d=\"M 12.40625 8.296875 \nL 28.515625 8.296875 \nL 28.515625 63.921875 \nL 10.984375 60.40625 \nL 10.984375 69.390625 \nL 28.421875 72.90625 \nL 38.28125 72.90625 \nL 38.28125 8.296875 \nL 54.390625 8.296875 \nL 54.390625 0 \nL 12.40625 0 \nz\n\" id=\"DejaVuSans-49\"/>\n      </defs>\n      <g transform=\"translate(465.51392 308.716563)scale(0.1 -0.1)\">\n       <use xlink:href=\"#DejaVuSans-49\"/>\n       <use x=\"63.623047\" xlink:href=\"#DejaVuSans-48\"/>\n       <use x=\"127.246094\" xlink:href=\"#DejaVuSans-48\"/>\n      </g>\n     </g>\n    </g>\n    <g id=\"xtick_7\">\n     <g id=\"line2d_7\">\n      <g>\n       <use style=\"stroke:#000000;stroke-width:0.8;\" x=\"556.875852\" xlink:href=\"#m060351b999\" y=\"294.118125\"/>\n      </g>\n     </g>\n     <g id=\"text_7\">\n      <!-- 120 -->\n      <g transform=\"translate(547.332102 308.716563)scale(0.1 -0.1)\">\n       <use xlink:href=\"#DejaVuSans-49\"/>\n       <use x=\"63.623047\" xlink:href=\"#DejaVuSans-50\"/>\n       <use x=\"127.246094\" xlink:href=\"#DejaVuSans-48\"/>\n      </g>\n     </g>\n    </g>\n    <g id=\"text_8\">\n     <!-- Epoch -->\n     <defs>\n      <path d=\"M 9.8125 72.90625 \nL 55.90625 72.90625 \nL 55.90625 64.59375 \nL 19.671875 64.59375 \nL 19.671875 43.015625 \nL 54.390625 43.015625 \nL 54.390625 34.71875 \nL 19.671875 34.71875 \nL 19.671875 8.296875 \nL 56.78125 8.296875 \nL 56.78125 0 \nL 9.8125 0 \nz\n\" id=\"DejaVuSans-69\"/>\n      <path d=\"M 18.109375 8.203125 \nL 18.109375 -20.796875 \nL 9.078125 -20.796875 \nL 9.078125 54.6875 \nL 18.109375 54.6875 \nL 18.109375 46.390625 \nQ 20.953125 51.265625 25.265625 53.625 \nQ 29.59375 56 35.59375 56 \nQ 45.5625 56 51.78125 48.09375 \nQ 58.015625 40.1875 58.015625 27.296875 \nQ 58.015625 14.40625 51.78125 6.484375 \nQ 45.5625 -1.421875 35.59375 -1.421875 \nQ 29.59375 -1.421875 25.265625 0.953125 \nQ 20.953125 3.328125 18.109375 8.203125 \nz\nM 48.6875 27.296875 \nQ 48.6875 37.203125 44.609375 42.84375 \nQ 40.53125 48.484375 33.40625 48.484375 \nQ 26.265625 48.484375 22.1875 42.84375 \nQ 18.109375 37.203125 18.109375 27.296875 \nQ 18.109375 17.390625 22.1875 11.75 \nQ 26.265625 6.109375 33.40625 6.109375 \nQ 40.53125 6.109375 44.609375 11.75 \nQ 48.6875 17.390625 48.6875 27.296875 \nz\n\" id=\"DejaVuSans-112\"/>\n      <path d=\"M 30.609375 48.390625 \nQ 23.390625 48.390625 19.1875 42.75 \nQ 14.984375 37.109375 14.984375 27.296875 \nQ 14.984375 17.484375 19.15625 11.84375 \nQ 23.34375 6.203125 30.609375 6.203125 \nQ 37.796875 6.203125 41.984375 11.859375 \nQ 46.1875 17.53125 46.1875 27.296875 \nQ 46.1875 37.015625 41.984375 42.703125 \nQ 37.796875 48.390625 30.609375 48.390625 \nz\nM 30.609375 56 \nQ 42.328125 56 49.015625 48.375 \nQ 55.71875 40.765625 55.71875 27.296875 \nQ 55.71875 13.875 49.015625 6.21875 \nQ 42.328125 -1.421875 30.609375 -1.421875 \nQ 18.84375 -1.421875 12.171875 6.21875 \nQ 5.515625 13.875 5.515625 27.296875 \nQ 5.515625 40.765625 12.171875 48.375 \nQ 18.84375 56 30.609375 56 \nz\n\" id=\"DejaVuSans-111\"/>\n      <path d=\"M 48.78125 52.59375 \nL 48.78125 44.1875 \nQ 44.96875 46.296875 41.140625 47.34375 \nQ 37.3125 48.390625 33.40625 48.390625 \nQ 24.65625 48.390625 19.8125 42.84375 \nQ 14.984375 37.3125 14.984375 27.296875 \nQ 14.984375 17.28125 19.8125 11.734375 \nQ 24.65625 6.203125 33.40625 6.203125 \nQ 37.3125 6.203125 41.140625 7.25 \nQ 44.96875 8.296875 48.78125 10.40625 \nL 48.78125 2.09375 \nQ 45.015625 0.34375 40.984375 -0.53125 \nQ 36.96875 -1.421875 32.421875 -1.421875 \nQ 20.0625 -1.421875 12.78125 6.34375 \nQ 5.515625 14.109375 5.515625 27.296875 \nQ 5.515625 40.671875 12.859375 48.328125 \nQ 20.21875 56 33.015625 56 \nQ 37.15625 56 41.109375 55.140625 \nQ 45.0625 54.296875 48.78125 52.59375 \nz\n\" id=\"DejaVuSans-99\"/>\n      <path d=\"M 54.890625 33.015625 \nL 54.890625 0 \nL 45.90625 0 \nL 45.90625 32.71875 \nQ 45.90625 40.484375 42.875 44.328125 \nQ 39.84375 48.1875 33.796875 48.1875 \nQ 26.515625 48.1875 22.3125 43.546875 \nQ 18.109375 38.921875 18.109375 30.90625 \nL 18.109375 0 \nL 9.078125 0 \nL 9.078125 75.984375 \nL 18.109375 75.984375 \nL 18.109375 46.1875 \nQ 21.34375 51.125 25.703125 53.5625 \nQ 30.078125 56 35.796875 56 \nQ 45.21875 56 50.046875 50.171875 \nQ 54.890625 44.34375 54.890625 33.015625 \nz\n\" id=\"DejaVuSans-104\"/>\n     </defs>\n     <g transform=\"translate(304.292187 322.394687)scale(0.1 -0.1)\">\n      <use xlink:href=\"#DejaVuSans-69\"/>\n      <use x=\"63.183594\" xlink:href=\"#DejaVuSans-112\"/>\n      <use x=\"126.660156\" xlink:href=\"#DejaVuSans-111\"/>\n      <use x=\"187.841797\" xlink:href=\"#DejaVuSans-99\"/>\n      <use x=\"242.822266\" xlink:href=\"#DejaVuSans-104\"/>\n     </g>\n    </g>\n   </g>\n   <g id=\"matplotlib.axis_2\">\n    <g id=\"ytick_1\">\n     <g id=\"line2d_8\">\n      <defs>\n       <path d=\"M 0 0 \nL -3.5 0 \n\" id=\"ma0c0ce8832\" style=\"stroke:#000000;stroke-width:0.8;\"/>\n      </defs>\n      <g>\n       <use style=\"stroke:#000000;stroke-width:0.8;\" x=\"40.603125\" xlink:href=\"#ma0c0ce8832\" y=\"275.677145\"/>\n      </g>\n     </g>\n     <g id=\"text_9\">\n      <!-- 4 -->\n      <g transform=\"translate(27.240625 279.476363)scale(0.1 -0.1)\">\n       <use xlink:href=\"#DejaVuSans-52\"/>\n      </g>\n     </g>\n    </g>\n    <g id=\"ytick_2\">\n     <g id=\"line2d_9\">\n      <g>\n       <use style=\"stroke:#000000;stroke-width:0.8;\" x=\"40.603125\" xlink:href=\"#ma0c0ce8832\" y=\"233.880685\"/>\n      </g>\n     </g>\n     <g id=\"text_10\">\n      <!-- 5 -->\n      <defs>\n       <path d=\"M 10.796875 72.90625 \nL 49.515625 72.90625 \nL 49.515625 64.59375 \nL 19.828125 64.59375 \nL 19.828125 46.734375 \nQ 21.96875 47.46875 24.109375 47.828125 \nQ 26.265625 48.1875 28.421875 48.1875 \nQ 40.625 48.1875 47.75 41.5 \nQ 54.890625 34.8125 54.890625 23.390625 \nQ 54.890625 11.625 47.5625 5.09375 \nQ 40.234375 -1.421875 26.90625 -1.421875 \nQ 22.3125 -1.421875 17.546875 -0.640625 \nQ 12.796875 0.140625 7.71875 1.703125 \nL 7.71875 11.625 \nQ 12.109375 9.234375 16.796875 8.0625 \nQ 21.484375 6.890625 26.703125 6.890625 \nQ 35.15625 6.890625 40.078125 11.328125 \nQ 45.015625 15.765625 45.015625 23.390625 \nQ 45.015625 31 40.078125 35.4375 \nQ 35.15625 39.890625 26.703125 39.890625 \nQ 22.75 39.890625 18.8125 39.015625 \nQ 14.890625 38.140625 10.796875 36.28125 \nz\n\" id=\"DejaVuSans-53\"/>\n      </defs>\n      <g transform=\"translate(27.240625 237.679904)scale(0.1 -0.1)\">\n       <use xlink:href=\"#DejaVuSans-53\"/>\n      </g>\n     </g>\n    </g>\n    <g id=\"ytick_3\">\n     <g id=\"line2d_10\">\n      <g>\n       <use style=\"stroke:#000000;stroke-width:0.8;\" x=\"40.603125\" xlink:href=\"#ma0c0ce8832\" y=\"192.084226\"/>\n      </g>\n     </g>\n     <g id=\"text_11\">\n      <!-- 6 -->\n      <g transform=\"translate(27.240625 195.883445)scale(0.1 -0.1)\">\n       <use xlink:href=\"#DejaVuSans-54\"/>\n      </g>\n     </g>\n    </g>\n    <g id=\"ytick_4\">\n     <g id=\"line2d_11\">\n      <g>\n       <use style=\"stroke:#000000;stroke-width:0.8;\" x=\"40.603125\" xlink:href=\"#ma0c0ce8832\" y=\"150.287767\"/>\n      </g>\n     </g>\n     <g id=\"text_12\">\n      <!-- 7 -->\n      <defs>\n       <path d=\"M 8.203125 72.90625 \nL 55.078125 72.90625 \nL 55.078125 68.703125 \nL 28.609375 0 \nL 18.3125 0 \nL 43.21875 64.59375 \nL 8.203125 64.59375 \nz\n\" id=\"DejaVuSans-55\"/>\n      </defs>\n      <g transform=\"translate(27.240625 154.086986)scale(0.1 -0.1)\">\n       <use xlink:href=\"#DejaVuSans-55\"/>\n      </g>\n     </g>\n    </g>\n    <g id=\"ytick_5\">\n     <g id=\"line2d_12\">\n      <g>\n       <use style=\"stroke:#000000;stroke-width:0.8;\" x=\"40.603125\" xlink:href=\"#ma0c0ce8832\" y=\"108.491308\"/>\n      </g>\n     </g>\n     <g id=\"text_13\">\n      <!-- 8 -->\n      <g transform=\"translate(27.240625 112.290526)scale(0.1 -0.1)\">\n       <use xlink:href=\"#DejaVuSans-56\"/>\n      </g>\n     </g>\n    </g>\n    <g id=\"ytick_6\">\n     <g id=\"line2d_13\">\n      <g>\n       <use style=\"stroke:#000000;stroke-width:0.8;\" x=\"40.603125\" xlink:href=\"#ma0c0ce8832\" y=\"66.694848\"/>\n      </g>\n     </g>\n     <g id=\"text_14\">\n      <!-- 9 -->\n      <defs>\n       <path d=\"M 10.984375 1.515625 \nL 10.984375 10.5 \nQ 14.703125 8.734375 18.5 7.8125 \nQ 22.3125 6.890625 25.984375 6.890625 \nQ 35.75 6.890625 40.890625 13.453125 \nQ 46.046875 20.015625 46.78125 33.40625 \nQ 43.953125 29.203125 39.59375 26.953125 \nQ 35.25 24.703125 29.984375 24.703125 \nQ 19.046875 24.703125 12.671875 31.3125 \nQ 6.296875 37.9375 6.296875 49.421875 \nQ 6.296875 60.640625 12.9375 67.421875 \nQ 19.578125 74.21875 30.609375 74.21875 \nQ 43.265625 74.21875 49.921875 64.515625 \nQ 56.59375 54.828125 56.59375 36.375 \nQ 56.59375 19.140625 48.40625 8.859375 \nQ 40.234375 -1.421875 26.421875 -1.421875 \nQ 22.703125 -1.421875 18.890625 -0.6875 \nQ 15.09375 0.046875 10.984375 1.515625 \nz\nM 30.609375 32.421875 \nQ 37.25 32.421875 41.125 36.953125 \nQ 45.015625 41.5 45.015625 49.421875 \nQ 45.015625 57.28125 41.125 61.84375 \nQ 37.25 66.40625 30.609375 66.40625 \nQ 23.96875 66.40625 20.09375 61.84375 \nQ 16.21875 57.28125 16.21875 49.421875 \nQ 16.21875 41.5 20.09375 36.953125 \nQ 23.96875 32.421875 30.609375 32.421875 \nz\n\" id=\"DejaVuSans-57\"/>\n      </defs>\n      <g transform=\"translate(27.240625 70.494067)scale(0.1 -0.1)\">\n       <use xlink:href=\"#DejaVuSans-57\"/>\n      </g>\n     </g>\n    </g>\n    <g id=\"ytick_7\">\n     <g id=\"line2d_14\">\n      <g>\n       <use style=\"stroke:#000000;stroke-width:0.8;\" x=\"40.603125\" xlink:href=\"#ma0c0ce8832\" y=\"24.898389\"/>\n      </g>\n     </g>\n     <g id=\"text_15\">\n      <!-- 10 -->\n      <g transform=\"translate(20.878125 28.697608)scale(0.1 -0.1)\">\n       <use xlink:href=\"#DejaVuSans-49\"/>\n       <use x=\"63.623047\" xlink:href=\"#DejaVuSans-48\"/>\n      </g>\n     </g>\n    </g>\n    <g id=\"text_16\">\n     <!-- Loss -->\n     <defs>\n      <path d=\"M 9.8125 72.90625 \nL 19.671875 72.90625 \nL 19.671875 8.296875 \nL 55.171875 8.296875 \nL 55.171875 0 \nL 9.8125 0 \nz\n\" id=\"DejaVuSans-76\"/>\n      <path d=\"M 44.28125 53.078125 \nL 44.28125 44.578125 \nQ 40.484375 46.53125 36.375 47.5 \nQ 32.28125 48.484375 27.875 48.484375 \nQ 21.1875 48.484375 17.84375 46.4375 \nQ 14.5 44.390625 14.5 40.28125 \nQ 14.5 37.15625 16.890625 35.375 \nQ 19.28125 33.59375 26.515625 31.984375 \nL 29.59375 31.296875 \nQ 39.15625 29.25 43.1875 25.515625 \nQ 47.21875 21.78125 47.21875 15.09375 \nQ 47.21875 7.46875 41.1875 3.015625 \nQ 35.15625 -1.421875 24.609375 -1.421875 \nQ 20.21875 -1.421875 15.453125 -0.5625 \nQ 10.6875 0.296875 5.421875 2 \nL 5.421875 11.28125 \nQ 10.40625 8.6875 15.234375 7.390625 \nQ 20.0625 6.109375 24.8125 6.109375 \nQ 31.15625 6.109375 34.5625 8.28125 \nQ 37.984375 10.453125 37.984375 14.40625 \nQ 37.984375 18.0625 35.515625 20.015625 \nQ 33.0625 21.96875 24.703125 23.78125 \nL 21.578125 24.515625 \nQ 13.234375 26.265625 9.515625 29.90625 \nQ 5.8125 33.546875 5.8125 39.890625 \nQ 5.8125 47.609375 11.28125 51.796875 \nQ 16.75 56 26.8125 56 \nQ 31.78125 56 36.171875 55.265625 \nQ 40.578125 54.546875 44.28125 53.078125 \nz\n\" id=\"DejaVuSans-115\"/>\n     </defs>\n     <g transform=\"translate(14.798437 169.185313)rotate(-90)scale(0.1 -0.1)\">\n      <use xlink:href=\"#DejaVuSans-76\"/>\n      <use x=\"53.962891\" xlink:href=\"#DejaVuSans-111\"/>\n      <use x=\"115.144531\" xlink:href=\"#DejaVuSans-115\"/>\n      <use x=\"167.244141\" xlink:href=\"#DejaVuSans-115\"/>\n     </g>\n    </g>\n   </g>\n   <g id=\"line2d_15\">\n    <path clip-path=\"url(#p7e0b73bdff)\" d=\"M 65.966761 199.872712 \nL 70.05767 174.538041 \nL 74.14858 110.409361 \nL 78.239489 206.99607 \nL 82.330398 215.267861 \nL 86.421307 216.371052 \nL 90.512216 215.468258 \nL 94.603125 198.607908 \nL 98.694034 181.669371 \nL 102.784943 167.833514 \nL 106.875852 157.084511 \nL 110.966761 147.873952 \nL 115.05767 141.727687 \nL 119.14858 135.555533 \nL 123.239489 134.086784 \nL 127.330398 126.259853 \nL 131.421307 118.418134 \nL 135.512216 115.324523 \nL 139.603125 113.820159 \nL 143.694034 112.303299 \nL 147.784943 110.779064 \nL 151.875852 104.505924 \nL 155.966761 104.559098 \nL 160.05767 104.60968 \nL 164.14858 104.65843 \nL 168.239489 101.527011 \nL 172.330398 103.143582 \nL 176.421307 101.571296 \nL 180.512216 103.168614 \nL 184.603125 101.595093 \nL 188.694034 101.609841 \nL 192.784943 101.621201 \nL 196.875852 100.05051 \nL 200.966761 96.894418 \nL 205.05767 96.906934 \nL 209.14858 98.502857 \nL 213.239489 98.514895 \nL 217.330398 98.526335 \nL 221.421307 100.121261 \nL 225.512216 100.131187 \nL 229.603125 98.555393 \nL 233.694034 96.981831 \nL 237.784943 96.992394 \nL 241.875852 97.000805 \nL 245.966761 95.425171 \nL 250.05767 95.434897 \nL 254.14858 97.02795 \nL 258.239489 97.036799 \nL 262.330398 95.461164 \nL 266.421307 95.470811 \nL 270.512216 95.478145 \nL 274.603125 95.48823 \nL 278.694034 95.49668 \nL 282.784943 95.506286 \nL 286.875852 95.513262 \nL 290.966761 95.5194 \nL 295.05767 95.526455 \nL 299.14858 93.947991 \nL 303.239489 92.369128 \nL 307.330398 92.376144 \nL 311.421307 92.382521 \nL 315.512216 90.802184 \nL 319.603125 90.810993 \nL 323.694034 90.817928 \nL 327.784943 90.823469 \nL 331.875852 92.41716 \nL 335.966761 92.42282 \nL 340.05767 92.428201 \nL 344.14858 92.433144 \nL 348.239489 92.438445 \nL 352.330398 94.02811 \nL 356.421307 94.033013 \nL 360.512216 94.037039 \nL 364.603125 94.039112 \nL 368.694034 94.041264 \nL 372.784943 94.043137 \nL 376.875852 94.04517 \nL 380.966761 94.046366 \nL 385.05767 94.047761 \nL 389.14858 94.049276 \nL 393.239489 94.05099 \nL 397.330398 94.052425 \nL 401.421307 94.0539 \nL 405.512216 94.054777 \nL 409.603125 94.057368 \nL 413.694034 94.058842 \nL 417.784943 94.060955 \nL 421.875852 94.06231 \nL 425.966761 94.064184 \nL 430.05767 94.065379 \nL 434.14858 94.066854 \nL 438.239489 94.069047 \nL 442.330398 94.070761 \nL 446.421307 94.072594 \nL 450.512216 94.07387 \nL 454.603125 94.07658 \nL 458.694034 94.078533 \nL 462.784943 94.080487 \nL 466.875852 94.083396 \nL 470.966761 94.08507 \nL 475.05767 94.086784 \nL 479.14858 94.089694 \nL 483.239489 94.09089 \nL 487.330398 94.093361 \nL 491.421307 94.095793 \nL 495.512216 94.097786 \nL 499.603125 94.099181 \nL 503.694034 94.101692 \nL 507.784943 94.103406 \nL 511.875852 94.10504 \nL 515.966761 94.106595 \nL 520.05767 94.108468 \nL 524.14858 94.110541 \nL 528.239489 92.527533 \nL 532.330398 92.528729 \nL 536.421307 92.530761 \nL 540.512216 92.532515 \nL 544.603125 92.534389 \nL 548.694034 92.534827 \nL 552.784943 92.535824 \nL 556.875852 92.536541 \nL 560.966761 92.537139 \nL 565.05767 92.538016 \nL 569.14858 92.538295 \nL 573.239489 92.53961 \n\" style=\"fill:none;stroke:#1f77b4;stroke-linecap:square;stroke-width:1.5;\"/>\n   </g>\n   <g id=\"line2d_16\">\n    <path clip-path=\"url(#p7e0b73bdff)\" d=\"M 65.966761 281.76358 \nL 70.05767 34.67267 \nL 74.14858 103.416664 \nL 78.239489 156.094582 \nL 82.330398 159.801801 \nL 86.421307 160.998624 \nL 90.512216 152.820584 \nL 94.603125 126.54878 \nL 98.694034 117.986368 \nL 102.784943 100.34978 \nL 106.875852 100.58061 \nL 110.966761 82.730571 \nL 115.05767 64.865663 \nL 119.14858 64.948174 \nL 123.239489 65.009917 \nL 127.330398 56.074374 \nL 131.421307 56.118021 \nL 135.512216 56.160751 \nL 139.603125 56.201887 \nL 143.694034 56.229152 \nL 147.784943 56.256057 \nL 151.875852 56.274154 \nL 155.966761 65.274709 \nL 160.05767 74.275224 \nL 164.14858 74.29328 \nL 168.239489 74.309583 \nL 172.330398 74.317037 \nL 176.421307 74.324092 \nL 180.512216 74.330789 \nL 184.603125 74.337764 \nL 188.694034 74.344899 \nL 192.784943 74.352592 \nL 196.875852 74.359967 \nL 200.966761 74.367022 \nL 205.05767 74.373958 \nL 209.14858 65.398594 \nL 213.239489 65.405012 \nL 217.330398 65.410871 \nL 221.421307 65.41689 \nL 225.512216 65.423148 \nL 229.603125 65.429885 \nL 233.694034 65.436143 \nL 237.784943 74.42466 \nL 241.875852 74.430918 \nL 245.966761 74.437096 \nL 250.05767 74.443155 \nL 254.14858 74.449453 \nL 258.239489 74.455791 \nL 262.330398 74.462009 \nL 266.421307 74.467788 \nL 270.512216 74.474485 \nL 274.603125 74.480823 \nL 278.694034 74.486802 \nL 282.784943 74.492342 \nL 286.875852 65.515704 \nL 290.966761 65.521284 \nL 295.05767 56.544087 \nL 299.14858 56.54911 \nL 303.239489 56.554451 \nL 307.330398 56.559393 \nL 311.421307 56.564456 \nL 315.512216 56.570235 \nL 319.603125 56.575577 \nL 323.694034 56.581954 \nL 327.784943 56.588491 \nL 331.875852 56.593992 \nL 335.966761 56.599094 \nL 340.05767 56.603917 \nL 344.14858 56.60878 \nL 348.239489 56.613444 \nL 352.330398 56.618227 \nL 356.421307 56.62018 \nL 360.512216 56.62018 \nL 364.603125 56.62018 \nL 368.694034 56.62018 \nL 372.784943 56.62018 \nL 376.875852 56.62018 \nL 380.966761 56.62018 \nL 385.05767 56.62018 \nL 389.14858 56.62018 \nL 393.239489 56.62018 \nL 397.330398 56.62018 \nL 401.421307 56.62018 \nL 405.512216 56.62018 \nL 409.603125 56.62018 \nL 413.694034 56.62018 \nL 417.784943 56.62018 \nL 421.875852 56.62018 \nL 425.966761 56.62018 \nL 430.05767 56.62018 \nL 434.14858 56.62018 \nL 438.239489 56.62018 \nL 442.330398 56.62018 \nL 446.421307 56.62018 \nL 450.512216 56.62018 \nL 454.603125 56.62018 \nL 458.694034 56.62018 \nL 462.784943 56.62018 \nL 466.875852 56.62018 \nL 470.966761 56.62018 \nL 475.05767 56.62018 \nL 479.14858 56.62018 \nL 483.239489 56.62018 \nL 487.330398 56.62018 \nL 491.421307 56.62018 \nL 495.512216 56.62018 \nL 499.603125 56.62018 \nL 503.694034 56.62018 \nL 507.784943 56.62018 \nL 511.875852 56.62018 \nL 515.966761 56.62018 \nL 520.05767 56.62018 \nL 524.14858 56.62018 \nL 528.239489 56.62018 \nL 532.330398 56.62018 \nL 536.421307 56.62018 \nL 540.512216 56.62018 \nL 544.603125 56.62018 \nL 548.694034 56.62018 \nL 552.784943 56.62018 \nL 556.875852 56.62018 \nL 560.966761 56.62018 \nL 565.05767 56.62018 \nL 569.14858 56.62018 \nL 573.239489 56.62018 \n\" style=\"fill:none;stroke:#ff7f0e;stroke-linecap:square;stroke-width:1.5;\"/>\n   </g>\n   <g id=\"patch_3\">\n    <path d=\"M 40.603125 294.118125 \nL 40.603125 22.318125 \n\" style=\"fill:none;stroke:#000000;stroke-linecap:square;stroke-linejoin:miter;stroke-width:0.8;\"/>\n   </g>\n   <g id=\"patch_4\">\n    <path d=\"M 598.603125 294.118125 \nL 598.603125 22.318125 \n\" style=\"fill:none;stroke:#000000;stroke-linecap:square;stroke-linejoin:miter;stroke-width:0.8;\"/>\n   </g>\n   <g id=\"patch_5\">\n    <path d=\"M 40.603125 294.118125 \nL 598.603125 294.118125 \n\" style=\"fill:none;stroke:#000000;stroke-linecap:square;stroke-linejoin:miter;stroke-width:0.8;\"/>\n   </g>\n   <g id=\"patch_6\">\n    <path d=\"M 40.603125 22.318125 \nL 598.603125 22.318125 \n\" style=\"fill:none;stroke:#000000;stroke-linecap:square;stroke-linejoin:miter;stroke-width:0.8;\"/>\n   </g>\n   <g id=\"text_17\">\n    <!-- Loss vs. epochs, batch=128 -->\n    <defs>\n     <path id=\"DejaVuSans-32\"/>\n     <path d=\"M 2.984375 54.6875 \nL 12.5 54.6875 \nL 29.59375 8.796875 \nL 46.6875 54.6875 \nL 56.203125 54.6875 \nL 35.6875 0 \nL 23.484375 0 \nz\n\" id=\"DejaVuSans-118\"/>\n     <path d=\"M 10.6875 12.40625 \nL 21 12.40625 \nL 21 0 \nL 10.6875 0 \nz\n\" id=\"DejaVuSans-46\"/>\n     <path d=\"M 56.203125 29.59375 \nL 56.203125 25.203125 \nL 14.890625 25.203125 \nQ 15.484375 15.921875 20.484375 11.0625 \nQ 25.484375 6.203125 34.421875 6.203125 \nQ 39.59375 6.203125 44.453125 7.46875 \nQ 49.3125 8.734375 54.109375 11.28125 \nL 54.109375 2.78125 \nQ 49.265625 0.734375 44.1875 -0.34375 \nQ 39.109375 -1.421875 33.890625 -1.421875 \nQ 20.796875 -1.421875 13.15625 6.1875 \nQ 5.515625 13.8125 5.515625 26.8125 \nQ 5.515625 40.234375 12.765625 48.109375 \nQ 20.015625 56 32.328125 56 \nQ 43.359375 56 49.78125 48.890625 \nQ 56.203125 41.796875 56.203125 29.59375 \nz\nM 47.21875 32.234375 \nQ 47.125 39.59375 43.09375 43.984375 \nQ 39.0625 48.390625 32.421875 48.390625 \nQ 24.90625 48.390625 20.390625 44.140625 \nQ 15.875 39.890625 15.1875 32.171875 \nz\n\" id=\"DejaVuSans-101\"/>\n     <path d=\"M 11.71875 12.40625 \nL 22.015625 12.40625 \nL 22.015625 4 \nL 14.015625 -11.625 \nL 7.71875 -11.625 \nL 11.71875 4 \nz\n\" id=\"DejaVuSans-44\"/>\n     <path d=\"M 48.6875 27.296875 \nQ 48.6875 37.203125 44.609375 42.84375 \nQ 40.53125 48.484375 33.40625 48.484375 \nQ 26.265625 48.484375 22.1875 42.84375 \nQ 18.109375 37.203125 18.109375 27.296875 \nQ 18.109375 17.390625 22.1875 11.75 \nQ 26.265625 6.109375 33.40625 6.109375 \nQ 40.53125 6.109375 44.609375 11.75 \nQ 48.6875 17.390625 48.6875 27.296875 \nz\nM 18.109375 46.390625 \nQ 20.953125 51.265625 25.265625 53.625 \nQ 29.59375 56 35.59375 56 \nQ 45.5625 56 51.78125 48.09375 \nQ 58.015625 40.1875 58.015625 27.296875 \nQ 58.015625 14.40625 51.78125 6.484375 \nQ 45.5625 -1.421875 35.59375 -1.421875 \nQ 29.59375 -1.421875 25.265625 0.953125 \nQ 20.953125 3.328125 18.109375 8.203125 \nL 18.109375 0 \nL 9.078125 0 \nL 9.078125 75.984375 \nL 18.109375 75.984375 \nz\n\" id=\"DejaVuSans-98\"/>\n     <path d=\"M 34.28125 27.484375 \nQ 23.390625 27.484375 19.1875 25 \nQ 14.984375 22.515625 14.984375 16.5 \nQ 14.984375 11.71875 18.140625 8.90625 \nQ 21.296875 6.109375 26.703125 6.109375 \nQ 34.1875 6.109375 38.703125 11.40625 \nQ 43.21875 16.703125 43.21875 25.484375 \nL 43.21875 27.484375 \nz\nM 52.203125 31.203125 \nL 52.203125 0 \nL 43.21875 0 \nL 43.21875 8.296875 \nQ 40.140625 3.328125 35.546875 0.953125 \nQ 30.953125 -1.421875 24.3125 -1.421875 \nQ 15.921875 -1.421875 10.953125 3.296875 \nQ 6 8.015625 6 15.921875 \nQ 6 25.140625 12.171875 29.828125 \nQ 18.359375 34.515625 30.609375 34.515625 \nL 43.21875 34.515625 \nL 43.21875 35.40625 \nQ 43.21875 41.609375 39.140625 45 \nQ 35.0625 48.390625 27.6875 48.390625 \nQ 23 48.390625 18.546875 47.265625 \nQ 14.109375 46.140625 10.015625 43.890625 \nL 10.015625 52.203125 \nQ 14.9375 54.109375 19.578125 55.046875 \nQ 24.21875 56 28.609375 56 \nQ 40.484375 56 46.34375 49.84375 \nQ 52.203125 43.703125 52.203125 31.203125 \nz\n\" id=\"DejaVuSans-97\"/>\n     <path d=\"M 18.3125 70.21875 \nL 18.3125 54.6875 \nL 36.8125 54.6875 \nL 36.8125 47.703125 \nL 18.3125 47.703125 \nL 18.3125 18.015625 \nQ 18.3125 11.328125 20.140625 9.421875 \nQ 21.96875 7.515625 27.59375 7.515625 \nL 36.8125 7.515625 \nL 36.8125 0 \nL 27.59375 0 \nQ 17.1875 0 13.234375 3.875 \nQ 9.28125 7.765625 9.28125 18.015625 \nL 9.28125 47.703125 \nL 2.6875 47.703125 \nL 2.6875 54.6875 \nL 9.28125 54.6875 \nL 9.28125 70.21875 \nz\n\" id=\"DejaVuSans-116\"/>\n     <path d=\"M 10.59375 45.40625 \nL 73.1875 45.40625 \nL 73.1875 37.203125 \nL 10.59375 37.203125 \nz\nM 10.59375 25.484375 \nL 73.1875 25.484375 \nL 73.1875 17.1875 \nL 10.59375 17.1875 \nz\n\" id=\"DejaVuSans-61\"/>\n    </defs>\n    <g transform=\"translate(235.411875 16.318125)scale(0.12 -0.12)\">\n     <use xlink:href=\"#DejaVuSans-76\"/>\n     <use x=\"53.962891\" xlink:href=\"#DejaVuSans-111\"/>\n     <use x=\"115.144531\" xlink:href=\"#DejaVuSans-115\"/>\n     <use x=\"167.244141\" xlink:href=\"#DejaVuSans-115\"/>\n     <use x=\"219.34375\" xlink:href=\"#DejaVuSans-32\"/>\n     <use x=\"251.130859\" xlink:href=\"#DejaVuSans-118\"/>\n     <use x=\"310.310547\" xlink:href=\"#DejaVuSans-115\"/>\n     <use x=\"362.410156\" xlink:href=\"#DejaVuSans-46\"/>\n     <use x=\"394.197266\" xlink:href=\"#DejaVuSans-32\"/>\n     <use x=\"425.984375\" xlink:href=\"#DejaVuSans-101\"/>\n     <use x=\"487.507812\" xlink:href=\"#DejaVuSans-112\"/>\n     <use x=\"550.984375\" xlink:href=\"#DejaVuSans-111\"/>\n     <use x=\"612.166016\" xlink:href=\"#DejaVuSans-99\"/>\n     <use x=\"667.146484\" xlink:href=\"#DejaVuSans-104\"/>\n     <use x=\"730.525391\" xlink:href=\"#DejaVuSans-115\"/>\n     <use x=\"782.625\" xlink:href=\"#DejaVuSans-44\"/>\n     <use x=\"814.412109\" xlink:href=\"#DejaVuSans-32\"/>\n     <use x=\"846.199219\" xlink:href=\"#DejaVuSans-98\"/>\n     <use x=\"909.675781\" xlink:href=\"#DejaVuSans-97\"/>\n     <use x=\"970.955078\" xlink:href=\"#DejaVuSans-116\"/>\n     <use x=\"1010.164062\" xlink:href=\"#DejaVuSans-99\"/>\n     <use x=\"1065.144531\" xlink:href=\"#DejaVuSans-104\"/>\n     <use x=\"1128.523438\" xlink:href=\"#DejaVuSans-61\"/>\n     <use x=\"1212.3125\" xlink:href=\"#DejaVuSans-49\"/>\n     <use x=\"1275.935547\" xlink:href=\"#DejaVuSans-50\"/>\n     <use x=\"1339.558594\" xlink:href=\"#DejaVuSans-56\"/>\n    </g>\n   </g>\n   <g id=\"legend_1\">\n    <g id=\"patch_7\">\n     <path d=\"M 510.221875 59.674375 \nL 591.603125 59.674375 \nQ 593.603125 59.674375 593.603125 57.674375 \nL 593.603125 29.318125 \nQ 593.603125 27.318125 591.603125 27.318125 \nL 510.221875 27.318125 \nQ 508.221875 27.318125 508.221875 29.318125 \nL 508.221875 57.674375 \nQ 508.221875 59.674375 510.221875 59.674375 \nz\n\" style=\"fill:#ffffff;opacity:0.8;stroke:#cccccc;stroke-linejoin:miter;\"/>\n    </g>\n    <g id=\"line2d_17\">\n     <path d=\"M 512.221875 35.416562 \nL 532.221875 35.416562 \n\" style=\"fill:none;stroke:#1f77b4;stroke-linecap:square;stroke-width:1.5;\"/>\n    </g>\n    <g id=\"line2d_18\"/>\n    <g id=\"text_18\">\n     <!-- Training -->\n     <defs>\n      <path d=\"M -0.296875 72.90625 \nL 61.375 72.90625 \nL 61.375 64.59375 \nL 35.5 64.59375 \nL 35.5 0 \nL 25.59375 0 \nL 25.59375 64.59375 \nL -0.296875 64.59375 \nz\n\" id=\"DejaVuSans-84\"/>\n      <path d=\"M 41.109375 46.296875 \nQ 39.59375 47.171875 37.8125 47.578125 \nQ 36.03125 48 33.890625 48 \nQ 26.265625 48 22.1875 43.046875 \nQ 18.109375 38.09375 18.109375 28.8125 \nL 18.109375 0 \nL 9.078125 0 \nL 9.078125 54.6875 \nL 18.109375 54.6875 \nL 18.109375 46.1875 \nQ 20.953125 51.171875 25.484375 53.578125 \nQ 30.03125 56 36.53125 56 \nQ 37.453125 56 38.578125 55.875 \nQ 39.703125 55.765625 41.0625 55.515625 \nz\n\" id=\"DejaVuSans-114\"/>\n      <path d=\"M 9.421875 54.6875 \nL 18.40625 54.6875 \nL 18.40625 0 \nL 9.421875 0 \nz\nM 9.421875 75.984375 \nL 18.40625 75.984375 \nL 18.40625 64.59375 \nL 9.421875 64.59375 \nz\n\" id=\"DejaVuSans-105\"/>\n      <path d=\"M 54.890625 33.015625 \nL 54.890625 0 \nL 45.90625 0 \nL 45.90625 32.71875 \nQ 45.90625 40.484375 42.875 44.328125 \nQ 39.84375 48.1875 33.796875 48.1875 \nQ 26.515625 48.1875 22.3125 43.546875 \nQ 18.109375 38.921875 18.109375 30.90625 \nL 18.109375 0 \nL 9.078125 0 \nL 9.078125 54.6875 \nL 18.109375 54.6875 \nL 18.109375 46.1875 \nQ 21.34375 51.125 25.703125 53.5625 \nQ 30.078125 56 35.796875 56 \nQ 45.21875 56 50.046875 50.171875 \nQ 54.890625 44.34375 54.890625 33.015625 \nz\n\" id=\"DejaVuSans-110\"/>\n      <path d=\"M 45.40625 27.984375 \nQ 45.40625 37.75 41.375 43.109375 \nQ 37.359375 48.484375 30.078125 48.484375 \nQ 22.859375 48.484375 18.828125 43.109375 \nQ 14.796875 37.75 14.796875 27.984375 \nQ 14.796875 18.265625 18.828125 12.890625 \nQ 22.859375 7.515625 30.078125 7.515625 \nQ 37.359375 7.515625 41.375 12.890625 \nQ 45.40625 18.265625 45.40625 27.984375 \nz\nM 54.390625 6.78125 \nQ 54.390625 -7.171875 48.1875 -13.984375 \nQ 42 -20.796875 29.203125 -20.796875 \nQ 24.46875 -20.796875 20.265625 -20.09375 \nQ 16.0625 -19.390625 12.109375 -17.921875 \nL 12.109375 -9.1875 \nQ 16.0625 -11.328125 19.921875 -12.34375 \nQ 23.78125 -13.375 27.78125 -13.375 \nQ 36.625 -13.375 41.015625 -8.765625 \nQ 45.40625 -4.15625 45.40625 5.171875 \nL 45.40625 9.625 \nQ 42.625 4.78125 38.28125 2.390625 \nQ 33.9375 0 27.875 0 \nQ 17.828125 0 11.671875 7.65625 \nQ 5.515625 15.328125 5.515625 27.984375 \nQ 5.515625 40.671875 11.671875 48.328125 \nQ 17.828125 56 27.875 56 \nQ 33.9375 56 38.28125 53.609375 \nQ 42.625 51.21875 45.40625 46.390625 \nL 45.40625 54.6875 \nL 54.390625 54.6875 \nz\n\" id=\"DejaVuSans-103\"/>\n     </defs>\n     <g transform=\"translate(540.221875 38.916562)scale(0.1 -0.1)\">\n      <use xlink:href=\"#DejaVuSans-84\"/>\n      <use x=\"46.333984\" xlink:href=\"#DejaVuSans-114\"/>\n      <use x=\"87.447266\" xlink:href=\"#DejaVuSans-97\"/>\n      <use x=\"148.726562\" xlink:href=\"#DejaVuSans-105\"/>\n      <use x=\"176.509766\" xlink:href=\"#DejaVuSans-110\"/>\n      <use x=\"239.888672\" xlink:href=\"#DejaVuSans-105\"/>\n      <use x=\"267.671875\" xlink:href=\"#DejaVuSans-110\"/>\n      <use x=\"331.050781\" xlink:href=\"#DejaVuSans-103\"/>\n     </g>\n    </g>\n    <g id=\"line2d_19\">\n     <path d=\"M 512.221875 50.094688 \nL 532.221875 50.094688 \n\" style=\"fill:none;stroke:#ff7f0e;stroke-linecap:square;stroke-width:1.5;\"/>\n    </g>\n    <g id=\"line2d_20\"/>\n    <g id=\"text_19\">\n     <!-- Validation -->\n     <defs>\n      <path d=\"M 28.609375 0 \nL 0.78125 72.90625 \nL 11.078125 72.90625 \nL 34.1875 11.53125 \nL 57.328125 72.90625 \nL 67.578125 72.90625 \nL 39.796875 0 \nz\n\" id=\"DejaVuSans-86\"/>\n      <path d=\"M 9.421875 75.984375 \nL 18.40625 75.984375 \nL 18.40625 0 \nL 9.421875 0 \nz\n\" id=\"DejaVuSans-108\"/>\n      <path d=\"M 45.40625 46.390625 \nL 45.40625 75.984375 \nL 54.390625 75.984375 \nL 54.390625 0 \nL 45.40625 0 \nL 45.40625 8.203125 \nQ 42.578125 3.328125 38.25 0.953125 \nQ 33.9375 -1.421875 27.875 -1.421875 \nQ 17.96875 -1.421875 11.734375 6.484375 \nQ 5.515625 14.40625 5.515625 27.296875 \nQ 5.515625 40.1875 11.734375 48.09375 \nQ 17.96875 56 27.875 56 \nQ 33.9375 56 38.25 53.625 \nQ 42.578125 51.265625 45.40625 46.390625 \nz\nM 14.796875 27.296875 \nQ 14.796875 17.390625 18.875 11.75 \nQ 22.953125 6.109375 30.078125 6.109375 \nQ 37.203125 6.109375 41.296875 11.75 \nQ 45.40625 17.390625 45.40625 27.296875 \nQ 45.40625 37.203125 41.296875 42.84375 \nQ 37.203125 48.484375 30.078125 48.484375 \nQ 22.953125 48.484375 18.875 42.84375 \nQ 14.796875 37.203125 14.796875 27.296875 \nz\n\" id=\"DejaVuSans-100\"/>\n     </defs>\n     <g transform=\"translate(540.221875 53.594688)scale(0.1 -0.1)\">\n      <use xlink:href=\"#DejaVuSans-86\"/>\n      <use x=\"60.658203\" xlink:href=\"#DejaVuSans-97\"/>\n      <use x=\"121.9375\" xlink:href=\"#DejaVuSans-108\"/>\n      <use x=\"149.720703\" xlink:href=\"#DejaVuSans-105\"/>\n      <use x=\"177.503906\" xlink:href=\"#DejaVuSans-100\"/>\n      <use x=\"240.980469\" xlink:href=\"#DejaVuSans-97\"/>\n      <use x=\"302.259766\" xlink:href=\"#DejaVuSans-116\"/>\n      <use x=\"341.46875\" xlink:href=\"#DejaVuSans-105\"/>\n      <use x=\"369.251953\" xlink:href=\"#DejaVuSans-111\"/>\n      <use x=\"430.433594\" xlink:href=\"#DejaVuSans-110\"/>\n     </g>\n    </g>\n   </g>\n  </g>\n </g>\n <defs>\n  <clipPath id=\"p7e0b73bdff\">\n   <rect height=\"271.8\" width=\"558\" x=\"40.603125\" y=\"22.318125\"/>\n  </clipPath>\n </defs>\n</svg>\n"
          },
          "metadata": {
            "needs_background": "light"
          }
        }
      ],
      "source": [
        "#@title\n",
        "plt.figure(figsize=(10,5))\n",
        "plt.plot(history.history['loss'])\n",
        "plt.plot(history.history['val_loss'])\n",
        "plt.title('Loss vs. epochs, batch=' +str(batch_size))\n",
        "plt.ylabel('Loss')\n",
        "plt.xlabel('Epoch')\n",
        "plt.legend(['Training', 'Validation'], loc='upper right')\n",
        "plt.show()"
      ]
    },
    {
      "cell_type": "markdown",
      "id": "c0c037e6-a554-454d-8d87-e009aefd826c",
      "metadata": {
        "id": "c0c037e6-a554-454d-8d87-e009aefd826c"
      },
      "source": [
        "##### Size =  Data"
      ]
    },
    {
      "cell_type": "markdown",
      "id": "f067cc9d-4c8e-434d-970e-5395914df5f1",
      "metadata": {
        "id": "f067cc9d-4c8e-434d-970e-5395914df5f1"
      },
      "source": [
        "10. **Retrain for length of data batch size**"
      ]
    },
    {
      "cell_type": "code",
      "execution_count": 199,
      "id": "c6bcbb54-5017-4030-97a8-8a70bf2204ce",
      "metadata": {
        "id": "c6bcbb54-5017-4030-97a8-8a70bf2204ce",
        "colab": {
          "base_uri": "https://localhost:8080/"
        },
        "outputId": "8260affa-d808-4796-e981-cce1aec8e6a3"
      },
      "outputs": [
        {
          "output_type": "stream",
          "name": "stdout",
          "text": [
            "Epoch 1/125\n",
            "1/1 [==============================] - 1s 590ms/step - loss: 4.4061 - accuracy: 0.4141 - val_loss: 1.4757 - val_accuracy: 0.3733\n",
            "Epoch 2/125\n",
            "1/1 [==============================] - 0s 35ms/step - loss: 1.6156 - accuracy: 0.3600 - val_loss: 1.8732 - val_accuracy: 0.3467\n",
            "Epoch 3/125\n",
            "1/1 [==============================] - 0s 37ms/step - loss: 1.9836 - accuracy: 0.3318 - val_loss: 1.5680 - val_accuracy: 0.3467\n",
            "Epoch 4/125\n",
            "1/1 [==============================] - 0s 40ms/step - loss: 2.0163 - accuracy: 0.3318 - val_loss: 1.5288 - val_accuracy: 0.3467\n",
            "Epoch 5/125\n",
            "1/1 [==============================] - 0s 36ms/step - loss: 1.9090 - accuracy: 0.3318 - val_loss: 1.4995 - val_accuracy: 0.3467\n",
            "Epoch 6/125\n",
            "1/1 [==============================] - 0s 36ms/step - loss: 1.9231 - accuracy: 0.3318 - val_loss: 1.4697 - val_accuracy: 0.3467\n",
            "Epoch 7/125\n",
            "1/1 [==============================] - 0s 35ms/step - loss: 1.8621 - accuracy: 0.3318 - val_loss: 1.4416 - val_accuracy: 0.3467\n",
            "Epoch 8/125\n",
            "1/1 [==============================] - 0s 35ms/step - loss: 1.7752 - accuracy: 0.3318 - val_loss: 1.4159 - val_accuracy: 0.3467\n",
            "Epoch 9/125\n",
            "1/1 [==============================] - 0s 55ms/step - loss: 1.4305 - accuracy: 0.3318 - val_loss: 1.3944 - val_accuracy: 0.3467\n",
            "Epoch 10/125\n",
            "1/1 [==============================] - 0s 33ms/step - loss: 1.3940 - accuracy: 0.3318 - val_loss: 1.3751 - val_accuracy: 0.3600\n",
            "Epoch 11/125\n",
            "1/1 [==============================] - 0s 41ms/step - loss: 1.3681 - accuracy: 0.3388 - val_loss: 1.3584 - val_accuracy: 0.3600\n",
            "Epoch 12/125\n",
            "1/1 [==============================] - 0s 35ms/step - loss: 1.3474 - accuracy: 0.3435 - val_loss: 1.3433 - val_accuracy: 0.3600\n",
            "Epoch 13/125\n",
            "1/1 [==============================] - 0s 33ms/step - loss: 1.3298 - accuracy: 0.3506 - val_loss: 1.3297 - val_accuracy: 0.3600\n",
            "Epoch 14/125\n",
            "1/1 [==============================] - 0s 36ms/step - loss: 1.3146 - accuracy: 0.3506 - val_loss: 1.3173 - val_accuracy: 0.3600\n",
            "Epoch 15/125\n",
            "1/1 [==============================] - 0s 34ms/step - loss: 1.3012 - accuracy: 0.3529 - val_loss: 1.3059 - val_accuracy: 0.3600\n",
            "Epoch 16/125\n",
            "1/1 [==============================] - 0s 33ms/step - loss: 1.2891 - accuracy: 0.3553 - val_loss: 1.2955 - val_accuracy: 0.3600\n",
            "Epoch 17/125\n",
            "1/1 [==============================] - 0s 32ms/step - loss: 1.2782 - accuracy: 0.3553 - val_loss: 1.2858 - val_accuracy: 0.3600\n",
            "Epoch 18/125\n",
            "1/1 [==============================] - 0s 38ms/step - loss: 1.2682 - accuracy: 0.3553 - val_loss: 1.2768 - val_accuracy: 0.3600\n",
            "Epoch 19/125\n",
            "1/1 [==============================] - 0s 35ms/step - loss: 1.2591 - accuracy: 0.3576 - val_loss: 1.2685 - val_accuracy: 0.3600\n",
            "Epoch 20/125\n",
            "1/1 [==============================] - 0s 35ms/step - loss: 1.2508 - accuracy: 0.3600 - val_loss: 1.2607 - val_accuracy: 0.3600\n",
            "Epoch 21/125\n",
            "1/1 [==============================] - 0s 41ms/step - loss: 1.2430 - accuracy: 0.3600 - val_loss: 1.2533 - val_accuracy: 0.3600\n",
            "Epoch 22/125\n",
            "1/1 [==============================] - 0s 33ms/step - loss: 1.2358 - accuracy: 0.3600 - val_loss: 1.2464 - val_accuracy: 0.3600\n",
            "Epoch 23/125\n",
            "1/1 [==============================] - 0s 30ms/step - loss: 1.2291 - accuracy: 0.3624 - val_loss: 1.2399 - val_accuracy: 0.3600\n",
            "Epoch 24/125\n",
            "1/1 [==============================] - 0s 54ms/step - loss: 1.2228 - accuracy: 0.3624 - val_loss: 1.2338 - val_accuracy: 0.3733\n",
            "Epoch 25/125\n",
            "1/1 [==============================] - 0s 35ms/step - loss: 1.2169 - accuracy: 0.3647 - val_loss: 1.2280 - val_accuracy: 0.3733\n",
            "Epoch 26/125\n",
            "1/1 [==============================] - 0s 35ms/step - loss: 1.2113 - accuracy: 0.3671 - val_loss: 1.2225 - val_accuracy: 0.3733\n",
            "Epoch 27/125\n",
            "1/1 [==============================] - 0s 35ms/step - loss: 1.2061 - accuracy: 0.3671 - val_loss: 1.2172 - val_accuracy: 0.3733\n",
            "Epoch 28/125\n",
            "1/1 [==============================] - 0s 35ms/step - loss: 1.2011 - accuracy: 0.3671 - val_loss: 1.2122 - val_accuracy: 0.3733\n",
            "Epoch 29/125\n",
            "1/1 [==============================] - 0s 37ms/step - loss: 1.1963 - accuracy: 0.3671 - val_loss: 1.2075 - val_accuracy: 0.3733\n",
            "Epoch 30/125\n",
            "1/1 [==============================] - 0s 33ms/step - loss: 1.1918 - accuracy: 0.3671 - val_loss: 1.2029 - val_accuracy: 0.3733\n",
            "Epoch 31/125\n",
            "1/1 [==============================] - 0s 31ms/step - loss: 1.1875 - accuracy: 0.3671 - val_loss: 1.1985 - val_accuracy: 0.3733\n",
            "Epoch 32/125\n",
            "1/1 [==============================] - 0s 32ms/step - loss: 1.1833 - accuracy: 0.3694 - val_loss: 1.1943 - val_accuracy: 0.3733\n",
            "Epoch 33/125\n",
            "1/1 [==============================] - 0s 32ms/step - loss: 1.1794 - accuracy: 0.3694 - val_loss: 1.1903 - val_accuracy: 0.3733\n",
            "Epoch 34/125\n",
            "1/1 [==============================] - 0s 44ms/step - loss: 1.1756 - accuracy: 0.3694 - val_loss: 1.1864 - val_accuracy: 0.3733\n",
            "Epoch 35/125\n",
            "1/1 [==============================] - 0s 35ms/step - loss: 1.1719 - accuracy: 0.3671 - val_loss: 1.1827 - val_accuracy: 0.3733\n",
            "Epoch 36/125\n",
            "1/1 [==============================] - 0s 39ms/step - loss: 1.1683 - accuracy: 0.3671 - val_loss: 1.1791 - val_accuracy: 0.3733\n",
            "Epoch 37/125\n",
            "1/1 [==============================] - 0s 37ms/step - loss: 1.1649 - accuracy: 0.3671 - val_loss: 1.1756 - val_accuracy: 0.3733\n",
            "Epoch 38/125\n",
            "1/1 [==============================] - 0s 35ms/step - loss: 1.1616 - accuracy: 0.3671 - val_loss: 1.1723 - val_accuracy: 0.3733\n",
            "Epoch 39/125\n",
            "1/1 [==============================] - 0s 57ms/step - loss: 1.1584 - accuracy: 0.3694 - val_loss: 1.1690 - val_accuracy: 0.3733\n",
            "Epoch 40/125\n",
            "1/1 [==============================] - 0s 34ms/step - loss: 1.1553 - accuracy: 0.3694 - val_loss: 1.1659 - val_accuracy: 0.3733\n",
            "Epoch 41/125\n",
            "1/1 [==============================] - 0s 32ms/step - loss: 1.1523 - accuracy: 0.3718 - val_loss: 1.1628 - val_accuracy: 0.3733\n",
            "Epoch 42/125\n",
            "1/1 [==============================] - 0s 42ms/step - loss: 1.1494 - accuracy: 0.3765 - val_loss: 1.1599 - val_accuracy: 0.3733\n",
            "Epoch 43/125\n",
            "1/1 [==============================] - 0s 37ms/step - loss: 1.1466 - accuracy: 0.3765 - val_loss: 1.1570 - val_accuracy: 0.3733\n",
            "Epoch 44/125\n",
            "1/1 [==============================] - 0s 36ms/step - loss: 1.1438 - accuracy: 0.3765 - val_loss: 1.1542 - val_accuracy: 0.3733\n",
            "Epoch 45/125\n",
            "1/1 [==============================] - 0s 32ms/step - loss: 1.1411 - accuracy: 0.3765 - val_loss: 1.1515 - val_accuracy: 0.3733\n",
            "Epoch 46/125\n",
            "1/1 [==============================] - 0s 37ms/step - loss: 1.1385 - accuracy: 0.3765 - val_loss: 1.1488 - val_accuracy: 0.3733\n",
            "Epoch 47/125\n",
            "1/1 [==============================] - 0s 35ms/step - loss: 1.1360 - accuracy: 0.3765 - val_loss: 1.1462 - val_accuracy: 0.3733\n",
            "Epoch 48/125\n",
            "1/1 [==============================] - 0s 43ms/step - loss: 1.1335 - accuracy: 0.3765 - val_loss: 1.1437 - val_accuracy: 0.3733\n",
            "Epoch 49/125\n",
            "1/1 [==============================] - 0s 54ms/step - loss: 1.1311 - accuracy: 0.3765 - val_loss: 1.1412 - val_accuracy: 0.3733\n",
            "Epoch 50/125\n",
            "1/1 [==============================] - 0s 33ms/step - loss: 1.1287 - accuracy: 0.3765 - val_loss: 1.1388 - val_accuracy: 0.3733\n",
            "Epoch 51/125\n",
            "1/1 [==============================] - 0s 35ms/step - loss: 1.1264 - accuracy: 0.3765 - val_loss: 1.1365 - val_accuracy: 0.3733\n",
            "Epoch 52/125\n",
            "1/1 [==============================] - 0s 34ms/step - loss: 1.1242 - accuracy: 0.3765 - val_loss: 1.1342 - val_accuracy: 0.3733\n",
            "Epoch 53/125\n",
            "1/1 [==============================] - 0s 38ms/step - loss: 1.1220 - accuracy: 0.3765 - val_loss: 1.1320 - val_accuracy: 0.3733\n",
            "Epoch 54/125\n",
            "1/1 [==============================] - 0s 33ms/step - loss: 1.1199 - accuracy: 0.3788 - val_loss: 1.1298 - val_accuracy: 0.3733\n",
            "Epoch 55/125\n",
            "1/1 [==============================] - 0s 31ms/step - loss: 1.1178 - accuracy: 0.3812 - val_loss: 1.1276 - val_accuracy: 0.3733\n",
            "Epoch 56/125\n",
            "1/1 [==============================] - 0s 55ms/step - loss: 1.1157 - accuracy: 0.3812 - val_loss: 1.1255 - val_accuracy: 0.3733\n",
            "Epoch 57/125\n",
            "1/1 [==============================] - 0s 31ms/step - loss: 1.1137 - accuracy: 0.3812 - val_loss: 1.1235 - val_accuracy: 0.3733\n",
            "Epoch 58/125\n",
            "1/1 [==============================] - 0s 36ms/step - loss: 1.1118 - accuracy: 0.3835 - val_loss: 1.1215 - val_accuracy: 0.3733\n",
            "Epoch 59/125\n",
            "1/1 [==============================] - 0s 35ms/step - loss: 1.1098 - accuracy: 0.3835 - val_loss: 1.1195 - val_accuracy: 0.3733\n",
            "Epoch 60/125\n",
            "1/1 [==============================] - 0s 32ms/step - loss: 1.1079 - accuracy: 0.3835 - val_loss: 1.1176 - val_accuracy: 0.3733\n",
            "Epoch 61/125\n",
            "1/1 [==============================] - 0s 47ms/step - loss: 1.1061 - accuracy: 0.3859 - val_loss: 1.1156 - val_accuracy: 0.3733\n",
            "Epoch 62/125\n",
            "1/1 [==============================] - 0s 37ms/step - loss: 1.1042 - accuracy: 0.3835 - val_loss: 1.1138 - val_accuracy: 0.3733\n",
            "Epoch 63/125\n",
            "1/1 [==============================] - 0s 35ms/step - loss: 1.1024 - accuracy: 0.3835 - val_loss: 1.1119 - val_accuracy: 0.3733\n",
            "Epoch 64/125\n",
            "1/1 [==============================] - 0s 34ms/step - loss: 1.1007 - accuracy: 0.3859 - val_loss: 1.1101 - val_accuracy: 0.3733\n",
            "Epoch 65/125\n",
            "1/1 [==============================] - 0s 33ms/step - loss: 1.0989 - accuracy: 0.3859 - val_loss: 1.1083 - val_accuracy: 0.3733\n",
            "Epoch 66/125\n",
            "1/1 [==============================] - 0s 32ms/step - loss: 1.0972 - accuracy: 0.3882 - val_loss: 1.1066 - val_accuracy: 0.3733\n",
            "Epoch 67/125\n",
            "1/1 [==============================] - 0s 36ms/step - loss: 1.0955 - accuracy: 0.3882 - val_loss: 1.1049 - val_accuracy: 0.3733\n",
            "Epoch 68/125\n",
            "1/1 [==============================] - 0s 34ms/step - loss: 1.0939 - accuracy: 0.3906 - val_loss: 1.1032 - val_accuracy: 0.3733\n",
            "Epoch 69/125\n",
            "1/1 [==============================] - 0s 32ms/step - loss: 1.0922 - accuracy: 0.3906 - val_loss: 1.1015 - val_accuracy: 0.3733\n",
            "Epoch 70/125\n",
            "1/1 [==============================] - 0s 36ms/step - loss: 1.0906 - accuracy: 0.3906 - val_loss: 1.0999 - val_accuracy: 0.3733\n",
            "Epoch 71/125\n",
            "1/1 [==============================] - 0s 34ms/step - loss: 1.0890 - accuracy: 0.3906 - val_loss: 1.0983 - val_accuracy: 0.3733\n",
            "Epoch 72/125\n",
            "1/1 [==============================] - 0s 32ms/step - loss: 1.0875 - accuracy: 0.3906 - val_loss: 1.0967 - val_accuracy: 0.3733\n",
            "Epoch 73/125\n",
            "1/1 [==============================] - 0s 39ms/step - loss: 1.0859 - accuracy: 0.3906 - val_loss: 1.0951 - val_accuracy: 0.3733\n",
            "Epoch 74/125\n",
            "1/1 [==============================] - 0s 31ms/step - loss: 1.0844 - accuracy: 0.3906 - val_loss: 1.0935 - val_accuracy: 0.3733\n",
            "Epoch 75/125\n",
            "1/1 [==============================] - 0s 33ms/step - loss: 1.0830 - accuracy: 0.3906 - val_loss: 1.0920 - val_accuracy: 0.3733\n",
            "Epoch 76/125\n",
            "1/1 [==============================] - 0s 35ms/step - loss: 1.0815 - accuracy: 0.3906 - val_loss: 1.0905 - val_accuracy: 0.3733\n",
            "Epoch 77/125\n",
            "1/1 [==============================] - 0s 38ms/step - loss: 1.0801 - accuracy: 0.3906 - val_loss: 1.0890 - val_accuracy: 0.3867\n",
            "Epoch 78/125\n",
            "1/1 [==============================] - 0s 35ms/step - loss: 1.0786 - accuracy: 0.3906 - val_loss: 1.0876 - val_accuracy: 0.3867\n",
            "Epoch 79/125\n",
            "1/1 [==============================] - 0s 38ms/step - loss: 1.0772 - accuracy: 0.3906 - val_loss: 1.0862 - val_accuracy: 0.3733\n",
            "Epoch 80/125\n",
            "1/1 [==============================] - 0s 30ms/step - loss: 1.0759 - accuracy: 0.3906 - val_loss: 1.0847 - val_accuracy: 0.3733\n",
            "Epoch 81/125\n",
            "1/1 [==============================] - 0s 33ms/step - loss: 1.0745 - accuracy: 0.3906 - val_loss: 1.0833 - val_accuracy: 0.3600\n",
            "Epoch 82/125\n",
            "1/1 [==============================] - 0s 57ms/step - loss: 1.0732 - accuracy: 0.3906 - val_loss: 1.0820 - val_accuracy: 0.3600\n",
            "Epoch 83/125\n",
            "1/1 [==============================] - 0s 35ms/step - loss: 1.0718 - accuracy: 0.3906 - val_loss: 1.0806 - val_accuracy: 0.3600\n",
            "Epoch 84/125\n",
            "1/1 [==============================] - 0s 34ms/step - loss: 1.0705 - accuracy: 0.3906 - val_loss: 1.0793 - val_accuracy: 0.3600\n",
            "Epoch 85/125\n",
            "1/1 [==============================] - 0s 37ms/step - loss: 1.0692 - accuracy: 0.3906 - val_loss: 1.0779 - val_accuracy: 0.3600\n",
            "Epoch 86/125\n",
            "1/1 [==============================] - 0s 34ms/step - loss: 1.0679 - accuracy: 0.3906 - val_loss: 1.0766 - val_accuracy: 0.3600\n",
            "Epoch 87/125\n",
            "1/1 [==============================] - 0s 54ms/step - loss: 1.0667 - accuracy: 0.3906 - val_loss: 1.0753 - val_accuracy: 0.3600\n",
            "Epoch 88/125\n",
            "1/1 [==============================] - 0s 34ms/step - loss: 1.0654 - accuracy: 0.3906 - val_loss: 1.0740 - val_accuracy: 0.3600\n",
            "Epoch 89/125\n",
            "1/1 [==============================] - 0s 33ms/step - loss: 1.1021 - accuracy: 0.3906 - val_loss: 1.0728 - val_accuracy: 0.3600\n",
            "Epoch 90/125\n",
            "1/1 [==============================] - 0s 39ms/step - loss: 1.1009 - accuracy: 0.3906 - val_loss: 1.0715 - val_accuracy: 0.3600\n",
            "Epoch 91/125\n",
            "1/1 [==============================] - 0s 35ms/step - loss: 1.1377 - accuracy: 0.3906 - val_loss: 1.0703 - val_accuracy: 0.3600\n",
            "Epoch 92/125\n",
            "1/1 [==============================] - 0s 38ms/step - loss: 1.1744 - accuracy: 0.3906 - val_loss: 1.0691 - val_accuracy: 0.3600\n",
            "Epoch 93/125\n",
            "1/1 [==============================] - 0s 43ms/step - loss: 1.1732 - accuracy: 0.3906 - val_loss: 1.0678 - val_accuracy: 0.3600\n",
            "Epoch 94/125\n",
            "1/1 [==============================] - 0s 40ms/step - loss: 1.1721 - accuracy: 0.3906 - val_loss: 1.0666 - val_accuracy: 0.3600\n",
            "Epoch 95/125\n",
            "1/1 [==============================] - 0s 36ms/step - loss: 1.1710 - accuracy: 0.3906 - val_loss: 1.0655 - val_accuracy: 0.3600\n",
            "Epoch 96/125\n",
            "1/1 [==============================] - 0s 34ms/step - loss: 1.1698 - accuracy: 0.3906 - val_loss: 1.0643 - val_accuracy: 0.3600\n",
            "Epoch 97/125\n",
            "1/1 [==============================] - 0s 47ms/step - loss: 1.1687 - accuracy: 0.3906 - val_loss: 1.0631 - val_accuracy: 0.3600\n",
            "Epoch 98/125\n",
            "1/1 [==============================] - 0s 34ms/step - loss: 1.1676 - accuracy: 0.3906 - val_loss: 1.0620 - val_accuracy: 0.3600\n",
            "Epoch 99/125\n",
            "1/1 [==============================] - 0s 42ms/step - loss: 1.1666 - accuracy: 0.3906 - val_loss: 1.0608 - val_accuracy: 0.3600\n",
            "Epoch 100/125\n",
            "1/1 [==============================] - 0s 38ms/step - loss: 1.1655 - accuracy: 0.3906 - val_loss: 1.0597 - val_accuracy: 0.3600\n",
            "Epoch 101/125\n",
            "1/1 [==============================] - 0s 35ms/step - loss: 1.1644 - accuracy: 0.3906 - val_loss: 1.0586 - val_accuracy: 0.3600\n",
            "Epoch 102/125\n",
            "1/1 [==============================] - 0s 36ms/step - loss: 1.2013 - accuracy: 0.3906 - val_loss: 1.0575 - val_accuracy: 0.3600\n",
            "Epoch 103/125\n",
            "1/1 [==============================] - 0s 35ms/step - loss: 1.2003 - accuracy: 0.3906 - val_loss: 1.0564 - val_accuracy: 0.3600\n",
            "Epoch 104/125\n",
            "1/1 [==============================] - 0s 38ms/step - loss: 1.1993 - accuracy: 0.3906 - val_loss: 1.0553 - val_accuracy: 0.3600\n",
            "Epoch 105/125\n",
            "1/1 [==============================] - 0s 32ms/step - loss: 1.1982 - accuracy: 0.3906 - val_loss: 1.0542 - val_accuracy: 0.3600\n",
            "Epoch 106/125\n",
            "1/1 [==============================] - 0s 36ms/step - loss: 1.1972 - accuracy: 0.3906 - val_loss: 1.0532 - val_accuracy: 0.3600\n",
            "Epoch 107/125\n",
            "1/1 [==============================] - 0s 37ms/step - loss: 1.1962 - accuracy: 0.3906 - val_loss: 1.0521 - val_accuracy: 0.3600\n",
            "Epoch 108/125\n",
            "1/1 [==============================] - 0s 34ms/step - loss: 1.2332 - accuracy: 0.3906 - val_loss: 1.0510 - val_accuracy: 0.3600\n",
            "Epoch 109/125\n",
            "1/1 [==============================] - 0s 33ms/step - loss: 1.2322 - accuracy: 0.3906 - val_loss: 1.0500 - val_accuracy: 0.3600\n",
            "Epoch 110/125\n",
            "1/1 [==============================] - 0s 40ms/step - loss: 1.2691 - accuracy: 0.3882 - val_loss: 1.0490 - val_accuracy: 0.3600\n",
            "Epoch 111/125\n",
            "1/1 [==============================] - 0s 35ms/step - loss: 1.2682 - accuracy: 0.3906 - val_loss: 1.0479 - val_accuracy: 0.3733\n",
            "Epoch 112/125\n",
            "1/1 [==============================] - 0s 34ms/step - loss: 1.2672 - accuracy: 0.3929 - val_loss: 1.0469 - val_accuracy: 0.3733\n",
            "Epoch 113/125\n",
            "1/1 [==============================] - 0s 36ms/step - loss: 1.3042 - accuracy: 0.3953 - val_loss: 1.0459 - val_accuracy: 0.3867\n",
            "Epoch 114/125\n",
            "1/1 [==============================] - 0s 32ms/step - loss: 1.3033 - accuracy: 0.3953 - val_loss: 1.0449 - val_accuracy: 0.3867\n",
            "Epoch 115/125\n",
            "1/1 [==============================] - 0s 36ms/step - loss: 1.3023 - accuracy: 0.3953 - val_loss: 1.0439 - val_accuracy: 0.3733\n",
            "Epoch 116/125\n",
            "1/1 [==============================] - 0s 32ms/step - loss: 1.3014 - accuracy: 0.3976 - val_loss: 1.0430 - val_accuracy: 0.3733\n",
            "Epoch 117/125\n",
            "1/1 [==============================] - 0s 38ms/step - loss: 1.3005 - accuracy: 0.4000 - val_loss: 1.0421 - val_accuracy: 0.3733\n",
            "Epoch 118/125\n",
            "1/1 [==============================] - 0s 33ms/step - loss: 1.2996 - accuracy: 0.4000 - val_loss: 1.0412 - val_accuracy: 0.3733\n",
            "Epoch 119/125\n",
            "1/1 [==============================] - 0s 40ms/step - loss: 1.2987 - accuracy: 0.3976 - val_loss: 1.0403 - val_accuracy: 0.3733\n",
            "Epoch 120/125\n",
            "1/1 [==============================] - 0s 51ms/step - loss: 1.2977 - accuracy: 0.3976 - val_loss: 1.0394 - val_accuracy: 0.3733\n",
            "Epoch 121/125\n",
            "1/1 [==============================] - 0s 44ms/step - loss: 1.2969 - accuracy: 0.3976 - val_loss: 1.0385 - val_accuracy: 0.3733\n",
            "Epoch 122/125\n",
            "1/1 [==============================] - 0s 33ms/step - loss: 1.3339 - accuracy: 0.3976 - val_loss: 1.0376 - val_accuracy: 0.3733\n",
            "Epoch 123/125\n",
            "1/1 [==============================] - 0s 35ms/step - loss: 1.3330 - accuracy: 0.4000 - val_loss: 1.0367 - val_accuracy: 0.3733\n",
            "Epoch 124/125\n",
            "1/1 [==============================] - 0s 34ms/step - loss: 1.3321 - accuracy: 0.4000 - val_loss: 1.0358 - val_accuracy: 0.3733\n",
            "Epoch 125/125\n",
            "1/1 [==============================] - 0s 33ms/step - loss: 1.3312 - accuracy: 0.4000 - val_loss: 1.0349 - val_accuracy: 0.3733\n",
            "16/16 - 0s - loss: 1.0674 - accuracy: 0.4140 - 37ms/epoch - 2ms/step\n"
          ]
        }
      ],
      "source": [
        "#@title\n",
        "### START CODE HERE ### \n",
        "batch_size=425 # since the validation=.15 , then the train will be 500*.85=\n",
        "history=fit_model(X_train, y_train, X_test, y_test, batch_size)\n",
        "###### END CODE HERE"
      ]
    },
    {
      "cell_type": "code",
      "execution_count": 200,
      "id": "eca79f36-f9b9-444d-950b-5c3d55dfc307",
      "metadata": {
        "tags": [],
        "id": "eca79f36-f9b9-444d-950b-5c3d55dfc307",
        "colab": {
          "base_uri": "https://localhost:8080/",
          "height": 463
        },
        "outputId": "02c17a20-2b98-4013-96a3-3fc3e0d15720"
      },
      "outputs": [
        {
          "output_type": "display_data",
          "data": {
            "text/plain": [
              "<Figure size 720x360 with 1 Axes>"
            ],
            "image/svg+xml": "<?xml version=\"1.0\" encoding=\"utf-8\" standalone=\"no\"?>\n<!DOCTYPE svg PUBLIC \"-//W3C//DTD SVG 1.1//EN\"\n  \"http://www.w3.org/Graphics/SVG/1.1/DTD/svg11.dtd\">\n<!-- Created with matplotlib (https://matplotlib.org/) -->\n<svg height=\"331.674375pt\" version=\"1.1\" viewBox=\"0 0 608.98125 331.674375\" width=\"608.98125pt\" xmlns=\"http://www.w3.org/2000/svg\" xmlns:xlink=\"http://www.w3.org/1999/xlink\">\n <defs>\n  <style type=\"text/css\">\n*{stroke-linecap:butt;stroke-linejoin:round;}\n  </style>\n </defs>\n <g id=\"figure_1\">\n  <g id=\"patch_1\">\n   <path d=\"M 0 331.674375 \nL 608.98125 331.674375 \nL 608.98125 0 \nL 0 0 \nz\n\" style=\"fill:none;\"/>\n  </g>\n  <g id=\"axes_1\">\n   <g id=\"patch_2\">\n    <path d=\"M 43.78125 294.118125 \nL 601.78125 294.118125 \nL 601.78125 22.318125 \nL 43.78125 22.318125 \nz\n\" style=\"fill:#ffffff;\"/>\n   </g>\n   <g id=\"matplotlib.axis_1\">\n    <g id=\"xtick_1\">\n     <g id=\"line2d_1\">\n      <defs>\n       <path d=\"M 0 0 \nL 0 3.5 \n\" id=\"m8bc38d3070\" style=\"stroke:#000000;stroke-width:0.8;\"/>\n      </defs>\n      <g>\n       <use style=\"stroke:#000000;stroke-width:0.8;\" x=\"69.144886\" xlink:href=\"#m8bc38d3070\" y=\"294.118125\"/>\n      </g>\n     </g>\n     <g id=\"text_1\">\n      <!-- 0 -->\n      <defs>\n       <path d=\"M 31.78125 66.40625 \nQ 24.171875 66.40625 20.328125 58.90625 \nQ 16.5 51.421875 16.5 36.375 \nQ 16.5 21.390625 20.328125 13.890625 \nQ 24.171875 6.390625 31.78125 6.390625 \nQ 39.453125 6.390625 43.28125 13.890625 \nQ 47.125 21.390625 47.125 36.375 \nQ 47.125 51.421875 43.28125 58.90625 \nQ 39.453125 66.40625 31.78125 66.40625 \nz\nM 31.78125 74.21875 \nQ 44.046875 74.21875 50.515625 64.515625 \nQ 56.984375 54.828125 56.984375 36.375 \nQ 56.984375 17.96875 50.515625 8.265625 \nQ 44.046875 -1.421875 31.78125 -1.421875 \nQ 19.53125 -1.421875 13.0625 8.265625 \nQ 6.59375 17.96875 6.59375 36.375 \nQ 6.59375 54.828125 13.0625 64.515625 \nQ 19.53125 74.21875 31.78125 74.21875 \nz\n\" id=\"DejaVuSans-48\"/>\n      </defs>\n      <g transform=\"translate(65.963636 308.716563)scale(0.1 -0.1)\">\n       <use xlink:href=\"#DejaVuSans-48\"/>\n      </g>\n     </g>\n    </g>\n    <g id=\"xtick_2\">\n     <g id=\"line2d_2\">\n      <g>\n       <use style=\"stroke:#000000;stroke-width:0.8;\" x=\"150.963068\" xlink:href=\"#m8bc38d3070\" y=\"294.118125\"/>\n      </g>\n     </g>\n     <g id=\"text_2\">\n      <!-- 20 -->\n      <defs>\n       <path d=\"M 19.1875 8.296875 \nL 53.609375 8.296875 \nL 53.609375 0 \nL 7.328125 0 \nL 7.328125 8.296875 \nQ 12.9375 14.109375 22.625 23.890625 \nQ 32.328125 33.6875 34.8125 36.53125 \nQ 39.546875 41.84375 41.421875 45.53125 \nQ 43.3125 49.21875 43.3125 52.78125 \nQ 43.3125 58.59375 39.234375 62.25 \nQ 35.15625 65.921875 28.609375 65.921875 \nQ 23.96875 65.921875 18.8125 64.3125 \nQ 13.671875 62.703125 7.8125 59.421875 \nL 7.8125 69.390625 \nQ 13.765625 71.78125 18.9375 73 \nQ 24.125 74.21875 28.421875 74.21875 \nQ 39.75 74.21875 46.484375 68.546875 \nQ 53.21875 62.890625 53.21875 53.421875 \nQ 53.21875 48.921875 51.53125 44.890625 \nQ 49.859375 40.875 45.40625 35.40625 \nQ 44.1875 33.984375 37.640625 27.21875 \nQ 31.109375 20.453125 19.1875 8.296875 \nz\n\" id=\"DejaVuSans-50\"/>\n      </defs>\n      <g transform=\"translate(144.600568 308.716563)scale(0.1 -0.1)\">\n       <use xlink:href=\"#DejaVuSans-50\"/>\n       <use x=\"63.623047\" xlink:href=\"#DejaVuSans-48\"/>\n      </g>\n     </g>\n    </g>\n    <g id=\"xtick_3\">\n     <g id=\"line2d_3\">\n      <g>\n       <use style=\"stroke:#000000;stroke-width:0.8;\" x=\"232.78125\" xlink:href=\"#m8bc38d3070\" y=\"294.118125\"/>\n      </g>\n     </g>\n     <g id=\"text_3\">\n      <!-- 40 -->\n      <defs>\n       <path d=\"M 37.796875 64.3125 \nL 12.890625 25.390625 \nL 37.796875 25.390625 \nz\nM 35.203125 72.90625 \nL 47.609375 72.90625 \nL 47.609375 25.390625 \nL 58.015625 25.390625 \nL 58.015625 17.1875 \nL 47.609375 17.1875 \nL 47.609375 0 \nL 37.796875 0 \nL 37.796875 17.1875 \nL 4.890625 17.1875 \nL 4.890625 26.703125 \nz\n\" id=\"DejaVuSans-52\"/>\n      </defs>\n      <g transform=\"translate(226.41875 308.716563)scale(0.1 -0.1)\">\n       <use xlink:href=\"#DejaVuSans-52\"/>\n       <use x=\"63.623047\" xlink:href=\"#DejaVuSans-48\"/>\n      </g>\n     </g>\n    </g>\n    <g id=\"xtick_4\">\n     <g id=\"line2d_4\">\n      <g>\n       <use style=\"stroke:#000000;stroke-width:0.8;\" x=\"314.599432\" xlink:href=\"#m8bc38d3070\" y=\"294.118125\"/>\n      </g>\n     </g>\n     <g id=\"text_4\">\n      <!-- 60 -->\n      <defs>\n       <path d=\"M 33.015625 40.375 \nQ 26.375 40.375 22.484375 35.828125 \nQ 18.609375 31.296875 18.609375 23.390625 \nQ 18.609375 15.53125 22.484375 10.953125 \nQ 26.375 6.390625 33.015625 6.390625 \nQ 39.65625 6.390625 43.53125 10.953125 \nQ 47.40625 15.53125 47.40625 23.390625 \nQ 47.40625 31.296875 43.53125 35.828125 \nQ 39.65625 40.375 33.015625 40.375 \nz\nM 52.59375 71.296875 \nL 52.59375 62.3125 \nQ 48.875 64.0625 45.09375 64.984375 \nQ 41.3125 65.921875 37.59375 65.921875 \nQ 27.828125 65.921875 22.671875 59.328125 \nQ 17.53125 52.734375 16.796875 39.40625 \nQ 19.671875 43.65625 24.015625 45.921875 \nQ 28.375 48.1875 33.59375 48.1875 \nQ 44.578125 48.1875 50.953125 41.515625 \nQ 57.328125 34.859375 57.328125 23.390625 \nQ 57.328125 12.15625 50.6875 5.359375 \nQ 44.046875 -1.421875 33.015625 -1.421875 \nQ 20.359375 -1.421875 13.671875 8.265625 \nQ 6.984375 17.96875 6.984375 36.375 \nQ 6.984375 53.65625 15.1875 63.9375 \nQ 23.390625 74.21875 37.203125 74.21875 \nQ 40.921875 74.21875 44.703125 73.484375 \nQ 48.484375 72.75 52.59375 71.296875 \nz\n\" id=\"DejaVuSans-54\"/>\n      </defs>\n      <g transform=\"translate(308.236932 308.716563)scale(0.1 -0.1)\">\n       <use xlink:href=\"#DejaVuSans-54\"/>\n       <use x=\"63.623047\" xlink:href=\"#DejaVuSans-48\"/>\n      </g>\n     </g>\n    </g>\n    <g id=\"xtick_5\">\n     <g id=\"line2d_5\">\n      <g>\n       <use style=\"stroke:#000000;stroke-width:0.8;\" x=\"396.417614\" xlink:href=\"#m8bc38d3070\" y=\"294.118125\"/>\n      </g>\n     </g>\n     <g id=\"text_5\">\n      <!-- 80 -->\n      <defs>\n       <path d=\"M 31.78125 34.625 \nQ 24.75 34.625 20.71875 30.859375 \nQ 16.703125 27.09375 16.703125 20.515625 \nQ 16.703125 13.921875 20.71875 10.15625 \nQ 24.75 6.390625 31.78125 6.390625 \nQ 38.8125 6.390625 42.859375 10.171875 \nQ 46.921875 13.96875 46.921875 20.515625 \nQ 46.921875 27.09375 42.890625 30.859375 \nQ 38.875 34.625 31.78125 34.625 \nz\nM 21.921875 38.8125 \nQ 15.578125 40.375 12.03125 44.71875 \nQ 8.5 49.078125 8.5 55.328125 \nQ 8.5 64.0625 14.71875 69.140625 \nQ 20.953125 74.21875 31.78125 74.21875 \nQ 42.671875 74.21875 48.875 69.140625 \nQ 55.078125 64.0625 55.078125 55.328125 \nQ 55.078125 49.078125 51.53125 44.71875 \nQ 48 40.375 41.703125 38.8125 \nQ 48.828125 37.15625 52.796875 32.3125 \nQ 56.78125 27.484375 56.78125 20.515625 \nQ 56.78125 9.90625 50.3125 4.234375 \nQ 43.84375 -1.421875 31.78125 -1.421875 \nQ 19.734375 -1.421875 13.25 4.234375 \nQ 6.78125 9.90625 6.78125 20.515625 \nQ 6.78125 27.484375 10.78125 32.3125 \nQ 14.796875 37.15625 21.921875 38.8125 \nz\nM 18.3125 54.390625 \nQ 18.3125 48.734375 21.84375 45.5625 \nQ 25.390625 42.390625 31.78125 42.390625 \nQ 38.140625 42.390625 41.71875 45.5625 \nQ 45.3125 48.734375 45.3125 54.390625 \nQ 45.3125 60.0625 41.71875 63.234375 \nQ 38.140625 66.40625 31.78125 66.40625 \nQ 25.390625 66.40625 21.84375 63.234375 \nQ 18.3125 60.0625 18.3125 54.390625 \nz\n\" id=\"DejaVuSans-56\"/>\n      </defs>\n      <g transform=\"translate(390.055114 308.716563)scale(0.1 -0.1)\">\n       <use xlink:href=\"#DejaVuSans-56\"/>\n       <use x=\"63.623047\" xlink:href=\"#DejaVuSans-48\"/>\n      </g>\n     </g>\n    </g>\n    <g id=\"xtick_6\">\n     <g id=\"line2d_6\">\n      <g>\n       <use style=\"stroke:#000000;stroke-width:0.8;\" x=\"478.235795\" xlink:href=\"#m8bc38d3070\" y=\"294.118125\"/>\n      </g>\n     </g>\n     <g id=\"text_6\">\n      <!-- 100 -->\n      <defs>\n       <path d=\"M 12.40625 8.296875 \nL 28.515625 8.296875 \nL 28.515625 63.921875 \nL 10.984375 60.40625 \nL 10.984375 69.390625 \nL 28.421875 72.90625 \nL 38.28125 72.90625 \nL 38.28125 8.296875 \nL 54.390625 8.296875 \nL 54.390625 0 \nL 12.40625 0 \nz\n\" id=\"DejaVuSans-49\"/>\n      </defs>\n      <g transform=\"translate(468.692045 308.716563)scale(0.1 -0.1)\">\n       <use xlink:href=\"#DejaVuSans-49\"/>\n       <use x=\"63.623047\" xlink:href=\"#DejaVuSans-48\"/>\n       <use x=\"127.246094\" xlink:href=\"#DejaVuSans-48\"/>\n      </g>\n     </g>\n    </g>\n    <g id=\"xtick_7\">\n     <g id=\"line2d_7\">\n      <g>\n       <use style=\"stroke:#000000;stroke-width:0.8;\" x=\"560.053977\" xlink:href=\"#m8bc38d3070\" y=\"294.118125\"/>\n      </g>\n     </g>\n     <g id=\"text_7\">\n      <!-- 120 -->\n      <g transform=\"translate(550.510227 308.716563)scale(0.1 -0.1)\">\n       <use xlink:href=\"#DejaVuSans-49\"/>\n       <use x=\"63.623047\" xlink:href=\"#DejaVuSans-50\"/>\n       <use x=\"127.246094\" xlink:href=\"#DejaVuSans-48\"/>\n      </g>\n     </g>\n    </g>\n    <g id=\"text_8\">\n     <!-- Epoch -->\n     <defs>\n      <path d=\"M 9.8125 72.90625 \nL 55.90625 72.90625 \nL 55.90625 64.59375 \nL 19.671875 64.59375 \nL 19.671875 43.015625 \nL 54.390625 43.015625 \nL 54.390625 34.71875 \nL 19.671875 34.71875 \nL 19.671875 8.296875 \nL 56.78125 8.296875 \nL 56.78125 0 \nL 9.8125 0 \nz\n\" id=\"DejaVuSans-69\"/>\n      <path d=\"M 18.109375 8.203125 \nL 18.109375 -20.796875 \nL 9.078125 -20.796875 \nL 9.078125 54.6875 \nL 18.109375 54.6875 \nL 18.109375 46.390625 \nQ 20.953125 51.265625 25.265625 53.625 \nQ 29.59375 56 35.59375 56 \nQ 45.5625 56 51.78125 48.09375 \nQ 58.015625 40.1875 58.015625 27.296875 \nQ 58.015625 14.40625 51.78125 6.484375 \nQ 45.5625 -1.421875 35.59375 -1.421875 \nQ 29.59375 -1.421875 25.265625 0.953125 \nQ 20.953125 3.328125 18.109375 8.203125 \nz\nM 48.6875 27.296875 \nQ 48.6875 37.203125 44.609375 42.84375 \nQ 40.53125 48.484375 33.40625 48.484375 \nQ 26.265625 48.484375 22.1875 42.84375 \nQ 18.109375 37.203125 18.109375 27.296875 \nQ 18.109375 17.390625 22.1875 11.75 \nQ 26.265625 6.109375 33.40625 6.109375 \nQ 40.53125 6.109375 44.609375 11.75 \nQ 48.6875 17.390625 48.6875 27.296875 \nz\n\" id=\"DejaVuSans-112\"/>\n      <path d=\"M 30.609375 48.390625 \nQ 23.390625 48.390625 19.1875 42.75 \nQ 14.984375 37.109375 14.984375 27.296875 \nQ 14.984375 17.484375 19.15625 11.84375 \nQ 23.34375 6.203125 30.609375 6.203125 \nQ 37.796875 6.203125 41.984375 11.859375 \nQ 46.1875 17.53125 46.1875 27.296875 \nQ 46.1875 37.015625 41.984375 42.703125 \nQ 37.796875 48.390625 30.609375 48.390625 \nz\nM 30.609375 56 \nQ 42.328125 56 49.015625 48.375 \nQ 55.71875 40.765625 55.71875 27.296875 \nQ 55.71875 13.875 49.015625 6.21875 \nQ 42.328125 -1.421875 30.609375 -1.421875 \nQ 18.84375 -1.421875 12.171875 6.21875 \nQ 5.515625 13.875 5.515625 27.296875 \nQ 5.515625 40.765625 12.171875 48.375 \nQ 18.84375 56 30.609375 56 \nz\n\" id=\"DejaVuSans-111\"/>\n      <path d=\"M 48.78125 52.59375 \nL 48.78125 44.1875 \nQ 44.96875 46.296875 41.140625 47.34375 \nQ 37.3125 48.390625 33.40625 48.390625 \nQ 24.65625 48.390625 19.8125 42.84375 \nQ 14.984375 37.3125 14.984375 27.296875 \nQ 14.984375 17.28125 19.8125 11.734375 \nQ 24.65625 6.203125 33.40625 6.203125 \nQ 37.3125 6.203125 41.140625 7.25 \nQ 44.96875 8.296875 48.78125 10.40625 \nL 48.78125 2.09375 \nQ 45.015625 0.34375 40.984375 -0.53125 \nQ 36.96875 -1.421875 32.421875 -1.421875 \nQ 20.0625 -1.421875 12.78125 6.34375 \nQ 5.515625 14.109375 5.515625 27.296875 \nQ 5.515625 40.671875 12.859375 48.328125 \nQ 20.21875 56 33.015625 56 \nQ 37.15625 56 41.109375 55.140625 \nQ 45.0625 54.296875 48.78125 52.59375 \nz\n\" id=\"DejaVuSans-99\"/>\n      <path d=\"M 54.890625 33.015625 \nL 54.890625 0 \nL 45.90625 0 \nL 45.90625 32.71875 \nQ 45.90625 40.484375 42.875 44.328125 \nQ 39.84375 48.1875 33.796875 48.1875 \nQ 26.515625 48.1875 22.3125 43.546875 \nQ 18.109375 38.921875 18.109375 30.90625 \nL 18.109375 0 \nL 9.078125 0 \nL 9.078125 75.984375 \nL 18.109375 75.984375 \nL 18.109375 46.1875 \nQ 21.34375 51.125 25.703125 53.5625 \nQ 30.078125 56 35.796875 56 \nQ 45.21875 56 50.046875 50.171875 \nQ 54.890625 44.34375 54.890625 33.015625 \nz\n\" id=\"DejaVuSans-104\"/>\n     </defs>\n     <g transform=\"translate(307.470312 322.394687)scale(0.1 -0.1)\">\n      <use xlink:href=\"#DejaVuSans-69\"/>\n      <use x=\"63.183594\" xlink:href=\"#DejaVuSans-112\"/>\n      <use x=\"126.660156\" xlink:href=\"#DejaVuSans-111\"/>\n      <use x=\"187.841797\" xlink:href=\"#DejaVuSans-99\"/>\n      <use x=\"242.822266\" xlink:href=\"#DejaVuSans-104\"/>\n     </g>\n    </g>\n   </g>\n   <g id=\"matplotlib.axis_2\">\n    <g id=\"ytick_1\">\n     <g id=\"line2d_8\">\n      <defs>\n       <path d=\"M 0 0 \nL -3.5 0 \n\" id=\"m1c93741d6b\" style=\"stroke:#000000;stroke-width:0.8;\"/>\n      </defs>\n      <g>\n       <use style=\"stroke:#000000;stroke-width:0.8;\" x=\"43.78125\" xlink:href=\"#m1c93741d6b\" y=\"284.324723\"/>\n      </g>\n     </g>\n     <g id=\"text_9\">\n      <!-- 1.0 -->\n      <defs>\n       <path d=\"M 10.6875 12.40625 \nL 21 12.40625 \nL 21 0 \nL 10.6875 0 \nz\n\" id=\"DejaVuSans-46\"/>\n      </defs>\n      <g transform=\"translate(20.878125 288.123941)scale(0.1 -0.1)\">\n       <use xlink:href=\"#DejaVuSans-49\"/>\n       <use x=\"63.623047\" xlink:href=\"#DejaVuSans-46\"/>\n       <use x=\"95.410156\" xlink:href=\"#DejaVuSans-48\"/>\n      </g>\n     </g>\n    </g>\n    <g id=\"ytick_2\">\n     <g id=\"line2d_9\">\n      <g>\n       <use style=\"stroke:#000000;stroke-width:0.8;\" x=\"43.78125\" xlink:href=\"#m1c93741d6b\" y=\"247.677139\"/>\n      </g>\n     </g>\n     <g id=\"text_10\">\n      <!-- 1.5 -->\n      <defs>\n       <path d=\"M 10.796875 72.90625 \nL 49.515625 72.90625 \nL 49.515625 64.59375 \nL 19.828125 64.59375 \nL 19.828125 46.734375 \nQ 21.96875 47.46875 24.109375 47.828125 \nQ 26.265625 48.1875 28.421875 48.1875 \nQ 40.625 48.1875 47.75 41.5 \nQ 54.890625 34.8125 54.890625 23.390625 \nQ 54.890625 11.625 47.5625 5.09375 \nQ 40.234375 -1.421875 26.90625 -1.421875 \nQ 22.3125 -1.421875 17.546875 -0.640625 \nQ 12.796875 0.140625 7.71875 1.703125 \nL 7.71875 11.625 \nQ 12.109375 9.234375 16.796875 8.0625 \nQ 21.484375 6.890625 26.703125 6.890625 \nQ 35.15625 6.890625 40.078125 11.328125 \nQ 45.015625 15.765625 45.015625 23.390625 \nQ 45.015625 31 40.078125 35.4375 \nQ 35.15625 39.890625 26.703125 39.890625 \nQ 22.75 39.890625 18.8125 39.015625 \nQ 14.890625 38.140625 10.796875 36.28125 \nz\n\" id=\"DejaVuSans-53\"/>\n      </defs>\n      <g transform=\"translate(20.878125 251.476358)scale(0.1 -0.1)\">\n       <use xlink:href=\"#DejaVuSans-49\"/>\n       <use x=\"63.623047\" xlink:href=\"#DejaVuSans-46\"/>\n       <use x=\"95.410156\" xlink:href=\"#DejaVuSans-53\"/>\n      </g>\n     </g>\n    </g>\n    <g id=\"ytick_3\">\n     <g id=\"line2d_10\">\n      <g>\n       <use style=\"stroke:#000000;stroke-width:0.8;\" x=\"43.78125\" xlink:href=\"#m1c93741d6b\" y=\"211.029555\"/>\n      </g>\n     </g>\n     <g id=\"text_11\">\n      <!-- 2.0 -->\n      <g transform=\"translate(20.878125 214.828774)scale(0.1 -0.1)\">\n       <use xlink:href=\"#DejaVuSans-50\"/>\n       <use x=\"63.623047\" xlink:href=\"#DejaVuSans-46\"/>\n       <use x=\"95.410156\" xlink:href=\"#DejaVuSans-48\"/>\n      </g>\n     </g>\n    </g>\n    <g id=\"ytick_4\">\n     <g id=\"line2d_11\">\n      <g>\n       <use style=\"stroke:#000000;stroke-width:0.8;\" x=\"43.78125\" xlink:href=\"#m1c93741d6b\" y=\"174.381972\"/>\n      </g>\n     </g>\n     <g id=\"text_12\">\n      <!-- 2.5 -->\n      <g transform=\"translate(20.878125 178.181191)scale(0.1 -0.1)\">\n       <use xlink:href=\"#DejaVuSans-50\"/>\n       <use x=\"63.623047\" xlink:href=\"#DejaVuSans-46\"/>\n       <use x=\"95.410156\" xlink:href=\"#DejaVuSans-53\"/>\n      </g>\n     </g>\n    </g>\n    <g id=\"ytick_5\">\n     <g id=\"line2d_12\">\n      <g>\n       <use style=\"stroke:#000000;stroke-width:0.8;\" x=\"43.78125\" xlink:href=\"#m1c93741d6b\" y=\"137.734388\"/>\n      </g>\n     </g>\n     <g id=\"text_13\">\n      <!-- 3.0 -->\n      <defs>\n       <path d=\"M 40.578125 39.3125 \nQ 47.65625 37.796875 51.625 33 \nQ 55.609375 28.21875 55.609375 21.1875 \nQ 55.609375 10.40625 48.1875 4.484375 \nQ 40.765625 -1.421875 27.09375 -1.421875 \nQ 22.515625 -1.421875 17.65625 -0.515625 \nQ 12.796875 0.390625 7.625 2.203125 \nL 7.625 11.71875 \nQ 11.71875 9.328125 16.59375 8.109375 \nQ 21.484375 6.890625 26.8125 6.890625 \nQ 36.078125 6.890625 40.9375 10.546875 \nQ 45.796875 14.203125 45.796875 21.1875 \nQ 45.796875 27.640625 41.28125 31.265625 \nQ 36.765625 34.90625 28.71875 34.90625 \nL 20.21875 34.90625 \nL 20.21875 43.015625 \nL 29.109375 43.015625 \nQ 36.375 43.015625 40.234375 45.921875 \nQ 44.09375 48.828125 44.09375 54.296875 \nQ 44.09375 59.90625 40.109375 62.90625 \nQ 36.140625 65.921875 28.71875 65.921875 \nQ 24.65625 65.921875 20.015625 65.03125 \nQ 15.375 64.15625 9.8125 62.3125 \nL 9.8125 71.09375 \nQ 15.4375 72.65625 20.34375 73.4375 \nQ 25.25 74.21875 29.59375 74.21875 \nQ 40.828125 74.21875 47.359375 69.109375 \nQ 53.90625 64.015625 53.90625 55.328125 \nQ 53.90625 49.265625 50.4375 45.09375 \nQ 46.96875 40.921875 40.578125 39.3125 \nz\n\" id=\"DejaVuSans-51\"/>\n      </defs>\n      <g transform=\"translate(20.878125 141.533607)scale(0.1 -0.1)\">\n       <use xlink:href=\"#DejaVuSans-51\"/>\n       <use x=\"63.623047\" xlink:href=\"#DejaVuSans-46\"/>\n       <use x=\"95.410156\" xlink:href=\"#DejaVuSans-48\"/>\n      </g>\n     </g>\n    </g>\n    <g id=\"ytick_6\">\n     <g id=\"line2d_13\">\n      <g>\n       <use style=\"stroke:#000000;stroke-width:0.8;\" x=\"43.78125\" xlink:href=\"#m1c93741d6b\" y=\"101.086805\"/>\n      </g>\n     </g>\n     <g id=\"text_14\">\n      <!-- 3.5 -->\n      <g transform=\"translate(20.878125 104.886023)scale(0.1 -0.1)\">\n       <use xlink:href=\"#DejaVuSans-51\"/>\n       <use x=\"63.623047\" xlink:href=\"#DejaVuSans-46\"/>\n       <use x=\"95.410156\" xlink:href=\"#DejaVuSans-53\"/>\n      </g>\n     </g>\n    </g>\n    <g id=\"ytick_7\">\n     <g id=\"line2d_14\">\n      <g>\n       <use style=\"stroke:#000000;stroke-width:0.8;\" x=\"43.78125\" xlink:href=\"#m1c93741d6b\" y=\"64.439221\"/>\n      </g>\n     </g>\n     <g id=\"text_15\">\n      <!-- 4.0 -->\n      <g transform=\"translate(20.878125 68.23844)scale(0.1 -0.1)\">\n       <use xlink:href=\"#DejaVuSans-52\"/>\n       <use x=\"63.623047\" xlink:href=\"#DejaVuSans-46\"/>\n       <use x=\"95.410156\" xlink:href=\"#DejaVuSans-48\"/>\n      </g>\n     </g>\n    </g>\n    <g id=\"ytick_8\">\n     <g id=\"line2d_15\">\n      <g>\n       <use style=\"stroke:#000000;stroke-width:0.8;\" x=\"43.78125\" xlink:href=\"#m1c93741d6b\" y=\"27.791637\"/>\n      </g>\n     </g>\n     <g id=\"text_16\">\n      <!-- 4.5 -->\n      <g transform=\"translate(20.878125 31.590856)scale(0.1 -0.1)\">\n       <use xlink:href=\"#DejaVuSans-52\"/>\n       <use x=\"63.623047\" xlink:href=\"#DejaVuSans-46\"/>\n       <use x=\"95.410156\" xlink:href=\"#DejaVuSans-53\"/>\n      </g>\n     </g>\n    </g>\n    <g id=\"text_17\">\n     <!-- Loss -->\n     <defs>\n      <path d=\"M 9.8125 72.90625 \nL 19.671875 72.90625 \nL 19.671875 8.296875 \nL 55.171875 8.296875 \nL 55.171875 0 \nL 9.8125 0 \nz\n\" id=\"DejaVuSans-76\"/>\n      <path d=\"M 44.28125 53.078125 \nL 44.28125 44.578125 \nQ 40.484375 46.53125 36.375 47.5 \nQ 32.28125 48.484375 27.875 48.484375 \nQ 21.1875 48.484375 17.84375 46.4375 \nQ 14.5 44.390625 14.5 40.28125 \nQ 14.5 37.15625 16.890625 35.375 \nQ 19.28125 33.59375 26.515625 31.984375 \nL 29.59375 31.296875 \nQ 39.15625 29.25 43.1875 25.515625 \nQ 47.21875 21.78125 47.21875 15.09375 \nQ 47.21875 7.46875 41.1875 3.015625 \nQ 35.15625 -1.421875 24.609375 -1.421875 \nQ 20.21875 -1.421875 15.453125 -0.5625 \nQ 10.6875 0.296875 5.421875 2 \nL 5.421875 11.28125 \nQ 10.40625 8.6875 15.234375 7.390625 \nQ 20.0625 6.109375 24.8125 6.109375 \nQ 31.15625 6.109375 34.5625 8.28125 \nQ 37.984375 10.453125 37.984375 14.40625 \nQ 37.984375 18.0625 35.515625 20.015625 \nQ 33.0625 21.96875 24.703125 23.78125 \nL 21.578125 24.515625 \nQ 13.234375 26.265625 9.515625 29.90625 \nQ 5.8125 33.546875 5.8125 39.890625 \nQ 5.8125 47.609375 11.28125 51.796875 \nQ 16.75 56 26.8125 56 \nQ 31.78125 56 36.171875 55.265625 \nQ 40.578125 54.546875 44.28125 53.078125 \nz\n\" id=\"DejaVuSans-115\"/>\n     </defs>\n     <g transform=\"translate(14.798438 169.185313)rotate(-90)scale(0.1 -0.1)\">\n      <use xlink:href=\"#DejaVuSans-76\"/>\n      <use x=\"53.962891\" xlink:href=\"#DejaVuSans-111\"/>\n      <use x=\"115.144531\" xlink:href=\"#DejaVuSans-115\"/>\n      <use x=\"167.244141\" xlink:href=\"#DejaVuSans-115\"/>\n     </g>\n    </g>\n   </g>\n   <g id=\"line2d_16\">\n    <path clip-path=\"url(#p1a318950e9)\" d=\"M 69.144886 34.67267 \nL 73.235795 239.205407 \nL 77.326705 212.233674 \nL 81.417614 209.835092 \nL 85.508523 217.69646 \nL 89.599432 216.664836 \nL 93.690341 221.140226 \nL 97.78125 227.504937 \nL 101.872159 252.76991 \nL 105.963068 255.446117 \nL 110.053977 257.342086 \nL 114.144886 258.865603 \nL 118.235795 260.148769 \nL 122.326705 261.262953 \nL 126.417614 262.2513 \nL 130.508523 263.136641 \nL 134.599432 263.935167 \nL 138.690341 264.663845 \nL 142.78125 265.331064 \nL 146.872159 265.944976 \nL 150.963068 266.514266 \nL 155.053977 267.043153 \nL 159.144886 267.534697 \nL 163.235795 267.995598 \nL 167.326705 268.427657 \nL 171.417614 268.835635 \nL 175.508523 269.22191 \nL 179.599432 269.588499 \nL 183.690341 269.936975 \nL 187.78125 270.267977 \nL 191.872159 270.584413 \nL 195.963068 270.88748 \nL 200.053977 271.178237 \nL 204.144886 271.457679 \nL 208.235795 271.726635 \nL 212.326705 271.985911 \nL 216.417614 272.236204 \nL 220.508523 272.478136 \nL 224.599432 272.7123 \nL 228.690341 272.939229 \nL 232.78125 273.159405 \nL 236.872159 273.373272 \nL 240.963068 273.581215 \nL 245.053977 273.783618 \nL 249.144886 273.980386 \nL 253.235795 274.171343 \nL 257.326705 274.357486 \nL 261.417614 274.539068 \nL 265.508523 274.71636 \nL 269.599432 274.889598 \nL 273.690341 275.059 \nL 277.78125 275.223788 \nL 281.872159 275.383588 \nL 285.963068 275.539901 \nL 290.053977 275.692938 \nL 294.144886 275.842846 \nL 298.235795 275.989784 \nL 302.326705 276.133882 \nL 306.417614 276.27529 \nL 310.508523 276.414128 \nL 314.599432 276.550511 \nL 318.690341 276.684561 \nL 322.78125 276.816366 \nL 326.872159 276.946056 \nL 330.963068 277.073702 \nL 335.053977 277.199381 \nL 339.144886 277.323191 \nL 343.235795 277.445219 \nL 347.326705 277.565534 \nL 351.417614 277.683577 \nL 355.508523 277.79906 \nL 359.599432 277.912891 \nL 363.690341 278.025124 \nL 367.78125 278.135819 \nL 371.872159 278.244592 \nL 375.963068 278.351268 \nL 380.053977 278.456502 \nL 384.144886 278.560276 \nL 388.235795 278.662706 \nL 392.326705 278.763842 \nL 396.417614 278.86372 \nL 400.508523 278.962392 \nL 404.599432 279.05992 \nL 408.690341 279.156329 \nL 412.78125 279.251637 \nL 416.872159 279.345914 \nL 420.963068 279.437937 \nL 425.053977 279.528414 \nL 429.144886 276.838105 \nL 433.235795 276.926484 \nL 437.326705 274.234139 \nL 441.417614 271.540859 \nL 445.508523 271.626364 \nL 449.599432 271.710969 \nL 453.690341 271.794718 \nL 457.78125 271.877645 \nL 461.872159 271.958388 \nL 465.963068 272.038178 \nL 470.053977 272.117121 \nL 474.144886 272.195217 \nL 478.235795 272.272552 \nL 482.326705 269.569381 \nL 486.417614 269.645196 \nL 490.508523 269.720295 \nL 494.599432 269.794694 \nL 498.690341 269.868412 \nL 502.78125 269.941484 \nL 506.872159 267.234215 \nL 510.963068 267.306046 \nL 515.053977 264.597598 \nL 519.144886 264.668258 \nL 523.235795 264.738367 \nL 527.326705 262.028233 \nL 531.417614 262.097285 \nL 535.508523 262.165822 \nL 539.599432 262.23386 \nL 543.690341 262.301418 \nL 547.78125 262.368496 \nL 551.872159 262.43511 \nL 555.963068 262.501288 \nL 560.053977 262.56702 \nL 564.144886 259.852604 \nL 568.235795 259.91748 \nL 572.326705 259.981954 \nL 576.417614 260.046034 \n\" style=\"fill:none;stroke:#1f77b4;stroke-linecap:square;stroke-width:1.5;\"/>\n   </g>\n   <g id=\"line2d_17\">\n    <path clip-path=\"url(#p1a318950e9)\" d=\"M 69.144886 249.454698 \nL 73.235795 220.326227 \nL 77.326705 242.692546 \nL 81.417614 245.565608 \nL 85.508523 247.711355 \nL 89.599432 249.896595 \nL 93.690341 251.956208 \nL 97.78125 253.837637 \nL 101.872159 255.419145 \nL 105.963068 256.83436 \nL 110.053977 258.05868 \nL 114.144886 259.160807 \nL 118.235795 260.158887 \nL 122.326705 261.068623 \nL 126.417614 261.902081 \nL 130.508523 262.66868 \nL 134.599432 263.377175 \nL 138.690341 264.0348 \nL 142.78125 264.647594 \nL 146.872159 265.220203 \nL 150.963068 265.757094 \nL 155.053977 266.262102 \nL 159.144886 266.738224 \nL 163.235795 267.188012 \nL 167.326705 267.613893 \nL 171.417614 268.018018 \nL 175.508523 268.402353 \nL 179.599432 268.768575 \nL 183.690341 269.11817 \nL 187.78125 269.4525 \nL 191.872159 269.772755 \nL 195.963068 270.079999 \nL 200.053977 270.375203 \nL 204.144886 270.659179 \nL 208.235795 270.932775 \nL 212.326705 271.196664 \nL 216.417614 271.451405 \nL 220.508523 271.697618 \nL 224.599432 271.935915 \nL 228.690341 272.16675 \nL 232.78125 272.390604 \nL 236.872159 272.607879 \nL 240.963068 272.818984 \nL 245.053977 273.024236 \nL 249.144886 273.223896 \nL 253.235795 273.418252 \nL 257.326705 273.607619 \nL 261.417614 273.792242 \nL 265.508523 273.972338 \nL 269.599432 274.148119 \nL 273.690341 274.319836 \nL 277.78125 274.487543 \nL 281.872159 274.651493 \nL 285.963068 274.811913 \nL 290.053977 274.96896 \nL 294.144886 275.122774 \nL 298.235795 275.273522 \nL 302.326705 275.421307 \nL 306.417614 275.566297 \nL 310.508523 275.708578 \nL 314.599432 275.848281 \nL 318.690341 275.985485 \nL 322.78125 276.120322 \nL 326.872159 276.252878 \nL 330.963068 276.383223 \nL 335.053977 276.511463 \nL 339.144886 276.637658 \nL 343.235795 276.76187 \nL 347.326705 276.884195 \nL 351.417614 277.00458 \nL 355.508523 277.123095 \nL 359.599432 277.23981 \nL 363.690341 277.354795 \nL 367.78125 277.468102 \nL 371.872159 277.579671 \nL 375.963068 277.689553 \nL 380.053977 277.797828 \nL 384.144886 277.904547 \nL 388.235795 278.009772 \nL 392.326705 278.113565 \nL 396.417614 278.215968 \nL 400.508523 278.317043 \nL 404.599432 278.416842 \nL 408.690341 278.515383 \nL 412.78125 278.612727 \nL 416.872159 278.708909 \nL 420.963068 278.803938 \nL 425.053977 278.89784 \nL 429.144886 278.990666 \nL 433.235795 279.082427 \nL 437.326705 279.173201 \nL 441.417614 279.262961 \nL 445.508523 279.351768 \nL 449.599432 279.43965 \nL 453.690341 279.526631 \nL 457.78125 279.612722 \nL 461.872159 279.697929 \nL 465.963068 279.782289 \nL 470.053977 279.865811 \nL 474.144886 279.948537 \nL 478.235795 280.03046 \nL 482.326705 280.111605 \nL 486.417614 280.192024 \nL 490.508523 280.27171 \nL 494.599432 280.35067 \nL 498.690341 280.428941 \nL 502.78125 280.506547 \nL 506.872159 280.583471 \nL 510.963068 280.659793 \nL 515.053977 280.735486 \nL 519.144886 280.810549 \nL 523.235795 280.885019 \nL 527.326705 280.958885 \nL 531.417614 281.032201 \nL 535.508523 281.104923 \nL 539.599432 281.173014 \nL 543.690341 281.240607 \nL 547.78125 281.307676 \nL 551.872159 281.374247 \nL 555.963068 281.440311 \nL 560.053977 281.505912 \nL 564.144886 281.571032 \nL 568.235795 281.635672 \nL 572.326705 281.699848 \nL 576.417614 281.76358 \n\" style=\"fill:none;stroke:#ff7f0e;stroke-linecap:square;stroke-width:1.5;\"/>\n   </g>\n   <g id=\"patch_3\">\n    <path d=\"M 43.78125 294.118125 \nL 43.78125 22.318125 \n\" style=\"fill:none;stroke:#000000;stroke-linecap:square;stroke-linejoin:miter;stroke-width:0.8;\"/>\n   </g>\n   <g id=\"patch_4\">\n    <path d=\"M 601.78125 294.118125 \nL 601.78125 22.318125 \n\" style=\"fill:none;stroke:#000000;stroke-linecap:square;stroke-linejoin:miter;stroke-width:0.8;\"/>\n   </g>\n   <g id=\"patch_5\">\n    <path d=\"M 43.78125 294.118125 \nL 601.78125 294.118125 \n\" style=\"fill:none;stroke:#000000;stroke-linecap:square;stroke-linejoin:miter;stroke-width:0.8;\"/>\n   </g>\n   <g id=\"patch_6\">\n    <path d=\"M 43.78125 22.318125 \nL 601.78125 22.318125 \n\" style=\"fill:none;stroke:#000000;stroke-linecap:square;stroke-linejoin:miter;stroke-width:0.8;\"/>\n   </g>\n   <g id=\"text_18\">\n    <!-- Loss vs. epochs, batch=425 -->\n    <defs>\n     <path id=\"DejaVuSans-32\"/>\n     <path d=\"M 2.984375 54.6875 \nL 12.5 54.6875 \nL 29.59375 8.796875 \nL 46.6875 54.6875 \nL 56.203125 54.6875 \nL 35.6875 0 \nL 23.484375 0 \nz\n\" id=\"DejaVuSans-118\"/>\n     <path d=\"M 56.203125 29.59375 \nL 56.203125 25.203125 \nL 14.890625 25.203125 \nQ 15.484375 15.921875 20.484375 11.0625 \nQ 25.484375 6.203125 34.421875 6.203125 \nQ 39.59375 6.203125 44.453125 7.46875 \nQ 49.3125 8.734375 54.109375 11.28125 \nL 54.109375 2.78125 \nQ 49.265625 0.734375 44.1875 -0.34375 \nQ 39.109375 -1.421875 33.890625 -1.421875 \nQ 20.796875 -1.421875 13.15625 6.1875 \nQ 5.515625 13.8125 5.515625 26.8125 \nQ 5.515625 40.234375 12.765625 48.109375 \nQ 20.015625 56 32.328125 56 \nQ 43.359375 56 49.78125 48.890625 \nQ 56.203125 41.796875 56.203125 29.59375 \nz\nM 47.21875 32.234375 \nQ 47.125 39.59375 43.09375 43.984375 \nQ 39.0625 48.390625 32.421875 48.390625 \nQ 24.90625 48.390625 20.390625 44.140625 \nQ 15.875 39.890625 15.1875 32.171875 \nz\n\" id=\"DejaVuSans-101\"/>\n     <path d=\"M 11.71875 12.40625 \nL 22.015625 12.40625 \nL 22.015625 4 \nL 14.015625 -11.625 \nL 7.71875 -11.625 \nL 11.71875 4 \nz\n\" id=\"DejaVuSans-44\"/>\n     <path d=\"M 48.6875 27.296875 \nQ 48.6875 37.203125 44.609375 42.84375 \nQ 40.53125 48.484375 33.40625 48.484375 \nQ 26.265625 48.484375 22.1875 42.84375 \nQ 18.109375 37.203125 18.109375 27.296875 \nQ 18.109375 17.390625 22.1875 11.75 \nQ 26.265625 6.109375 33.40625 6.109375 \nQ 40.53125 6.109375 44.609375 11.75 \nQ 48.6875 17.390625 48.6875 27.296875 \nz\nM 18.109375 46.390625 \nQ 20.953125 51.265625 25.265625 53.625 \nQ 29.59375 56 35.59375 56 \nQ 45.5625 56 51.78125 48.09375 \nQ 58.015625 40.1875 58.015625 27.296875 \nQ 58.015625 14.40625 51.78125 6.484375 \nQ 45.5625 -1.421875 35.59375 -1.421875 \nQ 29.59375 -1.421875 25.265625 0.953125 \nQ 20.953125 3.328125 18.109375 8.203125 \nL 18.109375 0 \nL 9.078125 0 \nL 9.078125 75.984375 \nL 18.109375 75.984375 \nz\n\" id=\"DejaVuSans-98\"/>\n     <path d=\"M 34.28125 27.484375 \nQ 23.390625 27.484375 19.1875 25 \nQ 14.984375 22.515625 14.984375 16.5 \nQ 14.984375 11.71875 18.140625 8.90625 \nQ 21.296875 6.109375 26.703125 6.109375 \nQ 34.1875 6.109375 38.703125 11.40625 \nQ 43.21875 16.703125 43.21875 25.484375 \nL 43.21875 27.484375 \nz\nM 52.203125 31.203125 \nL 52.203125 0 \nL 43.21875 0 \nL 43.21875 8.296875 \nQ 40.140625 3.328125 35.546875 0.953125 \nQ 30.953125 -1.421875 24.3125 -1.421875 \nQ 15.921875 -1.421875 10.953125 3.296875 \nQ 6 8.015625 6 15.921875 \nQ 6 25.140625 12.171875 29.828125 \nQ 18.359375 34.515625 30.609375 34.515625 \nL 43.21875 34.515625 \nL 43.21875 35.40625 \nQ 43.21875 41.609375 39.140625 45 \nQ 35.0625 48.390625 27.6875 48.390625 \nQ 23 48.390625 18.546875 47.265625 \nQ 14.109375 46.140625 10.015625 43.890625 \nL 10.015625 52.203125 \nQ 14.9375 54.109375 19.578125 55.046875 \nQ 24.21875 56 28.609375 56 \nQ 40.484375 56 46.34375 49.84375 \nQ 52.203125 43.703125 52.203125 31.203125 \nz\n\" id=\"DejaVuSans-97\"/>\n     <path d=\"M 18.3125 70.21875 \nL 18.3125 54.6875 \nL 36.8125 54.6875 \nL 36.8125 47.703125 \nL 18.3125 47.703125 \nL 18.3125 18.015625 \nQ 18.3125 11.328125 20.140625 9.421875 \nQ 21.96875 7.515625 27.59375 7.515625 \nL 36.8125 7.515625 \nL 36.8125 0 \nL 27.59375 0 \nQ 17.1875 0 13.234375 3.875 \nQ 9.28125 7.765625 9.28125 18.015625 \nL 9.28125 47.703125 \nL 2.6875 47.703125 \nL 2.6875 54.6875 \nL 9.28125 54.6875 \nL 9.28125 70.21875 \nz\n\" id=\"DejaVuSans-116\"/>\n     <path d=\"M 10.59375 45.40625 \nL 73.1875 45.40625 \nL 73.1875 37.203125 \nL 10.59375 37.203125 \nz\nM 10.59375 25.484375 \nL 73.1875 25.484375 \nL 73.1875 17.1875 \nL 10.59375 17.1875 \nz\n\" id=\"DejaVuSans-61\"/>\n    </defs>\n    <g transform=\"translate(238.59 16.318125)scale(0.12 -0.12)\">\n     <use xlink:href=\"#DejaVuSans-76\"/>\n     <use x=\"53.962891\" xlink:href=\"#DejaVuSans-111\"/>\n     <use x=\"115.144531\" xlink:href=\"#DejaVuSans-115\"/>\n     <use x=\"167.244141\" xlink:href=\"#DejaVuSans-115\"/>\n     <use x=\"219.34375\" xlink:href=\"#DejaVuSans-32\"/>\n     <use x=\"251.130859\" xlink:href=\"#DejaVuSans-118\"/>\n     <use x=\"310.310547\" xlink:href=\"#DejaVuSans-115\"/>\n     <use x=\"362.410156\" xlink:href=\"#DejaVuSans-46\"/>\n     <use x=\"394.197266\" xlink:href=\"#DejaVuSans-32\"/>\n     <use x=\"425.984375\" xlink:href=\"#DejaVuSans-101\"/>\n     <use x=\"487.507812\" xlink:href=\"#DejaVuSans-112\"/>\n     <use x=\"550.984375\" xlink:href=\"#DejaVuSans-111\"/>\n     <use x=\"612.166016\" xlink:href=\"#DejaVuSans-99\"/>\n     <use x=\"667.146484\" xlink:href=\"#DejaVuSans-104\"/>\n     <use x=\"730.525391\" xlink:href=\"#DejaVuSans-115\"/>\n     <use x=\"782.625\" xlink:href=\"#DejaVuSans-44\"/>\n     <use x=\"814.412109\" xlink:href=\"#DejaVuSans-32\"/>\n     <use x=\"846.199219\" xlink:href=\"#DejaVuSans-98\"/>\n     <use x=\"909.675781\" xlink:href=\"#DejaVuSans-97\"/>\n     <use x=\"970.955078\" xlink:href=\"#DejaVuSans-116\"/>\n     <use x=\"1010.164062\" xlink:href=\"#DejaVuSans-99\"/>\n     <use x=\"1065.144531\" xlink:href=\"#DejaVuSans-104\"/>\n     <use x=\"1128.523438\" xlink:href=\"#DejaVuSans-61\"/>\n     <use x=\"1212.3125\" xlink:href=\"#DejaVuSans-52\"/>\n     <use x=\"1275.935547\" xlink:href=\"#DejaVuSans-50\"/>\n     <use x=\"1339.558594\" xlink:href=\"#DejaVuSans-53\"/>\n    </g>\n   </g>\n   <g id=\"legend_1\">\n    <g id=\"patch_7\">\n     <path d=\"M 513.4 59.674375 \nL 594.78125 59.674375 \nQ 596.78125 59.674375 596.78125 57.674375 \nL 596.78125 29.318125 \nQ 596.78125 27.318125 594.78125 27.318125 \nL 513.4 27.318125 \nQ 511.4 27.318125 511.4 29.318125 \nL 511.4 57.674375 \nQ 511.4 59.674375 513.4 59.674375 \nz\n\" style=\"fill:#ffffff;opacity:0.8;stroke:#cccccc;stroke-linejoin:miter;\"/>\n    </g>\n    <g id=\"line2d_18\">\n     <path d=\"M 515.4 35.416562 \nL 535.4 35.416562 \n\" style=\"fill:none;stroke:#1f77b4;stroke-linecap:square;stroke-width:1.5;\"/>\n    </g>\n    <g id=\"line2d_19\"/>\n    <g id=\"text_19\">\n     <!-- Training -->\n     <defs>\n      <path d=\"M -0.296875 72.90625 \nL 61.375 72.90625 \nL 61.375 64.59375 \nL 35.5 64.59375 \nL 35.5 0 \nL 25.59375 0 \nL 25.59375 64.59375 \nL -0.296875 64.59375 \nz\n\" id=\"DejaVuSans-84\"/>\n      <path d=\"M 41.109375 46.296875 \nQ 39.59375 47.171875 37.8125 47.578125 \nQ 36.03125 48 33.890625 48 \nQ 26.265625 48 22.1875 43.046875 \nQ 18.109375 38.09375 18.109375 28.8125 \nL 18.109375 0 \nL 9.078125 0 \nL 9.078125 54.6875 \nL 18.109375 54.6875 \nL 18.109375 46.1875 \nQ 20.953125 51.171875 25.484375 53.578125 \nQ 30.03125 56 36.53125 56 \nQ 37.453125 56 38.578125 55.875 \nQ 39.703125 55.765625 41.0625 55.515625 \nz\n\" id=\"DejaVuSans-114\"/>\n      <path d=\"M 9.421875 54.6875 \nL 18.40625 54.6875 \nL 18.40625 0 \nL 9.421875 0 \nz\nM 9.421875 75.984375 \nL 18.40625 75.984375 \nL 18.40625 64.59375 \nL 9.421875 64.59375 \nz\n\" id=\"DejaVuSans-105\"/>\n      <path d=\"M 54.890625 33.015625 \nL 54.890625 0 \nL 45.90625 0 \nL 45.90625 32.71875 \nQ 45.90625 40.484375 42.875 44.328125 \nQ 39.84375 48.1875 33.796875 48.1875 \nQ 26.515625 48.1875 22.3125 43.546875 \nQ 18.109375 38.921875 18.109375 30.90625 \nL 18.109375 0 \nL 9.078125 0 \nL 9.078125 54.6875 \nL 18.109375 54.6875 \nL 18.109375 46.1875 \nQ 21.34375 51.125 25.703125 53.5625 \nQ 30.078125 56 35.796875 56 \nQ 45.21875 56 50.046875 50.171875 \nQ 54.890625 44.34375 54.890625 33.015625 \nz\n\" id=\"DejaVuSans-110\"/>\n      <path d=\"M 45.40625 27.984375 \nQ 45.40625 37.75 41.375 43.109375 \nQ 37.359375 48.484375 30.078125 48.484375 \nQ 22.859375 48.484375 18.828125 43.109375 \nQ 14.796875 37.75 14.796875 27.984375 \nQ 14.796875 18.265625 18.828125 12.890625 \nQ 22.859375 7.515625 30.078125 7.515625 \nQ 37.359375 7.515625 41.375 12.890625 \nQ 45.40625 18.265625 45.40625 27.984375 \nz\nM 54.390625 6.78125 \nQ 54.390625 -7.171875 48.1875 -13.984375 \nQ 42 -20.796875 29.203125 -20.796875 \nQ 24.46875 -20.796875 20.265625 -20.09375 \nQ 16.0625 -19.390625 12.109375 -17.921875 \nL 12.109375 -9.1875 \nQ 16.0625 -11.328125 19.921875 -12.34375 \nQ 23.78125 -13.375 27.78125 -13.375 \nQ 36.625 -13.375 41.015625 -8.765625 \nQ 45.40625 -4.15625 45.40625 5.171875 \nL 45.40625 9.625 \nQ 42.625 4.78125 38.28125 2.390625 \nQ 33.9375 0 27.875 0 \nQ 17.828125 0 11.671875 7.65625 \nQ 5.515625 15.328125 5.515625 27.984375 \nQ 5.515625 40.671875 11.671875 48.328125 \nQ 17.828125 56 27.875 56 \nQ 33.9375 56 38.28125 53.609375 \nQ 42.625 51.21875 45.40625 46.390625 \nL 45.40625 54.6875 \nL 54.390625 54.6875 \nz\n\" id=\"DejaVuSans-103\"/>\n     </defs>\n     <g transform=\"translate(543.4 38.916562)scale(0.1 -0.1)\">\n      <use xlink:href=\"#DejaVuSans-84\"/>\n      <use x=\"46.333984\" xlink:href=\"#DejaVuSans-114\"/>\n      <use x=\"87.447266\" xlink:href=\"#DejaVuSans-97\"/>\n      <use x=\"148.726562\" xlink:href=\"#DejaVuSans-105\"/>\n      <use x=\"176.509766\" xlink:href=\"#DejaVuSans-110\"/>\n      <use x=\"239.888672\" xlink:href=\"#DejaVuSans-105\"/>\n      <use x=\"267.671875\" xlink:href=\"#DejaVuSans-110\"/>\n      <use x=\"331.050781\" xlink:href=\"#DejaVuSans-103\"/>\n     </g>\n    </g>\n    <g id=\"line2d_20\">\n     <path d=\"M 515.4 50.094688 \nL 535.4 50.094688 \n\" style=\"fill:none;stroke:#ff7f0e;stroke-linecap:square;stroke-width:1.5;\"/>\n    </g>\n    <g id=\"line2d_21\"/>\n    <g id=\"text_20\">\n     <!-- Validation -->\n     <defs>\n      <path d=\"M 28.609375 0 \nL 0.78125 72.90625 \nL 11.078125 72.90625 \nL 34.1875 11.53125 \nL 57.328125 72.90625 \nL 67.578125 72.90625 \nL 39.796875 0 \nz\n\" id=\"DejaVuSans-86\"/>\n      <path d=\"M 9.421875 75.984375 \nL 18.40625 75.984375 \nL 18.40625 0 \nL 9.421875 0 \nz\n\" id=\"DejaVuSans-108\"/>\n      <path d=\"M 45.40625 46.390625 \nL 45.40625 75.984375 \nL 54.390625 75.984375 \nL 54.390625 0 \nL 45.40625 0 \nL 45.40625 8.203125 \nQ 42.578125 3.328125 38.25 0.953125 \nQ 33.9375 -1.421875 27.875 -1.421875 \nQ 17.96875 -1.421875 11.734375 6.484375 \nQ 5.515625 14.40625 5.515625 27.296875 \nQ 5.515625 40.1875 11.734375 48.09375 \nQ 17.96875 56 27.875 56 \nQ 33.9375 56 38.25 53.625 \nQ 42.578125 51.265625 45.40625 46.390625 \nz\nM 14.796875 27.296875 \nQ 14.796875 17.390625 18.875 11.75 \nQ 22.953125 6.109375 30.078125 6.109375 \nQ 37.203125 6.109375 41.296875 11.75 \nQ 45.40625 17.390625 45.40625 27.296875 \nQ 45.40625 37.203125 41.296875 42.84375 \nQ 37.203125 48.484375 30.078125 48.484375 \nQ 22.953125 48.484375 18.875 42.84375 \nQ 14.796875 37.203125 14.796875 27.296875 \nz\n\" id=\"DejaVuSans-100\"/>\n     </defs>\n     <g transform=\"translate(543.4 53.594688)scale(0.1 -0.1)\">\n      <use xlink:href=\"#DejaVuSans-86\"/>\n      <use x=\"60.658203\" xlink:href=\"#DejaVuSans-97\"/>\n      <use x=\"121.9375\" xlink:href=\"#DejaVuSans-108\"/>\n      <use x=\"149.720703\" xlink:href=\"#DejaVuSans-105\"/>\n      <use x=\"177.503906\" xlink:href=\"#DejaVuSans-100\"/>\n      <use x=\"240.980469\" xlink:href=\"#DejaVuSans-97\"/>\n      <use x=\"302.259766\" xlink:href=\"#DejaVuSans-116\"/>\n      <use x=\"341.46875\" xlink:href=\"#DejaVuSans-105\"/>\n      <use x=\"369.251953\" xlink:href=\"#DejaVuSans-111\"/>\n      <use x=\"430.433594\" xlink:href=\"#DejaVuSans-110\"/>\n     </g>\n    </g>\n   </g>\n  </g>\n </g>\n <defs>\n  <clipPath id=\"p1a318950e9\">\n   <rect height=\"271.8\" width=\"558\" x=\"43.78125\" y=\"22.318125\"/>\n  </clipPath>\n </defs>\n</svg>\n"
          },
          "metadata": {
            "needs_background": "light"
          }
        }
      ],
      "source": [
        "#@title\n",
        "plt.figure(figsize=(10,5))\n",
        "plt.plot(history.history['loss'])\n",
        "plt.plot(history.history['val_loss'])\n",
        "plt.title('Loss vs. epochs, batch=' +str(batch_size))\n",
        "plt.ylabel('Loss')\n",
        "plt.xlabel('Epoch')\n",
        "plt.legend(['Training', 'Validation'], loc='upper right')\n",
        "plt.show()"
      ]
    },
    {
      "cell_type": "markdown",
      "id": "d58d23e3-89c6-4596-80d3-33b98d895eb1",
      "metadata": {
        "id": "d58d23e3-89c6-4596-80d3-33b98d895eb1"
      },
      "source": [
        "10. **What effect does changing batch size have on learning in terms of convergence and fluctuations?**\n",
        "\n",
        "**Answer:** it produced much less fluctuations and converged much more faster"
      ]
    },
    {
      "cell_type": "markdown",
      "id": "ac0b0cdb-78c2-4239-bbb9-4bea511b52b1",
      "metadata": {
        "jp-MarkdownHeadingCollapsed": true,
        "tags": [],
        "id": "ac0b0cdb-78c2-4239-bbb9-4bea511b52b1"
      },
      "source": [
        "#### Learning Rate"
      ]
    },
    {
      "cell_type": "markdown",
      "id": "c7be280d-068a-4695-b716-c1ef97d4d6f4",
      "metadata": {
        "id": "c7be280d-068a-4695-b716-c1ef97d4d6f4"
      },
      "source": [
        "batch size 64"
      ]
    },
    {
      "cell_type": "markdown",
      "id": "2970cd51-b911-455a-b6c3-17f477415759",
      "metadata": {
        "id": "2970cd51-b911-455a-b6c3-17f477415759"
      },
      "source": [
        "- **Use same code for build_model above, add an argument learning rate to change learning rate of optmizer**"
      ]
    },
    {
      "cell_type": "code",
      "execution_count": 201,
      "id": "939ebb69-e520-4d68-9fa7-ce00f0257629",
      "metadata": {
        "id": "939ebb69-e520-4d68-9fa7-ce00f0257629"
      },
      "outputs": [],
      "source": [
        "#@title\n",
        "\n",
        "def build_model(lr):\n",
        "    \n",
        "    ##### YOUR CODE HERE\n",
        "    # define model\n",
        "    model=tf.keras.Sequential()\n",
        "    model.add(Dense(50, activation=\"relu\",kernel_initializer=tf.keras.initializers.HeUniform()))\n",
        "    model.add(Dense(3)) \n",
        "  \n",
        "\n",
        "   \n",
        "    # compile model\n",
        "    model.compile(optimizer=tf.keras.optimizers.SGD(learning_rate=lr,momentum=.9),\n",
        "              loss=tf.keras.losses.CategoricalCrossentropy(),\n",
        "              metrics=['accuracy'],\n",
        "                       )\n",
        "    \n",
        "\n",
        "    \n",
        "    return model\n",
        "\n",
        "\n",
        "\n",
        "def fit_model(X_train, y_train, X_test, y_test, n_batch,lr):\n",
        "  ##### YOUR CODE HERE\n",
        "  # build model\n",
        "  model = build_model(lr)\n",
        "\n",
        "  # fit model\n",
        "  history = model.fit( x=X_train,y=y_train,batch_size=n_batch,epochs=125,validation_split=0.15)\n",
        "  model.evaluate(X_test, y_test, verbose=2)\n",
        "\n",
        "  return history"
      ]
    },
    {
      "cell_type": "markdown",
      "id": "72f1ebf6-5bcb-4e2b-bee7-3eb282fd88b1",
      "metadata": {
        "id": "72f1ebf6-5bcb-4e2b-bee7-3eb282fd88b1"
      },
      "source": [
        "##### LR =  0.00001"
      ]
    },
    {
      "cell_type": "markdown",
      "id": "739eab80-d78f-4ca3-9992-42096088cf7a",
      "metadata": {
        "id": "739eab80-d78f-4ca3-9992-42096088cf7a"
      },
      "source": [
        "10. **Retrain for 0.00001 LR**"
      ]
    },
    {
      "cell_type": "code",
      "execution_count": 202,
      "id": "fb2ad280-97f1-4c16-9aad-d99c96780472",
      "metadata": {
        "tags": [],
        "id": "fb2ad280-97f1-4c16-9aad-d99c96780472",
        "colab": {
          "base_uri": "https://localhost:8080/"
        },
        "outputId": "567d7507-9049-4245-e3ed-8cb401677293"
      },
      "outputs": [
        {
          "output_type": "stream",
          "name": "stdout",
          "text": [
            "Epoch 1/125\n",
            "7/7 [==============================] - 1s 32ms/step - loss: 8.9129 - accuracy: 0.3412 - val_loss: 9.7514 - val_accuracy: 0.3467\n",
            "Epoch 2/125\n",
            "7/7 [==============================] - 0s 7ms/step - loss: 8.9084 - accuracy: 0.3412 - val_loss: 9.7497 - val_accuracy: 0.3467\n",
            "Epoch 3/125\n",
            "7/7 [==============================] - 0s 6ms/step - loss: 8.9050 - accuracy: 0.3412 - val_loss: 9.7476 - val_accuracy: 0.3467\n",
            "Epoch 4/125\n",
            "7/7 [==============================] - 0s 7ms/step - loss: 8.8728 - accuracy: 0.3412 - val_loss: 9.5864 - val_accuracy: 0.3467\n",
            "Epoch 5/125\n",
            "7/7 [==============================] - 0s 7ms/step - loss: 8.8394 - accuracy: 0.3412 - val_loss: 9.5702 - val_accuracy: 0.3467\n",
            "Epoch 6/125\n",
            "7/7 [==============================] - 0s 6ms/step - loss: 8.8336 - accuracy: 0.3412 - val_loss: 9.5597 - val_accuracy: 0.3467\n",
            "Epoch 7/125\n",
            "7/7 [==============================] - 0s 6ms/step - loss: 8.8024 - accuracy: 0.3412 - val_loss: 9.5510 - val_accuracy: 0.3467\n",
            "Epoch 8/125\n",
            "7/7 [==============================] - 0s 6ms/step - loss: 8.7626 - accuracy: 0.3388 - val_loss: 9.5439 - val_accuracy: 0.3333\n",
            "Epoch 9/125\n",
            "7/7 [==============================] - 0s 6ms/step - loss: 8.7545 - accuracy: 0.3388 - val_loss: 9.5399 - val_accuracy: 0.3333\n",
            "Epoch 10/125\n",
            "7/7 [==============================] - 0s 7ms/step - loss: 8.7219 - accuracy: 0.3388 - val_loss: 9.5371 - val_accuracy: 0.3333\n",
            "Epoch 11/125\n",
            "7/7 [==============================] - 0s 6ms/step - loss: 8.6585 - accuracy: 0.3388 - val_loss: 9.5337 - val_accuracy: 0.3333\n",
            "Epoch 12/125\n",
            "7/7 [==============================] - 0s 10ms/step - loss: 8.5866 - accuracy: 0.3388 - val_loss: 9.3537 - val_accuracy: 0.3333\n",
            "Epoch 13/125\n",
            "7/7 [==============================] - 0s 6ms/step - loss: 8.5724 - accuracy: 0.3412 - val_loss: 9.3403 - val_accuracy: 0.3333\n",
            "Epoch 14/125\n",
            "7/7 [==============================] - 0s 6ms/step - loss: 8.5660 - accuracy: 0.3412 - val_loss: 9.3347 - val_accuracy: 0.3333\n",
            "Epoch 15/125\n",
            "7/7 [==============================] - 0s 6ms/step - loss: 8.5336 - accuracy: 0.3412 - val_loss: 9.3309 - val_accuracy: 0.3333\n",
            "Epoch 16/125\n",
            "7/7 [==============================] - 0s 7ms/step - loss: 8.4986 - accuracy: 0.3412 - val_loss: 9.3269 - val_accuracy: 0.3333\n",
            "Epoch 17/125\n",
            "7/7 [==============================] - 0s 6ms/step - loss: 8.4347 - accuracy: 0.3412 - val_loss: 9.3227 - val_accuracy: 0.3333\n",
            "Epoch 18/125\n",
            "7/7 [==============================] - 0s 6ms/step - loss: 8.3900 - accuracy: 0.3412 - val_loss: 9.3195 - val_accuracy: 0.3333\n",
            "Epoch 19/125\n",
            "7/7 [==============================] - 0s 6ms/step - loss: 8.2882 - accuracy: 0.3412 - val_loss: 9.3119 - val_accuracy: 0.3333\n",
            "Epoch 20/125\n",
            "7/7 [==============================] - 0s 6ms/step - loss: 8.0749 - accuracy: 0.3412 - val_loss: 9.1327 - val_accuracy: 0.3333\n",
            "Epoch 21/125\n",
            "7/7 [==============================] - 0s 6ms/step - loss: 7.8900 - accuracy: 0.3412 - val_loss: 9.1151 - val_accuracy: 0.3333\n",
            "Epoch 22/125\n",
            "7/7 [==============================] - 0s 6ms/step - loss: 7.6635 - accuracy: 0.3412 - val_loss: 8.9263 - val_accuracy: 0.3333\n",
            "Epoch 23/125\n",
            "7/7 [==============================] - 0s 6ms/step - loss: 7.2150 - accuracy: 0.3435 - val_loss: 8.7320 - val_accuracy: 0.3333\n",
            "Epoch 24/125\n",
            "7/7 [==============================] - 0s 6ms/step - loss: 6.9542 - accuracy: 0.3435 - val_loss: 8.5476 - val_accuracy: 0.3333\n",
            "Epoch 25/125\n",
            "7/7 [==============================] - 0s 6ms/step - loss: 6.8183 - accuracy: 0.3435 - val_loss: 8.5294 - val_accuracy: 0.3333\n",
            "Epoch 26/125\n",
            "7/7 [==============================] - 0s 6ms/step - loss: 6.6244 - accuracy: 0.3435 - val_loss: 8.1123 - val_accuracy: 0.3333\n",
            "Epoch 27/125\n",
            "7/7 [==============================] - 0s 6ms/step - loss: 6.4472 - accuracy: 0.3435 - val_loss: 8.0324 - val_accuracy: 0.3333\n",
            "Epoch 28/125\n",
            "7/7 [==============================] - 0s 6ms/step - loss: 6.4003 - accuracy: 0.3459 - val_loss: 8.0090 - val_accuracy: 0.3333\n",
            "Epoch 29/125\n",
            "7/7 [==============================] - 0s 10ms/step - loss: 6.4214 - accuracy: 0.3459 - val_loss: 7.9954 - val_accuracy: 0.3333\n",
            "Epoch 30/125\n",
            "7/7 [==============================] - 0s 7ms/step - loss: 6.4106 - accuracy: 0.3435 - val_loss: 7.9864 - val_accuracy: 0.3333\n",
            "Epoch 31/125\n",
            "7/7 [==============================] - 0s 6ms/step - loss: 6.4029 - accuracy: 0.3435 - val_loss: 7.9796 - val_accuracy: 0.3333\n",
            "Epoch 32/125\n",
            "7/7 [==============================] - 0s 6ms/step - loss: 6.3966 - accuracy: 0.3435 - val_loss: 7.9739 - val_accuracy: 0.3333\n",
            "Epoch 33/125\n",
            "7/7 [==============================] - 0s 9ms/step - loss: 6.3908 - accuracy: 0.3435 - val_loss: 7.9691 - val_accuracy: 0.3333\n",
            "Epoch 34/125\n",
            "7/7 [==============================] - 0s 6ms/step - loss: 6.3856 - accuracy: 0.3435 - val_loss: 7.9649 - val_accuracy: 0.3333\n",
            "Epoch 35/125\n",
            "7/7 [==============================] - 0s 6ms/step - loss: 6.3567 - accuracy: 0.3435 - val_loss: 7.9605 - val_accuracy: 0.3333\n",
            "Epoch 36/125\n",
            "7/7 [==============================] - 0s 9ms/step - loss: 6.3499 - accuracy: 0.3435 - val_loss: 7.8191 - val_accuracy: 0.3333\n",
            "Epoch 37/125\n",
            "7/7 [==============================] - 0s 6ms/step - loss: 6.3435 - accuracy: 0.3435 - val_loss: 7.8042 - val_accuracy: 0.3333\n",
            "Epoch 38/125\n",
            "7/7 [==============================] - 0s 6ms/step - loss: 6.3386 - accuracy: 0.3435 - val_loss: 7.6593 - val_accuracy: 0.3333\n",
            "Epoch 39/125\n",
            "7/7 [==============================] - 0s 6ms/step - loss: 6.2646 - accuracy: 0.3435 - val_loss: 7.6236 - val_accuracy: 0.3333\n",
            "Epoch 40/125\n",
            "7/7 [==============================] - 0s 6ms/step - loss: 6.2408 - accuracy: 0.3435 - val_loss: 7.6063 - val_accuracy: 0.3333\n",
            "Epoch 41/125\n",
            "7/7 [==============================] - 0s 7ms/step - loss: 6.2322 - accuracy: 0.3435 - val_loss: 7.5962 - val_accuracy: 0.3333\n",
            "Epoch 42/125\n",
            "7/7 [==============================] - 0s 6ms/step - loss: 6.2257 - accuracy: 0.3435 - val_loss: 7.5892 - val_accuracy: 0.3333\n",
            "Epoch 43/125\n",
            "7/7 [==============================] - 0s 8ms/step - loss: 6.2204 - accuracy: 0.3412 - val_loss: 7.5840 - val_accuracy: 0.3333\n",
            "Epoch 44/125\n",
            "7/7 [==============================] - 0s 7ms/step - loss: 6.2162 - accuracy: 0.3412 - val_loss: 7.5794 - val_accuracy: 0.3333\n",
            "Epoch 45/125\n",
            "7/7 [==============================] - 0s 6ms/step - loss: 6.2123 - accuracy: 0.3412 - val_loss: 7.5752 - val_accuracy: 0.3333\n",
            "Epoch 46/125\n",
            "7/7 [==============================] - 0s 6ms/step - loss: 6.2085 - accuracy: 0.3412 - val_loss: 7.5715 - val_accuracy: 0.3333\n",
            "Epoch 47/125\n",
            "7/7 [==============================] - 0s 7ms/step - loss: 6.2049 - accuracy: 0.3412 - val_loss: 7.5681 - val_accuracy: 0.3333\n",
            "Epoch 48/125\n",
            "7/7 [==============================] - 0s 7ms/step - loss: 6.2017 - accuracy: 0.3412 - val_loss: 7.5648 - val_accuracy: 0.3333\n",
            "Epoch 49/125\n",
            "7/7 [==============================] - 0s 7ms/step - loss: 6.1983 - accuracy: 0.3412 - val_loss: 7.5617 - val_accuracy: 0.3333\n",
            "Epoch 50/125\n",
            "7/7 [==============================] - 0s 6ms/step - loss: 6.1953 - accuracy: 0.3412 - val_loss: 7.5593 - val_accuracy: 0.3333\n",
            "Epoch 51/125\n",
            "7/7 [==============================] - 0s 6ms/step - loss: 6.1931 - accuracy: 0.3412 - val_loss: 7.4612 - val_accuracy: 0.3333\n",
            "Epoch 52/125\n",
            "7/7 [==============================] - 0s 6ms/step - loss: 6.1906 - accuracy: 0.3412 - val_loss: 7.4259 - val_accuracy: 0.3333\n",
            "Epoch 53/125\n",
            "7/7 [==============================] - 0s 7ms/step - loss: 6.1888 - accuracy: 0.3412 - val_loss: 7.4147 - val_accuracy: 0.3333\n",
            "Epoch 54/125\n",
            "7/7 [==============================] - 0s 6ms/step - loss: 6.1867 - accuracy: 0.3412 - val_loss: 7.4081 - val_accuracy: 0.3333\n",
            "Epoch 55/125\n",
            "7/7 [==============================] - 0s 8ms/step - loss: 6.1850 - accuracy: 0.3412 - val_loss: 7.4026 - val_accuracy: 0.3333\n",
            "Epoch 56/125\n",
            "7/7 [==============================] - 0s 9ms/step - loss: 6.1833 - accuracy: 0.3412 - val_loss: 7.3980 - val_accuracy: 0.3333\n",
            "Epoch 57/125\n",
            "7/7 [==============================] - 0s 6ms/step - loss: 6.1816 - accuracy: 0.3412 - val_loss: 7.3940 - val_accuracy: 0.3333\n",
            "Epoch 58/125\n",
            "7/7 [==============================] - 0s 7ms/step - loss: 6.1800 - accuracy: 0.3412 - val_loss: 7.3904 - val_accuracy: 0.3333\n",
            "Epoch 59/125\n",
            "7/7 [==============================] - 0s 9ms/step - loss: 6.1784 - accuracy: 0.3412 - val_loss: 7.3871 - val_accuracy: 0.3333\n",
            "Epoch 60/125\n",
            "7/7 [==============================] - 0s 6ms/step - loss: 6.1769 - accuracy: 0.3412 - val_loss: 7.3843 - val_accuracy: 0.3333\n",
            "Epoch 61/125\n",
            "7/7 [==============================] - 0s 6ms/step - loss: 6.1755 - accuracy: 0.3412 - val_loss: 7.3815 - val_accuracy: 0.3333\n",
            "Epoch 62/125\n",
            "7/7 [==============================] - 0s 6ms/step - loss: 6.1742 - accuracy: 0.3412 - val_loss: 7.3788 - val_accuracy: 0.3333\n",
            "Epoch 63/125\n",
            "7/7 [==============================] - 0s 6ms/step - loss: 6.1728 - accuracy: 0.3412 - val_loss: 7.3762 - val_accuracy: 0.3333\n",
            "Epoch 64/125\n",
            "7/7 [==============================] - 0s 6ms/step - loss: 6.1714 - accuracy: 0.3412 - val_loss: 7.3739 - val_accuracy: 0.3333\n",
            "Epoch 65/125\n",
            "7/7 [==============================] - 0s 6ms/step - loss: 6.1703 - accuracy: 0.3412 - val_loss: 7.3717 - val_accuracy: 0.3333\n",
            "Epoch 66/125\n",
            "7/7 [==============================] - 0s 6ms/step - loss: 6.1690 - accuracy: 0.3412 - val_loss: 7.3695 - val_accuracy: 0.3333\n",
            "Epoch 67/125\n",
            "7/7 [==============================] - 0s 6ms/step - loss: 6.1679 - accuracy: 0.3412 - val_loss: 7.3675 - val_accuracy: 0.3333\n",
            "Epoch 68/125\n",
            "7/7 [==============================] - 0s 6ms/step - loss: 6.1667 - accuracy: 0.3412 - val_loss: 7.3655 - val_accuracy: 0.3333\n",
            "Epoch 69/125\n",
            "7/7 [==============================] - 0s 7ms/step - loss: 6.1656 - accuracy: 0.3412 - val_loss: 7.3636 - val_accuracy: 0.3333\n",
            "Epoch 70/125\n",
            "7/7 [==============================] - 0s 7ms/step - loss: 6.1645 - accuracy: 0.3412 - val_loss: 7.3618 - val_accuracy: 0.3333\n",
            "Epoch 71/125\n",
            "7/7 [==============================] - 0s 6ms/step - loss: 6.1635 - accuracy: 0.3412 - val_loss: 7.3601 - val_accuracy: 0.3333\n",
            "Epoch 72/125\n",
            "7/7 [==============================] - 0s 6ms/step - loss: 6.1625 - accuracy: 0.3412 - val_loss: 7.3585 - val_accuracy: 0.3333\n",
            "Epoch 73/125\n",
            "7/7 [==============================] - 0s 6ms/step - loss: 6.1615 - accuracy: 0.3412 - val_loss: 7.3569 - val_accuracy: 0.3333\n",
            "Epoch 74/125\n",
            "7/7 [==============================] - 0s 7ms/step - loss: 6.1605 - accuracy: 0.3412 - val_loss: 7.3555 - val_accuracy: 0.3333\n",
            "Epoch 75/125\n",
            "7/7 [==============================] - 0s 6ms/step - loss: 6.1596 - accuracy: 0.3412 - val_loss: 7.3540 - val_accuracy: 0.3333\n",
            "Epoch 76/125\n",
            "7/7 [==============================] - 0s 9ms/step - loss: 6.1587 - accuracy: 0.3412 - val_loss: 7.3526 - val_accuracy: 0.3333\n",
            "Epoch 77/125\n",
            "7/7 [==============================] - 0s 7ms/step - loss: 6.1578 - accuracy: 0.3412 - val_loss: 7.3512 - val_accuracy: 0.3333\n",
            "Epoch 78/125\n",
            "7/7 [==============================] - 0s 7ms/step - loss: 6.1569 - accuracy: 0.3412 - val_loss: 7.3499 - val_accuracy: 0.3333\n",
            "Epoch 79/125\n",
            "7/7 [==============================] - 0s 7ms/step - loss: 6.1561 - accuracy: 0.3412 - val_loss: 7.3486 - val_accuracy: 0.3333\n",
            "Epoch 80/125\n",
            "7/7 [==============================] - 0s 7ms/step - loss: 6.1553 - accuracy: 0.3412 - val_loss: 7.3474 - val_accuracy: 0.3333\n",
            "Epoch 81/125\n",
            "7/7 [==============================] - 0s 7ms/step - loss: 6.1546 - accuracy: 0.3412 - val_loss: 7.3461 - val_accuracy: 0.3333\n",
            "Epoch 82/125\n",
            "7/7 [==============================] - 0s 7ms/step - loss: 6.1538 - accuracy: 0.3412 - val_loss: 7.3449 - val_accuracy: 0.3333\n",
            "Epoch 83/125\n",
            "7/7 [==============================] - 0s 7ms/step - loss: 6.1325 - accuracy: 0.3412 - val_loss: 7.3352 - val_accuracy: 0.3333\n",
            "Epoch 84/125\n",
            "7/7 [==============================] - 0s 6ms/step - loss: 6.0728 - accuracy: 0.3412 - val_loss: 7.3247 - val_accuracy: 0.3333\n",
            "Epoch 85/125\n",
            "7/7 [==============================] - 0s 7ms/step - loss: 5.9857 - accuracy: 0.3412 - val_loss: 7.3170 - val_accuracy: 0.3333\n",
            "Epoch 86/125\n",
            "7/7 [==============================] - 0s 6ms/step - loss: 5.9642 - accuracy: 0.3412 - val_loss: 7.3104 - val_accuracy: 0.3333\n",
            "Epoch 87/125\n",
            "7/7 [==============================] - 0s 7ms/step - loss: 5.9576 - accuracy: 0.3412 - val_loss: 7.3068 - val_accuracy: 0.3333\n",
            "Epoch 88/125\n",
            "7/7 [==============================] - 0s 9ms/step - loss: 5.9921 - accuracy: 0.3412 - val_loss: 7.3047 - val_accuracy: 0.3333\n",
            "Epoch 89/125\n",
            "7/7 [==============================] - 0s 7ms/step - loss: 5.9900 - accuracy: 0.3412 - val_loss: 7.3033 - val_accuracy: 0.3333\n",
            "Epoch 90/125\n",
            "7/7 [==============================] - 0s 7ms/step - loss: 5.9642 - accuracy: 0.3412 - val_loss: 7.3019 - val_accuracy: 0.3333\n",
            "Epoch 91/125\n",
            "7/7 [==============================] - 0s 7ms/step - loss: 5.9613 - accuracy: 0.3412 - val_loss: 7.3004 - val_accuracy: 0.3333\n",
            "Epoch 92/125\n",
            "7/7 [==============================] - 0s 6ms/step - loss: 5.9586 - accuracy: 0.3412 - val_loss: 7.2991 - val_accuracy: 0.3333\n",
            "Epoch 93/125\n",
            "7/7 [==============================] - 0s 7ms/step - loss: 5.9566 - accuracy: 0.3412 - val_loss: 7.2981 - val_accuracy: 0.3333\n",
            "Epoch 94/125\n",
            "7/7 [==============================] - 0s 7ms/step - loss: 5.9552 - accuracy: 0.3412 - val_loss: 7.2971 - val_accuracy: 0.3333\n",
            "Epoch 95/125\n",
            "7/7 [==============================] - 0s 6ms/step - loss: 5.9540 - accuracy: 0.3412 - val_loss: 7.2961 - val_accuracy: 0.3333\n",
            "Epoch 96/125\n",
            "7/7 [==============================] - 0s 6ms/step - loss: 5.9527 - accuracy: 0.3412 - val_loss: 7.2953 - val_accuracy: 0.3333\n",
            "Epoch 97/125\n",
            "7/7 [==============================] - 0s 7ms/step - loss: 5.9517 - accuracy: 0.3412 - val_loss: 7.2944 - val_accuracy: 0.3333\n",
            "Epoch 98/125\n",
            "7/7 [==============================] - 0s 6ms/step - loss: 5.9506 - accuracy: 0.3412 - val_loss: 7.2937 - val_accuracy: 0.3333\n",
            "Epoch 99/125\n",
            "7/7 [==============================] - 0s 6ms/step - loss: 5.9496 - accuracy: 0.3412 - val_loss: 7.2929 - val_accuracy: 0.3333\n",
            "Epoch 100/125\n",
            "7/7 [==============================] - 0s 6ms/step - loss: 5.9486 - accuracy: 0.3412 - val_loss: 7.2922 - val_accuracy: 0.3333\n",
            "Epoch 101/125\n",
            "7/7 [==============================] - 0s 7ms/step - loss: 5.9478 - accuracy: 0.3412 - val_loss: 7.2914 - val_accuracy: 0.3333\n",
            "Epoch 102/125\n",
            "7/7 [==============================] - 0s 7ms/step - loss: 5.9468 - accuracy: 0.3412 - val_loss: 7.2907 - val_accuracy: 0.3333\n",
            "Epoch 103/125\n",
            "7/7 [==============================] - 0s 7ms/step - loss: 5.9460 - accuracy: 0.3412 - val_loss: 7.2900 - val_accuracy: 0.3333\n",
            "Epoch 104/125\n",
            "7/7 [==============================] - 0s 6ms/step - loss: 5.9452 - accuracy: 0.3412 - val_loss: 7.2893 - val_accuracy: 0.3333\n",
            "Epoch 105/125\n",
            "7/7 [==============================] - 0s 7ms/step - loss: 5.9443 - accuracy: 0.3412 - val_loss: 7.2886 - val_accuracy: 0.3333\n",
            "Epoch 106/125\n",
            "7/7 [==============================] - 0s 6ms/step - loss: 5.9436 - accuracy: 0.3412 - val_loss: 7.2880 - val_accuracy: 0.3333\n",
            "Epoch 107/125\n",
            "7/7 [==============================] - 0s 7ms/step - loss: 5.9429 - accuracy: 0.3412 - val_loss: 7.2873 - val_accuracy: 0.3333\n",
            "Epoch 108/125\n",
            "7/7 [==============================] - 0s 7ms/step - loss: 5.9421 - accuracy: 0.3412 - val_loss: 7.2867 - val_accuracy: 0.3333\n",
            "Epoch 109/125\n",
            "7/7 [==============================] - 0s 6ms/step - loss: 5.9414 - accuracy: 0.3412 - val_loss: 7.2860 - val_accuracy: 0.3333\n",
            "Epoch 110/125\n",
            "7/7 [==============================] - 0s 7ms/step - loss: 5.9407 - accuracy: 0.3412 - val_loss: 7.2854 - val_accuracy: 0.3333\n",
            "Epoch 111/125\n",
            "7/7 [==============================] - 0s 7ms/step - loss: 5.9400 - accuracy: 0.3412 - val_loss: 7.2848 - val_accuracy: 0.3333\n",
            "Epoch 112/125\n",
            "7/7 [==============================] - 0s 8ms/step - loss: 5.9393 - accuracy: 0.3412 - val_loss: 7.2842 - val_accuracy: 0.3333\n",
            "Epoch 113/125\n",
            "7/7 [==============================] - 0s 7ms/step - loss: 5.9386 - accuracy: 0.3412 - val_loss: 7.2836 - val_accuracy: 0.3333\n",
            "Epoch 114/125\n",
            "7/7 [==============================] - 0s 6ms/step - loss: 5.9380 - accuracy: 0.3412 - val_loss: 7.2830 - val_accuracy: 0.3333\n",
            "Epoch 115/125\n",
            "7/7 [==============================] - 0s 7ms/step - loss: 5.9373 - accuracy: 0.3412 - val_loss: 7.2824 - val_accuracy: 0.3333\n",
            "Epoch 116/125\n",
            "7/7 [==============================] - 0s 7ms/step - loss: 5.9367 - accuracy: 0.3412 - val_loss: 7.2819 - val_accuracy: 0.3333\n",
            "Epoch 117/125\n",
            "7/7 [==============================] - 0s 7ms/step - loss: 5.9360 - accuracy: 0.3412 - val_loss: 7.2813 - val_accuracy: 0.3333\n",
            "Epoch 118/125\n",
            "7/7 [==============================] - 0s 7ms/step - loss: 5.9354 - accuracy: 0.3412 - val_loss: 7.2807 - val_accuracy: 0.3333\n",
            "Epoch 119/125\n",
            "7/7 [==============================] - 0s 7ms/step - loss: 5.9348 - accuracy: 0.3412 - val_loss: 7.2802 - val_accuracy: 0.3333\n",
            "Epoch 120/125\n",
            "7/7 [==============================] - 0s 11ms/step - loss: 5.9342 - accuracy: 0.3412 - val_loss: 7.2796 - val_accuracy: 0.3333\n",
            "Epoch 121/125\n",
            "7/7 [==============================] - 0s 7ms/step - loss: 5.9336 - accuracy: 0.3412 - val_loss: 7.2791 - val_accuracy: 0.3333\n",
            "Epoch 122/125\n",
            "7/7 [==============================] - 0s 7ms/step - loss: 5.9330 - accuracy: 0.3412 - val_loss: 7.2786 - val_accuracy: 0.3333\n",
            "Epoch 123/125\n",
            "7/7 [==============================] - 0s 7ms/step - loss: 5.9324 - accuracy: 0.3412 - val_loss: 7.2780 - val_accuracy: 0.3333\n",
            "Epoch 124/125\n",
            "7/7 [==============================] - 0s 7ms/step - loss: 5.9318 - accuracy: 0.3412 - val_loss: 7.2775 - val_accuracy: 0.3333\n",
            "Epoch 125/125\n",
            "7/7 [==============================] - 0s 8ms/step - loss: 5.9312 - accuracy: 0.3435 - val_loss: 7.2770 - val_accuracy: 0.3333\n",
            "16/16 - 0s - loss: 6.2959 - accuracy: 0.3300 - 37ms/epoch - 2ms/step\n"
          ]
        }
      ],
      "source": [
        "#@title\n",
        "### START CODE HERE ### ()\n",
        "lr=0.00001\n",
        "batch_size=64 # since the validation=.15 , then the train will be 500*.85=\n",
        "history=fit_model(X_train, y_train, X_test, y_test, batch_size,lr)\n",
        "# Print the model summary\n"
      ]
    },
    {
      "cell_type": "code",
      "execution_count": 203,
      "id": "6f5e459c-4f1e-4bf3-88d7-3a7af2f789eb",
      "metadata": {
        "id": "6f5e459c-4f1e-4bf3-88d7-3a7af2f789eb",
        "colab": {
          "base_uri": "https://localhost:8080/",
          "height": 463
        },
        "outputId": "04b6654d-84f6-4122-a4cf-8c339bfece0b"
      },
      "outputs": [
        {
          "output_type": "display_data",
          "data": {
            "text/plain": [
              "<Figure size 720x360 with 1 Axes>"
            ],
            "image/svg+xml": "<?xml version=\"1.0\" encoding=\"utf-8\" standalone=\"no\"?>\n<!DOCTYPE svg PUBLIC \"-//W3C//DTD SVG 1.1//EN\"\n  \"http://www.w3.org/Graphics/SVG/1.1/DTD/svg11.dtd\">\n<!-- Created with matplotlib (https://matplotlib.org/) -->\n<svg height=\"331.674375pt\" version=\"1.1\" viewBox=\"0 0 608.98125 331.674375\" width=\"608.98125pt\" xmlns=\"http://www.w3.org/2000/svg\" xmlns:xlink=\"http://www.w3.org/1999/xlink\">\n <defs>\n  <style type=\"text/css\">\n*{stroke-linecap:butt;stroke-linejoin:round;}\n  </style>\n </defs>\n <g id=\"figure_1\">\n  <g id=\"patch_1\">\n   <path d=\"M 0 331.674375 \nL 608.98125 331.674375 \nL 608.98125 0 \nL 0 0 \nz\n\" style=\"fill:none;\"/>\n  </g>\n  <g id=\"axes_1\">\n   <g id=\"patch_2\">\n    <path d=\"M 43.78125 294.118125 \nL 601.78125 294.118125 \nL 601.78125 22.318125 \nL 43.78125 22.318125 \nz\n\" style=\"fill:#ffffff;\"/>\n   </g>\n   <g id=\"matplotlib.axis_1\">\n    <g id=\"xtick_1\">\n     <g id=\"line2d_1\">\n      <defs>\n       <path d=\"M 0 0 \nL 0 3.5 \n\" id=\"mb0749fc138\" style=\"stroke:#000000;stroke-width:0.8;\"/>\n      </defs>\n      <g>\n       <use style=\"stroke:#000000;stroke-width:0.8;\" x=\"69.144886\" xlink:href=\"#mb0749fc138\" y=\"294.118125\"/>\n      </g>\n     </g>\n     <g id=\"text_1\">\n      <!-- 0 -->\n      <defs>\n       <path d=\"M 31.78125 66.40625 \nQ 24.171875 66.40625 20.328125 58.90625 \nQ 16.5 51.421875 16.5 36.375 \nQ 16.5 21.390625 20.328125 13.890625 \nQ 24.171875 6.390625 31.78125 6.390625 \nQ 39.453125 6.390625 43.28125 13.890625 \nQ 47.125 21.390625 47.125 36.375 \nQ 47.125 51.421875 43.28125 58.90625 \nQ 39.453125 66.40625 31.78125 66.40625 \nz\nM 31.78125 74.21875 \nQ 44.046875 74.21875 50.515625 64.515625 \nQ 56.984375 54.828125 56.984375 36.375 \nQ 56.984375 17.96875 50.515625 8.265625 \nQ 44.046875 -1.421875 31.78125 -1.421875 \nQ 19.53125 -1.421875 13.0625 8.265625 \nQ 6.59375 17.96875 6.59375 36.375 \nQ 6.59375 54.828125 13.0625 64.515625 \nQ 19.53125 74.21875 31.78125 74.21875 \nz\n\" id=\"DejaVuSans-48\"/>\n      </defs>\n      <g transform=\"translate(65.963636 308.716563)scale(0.1 -0.1)\">\n       <use xlink:href=\"#DejaVuSans-48\"/>\n      </g>\n     </g>\n    </g>\n    <g id=\"xtick_2\">\n     <g id=\"line2d_2\">\n      <g>\n       <use style=\"stroke:#000000;stroke-width:0.8;\" x=\"150.963068\" xlink:href=\"#mb0749fc138\" y=\"294.118125\"/>\n      </g>\n     </g>\n     <g id=\"text_2\">\n      <!-- 20 -->\n      <defs>\n       <path d=\"M 19.1875 8.296875 \nL 53.609375 8.296875 \nL 53.609375 0 \nL 7.328125 0 \nL 7.328125 8.296875 \nQ 12.9375 14.109375 22.625 23.890625 \nQ 32.328125 33.6875 34.8125 36.53125 \nQ 39.546875 41.84375 41.421875 45.53125 \nQ 43.3125 49.21875 43.3125 52.78125 \nQ 43.3125 58.59375 39.234375 62.25 \nQ 35.15625 65.921875 28.609375 65.921875 \nQ 23.96875 65.921875 18.8125 64.3125 \nQ 13.671875 62.703125 7.8125 59.421875 \nL 7.8125 69.390625 \nQ 13.765625 71.78125 18.9375 73 \nQ 24.125 74.21875 28.421875 74.21875 \nQ 39.75 74.21875 46.484375 68.546875 \nQ 53.21875 62.890625 53.21875 53.421875 \nQ 53.21875 48.921875 51.53125 44.890625 \nQ 49.859375 40.875 45.40625 35.40625 \nQ 44.1875 33.984375 37.640625 27.21875 \nQ 31.109375 20.453125 19.1875 8.296875 \nz\n\" id=\"DejaVuSans-50\"/>\n      </defs>\n      <g transform=\"translate(144.600568 308.716563)scale(0.1 -0.1)\">\n       <use xlink:href=\"#DejaVuSans-50\"/>\n       <use x=\"63.623047\" xlink:href=\"#DejaVuSans-48\"/>\n      </g>\n     </g>\n    </g>\n    <g id=\"xtick_3\">\n     <g id=\"line2d_3\">\n      <g>\n       <use style=\"stroke:#000000;stroke-width:0.8;\" x=\"232.78125\" xlink:href=\"#mb0749fc138\" y=\"294.118125\"/>\n      </g>\n     </g>\n     <g id=\"text_3\">\n      <!-- 40 -->\n      <defs>\n       <path d=\"M 37.796875 64.3125 \nL 12.890625 25.390625 \nL 37.796875 25.390625 \nz\nM 35.203125 72.90625 \nL 47.609375 72.90625 \nL 47.609375 25.390625 \nL 58.015625 25.390625 \nL 58.015625 17.1875 \nL 47.609375 17.1875 \nL 47.609375 0 \nL 37.796875 0 \nL 37.796875 17.1875 \nL 4.890625 17.1875 \nL 4.890625 26.703125 \nz\n\" id=\"DejaVuSans-52\"/>\n      </defs>\n      <g transform=\"translate(226.41875 308.716563)scale(0.1 -0.1)\">\n       <use xlink:href=\"#DejaVuSans-52\"/>\n       <use x=\"63.623047\" xlink:href=\"#DejaVuSans-48\"/>\n      </g>\n     </g>\n    </g>\n    <g id=\"xtick_4\">\n     <g id=\"line2d_4\">\n      <g>\n       <use style=\"stroke:#000000;stroke-width:0.8;\" x=\"314.599432\" xlink:href=\"#mb0749fc138\" y=\"294.118125\"/>\n      </g>\n     </g>\n     <g id=\"text_4\">\n      <!-- 60 -->\n      <defs>\n       <path d=\"M 33.015625 40.375 \nQ 26.375 40.375 22.484375 35.828125 \nQ 18.609375 31.296875 18.609375 23.390625 \nQ 18.609375 15.53125 22.484375 10.953125 \nQ 26.375 6.390625 33.015625 6.390625 \nQ 39.65625 6.390625 43.53125 10.953125 \nQ 47.40625 15.53125 47.40625 23.390625 \nQ 47.40625 31.296875 43.53125 35.828125 \nQ 39.65625 40.375 33.015625 40.375 \nz\nM 52.59375 71.296875 \nL 52.59375 62.3125 \nQ 48.875 64.0625 45.09375 64.984375 \nQ 41.3125 65.921875 37.59375 65.921875 \nQ 27.828125 65.921875 22.671875 59.328125 \nQ 17.53125 52.734375 16.796875 39.40625 \nQ 19.671875 43.65625 24.015625 45.921875 \nQ 28.375 48.1875 33.59375 48.1875 \nQ 44.578125 48.1875 50.953125 41.515625 \nQ 57.328125 34.859375 57.328125 23.390625 \nQ 57.328125 12.15625 50.6875 5.359375 \nQ 44.046875 -1.421875 33.015625 -1.421875 \nQ 20.359375 -1.421875 13.671875 8.265625 \nQ 6.984375 17.96875 6.984375 36.375 \nQ 6.984375 53.65625 15.1875 63.9375 \nQ 23.390625 74.21875 37.203125 74.21875 \nQ 40.921875 74.21875 44.703125 73.484375 \nQ 48.484375 72.75 52.59375 71.296875 \nz\n\" id=\"DejaVuSans-54\"/>\n      </defs>\n      <g transform=\"translate(308.236932 308.716563)scale(0.1 -0.1)\">\n       <use xlink:href=\"#DejaVuSans-54\"/>\n       <use x=\"63.623047\" xlink:href=\"#DejaVuSans-48\"/>\n      </g>\n     </g>\n    </g>\n    <g id=\"xtick_5\">\n     <g id=\"line2d_5\">\n      <g>\n       <use style=\"stroke:#000000;stroke-width:0.8;\" x=\"396.417614\" xlink:href=\"#mb0749fc138\" y=\"294.118125\"/>\n      </g>\n     </g>\n     <g id=\"text_5\">\n      <!-- 80 -->\n      <defs>\n       <path d=\"M 31.78125 34.625 \nQ 24.75 34.625 20.71875 30.859375 \nQ 16.703125 27.09375 16.703125 20.515625 \nQ 16.703125 13.921875 20.71875 10.15625 \nQ 24.75 6.390625 31.78125 6.390625 \nQ 38.8125 6.390625 42.859375 10.171875 \nQ 46.921875 13.96875 46.921875 20.515625 \nQ 46.921875 27.09375 42.890625 30.859375 \nQ 38.875 34.625 31.78125 34.625 \nz\nM 21.921875 38.8125 \nQ 15.578125 40.375 12.03125 44.71875 \nQ 8.5 49.078125 8.5 55.328125 \nQ 8.5 64.0625 14.71875 69.140625 \nQ 20.953125 74.21875 31.78125 74.21875 \nQ 42.671875 74.21875 48.875 69.140625 \nQ 55.078125 64.0625 55.078125 55.328125 \nQ 55.078125 49.078125 51.53125 44.71875 \nQ 48 40.375 41.703125 38.8125 \nQ 48.828125 37.15625 52.796875 32.3125 \nQ 56.78125 27.484375 56.78125 20.515625 \nQ 56.78125 9.90625 50.3125 4.234375 \nQ 43.84375 -1.421875 31.78125 -1.421875 \nQ 19.734375 -1.421875 13.25 4.234375 \nQ 6.78125 9.90625 6.78125 20.515625 \nQ 6.78125 27.484375 10.78125 32.3125 \nQ 14.796875 37.15625 21.921875 38.8125 \nz\nM 18.3125 54.390625 \nQ 18.3125 48.734375 21.84375 45.5625 \nQ 25.390625 42.390625 31.78125 42.390625 \nQ 38.140625 42.390625 41.71875 45.5625 \nQ 45.3125 48.734375 45.3125 54.390625 \nQ 45.3125 60.0625 41.71875 63.234375 \nQ 38.140625 66.40625 31.78125 66.40625 \nQ 25.390625 66.40625 21.84375 63.234375 \nQ 18.3125 60.0625 18.3125 54.390625 \nz\n\" id=\"DejaVuSans-56\"/>\n      </defs>\n      <g transform=\"translate(390.055114 308.716563)scale(0.1 -0.1)\">\n       <use xlink:href=\"#DejaVuSans-56\"/>\n       <use x=\"63.623047\" xlink:href=\"#DejaVuSans-48\"/>\n      </g>\n     </g>\n    </g>\n    <g id=\"xtick_6\">\n     <g id=\"line2d_6\">\n      <g>\n       <use style=\"stroke:#000000;stroke-width:0.8;\" x=\"478.235795\" xlink:href=\"#mb0749fc138\" y=\"294.118125\"/>\n      </g>\n     </g>\n     <g id=\"text_6\">\n      <!-- 100 -->\n      <defs>\n       <path d=\"M 12.40625 8.296875 \nL 28.515625 8.296875 \nL 28.515625 63.921875 \nL 10.984375 60.40625 \nL 10.984375 69.390625 \nL 28.421875 72.90625 \nL 38.28125 72.90625 \nL 38.28125 8.296875 \nL 54.390625 8.296875 \nL 54.390625 0 \nL 12.40625 0 \nz\n\" id=\"DejaVuSans-49\"/>\n      </defs>\n      <g transform=\"translate(468.692045 308.716563)scale(0.1 -0.1)\">\n       <use xlink:href=\"#DejaVuSans-49\"/>\n       <use x=\"63.623047\" xlink:href=\"#DejaVuSans-48\"/>\n       <use x=\"127.246094\" xlink:href=\"#DejaVuSans-48\"/>\n      </g>\n     </g>\n    </g>\n    <g id=\"xtick_7\">\n     <g id=\"line2d_7\">\n      <g>\n       <use style=\"stroke:#000000;stroke-width:0.8;\" x=\"560.053977\" xlink:href=\"#mb0749fc138\" y=\"294.118125\"/>\n      </g>\n     </g>\n     <g id=\"text_7\">\n      <!-- 120 -->\n      <g transform=\"translate(550.510227 308.716563)scale(0.1 -0.1)\">\n       <use xlink:href=\"#DejaVuSans-49\"/>\n       <use x=\"63.623047\" xlink:href=\"#DejaVuSans-50\"/>\n       <use x=\"127.246094\" xlink:href=\"#DejaVuSans-48\"/>\n      </g>\n     </g>\n    </g>\n    <g id=\"text_8\">\n     <!-- Epoch -->\n     <defs>\n      <path d=\"M 9.8125 72.90625 \nL 55.90625 72.90625 \nL 55.90625 64.59375 \nL 19.671875 64.59375 \nL 19.671875 43.015625 \nL 54.390625 43.015625 \nL 54.390625 34.71875 \nL 19.671875 34.71875 \nL 19.671875 8.296875 \nL 56.78125 8.296875 \nL 56.78125 0 \nL 9.8125 0 \nz\n\" id=\"DejaVuSans-69\"/>\n      <path d=\"M 18.109375 8.203125 \nL 18.109375 -20.796875 \nL 9.078125 -20.796875 \nL 9.078125 54.6875 \nL 18.109375 54.6875 \nL 18.109375 46.390625 \nQ 20.953125 51.265625 25.265625 53.625 \nQ 29.59375 56 35.59375 56 \nQ 45.5625 56 51.78125 48.09375 \nQ 58.015625 40.1875 58.015625 27.296875 \nQ 58.015625 14.40625 51.78125 6.484375 \nQ 45.5625 -1.421875 35.59375 -1.421875 \nQ 29.59375 -1.421875 25.265625 0.953125 \nQ 20.953125 3.328125 18.109375 8.203125 \nz\nM 48.6875 27.296875 \nQ 48.6875 37.203125 44.609375 42.84375 \nQ 40.53125 48.484375 33.40625 48.484375 \nQ 26.265625 48.484375 22.1875 42.84375 \nQ 18.109375 37.203125 18.109375 27.296875 \nQ 18.109375 17.390625 22.1875 11.75 \nQ 26.265625 6.109375 33.40625 6.109375 \nQ 40.53125 6.109375 44.609375 11.75 \nQ 48.6875 17.390625 48.6875 27.296875 \nz\n\" id=\"DejaVuSans-112\"/>\n      <path d=\"M 30.609375 48.390625 \nQ 23.390625 48.390625 19.1875 42.75 \nQ 14.984375 37.109375 14.984375 27.296875 \nQ 14.984375 17.484375 19.15625 11.84375 \nQ 23.34375 6.203125 30.609375 6.203125 \nQ 37.796875 6.203125 41.984375 11.859375 \nQ 46.1875 17.53125 46.1875 27.296875 \nQ 46.1875 37.015625 41.984375 42.703125 \nQ 37.796875 48.390625 30.609375 48.390625 \nz\nM 30.609375 56 \nQ 42.328125 56 49.015625 48.375 \nQ 55.71875 40.765625 55.71875 27.296875 \nQ 55.71875 13.875 49.015625 6.21875 \nQ 42.328125 -1.421875 30.609375 -1.421875 \nQ 18.84375 -1.421875 12.171875 6.21875 \nQ 5.515625 13.875 5.515625 27.296875 \nQ 5.515625 40.765625 12.171875 48.375 \nQ 18.84375 56 30.609375 56 \nz\n\" id=\"DejaVuSans-111\"/>\n      <path d=\"M 48.78125 52.59375 \nL 48.78125 44.1875 \nQ 44.96875 46.296875 41.140625 47.34375 \nQ 37.3125 48.390625 33.40625 48.390625 \nQ 24.65625 48.390625 19.8125 42.84375 \nQ 14.984375 37.3125 14.984375 27.296875 \nQ 14.984375 17.28125 19.8125 11.734375 \nQ 24.65625 6.203125 33.40625 6.203125 \nQ 37.3125 6.203125 41.140625 7.25 \nQ 44.96875 8.296875 48.78125 10.40625 \nL 48.78125 2.09375 \nQ 45.015625 0.34375 40.984375 -0.53125 \nQ 36.96875 -1.421875 32.421875 -1.421875 \nQ 20.0625 -1.421875 12.78125 6.34375 \nQ 5.515625 14.109375 5.515625 27.296875 \nQ 5.515625 40.671875 12.859375 48.328125 \nQ 20.21875 56 33.015625 56 \nQ 37.15625 56 41.109375 55.140625 \nQ 45.0625 54.296875 48.78125 52.59375 \nz\n\" id=\"DejaVuSans-99\"/>\n      <path d=\"M 54.890625 33.015625 \nL 54.890625 0 \nL 45.90625 0 \nL 45.90625 32.71875 \nQ 45.90625 40.484375 42.875 44.328125 \nQ 39.84375 48.1875 33.796875 48.1875 \nQ 26.515625 48.1875 22.3125 43.546875 \nQ 18.109375 38.921875 18.109375 30.90625 \nL 18.109375 0 \nL 9.078125 0 \nL 9.078125 75.984375 \nL 18.109375 75.984375 \nL 18.109375 46.1875 \nQ 21.34375 51.125 25.703125 53.5625 \nQ 30.078125 56 35.796875 56 \nQ 45.21875 56 50.046875 50.171875 \nQ 54.890625 44.34375 54.890625 33.015625 \nz\n\" id=\"DejaVuSans-104\"/>\n     </defs>\n     <g transform=\"translate(307.470312 322.394687)scale(0.1 -0.1)\">\n      <use xlink:href=\"#DejaVuSans-69\"/>\n      <use x=\"63.183594\" xlink:href=\"#DejaVuSans-112\"/>\n      <use x=\"126.660156\" xlink:href=\"#DejaVuSans-111\"/>\n      <use x=\"187.841797\" xlink:href=\"#DejaVuSans-99\"/>\n      <use x=\"242.822266\" xlink:href=\"#DejaVuSans-104\"/>\n     </g>\n    </g>\n   </g>\n   <g id=\"matplotlib.axis_2\">\n    <g id=\"ytick_1\">\n     <g id=\"line2d_8\">\n      <defs>\n       <path d=\"M 0 0 \nL -3.5 0 \n\" id=\"mac29ff4175\" style=\"stroke:#000000;stroke-width:0.8;\"/>\n      </defs>\n      <g>\n       <use style=\"stroke:#000000;stroke-width:0.8;\" x=\"43.78125\" xlink:href=\"#mac29ff4175\" y=\"277.313643\"/>\n      </g>\n     </g>\n     <g id=\"text_9\">\n      <!-- 6.0 -->\n      <defs>\n       <path d=\"M 10.6875 12.40625 \nL 21 12.40625 \nL 21 0 \nL 10.6875 0 \nz\n\" id=\"DejaVuSans-46\"/>\n      </defs>\n      <g transform=\"translate(20.878125 281.112862)scale(0.1 -0.1)\">\n       <use xlink:href=\"#DejaVuSans-54\"/>\n       <use x=\"63.623047\" xlink:href=\"#DejaVuSans-46\"/>\n       <use x=\"95.410156\" xlink:href=\"#DejaVuSans-48\"/>\n      </g>\n     </g>\n    </g>\n    <g id=\"ytick_2\">\n     <g id=\"line2d_9\">\n      <g>\n       <use style=\"stroke:#000000;stroke-width:0.8;\" x=\"43.78125\" xlink:href=\"#mac29ff4175\" y=\"244.973751\"/>\n      </g>\n     </g>\n     <g id=\"text_10\">\n      <!-- 6.5 -->\n      <defs>\n       <path d=\"M 10.796875 72.90625 \nL 49.515625 72.90625 \nL 49.515625 64.59375 \nL 19.828125 64.59375 \nL 19.828125 46.734375 \nQ 21.96875 47.46875 24.109375 47.828125 \nQ 26.265625 48.1875 28.421875 48.1875 \nQ 40.625 48.1875 47.75 41.5 \nQ 54.890625 34.8125 54.890625 23.390625 \nQ 54.890625 11.625 47.5625 5.09375 \nQ 40.234375 -1.421875 26.90625 -1.421875 \nQ 22.3125 -1.421875 17.546875 -0.640625 \nQ 12.796875 0.140625 7.71875 1.703125 \nL 7.71875 11.625 \nQ 12.109375 9.234375 16.796875 8.0625 \nQ 21.484375 6.890625 26.703125 6.890625 \nQ 35.15625 6.890625 40.078125 11.328125 \nQ 45.015625 15.765625 45.015625 23.390625 \nQ 45.015625 31 40.078125 35.4375 \nQ 35.15625 39.890625 26.703125 39.890625 \nQ 22.75 39.890625 18.8125 39.015625 \nQ 14.890625 38.140625 10.796875 36.28125 \nz\n\" id=\"DejaVuSans-53\"/>\n      </defs>\n      <g transform=\"translate(20.878125 248.77297)scale(0.1 -0.1)\">\n       <use xlink:href=\"#DejaVuSans-54\"/>\n       <use x=\"63.623047\" xlink:href=\"#DejaVuSans-46\"/>\n       <use x=\"95.410156\" xlink:href=\"#DejaVuSans-53\"/>\n      </g>\n     </g>\n    </g>\n    <g id=\"ytick_3\">\n     <g id=\"line2d_10\">\n      <g>\n       <use style=\"stroke:#000000;stroke-width:0.8;\" x=\"43.78125\" xlink:href=\"#mac29ff4175\" y=\"212.63386\"/>\n      </g>\n     </g>\n     <g id=\"text_11\">\n      <!-- 7.0 -->\n      <defs>\n       <path d=\"M 8.203125 72.90625 \nL 55.078125 72.90625 \nL 55.078125 68.703125 \nL 28.609375 0 \nL 18.3125 0 \nL 43.21875 64.59375 \nL 8.203125 64.59375 \nz\n\" id=\"DejaVuSans-55\"/>\n      </defs>\n      <g transform=\"translate(20.878125 216.433078)scale(0.1 -0.1)\">\n       <use xlink:href=\"#DejaVuSans-55\"/>\n       <use x=\"63.623047\" xlink:href=\"#DejaVuSans-46\"/>\n       <use x=\"95.410156\" xlink:href=\"#DejaVuSans-48\"/>\n      </g>\n     </g>\n    </g>\n    <g id=\"ytick_4\">\n     <g id=\"line2d_11\">\n      <g>\n       <use style=\"stroke:#000000;stroke-width:0.8;\" x=\"43.78125\" xlink:href=\"#mac29ff4175\" y=\"180.293968\"/>\n      </g>\n     </g>\n     <g id=\"text_12\">\n      <!-- 7.5 -->\n      <g transform=\"translate(20.878125 184.093187)scale(0.1 -0.1)\">\n       <use xlink:href=\"#DejaVuSans-55\"/>\n       <use x=\"63.623047\" xlink:href=\"#DejaVuSans-46\"/>\n       <use x=\"95.410156\" xlink:href=\"#DejaVuSans-53\"/>\n      </g>\n     </g>\n    </g>\n    <g id=\"ytick_5\">\n     <g id=\"line2d_12\">\n      <g>\n       <use style=\"stroke:#000000;stroke-width:0.8;\" x=\"43.78125\" xlink:href=\"#mac29ff4175\" y=\"147.954076\"/>\n      </g>\n     </g>\n     <g id=\"text_13\">\n      <!-- 8.0 -->\n      <g transform=\"translate(20.878125 151.753295)scale(0.1 -0.1)\">\n       <use xlink:href=\"#DejaVuSans-56\"/>\n       <use x=\"63.623047\" xlink:href=\"#DejaVuSans-46\"/>\n       <use x=\"95.410156\" xlink:href=\"#DejaVuSans-48\"/>\n      </g>\n     </g>\n    </g>\n    <g id=\"ytick_6\">\n     <g id=\"line2d_13\">\n      <g>\n       <use style=\"stroke:#000000;stroke-width:0.8;\" x=\"43.78125\" xlink:href=\"#mac29ff4175\" y=\"115.614185\"/>\n      </g>\n     </g>\n     <g id=\"text_14\">\n      <!-- 8.5 -->\n      <g transform=\"translate(20.878125 119.413403)scale(0.1 -0.1)\">\n       <use xlink:href=\"#DejaVuSans-56\"/>\n       <use x=\"63.623047\" xlink:href=\"#DejaVuSans-46\"/>\n       <use x=\"95.410156\" xlink:href=\"#DejaVuSans-53\"/>\n      </g>\n     </g>\n    </g>\n    <g id=\"ytick_7\">\n     <g id=\"line2d_14\">\n      <g>\n       <use style=\"stroke:#000000;stroke-width:0.8;\" x=\"43.78125\" xlink:href=\"#mac29ff4175\" y=\"83.274293\"/>\n      </g>\n     </g>\n     <g id=\"text_15\">\n      <!-- 9.0 -->\n      <defs>\n       <path d=\"M 10.984375 1.515625 \nL 10.984375 10.5 \nQ 14.703125 8.734375 18.5 7.8125 \nQ 22.3125 6.890625 25.984375 6.890625 \nQ 35.75 6.890625 40.890625 13.453125 \nQ 46.046875 20.015625 46.78125 33.40625 \nQ 43.953125 29.203125 39.59375 26.953125 \nQ 35.25 24.703125 29.984375 24.703125 \nQ 19.046875 24.703125 12.671875 31.3125 \nQ 6.296875 37.9375 6.296875 49.421875 \nQ 6.296875 60.640625 12.9375 67.421875 \nQ 19.578125 74.21875 30.609375 74.21875 \nQ 43.265625 74.21875 49.921875 64.515625 \nQ 56.59375 54.828125 56.59375 36.375 \nQ 56.59375 19.140625 48.40625 8.859375 \nQ 40.234375 -1.421875 26.421875 -1.421875 \nQ 22.703125 -1.421875 18.890625 -0.6875 \nQ 15.09375 0.046875 10.984375 1.515625 \nz\nM 30.609375 32.421875 \nQ 37.25 32.421875 41.125 36.953125 \nQ 45.015625 41.5 45.015625 49.421875 \nQ 45.015625 57.28125 41.125 61.84375 \nQ 37.25 66.40625 30.609375 66.40625 \nQ 23.96875 66.40625 20.09375 61.84375 \nQ 16.21875 57.28125 16.21875 49.421875 \nQ 16.21875 41.5 20.09375 36.953125 \nQ 23.96875 32.421875 30.609375 32.421875 \nz\n\" id=\"DejaVuSans-57\"/>\n      </defs>\n      <g transform=\"translate(20.878125 87.073512)scale(0.1 -0.1)\">\n       <use xlink:href=\"#DejaVuSans-57\"/>\n       <use x=\"63.623047\" xlink:href=\"#DejaVuSans-46\"/>\n       <use x=\"95.410156\" xlink:href=\"#DejaVuSans-48\"/>\n      </g>\n     </g>\n    </g>\n    <g id=\"ytick_8\">\n     <g id=\"line2d_15\">\n      <g>\n       <use style=\"stroke:#000000;stroke-width:0.8;\" x=\"43.78125\" xlink:href=\"#mac29ff4175\" y=\"50.934401\"/>\n      </g>\n     </g>\n     <g id=\"text_16\">\n      <!-- 9.5 -->\n      <g transform=\"translate(20.878125 54.73362)scale(0.1 -0.1)\">\n       <use xlink:href=\"#DejaVuSans-57\"/>\n       <use x=\"63.623047\" xlink:href=\"#DejaVuSans-46\"/>\n       <use x=\"95.410156\" xlink:href=\"#DejaVuSans-53\"/>\n      </g>\n     </g>\n    </g>\n    <g id=\"text_17\">\n     <!-- Loss -->\n     <defs>\n      <path d=\"M 9.8125 72.90625 \nL 19.671875 72.90625 \nL 19.671875 8.296875 \nL 55.171875 8.296875 \nL 55.171875 0 \nL 9.8125 0 \nz\n\" id=\"DejaVuSans-76\"/>\n      <path d=\"M 44.28125 53.078125 \nL 44.28125 44.578125 \nQ 40.484375 46.53125 36.375 47.5 \nQ 32.28125 48.484375 27.875 48.484375 \nQ 21.1875 48.484375 17.84375 46.4375 \nQ 14.5 44.390625 14.5 40.28125 \nQ 14.5 37.15625 16.890625 35.375 \nQ 19.28125 33.59375 26.515625 31.984375 \nL 29.59375 31.296875 \nQ 39.15625 29.25 43.1875 25.515625 \nQ 47.21875 21.78125 47.21875 15.09375 \nQ 47.21875 7.46875 41.1875 3.015625 \nQ 35.15625 -1.421875 24.609375 -1.421875 \nQ 20.21875 -1.421875 15.453125 -0.5625 \nQ 10.6875 0.296875 5.421875 2 \nL 5.421875 11.28125 \nQ 10.40625 8.6875 15.234375 7.390625 \nQ 20.0625 6.109375 24.8125 6.109375 \nQ 31.15625 6.109375 34.5625 8.28125 \nQ 37.984375 10.453125 37.984375 14.40625 \nQ 37.984375 18.0625 35.515625 20.015625 \nQ 33.0625 21.96875 24.703125 23.78125 \nL 21.578125 24.515625 \nQ 13.234375 26.265625 9.515625 29.90625 \nQ 5.8125 33.546875 5.8125 39.890625 \nQ 5.8125 47.609375 11.28125 51.796875 \nQ 16.75 56 26.8125 56 \nQ 31.78125 56 36.171875 55.265625 \nQ 40.578125 54.546875 44.28125 53.078125 \nz\n\" id=\"DejaVuSans-115\"/>\n     </defs>\n     <g transform=\"translate(14.798438 169.185313)rotate(-90)scale(0.1 -0.1)\">\n      <use xlink:href=\"#DejaVuSans-76\"/>\n      <use x=\"53.962891\" xlink:href=\"#DejaVuSans-111\"/>\n      <use x=\"115.144531\" xlink:href=\"#DejaVuSans-115\"/>\n      <use x=\"167.244141\" xlink:href=\"#DejaVuSans-115\"/>\n     </g>\n    </g>\n   </g>\n   <g id=\"line2d_16\">\n    <path clip-path=\"url(#p8160b2e2f2)\" d=\"M 69.144886 88.906979 \nL 73.235795 89.200345 \nL 77.326705 89.420802 \nL 81.417614 91.50194 \nL 85.508523 93.659072 \nL 89.599432 94.038795 \nL 93.690341 96.054487 \nL 97.78125 98.626316 \nL 101.872159 99.155005 \nL 105.963068 101.260631 \nL 110.053977 105.364493 \nL 114.144886 110.015548 \nL 118.235795 110.929018 \nL 122.326705 111.344703 \nL 126.417614 113.443606 \nL 130.508523 115.705661 \nL 134.599432 119.837712 \nL 138.690341 122.729494 \nL 142.78125 129.315497 \nL 146.872159 143.111556 \nL 150.963068 155.068337 \nL 155.053977 169.718248 \nL 159.144886 198.725476 \nL 163.235795 215.598705 \nL 167.326705 224.387086 \nL 171.417614 236.926159 \nL 175.508523 248.387653 \nL 179.599432 251.420042 \nL 183.690341 250.057331 \nL 187.78125 250.755742 \nL 191.872159 251.255717 \nL 195.963068 251.660761 \nL 200.053977 252.038449 \nL 204.144886 252.375333 \nL 208.235795 254.242707 \nL 212.326705 254.684762 \nL 216.417614 255.096499 \nL 220.508523 255.413521 \nL 224.599432 260.197196 \nL 228.690341 261.737956 \nL 232.78125 262.297949 \nL 236.872159 262.717921 \nL 240.963068 263.055699 \nL 245.053977 263.332072 \nL 249.144886 263.58482 \nL 253.235795 263.825786 \nL 257.326705 264.058456 \nL 261.417614 264.27037 \nL 265.508523 264.485552 \nL 269.599432 264.682322 \nL 273.690341 264.827186 \nL 277.78125 264.983554 \nL 281.872159 265.101739 \nL 285.963068 265.237196 \nL 290.053977 265.347949 \nL 294.144886 265.461014 \nL 298.235795 265.566771 \nL 302.326705 265.6741 \nL 306.417614 265.773133 \nL 310.508523 265.871178 \nL 314.599432 265.961514 \nL 318.690341 266.04821 \nL 322.78125 266.134073 \nL 326.872159 266.224625 \nL 330.963068 266.300834 \nL 335.053977 266.380344 \nL 339.144886 266.454858 \nL 343.235795 266.530821 \nL 347.326705 266.603238 \nL 351.417614 266.671305 \nL 355.508523 266.739342 \nL 359.599432 266.806084 \nL 363.690341 266.867058 \nL 367.78125 266.933182 \nL 371.872159 266.993015 \nL 375.963068 267.05146 \nL 380.053977 267.107839 \nL 384.144886 267.166438 \nL 388.235795 267.219579 \nL 392.326705 267.268401 \nL 396.417614 267.315435 \nL 400.508523 267.362746 \nL 404.599432 268.741001 \nL 408.690341 272.602385 \nL 412.78125 278.240992 \nL 416.872159 279.630566 \nL 420.963068 280.056891 \nL 425.053977 277.822778 \nL 429.144886 277.961597 \nL 433.235795 279.627451 \nL 437.326705 279.81537 \nL 441.417614 279.991013 \nL 445.508523 280.118575 \nL 449.599432 280.212611 \nL 453.690341 280.289746 \nL 457.78125 280.374777 \nL 461.872159 280.434517 \nL 465.963068 280.510665 \nL 470.053977 280.573243 \nL 474.144886 280.640602 \nL 478.235795 280.688036 \nL 482.326705 280.751755 \nL 486.417614 280.803137 \nL 490.508523 280.856648 \nL 494.599432 280.913304 \nL 498.690341 280.961016 \nL 502.78125 281.009993 \nL 506.872159 281.056687 \nL 510.963068 281.103783 \nL 515.053977 281.149922 \nL 519.144886 281.194272 \nL 523.235795 281.240566 \nL 527.326705 281.283405 \nL 531.417614 281.326028 \nL 535.508523 281.371859 \nL 539.599432 281.410596 \nL 543.690341 281.449919 \nL 547.78125 281.49319 \nL 551.872159 281.531588 \nL 555.963068 281.571929 \nL 560.053977 281.611098 \nL 564.144886 281.649774 \nL 568.235795 281.688511 \nL 572.326705 281.723208 \nL 576.417614 281.76358 \n\" style=\"fill:none;stroke:#1f77b4;stroke-linecap:square;stroke-width:1.5;\"/>\n   </g>\n   <g id=\"line2d_17\">\n    <path clip-path=\"url(#p8160b2e2f2)\" d=\"M 69.144886 34.67267 \nL 73.235795 34.784811 \nL 77.326705 34.922365 \nL 81.417614 45.347115 \nL 85.508523 46.393944 \nL 89.599432 47.075546 \nL 93.690341 47.637914 \nL 97.78125 48.096901 \nL 101.872159 48.356342 \nL 105.963068 48.537938 \nL 110.053977 48.75346 \nL 114.144886 60.397629 \nL 118.235795 61.260581 \nL 122.326705 61.625747 \nL 126.417614 61.874331 \nL 130.508523 62.133401 \nL 134.599432 62.402773 \nL 138.690341 62.611263 \nL 142.78125 63.097575 \nL 146.872159 74.689807 \nL 150.963068 75.826448 \nL 155.053977 88.044027 \nL 159.144886 100.609377 \nL 163.235795 112.538586 \nL 167.326705 113.709708 \nL 171.417614 140.693749 \nL 175.508523 145.856962 \nL 179.599432 147.370859 \nL 183.690341 148.254043 \nL 187.78125 148.834793 \nL 191.872159 149.274133 \nL 195.963068 149.643031 \nL 200.053977 149.952373 \nL 204.144886 150.227296 \nL 208.235795 150.508573 \nL 212.326705 159.65154 \nL 216.417614 160.618336 \nL 220.508523 169.989532 \nL 224.599432 172.302045 \nL 228.690341 173.416264 \nL 232.78125 174.069861 \nL 236.872159 174.522464 \nL 240.963068 174.863234 \nL 245.053977 175.159839 \nL 249.144886 175.427452 \nL 253.235795 175.667278 \nL 257.326705 175.886655 \nL 261.417614 176.105323 \nL 265.508523 176.303265 \nL 269.599432 176.460342 \nL 273.690341 182.800938 \nL 277.78125 185.087142 \nL 281.872159 185.808746 \nL 285.963068 186.240222 \nL 290.053977 186.593359 \nL 294.144886 186.891383 \nL 298.235795 187.152551 \nL 302.326705 187.38263 \nL 306.417614 187.594142 \nL 310.508523 187.779409 \nL 314.599432 187.960419 \nL 318.690341 188.135661 \nL 322.78125 188.303101 \nL 326.872159 188.450833 \nL 330.963068 188.59363 \nL 335.053977 188.733127 \nL 339.144886 188.864821 \nL 343.235795 188.99411 \nL 347.326705 189.113591 \nL 351.417614 189.230327 \nL 355.508523 189.339815 \nL 359.599432 189.444522 \nL 363.690341 189.548367 \nL 367.78125 189.639319 \nL 371.872159 189.734342 \nL 375.963068 189.829026 \nL 380.053977 189.921181 \nL 384.144886 190.005102 \nL 388.235795 190.086 \nL 392.326705 190.165633 \nL 396.417614 190.2465 \nL 400.508523 190.324807 \nL 404.599432 190.953762 \nL 408.690341 191.634347 \nL 412.78125 192.132132 \nL 416.872159 192.558766 \nL 420.963068 192.787981 \nL 425.053977 192.924518 \nL 429.144886 193.017104 \nL 433.235795 193.109383 \nL 437.326705 193.206565 \nL 441.417614 193.287309 \nL 445.508523 193.355716 \nL 449.599432 193.418571 \nL 453.690341 193.480039 \nL 457.78125 193.533858 \nL 461.872159 193.590175 \nL 465.963068 193.640292 \nL 470.053977 193.690348 \nL 474.144886 193.734976 \nL 478.235795 193.786174 \nL 482.326705 193.831974 \nL 486.417614 193.878575 \nL 490.508523 193.924468 \nL 494.599432 193.965888 \nL 498.690341 194.007463 \nL 502.78125 194.049408 \nL 506.872159 194.091599 \nL 510.963068 194.132495 \nL 515.053977 194.173268 \nL 519.144886 194.213609 \nL 523.235795 194.252439 \nL 527.326705 194.291299 \nL 531.417614 194.329821 \nL 535.508523 194.366183 \nL 539.599432 194.403409 \nL 543.690341 194.440882 \nL 547.78125 194.475764 \nL 551.872159 194.51225 \nL 555.963068 194.546792 \nL 560.053977 194.581674 \nL 564.144886 194.617204 \nL 568.235795 194.651284 \nL 572.326705 194.687153 \nL 576.417614 194.720184 \n\" style=\"fill:none;stroke:#ff7f0e;stroke-linecap:square;stroke-width:1.5;\"/>\n   </g>\n   <g id=\"patch_3\">\n    <path d=\"M 43.78125 294.118125 \nL 43.78125 22.318125 \n\" style=\"fill:none;stroke:#000000;stroke-linecap:square;stroke-linejoin:miter;stroke-width:0.8;\"/>\n   </g>\n   <g id=\"patch_4\">\n    <path d=\"M 601.78125 294.118125 \nL 601.78125 22.318125 \n\" style=\"fill:none;stroke:#000000;stroke-linecap:square;stroke-linejoin:miter;stroke-width:0.8;\"/>\n   </g>\n   <g id=\"patch_5\">\n    <path d=\"M 43.78125 294.118125 \nL 601.78125 294.118125 \n\" style=\"fill:none;stroke:#000000;stroke-linecap:square;stroke-linejoin:miter;stroke-width:0.8;\"/>\n   </g>\n   <g id=\"patch_6\">\n    <path d=\"M 43.78125 22.318125 \nL 601.78125 22.318125 \n\" style=\"fill:none;stroke:#000000;stroke-linecap:square;stroke-linejoin:miter;stroke-width:0.8;\"/>\n   </g>\n   <g id=\"text_18\">\n    <!-- Loss vs. epochs, batch=64 -->\n    <defs>\n     <path id=\"DejaVuSans-32\"/>\n     <path d=\"M 2.984375 54.6875 \nL 12.5 54.6875 \nL 29.59375 8.796875 \nL 46.6875 54.6875 \nL 56.203125 54.6875 \nL 35.6875 0 \nL 23.484375 0 \nz\n\" id=\"DejaVuSans-118\"/>\n     <path d=\"M 56.203125 29.59375 \nL 56.203125 25.203125 \nL 14.890625 25.203125 \nQ 15.484375 15.921875 20.484375 11.0625 \nQ 25.484375 6.203125 34.421875 6.203125 \nQ 39.59375 6.203125 44.453125 7.46875 \nQ 49.3125 8.734375 54.109375 11.28125 \nL 54.109375 2.78125 \nQ 49.265625 0.734375 44.1875 -0.34375 \nQ 39.109375 -1.421875 33.890625 -1.421875 \nQ 20.796875 -1.421875 13.15625 6.1875 \nQ 5.515625 13.8125 5.515625 26.8125 \nQ 5.515625 40.234375 12.765625 48.109375 \nQ 20.015625 56 32.328125 56 \nQ 43.359375 56 49.78125 48.890625 \nQ 56.203125 41.796875 56.203125 29.59375 \nz\nM 47.21875 32.234375 \nQ 47.125 39.59375 43.09375 43.984375 \nQ 39.0625 48.390625 32.421875 48.390625 \nQ 24.90625 48.390625 20.390625 44.140625 \nQ 15.875 39.890625 15.1875 32.171875 \nz\n\" id=\"DejaVuSans-101\"/>\n     <path d=\"M 11.71875 12.40625 \nL 22.015625 12.40625 \nL 22.015625 4 \nL 14.015625 -11.625 \nL 7.71875 -11.625 \nL 11.71875 4 \nz\n\" id=\"DejaVuSans-44\"/>\n     <path d=\"M 48.6875 27.296875 \nQ 48.6875 37.203125 44.609375 42.84375 \nQ 40.53125 48.484375 33.40625 48.484375 \nQ 26.265625 48.484375 22.1875 42.84375 \nQ 18.109375 37.203125 18.109375 27.296875 \nQ 18.109375 17.390625 22.1875 11.75 \nQ 26.265625 6.109375 33.40625 6.109375 \nQ 40.53125 6.109375 44.609375 11.75 \nQ 48.6875 17.390625 48.6875 27.296875 \nz\nM 18.109375 46.390625 \nQ 20.953125 51.265625 25.265625 53.625 \nQ 29.59375 56 35.59375 56 \nQ 45.5625 56 51.78125 48.09375 \nQ 58.015625 40.1875 58.015625 27.296875 \nQ 58.015625 14.40625 51.78125 6.484375 \nQ 45.5625 -1.421875 35.59375 -1.421875 \nQ 29.59375 -1.421875 25.265625 0.953125 \nQ 20.953125 3.328125 18.109375 8.203125 \nL 18.109375 0 \nL 9.078125 0 \nL 9.078125 75.984375 \nL 18.109375 75.984375 \nz\n\" id=\"DejaVuSans-98\"/>\n     <path d=\"M 34.28125 27.484375 \nQ 23.390625 27.484375 19.1875 25 \nQ 14.984375 22.515625 14.984375 16.5 \nQ 14.984375 11.71875 18.140625 8.90625 \nQ 21.296875 6.109375 26.703125 6.109375 \nQ 34.1875 6.109375 38.703125 11.40625 \nQ 43.21875 16.703125 43.21875 25.484375 \nL 43.21875 27.484375 \nz\nM 52.203125 31.203125 \nL 52.203125 0 \nL 43.21875 0 \nL 43.21875 8.296875 \nQ 40.140625 3.328125 35.546875 0.953125 \nQ 30.953125 -1.421875 24.3125 -1.421875 \nQ 15.921875 -1.421875 10.953125 3.296875 \nQ 6 8.015625 6 15.921875 \nQ 6 25.140625 12.171875 29.828125 \nQ 18.359375 34.515625 30.609375 34.515625 \nL 43.21875 34.515625 \nL 43.21875 35.40625 \nQ 43.21875 41.609375 39.140625 45 \nQ 35.0625 48.390625 27.6875 48.390625 \nQ 23 48.390625 18.546875 47.265625 \nQ 14.109375 46.140625 10.015625 43.890625 \nL 10.015625 52.203125 \nQ 14.9375 54.109375 19.578125 55.046875 \nQ 24.21875 56 28.609375 56 \nQ 40.484375 56 46.34375 49.84375 \nQ 52.203125 43.703125 52.203125 31.203125 \nz\n\" id=\"DejaVuSans-97\"/>\n     <path d=\"M 18.3125 70.21875 \nL 18.3125 54.6875 \nL 36.8125 54.6875 \nL 36.8125 47.703125 \nL 18.3125 47.703125 \nL 18.3125 18.015625 \nQ 18.3125 11.328125 20.140625 9.421875 \nQ 21.96875 7.515625 27.59375 7.515625 \nL 36.8125 7.515625 \nL 36.8125 0 \nL 27.59375 0 \nQ 17.1875 0 13.234375 3.875 \nQ 9.28125 7.765625 9.28125 18.015625 \nL 9.28125 47.703125 \nL 2.6875 47.703125 \nL 2.6875 54.6875 \nL 9.28125 54.6875 \nL 9.28125 70.21875 \nz\n\" id=\"DejaVuSans-116\"/>\n     <path d=\"M 10.59375 45.40625 \nL 73.1875 45.40625 \nL 73.1875 37.203125 \nL 10.59375 37.203125 \nz\nM 10.59375 25.484375 \nL 73.1875 25.484375 \nL 73.1875 17.1875 \nL 10.59375 17.1875 \nz\n\" id=\"DejaVuSans-61\"/>\n    </defs>\n    <g transform=\"translate(242.4075 16.318125)scale(0.12 -0.12)\">\n     <use xlink:href=\"#DejaVuSans-76\"/>\n     <use x=\"53.962891\" xlink:href=\"#DejaVuSans-111\"/>\n     <use x=\"115.144531\" xlink:href=\"#DejaVuSans-115\"/>\n     <use x=\"167.244141\" xlink:href=\"#DejaVuSans-115\"/>\n     <use x=\"219.34375\" xlink:href=\"#DejaVuSans-32\"/>\n     <use x=\"251.130859\" xlink:href=\"#DejaVuSans-118\"/>\n     <use x=\"310.310547\" xlink:href=\"#DejaVuSans-115\"/>\n     <use x=\"362.410156\" xlink:href=\"#DejaVuSans-46\"/>\n     <use x=\"394.197266\" xlink:href=\"#DejaVuSans-32\"/>\n     <use x=\"425.984375\" xlink:href=\"#DejaVuSans-101\"/>\n     <use x=\"487.507812\" xlink:href=\"#DejaVuSans-112\"/>\n     <use x=\"550.984375\" xlink:href=\"#DejaVuSans-111\"/>\n     <use x=\"612.166016\" xlink:href=\"#DejaVuSans-99\"/>\n     <use x=\"667.146484\" xlink:href=\"#DejaVuSans-104\"/>\n     <use x=\"730.525391\" xlink:href=\"#DejaVuSans-115\"/>\n     <use x=\"782.625\" xlink:href=\"#DejaVuSans-44\"/>\n     <use x=\"814.412109\" xlink:href=\"#DejaVuSans-32\"/>\n     <use x=\"846.199219\" xlink:href=\"#DejaVuSans-98\"/>\n     <use x=\"909.675781\" xlink:href=\"#DejaVuSans-97\"/>\n     <use x=\"970.955078\" xlink:href=\"#DejaVuSans-116\"/>\n     <use x=\"1010.164062\" xlink:href=\"#DejaVuSans-99\"/>\n     <use x=\"1065.144531\" xlink:href=\"#DejaVuSans-104\"/>\n     <use x=\"1128.523438\" xlink:href=\"#DejaVuSans-61\"/>\n     <use x=\"1212.3125\" xlink:href=\"#DejaVuSans-54\"/>\n     <use x=\"1275.935547\" xlink:href=\"#DejaVuSans-52\"/>\n    </g>\n   </g>\n   <g id=\"legend_1\">\n    <g id=\"patch_7\">\n     <path d=\"M 513.4 59.674375 \nL 594.78125 59.674375 \nQ 596.78125 59.674375 596.78125 57.674375 \nL 596.78125 29.318125 \nQ 596.78125 27.318125 594.78125 27.318125 \nL 513.4 27.318125 \nQ 511.4 27.318125 511.4 29.318125 \nL 511.4 57.674375 \nQ 511.4 59.674375 513.4 59.674375 \nz\n\" style=\"fill:#ffffff;opacity:0.8;stroke:#cccccc;stroke-linejoin:miter;\"/>\n    </g>\n    <g id=\"line2d_18\">\n     <path d=\"M 515.4 35.416562 \nL 535.4 35.416562 \n\" style=\"fill:none;stroke:#1f77b4;stroke-linecap:square;stroke-width:1.5;\"/>\n    </g>\n    <g id=\"line2d_19\"/>\n    <g id=\"text_19\">\n     <!-- Training -->\n     <defs>\n      <path d=\"M -0.296875 72.90625 \nL 61.375 72.90625 \nL 61.375 64.59375 \nL 35.5 64.59375 \nL 35.5 0 \nL 25.59375 0 \nL 25.59375 64.59375 \nL -0.296875 64.59375 \nz\n\" id=\"DejaVuSans-84\"/>\n      <path d=\"M 41.109375 46.296875 \nQ 39.59375 47.171875 37.8125 47.578125 \nQ 36.03125 48 33.890625 48 \nQ 26.265625 48 22.1875 43.046875 \nQ 18.109375 38.09375 18.109375 28.8125 \nL 18.109375 0 \nL 9.078125 0 \nL 9.078125 54.6875 \nL 18.109375 54.6875 \nL 18.109375 46.1875 \nQ 20.953125 51.171875 25.484375 53.578125 \nQ 30.03125 56 36.53125 56 \nQ 37.453125 56 38.578125 55.875 \nQ 39.703125 55.765625 41.0625 55.515625 \nz\n\" id=\"DejaVuSans-114\"/>\n      <path d=\"M 9.421875 54.6875 \nL 18.40625 54.6875 \nL 18.40625 0 \nL 9.421875 0 \nz\nM 9.421875 75.984375 \nL 18.40625 75.984375 \nL 18.40625 64.59375 \nL 9.421875 64.59375 \nz\n\" id=\"DejaVuSans-105\"/>\n      <path d=\"M 54.890625 33.015625 \nL 54.890625 0 \nL 45.90625 0 \nL 45.90625 32.71875 \nQ 45.90625 40.484375 42.875 44.328125 \nQ 39.84375 48.1875 33.796875 48.1875 \nQ 26.515625 48.1875 22.3125 43.546875 \nQ 18.109375 38.921875 18.109375 30.90625 \nL 18.109375 0 \nL 9.078125 0 \nL 9.078125 54.6875 \nL 18.109375 54.6875 \nL 18.109375 46.1875 \nQ 21.34375 51.125 25.703125 53.5625 \nQ 30.078125 56 35.796875 56 \nQ 45.21875 56 50.046875 50.171875 \nQ 54.890625 44.34375 54.890625 33.015625 \nz\n\" id=\"DejaVuSans-110\"/>\n      <path d=\"M 45.40625 27.984375 \nQ 45.40625 37.75 41.375 43.109375 \nQ 37.359375 48.484375 30.078125 48.484375 \nQ 22.859375 48.484375 18.828125 43.109375 \nQ 14.796875 37.75 14.796875 27.984375 \nQ 14.796875 18.265625 18.828125 12.890625 \nQ 22.859375 7.515625 30.078125 7.515625 \nQ 37.359375 7.515625 41.375 12.890625 \nQ 45.40625 18.265625 45.40625 27.984375 \nz\nM 54.390625 6.78125 \nQ 54.390625 -7.171875 48.1875 -13.984375 \nQ 42 -20.796875 29.203125 -20.796875 \nQ 24.46875 -20.796875 20.265625 -20.09375 \nQ 16.0625 -19.390625 12.109375 -17.921875 \nL 12.109375 -9.1875 \nQ 16.0625 -11.328125 19.921875 -12.34375 \nQ 23.78125 -13.375 27.78125 -13.375 \nQ 36.625 -13.375 41.015625 -8.765625 \nQ 45.40625 -4.15625 45.40625 5.171875 \nL 45.40625 9.625 \nQ 42.625 4.78125 38.28125 2.390625 \nQ 33.9375 0 27.875 0 \nQ 17.828125 0 11.671875 7.65625 \nQ 5.515625 15.328125 5.515625 27.984375 \nQ 5.515625 40.671875 11.671875 48.328125 \nQ 17.828125 56 27.875 56 \nQ 33.9375 56 38.28125 53.609375 \nQ 42.625 51.21875 45.40625 46.390625 \nL 45.40625 54.6875 \nL 54.390625 54.6875 \nz\n\" id=\"DejaVuSans-103\"/>\n     </defs>\n     <g transform=\"translate(543.4 38.916562)scale(0.1 -0.1)\">\n      <use xlink:href=\"#DejaVuSans-84\"/>\n      <use x=\"46.333984\" xlink:href=\"#DejaVuSans-114\"/>\n      <use x=\"87.447266\" xlink:href=\"#DejaVuSans-97\"/>\n      <use x=\"148.726562\" xlink:href=\"#DejaVuSans-105\"/>\n      <use x=\"176.509766\" xlink:href=\"#DejaVuSans-110\"/>\n      <use x=\"239.888672\" xlink:href=\"#DejaVuSans-105\"/>\n      <use x=\"267.671875\" xlink:href=\"#DejaVuSans-110\"/>\n      <use x=\"331.050781\" xlink:href=\"#DejaVuSans-103\"/>\n     </g>\n    </g>\n    <g id=\"line2d_20\">\n     <path d=\"M 515.4 50.094688 \nL 535.4 50.094688 \n\" style=\"fill:none;stroke:#ff7f0e;stroke-linecap:square;stroke-width:1.5;\"/>\n    </g>\n    <g id=\"line2d_21\"/>\n    <g id=\"text_20\">\n     <!-- Validation -->\n     <defs>\n      <path d=\"M 28.609375 0 \nL 0.78125 72.90625 \nL 11.078125 72.90625 \nL 34.1875 11.53125 \nL 57.328125 72.90625 \nL 67.578125 72.90625 \nL 39.796875 0 \nz\n\" id=\"DejaVuSans-86\"/>\n      <path d=\"M 9.421875 75.984375 \nL 18.40625 75.984375 \nL 18.40625 0 \nL 9.421875 0 \nz\n\" id=\"DejaVuSans-108\"/>\n      <path d=\"M 45.40625 46.390625 \nL 45.40625 75.984375 \nL 54.390625 75.984375 \nL 54.390625 0 \nL 45.40625 0 \nL 45.40625 8.203125 \nQ 42.578125 3.328125 38.25 0.953125 \nQ 33.9375 -1.421875 27.875 -1.421875 \nQ 17.96875 -1.421875 11.734375 6.484375 \nQ 5.515625 14.40625 5.515625 27.296875 \nQ 5.515625 40.1875 11.734375 48.09375 \nQ 17.96875 56 27.875 56 \nQ 33.9375 56 38.25 53.625 \nQ 42.578125 51.265625 45.40625 46.390625 \nz\nM 14.796875 27.296875 \nQ 14.796875 17.390625 18.875 11.75 \nQ 22.953125 6.109375 30.078125 6.109375 \nQ 37.203125 6.109375 41.296875 11.75 \nQ 45.40625 17.390625 45.40625 27.296875 \nQ 45.40625 37.203125 41.296875 42.84375 \nQ 37.203125 48.484375 30.078125 48.484375 \nQ 22.953125 48.484375 18.875 42.84375 \nQ 14.796875 37.203125 14.796875 27.296875 \nz\n\" id=\"DejaVuSans-100\"/>\n     </defs>\n     <g transform=\"translate(543.4 53.594688)scale(0.1 -0.1)\">\n      <use xlink:href=\"#DejaVuSans-86\"/>\n      <use x=\"60.658203\" xlink:href=\"#DejaVuSans-97\"/>\n      <use x=\"121.9375\" xlink:href=\"#DejaVuSans-108\"/>\n      <use x=\"149.720703\" xlink:href=\"#DejaVuSans-105\"/>\n      <use x=\"177.503906\" xlink:href=\"#DejaVuSans-100\"/>\n      <use x=\"240.980469\" xlink:href=\"#DejaVuSans-97\"/>\n      <use x=\"302.259766\" xlink:href=\"#DejaVuSans-116\"/>\n      <use x=\"341.46875\" xlink:href=\"#DejaVuSans-105\"/>\n      <use x=\"369.251953\" xlink:href=\"#DejaVuSans-111\"/>\n      <use x=\"430.433594\" xlink:href=\"#DejaVuSans-110\"/>\n     </g>\n    </g>\n   </g>\n  </g>\n </g>\n <defs>\n  <clipPath id=\"p8160b2e2f2\">\n   <rect height=\"271.8\" width=\"558\" x=\"43.78125\" y=\"22.318125\"/>\n  </clipPath>\n </defs>\n</svg>\n"
          },
          "metadata": {
            "needs_background": "light"
          }
        }
      ],
      "source": [
        "#@title\n",
        "plt.figure(figsize=(10,5))\n",
        "plt.plot(history.history['loss'])\n",
        "plt.plot(history.history['val_loss'])\n",
        "plt.title('Loss vs. epochs, batch=' +str(batch_size))\n",
        "plt.ylabel('Loss')\n",
        "plt.xlabel('Epoch')\n",
        "plt.legend(['Training', 'Validation'], loc='upper right')\n",
        "plt.show()"
      ]
    },
    {
      "cell_type": "markdown",
      "id": "467481cd-d773-479b-837b-94b0cd4c056a",
      "metadata": {
        "id": "467481cd-d773-479b-837b-94b0cd4c056a"
      },
      "source": [
        "##### LR =  0.001"
      ]
    },
    {
      "cell_type": "markdown",
      "id": "bd885be3-5ac4-4bad-80eb-7a9e1850a3e5",
      "metadata": {
        "id": "bd885be3-5ac4-4bad-80eb-7a9e1850a3e5"
      },
      "source": [
        "10. **Retrain for 0.001 LR**"
      ]
    },
    {
      "cell_type": "code",
      "execution_count": 204,
      "id": "afa0d071-55ed-42e5-bd40-ef410c33128f",
      "metadata": {
        "tags": [],
        "id": "afa0d071-55ed-42e5-bd40-ef410c33128f",
        "colab": {
          "base_uri": "https://localhost:8080/"
        },
        "outputId": "fbed7384-0456-4dd1-b273-1a5f7911df9c"
      },
      "outputs": [
        {
          "output_type": "stream",
          "name": "stdout",
          "text": [
            "Epoch 1/125\n",
            "7/7 [==============================] - 1s 28ms/step - loss: 4.3113 - accuracy: 0.3412 - val_loss: 2.6073 - val_accuracy: 0.3067\n",
            "Epoch 2/125\n",
            "7/7 [==============================] - 0s 6ms/step - loss: 4.3061 - accuracy: 0.3435 - val_loss: 2.6001 - val_accuracy: 0.3067\n",
            "Epoch 3/125\n",
            "7/7 [==============================] - 0s 9ms/step - loss: 4.2628 - accuracy: 0.3435 - val_loss: 2.5968 - val_accuracy: 0.3200\n",
            "Epoch 4/125\n",
            "7/7 [==============================] - 0s 7ms/step - loss: 4.2606 - accuracy: 0.3459 - val_loss: 2.5947 - val_accuracy: 0.3067\n",
            "Epoch 5/125\n",
            "7/7 [==============================] - 0s 9ms/step - loss: 4.2592 - accuracy: 0.3482 - val_loss: 2.4293 - val_accuracy: 0.3067\n",
            "Epoch 6/125\n",
            "7/7 [==============================] - 0s 6ms/step - loss: 4.2295 - accuracy: 0.3482 - val_loss: 2.4155 - val_accuracy: 0.3200\n",
            "Epoch 7/125\n",
            "7/7 [==============================] - 0s 6ms/step - loss: 4.2592 - accuracy: 0.3506 - val_loss: 2.4066 - val_accuracy: 0.3200\n",
            "Epoch 8/125\n",
            "7/7 [==============================] - 0s 6ms/step - loss: 4.0689 - accuracy: 0.3506 - val_loss: 2.4019 - val_accuracy: 0.3200\n",
            "Epoch 9/125\n",
            "7/7 [==============================] - 0s 6ms/step - loss: 4.1056 - accuracy: 0.3529 - val_loss: 2.3993 - val_accuracy: 0.3200\n",
            "Epoch 10/125\n",
            "7/7 [==============================] - 0s 7ms/step - loss: 4.1049 - accuracy: 0.3529 - val_loss: 2.3970 - val_accuracy: 0.3200\n",
            "Epoch 11/125\n",
            "7/7 [==============================] - 0s 8ms/step - loss: 4.2178 - accuracy: 0.3553 - val_loss: 2.3955 - val_accuracy: 0.3200\n",
            "Epoch 12/125\n",
            "7/7 [==============================] - 0s 10ms/step - loss: 4.2929 - accuracy: 0.3553 - val_loss: 2.3935 - val_accuracy: 0.3200\n",
            "Epoch 13/125\n",
            "7/7 [==============================] - 0s 6ms/step - loss: 4.2541 - accuracy: 0.3553 - val_loss: 2.3918 - val_accuracy: 0.3200\n",
            "Epoch 14/125\n",
            "7/7 [==============================] - 0s 7ms/step - loss: 4.2533 - accuracy: 0.3576 - val_loss: 2.3903 - val_accuracy: 0.3200\n",
            "Epoch 15/125\n",
            "7/7 [==============================] - 0s 6ms/step - loss: 4.2897 - accuracy: 0.3576 - val_loss: 2.3889 - val_accuracy: 0.3200\n",
            "Epoch 16/125\n",
            "7/7 [==============================] - 0s 7ms/step - loss: 4.2508 - accuracy: 0.3600 - val_loss: 2.3869 - val_accuracy: 0.3200\n",
            "Epoch 17/125\n",
            "7/7 [==============================] - 0s 7ms/step - loss: 4.2880 - accuracy: 0.3600 - val_loss: 2.3850 - val_accuracy: 0.3200\n",
            "Epoch 18/125\n",
            "7/7 [==============================] - 0s 8ms/step - loss: 4.3253 - accuracy: 0.3600 - val_loss: 2.3836 - val_accuracy: 0.3200\n",
            "Epoch 19/125\n",
            "7/7 [==============================] - 0s 7ms/step - loss: 4.3627 - accuracy: 0.3600 - val_loss: 2.8120 - val_accuracy: 0.3200\n",
            "Epoch 20/125\n",
            "7/7 [==============================] - 0s 6ms/step - loss: 4.4760 - accuracy: 0.3600 - val_loss: 2.8112 - val_accuracy: 0.3200\n",
            "Epoch 21/125\n",
            "7/7 [==============================] - 0s 6ms/step - loss: 4.4378 - accuracy: 0.3600 - val_loss: 3.2400 - val_accuracy: 0.3200\n",
            "Epoch 22/125\n",
            "7/7 [==============================] - 0s 7ms/step - loss: 4.4754 - accuracy: 0.3600 - val_loss: 3.0242 - val_accuracy: 0.3200\n",
            "Epoch 23/125\n",
            "7/7 [==============================] - 0s 8ms/step - loss: 4.5131 - accuracy: 0.3600 - val_loss: 3.0237 - val_accuracy: 0.3200\n",
            "Epoch 24/125\n",
            "7/7 [==============================] - 0s 7ms/step - loss: 8.6807 - accuracy: 0.3435 - val_loss: 12.2507 - val_accuracy: 0.3333\n",
            "Epoch 25/125\n",
            "7/7 [==============================] - 0s 7ms/step - loss: 10.6181 - accuracy: 0.3271 - val_loss: 12.2502 - val_accuracy: 0.3333\n",
            "Epoch 26/125\n",
            "7/7 [==============================] - 0s 8ms/step - loss: 10.6132 - accuracy: 0.3224 - val_loss: 12.2502 - val_accuracy: 0.3333\n",
            "Epoch 27/125\n",
            "7/7 [==============================] - 0s 6ms/step - loss: 10.6061 - accuracy: 0.2965 - val_loss: 12.2502 - val_accuracy: 0.3067\n",
            "Epoch 28/125\n",
            "7/7 [==============================] - 0s 6ms/step - loss: 10.5837 - accuracy: 0.2988 - val_loss: 12.1552 - val_accuracy: 0.2800\n",
            "Epoch 29/125\n",
            "7/7 [==============================] - 0s 6ms/step - loss: 10.5399 - accuracy: 0.2918 - val_loss: 12.1200 - val_accuracy: 0.2933\n",
            "Epoch 30/125\n",
            "7/7 [==============================] - 0s 6ms/step - loss: 10.4671 - accuracy: 0.2729 - val_loss: 12.1069 - val_accuracy: 0.2533\n",
            "Epoch 31/125\n",
            "7/7 [==============================] - 0s 7ms/step - loss: 10.3608 - accuracy: 0.2424 - val_loss: 11.7628 - val_accuracy: 0.2133\n",
            "Epoch 32/125\n",
            "7/7 [==============================] - 0s 6ms/step - loss: 10.2005 - accuracy: 0.1859 - val_loss: 11.4062 - val_accuracy: 0.2933\n",
            "Epoch 33/125\n",
            "7/7 [==============================] - 0s 7ms/step - loss: 9.9632 - accuracy: 0.2729 - val_loss: 11.0400 - val_accuracy: 0.4400\n",
            "Epoch 34/125\n",
            "7/7 [==============================] - 0s 6ms/step - loss: 9.3957 - accuracy: 0.3341 - val_loss: 10.5423 - val_accuracy: 0.4133\n",
            "Epoch 35/125\n",
            "7/7 [==============================] - 0s 7ms/step - loss: 7.8849 - accuracy: 0.3294 - val_loss: 7.4681 - val_accuracy: 0.4133\n",
            "Epoch 36/125\n",
            "7/7 [==============================] - 0s 7ms/step - loss: 5.9847 - accuracy: 0.3294 - val_loss: 7.2988 - val_accuracy: 0.4133\n",
            "Epoch 37/125\n",
            "7/7 [==============================] - 0s 6ms/step - loss: 5.9036 - accuracy: 0.3294 - val_loss: 7.2539 - val_accuracy: 0.4133\n",
            "Epoch 38/125\n",
            "7/7 [==============================] - 0s 6ms/step - loss: 5.8793 - accuracy: 0.3294 - val_loss: 7.2356 - val_accuracy: 0.4133\n",
            "Epoch 39/125\n",
            "7/7 [==============================] - 0s 7ms/step - loss: 5.8672 - accuracy: 0.3294 - val_loss: 7.2265 - val_accuracy: 0.4133\n",
            "Epoch 40/125\n",
            "7/7 [==============================] - 0s 7ms/step - loss: 5.8616 - accuracy: 0.3294 - val_loss: 7.2213 - val_accuracy: 0.4133\n",
            "Epoch 41/125\n",
            "7/7 [==============================] - 0s 7ms/step - loss: 5.8576 - accuracy: 0.3294 - val_loss: 7.2177 - val_accuracy: 0.4133\n",
            "Epoch 42/125\n",
            "7/7 [==============================] - 0s 9ms/step - loss: 5.8547 - accuracy: 0.3294 - val_loss: 7.2150 - val_accuracy: 0.4133\n",
            "Epoch 43/125\n",
            "7/7 [==============================] - 0s 7ms/step - loss: 5.8522 - accuracy: 0.3294 - val_loss: 7.2127 - val_accuracy: 0.4133\n",
            "Epoch 44/125\n",
            "7/7 [==============================] - 0s 6ms/step - loss: 5.8499 - accuracy: 0.3294 - val_loss: 7.2105 - val_accuracy: 0.4133\n",
            "Epoch 45/125\n",
            "7/7 [==============================] - 0s 7ms/step - loss: 5.8477 - accuracy: 0.3294 - val_loss: 7.2084 - val_accuracy: 0.4133\n",
            "Epoch 46/125\n",
            "7/7 [==============================] - 0s 6ms/step - loss: 5.8456 - accuracy: 0.3294 - val_loss: 7.2063 - val_accuracy: 0.4133\n",
            "Epoch 47/125\n",
            "7/7 [==============================] - 0s 7ms/step - loss: 5.8435 - accuracy: 0.3294 - val_loss: 7.2043 - val_accuracy: 0.4133\n",
            "Epoch 48/125\n",
            "7/7 [==============================] - 0s 8ms/step - loss: 5.8413 - accuracy: 0.3294 - val_loss: 7.2022 - val_accuracy: 0.4133\n",
            "Epoch 49/125\n",
            "7/7 [==============================] - 0s 6ms/step - loss: 5.8392 - accuracy: 0.3294 - val_loss: 7.2002 - val_accuracy: 0.4133\n",
            "Epoch 50/125\n",
            "7/7 [==============================] - 0s 7ms/step - loss: 5.8371 - accuracy: 0.3294 - val_loss: 7.1981 - val_accuracy: 0.4133\n",
            "Epoch 51/125\n",
            "7/7 [==============================] - 0s 6ms/step - loss: 5.8350 - accuracy: 0.3294 - val_loss: 7.1961 - val_accuracy: 0.4133\n",
            "Epoch 52/125\n",
            "7/7 [==============================] - 0s 7ms/step - loss: 5.8328 - accuracy: 0.3294 - val_loss: 7.1940 - val_accuracy: 0.4133\n",
            "Epoch 53/125\n",
            "7/7 [==============================] - 0s 8ms/step - loss: 5.8307 - accuracy: 0.3294 - val_loss: 7.1919 - val_accuracy: 0.4133\n",
            "Epoch 54/125\n",
            "7/7 [==============================] - 0s 7ms/step - loss: 5.8284 - accuracy: 0.3294 - val_loss: 7.1899 - val_accuracy: 0.4133\n",
            "Epoch 55/125\n",
            "7/7 [==============================] - 0s 7ms/step - loss: 5.8263 - accuracy: 0.3294 - val_loss: 7.1878 - val_accuracy: 0.4133\n",
            "Epoch 56/125\n",
            "7/7 [==============================] - 0s 7ms/step - loss: 5.8241 - accuracy: 0.3294 - val_loss: 7.1858 - val_accuracy: 0.4133\n",
            "Epoch 57/125\n",
            "7/7 [==============================] - 0s 7ms/step - loss: 5.8219 - accuracy: 0.3294 - val_loss: 7.1837 - val_accuracy: 0.4133\n",
            "Epoch 58/125\n",
            "7/7 [==============================] - 0s 7ms/step - loss: 5.8197 - accuracy: 0.3294 - val_loss: 7.1815 - val_accuracy: 0.4133\n",
            "Epoch 59/125\n",
            "7/7 [==============================] - 0s 11ms/step - loss: 5.8174 - accuracy: 0.3294 - val_loss: 7.1794 - val_accuracy: 0.4133\n",
            "Epoch 60/125\n",
            "7/7 [==============================] - 0s 11ms/step - loss: 5.8151 - accuracy: 0.3294 - val_loss: 7.1773 - val_accuracy: 0.4133\n",
            "Epoch 61/125\n",
            "7/7 [==============================] - 0s 7ms/step - loss: 5.8129 - accuracy: 0.3294 - val_loss: 7.1751 - val_accuracy: 0.4133\n",
            "Epoch 62/125\n",
            "7/7 [==============================] - 0s 6ms/step - loss: 5.8105 - accuracy: 0.3294 - val_loss: 7.1729 - val_accuracy: 0.4133\n",
            "Epoch 63/125\n",
            "7/7 [==============================] - 0s 10ms/step - loss: 5.8083 - accuracy: 0.3294 - val_loss: 7.1708 - val_accuracy: 0.4133\n",
            "Epoch 64/125\n",
            "7/7 [==============================] - 0s 7ms/step - loss: 5.8059 - accuracy: 0.3294 - val_loss: 7.1687 - val_accuracy: 0.4133\n",
            "Epoch 65/125\n",
            "7/7 [==============================] - 0s 7ms/step - loss: 5.8037 - accuracy: 0.3294 - val_loss: 7.1668 - val_accuracy: 0.4133\n",
            "Epoch 66/125\n",
            "7/7 [==============================] - 0s 6ms/step - loss: 5.8013 - accuracy: 0.3294 - val_loss: 7.1648 - val_accuracy: 0.4133\n",
            "Epoch 67/125\n",
            "7/7 [==============================] - 0s 7ms/step - loss: 5.7991 - accuracy: 0.3294 - val_loss: 7.1628 - val_accuracy: 0.4133\n",
            "Epoch 68/125\n",
            "7/7 [==============================] - 0s 7ms/step - loss: 5.7968 - accuracy: 0.3294 - val_loss: 7.1609 - val_accuracy: 0.4133\n",
            "Epoch 69/125\n",
            "7/7 [==============================] - 0s 7ms/step - loss: 5.7946 - accuracy: 0.3294 - val_loss: 7.1590 - val_accuracy: 0.4133\n",
            "Epoch 70/125\n",
            "7/7 [==============================] - 0s 6ms/step - loss: 5.7923 - accuracy: 0.3294 - val_loss: 7.1571 - val_accuracy: 0.4133\n",
            "Epoch 71/125\n",
            "7/7 [==============================] - 0s 7ms/step - loss: 5.7902 - accuracy: 0.3294 - val_loss: 7.1552 - val_accuracy: 0.4133\n",
            "Epoch 72/125\n",
            "7/7 [==============================] - 0s 7ms/step - loss: 5.7879 - accuracy: 0.3294 - val_loss: 7.1535 - val_accuracy: 0.4133\n",
            "Epoch 73/125\n",
            "7/7 [==============================] - 0s 7ms/step - loss: 5.7858 - accuracy: 0.3294 - val_loss: 7.1518 - val_accuracy: 0.4133\n",
            "Epoch 74/125\n",
            "7/7 [==============================] - 0s 7ms/step - loss: 5.7836 - accuracy: 0.3294 - val_loss: 7.1500 - val_accuracy: 0.4133\n",
            "Epoch 75/125\n",
            "7/7 [==============================] - 0s 7ms/step - loss: 5.7814 - accuracy: 0.3294 - val_loss: 7.1483 - val_accuracy: 0.4133\n",
            "Epoch 76/125\n",
            "7/7 [==============================] - 0s 7ms/step - loss: 5.7792 - accuracy: 0.3294 - val_loss: 7.1466 - val_accuracy: 0.4133\n",
            "Epoch 77/125\n",
            "7/7 [==============================] - 0s 7ms/step - loss: 5.7770 - accuracy: 0.3294 - val_loss: 7.1449 - val_accuracy: 0.4133\n",
            "Epoch 78/125\n",
            "7/7 [==============================] - 0s 9ms/step - loss: 5.7747 - accuracy: 0.3294 - val_loss: 7.1432 - val_accuracy: 0.4133\n",
            "Epoch 79/125\n",
            "7/7 [==============================] - 0s 7ms/step - loss: 5.7725 - accuracy: 0.3294 - val_loss: 7.1415 - val_accuracy: 0.4133\n",
            "Epoch 80/125\n",
            "7/7 [==============================] - 0s 7ms/step - loss: 5.7703 - accuracy: 0.3294 - val_loss: 7.1397 - val_accuracy: 0.4133\n",
            "Epoch 81/125\n",
            "7/7 [==============================] - 0s 6ms/step - loss: 5.7681 - accuracy: 0.3294 - val_loss: 7.1380 - val_accuracy: 0.4133\n",
            "Epoch 82/125\n",
            "7/7 [==============================] - 0s 6ms/step - loss: 5.7659 - accuracy: 0.3294 - val_loss: 7.1362 - val_accuracy: 0.4133\n",
            "Epoch 83/125\n",
            "7/7 [==============================] - 0s 6ms/step - loss: 5.7638 - accuracy: 0.3294 - val_loss: 7.1344 - val_accuracy: 0.4133\n",
            "Epoch 84/125\n",
            "7/7 [==============================] - 0s 7ms/step - loss: 5.7616 - accuracy: 0.3294 - val_loss: 7.1327 - val_accuracy: 0.4133\n",
            "Epoch 85/125\n",
            "7/7 [==============================] - 0s 7ms/step - loss: 5.7595 - accuracy: 0.3294 - val_loss: 7.1309 - val_accuracy: 0.4133\n",
            "Epoch 86/125\n",
            "7/7 [==============================] - 0s 8ms/step - loss: 5.7573 - accuracy: 0.3294 - val_loss: 7.1291 - val_accuracy: 0.4133\n",
            "Epoch 87/125\n",
            "7/7 [==============================] - 0s 7ms/step - loss: 5.7551 - accuracy: 0.3294 - val_loss: 7.1273 - val_accuracy: 0.4133\n",
            "Epoch 88/125\n",
            "7/7 [==============================] - 0s 7ms/step - loss: 5.7530 - accuracy: 0.3294 - val_loss: 7.1255 - val_accuracy: 0.4133\n",
            "Epoch 89/125\n",
            "7/7 [==============================] - 0s 6ms/step - loss: 5.7509 - accuracy: 0.3294 - val_loss: 7.1236 - val_accuracy: 0.4133\n",
            "Epoch 90/125\n",
            "7/7 [==============================] - 0s 7ms/step - loss: 5.7486 - accuracy: 0.3294 - val_loss: 7.1218 - val_accuracy: 0.4133\n",
            "Epoch 91/125\n",
            "7/7 [==============================] - 0s 7ms/step - loss: 5.7465 - accuracy: 0.3294 - val_loss: 7.1200 - val_accuracy: 0.4133\n",
            "Epoch 92/125\n",
            "7/7 [==============================] - 0s 6ms/step - loss: 5.7443 - accuracy: 0.3294 - val_loss: 7.1182 - val_accuracy: 0.4133\n",
            "Epoch 93/125\n",
            "7/7 [==============================] - 0s 6ms/step - loss: 5.7421 - accuracy: 0.3294 - val_loss: 7.1164 - val_accuracy: 0.4133\n",
            "Epoch 94/125\n",
            "7/7 [==============================] - 0s 7ms/step - loss: 5.7399 - accuracy: 0.3294 - val_loss: 7.1146 - val_accuracy: 0.4133\n",
            "Epoch 95/125\n",
            "7/7 [==============================] - 0s 7ms/step - loss: 5.7376 - accuracy: 0.3294 - val_loss: 7.1128 - val_accuracy: 0.4133\n",
            "Epoch 96/125\n",
            "7/7 [==============================] - 0s 8ms/step - loss: 5.7354 - accuracy: 0.3294 - val_loss: 7.1109 - val_accuracy: 0.4133\n",
            "Epoch 97/125\n",
            "7/7 [==============================] - 0s 8ms/step - loss: 5.7332 - accuracy: 0.3294 - val_loss: 7.1091 - val_accuracy: 0.4133\n",
            "Epoch 98/125\n",
            "7/7 [==============================] - 0s 7ms/step - loss: 5.7312 - accuracy: 0.3294 - val_loss: 7.1073 - val_accuracy: 0.4133\n",
            "Epoch 99/125\n",
            "7/7 [==============================] - 0s 7ms/step - loss: 5.7290 - accuracy: 0.3294 - val_loss: 7.1055 - val_accuracy: 0.4133\n",
            "Epoch 100/125\n",
            "7/7 [==============================] - 0s 9ms/step - loss: 5.7269 - accuracy: 0.3294 - val_loss: 7.1038 - val_accuracy: 0.4133\n",
            "Epoch 101/125\n",
            "7/7 [==============================] - 0s 10ms/step - loss: 5.7248 - accuracy: 0.3294 - val_loss: 7.1021 - val_accuracy: 0.4133\n",
            "Epoch 102/125\n",
            "7/7 [==============================] - 0s 7ms/step - loss: 5.7226 - accuracy: 0.3294 - val_loss: 7.1004 - val_accuracy: 0.4133\n",
            "Epoch 103/125\n",
            "7/7 [==============================] - 0s 7ms/step - loss: 5.7204 - accuracy: 0.3294 - val_loss: 7.0987 - val_accuracy: 0.4133\n",
            "Epoch 104/125\n",
            "7/7 [==============================] - 0s 7ms/step - loss: 5.7182 - accuracy: 0.3294 - val_loss: 7.0969 - val_accuracy: 0.4133\n",
            "Epoch 105/125\n",
            "7/7 [==============================] - 0s 7ms/step - loss: 5.7159 - accuracy: 0.3294 - val_loss: 7.0952 - val_accuracy: 0.4133\n",
            "Epoch 106/125\n",
            "7/7 [==============================] - 0s 7ms/step - loss: 5.7138 - accuracy: 0.3294 - val_loss: 7.0934 - val_accuracy: 0.4133\n",
            "Epoch 107/125\n",
            "7/7 [==============================] - 0s 10ms/step - loss: 5.7116 - accuracy: 0.3294 - val_loss: 7.0916 - val_accuracy: 0.4133\n",
            "Epoch 108/125\n",
            "7/7 [==============================] - 0s 7ms/step - loss: 5.7095 - accuracy: 0.3294 - val_loss: 7.0898 - val_accuracy: 0.4133\n",
            "Epoch 109/125\n",
            "7/7 [==============================] - 0s 8ms/step - loss: 5.7073 - accuracy: 0.3294 - val_loss: 7.0880 - val_accuracy: 0.4133\n",
            "Epoch 110/125\n",
            "7/7 [==============================] - 0s 6ms/step - loss: 5.7051 - accuracy: 0.3294 - val_loss: 7.0862 - val_accuracy: 0.4133\n",
            "Epoch 111/125\n",
            "7/7 [==============================] - 0s 7ms/step - loss: 5.7029 - accuracy: 0.3294 - val_loss: 7.0844 - val_accuracy: 0.4133\n",
            "Epoch 112/125\n",
            "7/7 [==============================] - 0s 8ms/step - loss: 5.7007 - accuracy: 0.3294 - val_loss: 7.0825 - val_accuracy: 0.4133\n",
            "Epoch 113/125\n",
            "7/7 [==============================] - 0s 7ms/step - loss: 5.6985 - accuracy: 0.3294 - val_loss: 7.0806 - val_accuracy: 0.4133\n",
            "Epoch 114/125\n",
            "7/7 [==============================] - 0s 8ms/step - loss: 5.6962 - accuracy: 0.3294 - val_loss: 7.0788 - val_accuracy: 0.4133\n",
            "Epoch 115/125\n",
            "7/7 [==============================] - 0s 10ms/step - loss: 5.6941 - accuracy: 0.3294 - val_loss: 7.0771 - val_accuracy: 0.4133\n",
            "Epoch 116/125\n",
            "7/7 [==============================] - 0s 7ms/step - loss: 5.6921 - accuracy: 0.3294 - val_loss: 7.0753 - val_accuracy: 0.4133\n",
            "Epoch 117/125\n",
            "7/7 [==============================] - 0s 7ms/step - loss: 5.6901 - accuracy: 0.3294 - val_loss: 7.0735 - val_accuracy: 0.4133\n",
            "Epoch 118/125\n",
            "7/7 [==============================] - 0s 7ms/step - loss: 5.6880 - accuracy: 0.3294 - val_loss: 7.0718 - val_accuracy: 0.4133\n",
            "Epoch 119/125\n",
            "7/7 [==============================] - 0s 7ms/step - loss: 5.6861 - accuracy: 0.3294 - val_loss: 7.0700 - val_accuracy: 0.4133\n",
            "Epoch 120/125\n",
            "7/7 [==============================] - 0s 7ms/step - loss: 5.6841 - accuracy: 0.3294 - val_loss: 7.0682 - val_accuracy: 0.4133\n",
            "Epoch 121/125\n",
            "7/7 [==============================] - 0s 7ms/step - loss: 5.6821 - accuracy: 0.3294 - val_loss: 7.0664 - val_accuracy: 0.4133\n",
            "Epoch 122/125\n",
            "7/7 [==============================] - 0s 7ms/step - loss: 5.6802 - accuracy: 0.3294 - val_loss: 7.0646 - val_accuracy: 0.4133\n",
            "Epoch 123/125\n",
            "7/7 [==============================] - 0s 7ms/step - loss: 5.6783 - accuracy: 0.3294 - val_loss: 7.0629 - val_accuracy: 0.4133\n",
            "Epoch 124/125\n",
            "7/7 [==============================] - 0s 10ms/step - loss: 5.6765 - accuracy: 0.3294 - val_loss: 7.0611 - val_accuracy: 0.4133\n",
            "Epoch 125/125\n",
            "7/7 [==============================] - 0s 8ms/step - loss: 5.6746 - accuracy: 0.3294 - val_loss: 7.0593 - val_accuracy: 0.4133\n",
            "16/16 - 0s - loss: 5.6456 - accuracy: 0.3260 - 40ms/epoch - 3ms/step\n"
          ]
        }
      ],
      "source": [
        "#@title\n",
        "### START CODE HERE ### ()\n",
        "lr=0.001\n",
        "batch_size=64 # since the validation=.15 , then the train will be 500*.85=\n",
        "history=fit_model(X_train, y_train, X_test, y_test, batch_size,lr)\n"
      ]
    },
    {
      "cell_type": "code",
      "execution_count": 205,
      "id": "53bf0abf-a145-4081-aa0b-e4ffe73c9357",
      "metadata": {
        "id": "53bf0abf-a145-4081-aa0b-e4ffe73c9357",
        "colab": {
          "base_uri": "https://localhost:8080/",
          "height": 463
        },
        "outputId": "7df1efc9-69ea-4e1e-bfb7-0a74820d8e41"
      },
      "outputs": [
        {
          "output_type": "display_data",
          "data": {
            "text/plain": [
              "<Figure size 720x360 with 1 Axes>"
            ],
            "image/svg+xml": "<?xml version=\"1.0\" encoding=\"utf-8\" standalone=\"no\"?>\n<!DOCTYPE svg PUBLIC \"-//W3C//DTD SVG 1.1//EN\"\n  \"http://www.w3.org/Graphics/SVG/1.1/DTD/svg11.dtd\">\n<!-- Created with matplotlib (https://matplotlib.org/) -->\n<svg height=\"331.674375pt\" version=\"1.1\" viewBox=\"0 0 605.803125 331.674375\" width=\"605.803125pt\" xmlns=\"http://www.w3.org/2000/svg\" xmlns:xlink=\"http://www.w3.org/1999/xlink\">\n <defs>\n  <style type=\"text/css\">\n*{stroke-linecap:butt;stroke-linejoin:round;}\n  </style>\n </defs>\n <g id=\"figure_1\">\n  <g id=\"patch_1\">\n   <path d=\"M 0 331.674375 \nL 605.803125 331.674375 \nL 605.803125 0 \nL 0 0 \nz\n\" style=\"fill:none;\"/>\n  </g>\n  <g id=\"axes_1\">\n   <g id=\"patch_2\">\n    <path d=\"M 40.603125 294.118125 \nL 598.603125 294.118125 \nL 598.603125 22.318125 \nL 40.603125 22.318125 \nz\n\" style=\"fill:#ffffff;\"/>\n   </g>\n   <g id=\"matplotlib.axis_1\">\n    <g id=\"xtick_1\">\n     <g id=\"line2d_1\">\n      <defs>\n       <path d=\"M 0 0 \nL 0 3.5 \n\" id=\"mf2d6098b48\" style=\"stroke:#000000;stroke-width:0.8;\"/>\n      </defs>\n      <g>\n       <use style=\"stroke:#000000;stroke-width:0.8;\" x=\"65.966761\" xlink:href=\"#mf2d6098b48\" y=\"294.118125\"/>\n      </g>\n     </g>\n     <g id=\"text_1\">\n      <!-- 0 -->\n      <defs>\n       <path d=\"M 31.78125 66.40625 \nQ 24.171875 66.40625 20.328125 58.90625 \nQ 16.5 51.421875 16.5 36.375 \nQ 16.5 21.390625 20.328125 13.890625 \nQ 24.171875 6.390625 31.78125 6.390625 \nQ 39.453125 6.390625 43.28125 13.890625 \nQ 47.125 21.390625 47.125 36.375 \nQ 47.125 51.421875 43.28125 58.90625 \nQ 39.453125 66.40625 31.78125 66.40625 \nz\nM 31.78125 74.21875 \nQ 44.046875 74.21875 50.515625 64.515625 \nQ 56.984375 54.828125 56.984375 36.375 \nQ 56.984375 17.96875 50.515625 8.265625 \nQ 44.046875 -1.421875 31.78125 -1.421875 \nQ 19.53125 -1.421875 13.0625 8.265625 \nQ 6.59375 17.96875 6.59375 36.375 \nQ 6.59375 54.828125 13.0625 64.515625 \nQ 19.53125 74.21875 31.78125 74.21875 \nz\n\" id=\"DejaVuSans-48\"/>\n      </defs>\n      <g transform=\"translate(62.785511 308.716563)scale(0.1 -0.1)\">\n       <use xlink:href=\"#DejaVuSans-48\"/>\n      </g>\n     </g>\n    </g>\n    <g id=\"xtick_2\">\n     <g id=\"line2d_2\">\n      <g>\n       <use style=\"stroke:#000000;stroke-width:0.8;\" x=\"147.784943\" xlink:href=\"#mf2d6098b48\" y=\"294.118125\"/>\n      </g>\n     </g>\n     <g id=\"text_2\">\n      <!-- 20 -->\n      <defs>\n       <path d=\"M 19.1875 8.296875 \nL 53.609375 8.296875 \nL 53.609375 0 \nL 7.328125 0 \nL 7.328125 8.296875 \nQ 12.9375 14.109375 22.625 23.890625 \nQ 32.328125 33.6875 34.8125 36.53125 \nQ 39.546875 41.84375 41.421875 45.53125 \nQ 43.3125 49.21875 43.3125 52.78125 \nQ 43.3125 58.59375 39.234375 62.25 \nQ 35.15625 65.921875 28.609375 65.921875 \nQ 23.96875 65.921875 18.8125 64.3125 \nQ 13.671875 62.703125 7.8125 59.421875 \nL 7.8125 69.390625 \nQ 13.765625 71.78125 18.9375 73 \nQ 24.125 74.21875 28.421875 74.21875 \nQ 39.75 74.21875 46.484375 68.546875 \nQ 53.21875 62.890625 53.21875 53.421875 \nQ 53.21875 48.921875 51.53125 44.890625 \nQ 49.859375 40.875 45.40625 35.40625 \nQ 44.1875 33.984375 37.640625 27.21875 \nQ 31.109375 20.453125 19.1875 8.296875 \nz\n\" id=\"DejaVuSans-50\"/>\n      </defs>\n      <g transform=\"translate(141.422443 308.716563)scale(0.1 -0.1)\">\n       <use xlink:href=\"#DejaVuSans-50\"/>\n       <use x=\"63.623047\" xlink:href=\"#DejaVuSans-48\"/>\n      </g>\n     </g>\n    </g>\n    <g id=\"xtick_3\">\n     <g id=\"line2d_3\">\n      <g>\n       <use style=\"stroke:#000000;stroke-width:0.8;\" x=\"229.603125\" xlink:href=\"#mf2d6098b48\" y=\"294.118125\"/>\n      </g>\n     </g>\n     <g id=\"text_3\">\n      <!-- 40 -->\n      <defs>\n       <path d=\"M 37.796875 64.3125 \nL 12.890625 25.390625 \nL 37.796875 25.390625 \nz\nM 35.203125 72.90625 \nL 47.609375 72.90625 \nL 47.609375 25.390625 \nL 58.015625 25.390625 \nL 58.015625 17.1875 \nL 47.609375 17.1875 \nL 47.609375 0 \nL 37.796875 0 \nL 37.796875 17.1875 \nL 4.890625 17.1875 \nL 4.890625 26.703125 \nz\n\" id=\"DejaVuSans-52\"/>\n      </defs>\n      <g transform=\"translate(223.240625 308.716563)scale(0.1 -0.1)\">\n       <use xlink:href=\"#DejaVuSans-52\"/>\n       <use x=\"63.623047\" xlink:href=\"#DejaVuSans-48\"/>\n      </g>\n     </g>\n    </g>\n    <g id=\"xtick_4\">\n     <g id=\"line2d_4\">\n      <g>\n       <use style=\"stroke:#000000;stroke-width:0.8;\" x=\"311.421307\" xlink:href=\"#mf2d6098b48\" y=\"294.118125\"/>\n      </g>\n     </g>\n     <g id=\"text_4\">\n      <!-- 60 -->\n      <defs>\n       <path d=\"M 33.015625 40.375 \nQ 26.375 40.375 22.484375 35.828125 \nQ 18.609375 31.296875 18.609375 23.390625 \nQ 18.609375 15.53125 22.484375 10.953125 \nQ 26.375 6.390625 33.015625 6.390625 \nQ 39.65625 6.390625 43.53125 10.953125 \nQ 47.40625 15.53125 47.40625 23.390625 \nQ 47.40625 31.296875 43.53125 35.828125 \nQ 39.65625 40.375 33.015625 40.375 \nz\nM 52.59375 71.296875 \nL 52.59375 62.3125 \nQ 48.875 64.0625 45.09375 64.984375 \nQ 41.3125 65.921875 37.59375 65.921875 \nQ 27.828125 65.921875 22.671875 59.328125 \nQ 17.53125 52.734375 16.796875 39.40625 \nQ 19.671875 43.65625 24.015625 45.921875 \nQ 28.375 48.1875 33.59375 48.1875 \nQ 44.578125 48.1875 50.953125 41.515625 \nQ 57.328125 34.859375 57.328125 23.390625 \nQ 57.328125 12.15625 50.6875 5.359375 \nQ 44.046875 -1.421875 33.015625 -1.421875 \nQ 20.359375 -1.421875 13.671875 8.265625 \nQ 6.984375 17.96875 6.984375 36.375 \nQ 6.984375 53.65625 15.1875 63.9375 \nQ 23.390625 74.21875 37.203125 74.21875 \nQ 40.921875 74.21875 44.703125 73.484375 \nQ 48.484375 72.75 52.59375 71.296875 \nz\n\" id=\"DejaVuSans-54\"/>\n      </defs>\n      <g transform=\"translate(305.058807 308.716563)scale(0.1 -0.1)\">\n       <use xlink:href=\"#DejaVuSans-54\"/>\n       <use x=\"63.623047\" xlink:href=\"#DejaVuSans-48\"/>\n      </g>\n     </g>\n    </g>\n    <g id=\"xtick_5\">\n     <g id=\"line2d_5\">\n      <g>\n       <use style=\"stroke:#000000;stroke-width:0.8;\" x=\"393.239489\" xlink:href=\"#mf2d6098b48\" y=\"294.118125\"/>\n      </g>\n     </g>\n     <g id=\"text_5\">\n      <!-- 80 -->\n      <defs>\n       <path d=\"M 31.78125 34.625 \nQ 24.75 34.625 20.71875 30.859375 \nQ 16.703125 27.09375 16.703125 20.515625 \nQ 16.703125 13.921875 20.71875 10.15625 \nQ 24.75 6.390625 31.78125 6.390625 \nQ 38.8125 6.390625 42.859375 10.171875 \nQ 46.921875 13.96875 46.921875 20.515625 \nQ 46.921875 27.09375 42.890625 30.859375 \nQ 38.875 34.625 31.78125 34.625 \nz\nM 21.921875 38.8125 \nQ 15.578125 40.375 12.03125 44.71875 \nQ 8.5 49.078125 8.5 55.328125 \nQ 8.5 64.0625 14.71875 69.140625 \nQ 20.953125 74.21875 31.78125 74.21875 \nQ 42.671875 74.21875 48.875 69.140625 \nQ 55.078125 64.0625 55.078125 55.328125 \nQ 55.078125 49.078125 51.53125 44.71875 \nQ 48 40.375 41.703125 38.8125 \nQ 48.828125 37.15625 52.796875 32.3125 \nQ 56.78125 27.484375 56.78125 20.515625 \nQ 56.78125 9.90625 50.3125 4.234375 \nQ 43.84375 -1.421875 31.78125 -1.421875 \nQ 19.734375 -1.421875 13.25 4.234375 \nQ 6.78125 9.90625 6.78125 20.515625 \nQ 6.78125 27.484375 10.78125 32.3125 \nQ 14.796875 37.15625 21.921875 38.8125 \nz\nM 18.3125 54.390625 \nQ 18.3125 48.734375 21.84375 45.5625 \nQ 25.390625 42.390625 31.78125 42.390625 \nQ 38.140625 42.390625 41.71875 45.5625 \nQ 45.3125 48.734375 45.3125 54.390625 \nQ 45.3125 60.0625 41.71875 63.234375 \nQ 38.140625 66.40625 31.78125 66.40625 \nQ 25.390625 66.40625 21.84375 63.234375 \nQ 18.3125 60.0625 18.3125 54.390625 \nz\n\" id=\"DejaVuSans-56\"/>\n      </defs>\n      <g transform=\"translate(386.876989 308.716563)scale(0.1 -0.1)\">\n       <use xlink:href=\"#DejaVuSans-56\"/>\n       <use x=\"63.623047\" xlink:href=\"#DejaVuSans-48\"/>\n      </g>\n     </g>\n    </g>\n    <g id=\"xtick_6\">\n     <g id=\"line2d_6\">\n      <g>\n       <use style=\"stroke:#000000;stroke-width:0.8;\" x=\"475.05767\" xlink:href=\"#mf2d6098b48\" y=\"294.118125\"/>\n      </g>\n     </g>\n     <g id=\"text_6\">\n      <!-- 100 -->\n      <defs>\n       <path d=\"M 12.40625 8.296875 \nL 28.515625 8.296875 \nL 28.515625 63.921875 \nL 10.984375 60.40625 \nL 10.984375 69.390625 \nL 28.421875 72.90625 \nL 38.28125 72.90625 \nL 38.28125 8.296875 \nL 54.390625 8.296875 \nL 54.390625 0 \nL 12.40625 0 \nz\n\" id=\"DejaVuSans-49\"/>\n      </defs>\n      <g transform=\"translate(465.51392 308.716563)scale(0.1 -0.1)\">\n       <use xlink:href=\"#DejaVuSans-49\"/>\n       <use x=\"63.623047\" xlink:href=\"#DejaVuSans-48\"/>\n       <use x=\"127.246094\" xlink:href=\"#DejaVuSans-48\"/>\n      </g>\n     </g>\n    </g>\n    <g id=\"xtick_7\">\n     <g id=\"line2d_7\">\n      <g>\n       <use style=\"stroke:#000000;stroke-width:0.8;\" x=\"556.875852\" xlink:href=\"#mf2d6098b48\" y=\"294.118125\"/>\n      </g>\n     </g>\n     <g id=\"text_7\">\n      <!-- 120 -->\n      <g transform=\"translate(547.332102 308.716563)scale(0.1 -0.1)\">\n       <use xlink:href=\"#DejaVuSans-49\"/>\n       <use x=\"63.623047\" xlink:href=\"#DejaVuSans-50\"/>\n       <use x=\"127.246094\" xlink:href=\"#DejaVuSans-48\"/>\n      </g>\n     </g>\n    </g>\n    <g id=\"text_8\">\n     <!-- Epoch -->\n     <defs>\n      <path d=\"M 9.8125 72.90625 \nL 55.90625 72.90625 \nL 55.90625 64.59375 \nL 19.671875 64.59375 \nL 19.671875 43.015625 \nL 54.390625 43.015625 \nL 54.390625 34.71875 \nL 19.671875 34.71875 \nL 19.671875 8.296875 \nL 56.78125 8.296875 \nL 56.78125 0 \nL 9.8125 0 \nz\n\" id=\"DejaVuSans-69\"/>\n      <path d=\"M 18.109375 8.203125 \nL 18.109375 -20.796875 \nL 9.078125 -20.796875 \nL 9.078125 54.6875 \nL 18.109375 54.6875 \nL 18.109375 46.390625 \nQ 20.953125 51.265625 25.265625 53.625 \nQ 29.59375 56 35.59375 56 \nQ 45.5625 56 51.78125 48.09375 \nQ 58.015625 40.1875 58.015625 27.296875 \nQ 58.015625 14.40625 51.78125 6.484375 \nQ 45.5625 -1.421875 35.59375 -1.421875 \nQ 29.59375 -1.421875 25.265625 0.953125 \nQ 20.953125 3.328125 18.109375 8.203125 \nz\nM 48.6875 27.296875 \nQ 48.6875 37.203125 44.609375 42.84375 \nQ 40.53125 48.484375 33.40625 48.484375 \nQ 26.265625 48.484375 22.1875 42.84375 \nQ 18.109375 37.203125 18.109375 27.296875 \nQ 18.109375 17.390625 22.1875 11.75 \nQ 26.265625 6.109375 33.40625 6.109375 \nQ 40.53125 6.109375 44.609375 11.75 \nQ 48.6875 17.390625 48.6875 27.296875 \nz\n\" id=\"DejaVuSans-112\"/>\n      <path d=\"M 30.609375 48.390625 \nQ 23.390625 48.390625 19.1875 42.75 \nQ 14.984375 37.109375 14.984375 27.296875 \nQ 14.984375 17.484375 19.15625 11.84375 \nQ 23.34375 6.203125 30.609375 6.203125 \nQ 37.796875 6.203125 41.984375 11.859375 \nQ 46.1875 17.53125 46.1875 27.296875 \nQ 46.1875 37.015625 41.984375 42.703125 \nQ 37.796875 48.390625 30.609375 48.390625 \nz\nM 30.609375 56 \nQ 42.328125 56 49.015625 48.375 \nQ 55.71875 40.765625 55.71875 27.296875 \nQ 55.71875 13.875 49.015625 6.21875 \nQ 42.328125 -1.421875 30.609375 -1.421875 \nQ 18.84375 -1.421875 12.171875 6.21875 \nQ 5.515625 13.875 5.515625 27.296875 \nQ 5.515625 40.765625 12.171875 48.375 \nQ 18.84375 56 30.609375 56 \nz\n\" id=\"DejaVuSans-111\"/>\n      <path d=\"M 48.78125 52.59375 \nL 48.78125 44.1875 \nQ 44.96875 46.296875 41.140625 47.34375 \nQ 37.3125 48.390625 33.40625 48.390625 \nQ 24.65625 48.390625 19.8125 42.84375 \nQ 14.984375 37.3125 14.984375 27.296875 \nQ 14.984375 17.28125 19.8125 11.734375 \nQ 24.65625 6.203125 33.40625 6.203125 \nQ 37.3125 6.203125 41.140625 7.25 \nQ 44.96875 8.296875 48.78125 10.40625 \nL 48.78125 2.09375 \nQ 45.015625 0.34375 40.984375 -0.53125 \nQ 36.96875 -1.421875 32.421875 -1.421875 \nQ 20.0625 -1.421875 12.78125 6.34375 \nQ 5.515625 14.109375 5.515625 27.296875 \nQ 5.515625 40.671875 12.859375 48.328125 \nQ 20.21875 56 33.015625 56 \nQ 37.15625 56 41.109375 55.140625 \nQ 45.0625 54.296875 48.78125 52.59375 \nz\n\" id=\"DejaVuSans-99\"/>\n      <path d=\"M 54.890625 33.015625 \nL 54.890625 0 \nL 45.90625 0 \nL 45.90625 32.71875 \nQ 45.90625 40.484375 42.875 44.328125 \nQ 39.84375 48.1875 33.796875 48.1875 \nQ 26.515625 48.1875 22.3125 43.546875 \nQ 18.109375 38.921875 18.109375 30.90625 \nL 18.109375 0 \nL 9.078125 0 \nL 9.078125 75.984375 \nL 18.109375 75.984375 \nL 18.109375 46.1875 \nQ 21.34375 51.125 25.703125 53.5625 \nQ 30.078125 56 35.796875 56 \nQ 45.21875 56 50.046875 50.171875 \nQ 54.890625 44.34375 54.890625 33.015625 \nz\n\" id=\"DejaVuSans-104\"/>\n     </defs>\n     <g transform=\"translate(304.292187 322.394687)scale(0.1 -0.1)\">\n      <use xlink:href=\"#DejaVuSans-69\"/>\n      <use x=\"63.183594\" xlink:href=\"#DejaVuSans-112\"/>\n      <use x=\"126.660156\" xlink:href=\"#DejaVuSans-111\"/>\n      <use x=\"187.841797\" xlink:href=\"#DejaVuSans-99\"/>\n      <use x=\"242.822266\" xlink:href=\"#DejaVuSans-104\"/>\n     </g>\n    </g>\n   </g>\n   <g id=\"matplotlib.axis_2\">\n    <g id=\"ytick_1\">\n     <g id=\"line2d_8\">\n      <defs>\n       <path d=\"M 0 0 \nL -3.5 0 \n\" id=\"me9d1688881\" style=\"stroke:#000000;stroke-width:0.8;\"/>\n      </defs>\n      <g>\n       <use style=\"stroke:#000000;stroke-width:0.8;\" x=\"40.603125\" xlink:href=\"#me9d1688881\" y=\"291.370868\"/>\n      </g>\n     </g>\n     <g id=\"text_9\">\n      <!-- 2 -->\n      <g transform=\"translate(27.240625 295.170086)scale(0.1 -0.1)\">\n       <use xlink:href=\"#DejaVuSans-50\"/>\n      </g>\n     </g>\n    </g>\n    <g id=\"ytick_2\">\n     <g id=\"line2d_9\">\n      <g>\n       <use style=\"stroke:#000000;stroke-width:0.8;\" x=\"40.603125\" xlink:href=\"#me9d1688881\" y=\"241.28677\"/>\n      </g>\n     </g>\n     <g id=\"text_10\">\n      <!-- 4 -->\n      <g transform=\"translate(27.240625 245.085988)scale(0.1 -0.1)\">\n       <use xlink:href=\"#DejaVuSans-52\"/>\n      </g>\n     </g>\n    </g>\n    <g id=\"ytick_3\">\n     <g id=\"line2d_10\">\n      <g>\n       <use style=\"stroke:#000000;stroke-width:0.8;\" x=\"40.603125\" xlink:href=\"#me9d1688881\" y=\"191.202672\"/>\n      </g>\n     </g>\n     <g id=\"text_11\">\n      <!-- 6 -->\n      <g transform=\"translate(27.240625 195.00189)scale(0.1 -0.1)\">\n       <use xlink:href=\"#DejaVuSans-54\"/>\n      </g>\n     </g>\n    </g>\n    <g id=\"ytick_4\">\n     <g id=\"line2d_11\">\n      <g>\n       <use style=\"stroke:#000000;stroke-width:0.8;\" x=\"40.603125\" xlink:href=\"#me9d1688881\" y=\"141.118574\"/>\n      </g>\n     </g>\n     <g id=\"text_12\">\n      <!-- 8 -->\n      <g transform=\"translate(27.240625 144.917792)scale(0.1 -0.1)\">\n       <use xlink:href=\"#DejaVuSans-56\"/>\n      </g>\n     </g>\n    </g>\n    <g id=\"ytick_5\">\n     <g id=\"line2d_12\">\n      <g>\n       <use style=\"stroke:#000000;stroke-width:0.8;\" x=\"40.603125\" xlink:href=\"#me9d1688881\" y=\"91.034476\"/>\n      </g>\n     </g>\n     <g id=\"text_13\">\n      <!-- 10 -->\n      <g transform=\"translate(20.878125 94.833694)scale(0.1 -0.1)\">\n       <use xlink:href=\"#DejaVuSans-49\"/>\n       <use x=\"63.623047\" xlink:href=\"#DejaVuSans-48\"/>\n      </g>\n     </g>\n    </g>\n    <g id=\"ytick_6\">\n     <g id=\"line2d_13\">\n      <g>\n       <use style=\"stroke:#000000;stroke-width:0.8;\" x=\"40.603125\" xlink:href=\"#me9d1688881\" y=\"40.950378\"/>\n      </g>\n     </g>\n     <g id=\"text_14\">\n      <!-- 12 -->\n      <g transform=\"translate(20.878125 44.749596)scale(0.1 -0.1)\">\n       <use xlink:href=\"#DejaVuSans-49\"/>\n       <use x=\"63.623047\" xlink:href=\"#DejaVuSans-50\"/>\n      </g>\n     </g>\n    </g>\n    <g id=\"text_15\">\n     <!-- Loss -->\n     <defs>\n      <path d=\"M 9.8125 72.90625 \nL 19.671875 72.90625 \nL 19.671875 8.296875 \nL 55.171875 8.296875 \nL 55.171875 0 \nL 9.8125 0 \nz\n\" id=\"DejaVuSans-76\"/>\n      <path d=\"M 44.28125 53.078125 \nL 44.28125 44.578125 \nQ 40.484375 46.53125 36.375 47.5 \nQ 32.28125 48.484375 27.875 48.484375 \nQ 21.1875 48.484375 17.84375 46.4375 \nQ 14.5 44.390625 14.5 40.28125 \nQ 14.5 37.15625 16.890625 35.375 \nQ 19.28125 33.59375 26.515625 31.984375 \nL 29.59375 31.296875 \nQ 39.15625 29.25 43.1875 25.515625 \nQ 47.21875 21.78125 47.21875 15.09375 \nQ 47.21875 7.46875 41.1875 3.015625 \nQ 35.15625 -1.421875 24.609375 -1.421875 \nQ 20.21875 -1.421875 15.453125 -0.5625 \nQ 10.6875 0.296875 5.421875 2 \nL 5.421875 11.28125 \nQ 10.40625 8.6875 15.234375 7.390625 \nQ 20.0625 6.109375 24.8125 6.109375 \nQ 31.15625 6.109375 34.5625 8.28125 \nQ 37.984375 10.453125 37.984375 14.40625 \nQ 37.984375 18.0625 35.515625 20.015625 \nQ 33.0625 21.96875 24.703125 23.78125 \nL 21.578125 24.515625 \nQ 13.234375 26.265625 9.515625 29.90625 \nQ 5.8125 33.546875 5.8125 39.890625 \nQ 5.8125 47.609375 11.28125 51.796875 \nQ 16.75 56 26.8125 56 \nQ 31.78125 56 36.171875 55.265625 \nQ 40.578125 54.546875 44.28125 53.078125 \nz\n\" id=\"DejaVuSans-115\"/>\n     </defs>\n     <g transform=\"translate(14.798437 169.185313)rotate(-90)scale(0.1 -0.1)\">\n      <use xlink:href=\"#DejaVuSans-76\"/>\n      <use x=\"53.962891\" xlink:href=\"#DejaVuSans-111\"/>\n      <use x=\"115.144531\" xlink:href=\"#DejaVuSans-115\"/>\n      <use x=\"167.244141\" xlink:href=\"#DejaVuSans-115\"/>\n     </g>\n    </g>\n   </g>\n   <g id=\"line2d_14\">\n    <path clip-path=\"url(#p322463cad6)\" d=\"M 65.966761 233.489955 \nL 70.05767 233.621365 \nL 74.14858 234.706168 \nL 78.239489 234.760547 \nL 82.330398 234.795247 \nL 86.421307 235.540006 \nL 90.512216 234.795044 \nL 94.603125 239.560606 \nL 98.694034 238.643216 \nL 102.784943 238.659718 \nL 106.875852 235.832668 \nL 110.966761 233.952214 \nL 115.05767 234.924067 \nL 119.14858 234.944462 \nL 123.239489 234.032446 \nL 127.330398 235.007009 \nL 131.421307 234.073439 \nL 135.512216 233.140622 \nL 139.603125 232.204508 \nL 143.694034 229.365624 \nL 147.784943 230.322598 \nL 151.875852 229.382449 \nL 155.966761 228.438539 \nL 160.05767 124.072396 \nL 164.14858 75.557104 \nL 168.239489 75.678902 \nL 172.330398 75.855867 \nL 176.421307 76.41855 \nL 180.512216 77.514326 \nL 184.603125 79.336997 \nL 188.694034 82.000265 \nL 192.784943 86.012649 \nL 196.875852 91.955364 \nL 200.966761 106.167948 \nL 205.05767 144.00195 \nL 209.14858 191.584735 \nL 213.239489 193.616278 \nL 217.330398 194.224217 \nL 221.421307 194.528521 \nL 225.512216 194.668422 \nL 229.603125 194.769371 \nL 233.694034 194.840467 \nL 237.784943 194.904614 \nL 241.875852 194.960534 \nL 245.966761 195.015856 \nL 250.05767 195.069543 \nL 254.14858 195.122597 \nL 258.239489 195.175794 \nL 262.330398 195.228645 \nL 266.421307 195.282546 \nL 270.512216 195.335027 \nL 274.603125 195.39054 \nL 278.694034 195.442937 \nL 282.784943 195.498976 \nL 286.875852 195.552997 \nL 290.966761 195.607818 \nL 295.05767 195.663284 \nL 299.14858 195.71887 \nL 303.239489 195.774634 \nL 307.330398 195.833467 \nL 311.421307 195.888873 \nL 315.512216 195.946966 \nL 319.603125 196.003316 \nL 323.694034 196.06228 \nL 327.784943 196.11943 \nL 331.875852 196.177367 \nL 335.966761 196.233418 \nL 340.05767 196.292228 \nL 344.14858 196.346774 \nL 348.239489 196.402921 \nL 352.330398 196.457694 \nL 356.421307 196.513088 \nL 360.512216 196.566942 \nL 364.603125 196.621942 \nL 368.694034 196.677468 \nL 372.784943 196.731489 \nL 376.875852 196.787563 \nL 380.966761 196.843937 \nL 385.05767 196.900203 \nL 389.14858 196.955752 \nL 393.239489 197.009845 \nL 397.330398 197.064284 \nL 401.421307 197.116657 \nL 405.512216 197.171478 \nL 409.603125 197.225714 \nL 413.694034 197.279926 \nL 417.784943 197.335296 \nL 421.875852 197.388971 \nL 425.966761 197.441547 \nL 430.05767 197.498613 \nL 434.14858 197.55052 \nL 438.239489 197.60632 \nL 442.330398 197.660306 \nL 446.421307 197.716739 \nL 450.512216 197.77384 \nL 454.603125 197.828888 \nL 458.694034 197.883268 \nL 462.784943 197.93465 \nL 466.875852 197.988109 \nL 470.966761 198.041701 \nL 475.05767 198.095375 \nL 479.14858 198.150316 \nL 483.239489 198.204802 \nL 487.330398 198.260495 \nL 491.421307 198.31694 \nL 495.512216 198.370878 \nL 499.603125 198.425316 \nL 503.694034 198.478155 \nL 507.784943 198.533729 \nL 511.875852 198.58757 \nL 515.966761 198.643048 \nL 520.05767 198.698825 \nL 524.14858 198.753693 \nL 528.239489 198.810485 \nL 532.330398 198.863527 \nL 536.421307 198.913022 \nL 540.512216 198.963174 \nL 544.603125 199.014735 \nL 548.694034 199.064278 \nL 552.784943 199.113177 \nL 556.875852 199.163854 \nL 560.966761 199.211188 \nL 565.05767 199.25808 \nL 569.14858 199.30471 \nL 573.239489 199.350635 \n\" style=\"fill:none;stroke:#1f77b4;stroke-linecap:square;stroke-width:1.5;\"/>\n   </g>\n   <g id=\"line2d_15\">\n    <path clip-path=\"url(#p322463cad6)\" d=\"M 65.966761 276.163087 \nL 70.05767 276.342279 \nL 74.14858 276.425818 \nL 78.239489 276.478538 \nL 82.330398 280.621467 \nL 86.421307 280.967116 \nL 90.512216 281.187762 \nL 94.603125 281.305768 \nL 98.694034 281.37145 \nL 102.784943 281.428295 \nL 106.875852 281.466094 \nL 110.966761 281.516479 \nL 115.05767 281.56044 \nL 119.14858 281.59708 \nL 123.239489 281.631841 \nL 127.330398 281.682524 \nL 131.421307 281.728533 \nL 135.512216 281.76358 \nL 139.603125 271.036287 \nL 143.694034 271.056981 \nL 147.784943 260.318816 \nL 151.875852 265.722318 \nL 155.966761 265.734218 \nL 160.05767 34.67267 \nL 164.14858 34.684779 \nL 168.239489 34.684946 \nL 172.330398 34.684898 \nL 176.421307 37.06507 \nL 180.512216 37.945526 \nL 184.603125 38.273425 \nL 188.694034 46.889224 \nL 192.784943 55.820073 \nL 196.875852 64.991534 \nL 200.966761 77.454979 \nL 205.05767 154.439584 \nL 209.14858 158.677784 \nL 213.239489 159.801597 \nL 217.330398 160.261659 \nL 221.421307 160.488335 \nL 225.512216 160.619984 \nL 229.603125 160.707822 \nL 233.694034 160.776781 \nL 237.784943 160.83528 \nL 241.875852 160.890053 \nL 245.966761 160.942403 \nL 250.05767 160.994024 \nL 254.14858 161.04543 \nL 258.239489 161.096573 \nL 262.330398 161.147561 \nL 266.421307 161.198919 \nL 270.512216 161.251113 \nL 274.603125 161.302041 \nL 278.694034 161.354211 \nL 282.784943 161.405044 \nL 286.875852 161.456844 \nL 290.966761 161.509038 \nL 295.05767 161.561244 \nL 299.14858 161.614644 \nL 303.239489 161.668486 \nL 307.330398 161.721468 \nL 311.421307 161.775859 \nL 315.512216 161.830274 \nL 319.603125 161.884582 \nL 323.694034 161.93551 \nL 327.784943 161.984743 \nL 331.875852 162.03425 \nL 335.966761 162.083387 \nL 340.05767 162.131032 \nL 344.14858 162.179452 \nL 348.239489 162.227121 \nL 352.330398 162.272974 \nL 356.421307 162.316236 \nL 360.512216 162.359546 \nL 364.603125 162.403191 \nL 368.694034 162.445927 \nL 372.784943 162.489058 \nL 376.875852 162.530875 \nL 380.966761 162.574114 \nL 385.05767 162.617448 \nL 389.14858 162.661378 \nL 393.239489 162.705094 \nL 397.330398 162.749336 \nL 401.421307 162.794067 \nL 405.512216 162.837675 \nL 409.603125 162.882346 \nL 413.694034 162.927853 \nL 417.784943 162.973098 \nL 421.875852 163.018402 \nL 425.966761 163.064601 \nL 430.05767 163.10944 \nL 434.14858 163.156022 \nL 438.239489 163.20129 \nL 442.330398 163.24651 \nL 446.421307 163.291444 \nL 450.512216 163.336665 \nL 454.603125 163.382721 \nL 458.694034 163.427942 \nL 462.784943 163.474428 \nL 466.875852 163.518311 \nL 470.966761 163.561119 \nL 475.05767 163.60302 \nL 479.14858 163.646067 \nL 483.239489 163.689986 \nL 487.330398 163.733738 \nL 491.421307 163.777776 \nL 495.512216 163.821839 \nL 499.603125 163.86645 \nL 503.694034 163.911157 \nL 507.784943 163.956401 \nL 511.875852 164.001873 \nL 515.966761 164.047296 \nL 520.05767 164.094057 \nL 524.14858 164.141809 \nL 528.239489 164.188522 \nL 532.330398 164.230913 \nL 536.421307 164.275321 \nL 540.512216 164.319945 \nL 544.603125 164.363207 \nL 548.694034 164.408391 \nL 552.784943 164.453588 \nL 556.875852 164.497794 \nL 560.966761 164.542178 \nL 565.05767 164.586181 \nL 569.14858 164.630768 \nL 573.239489 164.675428 \n\" style=\"fill:none;stroke:#ff7f0e;stroke-linecap:square;stroke-width:1.5;\"/>\n   </g>\n   <g id=\"patch_3\">\n    <path d=\"M 40.603125 294.118125 \nL 40.603125 22.318125 \n\" style=\"fill:none;stroke:#000000;stroke-linecap:square;stroke-linejoin:miter;stroke-width:0.8;\"/>\n   </g>\n   <g id=\"patch_4\">\n    <path d=\"M 598.603125 294.118125 \nL 598.603125 22.318125 \n\" style=\"fill:none;stroke:#000000;stroke-linecap:square;stroke-linejoin:miter;stroke-width:0.8;\"/>\n   </g>\n   <g id=\"patch_5\">\n    <path d=\"M 40.603125 294.118125 \nL 598.603125 294.118125 \n\" style=\"fill:none;stroke:#000000;stroke-linecap:square;stroke-linejoin:miter;stroke-width:0.8;\"/>\n   </g>\n   <g id=\"patch_6\">\n    <path d=\"M 40.603125 22.318125 \nL 598.603125 22.318125 \n\" style=\"fill:none;stroke:#000000;stroke-linecap:square;stroke-linejoin:miter;stroke-width:0.8;\"/>\n   </g>\n   <g id=\"text_16\">\n    <!-- Loss vs. epochs, batch=64 -->\n    <defs>\n     <path id=\"DejaVuSans-32\"/>\n     <path d=\"M 2.984375 54.6875 \nL 12.5 54.6875 \nL 29.59375 8.796875 \nL 46.6875 54.6875 \nL 56.203125 54.6875 \nL 35.6875 0 \nL 23.484375 0 \nz\n\" id=\"DejaVuSans-118\"/>\n     <path d=\"M 10.6875 12.40625 \nL 21 12.40625 \nL 21 0 \nL 10.6875 0 \nz\n\" id=\"DejaVuSans-46\"/>\n     <path d=\"M 56.203125 29.59375 \nL 56.203125 25.203125 \nL 14.890625 25.203125 \nQ 15.484375 15.921875 20.484375 11.0625 \nQ 25.484375 6.203125 34.421875 6.203125 \nQ 39.59375 6.203125 44.453125 7.46875 \nQ 49.3125 8.734375 54.109375 11.28125 \nL 54.109375 2.78125 \nQ 49.265625 0.734375 44.1875 -0.34375 \nQ 39.109375 -1.421875 33.890625 -1.421875 \nQ 20.796875 -1.421875 13.15625 6.1875 \nQ 5.515625 13.8125 5.515625 26.8125 \nQ 5.515625 40.234375 12.765625 48.109375 \nQ 20.015625 56 32.328125 56 \nQ 43.359375 56 49.78125 48.890625 \nQ 56.203125 41.796875 56.203125 29.59375 \nz\nM 47.21875 32.234375 \nQ 47.125 39.59375 43.09375 43.984375 \nQ 39.0625 48.390625 32.421875 48.390625 \nQ 24.90625 48.390625 20.390625 44.140625 \nQ 15.875 39.890625 15.1875 32.171875 \nz\n\" id=\"DejaVuSans-101\"/>\n     <path d=\"M 11.71875 12.40625 \nL 22.015625 12.40625 \nL 22.015625 4 \nL 14.015625 -11.625 \nL 7.71875 -11.625 \nL 11.71875 4 \nz\n\" id=\"DejaVuSans-44\"/>\n     <path d=\"M 48.6875 27.296875 \nQ 48.6875 37.203125 44.609375 42.84375 \nQ 40.53125 48.484375 33.40625 48.484375 \nQ 26.265625 48.484375 22.1875 42.84375 \nQ 18.109375 37.203125 18.109375 27.296875 \nQ 18.109375 17.390625 22.1875 11.75 \nQ 26.265625 6.109375 33.40625 6.109375 \nQ 40.53125 6.109375 44.609375 11.75 \nQ 48.6875 17.390625 48.6875 27.296875 \nz\nM 18.109375 46.390625 \nQ 20.953125 51.265625 25.265625 53.625 \nQ 29.59375 56 35.59375 56 \nQ 45.5625 56 51.78125 48.09375 \nQ 58.015625 40.1875 58.015625 27.296875 \nQ 58.015625 14.40625 51.78125 6.484375 \nQ 45.5625 -1.421875 35.59375 -1.421875 \nQ 29.59375 -1.421875 25.265625 0.953125 \nQ 20.953125 3.328125 18.109375 8.203125 \nL 18.109375 0 \nL 9.078125 0 \nL 9.078125 75.984375 \nL 18.109375 75.984375 \nz\n\" id=\"DejaVuSans-98\"/>\n     <path d=\"M 34.28125 27.484375 \nQ 23.390625 27.484375 19.1875 25 \nQ 14.984375 22.515625 14.984375 16.5 \nQ 14.984375 11.71875 18.140625 8.90625 \nQ 21.296875 6.109375 26.703125 6.109375 \nQ 34.1875 6.109375 38.703125 11.40625 \nQ 43.21875 16.703125 43.21875 25.484375 \nL 43.21875 27.484375 \nz\nM 52.203125 31.203125 \nL 52.203125 0 \nL 43.21875 0 \nL 43.21875 8.296875 \nQ 40.140625 3.328125 35.546875 0.953125 \nQ 30.953125 -1.421875 24.3125 -1.421875 \nQ 15.921875 -1.421875 10.953125 3.296875 \nQ 6 8.015625 6 15.921875 \nQ 6 25.140625 12.171875 29.828125 \nQ 18.359375 34.515625 30.609375 34.515625 \nL 43.21875 34.515625 \nL 43.21875 35.40625 \nQ 43.21875 41.609375 39.140625 45 \nQ 35.0625 48.390625 27.6875 48.390625 \nQ 23 48.390625 18.546875 47.265625 \nQ 14.109375 46.140625 10.015625 43.890625 \nL 10.015625 52.203125 \nQ 14.9375 54.109375 19.578125 55.046875 \nQ 24.21875 56 28.609375 56 \nQ 40.484375 56 46.34375 49.84375 \nQ 52.203125 43.703125 52.203125 31.203125 \nz\n\" id=\"DejaVuSans-97\"/>\n     <path d=\"M 18.3125 70.21875 \nL 18.3125 54.6875 \nL 36.8125 54.6875 \nL 36.8125 47.703125 \nL 18.3125 47.703125 \nL 18.3125 18.015625 \nQ 18.3125 11.328125 20.140625 9.421875 \nQ 21.96875 7.515625 27.59375 7.515625 \nL 36.8125 7.515625 \nL 36.8125 0 \nL 27.59375 0 \nQ 17.1875 0 13.234375 3.875 \nQ 9.28125 7.765625 9.28125 18.015625 \nL 9.28125 47.703125 \nL 2.6875 47.703125 \nL 2.6875 54.6875 \nL 9.28125 54.6875 \nL 9.28125 70.21875 \nz\n\" id=\"DejaVuSans-116\"/>\n     <path d=\"M 10.59375 45.40625 \nL 73.1875 45.40625 \nL 73.1875 37.203125 \nL 10.59375 37.203125 \nz\nM 10.59375 25.484375 \nL 73.1875 25.484375 \nL 73.1875 17.1875 \nL 10.59375 17.1875 \nz\n\" id=\"DejaVuSans-61\"/>\n    </defs>\n    <g transform=\"translate(239.229375 16.318125)scale(0.12 -0.12)\">\n     <use xlink:href=\"#DejaVuSans-76\"/>\n     <use x=\"53.962891\" xlink:href=\"#DejaVuSans-111\"/>\n     <use x=\"115.144531\" xlink:href=\"#DejaVuSans-115\"/>\n     <use x=\"167.244141\" xlink:href=\"#DejaVuSans-115\"/>\n     <use x=\"219.34375\" xlink:href=\"#DejaVuSans-32\"/>\n     <use x=\"251.130859\" xlink:href=\"#DejaVuSans-118\"/>\n     <use x=\"310.310547\" xlink:href=\"#DejaVuSans-115\"/>\n     <use x=\"362.410156\" xlink:href=\"#DejaVuSans-46\"/>\n     <use x=\"394.197266\" xlink:href=\"#DejaVuSans-32\"/>\n     <use x=\"425.984375\" xlink:href=\"#DejaVuSans-101\"/>\n     <use x=\"487.507812\" xlink:href=\"#DejaVuSans-112\"/>\n     <use x=\"550.984375\" xlink:href=\"#DejaVuSans-111\"/>\n     <use x=\"612.166016\" xlink:href=\"#DejaVuSans-99\"/>\n     <use x=\"667.146484\" xlink:href=\"#DejaVuSans-104\"/>\n     <use x=\"730.525391\" xlink:href=\"#DejaVuSans-115\"/>\n     <use x=\"782.625\" xlink:href=\"#DejaVuSans-44\"/>\n     <use x=\"814.412109\" xlink:href=\"#DejaVuSans-32\"/>\n     <use x=\"846.199219\" xlink:href=\"#DejaVuSans-98\"/>\n     <use x=\"909.675781\" xlink:href=\"#DejaVuSans-97\"/>\n     <use x=\"970.955078\" xlink:href=\"#DejaVuSans-116\"/>\n     <use x=\"1010.164062\" xlink:href=\"#DejaVuSans-99\"/>\n     <use x=\"1065.144531\" xlink:href=\"#DejaVuSans-104\"/>\n     <use x=\"1128.523438\" xlink:href=\"#DejaVuSans-61\"/>\n     <use x=\"1212.3125\" xlink:href=\"#DejaVuSans-54\"/>\n     <use x=\"1275.935547\" xlink:href=\"#DejaVuSans-52\"/>\n    </g>\n   </g>\n   <g id=\"legend_1\">\n    <g id=\"patch_7\">\n     <path d=\"M 510.221875 59.674375 \nL 591.603125 59.674375 \nQ 593.603125 59.674375 593.603125 57.674375 \nL 593.603125 29.318125 \nQ 593.603125 27.318125 591.603125 27.318125 \nL 510.221875 27.318125 \nQ 508.221875 27.318125 508.221875 29.318125 \nL 508.221875 57.674375 \nQ 508.221875 59.674375 510.221875 59.674375 \nz\n\" style=\"fill:#ffffff;opacity:0.8;stroke:#cccccc;stroke-linejoin:miter;\"/>\n    </g>\n    <g id=\"line2d_16\">\n     <path d=\"M 512.221875 35.416562 \nL 532.221875 35.416562 \n\" style=\"fill:none;stroke:#1f77b4;stroke-linecap:square;stroke-width:1.5;\"/>\n    </g>\n    <g id=\"line2d_17\"/>\n    <g id=\"text_17\">\n     <!-- Training -->\n     <defs>\n      <path d=\"M -0.296875 72.90625 \nL 61.375 72.90625 \nL 61.375 64.59375 \nL 35.5 64.59375 \nL 35.5 0 \nL 25.59375 0 \nL 25.59375 64.59375 \nL -0.296875 64.59375 \nz\n\" id=\"DejaVuSans-84\"/>\n      <path d=\"M 41.109375 46.296875 \nQ 39.59375 47.171875 37.8125 47.578125 \nQ 36.03125 48 33.890625 48 \nQ 26.265625 48 22.1875 43.046875 \nQ 18.109375 38.09375 18.109375 28.8125 \nL 18.109375 0 \nL 9.078125 0 \nL 9.078125 54.6875 \nL 18.109375 54.6875 \nL 18.109375 46.1875 \nQ 20.953125 51.171875 25.484375 53.578125 \nQ 30.03125 56 36.53125 56 \nQ 37.453125 56 38.578125 55.875 \nQ 39.703125 55.765625 41.0625 55.515625 \nz\n\" id=\"DejaVuSans-114\"/>\n      <path d=\"M 9.421875 54.6875 \nL 18.40625 54.6875 \nL 18.40625 0 \nL 9.421875 0 \nz\nM 9.421875 75.984375 \nL 18.40625 75.984375 \nL 18.40625 64.59375 \nL 9.421875 64.59375 \nz\n\" id=\"DejaVuSans-105\"/>\n      <path d=\"M 54.890625 33.015625 \nL 54.890625 0 \nL 45.90625 0 \nL 45.90625 32.71875 \nQ 45.90625 40.484375 42.875 44.328125 \nQ 39.84375 48.1875 33.796875 48.1875 \nQ 26.515625 48.1875 22.3125 43.546875 \nQ 18.109375 38.921875 18.109375 30.90625 \nL 18.109375 0 \nL 9.078125 0 \nL 9.078125 54.6875 \nL 18.109375 54.6875 \nL 18.109375 46.1875 \nQ 21.34375 51.125 25.703125 53.5625 \nQ 30.078125 56 35.796875 56 \nQ 45.21875 56 50.046875 50.171875 \nQ 54.890625 44.34375 54.890625 33.015625 \nz\n\" id=\"DejaVuSans-110\"/>\n      <path d=\"M 45.40625 27.984375 \nQ 45.40625 37.75 41.375 43.109375 \nQ 37.359375 48.484375 30.078125 48.484375 \nQ 22.859375 48.484375 18.828125 43.109375 \nQ 14.796875 37.75 14.796875 27.984375 \nQ 14.796875 18.265625 18.828125 12.890625 \nQ 22.859375 7.515625 30.078125 7.515625 \nQ 37.359375 7.515625 41.375 12.890625 \nQ 45.40625 18.265625 45.40625 27.984375 \nz\nM 54.390625 6.78125 \nQ 54.390625 -7.171875 48.1875 -13.984375 \nQ 42 -20.796875 29.203125 -20.796875 \nQ 24.46875 -20.796875 20.265625 -20.09375 \nQ 16.0625 -19.390625 12.109375 -17.921875 \nL 12.109375 -9.1875 \nQ 16.0625 -11.328125 19.921875 -12.34375 \nQ 23.78125 -13.375 27.78125 -13.375 \nQ 36.625 -13.375 41.015625 -8.765625 \nQ 45.40625 -4.15625 45.40625 5.171875 \nL 45.40625 9.625 \nQ 42.625 4.78125 38.28125 2.390625 \nQ 33.9375 0 27.875 0 \nQ 17.828125 0 11.671875 7.65625 \nQ 5.515625 15.328125 5.515625 27.984375 \nQ 5.515625 40.671875 11.671875 48.328125 \nQ 17.828125 56 27.875 56 \nQ 33.9375 56 38.28125 53.609375 \nQ 42.625 51.21875 45.40625 46.390625 \nL 45.40625 54.6875 \nL 54.390625 54.6875 \nz\n\" id=\"DejaVuSans-103\"/>\n     </defs>\n     <g transform=\"translate(540.221875 38.916562)scale(0.1 -0.1)\">\n      <use xlink:href=\"#DejaVuSans-84\"/>\n      <use x=\"46.333984\" xlink:href=\"#DejaVuSans-114\"/>\n      <use x=\"87.447266\" xlink:href=\"#DejaVuSans-97\"/>\n      <use x=\"148.726562\" xlink:href=\"#DejaVuSans-105\"/>\n      <use x=\"176.509766\" xlink:href=\"#DejaVuSans-110\"/>\n      <use x=\"239.888672\" xlink:href=\"#DejaVuSans-105\"/>\n      <use x=\"267.671875\" xlink:href=\"#DejaVuSans-110\"/>\n      <use x=\"331.050781\" xlink:href=\"#DejaVuSans-103\"/>\n     </g>\n    </g>\n    <g id=\"line2d_18\">\n     <path d=\"M 512.221875 50.094688 \nL 532.221875 50.094688 \n\" style=\"fill:none;stroke:#ff7f0e;stroke-linecap:square;stroke-width:1.5;\"/>\n    </g>\n    <g id=\"line2d_19\"/>\n    <g id=\"text_18\">\n     <!-- Validation -->\n     <defs>\n      <path d=\"M 28.609375 0 \nL 0.78125 72.90625 \nL 11.078125 72.90625 \nL 34.1875 11.53125 \nL 57.328125 72.90625 \nL 67.578125 72.90625 \nL 39.796875 0 \nz\n\" id=\"DejaVuSans-86\"/>\n      <path d=\"M 9.421875 75.984375 \nL 18.40625 75.984375 \nL 18.40625 0 \nL 9.421875 0 \nz\n\" id=\"DejaVuSans-108\"/>\n      <path d=\"M 45.40625 46.390625 \nL 45.40625 75.984375 \nL 54.390625 75.984375 \nL 54.390625 0 \nL 45.40625 0 \nL 45.40625 8.203125 \nQ 42.578125 3.328125 38.25 0.953125 \nQ 33.9375 -1.421875 27.875 -1.421875 \nQ 17.96875 -1.421875 11.734375 6.484375 \nQ 5.515625 14.40625 5.515625 27.296875 \nQ 5.515625 40.1875 11.734375 48.09375 \nQ 17.96875 56 27.875 56 \nQ 33.9375 56 38.25 53.625 \nQ 42.578125 51.265625 45.40625 46.390625 \nz\nM 14.796875 27.296875 \nQ 14.796875 17.390625 18.875 11.75 \nQ 22.953125 6.109375 30.078125 6.109375 \nQ 37.203125 6.109375 41.296875 11.75 \nQ 45.40625 17.390625 45.40625 27.296875 \nQ 45.40625 37.203125 41.296875 42.84375 \nQ 37.203125 48.484375 30.078125 48.484375 \nQ 22.953125 48.484375 18.875 42.84375 \nQ 14.796875 37.203125 14.796875 27.296875 \nz\n\" id=\"DejaVuSans-100\"/>\n     </defs>\n     <g transform=\"translate(540.221875 53.594688)scale(0.1 -0.1)\">\n      <use xlink:href=\"#DejaVuSans-86\"/>\n      <use x=\"60.658203\" xlink:href=\"#DejaVuSans-97\"/>\n      <use x=\"121.9375\" xlink:href=\"#DejaVuSans-108\"/>\n      <use x=\"149.720703\" xlink:href=\"#DejaVuSans-105\"/>\n      <use x=\"177.503906\" xlink:href=\"#DejaVuSans-100\"/>\n      <use x=\"240.980469\" xlink:href=\"#DejaVuSans-97\"/>\n      <use x=\"302.259766\" xlink:href=\"#DejaVuSans-116\"/>\n      <use x=\"341.46875\" xlink:href=\"#DejaVuSans-105\"/>\n      <use x=\"369.251953\" xlink:href=\"#DejaVuSans-111\"/>\n      <use x=\"430.433594\" xlink:href=\"#DejaVuSans-110\"/>\n     </g>\n    </g>\n   </g>\n  </g>\n </g>\n <defs>\n  <clipPath id=\"p322463cad6\">\n   <rect height=\"271.8\" width=\"558\" x=\"40.603125\" y=\"22.318125\"/>\n  </clipPath>\n </defs>\n</svg>\n"
          },
          "metadata": {
            "needs_background": "light"
          }
        }
      ],
      "source": [
        "#@title\n",
        "plt.figure(figsize=(10,5))\n",
        "plt.plot(history.history['loss'])\n",
        "plt.plot(history.history['val_loss'])\n",
        "plt.title('Loss vs. epochs, batch=' +str(batch_size))\n",
        "plt.ylabel('Loss')\n",
        "plt.xlabel('Epoch')\n",
        "plt.legend(['Training', 'Validation'], loc='upper right')\n",
        "plt.show()"
      ]
    },
    {
      "cell_type": "markdown",
      "id": "9c476d8f-d9d5-49e9-bcb1-c47f3505d456",
      "metadata": {
        "id": "9c476d8f-d9d5-49e9-bcb1-c47f3505d456"
      },
      "source": [
        "##### LR =  0.1"
      ]
    },
    {
      "cell_type": "markdown",
      "id": "5538b4df-7c6b-4d4d-9cbd-e7b14e57a8d6",
      "metadata": {
        "id": "5538b4df-7c6b-4d4d-9cbd-e7b14e57a8d6"
      },
      "source": [
        "10. **Retrain for 0.1 LR**"
      ]
    },
    {
      "cell_type": "code",
      "execution_count": 206,
      "id": "2c320fde-e42b-4d0a-941c-86b2c5817c66",
      "metadata": {
        "tags": [],
        "id": "2c320fde-e42b-4d0a-941c-86b2c5817c66",
        "colab": {
          "base_uri": "https://localhost:8080/"
        },
        "outputId": "69e3c6ac-0ae9-4506-d609-8790b567ef09"
      },
      "outputs": [
        {
          "output_type": "stream",
          "name": "stdout",
          "text": [
            "Epoch 1/125\n",
            "7/7 [==============================] - 1s 30ms/step - loss: 5.1716 - accuracy: 0.3553 - val_loss: 6.6143 - val_accuracy: 0.5067\n",
            "Epoch 2/125\n",
            "7/7 [==============================] - 0s 7ms/step - loss: 5.6976 - accuracy: 0.4706 - val_loss: 6.8375 - val_accuracy: 0.5333\n",
            "Epoch 3/125\n",
            "7/7 [==============================] - 0s 7ms/step - loss: 4.9037 - accuracy: 0.3859 - val_loss: 3.6007 - val_accuracy: 0.4400\n",
            "Epoch 4/125\n",
            "7/7 [==============================] - 0s 7ms/step - loss: 1.9656 - accuracy: 0.2965 - val_loss: 1.3265 - val_accuracy: 0.2800\n",
            "Epoch 5/125\n",
            "7/7 [==============================] - 0s 11ms/step - loss: 1.5591 - accuracy: 0.2282 - val_loss: 1.2105 - val_accuracy: 0.2267\n",
            "Epoch 6/125\n",
            "7/7 [==============================] - 0s 7ms/step - loss: 1.4447 - accuracy: 0.2329 - val_loss: 1.1588 - val_accuracy: 0.2400\n",
            "Epoch 7/125\n",
            "7/7 [==============================] - 0s 7ms/step - loss: 1.4806 - accuracy: 0.2282 - val_loss: 1.1300 - val_accuracy: 0.2533\n",
            "Epoch 8/125\n",
            "7/7 [==============================] - 0s 7ms/step - loss: 1.3626 - accuracy: 0.2376 - val_loss: 1.3339 - val_accuracy: 0.2933\n",
            "Epoch 9/125\n",
            "7/7 [==============================] - 0s 8ms/step - loss: 1.3753 - accuracy: 0.2659 - val_loss: 1.3120 - val_accuracy: 0.3733\n",
            "Epoch 10/125\n",
            "7/7 [==============================] - 0s 7ms/step - loss: 1.3564 - accuracy: 0.3129 - val_loss: 1.2857 - val_accuracy: 0.3867\n",
            "Epoch 11/125\n",
            "7/7 [==============================] - 0s 7ms/step - loss: 1.3449 - accuracy: 0.3365 - val_loss: 1.2609 - val_accuracy: 0.4400\n",
            "Epoch 12/125\n",
            "7/7 [==============================] - 0s 8ms/step - loss: 1.4091 - accuracy: 0.3788 - val_loss: 1.2398 - val_accuracy: 0.4667\n",
            "Epoch 13/125\n",
            "7/7 [==============================] - 0s 8ms/step - loss: 1.4023 - accuracy: 0.4000 - val_loss: 1.4407 - val_accuracy: 0.4533\n",
            "Epoch 14/125\n",
            "7/7 [==============================] - 0s 7ms/step - loss: 1.5874 - accuracy: 0.4165 - val_loss: 1.2701 - val_accuracy: 0.4933\n",
            "Epoch 15/125\n",
            "7/7 [==============================] - 0s 7ms/step - loss: 1.5013 - accuracy: 0.4259 - val_loss: 1.0629 - val_accuracy: 0.4667\n",
            "Epoch 16/125\n",
            "7/7 [==============================] - 0s 7ms/step - loss: 1.5157 - accuracy: 0.4118 - val_loss: 1.0145 - val_accuracy: 0.4400\n",
            "Epoch 17/125\n",
            "7/7 [==============================] - 0s 8ms/step - loss: 1.6132 - accuracy: 0.4259 - val_loss: 0.9900 - val_accuracy: 0.4667\n",
            "Epoch 18/125\n",
            "7/7 [==============================] - 0s 8ms/step - loss: 1.7245 - accuracy: 0.4282 - val_loss: 0.8823 - val_accuracy: 0.4133\n",
            "Epoch 19/125\n",
            "7/7 [==============================] - 0s 7ms/step - loss: 1.6464 - accuracy: 0.4024 - val_loss: 0.9382 - val_accuracy: 0.3733\n",
            "Epoch 20/125\n",
            "7/7 [==============================] - 0s 10ms/step - loss: 1.6156 - accuracy: 0.3624 - val_loss: 0.9492 - val_accuracy: 0.3467\n",
            "Epoch 21/125\n",
            "7/7 [==============================] - 0s 7ms/step - loss: 1.6905 - accuracy: 0.3694 - val_loss: 0.9330 - val_accuracy: 0.4133\n",
            "Epoch 22/125\n",
            "7/7 [==============================] - 0s 8ms/step - loss: 1.6134 - accuracy: 0.4024 - val_loss: 0.9035 - val_accuracy: 0.5067\n",
            "Epoch 23/125\n",
            "7/7 [==============================] - 0s 6ms/step - loss: 1.4779 - accuracy: 0.4635 - val_loss: 0.8786 - val_accuracy: 0.5467\n",
            "Epoch 24/125\n",
            "7/7 [==============================] - 0s 7ms/step - loss: 1.4257 - accuracy: 0.5153 - val_loss: 0.8537 - val_accuracy: 0.5867\n",
            "Epoch 25/125\n",
            "7/7 [==============================] - 0s 10ms/step - loss: 1.4075 - accuracy: 0.5529 - val_loss: 0.8302 - val_accuracy: 0.6133\n",
            "Epoch 26/125\n",
            "7/7 [==============================] - 0s 8ms/step - loss: 1.3372 - accuracy: 0.5929 - val_loss: 0.8080 - val_accuracy: 0.6133\n",
            "Epoch 27/125\n",
            "7/7 [==============================] - 0s 7ms/step - loss: 0.9596 - accuracy: 0.5976 - val_loss: 0.8198 - val_accuracy: 0.6133\n",
            "Epoch 28/125\n",
            "7/7 [==============================] - 0s 7ms/step - loss: 0.8459 - accuracy: 0.6259 - val_loss: 0.8242 - val_accuracy: 0.6400\n",
            "Epoch 29/125\n",
            "7/7 [==============================] - 0s 9ms/step - loss: 0.8285 - accuracy: 0.6518 - val_loss: 0.8124 - val_accuracy: 0.6667\n",
            "Epoch 30/125\n",
            "7/7 [==============================] - 0s 8ms/step - loss: 0.8118 - accuracy: 0.6612 - val_loss: 0.7946 - val_accuracy: 0.6800\n",
            "Epoch 31/125\n",
            "7/7 [==============================] - 0s 7ms/step - loss: 0.7942 - accuracy: 0.6659 - val_loss: 0.7734 - val_accuracy: 0.7333\n",
            "Epoch 32/125\n",
            "7/7 [==============================] - 0s 7ms/step - loss: 0.7769 - accuracy: 0.6635 - val_loss: 0.7499 - val_accuracy: 0.7467\n",
            "Epoch 33/125\n",
            "7/7 [==============================] - 0s 7ms/step - loss: 0.7582 - accuracy: 0.6635 - val_loss: 0.7253 - val_accuracy: 0.7467\n",
            "Epoch 34/125\n",
            "7/7 [==============================] - 0s 7ms/step - loss: 0.7399 - accuracy: 0.6682 - val_loss: 0.6987 - val_accuracy: 0.7333\n",
            "Epoch 35/125\n",
            "7/7 [==============================] - 0s 7ms/step - loss: 0.7210 - accuracy: 0.6847 - val_loss: 0.6737 - val_accuracy: 0.7333\n",
            "Epoch 36/125\n",
            "7/7 [==============================] - 0s 7ms/step - loss: 0.7052 - accuracy: 0.6941 - val_loss: 0.6498 - val_accuracy: 0.7467\n",
            "Epoch 37/125\n",
            "7/7 [==============================] - 0s 10ms/step - loss: 0.7001 - accuracy: 0.6471 - val_loss: 0.6425 - val_accuracy: 0.7200\n",
            "Epoch 38/125\n",
            "7/7 [==============================] - 0s 8ms/step - loss: 0.7072 - accuracy: 0.6212 - val_loss: 0.6378 - val_accuracy: 0.7067\n",
            "Epoch 39/125\n",
            "7/7 [==============================] - 0s 9ms/step - loss: 0.6781 - accuracy: 0.6494 - val_loss: 0.6347 - val_accuracy: 0.7333\n",
            "Epoch 40/125\n",
            "7/7 [==============================] - 0s 7ms/step - loss: 0.6582 - accuracy: 0.7082 - val_loss: 0.6205 - val_accuracy: 0.7467\n",
            "Epoch 41/125\n",
            "7/7 [==============================] - 0s 7ms/step - loss: 0.6281 - accuracy: 0.7576 - val_loss: 0.5810 - val_accuracy: 0.7467\n",
            "Epoch 42/125\n",
            "7/7 [==============================] - 0s 6ms/step - loss: 0.5893 - accuracy: 0.7671 - val_loss: 0.5240 - val_accuracy: 0.7467\n",
            "Epoch 43/125\n",
            "7/7 [==============================] - 0s 8ms/step - loss: 0.5466 - accuracy: 0.7812 - val_loss: 0.4764 - val_accuracy: 0.7867\n",
            "Epoch 44/125\n",
            "7/7 [==============================] - 0s 7ms/step - loss: 0.5485 - accuracy: 0.7835 - val_loss: 0.3906 - val_accuracy: 0.7733\n",
            "Epoch 45/125\n",
            "7/7 [==============================] - 0s 8ms/step - loss: 0.5134 - accuracy: 0.7835 - val_loss: 0.2488 - val_accuracy: 0.7733\n",
            "Epoch 46/125\n",
            "7/7 [==============================] - 0s 7ms/step - loss: 0.4206 - accuracy: 0.7953 - val_loss: 0.3483 - val_accuracy: 0.7333\n",
            "Epoch 47/125\n",
            "7/7 [==============================] - 0s 6ms/step - loss: 0.4537 - accuracy: 0.7388 - val_loss: 1.7417 - val_accuracy: 0.5867\n",
            "Epoch 48/125\n",
            "7/7 [==============================] - 0s 7ms/step - loss: 2.4502 - accuracy: 0.5906 - val_loss: 2.5869 - val_accuracy: 0.2533\n",
            "Epoch 49/125\n",
            "7/7 [==============================] - 0s 8ms/step - loss: 3.3858 - accuracy: 0.3435 - val_loss: 6.6679 - val_accuracy: 0.2400\n",
            "Epoch 50/125\n",
            "7/7 [==============================] - 0s 7ms/step - loss: 5.3971 - accuracy: 0.3412 - val_loss: 6.8819 - val_accuracy: 0.2400\n",
            "Epoch 51/125\n",
            "7/7 [==============================] - 0s 7ms/step - loss: 7.8251 - accuracy: 0.3388 - val_loss: 7.5259 - val_accuracy: 0.2400\n",
            "Epoch 52/125\n",
            "7/7 [==============================] - 0s 7ms/step - loss: 8.3180 - accuracy: 0.3388 - val_loss: 7.7403 - val_accuracy: 0.2400\n",
            "Epoch 53/125\n",
            "7/7 [==============================] - 0s 7ms/step - loss: 8.6207 - accuracy: 0.3388 - val_loss: 7.9549 - val_accuracy: 0.2400\n",
            "Epoch 54/125\n",
            "7/7 [==============================] - 0s 7ms/step - loss: 8.8475 - accuracy: 0.3388 - val_loss: 7.9545 - val_accuracy: 0.2400\n",
            "Epoch 55/125\n",
            "7/7 [==============================] - 0s 7ms/step - loss: 8.9603 - accuracy: 0.3365 - val_loss: 7.9542 - val_accuracy: 0.2400\n",
            "Epoch 56/125\n",
            "7/7 [==============================] - 0s 7ms/step - loss: 8.9594 - accuracy: 0.3365 - val_loss: 7.9539 - val_accuracy: 0.2400\n",
            "Epoch 57/125\n",
            "7/7 [==============================] - 0s 8ms/step - loss: 9.0343 - accuracy: 0.3388 - val_loss: 8.1684 - val_accuracy: 0.2400\n",
            "Epoch 58/125\n",
            "7/7 [==============================] - 0s 7ms/step - loss: 9.1851 - accuracy: 0.3388 - val_loss: 8.3830 - val_accuracy: 0.2400\n",
            "Epoch 59/125\n",
            "7/7 [==============================] - 0s 7ms/step - loss: 9.1463 - accuracy: 0.3388 - val_loss: 8.3827 - val_accuracy: 0.2400\n",
            "Epoch 60/125\n",
            "7/7 [==============================] - 0s 7ms/step - loss: 9.1834 - accuracy: 0.3388 - val_loss: 8.5973 - val_accuracy: 0.2400\n",
            "Epoch 61/125\n",
            "7/7 [==============================] - 0s 6ms/step - loss: 9.1826 - accuracy: 0.3388 - val_loss: 8.5969 - val_accuracy: 0.2400\n",
            "Epoch 62/125\n",
            "7/7 [==============================] - 0s 10ms/step - loss: 9.2578 - accuracy: 0.3388 - val_loss: 8.5964 - val_accuracy: 0.2400\n",
            "Epoch 63/125\n",
            "7/7 [==============================] - 0s 6ms/step - loss: 9.3704 - accuracy: 0.3388 - val_loss: 8.5963 - val_accuracy: 0.2400\n",
            "Epoch 64/125\n",
            "7/7 [==============================] - 0s 7ms/step - loss: 9.5215 - accuracy: 0.3388 - val_loss: 8.5963 - val_accuracy: 0.2400\n",
            "Epoch 65/125\n",
            "7/7 [==============================] - 0s 7ms/step - loss: 9.5212 - accuracy: 0.3388 - val_loss: 8.5963 - val_accuracy: 0.2400\n",
            "Epoch 66/125\n",
            "7/7 [==============================] - 0s 7ms/step - loss: 9.5967 - accuracy: 0.3388 - val_loss: 8.5963 - val_accuracy: 0.2400\n",
            "Epoch 67/125\n",
            "7/7 [==============================] - 0s 8ms/step - loss: 9.6344 - accuracy: 0.3388 - val_loss: 8.8112 - val_accuracy: 0.2400\n",
            "Epoch 68/125\n",
            "7/7 [==============================] - 0s 7ms/step - loss: 9.6342 - accuracy: 0.3388 - val_loss: 8.8112 - val_accuracy: 0.2400\n",
            "Epoch 69/125\n",
            "7/7 [==============================] - 0s 10ms/step - loss: 9.6340 - accuracy: 0.3388 - val_loss: 8.8112 - val_accuracy: 0.2400\n",
            "Epoch 70/125\n",
            "7/7 [==============================] - 0s 7ms/step - loss: 9.6339 - accuracy: 0.3388 - val_loss: 8.8112 - val_accuracy: 0.2400\n",
            "Epoch 71/125\n",
            "7/7 [==============================] - 0s 7ms/step - loss: 9.6338 - accuracy: 0.3388 - val_loss: 8.8112 - val_accuracy: 0.2400\n",
            "Epoch 72/125\n",
            "7/7 [==============================] - 0s 7ms/step - loss: 9.6338 - accuracy: 0.3388 - val_loss: 8.8112 - val_accuracy: 0.2400\n",
            "Epoch 73/125\n",
            "7/7 [==============================] - 0s 7ms/step - loss: 9.6338 - accuracy: 0.3388 - val_loss: 8.8112 - val_accuracy: 0.2400\n",
            "Epoch 74/125\n",
            "7/7 [==============================] - 0s 7ms/step - loss: 9.6717 - accuracy: 0.3388 - val_loss: 8.8112 - val_accuracy: 0.2400\n",
            "Epoch 75/125\n",
            "7/7 [==============================] - 0s 7ms/step - loss: 9.6716 - accuracy: 0.3388 - val_loss: 8.8112 - val_accuracy: 0.2400\n",
            "Epoch 76/125\n",
            "7/7 [==============================] - 0s 7ms/step - loss: 9.6716 - accuracy: 0.3388 - val_loss: 8.8112 - val_accuracy: 0.2400\n",
            "Epoch 77/125\n",
            "7/7 [==============================] - 0s 7ms/step - loss: 9.6716 - accuracy: 0.3388 - val_loss: 9.0261 - val_accuracy: 0.2400\n",
            "Epoch 78/125\n",
            "7/7 [==============================] - 0s 7ms/step - loss: 9.6716 - accuracy: 0.3388 - val_loss: 9.0261 - val_accuracy: 0.2400\n",
            "Epoch 79/125\n",
            "7/7 [==============================] - 0s 7ms/step - loss: 9.6716 - accuracy: 0.3388 - val_loss: 9.0261 - val_accuracy: 0.2400\n",
            "Epoch 80/125\n",
            "7/7 [==============================] - 0s 8ms/step - loss: 9.6716 - accuracy: 0.3388 - val_loss: 9.0261 - val_accuracy: 0.2400\n",
            "Epoch 81/125\n",
            "7/7 [==============================] - 0s 8ms/step - loss: 9.6715 - accuracy: 0.3388 - val_loss: 9.0261 - val_accuracy: 0.2400\n",
            "Epoch 82/125\n",
            "7/7 [==============================] - 0s 7ms/step - loss: 9.6715 - accuracy: 0.3388 - val_loss: 9.0261 - val_accuracy: 0.2400\n",
            "Epoch 83/125\n",
            "7/7 [==============================] - 0s 7ms/step - loss: 9.6715 - accuracy: 0.3388 - val_loss: 9.0261 - val_accuracy: 0.2400\n",
            "Epoch 84/125\n",
            "7/7 [==============================] - 0s 6ms/step - loss: 9.6715 - accuracy: 0.3388 - val_loss: 9.0261 - val_accuracy: 0.2400\n",
            "Epoch 85/125\n",
            "7/7 [==============================] - 0s 7ms/step - loss: 9.6715 - accuracy: 0.3388 - val_loss: 9.0261 - val_accuracy: 0.2400\n",
            "Epoch 86/125\n",
            "7/7 [==============================] - 0s 7ms/step - loss: 9.6714 - accuracy: 0.3388 - val_loss: 9.0261 - val_accuracy: 0.2400\n",
            "Epoch 87/125\n",
            "7/7 [==============================] - 0s 7ms/step - loss: 9.6714 - accuracy: 0.3388 - val_loss: 9.0261 - val_accuracy: 0.2400\n",
            "Epoch 88/125\n",
            "7/7 [==============================] - 0s 7ms/step - loss: 9.6714 - accuracy: 0.3388 - val_loss: 9.0261 - val_accuracy: 0.2400\n",
            "Epoch 89/125\n",
            "7/7 [==============================] - 0s 7ms/step - loss: 9.6714 - accuracy: 0.3388 - val_loss: 9.0261 - val_accuracy: 0.2400\n",
            "Epoch 90/125\n",
            "7/7 [==============================] - 0s 7ms/step - loss: 9.6713 - accuracy: 0.3388 - val_loss: 9.0261 - val_accuracy: 0.2400\n",
            "Epoch 91/125\n",
            "7/7 [==============================] - 0s 7ms/step - loss: 9.6713 - accuracy: 0.3388 - val_loss: 9.0261 - val_accuracy: 0.2400\n",
            "Epoch 92/125\n",
            "7/7 [==============================] - 0s 7ms/step - loss: 9.6713 - accuracy: 0.3388 - val_loss: 9.0261 - val_accuracy: 0.2400\n",
            "Epoch 93/125\n",
            "7/7 [==============================] - 0s 8ms/step - loss: 9.6713 - accuracy: 0.3388 - val_loss: 9.0261 - val_accuracy: 0.2400\n",
            "Epoch 94/125\n",
            "7/7 [==============================] - 0s 7ms/step - loss: 9.6713 - accuracy: 0.3388 - val_loss: 9.0261 - val_accuracy: 0.2400\n",
            "Epoch 95/125\n",
            "7/7 [==============================] - 0s 7ms/step - loss: 9.6712 - accuracy: 0.3388 - val_loss: 9.0261 - val_accuracy: 0.2400\n",
            "Epoch 96/125\n",
            "7/7 [==============================] - 0s 7ms/step - loss: 9.6712 - accuracy: 0.3388 - val_loss: 9.0261 - val_accuracy: 0.2400\n",
            "Epoch 97/125\n",
            "7/7 [==============================] - 0s 7ms/step - loss: 9.6712 - accuracy: 0.3388 - val_loss: 9.0261 - val_accuracy: 0.2400\n",
            "Epoch 98/125\n",
            "7/7 [==============================] - 0s 7ms/step - loss: 9.7091 - accuracy: 0.3388 - val_loss: 9.0261 - val_accuracy: 0.2400\n",
            "Epoch 99/125\n",
            "7/7 [==============================] - 0s 7ms/step - loss: 9.7091 - accuracy: 0.3388 - val_loss: 9.0261 - val_accuracy: 0.2400\n",
            "Epoch 100/125\n",
            "7/7 [==============================] - 0s 7ms/step - loss: 9.7091 - accuracy: 0.3388 - val_loss: 9.0261 - val_accuracy: 0.2400\n",
            "Epoch 101/125\n",
            "7/7 [==============================] - 0s 7ms/step - loss: 9.7470 - accuracy: 0.3388 - val_loss: 9.0261 - val_accuracy: 0.2400\n",
            "Epoch 102/125\n",
            "7/7 [==============================] - 0s 6ms/step - loss: 9.7469 - accuracy: 0.3388 - val_loss: 9.0261 - val_accuracy: 0.2400\n",
            "Epoch 103/125\n",
            "7/7 [==============================] - 0s 7ms/step - loss: 9.7469 - accuracy: 0.3388 - val_loss: 9.0261 - val_accuracy: 0.2400\n",
            "Epoch 104/125\n",
            "7/7 [==============================] - 0s 6ms/step - loss: 9.7469 - accuracy: 0.3388 - val_loss: 9.0261 - val_accuracy: 0.2400\n",
            "Epoch 105/125\n",
            "7/7 [==============================] - 0s 6ms/step - loss: 9.7469 - accuracy: 0.3388 - val_loss: 9.0261 - val_accuracy: 0.2400\n",
            "Epoch 106/125\n",
            "7/7 [==============================] - 0s 7ms/step - loss: 9.7468 - accuracy: 0.3388 - val_loss: 9.0261 - val_accuracy: 0.2400\n",
            "Epoch 107/125\n",
            "7/7 [==============================] - 0s 6ms/step - loss: 9.7468 - accuracy: 0.3388 - val_loss: 9.0261 - val_accuracy: 0.2400\n",
            "Epoch 108/125\n",
            "7/7 [==============================] - 0s 8ms/step - loss: 9.7468 - accuracy: 0.3388 - val_loss: 9.0261 - val_accuracy: 0.2400\n",
            "Epoch 109/125\n",
            "7/7 [==============================] - 0s 7ms/step - loss: 9.7847 - accuracy: 0.3388 - val_loss: 9.0261 - val_accuracy: 0.2400\n",
            "Epoch 110/125\n",
            "7/7 [==============================] - 0s 6ms/step - loss: 9.7847 - accuracy: 0.3388 - val_loss: 9.0261 - val_accuracy: 0.2400\n",
            "Epoch 111/125\n",
            "7/7 [==============================] - 0s 7ms/step - loss: 9.7846 - accuracy: 0.3388 - val_loss: 9.0261 - val_accuracy: 0.2400\n",
            "Epoch 112/125\n",
            "7/7 [==============================] - 0s 8ms/step - loss: 9.8226 - accuracy: 0.3388 - val_loss: 9.0261 - val_accuracy: 0.2400\n",
            "Epoch 113/125\n",
            "7/7 [==============================] - 0s 6ms/step - loss: 9.8226 - accuracy: 0.3388 - val_loss: 9.0261 - val_accuracy: 0.2400\n",
            "Epoch 114/125\n",
            "7/7 [==============================] - 0s 7ms/step - loss: 9.8226 - accuracy: 0.3388 - val_loss: 9.0261 - val_accuracy: 0.2400\n",
            "Epoch 115/125\n",
            "7/7 [==============================] - 0s 6ms/step - loss: 9.8226 - accuracy: 0.3388 - val_loss: 9.0261 - val_accuracy: 0.2400\n",
            "Epoch 116/125\n",
            "7/7 [==============================] - 0s 7ms/step - loss: 9.8226 - accuracy: 0.3388 - val_loss: 9.0261 - val_accuracy: 0.2400\n",
            "Epoch 117/125\n",
            "7/7 [==============================] - 0s 7ms/step - loss: 9.8226 - accuracy: 0.3388 - val_loss: 9.0261 - val_accuracy: 0.2400\n",
            "Epoch 118/125\n",
            "7/7 [==============================] - 0s 7ms/step - loss: 9.8226 - accuracy: 0.3388 - val_loss: 9.0261 - val_accuracy: 0.2400\n",
            "Epoch 119/125\n",
            "7/7 [==============================] - 0s 7ms/step - loss: 9.8226 - accuracy: 0.3388 - val_loss: 9.0261 - val_accuracy: 0.2400\n",
            "Epoch 120/125\n",
            "7/7 [==============================] - 0s 7ms/step - loss: 9.8226 - accuracy: 0.3388 - val_loss: 9.0261 - val_accuracy: 0.2400\n",
            "Epoch 121/125\n",
            "7/7 [==============================] - 0s 7ms/step - loss: 9.8226 - accuracy: 0.3388 - val_loss: 9.0261 - val_accuracy: 0.2400\n",
            "Epoch 122/125\n",
            "7/7 [==============================] - 0s 7ms/step - loss: 9.8226 - accuracy: 0.3388 - val_loss: 9.0261 - val_accuracy: 0.2400\n",
            "Epoch 123/125\n",
            "7/7 [==============================] - 0s 7ms/step - loss: 9.8226 - accuracy: 0.3388 - val_loss: 9.0261 - val_accuracy: 0.2400\n",
            "Epoch 124/125\n",
            "7/7 [==============================] - 0s 7ms/step - loss: 9.8226 - accuracy: 0.3388 - val_loss: 9.0261 - val_accuracy: 0.2400\n",
            "Epoch 125/125\n",
            "7/7 [==============================] - 0s 7ms/step - loss: 9.8226 - accuracy: 0.3388 - val_loss: 9.0261 - val_accuracy: 0.2400\n",
            "16/16 - 0s - loss: 10.1544 - accuracy: 0.3420 - 37ms/epoch - 2ms/step\n"
          ]
        }
      ],
      "source": [
        "#@title\n",
        "### START CODE HERE ### ()\n",
        "lr=0.1\n",
        "batch_size=64 # since the validation=.15 , then the train will be 500*.85=\n",
        "history=fit_model(X_train, y_train, X_test, y_test, batch_size,lr)\n"
      ]
    },
    {
      "cell_type": "code",
      "execution_count": 207,
      "id": "abadecd9-9a79-45c0-8540-bf16d8b4bc27",
      "metadata": {
        "id": "abadecd9-9a79-45c0-8540-bf16d8b4bc27",
        "colab": {
          "base_uri": "https://localhost:8080/",
          "height": 463
        },
        "outputId": "1adfb282-efe1-4744-aef4-6f0ad08e70c0"
      },
      "outputs": [
        {
          "output_type": "display_data",
          "data": {
            "text/plain": [
              "<Figure size 720x360 with 1 Axes>"
            ],
            "image/svg+xml": "<?xml version=\"1.0\" encoding=\"utf-8\" standalone=\"no\"?>\n<!DOCTYPE svg PUBLIC \"-//W3C//DTD SVG 1.1//EN\"\n  \"http://www.w3.org/Graphics/SVG/1.1/DTD/svg11.dtd\">\n<!-- Created with matplotlib (https://matplotlib.org/) -->\n<svg height=\"331.674375pt\" version=\"1.1\" viewBox=\"0 0 605.803125 331.674375\" width=\"605.803125pt\" xmlns=\"http://www.w3.org/2000/svg\" xmlns:xlink=\"http://www.w3.org/1999/xlink\">\n <defs>\n  <style type=\"text/css\">\n*{stroke-linecap:butt;stroke-linejoin:round;}\n  </style>\n </defs>\n <g id=\"figure_1\">\n  <g id=\"patch_1\">\n   <path d=\"M 0 331.674375 \nL 605.803125 331.674375 \nL 605.803125 0 \nL 0 0 \nz\n\" style=\"fill:none;\"/>\n  </g>\n  <g id=\"axes_1\">\n   <g id=\"patch_2\">\n    <path d=\"M 40.603125 294.118125 \nL 598.603125 294.118125 \nL 598.603125 22.318125 \nL 40.603125 22.318125 \nz\n\" style=\"fill:#ffffff;\"/>\n   </g>\n   <g id=\"matplotlib.axis_1\">\n    <g id=\"xtick_1\">\n     <g id=\"line2d_1\">\n      <defs>\n       <path d=\"M 0 0 \nL 0 3.5 \n\" id=\"md6d216c01d\" style=\"stroke:#000000;stroke-width:0.8;\"/>\n      </defs>\n      <g>\n       <use style=\"stroke:#000000;stroke-width:0.8;\" x=\"65.966761\" xlink:href=\"#md6d216c01d\" y=\"294.118125\"/>\n      </g>\n     </g>\n     <g id=\"text_1\">\n      <!-- 0 -->\n      <defs>\n       <path d=\"M 31.78125 66.40625 \nQ 24.171875 66.40625 20.328125 58.90625 \nQ 16.5 51.421875 16.5 36.375 \nQ 16.5 21.390625 20.328125 13.890625 \nQ 24.171875 6.390625 31.78125 6.390625 \nQ 39.453125 6.390625 43.28125 13.890625 \nQ 47.125 21.390625 47.125 36.375 \nQ 47.125 51.421875 43.28125 58.90625 \nQ 39.453125 66.40625 31.78125 66.40625 \nz\nM 31.78125 74.21875 \nQ 44.046875 74.21875 50.515625 64.515625 \nQ 56.984375 54.828125 56.984375 36.375 \nQ 56.984375 17.96875 50.515625 8.265625 \nQ 44.046875 -1.421875 31.78125 -1.421875 \nQ 19.53125 -1.421875 13.0625 8.265625 \nQ 6.59375 17.96875 6.59375 36.375 \nQ 6.59375 54.828125 13.0625 64.515625 \nQ 19.53125 74.21875 31.78125 74.21875 \nz\n\" id=\"DejaVuSans-48\"/>\n      </defs>\n      <g transform=\"translate(62.785511 308.716563)scale(0.1 -0.1)\">\n       <use xlink:href=\"#DejaVuSans-48\"/>\n      </g>\n     </g>\n    </g>\n    <g id=\"xtick_2\">\n     <g id=\"line2d_2\">\n      <g>\n       <use style=\"stroke:#000000;stroke-width:0.8;\" x=\"147.784943\" xlink:href=\"#md6d216c01d\" y=\"294.118125\"/>\n      </g>\n     </g>\n     <g id=\"text_2\">\n      <!-- 20 -->\n      <defs>\n       <path d=\"M 19.1875 8.296875 \nL 53.609375 8.296875 \nL 53.609375 0 \nL 7.328125 0 \nL 7.328125 8.296875 \nQ 12.9375 14.109375 22.625 23.890625 \nQ 32.328125 33.6875 34.8125 36.53125 \nQ 39.546875 41.84375 41.421875 45.53125 \nQ 43.3125 49.21875 43.3125 52.78125 \nQ 43.3125 58.59375 39.234375 62.25 \nQ 35.15625 65.921875 28.609375 65.921875 \nQ 23.96875 65.921875 18.8125 64.3125 \nQ 13.671875 62.703125 7.8125 59.421875 \nL 7.8125 69.390625 \nQ 13.765625 71.78125 18.9375 73 \nQ 24.125 74.21875 28.421875 74.21875 \nQ 39.75 74.21875 46.484375 68.546875 \nQ 53.21875 62.890625 53.21875 53.421875 \nQ 53.21875 48.921875 51.53125 44.890625 \nQ 49.859375 40.875 45.40625 35.40625 \nQ 44.1875 33.984375 37.640625 27.21875 \nQ 31.109375 20.453125 19.1875 8.296875 \nz\n\" id=\"DejaVuSans-50\"/>\n      </defs>\n      <g transform=\"translate(141.422443 308.716563)scale(0.1 -0.1)\">\n       <use xlink:href=\"#DejaVuSans-50\"/>\n       <use x=\"63.623047\" xlink:href=\"#DejaVuSans-48\"/>\n      </g>\n     </g>\n    </g>\n    <g id=\"xtick_3\">\n     <g id=\"line2d_3\">\n      <g>\n       <use style=\"stroke:#000000;stroke-width:0.8;\" x=\"229.603125\" xlink:href=\"#md6d216c01d\" y=\"294.118125\"/>\n      </g>\n     </g>\n     <g id=\"text_3\">\n      <!-- 40 -->\n      <defs>\n       <path d=\"M 37.796875 64.3125 \nL 12.890625 25.390625 \nL 37.796875 25.390625 \nz\nM 35.203125 72.90625 \nL 47.609375 72.90625 \nL 47.609375 25.390625 \nL 58.015625 25.390625 \nL 58.015625 17.1875 \nL 47.609375 17.1875 \nL 47.609375 0 \nL 37.796875 0 \nL 37.796875 17.1875 \nL 4.890625 17.1875 \nL 4.890625 26.703125 \nz\n\" id=\"DejaVuSans-52\"/>\n      </defs>\n      <g transform=\"translate(223.240625 308.716563)scale(0.1 -0.1)\">\n       <use xlink:href=\"#DejaVuSans-52\"/>\n       <use x=\"63.623047\" xlink:href=\"#DejaVuSans-48\"/>\n      </g>\n     </g>\n    </g>\n    <g id=\"xtick_4\">\n     <g id=\"line2d_4\">\n      <g>\n       <use style=\"stroke:#000000;stroke-width:0.8;\" x=\"311.421307\" xlink:href=\"#md6d216c01d\" y=\"294.118125\"/>\n      </g>\n     </g>\n     <g id=\"text_4\">\n      <!-- 60 -->\n      <defs>\n       <path d=\"M 33.015625 40.375 \nQ 26.375 40.375 22.484375 35.828125 \nQ 18.609375 31.296875 18.609375 23.390625 \nQ 18.609375 15.53125 22.484375 10.953125 \nQ 26.375 6.390625 33.015625 6.390625 \nQ 39.65625 6.390625 43.53125 10.953125 \nQ 47.40625 15.53125 47.40625 23.390625 \nQ 47.40625 31.296875 43.53125 35.828125 \nQ 39.65625 40.375 33.015625 40.375 \nz\nM 52.59375 71.296875 \nL 52.59375 62.3125 \nQ 48.875 64.0625 45.09375 64.984375 \nQ 41.3125 65.921875 37.59375 65.921875 \nQ 27.828125 65.921875 22.671875 59.328125 \nQ 17.53125 52.734375 16.796875 39.40625 \nQ 19.671875 43.65625 24.015625 45.921875 \nQ 28.375 48.1875 33.59375 48.1875 \nQ 44.578125 48.1875 50.953125 41.515625 \nQ 57.328125 34.859375 57.328125 23.390625 \nQ 57.328125 12.15625 50.6875 5.359375 \nQ 44.046875 -1.421875 33.015625 -1.421875 \nQ 20.359375 -1.421875 13.671875 8.265625 \nQ 6.984375 17.96875 6.984375 36.375 \nQ 6.984375 53.65625 15.1875 63.9375 \nQ 23.390625 74.21875 37.203125 74.21875 \nQ 40.921875 74.21875 44.703125 73.484375 \nQ 48.484375 72.75 52.59375 71.296875 \nz\n\" id=\"DejaVuSans-54\"/>\n      </defs>\n      <g transform=\"translate(305.058807 308.716563)scale(0.1 -0.1)\">\n       <use xlink:href=\"#DejaVuSans-54\"/>\n       <use x=\"63.623047\" xlink:href=\"#DejaVuSans-48\"/>\n      </g>\n     </g>\n    </g>\n    <g id=\"xtick_5\">\n     <g id=\"line2d_5\">\n      <g>\n       <use style=\"stroke:#000000;stroke-width:0.8;\" x=\"393.239489\" xlink:href=\"#md6d216c01d\" y=\"294.118125\"/>\n      </g>\n     </g>\n     <g id=\"text_5\">\n      <!-- 80 -->\n      <defs>\n       <path d=\"M 31.78125 34.625 \nQ 24.75 34.625 20.71875 30.859375 \nQ 16.703125 27.09375 16.703125 20.515625 \nQ 16.703125 13.921875 20.71875 10.15625 \nQ 24.75 6.390625 31.78125 6.390625 \nQ 38.8125 6.390625 42.859375 10.171875 \nQ 46.921875 13.96875 46.921875 20.515625 \nQ 46.921875 27.09375 42.890625 30.859375 \nQ 38.875 34.625 31.78125 34.625 \nz\nM 21.921875 38.8125 \nQ 15.578125 40.375 12.03125 44.71875 \nQ 8.5 49.078125 8.5 55.328125 \nQ 8.5 64.0625 14.71875 69.140625 \nQ 20.953125 74.21875 31.78125 74.21875 \nQ 42.671875 74.21875 48.875 69.140625 \nQ 55.078125 64.0625 55.078125 55.328125 \nQ 55.078125 49.078125 51.53125 44.71875 \nQ 48 40.375 41.703125 38.8125 \nQ 48.828125 37.15625 52.796875 32.3125 \nQ 56.78125 27.484375 56.78125 20.515625 \nQ 56.78125 9.90625 50.3125 4.234375 \nQ 43.84375 -1.421875 31.78125 -1.421875 \nQ 19.734375 -1.421875 13.25 4.234375 \nQ 6.78125 9.90625 6.78125 20.515625 \nQ 6.78125 27.484375 10.78125 32.3125 \nQ 14.796875 37.15625 21.921875 38.8125 \nz\nM 18.3125 54.390625 \nQ 18.3125 48.734375 21.84375 45.5625 \nQ 25.390625 42.390625 31.78125 42.390625 \nQ 38.140625 42.390625 41.71875 45.5625 \nQ 45.3125 48.734375 45.3125 54.390625 \nQ 45.3125 60.0625 41.71875 63.234375 \nQ 38.140625 66.40625 31.78125 66.40625 \nQ 25.390625 66.40625 21.84375 63.234375 \nQ 18.3125 60.0625 18.3125 54.390625 \nz\n\" id=\"DejaVuSans-56\"/>\n      </defs>\n      <g transform=\"translate(386.876989 308.716563)scale(0.1 -0.1)\">\n       <use xlink:href=\"#DejaVuSans-56\"/>\n       <use x=\"63.623047\" xlink:href=\"#DejaVuSans-48\"/>\n      </g>\n     </g>\n    </g>\n    <g id=\"xtick_6\">\n     <g id=\"line2d_6\">\n      <g>\n       <use style=\"stroke:#000000;stroke-width:0.8;\" x=\"475.05767\" xlink:href=\"#md6d216c01d\" y=\"294.118125\"/>\n      </g>\n     </g>\n     <g id=\"text_6\">\n      <!-- 100 -->\n      <defs>\n       <path d=\"M 12.40625 8.296875 \nL 28.515625 8.296875 \nL 28.515625 63.921875 \nL 10.984375 60.40625 \nL 10.984375 69.390625 \nL 28.421875 72.90625 \nL 38.28125 72.90625 \nL 38.28125 8.296875 \nL 54.390625 8.296875 \nL 54.390625 0 \nL 12.40625 0 \nz\n\" id=\"DejaVuSans-49\"/>\n      </defs>\n      <g transform=\"translate(465.51392 308.716563)scale(0.1 -0.1)\">\n       <use xlink:href=\"#DejaVuSans-49\"/>\n       <use x=\"63.623047\" xlink:href=\"#DejaVuSans-48\"/>\n       <use x=\"127.246094\" xlink:href=\"#DejaVuSans-48\"/>\n      </g>\n     </g>\n    </g>\n    <g id=\"xtick_7\">\n     <g id=\"line2d_7\">\n      <g>\n       <use style=\"stroke:#000000;stroke-width:0.8;\" x=\"556.875852\" xlink:href=\"#md6d216c01d\" y=\"294.118125\"/>\n      </g>\n     </g>\n     <g id=\"text_7\">\n      <!-- 120 -->\n      <g transform=\"translate(547.332102 308.716563)scale(0.1 -0.1)\">\n       <use xlink:href=\"#DejaVuSans-49\"/>\n       <use x=\"63.623047\" xlink:href=\"#DejaVuSans-50\"/>\n       <use x=\"127.246094\" xlink:href=\"#DejaVuSans-48\"/>\n      </g>\n     </g>\n    </g>\n    <g id=\"text_8\">\n     <!-- Epoch -->\n     <defs>\n      <path d=\"M 9.8125 72.90625 \nL 55.90625 72.90625 \nL 55.90625 64.59375 \nL 19.671875 64.59375 \nL 19.671875 43.015625 \nL 54.390625 43.015625 \nL 54.390625 34.71875 \nL 19.671875 34.71875 \nL 19.671875 8.296875 \nL 56.78125 8.296875 \nL 56.78125 0 \nL 9.8125 0 \nz\n\" id=\"DejaVuSans-69\"/>\n      <path d=\"M 18.109375 8.203125 \nL 18.109375 -20.796875 \nL 9.078125 -20.796875 \nL 9.078125 54.6875 \nL 18.109375 54.6875 \nL 18.109375 46.390625 \nQ 20.953125 51.265625 25.265625 53.625 \nQ 29.59375 56 35.59375 56 \nQ 45.5625 56 51.78125 48.09375 \nQ 58.015625 40.1875 58.015625 27.296875 \nQ 58.015625 14.40625 51.78125 6.484375 \nQ 45.5625 -1.421875 35.59375 -1.421875 \nQ 29.59375 -1.421875 25.265625 0.953125 \nQ 20.953125 3.328125 18.109375 8.203125 \nz\nM 48.6875 27.296875 \nQ 48.6875 37.203125 44.609375 42.84375 \nQ 40.53125 48.484375 33.40625 48.484375 \nQ 26.265625 48.484375 22.1875 42.84375 \nQ 18.109375 37.203125 18.109375 27.296875 \nQ 18.109375 17.390625 22.1875 11.75 \nQ 26.265625 6.109375 33.40625 6.109375 \nQ 40.53125 6.109375 44.609375 11.75 \nQ 48.6875 17.390625 48.6875 27.296875 \nz\n\" id=\"DejaVuSans-112\"/>\n      <path d=\"M 30.609375 48.390625 \nQ 23.390625 48.390625 19.1875 42.75 \nQ 14.984375 37.109375 14.984375 27.296875 \nQ 14.984375 17.484375 19.15625 11.84375 \nQ 23.34375 6.203125 30.609375 6.203125 \nQ 37.796875 6.203125 41.984375 11.859375 \nQ 46.1875 17.53125 46.1875 27.296875 \nQ 46.1875 37.015625 41.984375 42.703125 \nQ 37.796875 48.390625 30.609375 48.390625 \nz\nM 30.609375 56 \nQ 42.328125 56 49.015625 48.375 \nQ 55.71875 40.765625 55.71875 27.296875 \nQ 55.71875 13.875 49.015625 6.21875 \nQ 42.328125 -1.421875 30.609375 -1.421875 \nQ 18.84375 -1.421875 12.171875 6.21875 \nQ 5.515625 13.875 5.515625 27.296875 \nQ 5.515625 40.765625 12.171875 48.375 \nQ 18.84375 56 30.609375 56 \nz\n\" id=\"DejaVuSans-111\"/>\n      <path d=\"M 48.78125 52.59375 \nL 48.78125 44.1875 \nQ 44.96875 46.296875 41.140625 47.34375 \nQ 37.3125 48.390625 33.40625 48.390625 \nQ 24.65625 48.390625 19.8125 42.84375 \nQ 14.984375 37.3125 14.984375 27.296875 \nQ 14.984375 17.28125 19.8125 11.734375 \nQ 24.65625 6.203125 33.40625 6.203125 \nQ 37.3125 6.203125 41.140625 7.25 \nQ 44.96875 8.296875 48.78125 10.40625 \nL 48.78125 2.09375 \nQ 45.015625 0.34375 40.984375 -0.53125 \nQ 36.96875 -1.421875 32.421875 -1.421875 \nQ 20.0625 -1.421875 12.78125 6.34375 \nQ 5.515625 14.109375 5.515625 27.296875 \nQ 5.515625 40.671875 12.859375 48.328125 \nQ 20.21875 56 33.015625 56 \nQ 37.15625 56 41.109375 55.140625 \nQ 45.0625 54.296875 48.78125 52.59375 \nz\n\" id=\"DejaVuSans-99\"/>\n      <path d=\"M 54.890625 33.015625 \nL 54.890625 0 \nL 45.90625 0 \nL 45.90625 32.71875 \nQ 45.90625 40.484375 42.875 44.328125 \nQ 39.84375 48.1875 33.796875 48.1875 \nQ 26.515625 48.1875 22.3125 43.546875 \nQ 18.109375 38.921875 18.109375 30.90625 \nL 18.109375 0 \nL 9.078125 0 \nL 9.078125 75.984375 \nL 18.109375 75.984375 \nL 18.109375 46.1875 \nQ 21.34375 51.125 25.703125 53.5625 \nQ 30.078125 56 35.796875 56 \nQ 45.21875 56 50.046875 50.171875 \nQ 54.890625 44.34375 54.890625 33.015625 \nz\n\" id=\"DejaVuSans-104\"/>\n     </defs>\n     <g transform=\"translate(304.292187 322.394687)scale(0.1 -0.1)\">\n      <use xlink:href=\"#DejaVuSans-69\"/>\n      <use x=\"63.183594\" xlink:href=\"#DejaVuSans-112\"/>\n      <use x=\"126.660156\" xlink:href=\"#DejaVuSans-111\"/>\n      <use x=\"187.841797\" xlink:href=\"#DejaVuSans-99\"/>\n      <use x=\"242.822266\" xlink:href=\"#DejaVuSans-104\"/>\n     </g>\n    </g>\n   </g>\n   <g id=\"matplotlib.axis_2\">\n    <g id=\"ytick_1\">\n     <g id=\"line2d_8\">\n      <defs>\n       <path d=\"M 0 0 \nL -3.5 0 \n\" id=\"m6178251cd4\" style=\"stroke:#000000;stroke-width:0.8;\"/>\n      </defs>\n      <g>\n       <use style=\"stroke:#000000;stroke-width:0.8;\" x=\"40.603125\" xlink:href=\"#m6178251cd4\" y=\"288.185167\"/>\n      </g>\n     </g>\n     <g id=\"text_9\">\n      <!-- 0 -->\n      <g transform=\"translate(27.240625 291.984385)scale(0.1 -0.1)\">\n       <use xlink:href=\"#DejaVuSans-48\"/>\n      </g>\n     </g>\n    </g>\n    <g id=\"ytick_2\">\n     <g id=\"line2d_9\">\n      <g>\n       <use style=\"stroke:#000000;stroke-width:0.8;\" x=\"40.603125\" xlink:href=\"#m6178251cd4\" y=\"236.566737\"/>\n      </g>\n     </g>\n     <g id=\"text_10\">\n      <!-- 2 -->\n      <g transform=\"translate(27.240625 240.365956)scale(0.1 -0.1)\">\n       <use xlink:href=\"#DejaVuSans-50\"/>\n      </g>\n     </g>\n    </g>\n    <g id=\"ytick_3\">\n     <g id=\"line2d_10\">\n      <g>\n       <use style=\"stroke:#000000;stroke-width:0.8;\" x=\"40.603125\" xlink:href=\"#m6178251cd4\" y=\"184.948307\"/>\n      </g>\n     </g>\n     <g id=\"text_11\">\n      <!-- 4 -->\n      <g transform=\"translate(27.240625 188.747526)scale(0.1 -0.1)\">\n       <use xlink:href=\"#DejaVuSans-52\"/>\n      </g>\n     </g>\n    </g>\n    <g id=\"ytick_4\">\n     <g id=\"line2d_11\">\n      <g>\n       <use style=\"stroke:#000000;stroke-width:0.8;\" x=\"40.603125\" xlink:href=\"#m6178251cd4\" y=\"133.329877\"/>\n      </g>\n     </g>\n     <g id=\"text_12\">\n      <!-- 6 -->\n      <g transform=\"translate(27.240625 137.129096)scale(0.1 -0.1)\">\n       <use xlink:href=\"#DejaVuSans-54\"/>\n      </g>\n     </g>\n    </g>\n    <g id=\"ytick_5\">\n     <g id=\"line2d_12\">\n      <g>\n       <use style=\"stroke:#000000;stroke-width:0.8;\" x=\"40.603125\" xlink:href=\"#m6178251cd4\" y=\"81.711447\"/>\n      </g>\n     </g>\n     <g id=\"text_13\">\n      <!-- 8 -->\n      <g transform=\"translate(27.240625 85.510666)scale(0.1 -0.1)\">\n       <use xlink:href=\"#DejaVuSans-56\"/>\n      </g>\n     </g>\n    </g>\n    <g id=\"ytick_6\">\n     <g id=\"line2d_13\">\n      <g>\n       <use style=\"stroke:#000000;stroke-width:0.8;\" x=\"40.603125\" xlink:href=\"#m6178251cd4\" y=\"30.093018\"/>\n      </g>\n     </g>\n     <g id=\"text_14\">\n      <!-- 10 -->\n      <g transform=\"translate(20.878125 33.892236)scale(0.1 -0.1)\">\n       <use xlink:href=\"#DejaVuSans-49\"/>\n       <use x=\"63.623047\" xlink:href=\"#DejaVuSans-48\"/>\n      </g>\n     </g>\n    </g>\n    <g id=\"text_15\">\n     <!-- Loss -->\n     <defs>\n      <path d=\"M 9.8125 72.90625 \nL 19.671875 72.90625 \nL 19.671875 8.296875 \nL 55.171875 8.296875 \nL 55.171875 0 \nL 9.8125 0 \nz\n\" id=\"DejaVuSans-76\"/>\n      <path d=\"M 44.28125 53.078125 \nL 44.28125 44.578125 \nQ 40.484375 46.53125 36.375 47.5 \nQ 32.28125 48.484375 27.875 48.484375 \nQ 21.1875 48.484375 17.84375 46.4375 \nQ 14.5 44.390625 14.5 40.28125 \nQ 14.5 37.15625 16.890625 35.375 \nQ 19.28125 33.59375 26.515625 31.984375 \nL 29.59375 31.296875 \nQ 39.15625 29.25 43.1875 25.515625 \nQ 47.21875 21.78125 47.21875 15.09375 \nQ 47.21875 7.46875 41.1875 3.015625 \nQ 35.15625 -1.421875 24.609375 -1.421875 \nQ 20.21875 -1.421875 15.453125 -0.5625 \nQ 10.6875 0.296875 5.421875 2 \nL 5.421875 11.28125 \nQ 10.40625 8.6875 15.234375 7.390625 \nQ 20.0625 6.109375 24.8125 6.109375 \nQ 31.15625 6.109375 34.5625 8.28125 \nQ 37.984375 10.453125 37.984375 14.40625 \nQ 37.984375 18.0625 35.515625 20.015625 \nQ 33.0625 21.96875 24.703125 23.78125 \nL 21.578125 24.515625 \nQ 13.234375 26.265625 9.515625 29.90625 \nQ 5.8125 33.546875 5.8125 39.890625 \nQ 5.8125 47.609375 11.28125 51.796875 \nQ 16.75 56 26.8125 56 \nQ 31.78125 56 36.171875 55.265625 \nQ 40.578125 54.546875 44.28125 53.078125 \nz\n\" id=\"DejaVuSans-115\"/>\n     </defs>\n     <g transform=\"translate(14.798437 169.185313)rotate(-90)scale(0.1 -0.1)\">\n      <use xlink:href=\"#DejaVuSans-76\"/>\n      <use x=\"53.962891\" xlink:href=\"#DejaVuSans-111\"/>\n      <use x=\"115.144531\" xlink:href=\"#DejaVuSans-115\"/>\n      <use x=\"167.244141\" xlink:href=\"#DejaVuSans-115\"/>\n     </g>\n    </g>\n   </g>\n   <g id=\"line2d_14\">\n    <path clip-path=\"url(#pd9e8affead)\" d=\"M 65.966761 154.709631 \nL 70.05767 141.133873 \nL 74.14858 161.6236 \nL 78.239489 237.454693 \nL 82.330398 247.945884 \nL 86.421307 250.897991 \nL 90.512216 249.970779 \nL 94.603125 253.017867 \nL 98.694034 252.689894 \nL 102.784943 253.17712 \nL 106.875852 253.473975 \nL 110.966761 251.818047 \nL 115.05767 251.993206 \nL 119.14858 247.215841 \nL 123.239489 249.437134 \nL 127.330398 249.067109 \nL 131.421307 246.550078 \nL 135.512216 243.67622 \nL 139.603125 245.693774 \nL 143.694034 246.488845 \nL 147.784943 244.554498 \nL 151.875852 246.544441 \nL 155.966761 250.042084 \nL 160.05767 251.389081 \nL 164.14858 251.859001 \nL 168.239489 253.671834 \nL 172.330398 263.417449 \nL 176.421307 266.352924 \nL 180.512216 266.803248 \nL 184.603125 267.234186 \nL 188.694034 267.688506 \nL 192.784943 268.133354 \nL 196.875852 268.617049 \nL 200.966761 269.088349 \nL 205.05767 269.577184 \nL 209.14858 269.985328 \nL 213.239489 270.116295 \nL 217.330398 269.932653 \nL 221.421307 270.683684 \nL 225.512216 271.197681 \nL 229.603125 271.974955 \nL 233.694034 272.976649 \nL 237.784943 274.078255 \nL 241.875852 274.029726 \nL 245.966761 274.933649 \nL 250.05767 277.329804 \nL 254.14858 276.474386 \nL 258.239489 224.948632 \nL 262.330398 200.800754 \nL 266.421307 148.890327 \nL 270.512216 86.225542 \nL 274.603125 73.50321 \nL 278.694034 65.691105 \nL 282.784943 59.839397 \nL 286.875852 56.927191 \nL 290.966761 56.951362 \nL 295.05767 55.015823 \nL 299.14858 51.125695 \nL 303.239489 52.126632 \nL 307.330398 51.167883 \nL 311.421307 51.190552 \nL 315.512216 49.248885 \nL 319.603125 46.341922 \nL 323.694034 42.442293 \nL 327.784943 42.450662 \nL 331.875852 40.501512 \nL 335.966761 39.529079 \nL 340.05767 39.535232 \nL 344.14858 39.539293 \nL 348.239489 39.542739 \nL 352.330398 39.543773 \nL 356.421307 39.544437 \nL 360.512216 39.545471 \nL 364.603125 38.566909 \nL 368.694034 38.567598 \nL 372.784943 38.568041 \nL 376.875852 38.568583 \nL 380.966761 38.569075 \nL 385.05767 38.569543 \nL 389.14858 38.569912 \nL 393.239489 38.570404 \nL 397.330398 38.57097 \nL 401.421307 38.571684 \nL 405.512216 38.572201 \nL 409.603125 38.572398 \nL 413.694034 38.573087 \nL 417.784943 38.573875 \nL 421.875852 38.574145 \nL 425.966761 38.574761 \nL 430.05767 38.575376 \nL 434.14858 38.575967 \nL 438.239489 38.576385 \nL 442.330398 38.576902 \nL 446.421307 38.57732 \nL 450.512216 38.577985 \nL 454.603125 38.578379 \nL 458.694034 38.578871 \nL 462.784943 37.60085 \nL 466.875852 37.60117 \nL 470.966761 37.602007 \nL 475.05767 36.623789 \nL 479.14858 36.624134 \nL 483.239489 36.624725 \nL 487.330398 36.625685 \nL 491.421307 36.6263 \nL 495.512216 36.626989 \nL 499.603125 36.627555 \nL 503.694034 36.628023 \nL 507.784943 35.649731 \nL 511.875852 35.650445 \nL 515.966761 35.65143 \nL 520.05767 34.67267 \nL 524.14858 34.67267 \nL 528.239489 34.672695 \nL 532.330398 34.672695 \nL 536.421307 34.67267 \nL 540.512216 34.672695 \nL 544.603125 34.672695 \nL 548.694034 34.672695 \nL 552.784943 34.67267 \nL 556.875852 34.67267 \nL 560.966761 34.67267 \nL 565.05767 34.67267 \nL 569.14858 34.672695 \nL 573.239489 34.67267 \n\" style=\"fill:none;stroke:#1f77b4;stroke-linecap:square;stroke-width:1.5;\"/>\n   </g>\n   <g id=\"line2d_15\">\n    <path clip-path=\"url(#pd9e8affead)\" d=\"M 65.966761 117.47527 \nL 70.05767 111.713427 \nL 74.14858 195.254372 \nL 78.239489 253.949503 \nL 82.330398 256.941866 \nL 86.421307 258.277347 \nL 90.512216 259.021618 \nL 94.603125 253.757096 \nL 98.694034 254.323088 \nL 102.784943 255.002088 \nL 106.875852 255.641456 \nL 110.966761 256.187407 \nL 115.05767 251.001245 \nL 119.14858 255.405751 \nL 123.239489 260.752904 \nL 127.330398 262.000515 \nL 131.421307 262.634477 \nL 135.512216 265.414613 \nL 139.603125 263.972124 \nL 143.694034 263.686781 \nL 147.784943 264.104368 \nL 151.875852 264.86635 \nL 155.966761 265.50836 \nL 160.05767 266.151948 \nL 164.14858 266.757195 \nL 168.239489 267.332333 \nL 172.330398 267.026796 \nL 176.421307 266.913485 \nL 180.512216 267.218825 \nL 184.603125 267.675934 \nL 188.694034 268.22443 \nL 192.784943 268.829654 \nL 196.875852 269.465117 \nL 200.966761 270.151474 \nL 205.05767 270.796516 \nL 209.14858 271.414828 \nL 213.239489 271.602479 \nL 217.330398 271.723936 \nL 221.421307 271.805053 \nL 225.512216 272.17146 \nL 229.603125 273.189995 \nL 233.694034 274.6611 \nL 237.784943 275.890389 \nL 241.875852 278.105124 \nL 245.966761 281.76358 \nL 250.05767 279.196841 \nL 254.14858 243.23361 \nL 258.239489 221.418558 \nL 262.330398 116.091593 \nL 266.421307 110.569916 \nL 270.512216 93.947636 \nL 274.603125 88.413444 \nL 278.694034 82.876605 \nL 282.784943 82.884912 \nL 286.875852 82.892924 \nL 290.966761 82.90181 \nL 295.05767 77.364171 \nL 299.14858 71.825942 \nL 303.239489 71.834163 \nL 307.330398 66.296476 \nL 311.421307 66.305681 \nL 315.512216 66.319883 \nL 319.603125 66.320966 \nL 323.694034 66.320966 \nL 327.784943 66.320966 \nL 331.875852 66.320966 \nL 335.966761 60.774344 \nL 340.05767 60.774344 \nL 344.14858 60.774344 \nL 348.239489 60.774344 \nL 352.330398 60.774344 \nL 356.421307 60.774344 \nL 360.512216 60.774344 \nL 364.603125 60.774344 \nL 368.694034 60.774344 \nL 372.784943 60.774344 \nL 376.875852 55.227746 \nL 380.966761 55.227746 \nL 385.05767 55.227746 \nL 389.14858 55.227746 \nL 393.239489 55.227746 \nL 397.330398 55.227746 \nL 401.421307 55.227746 \nL 405.512216 55.227746 \nL 409.603125 55.227746 \nL 413.694034 55.227746 \nL 417.784943 55.227746 \nL 421.875852 55.227746 \nL 425.966761 55.227746 \nL 430.05767 55.227746 \nL 434.14858 55.227746 \nL 438.239489 55.227746 \nL 442.330398 55.227746 \nL 446.421307 55.227746 \nL 450.512216 55.227746 \nL 454.603125 55.227746 \nL 458.694034 55.227746 \nL 462.784943 55.227746 \nL 466.875852 55.227746 \nL 470.966761 55.227746 \nL 475.05767 55.227746 \nL 479.14858 55.227746 \nL 483.239489 55.227746 \nL 487.330398 55.227746 \nL 491.421307 55.227746 \nL 495.512216 55.227746 \nL 499.603125 55.227746 \nL 503.694034 55.227746 \nL 507.784943 55.227746 \nL 511.875852 55.227746 \nL 515.966761 55.227746 \nL 520.05767 55.227746 \nL 524.14858 55.227746 \nL 528.239489 55.227746 \nL 532.330398 55.227746 \nL 536.421307 55.227746 \nL 540.512216 55.227746 \nL 544.603125 55.227746 \nL 548.694034 55.227746 \nL 552.784943 55.227746 \nL 556.875852 55.227746 \nL 560.966761 55.227746 \nL 565.05767 55.227746 \nL 569.14858 55.227746 \nL 573.239489 55.227746 \n\" style=\"fill:none;stroke:#ff7f0e;stroke-linecap:square;stroke-width:1.5;\"/>\n   </g>\n   <g id=\"patch_3\">\n    <path d=\"M 40.603125 294.118125 \nL 40.603125 22.318125 \n\" style=\"fill:none;stroke:#000000;stroke-linecap:square;stroke-linejoin:miter;stroke-width:0.8;\"/>\n   </g>\n   <g id=\"patch_4\">\n    <path d=\"M 598.603125 294.118125 \nL 598.603125 22.318125 \n\" style=\"fill:none;stroke:#000000;stroke-linecap:square;stroke-linejoin:miter;stroke-width:0.8;\"/>\n   </g>\n   <g id=\"patch_5\">\n    <path d=\"M 40.603125 294.118125 \nL 598.603125 294.118125 \n\" style=\"fill:none;stroke:#000000;stroke-linecap:square;stroke-linejoin:miter;stroke-width:0.8;\"/>\n   </g>\n   <g id=\"patch_6\">\n    <path d=\"M 40.603125 22.318125 \nL 598.603125 22.318125 \n\" style=\"fill:none;stroke:#000000;stroke-linecap:square;stroke-linejoin:miter;stroke-width:0.8;\"/>\n   </g>\n   <g id=\"text_16\">\n    <!-- Loss vs. epochs, batch=64 -->\n    <defs>\n     <path id=\"DejaVuSans-32\"/>\n     <path d=\"M 2.984375 54.6875 \nL 12.5 54.6875 \nL 29.59375 8.796875 \nL 46.6875 54.6875 \nL 56.203125 54.6875 \nL 35.6875 0 \nL 23.484375 0 \nz\n\" id=\"DejaVuSans-118\"/>\n     <path d=\"M 10.6875 12.40625 \nL 21 12.40625 \nL 21 0 \nL 10.6875 0 \nz\n\" id=\"DejaVuSans-46\"/>\n     <path d=\"M 56.203125 29.59375 \nL 56.203125 25.203125 \nL 14.890625 25.203125 \nQ 15.484375 15.921875 20.484375 11.0625 \nQ 25.484375 6.203125 34.421875 6.203125 \nQ 39.59375 6.203125 44.453125 7.46875 \nQ 49.3125 8.734375 54.109375 11.28125 \nL 54.109375 2.78125 \nQ 49.265625 0.734375 44.1875 -0.34375 \nQ 39.109375 -1.421875 33.890625 -1.421875 \nQ 20.796875 -1.421875 13.15625 6.1875 \nQ 5.515625 13.8125 5.515625 26.8125 \nQ 5.515625 40.234375 12.765625 48.109375 \nQ 20.015625 56 32.328125 56 \nQ 43.359375 56 49.78125 48.890625 \nQ 56.203125 41.796875 56.203125 29.59375 \nz\nM 47.21875 32.234375 \nQ 47.125 39.59375 43.09375 43.984375 \nQ 39.0625 48.390625 32.421875 48.390625 \nQ 24.90625 48.390625 20.390625 44.140625 \nQ 15.875 39.890625 15.1875 32.171875 \nz\n\" id=\"DejaVuSans-101\"/>\n     <path d=\"M 11.71875 12.40625 \nL 22.015625 12.40625 \nL 22.015625 4 \nL 14.015625 -11.625 \nL 7.71875 -11.625 \nL 11.71875 4 \nz\n\" id=\"DejaVuSans-44\"/>\n     <path d=\"M 48.6875 27.296875 \nQ 48.6875 37.203125 44.609375 42.84375 \nQ 40.53125 48.484375 33.40625 48.484375 \nQ 26.265625 48.484375 22.1875 42.84375 \nQ 18.109375 37.203125 18.109375 27.296875 \nQ 18.109375 17.390625 22.1875 11.75 \nQ 26.265625 6.109375 33.40625 6.109375 \nQ 40.53125 6.109375 44.609375 11.75 \nQ 48.6875 17.390625 48.6875 27.296875 \nz\nM 18.109375 46.390625 \nQ 20.953125 51.265625 25.265625 53.625 \nQ 29.59375 56 35.59375 56 \nQ 45.5625 56 51.78125 48.09375 \nQ 58.015625 40.1875 58.015625 27.296875 \nQ 58.015625 14.40625 51.78125 6.484375 \nQ 45.5625 -1.421875 35.59375 -1.421875 \nQ 29.59375 -1.421875 25.265625 0.953125 \nQ 20.953125 3.328125 18.109375 8.203125 \nL 18.109375 0 \nL 9.078125 0 \nL 9.078125 75.984375 \nL 18.109375 75.984375 \nz\n\" id=\"DejaVuSans-98\"/>\n     <path d=\"M 34.28125 27.484375 \nQ 23.390625 27.484375 19.1875 25 \nQ 14.984375 22.515625 14.984375 16.5 \nQ 14.984375 11.71875 18.140625 8.90625 \nQ 21.296875 6.109375 26.703125 6.109375 \nQ 34.1875 6.109375 38.703125 11.40625 \nQ 43.21875 16.703125 43.21875 25.484375 \nL 43.21875 27.484375 \nz\nM 52.203125 31.203125 \nL 52.203125 0 \nL 43.21875 0 \nL 43.21875 8.296875 \nQ 40.140625 3.328125 35.546875 0.953125 \nQ 30.953125 -1.421875 24.3125 -1.421875 \nQ 15.921875 -1.421875 10.953125 3.296875 \nQ 6 8.015625 6 15.921875 \nQ 6 25.140625 12.171875 29.828125 \nQ 18.359375 34.515625 30.609375 34.515625 \nL 43.21875 34.515625 \nL 43.21875 35.40625 \nQ 43.21875 41.609375 39.140625 45 \nQ 35.0625 48.390625 27.6875 48.390625 \nQ 23 48.390625 18.546875 47.265625 \nQ 14.109375 46.140625 10.015625 43.890625 \nL 10.015625 52.203125 \nQ 14.9375 54.109375 19.578125 55.046875 \nQ 24.21875 56 28.609375 56 \nQ 40.484375 56 46.34375 49.84375 \nQ 52.203125 43.703125 52.203125 31.203125 \nz\n\" id=\"DejaVuSans-97\"/>\n     <path d=\"M 18.3125 70.21875 \nL 18.3125 54.6875 \nL 36.8125 54.6875 \nL 36.8125 47.703125 \nL 18.3125 47.703125 \nL 18.3125 18.015625 \nQ 18.3125 11.328125 20.140625 9.421875 \nQ 21.96875 7.515625 27.59375 7.515625 \nL 36.8125 7.515625 \nL 36.8125 0 \nL 27.59375 0 \nQ 17.1875 0 13.234375 3.875 \nQ 9.28125 7.765625 9.28125 18.015625 \nL 9.28125 47.703125 \nL 2.6875 47.703125 \nL 2.6875 54.6875 \nL 9.28125 54.6875 \nL 9.28125 70.21875 \nz\n\" id=\"DejaVuSans-116\"/>\n     <path d=\"M 10.59375 45.40625 \nL 73.1875 45.40625 \nL 73.1875 37.203125 \nL 10.59375 37.203125 \nz\nM 10.59375 25.484375 \nL 73.1875 25.484375 \nL 73.1875 17.1875 \nL 10.59375 17.1875 \nz\n\" id=\"DejaVuSans-61\"/>\n    </defs>\n    <g transform=\"translate(239.229375 16.318125)scale(0.12 -0.12)\">\n     <use xlink:href=\"#DejaVuSans-76\"/>\n     <use x=\"53.962891\" xlink:href=\"#DejaVuSans-111\"/>\n     <use x=\"115.144531\" xlink:href=\"#DejaVuSans-115\"/>\n     <use x=\"167.244141\" xlink:href=\"#DejaVuSans-115\"/>\n     <use x=\"219.34375\" xlink:href=\"#DejaVuSans-32\"/>\n     <use x=\"251.130859\" xlink:href=\"#DejaVuSans-118\"/>\n     <use x=\"310.310547\" xlink:href=\"#DejaVuSans-115\"/>\n     <use x=\"362.410156\" xlink:href=\"#DejaVuSans-46\"/>\n     <use x=\"394.197266\" xlink:href=\"#DejaVuSans-32\"/>\n     <use x=\"425.984375\" xlink:href=\"#DejaVuSans-101\"/>\n     <use x=\"487.507812\" xlink:href=\"#DejaVuSans-112\"/>\n     <use x=\"550.984375\" xlink:href=\"#DejaVuSans-111\"/>\n     <use x=\"612.166016\" xlink:href=\"#DejaVuSans-99\"/>\n     <use x=\"667.146484\" xlink:href=\"#DejaVuSans-104\"/>\n     <use x=\"730.525391\" xlink:href=\"#DejaVuSans-115\"/>\n     <use x=\"782.625\" xlink:href=\"#DejaVuSans-44\"/>\n     <use x=\"814.412109\" xlink:href=\"#DejaVuSans-32\"/>\n     <use x=\"846.199219\" xlink:href=\"#DejaVuSans-98\"/>\n     <use x=\"909.675781\" xlink:href=\"#DejaVuSans-97\"/>\n     <use x=\"970.955078\" xlink:href=\"#DejaVuSans-116\"/>\n     <use x=\"1010.164062\" xlink:href=\"#DejaVuSans-99\"/>\n     <use x=\"1065.144531\" xlink:href=\"#DejaVuSans-104\"/>\n     <use x=\"1128.523438\" xlink:href=\"#DejaVuSans-61\"/>\n     <use x=\"1212.3125\" xlink:href=\"#DejaVuSans-54\"/>\n     <use x=\"1275.935547\" xlink:href=\"#DejaVuSans-52\"/>\n    </g>\n   </g>\n   <g id=\"legend_1\">\n    <g id=\"patch_7\">\n     <path d=\"M 510.221875 59.674375 \nL 591.603125 59.674375 \nQ 593.603125 59.674375 593.603125 57.674375 \nL 593.603125 29.318125 \nQ 593.603125 27.318125 591.603125 27.318125 \nL 510.221875 27.318125 \nQ 508.221875 27.318125 508.221875 29.318125 \nL 508.221875 57.674375 \nQ 508.221875 59.674375 510.221875 59.674375 \nz\n\" style=\"fill:#ffffff;opacity:0.8;stroke:#cccccc;stroke-linejoin:miter;\"/>\n    </g>\n    <g id=\"line2d_16\">\n     <path d=\"M 512.221875 35.416562 \nL 532.221875 35.416562 \n\" style=\"fill:none;stroke:#1f77b4;stroke-linecap:square;stroke-width:1.5;\"/>\n    </g>\n    <g id=\"line2d_17\"/>\n    <g id=\"text_17\">\n     <!-- Training -->\n     <defs>\n      <path d=\"M -0.296875 72.90625 \nL 61.375 72.90625 \nL 61.375 64.59375 \nL 35.5 64.59375 \nL 35.5 0 \nL 25.59375 0 \nL 25.59375 64.59375 \nL -0.296875 64.59375 \nz\n\" id=\"DejaVuSans-84\"/>\n      <path d=\"M 41.109375 46.296875 \nQ 39.59375 47.171875 37.8125 47.578125 \nQ 36.03125 48 33.890625 48 \nQ 26.265625 48 22.1875 43.046875 \nQ 18.109375 38.09375 18.109375 28.8125 \nL 18.109375 0 \nL 9.078125 0 \nL 9.078125 54.6875 \nL 18.109375 54.6875 \nL 18.109375 46.1875 \nQ 20.953125 51.171875 25.484375 53.578125 \nQ 30.03125 56 36.53125 56 \nQ 37.453125 56 38.578125 55.875 \nQ 39.703125 55.765625 41.0625 55.515625 \nz\n\" id=\"DejaVuSans-114\"/>\n      <path d=\"M 9.421875 54.6875 \nL 18.40625 54.6875 \nL 18.40625 0 \nL 9.421875 0 \nz\nM 9.421875 75.984375 \nL 18.40625 75.984375 \nL 18.40625 64.59375 \nL 9.421875 64.59375 \nz\n\" id=\"DejaVuSans-105\"/>\n      <path d=\"M 54.890625 33.015625 \nL 54.890625 0 \nL 45.90625 0 \nL 45.90625 32.71875 \nQ 45.90625 40.484375 42.875 44.328125 \nQ 39.84375 48.1875 33.796875 48.1875 \nQ 26.515625 48.1875 22.3125 43.546875 \nQ 18.109375 38.921875 18.109375 30.90625 \nL 18.109375 0 \nL 9.078125 0 \nL 9.078125 54.6875 \nL 18.109375 54.6875 \nL 18.109375 46.1875 \nQ 21.34375 51.125 25.703125 53.5625 \nQ 30.078125 56 35.796875 56 \nQ 45.21875 56 50.046875 50.171875 \nQ 54.890625 44.34375 54.890625 33.015625 \nz\n\" id=\"DejaVuSans-110\"/>\n      <path d=\"M 45.40625 27.984375 \nQ 45.40625 37.75 41.375 43.109375 \nQ 37.359375 48.484375 30.078125 48.484375 \nQ 22.859375 48.484375 18.828125 43.109375 \nQ 14.796875 37.75 14.796875 27.984375 \nQ 14.796875 18.265625 18.828125 12.890625 \nQ 22.859375 7.515625 30.078125 7.515625 \nQ 37.359375 7.515625 41.375 12.890625 \nQ 45.40625 18.265625 45.40625 27.984375 \nz\nM 54.390625 6.78125 \nQ 54.390625 -7.171875 48.1875 -13.984375 \nQ 42 -20.796875 29.203125 -20.796875 \nQ 24.46875 -20.796875 20.265625 -20.09375 \nQ 16.0625 -19.390625 12.109375 -17.921875 \nL 12.109375 -9.1875 \nQ 16.0625 -11.328125 19.921875 -12.34375 \nQ 23.78125 -13.375 27.78125 -13.375 \nQ 36.625 -13.375 41.015625 -8.765625 \nQ 45.40625 -4.15625 45.40625 5.171875 \nL 45.40625 9.625 \nQ 42.625 4.78125 38.28125 2.390625 \nQ 33.9375 0 27.875 0 \nQ 17.828125 0 11.671875 7.65625 \nQ 5.515625 15.328125 5.515625 27.984375 \nQ 5.515625 40.671875 11.671875 48.328125 \nQ 17.828125 56 27.875 56 \nQ 33.9375 56 38.28125 53.609375 \nQ 42.625 51.21875 45.40625 46.390625 \nL 45.40625 54.6875 \nL 54.390625 54.6875 \nz\n\" id=\"DejaVuSans-103\"/>\n     </defs>\n     <g transform=\"translate(540.221875 38.916562)scale(0.1 -0.1)\">\n      <use xlink:href=\"#DejaVuSans-84\"/>\n      <use x=\"46.333984\" xlink:href=\"#DejaVuSans-114\"/>\n      <use x=\"87.447266\" xlink:href=\"#DejaVuSans-97\"/>\n      <use x=\"148.726562\" xlink:href=\"#DejaVuSans-105\"/>\n      <use x=\"176.509766\" xlink:href=\"#DejaVuSans-110\"/>\n      <use x=\"239.888672\" xlink:href=\"#DejaVuSans-105\"/>\n      <use x=\"267.671875\" xlink:href=\"#DejaVuSans-110\"/>\n      <use x=\"331.050781\" xlink:href=\"#DejaVuSans-103\"/>\n     </g>\n    </g>\n    <g id=\"line2d_18\">\n     <path d=\"M 512.221875 50.094688 \nL 532.221875 50.094688 \n\" style=\"fill:none;stroke:#ff7f0e;stroke-linecap:square;stroke-width:1.5;\"/>\n    </g>\n    <g id=\"line2d_19\"/>\n    <g id=\"text_18\">\n     <!-- Validation -->\n     <defs>\n      <path d=\"M 28.609375 0 \nL 0.78125 72.90625 \nL 11.078125 72.90625 \nL 34.1875 11.53125 \nL 57.328125 72.90625 \nL 67.578125 72.90625 \nL 39.796875 0 \nz\n\" id=\"DejaVuSans-86\"/>\n      <path d=\"M 9.421875 75.984375 \nL 18.40625 75.984375 \nL 18.40625 0 \nL 9.421875 0 \nz\n\" id=\"DejaVuSans-108\"/>\n      <path d=\"M 45.40625 46.390625 \nL 45.40625 75.984375 \nL 54.390625 75.984375 \nL 54.390625 0 \nL 45.40625 0 \nL 45.40625 8.203125 \nQ 42.578125 3.328125 38.25 0.953125 \nQ 33.9375 -1.421875 27.875 -1.421875 \nQ 17.96875 -1.421875 11.734375 6.484375 \nQ 5.515625 14.40625 5.515625 27.296875 \nQ 5.515625 40.1875 11.734375 48.09375 \nQ 17.96875 56 27.875 56 \nQ 33.9375 56 38.25 53.625 \nQ 42.578125 51.265625 45.40625 46.390625 \nz\nM 14.796875 27.296875 \nQ 14.796875 17.390625 18.875 11.75 \nQ 22.953125 6.109375 30.078125 6.109375 \nQ 37.203125 6.109375 41.296875 11.75 \nQ 45.40625 17.390625 45.40625 27.296875 \nQ 45.40625 37.203125 41.296875 42.84375 \nQ 37.203125 48.484375 30.078125 48.484375 \nQ 22.953125 48.484375 18.875 42.84375 \nQ 14.796875 37.203125 14.796875 27.296875 \nz\n\" id=\"DejaVuSans-100\"/>\n     </defs>\n     <g transform=\"translate(540.221875 53.594688)scale(0.1 -0.1)\">\n      <use xlink:href=\"#DejaVuSans-86\"/>\n      <use x=\"60.658203\" xlink:href=\"#DejaVuSans-97\"/>\n      <use x=\"121.9375\" xlink:href=\"#DejaVuSans-108\"/>\n      <use x=\"149.720703\" xlink:href=\"#DejaVuSans-105\"/>\n      <use x=\"177.503906\" xlink:href=\"#DejaVuSans-100\"/>\n      <use x=\"240.980469\" xlink:href=\"#DejaVuSans-97\"/>\n      <use x=\"302.259766\" xlink:href=\"#DejaVuSans-116\"/>\n      <use x=\"341.46875\" xlink:href=\"#DejaVuSans-105\"/>\n      <use x=\"369.251953\" xlink:href=\"#DejaVuSans-111\"/>\n      <use x=\"430.433594\" xlink:href=\"#DejaVuSans-110\"/>\n     </g>\n    </g>\n   </g>\n  </g>\n </g>\n <defs>\n  <clipPath id=\"pd9e8affead\">\n   <rect height=\"271.8\" width=\"558\" x=\"40.603125\" y=\"22.318125\"/>\n  </clipPath>\n </defs>\n</svg>\n"
          },
          "metadata": {
            "needs_background": "light"
          }
        }
      ],
      "source": [
        "#@title\n",
        "plt.figure(figsize=(10,5))\n",
        "plt.plot(history.history['loss'])\n",
        "plt.plot(history.history['val_loss'])\n",
        "plt.title('Loss vs. epochs, batch=' +str(batch_size))\n",
        "plt.ylabel('Loss')\n",
        "plt.xlabel('Epoch')\n",
        "plt.legend(['Training', 'Validation'], loc='upper right')\n",
        "plt.show()"
      ]
    },
    {
      "cell_type": "markdown",
      "id": "1c665798-8db4-4b7f-a242-b34f3d0d317d",
      "metadata": {
        "id": "1c665798-8db4-4b7f-a242-b34f3d0d317d"
      },
      "source": [
        "10. **What effect does changing learning rate have on learning?**\n",
        "\n",
        "**Answer:** It can be seen that for an optimal value of the learning rate, the cost function value is minimized in a few iterations (less time). If the learning rate used is lower than the optimal value, the number of iterations/epochs required to minimize the cost function is high (takes longer time).If the learning rate is high, the cost function could saturate at a value higher than the minimum value. If the learning rate selected is very high, the cost function could continue to increase with iterations/epochs. "
      ]
    },
    {
      "cell_type": "code",
      "execution_count": 208,
      "id": "d412834b-4486-446d-94c7-9d0c06a4419c",
      "metadata": {
        "id": "d412834b-4486-446d-94c7-9d0c06a4419c"
      },
      "outputs": [],
      "source": [
        "#@title\n"
      ]
    }
  ],
  "metadata": {
    "kernelspec": {
      "display_name": "Python 3.9.12 ('base')",
      "language": "python",
      "name": "python3"
    },
    "language_info": {
      "codemirror_mode": {
        "name": "ipython",
        "version": 3
      },
      "file_extension": ".py",
      "mimetype": "text/x-python",
      "name": "python",
      "nbconvert_exporter": "python",
      "pygments_lexer": "ipython3",
      "version": "3.9.12"
    },
    "vscode": {
      "interpreter": {
        "hash": "c3526970a26b97d45d517bead130ae90e196651cacdb84dfc4efb7226ef8ec6e"
      }
    },
    "colab": {
      "provenance": [],
      "include_colab_link": true
    },
    "accelerator": "GPU"
  },
  "nbformat": 4,
  "nbformat_minor": 5
}